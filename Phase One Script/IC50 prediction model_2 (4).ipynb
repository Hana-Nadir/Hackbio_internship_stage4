{
 "cells": [
  {
   "cell_type": "code",
   "execution_count": 2,
   "metadata": {},
   "outputs": [],
   "source": []
  },
  {
   "cell_type": "code",
   "execution_count": 1,
   "metadata": {
    "colab": {
     "base_uri": "https://localhost:8080/",
     "height": 704
    },
    "id": "xTfN8mjqZPaq",
    "outputId": "c9bfc7fd-36fe-4791-a234-6d07f88adc55"
   },
   "outputs": [
    {
     "name": "stdout",
     "output_type": "stream",
     "text": [
      "Current working directory: /home/bosibori/sept_hackbio_internship/Stage4\n"
     ]
    },
    {
     "data": {
      "text/html": [
       "<div>\n",
       "<style scoped>\n",
       "    .dataframe tbody tr th:only-of-type {\n",
       "        vertical-align: middle;\n",
       "    }\n",
       "\n",
       "    .dataframe tbody tr th {\n",
       "        vertical-align: top;\n",
       "    }\n",
       "\n",
       "    .dataframe thead th {\n",
       "        text-align: right;\n",
       "    }\n",
       "</style>\n",
       "<table border=\"1\" class=\"dataframe\">\n",
       "  <thead>\n",
       "    <tr style=\"text-align: right;\">\n",
       "      <th></th>\n",
       "      <th>DATASET</th>\n",
       "      <th>NLME_RESULT_ID</th>\n",
       "      <th>NLME_CURVE_ID</th>\n",
       "      <th>COSMIC_ID</th>\n",
       "      <th>CELL_LINE_NAME</th>\n",
       "      <th>SANGER_MODEL_ID</th>\n",
       "      <th>TCGA_DESC</th>\n",
       "      <th>DRUG_ID</th>\n",
       "      <th>DRUG_NAME</th>\n",
       "      <th>PUTATIVE_TARGET</th>\n",
       "      <th>PATHWAY_NAME</th>\n",
       "      <th>COMPANY_ID</th>\n",
       "      <th>WEBRELEASE</th>\n",
       "      <th>MIN_CONC</th>\n",
       "      <th>MAX_CONC</th>\n",
       "      <th>LN_IC50</th>\n",
       "      <th>AUC</th>\n",
       "      <th>RMSE</th>\n",
       "      <th>Z_SCORE</th>\n",
       "    </tr>\n",
       "  </thead>\n",
       "  <tbody>\n",
       "    <tr>\n",
       "      <th>0</th>\n",
       "      <td>GDSC1</td>\n",
       "      <td>342</td>\n",
       "      <td>15580432</td>\n",
       "      <td>684057</td>\n",
       "      <td>ES5</td>\n",
       "      <td>SIDM00263</td>\n",
       "      <td>UNCLASSIFIED</td>\n",
       "      <td>1</td>\n",
       "      <td>Erlotinib</td>\n",
       "      <td>EGFR</td>\n",
       "      <td>EGFR signaling</td>\n",
       "      <td>1045</td>\n",
       "      <td>Y</td>\n",
       "      <td>0.007813</td>\n",
       "      <td>2.0</td>\n",
       "      <td>3.966813</td>\n",
       "      <td>0.985678</td>\n",
       "      <td>0.026081</td>\n",
       "      <td>1.299144</td>\n",
       "    </tr>\n",
       "    <tr>\n",
       "      <th>1</th>\n",
       "      <td>GDSC1</td>\n",
       "      <td>342</td>\n",
       "      <td>15580806</td>\n",
       "      <td>684059</td>\n",
       "      <td>ES7</td>\n",
       "      <td>SIDM00269</td>\n",
       "      <td>UNCLASSIFIED</td>\n",
       "      <td>1</td>\n",
       "      <td>Erlotinib</td>\n",
       "      <td>EGFR</td>\n",
       "      <td>EGFR signaling</td>\n",
       "      <td>1045</td>\n",
       "      <td>Y</td>\n",
       "      <td>0.007813</td>\n",
       "      <td>2.0</td>\n",
       "      <td>2.692090</td>\n",
       "      <td>0.972690</td>\n",
       "      <td>0.110059</td>\n",
       "      <td>0.156076</td>\n",
       "    </tr>\n",
       "    <tr>\n",
       "      <th>2</th>\n",
       "      <td>GDSC1</td>\n",
       "      <td>342</td>\n",
       "      <td>15581198</td>\n",
       "      <td>684062</td>\n",
       "      <td>EW-11</td>\n",
       "      <td>SIDM00203</td>\n",
       "      <td>UNCLASSIFIED</td>\n",
       "      <td>1</td>\n",
       "      <td>Erlotinib</td>\n",
       "      <td>EGFR</td>\n",
       "      <td>EGFR signaling</td>\n",
       "      <td>1045</td>\n",
       "      <td>Y</td>\n",
       "      <td>0.007813</td>\n",
       "      <td>2.0</td>\n",
       "      <td>2.477990</td>\n",
       "      <td>0.944459</td>\n",
       "      <td>0.087019</td>\n",
       "      <td>-0.035912</td>\n",
       "    </tr>\n",
       "    <tr>\n",
       "      <th>3</th>\n",
       "      <td>GDSC1</td>\n",
       "      <td>342</td>\n",
       "      <td>15581542</td>\n",
       "      <td>684072</td>\n",
       "      <td>SK-ES-1</td>\n",
       "      <td>SIDM01111</td>\n",
       "      <td>UNCLASSIFIED</td>\n",
       "      <td>1</td>\n",
       "      <td>Erlotinib</td>\n",
       "      <td>EGFR</td>\n",
       "      <td>EGFR signaling</td>\n",
       "      <td>1045</td>\n",
       "      <td>Y</td>\n",
       "      <td>0.007813</td>\n",
       "      <td>2.0</td>\n",
       "      <td>2.033564</td>\n",
       "      <td>0.950758</td>\n",
       "      <td>0.016290</td>\n",
       "      <td>-0.434437</td>\n",
       "    </tr>\n",
       "    <tr>\n",
       "      <th>4</th>\n",
       "      <td>GDSC1</td>\n",
       "      <td>342</td>\n",
       "      <td>15581930</td>\n",
       "      <td>687448</td>\n",
       "      <td>COLO-829</td>\n",
       "      <td>SIDM00909</td>\n",
       "      <td>SKCM</td>\n",
       "      <td>1</td>\n",
       "      <td>Erlotinib</td>\n",
       "      <td>EGFR</td>\n",
       "      <td>EGFR signaling</td>\n",
       "      <td>1045</td>\n",
       "      <td>Y</td>\n",
       "      <td>0.007813</td>\n",
       "      <td>2.0</td>\n",
       "      <td>2.966007</td>\n",
       "      <td>0.954778</td>\n",
       "      <td>0.180255</td>\n",
       "      <td>0.401702</td>\n",
       "    </tr>\n",
       "    <tr>\n",
       "      <th>...</th>\n",
       "      <td>...</td>\n",
       "      <td>...</td>\n",
       "      <td>...</td>\n",
       "      <td>...</td>\n",
       "      <td>...</td>\n",
       "      <td>...</td>\n",
       "      <td>...</td>\n",
       "      <td>...</td>\n",
       "      <td>...</td>\n",
       "      <td>...</td>\n",
       "      <td>...</td>\n",
       "      <td>...</td>\n",
       "      <td>...</td>\n",
       "      <td>...</td>\n",
       "      <td>...</td>\n",
       "      <td>...</td>\n",
       "      <td>...</td>\n",
       "      <td>...</td>\n",
       "      <td>...</td>\n",
       "    </tr>\n",
       "    <tr>\n",
       "      <th>333156</th>\n",
       "      <td>GDSC1</td>\n",
       "      <td>342</td>\n",
       "      <td>15911377</td>\n",
       "      <td>1659823</td>\n",
       "      <td>SNU-1040</td>\n",
       "      <td>SIDM00217</td>\n",
       "      <td>COREAD</td>\n",
       "      <td>1531</td>\n",
       "      <td>I-CBP112</td>\n",
       "      <td>EP300, CBP</td>\n",
       "      <td>Chromatin histone acetylation</td>\n",
       "      <td>1005</td>\n",
       "      <td>Y</td>\n",
       "      <td>0.039063</td>\n",
       "      <td>10.0</td>\n",
       "      <td>5.085294</td>\n",
       "      <td>0.972251</td>\n",
       "      <td>0.040661</td>\n",
       "      <td>0.860626</td>\n",
       "    </tr>\n",
       "    <tr>\n",
       "      <th>333157</th>\n",
       "      <td>GDSC1</td>\n",
       "      <td>342</td>\n",
       "      <td>15912122</td>\n",
       "      <td>1660035</td>\n",
       "      <td>SNU-61</td>\n",
       "      <td>SIDM00194</td>\n",
       "      <td>COREAD</td>\n",
       "      <td>1531</td>\n",
       "      <td>I-CBP112</td>\n",
       "      <td>EP300, CBP</td>\n",
       "      <td>Chromatin histone acetylation</td>\n",
       "      <td>1005</td>\n",
       "      <td>Y</td>\n",
       "      <td>0.039063</td>\n",
       "      <td>10.0</td>\n",
       "      <td>5.725399</td>\n",
       "      <td>0.976109</td>\n",
       "      <td>0.045453</td>\n",
       "      <td>1.785602</td>\n",
       "    </tr>\n",
       "    <tr>\n",
       "      <th>333158</th>\n",
       "      <td>GDSC1</td>\n",
       "      <td>342</td>\n",
       "      <td>15912431</td>\n",
       "      <td>1660036</td>\n",
       "      <td>SNU-81</td>\n",
       "      <td>SIDM00193</td>\n",
       "      <td>COREAD</td>\n",
       "      <td>1531</td>\n",
       "      <td>I-CBP112</td>\n",
       "      <td>EP300, CBP</td>\n",
       "      <td>Chromatin histone acetylation</td>\n",
       "      <td>1005</td>\n",
       "      <td>Y</td>\n",
       "      <td>0.039063</td>\n",
       "      <td>10.0</td>\n",
       "      <td>4.930753</td>\n",
       "      <td>0.970851</td>\n",
       "      <td>0.038612</td>\n",
       "      <td>0.637308</td>\n",
       "    </tr>\n",
       "    <tr>\n",
       "      <th>333159</th>\n",
       "      <td>GDSC1</td>\n",
       "      <td>342</td>\n",
       "      <td>15912739</td>\n",
       "      <td>1674021</td>\n",
       "      <td>SNU-C5</td>\n",
       "      <td>SIDM00498</td>\n",
       "      <td>COREAD</td>\n",
       "      <td>1531</td>\n",
       "      <td>I-CBP112</td>\n",
       "      <td>EP300, CBP</td>\n",
       "      <td>Chromatin histone acetylation</td>\n",
       "      <td>1005</td>\n",
       "      <td>Y</td>\n",
       "      <td>0.039063</td>\n",
       "      <td>10.0</td>\n",
       "      <td>4.551784</td>\n",
       "      <td>0.972330</td>\n",
       "      <td>0.042649</td>\n",
       "      <td>0.089683</td>\n",
       "    </tr>\n",
       "    <tr>\n",
       "      <th>333160</th>\n",
       "      <td>GDSC1</td>\n",
       "      <td>342</td>\n",
       "      <td>15913046</td>\n",
       "      <td>1789883</td>\n",
       "      <td>DiFi</td>\n",
       "      <td>SIDM00049</td>\n",
       "      <td>COREAD</td>\n",
       "      <td>1531</td>\n",
       "      <td>I-CBP112</td>\n",
       "      <td>EP300, CBP</td>\n",
       "      <td>Chromatin histone acetylation</td>\n",
       "      <td>1005</td>\n",
       "      <td>Y</td>\n",
       "      <td>0.039063</td>\n",
       "      <td>10.0</td>\n",
       "      <td>4.681069</td>\n",
       "      <td>0.980906</td>\n",
       "      <td>0.015312</td>\n",
       "      <td>0.276505</td>\n",
       "    </tr>\n",
       "  </tbody>\n",
       "</table>\n",
       "<p>333161 rows × 19 columns</p>\n",
       "</div>"
      ],
      "text/plain": [
       "       DATASET  NLME_RESULT_ID  NLME_CURVE_ID  COSMIC_ID CELL_LINE_NAME  \\\n",
       "0        GDSC1             342       15580432     684057            ES5   \n",
       "1        GDSC1             342       15580806     684059            ES7   \n",
       "2        GDSC1             342       15581198     684062          EW-11   \n",
       "3        GDSC1             342       15581542     684072        SK-ES-1   \n",
       "4        GDSC1             342       15581930     687448       COLO-829   \n",
       "...        ...             ...            ...        ...            ...   \n",
       "333156   GDSC1             342       15911377    1659823       SNU-1040   \n",
       "333157   GDSC1             342       15912122    1660035         SNU-61   \n",
       "333158   GDSC1             342       15912431    1660036         SNU-81   \n",
       "333159   GDSC1             342       15912739    1674021         SNU-C5   \n",
       "333160   GDSC1             342       15913046    1789883           DiFi   \n",
       "\n",
       "       SANGER_MODEL_ID     TCGA_DESC  DRUG_ID  DRUG_NAME PUTATIVE_TARGET  \\\n",
       "0            SIDM00263  UNCLASSIFIED        1  Erlotinib            EGFR   \n",
       "1            SIDM00269  UNCLASSIFIED        1  Erlotinib            EGFR   \n",
       "2            SIDM00203  UNCLASSIFIED        1  Erlotinib            EGFR   \n",
       "3            SIDM01111  UNCLASSIFIED        1  Erlotinib            EGFR   \n",
       "4            SIDM00909          SKCM        1  Erlotinib            EGFR   \n",
       "...                ...           ...      ...        ...             ...   \n",
       "333156       SIDM00217        COREAD     1531   I-CBP112      EP300, CBP   \n",
       "333157       SIDM00194        COREAD     1531   I-CBP112      EP300, CBP   \n",
       "333158       SIDM00193        COREAD     1531   I-CBP112      EP300, CBP   \n",
       "333159       SIDM00498        COREAD     1531   I-CBP112      EP300, CBP   \n",
       "333160       SIDM00049        COREAD     1531   I-CBP112      EP300, CBP   \n",
       "\n",
       "                         PATHWAY_NAME  COMPANY_ID WEBRELEASE  MIN_CONC  \\\n",
       "0                      EGFR signaling        1045          Y  0.007813   \n",
       "1                      EGFR signaling        1045          Y  0.007813   \n",
       "2                      EGFR signaling        1045          Y  0.007813   \n",
       "3                      EGFR signaling        1045          Y  0.007813   \n",
       "4                      EGFR signaling        1045          Y  0.007813   \n",
       "...                               ...         ...        ...       ...   \n",
       "333156  Chromatin histone acetylation        1005          Y  0.039063   \n",
       "333157  Chromatin histone acetylation        1005          Y  0.039063   \n",
       "333158  Chromatin histone acetylation        1005          Y  0.039063   \n",
       "333159  Chromatin histone acetylation        1005          Y  0.039063   \n",
       "333160  Chromatin histone acetylation        1005          Y  0.039063   \n",
       "\n",
       "        MAX_CONC   LN_IC50       AUC      RMSE   Z_SCORE  \n",
       "0            2.0  3.966813  0.985678  0.026081  1.299144  \n",
       "1            2.0  2.692090  0.972690  0.110059  0.156076  \n",
       "2            2.0  2.477990  0.944459  0.087019 -0.035912  \n",
       "3            2.0  2.033564  0.950758  0.016290 -0.434437  \n",
       "4            2.0  2.966007  0.954778  0.180255  0.401702  \n",
       "...          ...       ...       ...       ...       ...  \n",
       "333156      10.0  5.085294  0.972251  0.040661  0.860626  \n",
       "333157      10.0  5.725399  0.976109  0.045453  1.785602  \n",
       "333158      10.0  4.930753  0.970851  0.038612  0.637308  \n",
       "333159      10.0  4.551784  0.972330  0.042649  0.089683  \n",
       "333160      10.0  4.681069  0.980906  0.015312  0.276505  \n",
       "\n",
       "[333161 rows x 19 columns]"
      ]
     },
     "execution_count": 1,
     "metadata": {},
     "output_type": "execute_result"
    }
   ],
   "source": [
    "import pandas as pd\n",
    "import os\n",
    "\n",
    "# Specify the directory containing the Excel files\n",
    "directory = '/home/bosibori/sept_hackbio_internship/Stage4'\n",
    "\n",
    "# Change the current working directory\n",
    "os.chdir(directory)\n",
    "\n",
    "# Verify that the directory has been changed\n",
    "print(\"Current working directory:\", os.getcwd())\n",
    "\n",
    "# Read the CSV file\n",
    "df_dataset = pd.read_csv('GDSC1_Dataset.csv')\n",
    "\n",
    "# Display the dataset\n",
    "df_dataset\n"
   ]
  },
  {
   "cell_type": "code",
   "execution_count": 2,
   "metadata": {
    "colab": {
     "base_uri": "https://localhost:8080/"
    },
    "id": "n2-N_ABjd3y0",
    "outputId": "0673f2fb-bb57-4606-9bf2-57a472152f12"
   },
   "outputs": [
    {
     "name": "stdout",
     "output_type": "stream",
     "text": [
      "\n",
      "Result df_dataset :\n",
      "        DATASET  NLME_RESULT_ID  NLME_CURVE_ID  COSMIC_ID CELL_LINE_NAME  \\\n",
      "86       GDSC1             342       15646269     905955       SK-MEL-2   \n",
      "474      GDSC1             342       15646572     905955       SK-MEL-2   \n",
      "837      GDSC1             342       15646643     905955       SK-MEL-2   \n",
      "1234     GDSC1             342       15646658     905955       SK-MEL-2   \n",
      "1640     GDSC1             342       15646669     905955       SK-MEL-2   \n",
      "...        ...             ...            ...        ...            ...   \n",
      "329242   GDSC1             342       15646465     905955       SK-MEL-2   \n",
      "330105   GDSC1             342       15646466     905955       SK-MEL-2   \n",
      "330945   GDSC1             342       15646467     905955       SK-MEL-2   \n",
      "331660   GDSC1             342       15646469     905955       SK-MEL-2   \n",
      "332493   GDSC1             342       15646470     905955       SK-MEL-2   \n",
      "\n",
      "       SANGER_MODEL_ID TCGA_DESC  DRUG_ID     DRUG_NAME  \\\n",
      "86           SIDM00082      SKCM        1     Erlotinib   \n",
      "474          SIDM00082      SKCM        3     Rapamycin   \n",
      "837          SIDM00082      SKCM        5     Sunitinib   \n",
      "1234         SIDM00082      SKCM        6    PHA-665752   \n",
      "1640         SIDM00082      SKCM        9        MG-132   \n",
      "...                ...       ...      ...           ...   \n",
      "329242       SIDM00082      SKCM     1526   Refametinib   \n",
      "330105       SIDM00082      SKCM     1527    Pictilisib   \n",
      "330945       SIDM00082      SKCM     1529  Pevonedistat   \n",
      "331660       SIDM00082      SKCM     1530         PFI-3   \n",
      "332493       SIDM00082      SKCM     1531      I-CBP112   \n",
      "\n",
      "                            PUTATIVE_TARGET  \\\n",
      "86                                     EGFR   \n",
      "474                                  MTORC1   \n",
      "837     PDGFR, KIT, VEGFR, FLT3, RET, CSF1R   \n",
      "1234                                    MET   \n",
      "1640                      Proteasome, CAPN1   \n",
      "...                                     ...   \n",
      "329242                           MEK1, MEK2   \n",
      "330105                       PI3K (class 1)   \n",
      "330945                                  NAE   \n",
      "331660                PB1, SMARCA4, SMARCA2   \n",
      "332493                           EP300, CBP   \n",
      "\n",
      "                             PATHWAY_NAME  COMPANY_ID WEBRELEASE  MIN_CONC  \\\n",
      "86                         EGFR signaling        1045          Y  0.007813   \n",
      "474                   PI3K/MTOR signaling        1045          Y  0.000391   \n",
      "837                         RTK signaling        1045          Y  0.031250   \n",
      "1234                        RTK signaling        1045          Y  0.007813   \n",
      "1640    Protein stability and degradation        1045          Y  0.003906   \n",
      "...                                   ...         ...        ...       ...   \n",
      "329242                 ERK MAPK signaling        1046          Y  0.019531   \n",
      "330105                PI3K/MTOR signaling        1046          Y  0.015625   \n",
      "330945                              Other        1046          Y  0.003906   \n",
      "331660                    Chromatin other        1025          Y  0.039063   \n",
      "332493      Chromatin histone acetylation        1005          Y  0.039063   \n",
      "\n",
      "        MAX_CONC   LN_IC50       AUC      RMSE   Z_SCORE  \n",
      "86           2.0  3.394001  0.985284  0.032859  0.785492  \n",
      "474          0.1 -1.113085  0.945620  0.135881  0.569712  \n",
      "837          8.0  4.013588  0.970974  0.068558  0.945589  \n",
      "1234         2.0  3.092390  0.980721  0.119597  0.396507  \n",
      "1640         1.0  2.369072  0.980196  0.070962  1.688235  \n",
      "...          ...       ...       ...       ...       ...  \n",
      "329242       5.0 -1.542607  0.441238  0.088111 -1.916767  \n",
      "330105       4.0  1.439194  0.872167  0.081591  0.455946  \n",
      "330945       1.0 -0.809756  0.782186  0.048353 -0.676150  \n",
      "331660      10.0  5.665698  0.991941  0.028880  1.827492  \n",
      "332493      10.0  5.864130  0.993283  0.021091  1.986073  \n",
      "\n",
      "[402 rows x 19 columns]\n"
     ]
    }
   ],
   "source": [
    "# filter the dataset to work on cell line havr more than 400 rows\n",
    "option = ['SK-MEL-2']\n",
    "df_filtered = df_dataset[df_dataset['CELL_LINE_NAME'].isin(option)]\n",
    "\n",
    "print('\\nResult df_dataset :\\n', df_filtered)"
   ]
  },
  {
   "cell_type": "code",
   "execution_count": 3,
   "metadata": {
    "colab": {
     "base_uri": "https://localhost:8080/"
    },
    "id": "OW0BoufYgk59",
    "outputId": "be8704fc-239b-4602-efb2-d30e44bc6ce1"
   },
   "outputs": [
    {
     "name": "stdout",
     "output_type": "stream",
     "text": [
      "CELL_LINE_NAME\n",
      "SK-MEL-2        402\n",
      "TGW             400\n",
      "MFM-223         400\n",
      "SNU-C1          398\n",
      "COLO-684        398\n",
      "               ... \n",
      "EW-12            41\n",
      "ECC12            32\n",
      "KP-N-RT-BM-1     25\n",
      "CP67-MEL         23\n",
      "NCI-H250          1\n",
      "Name: count, Length: 970, dtype: int64\n"
     ]
    }
   ],
   "source": [
    "\n",
    "value_counts = df_dataset['CELL_LINE_NAME'].value_counts()\n",
    "print(value_counts)"
   ]
  },
  {
   "cell_type": "code",
   "execution_count": 4,
   "metadata": {
    "colab": {
     "base_uri": "https://localhost:8080/",
     "height": 635
    },
    "id": "r2WzW6YsZpz-",
    "outputId": "9cd464ce-f899-4ef3-f541-5076da3d7f1d"
   },
   "outputs": [
    {
     "data": {
      "text/html": [
       "<div>\n",
       "<style scoped>\n",
       "    .dataframe tbody tr th:only-of-type {\n",
       "        vertical-align: middle;\n",
       "    }\n",
       "\n",
       "    .dataframe tbody tr th {\n",
       "        vertical-align: top;\n",
       "    }\n",
       "\n",
       "    .dataframe thead th {\n",
       "        text-align: right;\n",
       "    }\n",
       "</style>\n",
       "<table border=\"1\" class=\"dataframe\">\n",
       "  <thead>\n",
       "    <tr style=\"text-align: right;\">\n",
       "      <th></th>\n",
       "      <th>DATASET</th>\n",
       "      <th>NLME_RESULT_ID</th>\n",
       "      <th>NLME_CURVE_ID</th>\n",
       "      <th>COSMIC_ID</th>\n",
       "      <th>CELL_LINE_NAME</th>\n",
       "      <th>SANGER_MODEL_ID</th>\n",
       "      <th>TCGA_DESC</th>\n",
       "      <th>DRUG_ID</th>\n",
       "      <th>DRUG_NAME</th>\n",
       "      <th>PUTATIVE_TARGET</th>\n",
       "      <th>PATHWAY_NAME</th>\n",
       "      <th>COMPANY_ID</th>\n",
       "      <th>WEBRELEASE</th>\n",
       "      <th>MIN_CONC</th>\n",
       "      <th>MAX_CONC</th>\n",
       "      <th>LN_IC50</th>\n",
       "      <th>AUC</th>\n",
       "      <th>RMSE</th>\n",
       "      <th>Z_SCORE</th>\n",
       "    </tr>\n",
       "  </thead>\n",
       "  <tbody>\n",
       "    <tr>\n",
       "      <th>86</th>\n",
       "      <td>GDSC1</td>\n",
       "      <td>342</td>\n",
       "      <td>15646269</td>\n",
       "      <td>905955</td>\n",
       "      <td>SK-MEL-2</td>\n",
       "      <td>SIDM00082</td>\n",
       "      <td>SKCM</td>\n",
       "      <td>1</td>\n",
       "      <td>Erlotinib</td>\n",
       "      <td>EGFR</td>\n",
       "      <td>EGFR signaling</td>\n",
       "      <td>1045</td>\n",
       "      <td>Y</td>\n",
       "      <td>0.007813</td>\n",
       "      <td>2.0</td>\n",
       "      <td>3.394001</td>\n",
       "      <td>0.985284</td>\n",
       "      <td>0.032859</td>\n",
       "      <td>0.785492</td>\n",
       "    </tr>\n",
       "    <tr>\n",
       "      <th>474</th>\n",
       "      <td>GDSC1</td>\n",
       "      <td>342</td>\n",
       "      <td>15646572</td>\n",
       "      <td>905955</td>\n",
       "      <td>SK-MEL-2</td>\n",
       "      <td>SIDM00082</td>\n",
       "      <td>SKCM</td>\n",
       "      <td>3</td>\n",
       "      <td>Rapamycin</td>\n",
       "      <td>MTORC1</td>\n",
       "      <td>PI3K/MTOR signaling</td>\n",
       "      <td>1045</td>\n",
       "      <td>Y</td>\n",
       "      <td>0.000391</td>\n",
       "      <td>0.1</td>\n",
       "      <td>-1.113085</td>\n",
       "      <td>0.945620</td>\n",
       "      <td>0.135881</td>\n",
       "      <td>0.569712</td>\n",
       "    </tr>\n",
       "    <tr>\n",
       "      <th>837</th>\n",
       "      <td>GDSC1</td>\n",
       "      <td>342</td>\n",
       "      <td>15646643</td>\n",
       "      <td>905955</td>\n",
       "      <td>SK-MEL-2</td>\n",
       "      <td>SIDM00082</td>\n",
       "      <td>SKCM</td>\n",
       "      <td>5</td>\n",
       "      <td>Sunitinib</td>\n",
       "      <td>PDGFR, KIT, VEGFR, FLT3, RET, CSF1R</td>\n",
       "      <td>RTK signaling</td>\n",
       "      <td>1045</td>\n",
       "      <td>Y</td>\n",
       "      <td>0.031250</td>\n",
       "      <td>8.0</td>\n",
       "      <td>4.013588</td>\n",
       "      <td>0.970974</td>\n",
       "      <td>0.068558</td>\n",
       "      <td>0.945589</td>\n",
       "    </tr>\n",
       "    <tr>\n",
       "      <th>1234</th>\n",
       "      <td>GDSC1</td>\n",
       "      <td>342</td>\n",
       "      <td>15646658</td>\n",
       "      <td>905955</td>\n",
       "      <td>SK-MEL-2</td>\n",
       "      <td>SIDM00082</td>\n",
       "      <td>SKCM</td>\n",
       "      <td>6</td>\n",
       "      <td>PHA-665752</td>\n",
       "      <td>MET</td>\n",
       "      <td>RTK signaling</td>\n",
       "      <td>1045</td>\n",
       "      <td>Y</td>\n",
       "      <td>0.007813</td>\n",
       "      <td>2.0</td>\n",
       "      <td>3.092390</td>\n",
       "      <td>0.980721</td>\n",
       "      <td>0.119597</td>\n",
       "      <td>0.396507</td>\n",
       "    </tr>\n",
       "    <tr>\n",
       "      <th>1640</th>\n",
       "      <td>GDSC1</td>\n",
       "      <td>342</td>\n",
       "      <td>15646669</td>\n",
       "      <td>905955</td>\n",
       "      <td>SK-MEL-2</td>\n",
       "      <td>SIDM00082</td>\n",
       "      <td>SKCM</td>\n",
       "      <td>9</td>\n",
       "      <td>MG-132</td>\n",
       "      <td>Proteasome, CAPN1</td>\n",
       "      <td>Protein stability and degradation</td>\n",
       "      <td>1045</td>\n",
       "      <td>Y</td>\n",
       "      <td>0.003906</td>\n",
       "      <td>1.0</td>\n",
       "      <td>2.369072</td>\n",
       "      <td>0.980196</td>\n",
       "      <td>0.070962</td>\n",
       "      <td>1.688235</td>\n",
       "    </tr>\n",
       "    <tr>\n",
       "      <th>...</th>\n",
       "      <td>...</td>\n",
       "      <td>...</td>\n",
       "      <td>...</td>\n",
       "      <td>...</td>\n",
       "      <td>...</td>\n",
       "      <td>...</td>\n",
       "      <td>...</td>\n",
       "      <td>...</td>\n",
       "      <td>...</td>\n",
       "      <td>...</td>\n",
       "      <td>...</td>\n",
       "      <td>...</td>\n",
       "      <td>...</td>\n",
       "      <td>...</td>\n",
       "      <td>...</td>\n",
       "      <td>...</td>\n",
       "      <td>...</td>\n",
       "      <td>...</td>\n",
       "      <td>...</td>\n",
       "    </tr>\n",
       "    <tr>\n",
       "      <th>329242</th>\n",
       "      <td>GDSC1</td>\n",
       "      <td>342</td>\n",
       "      <td>15646465</td>\n",
       "      <td>905955</td>\n",
       "      <td>SK-MEL-2</td>\n",
       "      <td>SIDM00082</td>\n",
       "      <td>SKCM</td>\n",
       "      <td>1526</td>\n",
       "      <td>Refametinib</td>\n",
       "      <td>MEK1, MEK2</td>\n",
       "      <td>ERK MAPK signaling</td>\n",
       "      <td>1046</td>\n",
       "      <td>Y</td>\n",
       "      <td>0.019531</td>\n",
       "      <td>5.0</td>\n",
       "      <td>-1.542607</td>\n",
       "      <td>0.441238</td>\n",
       "      <td>0.088111</td>\n",
       "      <td>-1.916767</td>\n",
       "    </tr>\n",
       "    <tr>\n",
       "      <th>330105</th>\n",
       "      <td>GDSC1</td>\n",
       "      <td>342</td>\n",
       "      <td>15646466</td>\n",
       "      <td>905955</td>\n",
       "      <td>SK-MEL-2</td>\n",
       "      <td>SIDM00082</td>\n",
       "      <td>SKCM</td>\n",
       "      <td>1527</td>\n",
       "      <td>Pictilisib</td>\n",
       "      <td>PI3K (class 1)</td>\n",
       "      <td>PI3K/MTOR signaling</td>\n",
       "      <td>1046</td>\n",
       "      <td>Y</td>\n",
       "      <td>0.015625</td>\n",
       "      <td>4.0</td>\n",
       "      <td>1.439194</td>\n",
       "      <td>0.872167</td>\n",
       "      <td>0.081591</td>\n",
       "      <td>0.455946</td>\n",
       "    </tr>\n",
       "    <tr>\n",
       "      <th>330945</th>\n",
       "      <td>GDSC1</td>\n",
       "      <td>342</td>\n",
       "      <td>15646467</td>\n",
       "      <td>905955</td>\n",
       "      <td>SK-MEL-2</td>\n",
       "      <td>SIDM00082</td>\n",
       "      <td>SKCM</td>\n",
       "      <td>1529</td>\n",
       "      <td>Pevonedistat</td>\n",
       "      <td>NAE</td>\n",
       "      <td>Other</td>\n",
       "      <td>1046</td>\n",
       "      <td>Y</td>\n",
       "      <td>0.003906</td>\n",
       "      <td>1.0</td>\n",
       "      <td>-0.809756</td>\n",
       "      <td>0.782186</td>\n",
       "      <td>0.048353</td>\n",
       "      <td>-0.676150</td>\n",
       "    </tr>\n",
       "    <tr>\n",
       "      <th>331660</th>\n",
       "      <td>GDSC1</td>\n",
       "      <td>342</td>\n",
       "      <td>15646469</td>\n",
       "      <td>905955</td>\n",
       "      <td>SK-MEL-2</td>\n",
       "      <td>SIDM00082</td>\n",
       "      <td>SKCM</td>\n",
       "      <td>1530</td>\n",
       "      <td>PFI-3</td>\n",
       "      <td>PB1, SMARCA4, SMARCA2</td>\n",
       "      <td>Chromatin other</td>\n",
       "      <td>1025</td>\n",
       "      <td>Y</td>\n",
       "      <td>0.039063</td>\n",
       "      <td>10.0</td>\n",
       "      <td>5.665698</td>\n",
       "      <td>0.991941</td>\n",
       "      <td>0.028880</td>\n",
       "      <td>1.827492</td>\n",
       "    </tr>\n",
       "    <tr>\n",
       "      <th>332493</th>\n",
       "      <td>GDSC1</td>\n",
       "      <td>342</td>\n",
       "      <td>15646470</td>\n",
       "      <td>905955</td>\n",
       "      <td>SK-MEL-2</td>\n",
       "      <td>SIDM00082</td>\n",
       "      <td>SKCM</td>\n",
       "      <td>1531</td>\n",
       "      <td>I-CBP112</td>\n",
       "      <td>EP300, CBP</td>\n",
       "      <td>Chromatin histone acetylation</td>\n",
       "      <td>1005</td>\n",
       "      <td>Y</td>\n",
       "      <td>0.039063</td>\n",
       "      <td>10.0</td>\n",
       "      <td>5.864130</td>\n",
       "      <td>0.993283</td>\n",
       "      <td>0.021091</td>\n",
       "      <td>1.986073</td>\n",
       "    </tr>\n",
       "  </tbody>\n",
       "</table>\n",
       "<p>402 rows × 19 columns</p>\n",
       "</div>"
      ],
      "text/plain": [
       "       DATASET  NLME_RESULT_ID  NLME_CURVE_ID  COSMIC_ID CELL_LINE_NAME  \\\n",
       "86       GDSC1             342       15646269     905955       SK-MEL-2   \n",
       "474      GDSC1             342       15646572     905955       SK-MEL-2   \n",
       "837      GDSC1             342       15646643     905955       SK-MEL-2   \n",
       "1234     GDSC1             342       15646658     905955       SK-MEL-2   \n",
       "1640     GDSC1             342       15646669     905955       SK-MEL-2   \n",
       "...        ...             ...            ...        ...            ...   \n",
       "329242   GDSC1             342       15646465     905955       SK-MEL-2   \n",
       "330105   GDSC1             342       15646466     905955       SK-MEL-2   \n",
       "330945   GDSC1             342       15646467     905955       SK-MEL-2   \n",
       "331660   GDSC1             342       15646469     905955       SK-MEL-2   \n",
       "332493   GDSC1             342       15646470     905955       SK-MEL-2   \n",
       "\n",
       "       SANGER_MODEL_ID TCGA_DESC  DRUG_ID     DRUG_NAME  \\\n",
       "86           SIDM00082      SKCM        1     Erlotinib   \n",
       "474          SIDM00082      SKCM        3     Rapamycin   \n",
       "837          SIDM00082      SKCM        5     Sunitinib   \n",
       "1234         SIDM00082      SKCM        6    PHA-665752   \n",
       "1640         SIDM00082      SKCM        9        MG-132   \n",
       "...                ...       ...      ...           ...   \n",
       "329242       SIDM00082      SKCM     1526   Refametinib   \n",
       "330105       SIDM00082      SKCM     1527    Pictilisib   \n",
       "330945       SIDM00082      SKCM     1529  Pevonedistat   \n",
       "331660       SIDM00082      SKCM     1530         PFI-3   \n",
       "332493       SIDM00082      SKCM     1531      I-CBP112   \n",
       "\n",
       "                            PUTATIVE_TARGET  \\\n",
       "86                                     EGFR   \n",
       "474                                  MTORC1   \n",
       "837     PDGFR, KIT, VEGFR, FLT3, RET, CSF1R   \n",
       "1234                                    MET   \n",
       "1640                      Proteasome, CAPN1   \n",
       "...                                     ...   \n",
       "329242                           MEK1, MEK2   \n",
       "330105                       PI3K (class 1)   \n",
       "330945                                  NAE   \n",
       "331660                PB1, SMARCA4, SMARCA2   \n",
       "332493                           EP300, CBP   \n",
       "\n",
       "                             PATHWAY_NAME  COMPANY_ID WEBRELEASE  MIN_CONC  \\\n",
       "86                         EGFR signaling        1045          Y  0.007813   \n",
       "474                   PI3K/MTOR signaling        1045          Y  0.000391   \n",
       "837                         RTK signaling        1045          Y  0.031250   \n",
       "1234                        RTK signaling        1045          Y  0.007813   \n",
       "1640    Protein stability and degradation        1045          Y  0.003906   \n",
       "...                                   ...         ...        ...       ...   \n",
       "329242                 ERK MAPK signaling        1046          Y  0.019531   \n",
       "330105                PI3K/MTOR signaling        1046          Y  0.015625   \n",
       "330945                              Other        1046          Y  0.003906   \n",
       "331660                    Chromatin other        1025          Y  0.039063   \n",
       "332493      Chromatin histone acetylation        1005          Y  0.039063   \n",
       "\n",
       "        MAX_CONC   LN_IC50       AUC      RMSE   Z_SCORE  \n",
       "86           2.0  3.394001  0.985284  0.032859  0.785492  \n",
       "474          0.1 -1.113085  0.945620  0.135881  0.569712  \n",
       "837          8.0  4.013588  0.970974  0.068558  0.945589  \n",
       "1234         2.0  3.092390  0.980721  0.119597  0.396507  \n",
       "1640         1.0  2.369072  0.980196  0.070962  1.688235  \n",
       "...          ...       ...       ...       ...       ...  \n",
       "329242       5.0 -1.542607  0.441238  0.088111 -1.916767  \n",
       "330105       4.0  1.439194  0.872167  0.081591  0.455946  \n",
       "330945       1.0 -0.809756  0.782186  0.048353 -0.676150  \n",
       "331660      10.0  5.665698  0.991941  0.028880  1.827492  \n",
       "332493      10.0  5.864130  0.993283  0.021091  1.986073  \n",
       "\n",
       "[402 rows x 19 columns]"
      ]
     },
     "execution_count": 4,
     "metadata": {},
     "output_type": "execute_result"
    }
   ],
   "source": [
    "# making a dataframe that contain the selected cell line only\n",
    "df_filtered = df_dataset[df_dataset['CELL_LINE_NAME'] == 'SK-MEL-2']\n",
    "df_filtered"
   ]
  },
  {
   "cell_type": "code",
   "execution_count": 5,
   "metadata": {
    "colab": {
     "base_uri": "https://localhost:8080/",
     "height": 424
    },
    "id": "ykKlhrOpa8D-",
    "outputId": "d803c778-0fa9-4228-d47a-2d1681a228f5"
   },
   "outputs": [
    {
     "data": {
      "text/html": [
       "<div>\n",
       "<style scoped>\n",
       "    .dataframe tbody tr th:only-of-type {\n",
       "        vertical-align: middle;\n",
       "    }\n",
       "\n",
       "    .dataframe tbody tr th {\n",
       "        vertical-align: top;\n",
       "    }\n",
       "\n",
       "    .dataframe thead th {\n",
       "        text-align: right;\n",
       "    }\n",
       "</style>\n",
       "<table border=\"1\" class=\"dataframe\">\n",
       "  <thead>\n",
       "    <tr style=\"text-align: right;\">\n",
       "      <th></th>\n",
       "      <th>CELL_LINE_NAME</th>\n",
       "      <th>TCGA_DESC</th>\n",
       "      <th>DRUG_NAME</th>\n",
       "      <th>LN_IC50</th>\n",
       "    </tr>\n",
       "  </thead>\n",
       "  <tbody>\n",
       "    <tr>\n",
       "      <th>86</th>\n",
       "      <td>SK-MEL-2</td>\n",
       "      <td>SKCM</td>\n",
       "      <td>Erlotinib</td>\n",
       "      <td>3.394001</td>\n",
       "    </tr>\n",
       "    <tr>\n",
       "      <th>474</th>\n",
       "      <td>SK-MEL-2</td>\n",
       "      <td>SKCM</td>\n",
       "      <td>Rapamycin</td>\n",
       "      <td>-1.113085</td>\n",
       "    </tr>\n",
       "    <tr>\n",
       "      <th>837</th>\n",
       "      <td>SK-MEL-2</td>\n",
       "      <td>SKCM</td>\n",
       "      <td>Sunitinib</td>\n",
       "      <td>4.013588</td>\n",
       "    </tr>\n",
       "    <tr>\n",
       "      <th>1234</th>\n",
       "      <td>SK-MEL-2</td>\n",
       "      <td>SKCM</td>\n",
       "      <td>PHA-665752</td>\n",
       "      <td>3.092390</td>\n",
       "    </tr>\n",
       "    <tr>\n",
       "      <th>1640</th>\n",
       "      <td>SK-MEL-2</td>\n",
       "      <td>SKCM</td>\n",
       "      <td>MG-132</td>\n",
       "      <td>2.369072</td>\n",
       "    </tr>\n",
       "    <tr>\n",
       "      <th>...</th>\n",
       "      <td>...</td>\n",
       "      <td>...</td>\n",
       "      <td>...</td>\n",
       "      <td>...</td>\n",
       "    </tr>\n",
       "    <tr>\n",
       "      <th>329242</th>\n",
       "      <td>SK-MEL-2</td>\n",
       "      <td>SKCM</td>\n",
       "      <td>Refametinib</td>\n",
       "      <td>-1.542607</td>\n",
       "    </tr>\n",
       "    <tr>\n",
       "      <th>330105</th>\n",
       "      <td>SK-MEL-2</td>\n",
       "      <td>SKCM</td>\n",
       "      <td>Pictilisib</td>\n",
       "      <td>1.439194</td>\n",
       "    </tr>\n",
       "    <tr>\n",
       "      <th>330945</th>\n",
       "      <td>SK-MEL-2</td>\n",
       "      <td>SKCM</td>\n",
       "      <td>Pevonedistat</td>\n",
       "      <td>-0.809756</td>\n",
       "    </tr>\n",
       "    <tr>\n",
       "      <th>331660</th>\n",
       "      <td>SK-MEL-2</td>\n",
       "      <td>SKCM</td>\n",
       "      <td>PFI-3</td>\n",
       "      <td>5.665698</td>\n",
       "    </tr>\n",
       "    <tr>\n",
       "      <th>332493</th>\n",
       "      <td>SK-MEL-2</td>\n",
       "      <td>SKCM</td>\n",
       "      <td>I-CBP112</td>\n",
       "      <td>5.864130</td>\n",
       "    </tr>\n",
       "  </tbody>\n",
       "</table>\n",
       "<p>402 rows × 4 columns</p>\n",
       "</div>"
      ],
      "text/plain": [
       "       CELL_LINE_NAME TCGA_DESC     DRUG_NAME   LN_IC50\n",
       "86           SK-MEL-2      SKCM     Erlotinib  3.394001\n",
       "474          SK-MEL-2      SKCM     Rapamycin -1.113085\n",
       "837          SK-MEL-2      SKCM     Sunitinib  4.013588\n",
       "1234         SK-MEL-2      SKCM    PHA-665752  3.092390\n",
       "1640         SK-MEL-2      SKCM        MG-132  2.369072\n",
       "...               ...       ...           ...       ...\n",
       "329242       SK-MEL-2      SKCM   Refametinib -1.542607\n",
       "330105       SK-MEL-2      SKCM    Pictilisib  1.439194\n",
       "330945       SK-MEL-2      SKCM  Pevonedistat -0.809756\n",
       "331660       SK-MEL-2      SKCM         PFI-3  5.665698\n",
       "332493       SK-MEL-2      SKCM      I-CBP112  5.864130\n",
       "\n",
       "[402 rows x 4 columns]"
      ]
     },
     "execution_count": 5,
     "metadata": {},
     "output_type": "execute_result"
    }
   ],
   "source": [
    "# more filteration to keep the imprtant columns only\n",
    "columns_to_keep = ['CELL_LINE_NAME', 'TCGA_DESC', 'DRUG_NAME', 'LN_IC50']\n",
    "df_filtered_2 = df_filtered[columns_to_keep]\n",
    "df_filtered_2"
   ]
  },
  {
   "cell_type": "code",
   "execution_count": 6,
   "metadata": {
    "colab": {
     "base_uri": "https://localhost:8080/"
    },
    "id": "FtIhRJkvcOJa",
    "outputId": "2dbe6951-5d02-4ac0-c28f-cd7fa8c070ad"
   },
   "outputs": [
    {
     "name": "stdout",
     "output_type": "stream",
     "text": [
      "Requirement already satisfied: pubchempy in /home/bosibori/myenv/lib/python3.10/site-packages (1.0.4)\n"
     ]
    }
   ],
   "source": [
    "# generating smiles from the drug name\n",
    "!pip install pubchempy"
   ]
  },
  {
   "cell_type": "code",
   "execution_count": 8,
   "metadata": {
    "colab": {
     "base_uri": "https://localhost:8080/",
     "height": 444
    },
    "id": "Ef10TD2Eci8J",
    "outputId": "20592e6f-a3cd-4a23-a51b-091996922541"
   },
   "outputs": [
    {
     "name": "stdout",
     "output_type": "stream",
     "text": [
      "       DATASET  NLME_RESULT_ID  NLME_CURVE_ID  COSMIC_ID CELL_LINE_NAME  \\\n",
      "86       GDSC1             342       15646269     905955       SK-MEL-2   \n",
      "474      GDSC1             342       15646572     905955       SK-MEL-2   \n",
      "837      GDSC1             342       15646643     905955       SK-MEL-2   \n",
      "1234     GDSC1             342       15646658     905955       SK-MEL-2   \n",
      "1640     GDSC1             342       15646669     905955       SK-MEL-2   \n",
      "...        ...             ...            ...        ...            ...   \n",
      "329242   GDSC1             342       15646465     905955       SK-MEL-2   \n",
      "330105   GDSC1             342       15646466     905955       SK-MEL-2   \n",
      "330945   GDSC1             342       15646467     905955       SK-MEL-2   \n",
      "331660   GDSC1             342       15646469     905955       SK-MEL-2   \n",
      "332493   GDSC1             342       15646470     905955       SK-MEL-2   \n",
      "\n",
      "       SANGER_MODEL_ID TCGA_DESC  DRUG_ID     DRUG_NAME  \\\n",
      "86           SIDM00082      SKCM        1     Erlotinib   \n",
      "474          SIDM00082      SKCM        3     Rapamycin   \n",
      "837          SIDM00082      SKCM        5     Sunitinib   \n",
      "1234         SIDM00082      SKCM        6    PHA-665752   \n",
      "1640         SIDM00082      SKCM        9        MG-132   \n",
      "...                ...       ...      ...           ...   \n",
      "329242       SIDM00082      SKCM     1526   Refametinib   \n",
      "330105       SIDM00082      SKCM     1527    Pictilisib   \n",
      "330945       SIDM00082      SKCM     1529  Pevonedistat   \n",
      "331660       SIDM00082      SKCM     1530         PFI-3   \n",
      "332493       SIDM00082      SKCM     1531      I-CBP112   \n",
      "\n",
      "                            PUTATIVE_TARGET  \\\n",
      "86                                     EGFR   \n",
      "474                                  MTORC1   \n",
      "837     PDGFR, KIT, VEGFR, FLT3, RET, CSF1R   \n",
      "1234                                    MET   \n",
      "1640                      Proteasome, CAPN1   \n",
      "...                                     ...   \n",
      "329242                           MEK1, MEK2   \n",
      "330105                       PI3K (class 1)   \n",
      "330945                                  NAE   \n",
      "331660                PB1, SMARCA4, SMARCA2   \n",
      "332493                           EP300, CBP   \n",
      "\n",
      "                             PATHWAY_NAME  COMPANY_ID WEBRELEASE  MIN_CONC  \\\n",
      "86                         EGFR signaling        1045          Y  0.007813   \n",
      "474                   PI3K/MTOR signaling        1045          Y  0.000391   \n",
      "837                         RTK signaling        1045          Y  0.031250   \n",
      "1234                        RTK signaling        1045          Y  0.007813   \n",
      "1640    Protein stability and degradation        1045          Y  0.003906   \n",
      "...                                   ...         ...        ...       ...   \n",
      "329242                 ERK MAPK signaling        1046          Y  0.019531   \n",
      "330105                PI3K/MTOR signaling        1046          Y  0.015625   \n",
      "330945                              Other        1046          Y  0.003906   \n",
      "331660                    Chromatin other        1025          Y  0.039063   \n",
      "332493      Chromatin histone acetylation        1005          Y  0.039063   \n",
      "\n",
      "        MAX_CONC   LN_IC50       AUC      RMSE   Z_SCORE  \\\n",
      "86           2.0  3.394001  0.985284  0.032859  0.785492   \n",
      "474          0.1 -1.113085  0.945620  0.135881  0.569712   \n",
      "837          8.0  4.013588  0.970974  0.068558  0.945589   \n",
      "1234         2.0  3.092390  0.980721  0.119597  0.396507   \n",
      "1640         1.0  2.369072  0.980196  0.070962  1.688235   \n",
      "...          ...       ...       ...       ...       ...   \n",
      "329242       5.0 -1.542607  0.441238  0.088111 -1.916767   \n",
      "330105       4.0  1.439194  0.872167  0.081591  0.455946   \n",
      "330945       1.0 -0.809756  0.782186  0.048353 -0.676150   \n",
      "331660      10.0  5.665698  0.991941  0.028880  1.827492   \n",
      "332493      10.0  5.864130  0.993283  0.021091  1.986073   \n",
      "\n",
      "                                                   SMILES  \n",
      "86      COCCOC1=C(C=C2C(=C1)C(=NC=N2)NC3=CC=CC(=C3)C#C...  \n",
      "474     CC1CCC2CC(C(=CC=CC=CC(CC(C(=O)C(C(C(=CC(C(=O)C...  \n",
      "837     CCN(CC)CCNC(=O)C1=C(NC(=C1C)C=C2C3=C(C=CC(=C3)...  \n",
      "1234    CC1=C(NC(=C1C(=O)N2CCCC2CN3CCCC3)C)C=C4C5=C(C=...  \n",
      "1640    CC(C)CC(C=O)NC(=O)C(CC(C)C)NC(=O)C(CC(C)C)NC(=...  \n",
      "...                                                   ...  \n",
      "329242  COC1=CC(=C(C(=C1NS(=O)(=O)C2(CC2)CC(CO)O)NC3=C...  \n",
      "330105  CS(=O)(=O)N1CCN(CC1)CC2=CC3=C(S2)C(=NC(=N3)C4=...  \n",
      "330945  C1CC2=CC=CC=C2C1NC3=C4C=CN(C4=NC=N3)C5CC(C(C5)...  \n",
      "331660       C1C2CN(C1CN2C3=CC=CC=N3)C=CC(=O)C4=CC=CC=C4O  \n",
      "332493  CCC(=O)N1CCOC2=C(C1)C=C(C=C2OCC3CCCN(C3)C)C4=C...  \n",
      "\n",
      "[402 rows x 20 columns]\n"
     ]
    }
   ],
   "source": [
    "import pubchempy as pcp\n",
    "import pandas as pd\n",
    "\n",
    "def get_canonical_smiles(drug_name):\n",
    "    \"\"\"Retrieves the canonical SMILES for a drug name from PubChem.\n",
    "\n",
    "    Args:\n",
    "        drug_name: The name of the drug.\n",
    "\n",
    "    Returns:\n",
    "        The canonical SMILES string or None if not found.\n",
    "    \"\"\"\n",
    "    try:\n",
    "        compound = pcp.get_compounds(drug_name, 'name')[0]\n",
    "        return compound.canonical_smiles\n",
    "    except (IndexError, pcp.PubChemPyError):\n",
    "        return None\n",
    "\n",
    "# Assuming df_filtered is defined somewhere\n",
    "df_filtered_2 = df_filtered.copy()  # Ensure you're working with a copy\n",
    "df_filtered_2.loc[:, 'SMILES'] = df_filtered_2['DRUG_NAME'].apply(get_canonical_smiles)\n",
    "\n",
    "# Alternatively using assign\n",
    "# df_filtered_2 = df_filtered_2.assign(SMILES=df_filtered_2['DRUG_NAME'].apply(get_canonical_smiles))\n",
    "\n",
    "# Display the DataFrame with the new 'SMILES' column\n",
    "print(df_filtered_2)\n"
   ]
  },
  {
   "cell_type": "code",
   "execution_count": 9,
   "metadata": {
    "id": "27INbNayMRJW"
   },
   "outputs": [],
   "source": [
    "df_filtered_2 = df_filtered_2.dropna().drop_duplicates()\n"
   ]
  },
  {
   "cell_type": "code",
   "execution_count": 10,
   "metadata": {
    "colab": {
     "base_uri": "https://localhost:8080/",
     "height": 444
    },
    "id": "qOkNpxReRITv",
    "outputId": "3c3149fa-90a7-4691-9ddd-175413f28fd3"
   },
   "outputs": [
    {
     "data": {
      "text/html": [
       "<div>\n",
       "<style scoped>\n",
       "    .dataframe tbody tr th:only-of-type {\n",
       "        vertical-align: middle;\n",
       "    }\n",
       "\n",
       "    .dataframe tbody tr th {\n",
       "        vertical-align: top;\n",
       "    }\n",
       "\n",
       "    .dataframe thead th {\n",
       "        text-align: right;\n",
       "    }\n",
       "</style>\n",
       "<table border=\"1\" class=\"dataframe\">\n",
       "  <thead>\n",
       "    <tr style=\"text-align: right;\">\n",
       "      <th></th>\n",
       "      <th>DATASET</th>\n",
       "      <th>NLME_RESULT_ID</th>\n",
       "      <th>NLME_CURVE_ID</th>\n",
       "      <th>COSMIC_ID</th>\n",
       "      <th>CELL_LINE_NAME</th>\n",
       "      <th>SANGER_MODEL_ID</th>\n",
       "      <th>TCGA_DESC</th>\n",
       "      <th>DRUG_ID</th>\n",
       "      <th>DRUG_NAME</th>\n",
       "      <th>PUTATIVE_TARGET</th>\n",
       "      <th>PATHWAY_NAME</th>\n",
       "      <th>COMPANY_ID</th>\n",
       "      <th>WEBRELEASE</th>\n",
       "      <th>MIN_CONC</th>\n",
       "      <th>MAX_CONC</th>\n",
       "      <th>LN_IC50</th>\n",
       "      <th>AUC</th>\n",
       "      <th>RMSE</th>\n",
       "      <th>Z_SCORE</th>\n",
       "      <th>SMILES</th>\n",
       "    </tr>\n",
       "  </thead>\n",
       "  <tbody>\n",
       "    <tr>\n",
       "      <th>86</th>\n",
       "      <td>GDSC1</td>\n",
       "      <td>342</td>\n",
       "      <td>15646269</td>\n",
       "      <td>905955</td>\n",
       "      <td>SK-MEL-2</td>\n",
       "      <td>SIDM00082</td>\n",
       "      <td>SKCM</td>\n",
       "      <td>1</td>\n",
       "      <td>Erlotinib</td>\n",
       "      <td>EGFR</td>\n",
       "      <td>EGFR signaling</td>\n",
       "      <td>1045</td>\n",
       "      <td>Y</td>\n",
       "      <td>0.007813</td>\n",
       "      <td>2.0</td>\n",
       "      <td>3.394001</td>\n",
       "      <td>0.985284</td>\n",
       "      <td>0.032859</td>\n",
       "      <td>0.785492</td>\n",
       "      <td>COCCOC1=C(C=C2C(=C1)C(=NC=N2)NC3=CC=CC(=C3)C#C...</td>\n",
       "    </tr>\n",
       "    <tr>\n",
       "      <th>474</th>\n",
       "      <td>GDSC1</td>\n",
       "      <td>342</td>\n",
       "      <td>15646572</td>\n",
       "      <td>905955</td>\n",
       "      <td>SK-MEL-2</td>\n",
       "      <td>SIDM00082</td>\n",
       "      <td>SKCM</td>\n",
       "      <td>3</td>\n",
       "      <td>Rapamycin</td>\n",
       "      <td>MTORC1</td>\n",
       "      <td>PI3K/MTOR signaling</td>\n",
       "      <td>1045</td>\n",
       "      <td>Y</td>\n",
       "      <td>0.000391</td>\n",
       "      <td>0.1</td>\n",
       "      <td>-1.113085</td>\n",
       "      <td>0.945620</td>\n",
       "      <td>0.135881</td>\n",
       "      <td>0.569712</td>\n",
       "      <td>CC1CCC2CC(C(=CC=CC=CC(CC(C(=O)C(C(C(=CC(C(=O)C...</td>\n",
       "    </tr>\n",
       "    <tr>\n",
       "      <th>837</th>\n",
       "      <td>GDSC1</td>\n",
       "      <td>342</td>\n",
       "      <td>15646643</td>\n",
       "      <td>905955</td>\n",
       "      <td>SK-MEL-2</td>\n",
       "      <td>SIDM00082</td>\n",
       "      <td>SKCM</td>\n",
       "      <td>5</td>\n",
       "      <td>Sunitinib</td>\n",
       "      <td>PDGFR, KIT, VEGFR, FLT3, RET, CSF1R</td>\n",
       "      <td>RTK signaling</td>\n",
       "      <td>1045</td>\n",
       "      <td>Y</td>\n",
       "      <td>0.031250</td>\n",
       "      <td>8.0</td>\n",
       "      <td>4.013588</td>\n",
       "      <td>0.970974</td>\n",
       "      <td>0.068558</td>\n",
       "      <td>0.945589</td>\n",
       "      <td>CCN(CC)CCNC(=O)C1=C(NC(=C1C)C=C2C3=C(C=CC(=C3)...</td>\n",
       "    </tr>\n",
       "    <tr>\n",
       "      <th>1234</th>\n",
       "      <td>GDSC1</td>\n",
       "      <td>342</td>\n",
       "      <td>15646658</td>\n",
       "      <td>905955</td>\n",
       "      <td>SK-MEL-2</td>\n",
       "      <td>SIDM00082</td>\n",
       "      <td>SKCM</td>\n",
       "      <td>6</td>\n",
       "      <td>PHA-665752</td>\n",
       "      <td>MET</td>\n",
       "      <td>RTK signaling</td>\n",
       "      <td>1045</td>\n",
       "      <td>Y</td>\n",
       "      <td>0.007813</td>\n",
       "      <td>2.0</td>\n",
       "      <td>3.092390</td>\n",
       "      <td>0.980721</td>\n",
       "      <td>0.119597</td>\n",
       "      <td>0.396507</td>\n",
       "      <td>CC1=C(NC(=C1C(=O)N2CCCC2CN3CCCC3)C)C=C4C5=C(C=...</td>\n",
       "    </tr>\n",
       "    <tr>\n",
       "      <th>1640</th>\n",
       "      <td>GDSC1</td>\n",
       "      <td>342</td>\n",
       "      <td>15646669</td>\n",
       "      <td>905955</td>\n",
       "      <td>SK-MEL-2</td>\n",
       "      <td>SIDM00082</td>\n",
       "      <td>SKCM</td>\n",
       "      <td>9</td>\n",
       "      <td>MG-132</td>\n",
       "      <td>Proteasome, CAPN1</td>\n",
       "      <td>Protein stability and degradation</td>\n",
       "      <td>1045</td>\n",
       "      <td>Y</td>\n",
       "      <td>0.003906</td>\n",
       "      <td>1.0</td>\n",
       "      <td>2.369072</td>\n",
       "      <td>0.980196</td>\n",
       "      <td>0.070962</td>\n",
       "      <td>1.688235</td>\n",
       "      <td>CC(C)CC(C=O)NC(=O)C(CC(C)C)NC(=O)C(CC(C)C)NC(=...</td>\n",
       "    </tr>\n",
       "    <tr>\n",
       "      <th>...</th>\n",
       "      <td>...</td>\n",
       "      <td>...</td>\n",
       "      <td>...</td>\n",
       "      <td>...</td>\n",
       "      <td>...</td>\n",
       "      <td>...</td>\n",
       "      <td>...</td>\n",
       "      <td>...</td>\n",
       "      <td>...</td>\n",
       "      <td>...</td>\n",
       "      <td>...</td>\n",
       "      <td>...</td>\n",
       "      <td>...</td>\n",
       "      <td>...</td>\n",
       "      <td>...</td>\n",
       "      <td>...</td>\n",
       "      <td>...</td>\n",
       "      <td>...</td>\n",
       "      <td>...</td>\n",
       "      <td>...</td>\n",
       "    </tr>\n",
       "    <tr>\n",
       "      <th>329242</th>\n",
       "      <td>GDSC1</td>\n",
       "      <td>342</td>\n",
       "      <td>15646465</td>\n",
       "      <td>905955</td>\n",
       "      <td>SK-MEL-2</td>\n",
       "      <td>SIDM00082</td>\n",
       "      <td>SKCM</td>\n",
       "      <td>1526</td>\n",
       "      <td>Refametinib</td>\n",
       "      <td>MEK1, MEK2</td>\n",
       "      <td>ERK MAPK signaling</td>\n",
       "      <td>1046</td>\n",
       "      <td>Y</td>\n",
       "      <td>0.019531</td>\n",
       "      <td>5.0</td>\n",
       "      <td>-1.542607</td>\n",
       "      <td>0.441238</td>\n",
       "      <td>0.088111</td>\n",
       "      <td>-1.916767</td>\n",
       "      <td>COC1=CC(=C(C(=C1NS(=O)(=O)C2(CC2)CC(CO)O)NC3=C...</td>\n",
       "    </tr>\n",
       "    <tr>\n",
       "      <th>330105</th>\n",
       "      <td>GDSC1</td>\n",
       "      <td>342</td>\n",
       "      <td>15646466</td>\n",
       "      <td>905955</td>\n",
       "      <td>SK-MEL-2</td>\n",
       "      <td>SIDM00082</td>\n",
       "      <td>SKCM</td>\n",
       "      <td>1527</td>\n",
       "      <td>Pictilisib</td>\n",
       "      <td>PI3K (class 1)</td>\n",
       "      <td>PI3K/MTOR signaling</td>\n",
       "      <td>1046</td>\n",
       "      <td>Y</td>\n",
       "      <td>0.015625</td>\n",
       "      <td>4.0</td>\n",
       "      <td>1.439194</td>\n",
       "      <td>0.872167</td>\n",
       "      <td>0.081591</td>\n",
       "      <td>0.455946</td>\n",
       "      <td>CS(=O)(=O)N1CCN(CC1)CC2=CC3=C(S2)C(=NC(=N3)C4=...</td>\n",
       "    </tr>\n",
       "    <tr>\n",
       "      <th>330945</th>\n",
       "      <td>GDSC1</td>\n",
       "      <td>342</td>\n",
       "      <td>15646467</td>\n",
       "      <td>905955</td>\n",
       "      <td>SK-MEL-2</td>\n",
       "      <td>SIDM00082</td>\n",
       "      <td>SKCM</td>\n",
       "      <td>1529</td>\n",
       "      <td>Pevonedistat</td>\n",
       "      <td>NAE</td>\n",
       "      <td>Other</td>\n",
       "      <td>1046</td>\n",
       "      <td>Y</td>\n",
       "      <td>0.003906</td>\n",
       "      <td>1.0</td>\n",
       "      <td>-0.809756</td>\n",
       "      <td>0.782186</td>\n",
       "      <td>0.048353</td>\n",
       "      <td>-0.676150</td>\n",
       "      <td>C1CC2=CC=CC=C2C1NC3=C4C=CN(C4=NC=N3)C5CC(C(C5)...</td>\n",
       "    </tr>\n",
       "    <tr>\n",
       "      <th>331660</th>\n",
       "      <td>GDSC1</td>\n",
       "      <td>342</td>\n",
       "      <td>15646469</td>\n",
       "      <td>905955</td>\n",
       "      <td>SK-MEL-2</td>\n",
       "      <td>SIDM00082</td>\n",
       "      <td>SKCM</td>\n",
       "      <td>1530</td>\n",
       "      <td>PFI-3</td>\n",
       "      <td>PB1, SMARCA4, SMARCA2</td>\n",
       "      <td>Chromatin other</td>\n",
       "      <td>1025</td>\n",
       "      <td>Y</td>\n",
       "      <td>0.039063</td>\n",
       "      <td>10.0</td>\n",
       "      <td>5.665698</td>\n",
       "      <td>0.991941</td>\n",
       "      <td>0.028880</td>\n",
       "      <td>1.827492</td>\n",
       "      <td>C1C2CN(C1CN2C3=CC=CC=N3)C=CC(=O)C4=CC=CC=C4O</td>\n",
       "    </tr>\n",
       "    <tr>\n",
       "      <th>332493</th>\n",
       "      <td>GDSC1</td>\n",
       "      <td>342</td>\n",
       "      <td>15646470</td>\n",
       "      <td>905955</td>\n",
       "      <td>SK-MEL-2</td>\n",
       "      <td>SIDM00082</td>\n",
       "      <td>SKCM</td>\n",
       "      <td>1531</td>\n",
       "      <td>I-CBP112</td>\n",
       "      <td>EP300, CBP</td>\n",
       "      <td>Chromatin histone acetylation</td>\n",
       "      <td>1005</td>\n",
       "      <td>Y</td>\n",
       "      <td>0.039063</td>\n",
       "      <td>10.0</td>\n",
       "      <td>5.864130</td>\n",
       "      <td>0.993283</td>\n",
       "      <td>0.021091</td>\n",
       "      <td>1.986073</td>\n",
       "      <td>CCC(=O)N1CCOC2=C(C1)C=C(C=C2OCC3CCCN(C3)C)C4=C...</td>\n",
       "    </tr>\n",
       "  </tbody>\n",
       "</table>\n",
       "<p>329 rows × 20 columns</p>\n",
       "</div>"
      ],
      "text/plain": [
       "       DATASET  NLME_RESULT_ID  NLME_CURVE_ID  COSMIC_ID CELL_LINE_NAME  \\\n",
       "86       GDSC1             342       15646269     905955       SK-MEL-2   \n",
       "474      GDSC1             342       15646572     905955       SK-MEL-2   \n",
       "837      GDSC1             342       15646643     905955       SK-MEL-2   \n",
       "1234     GDSC1             342       15646658     905955       SK-MEL-2   \n",
       "1640     GDSC1             342       15646669     905955       SK-MEL-2   \n",
       "...        ...             ...            ...        ...            ...   \n",
       "329242   GDSC1             342       15646465     905955       SK-MEL-2   \n",
       "330105   GDSC1             342       15646466     905955       SK-MEL-2   \n",
       "330945   GDSC1             342       15646467     905955       SK-MEL-2   \n",
       "331660   GDSC1             342       15646469     905955       SK-MEL-2   \n",
       "332493   GDSC1             342       15646470     905955       SK-MEL-2   \n",
       "\n",
       "       SANGER_MODEL_ID TCGA_DESC  DRUG_ID     DRUG_NAME  \\\n",
       "86           SIDM00082      SKCM        1     Erlotinib   \n",
       "474          SIDM00082      SKCM        3     Rapamycin   \n",
       "837          SIDM00082      SKCM        5     Sunitinib   \n",
       "1234         SIDM00082      SKCM        6    PHA-665752   \n",
       "1640         SIDM00082      SKCM        9        MG-132   \n",
       "...                ...       ...      ...           ...   \n",
       "329242       SIDM00082      SKCM     1526   Refametinib   \n",
       "330105       SIDM00082      SKCM     1527    Pictilisib   \n",
       "330945       SIDM00082      SKCM     1529  Pevonedistat   \n",
       "331660       SIDM00082      SKCM     1530         PFI-3   \n",
       "332493       SIDM00082      SKCM     1531      I-CBP112   \n",
       "\n",
       "                            PUTATIVE_TARGET  \\\n",
       "86                                     EGFR   \n",
       "474                                  MTORC1   \n",
       "837     PDGFR, KIT, VEGFR, FLT3, RET, CSF1R   \n",
       "1234                                    MET   \n",
       "1640                      Proteasome, CAPN1   \n",
       "...                                     ...   \n",
       "329242                           MEK1, MEK2   \n",
       "330105                       PI3K (class 1)   \n",
       "330945                                  NAE   \n",
       "331660                PB1, SMARCA4, SMARCA2   \n",
       "332493                           EP300, CBP   \n",
       "\n",
       "                             PATHWAY_NAME  COMPANY_ID WEBRELEASE  MIN_CONC  \\\n",
       "86                         EGFR signaling        1045          Y  0.007813   \n",
       "474                   PI3K/MTOR signaling        1045          Y  0.000391   \n",
       "837                         RTK signaling        1045          Y  0.031250   \n",
       "1234                        RTK signaling        1045          Y  0.007813   \n",
       "1640    Protein stability and degradation        1045          Y  0.003906   \n",
       "...                                   ...         ...        ...       ...   \n",
       "329242                 ERK MAPK signaling        1046          Y  0.019531   \n",
       "330105                PI3K/MTOR signaling        1046          Y  0.015625   \n",
       "330945                              Other        1046          Y  0.003906   \n",
       "331660                    Chromatin other        1025          Y  0.039063   \n",
       "332493      Chromatin histone acetylation        1005          Y  0.039063   \n",
       "\n",
       "        MAX_CONC   LN_IC50       AUC      RMSE   Z_SCORE  \\\n",
       "86           2.0  3.394001  0.985284  0.032859  0.785492   \n",
       "474          0.1 -1.113085  0.945620  0.135881  0.569712   \n",
       "837          8.0  4.013588  0.970974  0.068558  0.945589   \n",
       "1234         2.0  3.092390  0.980721  0.119597  0.396507   \n",
       "1640         1.0  2.369072  0.980196  0.070962  1.688235   \n",
       "...          ...       ...       ...       ...       ...   \n",
       "329242       5.0 -1.542607  0.441238  0.088111 -1.916767   \n",
       "330105       4.0  1.439194  0.872167  0.081591  0.455946   \n",
       "330945       1.0 -0.809756  0.782186  0.048353 -0.676150   \n",
       "331660      10.0  5.665698  0.991941  0.028880  1.827492   \n",
       "332493      10.0  5.864130  0.993283  0.021091  1.986073   \n",
       "\n",
       "                                                   SMILES  \n",
       "86      COCCOC1=C(C=C2C(=C1)C(=NC=N2)NC3=CC=CC(=C3)C#C...  \n",
       "474     CC1CCC2CC(C(=CC=CC=CC(CC(C(=O)C(C(C(=CC(C(=O)C...  \n",
       "837     CCN(CC)CCNC(=O)C1=C(NC(=C1C)C=C2C3=C(C=CC(=C3)...  \n",
       "1234    CC1=C(NC(=C1C(=O)N2CCCC2CN3CCCC3)C)C=C4C5=C(C=...  \n",
       "1640    CC(C)CC(C=O)NC(=O)C(CC(C)C)NC(=O)C(CC(C)C)NC(=...  \n",
       "...                                                   ...  \n",
       "329242  COC1=CC(=C(C(=C1NS(=O)(=O)C2(CC2)CC(CO)O)NC3=C...  \n",
       "330105  CS(=O)(=O)N1CCN(CC1)CC2=CC3=C(S2)C(=NC(=N3)C4=...  \n",
       "330945  C1CC2=CC=CC=C2C1NC3=C4C=CN(C4=NC=N3)C5CC(C(C5)...  \n",
       "331660       C1C2CN(C1CN2C3=CC=CC=N3)C=CC(=O)C4=CC=CC=C4O  \n",
       "332493  CCC(=O)N1CCOC2=C(C1)C=C(C=C2OCC3CCCN(C3)C)C4=C...  \n",
       "\n",
       "[329 rows x 20 columns]"
      ]
     },
     "execution_count": 10,
     "metadata": {},
     "output_type": "execute_result"
    }
   ],
   "source": [
    "df_filtered_2"
   ]
  },
  {
   "cell_type": "code",
   "execution_count": 24,
   "metadata": {
    "colab": {
     "base_uri": "https://localhost:8080/"
    },
    "id": "h1UEhCGsRV43",
    "outputId": "96b13325-4734-49e3-9287-d306e3f561c8"
   },
   "outputs": [
    {
     "name": "stdout",
     "output_type": "stream",
     "text": [
      "Requirement already satisfied: rdkit in /home/bosibori/myenv/lib/python3.10/site-packages (2024.3.5)\n",
      "Requirement already satisfied: Pillow in /home/bosibori/myenv/lib/python3.10/site-packages (from rdkit) (10.4.0)\n",
      "Requirement already satisfied: numpy in /home/bosibori/myenv/lib/python3.10/site-packages (from rdkit) (1.26.4)\n"
     ]
    }
   ],
   "source": [
    "!pip install rdkit"
   ]
  },
  {
   "cell_type": "code",
   "execution_count": 11,
   "metadata": {
    "id": "Kh_wpduMRZXi"
   },
   "outputs": [],
   "source": [
    "# run lipinski\n",
    "from rdkit import Chem\n",
    "from rdkit.Chem import Descriptors, Lipinski\n",
    "\n",
    "def lipinski_rule(smiles):\n",
    "  mol = Chem.MolFromSmiles(smiles)\n",
    "  if mol:\n",
    "    return [Descriptors.MolWt(mol),\n",
    "            Descriptors.MolLogP(mol),\n",
    "            Descriptors.NumHDonors(mol),\n",
    "            Descriptors.NumHAcceptors(mol)]\n",
    "  else:\n",
    "    return [None, None, None, None]\n",
    "\n",
    "df_lipinski = df_filtered_2['SMILES'].apply(lipinski_rule).apply(pd.Series)\n",
    "df_lipinski.columns = ['MW', 'LogP', 'HDon', 'HAcc']"
   ]
  },
  {
   "cell_type": "code",
   "execution_count": 12,
   "metadata": {
    "colab": {
     "base_uri": "https://localhost:8080/",
     "height": 424
    },
    "id": "f484-6G2RdgJ",
    "outputId": "4e060702-6306-4282-b47e-cc663d1672d1"
   },
   "outputs": [
    {
     "data": {
      "text/html": [
       "<div>\n",
       "<style scoped>\n",
       "    .dataframe tbody tr th:only-of-type {\n",
       "        vertical-align: middle;\n",
       "    }\n",
       "\n",
       "    .dataframe tbody tr th {\n",
       "        vertical-align: top;\n",
       "    }\n",
       "\n",
       "    .dataframe thead th {\n",
       "        text-align: right;\n",
       "    }\n",
       "</style>\n",
       "<table border=\"1\" class=\"dataframe\">\n",
       "  <thead>\n",
       "    <tr style=\"text-align: right;\">\n",
       "      <th></th>\n",
       "      <th>MW</th>\n",
       "      <th>LogP</th>\n",
       "      <th>HDon</th>\n",
       "      <th>HAcc</th>\n",
       "    </tr>\n",
       "  </thead>\n",
       "  <tbody>\n",
       "    <tr>\n",
       "      <th>86</th>\n",
       "      <td>393.443</td>\n",
       "      <td>3.40510</td>\n",
       "      <td>1.0</td>\n",
       "      <td>7.0</td>\n",
       "    </tr>\n",
       "    <tr>\n",
       "      <th>474</th>\n",
       "      <td>914.187</td>\n",
       "      <td>6.18060</td>\n",
       "      <td>3.0</td>\n",
       "      <td>13.0</td>\n",
       "    </tr>\n",
       "    <tr>\n",
       "      <th>837</th>\n",
       "      <td>398.482</td>\n",
       "      <td>3.33494</td>\n",
       "      <td>3.0</td>\n",
       "      <td>3.0</td>\n",
       "    </tr>\n",
       "    <tr>\n",
       "      <th>1234</th>\n",
       "      <td>641.621</td>\n",
       "      <td>6.10534</td>\n",
       "      <td>2.0</td>\n",
       "      <td>5.0</td>\n",
       "    </tr>\n",
       "    <tr>\n",
       "      <th>1640</th>\n",
       "      <td>475.630</td>\n",
       "      <td>3.58820</td>\n",
       "      <td>3.0</td>\n",
       "      <td>5.0</td>\n",
       "    </tr>\n",
       "    <tr>\n",
       "      <th>...</th>\n",
       "      <td>...</td>\n",
       "      <td>...</td>\n",
       "      <td>...</td>\n",
       "      <td>...</td>\n",
       "    </tr>\n",
       "    <tr>\n",
       "      <th>329242</th>\n",
       "      <td>572.343</td>\n",
       "      <td>3.47830</td>\n",
       "      <td>4.0</td>\n",
       "      <td>6.0</td>\n",
       "    </tr>\n",
       "    <tr>\n",
       "      <th>330105</th>\n",
       "      <td>513.649</td>\n",
       "      <td>2.14840</td>\n",
       "      <td>1.0</td>\n",
       "      <td>9.0</td>\n",
       "    </tr>\n",
       "    <tr>\n",
       "      <th>330945</th>\n",
       "      <td>443.529</td>\n",
       "      <td>2.06280</td>\n",
       "      <td>3.0</td>\n",
       "      <td>8.0</td>\n",
       "    </tr>\n",
       "    <tr>\n",
       "      <th>331660</th>\n",
       "      <td>321.380</td>\n",
       "      <td>2.44670</td>\n",
       "      <td>1.0</td>\n",
       "      <td>5.0</td>\n",
       "    </tr>\n",
       "    <tr>\n",
       "      <th>332493</th>\n",
       "      <td>468.594</td>\n",
       "      <td>4.22240</td>\n",
       "      <td>0.0</td>\n",
       "      <td>6.0</td>\n",
       "    </tr>\n",
       "  </tbody>\n",
       "</table>\n",
       "<p>329 rows × 4 columns</p>\n",
       "</div>"
      ],
      "text/plain": [
       "             MW     LogP  HDon  HAcc\n",
       "86      393.443  3.40510   1.0   7.0\n",
       "474     914.187  6.18060   3.0  13.0\n",
       "837     398.482  3.33494   3.0   3.0\n",
       "1234    641.621  6.10534   2.0   5.0\n",
       "1640    475.630  3.58820   3.0   5.0\n",
       "...         ...      ...   ...   ...\n",
       "329242  572.343  3.47830   4.0   6.0\n",
       "330105  513.649  2.14840   1.0   9.0\n",
       "330945  443.529  2.06280   3.0   8.0\n",
       "331660  321.380  2.44670   1.0   5.0\n",
       "332493  468.594  4.22240   0.0   6.0\n",
       "\n",
       "[329 rows x 4 columns]"
      ]
     },
     "execution_count": 12,
     "metadata": {},
     "output_type": "execute_result"
    }
   ],
   "source": [
    "df_lipinski"
   ]
  },
  {
   "cell_type": "code",
   "execution_count": 13,
   "metadata": {
    "colab": {
     "base_uri": "https://localhost:8080/"
    },
    "id": "qdhxHF-LRjwA",
    "outputId": "1eae27bd-eba3-41b5-a513-c29edaa4a3f1"
   },
   "outputs": [],
   "source": [
    "from rdkit.Chem import Descriptors\n",
    "\n",
    "def calc_descriptors(smiles):\n",
    "    mol = Chem.MolFromSmiles(smiles)\n",
    "    if mol:\n",
    "        desc = [desc[1](mol) for desc in Descriptors.descList]\n",
    "        return desc\n",
    "    else:\n",
    "        return None\n",
    "\n",
    "df_descriptors = df_filtered_2['SMILES'].apply(calc_descriptors).apply(pd.Series)\n"
   ]
  },
  {
   "cell_type": "code",
   "execution_count": 14,
   "metadata": {
    "colab": {
     "base_uri": "https://localhost:8080/",
     "height": 444
    },
    "id": "Oi_-3cuXR-kD",
    "outputId": "de962e23-7c81-47dc-dda5-45cdc3ec4ca6"
   },
   "outputs": [
    {
     "data": {
      "text/html": [
       "<div>\n",
       "<style scoped>\n",
       "    .dataframe tbody tr th:only-of-type {\n",
       "        vertical-align: middle;\n",
       "    }\n",
       "\n",
       "    .dataframe tbody tr th {\n",
       "        vertical-align: top;\n",
       "    }\n",
       "\n",
       "    .dataframe thead th {\n",
       "        text-align: right;\n",
       "    }\n",
       "</style>\n",
       "<table border=\"1\" class=\"dataframe\">\n",
       "  <thead>\n",
       "    <tr style=\"text-align: right;\">\n",
       "      <th></th>\n",
       "      <th>0</th>\n",
       "      <th>1</th>\n",
       "      <th>2</th>\n",
       "      <th>3</th>\n",
       "      <th>4</th>\n",
       "      <th>5</th>\n",
       "      <th>6</th>\n",
       "      <th>7</th>\n",
       "      <th>8</th>\n",
       "      <th>9</th>\n",
       "      <th>...</th>\n",
       "      <th>198</th>\n",
       "      <th>199</th>\n",
       "      <th>200</th>\n",
       "      <th>201</th>\n",
       "      <th>202</th>\n",
       "      <th>203</th>\n",
       "      <th>204</th>\n",
       "      <th>205</th>\n",
       "      <th>206</th>\n",
       "      <th>207</th>\n",
       "    </tr>\n",
       "  </thead>\n",
       "  <tbody>\n",
       "    <tr>\n",
       "      <th>86</th>\n",
       "      <td>5.857397</td>\n",
       "      <td>0.392174</td>\n",
       "      <td>5.857397</td>\n",
       "      <td>0.392174</td>\n",
       "      <td>0.417884</td>\n",
       "      <td>393.443</td>\n",
       "      <td>370.259</td>\n",
       "      <td>393.168856</td>\n",
       "      <td>150.0</td>\n",
       "      <td>0.0</td>\n",
       "      <td>...</td>\n",
       "      <td>0.0</td>\n",
       "      <td>0.0</td>\n",
       "      <td>0.0</td>\n",
       "      <td>1.0</td>\n",
       "      <td>0.0</td>\n",
       "      <td>0.0</td>\n",
       "      <td>0.0</td>\n",
       "      <td>0.0</td>\n",
       "      <td>2.0</td>\n",
       "      <td>0.0</td>\n",
       "    </tr>\n",
       "    <tr>\n",
       "      <th>474</th>\n",
       "      <td>14.361410</td>\n",
       "      <td>-2.428064</td>\n",
       "      <td>14.361410</td>\n",
       "      <td>0.019311</td>\n",
       "      <td>0.155511</td>\n",
       "      <td>914.187</td>\n",
       "      <td>834.555</td>\n",
       "      <td>913.555142</td>\n",
       "      <td>366.0</td>\n",
       "      <td>0.0</td>\n",
       "      <td>...</td>\n",
       "      <td>0.0</td>\n",
       "      <td>0.0</td>\n",
       "      <td>0.0</td>\n",
       "      <td>0.0</td>\n",
       "      <td>0.0</td>\n",
       "      <td>0.0</td>\n",
       "      <td>0.0</td>\n",
       "      <td>0.0</td>\n",
       "      <td>0.0</td>\n",
       "      <td>0.0</td>\n",
       "    </tr>\n",
       "    <tr>\n",
       "      <th>837</th>\n",
       "      <td>13.650463</td>\n",
       "      <td>-0.403882</td>\n",
       "      <td>13.650463</td>\n",
       "      <td>0.143172</td>\n",
       "      <td>0.626303</td>\n",
       "      <td>398.482</td>\n",
       "      <td>371.266</td>\n",
       "      <td>398.211804</td>\n",
       "      <td>154.0</td>\n",
       "      <td>0.0</td>\n",
       "      <td>...</td>\n",
       "      <td>0.0</td>\n",
       "      <td>0.0</td>\n",
       "      <td>0.0</td>\n",
       "      <td>0.0</td>\n",
       "      <td>0.0</td>\n",
       "      <td>0.0</td>\n",
       "      <td>0.0</td>\n",
       "      <td>0.0</td>\n",
       "      <td>0.0</td>\n",
       "      <td>0.0</td>\n",
       "    </tr>\n",
       "    <tr>\n",
       "      <th>1234</th>\n",
       "      <td>13.840939</td>\n",
       "      <td>-3.835901</td>\n",
       "      <td>13.840939</td>\n",
       "      <td>0.014337</td>\n",
       "      <td>0.303631</td>\n",
       "      <td>641.621</td>\n",
       "      <td>607.349</td>\n",
       "      <td>640.167782</td>\n",
       "      <td>226.0</td>\n",
       "      <td>0.0</td>\n",
       "      <td>...</td>\n",
       "      <td>0.0</td>\n",
       "      <td>0.0</td>\n",
       "      <td>1.0</td>\n",
       "      <td>0.0</td>\n",
       "      <td>0.0</td>\n",
       "      <td>0.0</td>\n",
       "      <td>0.0</td>\n",
       "      <td>0.0</td>\n",
       "      <td>0.0</td>\n",
       "      <td>0.0</td>\n",
       "    </tr>\n",
       "    <tr>\n",
       "      <th>1640</th>\n",
       "      <td>13.086977</td>\n",
       "      <td>-0.858086</td>\n",
       "      <td>13.086977</td>\n",
       "      <td>0.087308</td>\n",
       "      <td>0.355965</td>\n",
       "      <td>475.630</td>\n",
       "      <td>434.302</td>\n",
       "      <td>475.304621</td>\n",
       "      <td>190.0</td>\n",
       "      <td>0.0</td>\n",
       "      <td>...</td>\n",
       "      <td>0.0</td>\n",
       "      <td>0.0</td>\n",
       "      <td>0.0</td>\n",
       "      <td>0.0</td>\n",
       "      <td>0.0</td>\n",
       "      <td>0.0</td>\n",
       "      <td>0.0</td>\n",
       "      <td>0.0</td>\n",
       "      <td>0.0</td>\n",
       "      <td>0.0</td>\n",
       "    </tr>\n",
       "    <tr>\n",
       "      <th>...</th>\n",
       "      <td>...</td>\n",
       "      <td>...</td>\n",
       "      <td>...</td>\n",
       "      <td>...</td>\n",
       "      <td>...</td>\n",
       "      <td>...</td>\n",
       "      <td>...</td>\n",
       "      <td>...</td>\n",
       "      <td>...</td>\n",
       "      <td>...</td>\n",
       "      <td>...</td>\n",
       "      <td>...</td>\n",
       "      <td>...</td>\n",
       "      <td>...</td>\n",
       "      <td>...</td>\n",
       "      <td>...</td>\n",
       "      <td>...</td>\n",
       "      <td>...</td>\n",
       "      <td>...</td>\n",
       "      <td>...</td>\n",
       "      <td>...</td>\n",
       "    </tr>\n",
       "    <tr>\n",
       "      <th>329242</th>\n",
       "      <td>14.702333</td>\n",
       "      <td>-4.225922</td>\n",
       "      <td>14.702333</td>\n",
       "      <td>0.204394</td>\n",
       "      <td>0.343231</td>\n",
       "      <td>572.343</td>\n",
       "      <td>552.183</td>\n",
       "      <td>572.008975</td>\n",
       "      <td>170.0</td>\n",
       "      <td>0.0</td>\n",
       "      <td>...</td>\n",
       "      <td>0.0</td>\n",
       "      <td>1.0</td>\n",
       "      <td>0.0</td>\n",
       "      <td>0.0</td>\n",
       "      <td>0.0</td>\n",
       "      <td>0.0</td>\n",
       "      <td>0.0</td>\n",
       "      <td>0.0</td>\n",
       "      <td>0.0</td>\n",
       "      <td>0.0</td>\n",
       "    </tr>\n",
       "    <tr>\n",
       "      <th>330105</th>\n",
       "      <td>11.844693</td>\n",
       "      <td>-3.134761</td>\n",
       "      <td>11.844693</td>\n",
       "      <td>0.529183</td>\n",
       "      <td>0.432645</td>\n",
       "      <td>513.649</td>\n",
       "      <td>486.433</td>\n",
       "      <td>513.161680</td>\n",
       "      <td>184.0</td>\n",
       "      <td>0.0</td>\n",
       "      <td>...</td>\n",
       "      <td>0.0</td>\n",
       "      <td>1.0</td>\n",
       "      <td>0.0</td>\n",
       "      <td>0.0</td>\n",
       "      <td>0.0</td>\n",
       "      <td>0.0</td>\n",
       "      <td>0.0</td>\n",
       "      <td>1.0</td>\n",
       "      <td>0.0</td>\n",
       "      <td>0.0</td>\n",
       "    </tr>\n",
       "    <tr>\n",
       "      <th>330945</th>\n",
       "      <td>11.080951</td>\n",
       "      <td>-4.026224</td>\n",
       "      <td>11.080951</td>\n",
       "      <td>0.017097</td>\n",
       "      <td>0.531090</td>\n",
       "      <td>443.529</td>\n",
       "      <td>418.329</td>\n",
       "      <td>443.162725</td>\n",
       "      <td>164.0</td>\n",
       "      <td>0.0</td>\n",
       "      <td>...</td>\n",
       "      <td>0.0</td>\n",
       "      <td>0.0</td>\n",
       "      <td>0.0</td>\n",
       "      <td>0.0</td>\n",
       "      <td>0.0</td>\n",
       "      <td>0.0</td>\n",
       "      <td>0.0</td>\n",
       "      <td>0.0</td>\n",
       "      <td>0.0</td>\n",
       "      <td>0.0</td>\n",
       "    </tr>\n",
       "    <tr>\n",
       "      <th>331660</th>\n",
       "      <td>12.220360</td>\n",
       "      <td>-0.169023</td>\n",
       "      <td>12.220360</td>\n",
       "      <td>0.024463</td>\n",
       "      <td>0.692307</td>\n",
       "      <td>321.380</td>\n",
       "      <td>302.228</td>\n",
       "      <td>321.147727</td>\n",
       "      <td>122.0</td>\n",
       "      <td>0.0</td>\n",
       "      <td>...</td>\n",
       "      <td>0.0</td>\n",
       "      <td>0.0</td>\n",
       "      <td>0.0</td>\n",
       "      <td>0.0</td>\n",
       "      <td>0.0</td>\n",
       "      <td>0.0</td>\n",
       "      <td>0.0</td>\n",
       "      <td>0.0</td>\n",
       "      <td>0.0</td>\n",
       "      <td>0.0</td>\n",
       "    </tr>\n",
       "    <tr>\n",
       "      <th>332493</th>\n",
       "      <td>12.490356</td>\n",
       "      <td>0.125631</td>\n",
       "      <td>12.490356</td>\n",
       "      <td>0.125631</td>\n",
       "      <td>0.606421</td>\n",
       "      <td>468.594</td>\n",
       "      <td>432.306</td>\n",
       "      <td>468.262422</td>\n",
       "      <td>184.0</td>\n",
       "      <td>0.0</td>\n",
       "      <td>...</td>\n",
       "      <td>0.0</td>\n",
       "      <td>0.0</td>\n",
       "      <td>0.0</td>\n",
       "      <td>0.0</td>\n",
       "      <td>0.0</td>\n",
       "      <td>0.0</td>\n",
       "      <td>0.0</td>\n",
       "      <td>0.0</td>\n",
       "      <td>0.0</td>\n",
       "      <td>0.0</td>\n",
       "    </tr>\n",
       "  </tbody>\n",
       "</table>\n",
       "<p>329 rows × 208 columns</p>\n",
       "</div>"
      ],
      "text/plain": [
       "              0         1          2         3         4        5        6    \\\n",
       "86       5.857397  0.392174   5.857397  0.392174  0.417884  393.443  370.259   \n",
       "474     14.361410 -2.428064  14.361410  0.019311  0.155511  914.187  834.555   \n",
       "837     13.650463 -0.403882  13.650463  0.143172  0.626303  398.482  371.266   \n",
       "1234    13.840939 -3.835901  13.840939  0.014337  0.303631  641.621  607.349   \n",
       "1640    13.086977 -0.858086  13.086977  0.087308  0.355965  475.630  434.302   \n",
       "...           ...       ...        ...       ...       ...      ...      ...   \n",
       "329242  14.702333 -4.225922  14.702333  0.204394  0.343231  572.343  552.183   \n",
       "330105  11.844693 -3.134761  11.844693  0.529183  0.432645  513.649  486.433   \n",
       "330945  11.080951 -4.026224  11.080951  0.017097  0.531090  443.529  418.329   \n",
       "331660  12.220360 -0.169023  12.220360  0.024463  0.692307  321.380  302.228   \n",
       "332493  12.490356  0.125631  12.490356  0.125631  0.606421  468.594  432.306   \n",
       "\n",
       "               7      8    9    ...  198  199  200  201  202  203  204  205  \\\n",
       "86      393.168856  150.0  0.0  ...  0.0  0.0  0.0  1.0  0.0  0.0  0.0  0.0   \n",
       "474     913.555142  366.0  0.0  ...  0.0  0.0  0.0  0.0  0.0  0.0  0.0  0.0   \n",
       "837     398.211804  154.0  0.0  ...  0.0  0.0  0.0  0.0  0.0  0.0  0.0  0.0   \n",
       "1234    640.167782  226.0  0.0  ...  0.0  0.0  1.0  0.0  0.0  0.0  0.0  0.0   \n",
       "1640    475.304621  190.0  0.0  ...  0.0  0.0  0.0  0.0  0.0  0.0  0.0  0.0   \n",
       "...            ...    ...  ...  ...  ...  ...  ...  ...  ...  ...  ...  ...   \n",
       "329242  572.008975  170.0  0.0  ...  0.0  1.0  0.0  0.0  0.0  0.0  0.0  0.0   \n",
       "330105  513.161680  184.0  0.0  ...  0.0  1.0  0.0  0.0  0.0  0.0  0.0  1.0   \n",
       "330945  443.162725  164.0  0.0  ...  0.0  0.0  0.0  0.0  0.0  0.0  0.0  0.0   \n",
       "331660  321.147727  122.0  0.0  ...  0.0  0.0  0.0  0.0  0.0  0.0  0.0  0.0   \n",
       "332493  468.262422  184.0  0.0  ...  0.0  0.0  0.0  0.0  0.0  0.0  0.0  0.0   \n",
       "\n",
       "        206  207  \n",
       "86      2.0  0.0  \n",
       "474     0.0  0.0  \n",
       "837     0.0  0.0  \n",
       "1234    0.0  0.0  \n",
       "1640    0.0  0.0  \n",
       "...     ...  ...  \n",
       "329242  0.0  0.0  \n",
       "330105  0.0  0.0  \n",
       "330945  0.0  0.0  \n",
       "331660  0.0  0.0  \n",
       "332493  0.0  0.0  \n",
       "\n",
       "[329 rows x 208 columns]"
      ]
     },
     "execution_count": 14,
     "metadata": {},
     "output_type": "execute_result"
    }
   ],
   "source": [
    "df_descriptors"
   ]
  },
  {
   "cell_type": "code",
   "execution_count": 15,
   "metadata": {
    "id": "5YLrbgRHSC0u"
   },
   "outputs": [],
   "source": [
    "#subset the Ln_IC50\n",
    "LN_IC = df_filtered_2[(\"LN_IC50\")]"
   ]
  },
  {
   "cell_type": "code",
   "execution_count": 16,
   "metadata": {
    "id": "swJmyBFHSKCP"
   },
   "outputs": [],
   "source": [
    "# combine df_lipinski , df_discreptos and subset LN_IC\n",
    "fp_LnIC = pd.concat([df_descriptors, df_lipinski, LN_IC], axis=1)"
   ]
  },
  {
   "cell_type": "code",
   "execution_count": 17,
   "metadata": {
    "id": "QjyJujjZSPUc"
   },
   "outputs": [],
   "source": [
    "# the Molecular is now in duplicate, one from Lipinski df (MW) and the other from the molecular descriptor (MolWt), you can drop one\n",
    "fp_LnIC = fp_LnIC.drop('MW', axis=1)"
   ]
  },
  {
   "cell_type": "code",
   "execution_count": 18,
   "metadata": {
    "id": "0rY0SvavSTET"
   },
   "outputs": [],
   "source": [
    "fp_LnIC = fp_LnIC.dropna()"
   ]
  },
  {
   "cell_type": "code",
   "execution_count": 19,
   "metadata": {
    "colab": {
     "base_uri": "https://localhost:8080/",
     "height": 444
    },
    "id": "WnEZeqowSVgv",
    "outputId": "80888aaa-12a0-4b4c-ad8d-9b52444ae45a"
   },
   "outputs": [
    {
     "data": {
      "text/html": [
       "<div>\n",
       "<style scoped>\n",
       "    .dataframe tbody tr th:only-of-type {\n",
       "        vertical-align: middle;\n",
       "    }\n",
       "\n",
       "    .dataframe tbody tr th {\n",
       "        vertical-align: top;\n",
       "    }\n",
       "\n",
       "    .dataframe thead th {\n",
       "        text-align: right;\n",
       "    }\n",
       "</style>\n",
       "<table border=\"1\" class=\"dataframe\">\n",
       "  <thead>\n",
       "    <tr style=\"text-align: right;\">\n",
       "      <th></th>\n",
       "      <th>0</th>\n",
       "      <th>1</th>\n",
       "      <th>2</th>\n",
       "      <th>3</th>\n",
       "      <th>4</th>\n",
       "      <th>5</th>\n",
       "      <th>6</th>\n",
       "      <th>7</th>\n",
       "      <th>8</th>\n",
       "      <th>9</th>\n",
       "      <th>...</th>\n",
       "      <th>202</th>\n",
       "      <th>203</th>\n",
       "      <th>204</th>\n",
       "      <th>205</th>\n",
       "      <th>206</th>\n",
       "      <th>207</th>\n",
       "      <th>LogP</th>\n",
       "      <th>HDon</th>\n",
       "      <th>HAcc</th>\n",
       "      <th>LN_IC50</th>\n",
       "    </tr>\n",
       "  </thead>\n",
       "  <tbody>\n",
       "    <tr>\n",
       "      <th>86</th>\n",
       "      <td>5.857397</td>\n",
       "      <td>0.392174</td>\n",
       "      <td>5.857397</td>\n",
       "      <td>0.392174</td>\n",
       "      <td>0.417884</td>\n",
       "      <td>393.443</td>\n",
       "      <td>370.259</td>\n",
       "      <td>393.168856</td>\n",
       "      <td>150.0</td>\n",
       "      <td>0.0</td>\n",
       "      <td>...</td>\n",
       "      <td>0.0</td>\n",
       "      <td>0.0</td>\n",
       "      <td>0.0</td>\n",
       "      <td>0.0</td>\n",
       "      <td>2.0</td>\n",
       "      <td>0.0</td>\n",
       "      <td>3.40510</td>\n",
       "      <td>1.0</td>\n",
       "      <td>7.0</td>\n",
       "      <td>3.394001</td>\n",
       "    </tr>\n",
       "    <tr>\n",
       "      <th>474</th>\n",
       "      <td>14.361410</td>\n",
       "      <td>-2.428064</td>\n",
       "      <td>14.361410</td>\n",
       "      <td>0.019311</td>\n",
       "      <td>0.155511</td>\n",
       "      <td>914.187</td>\n",
       "      <td>834.555</td>\n",
       "      <td>913.555142</td>\n",
       "      <td>366.0</td>\n",
       "      <td>0.0</td>\n",
       "      <td>...</td>\n",
       "      <td>0.0</td>\n",
       "      <td>0.0</td>\n",
       "      <td>0.0</td>\n",
       "      <td>0.0</td>\n",
       "      <td>0.0</td>\n",
       "      <td>0.0</td>\n",
       "      <td>6.18060</td>\n",
       "      <td>3.0</td>\n",
       "      <td>13.0</td>\n",
       "      <td>-1.113085</td>\n",
       "    </tr>\n",
       "    <tr>\n",
       "      <th>837</th>\n",
       "      <td>13.650463</td>\n",
       "      <td>-0.403882</td>\n",
       "      <td>13.650463</td>\n",
       "      <td>0.143172</td>\n",
       "      <td>0.626303</td>\n",
       "      <td>398.482</td>\n",
       "      <td>371.266</td>\n",
       "      <td>398.211804</td>\n",
       "      <td>154.0</td>\n",
       "      <td>0.0</td>\n",
       "      <td>...</td>\n",
       "      <td>0.0</td>\n",
       "      <td>0.0</td>\n",
       "      <td>0.0</td>\n",
       "      <td>0.0</td>\n",
       "      <td>0.0</td>\n",
       "      <td>0.0</td>\n",
       "      <td>3.33494</td>\n",
       "      <td>3.0</td>\n",
       "      <td>3.0</td>\n",
       "      <td>4.013588</td>\n",
       "    </tr>\n",
       "    <tr>\n",
       "      <th>1234</th>\n",
       "      <td>13.840939</td>\n",
       "      <td>-3.835901</td>\n",
       "      <td>13.840939</td>\n",
       "      <td>0.014337</td>\n",
       "      <td>0.303631</td>\n",
       "      <td>641.621</td>\n",
       "      <td>607.349</td>\n",
       "      <td>640.167782</td>\n",
       "      <td>226.0</td>\n",
       "      <td>0.0</td>\n",
       "      <td>...</td>\n",
       "      <td>0.0</td>\n",
       "      <td>0.0</td>\n",
       "      <td>0.0</td>\n",
       "      <td>0.0</td>\n",
       "      <td>0.0</td>\n",
       "      <td>0.0</td>\n",
       "      <td>6.10534</td>\n",
       "      <td>2.0</td>\n",
       "      <td>5.0</td>\n",
       "      <td>3.092390</td>\n",
       "    </tr>\n",
       "    <tr>\n",
       "      <th>1640</th>\n",
       "      <td>13.086977</td>\n",
       "      <td>-0.858086</td>\n",
       "      <td>13.086977</td>\n",
       "      <td>0.087308</td>\n",
       "      <td>0.355965</td>\n",
       "      <td>475.630</td>\n",
       "      <td>434.302</td>\n",
       "      <td>475.304621</td>\n",
       "      <td>190.0</td>\n",
       "      <td>0.0</td>\n",
       "      <td>...</td>\n",
       "      <td>0.0</td>\n",
       "      <td>0.0</td>\n",
       "      <td>0.0</td>\n",
       "      <td>0.0</td>\n",
       "      <td>0.0</td>\n",
       "      <td>0.0</td>\n",
       "      <td>3.58820</td>\n",
       "      <td>3.0</td>\n",
       "      <td>5.0</td>\n",
       "      <td>2.369072</td>\n",
       "    </tr>\n",
       "    <tr>\n",
       "      <th>...</th>\n",
       "      <td>...</td>\n",
       "      <td>...</td>\n",
       "      <td>...</td>\n",
       "      <td>...</td>\n",
       "      <td>...</td>\n",
       "      <td>...</td>\n",
       "      <td>...</td>\n",
       "      <td>...</td>\n",
       "      <td>...</td>\n",
       "      <td>...</td>\n",
       "      <td>...</td>\n",
       "      <td>...</td>\n",
       "      <td>...</td>\n",
       "      <td>...</td>\n",
       "      <td>...</td>\n",
       "      <td>...</td>\n",
       "      <td>...</td>\n",
       "      <td>...</td>\n",
       "      <td>...</td>\n",
       "      <td>...</td>\n",
       "      <td>...</td>\n",
       "    </tr>\n",
       "    <tr>\n",
       "      <th>329242</th>\n",
       "      <td>14.702333</td>\n",
       "      <td>-4.225922</td>\n",
       "      <td>14.702333</td>\n",
       "      <td>0.204394</td>\n",
       "      <td>0.343231</td>\n",
       "      <td>572.343</td>\n",
       "      <td>552.183</td>\n",
       "      <td>572.008975</td>\n",
       "      <td>170.0</td>\n",
       "      <td>0.0</td>\n",
       "      <td>...</td>\n",
       "      <td>0.0</td>\n",
       "      <td>0.0</td>\n",
       "      <td>0.0</td>\n",
       "      <td>0.0</td>\n",
       "      <td>0.0</td>\n",
       "      <td>0.0</td>\n",
       "      <td>3.47830</td>\n",
       "      <td>4.0</td>\n",
       "      <td>6.0</td>\n",
       "      <td>-1.542607</td>\n",
       "    </tr>\n",
       "    <tr>\n",
       "      <th>330105</th>\n",
       "      <td>11.844693</td>\n",
       "      <td>-3.134761</td>\n",
       "      <td>11.844693</td>\n",
       "      <td>0.529183</td>\n",
       "      <td>0.432645</td>\n",
       "      <td>513.649</td>\n",
       "      <td>486.433</td>\n",
       "      <td>513.161680</td>\n",
       "      <td>184.0</td>\n",
       "      <td>0.0</td>\n",
       "      <td>...</td>\n",
       "      <td>0.0</td>\n",
       "      <td>0.0</td>\n",
       "      <td>0.0</td>\n",
       "      <td>1.0</td>\n",
       "      <td>0.0</td>\n",
       "      <td>0.0</td>\n",
       "      <td>2.14840</td>\n",
       "      <td>1.0</td>\n",
       "      <td>9.0</td>\n",
       "      <td>1.439194</td>\n",
       "    </tr>\n",
       "    <tr>\n",
       "      <th>330945</th>\n",
       "      <td>11.080951</td>\n",
       "      <td>-4.026224</td>\n",
       "      <td>11.080951</td>\n",
       "      <td>0.017097</td>\n",
       "      <td>0.531090</td>\n",
       "      <td>443.529</td>\n",
       "      <td>418.329</td>\n",
       "      <td>443.162725</td>\n",
       "      <td>164.0</td>\n",
       "      <td>0.0</td>\n",
       "      <td>...</td>\n",
       "      <td>0.0</td>\n",
       "      <td>0.0</td>\n",
       "      <td>0.0</td>\n",
       "      <td>0.0</td>\n",
       "      <td>0.0</td>\n",
       "      <td>0.0</td>\n",
       "      <td>2.06280</td>\n",
       "      <td>3.0</td>\n",
       "      <td>8.0</td>\n",
       "      <td>-0.809756</td>\n",
       "    </tr>\n",
       "    <tr>\n",
       "      <th>331660</th>\n",
       "      <td>12.220360</td>\n",
       "      <td>-0.169023</td>\n",
       "      <td>12.220360</td>\n",
       "      <td>0.024463</td>\n",
       "      <td>0.692307</td>\n",
       "      <td>321.380</td>\n",
       "      <td>302.228</td>\n",
       "      <td>321.147727</td>\n",
       "      <td>122.0</td>\n",
       "      <td>0.0</td>\n",
       "      <td>...</td>\n",
       "      <td>0.0</td>\n",
       "      <td>0.0</td>\n",
       "      <td>0.0</td>\n",
       "      <td>0.0</td>\n",
       "      <td>0.0</td>\n",
       "      <td>0.0</td>\n",
       "      <td>2.44670</td>\n",
       "      <td>1.0</td>\n",
       "      <td>5.0</td>\n",
       "      <td>5.665698</td>\n",
       "    </tr>\n",
       "    <tr>\n",
       "      <th>332493</th>\n",
       "      <td>12.490356</td>\n",
       "      <td>0.125631</td>\n",
       "      <td>12.490356</td>\n",
       "      <td>0.125631</td>\n",
       "      <td>0.606421</td>\n",
       "      <td>468.594</td>\n",
       "      <td>432.306</td>\n",
       "      <td>468.262422</td>\n",
       "      <td>184.0</td>\n",
       "      <td>0.0</td>\n",
       "      <td>...</td>\n",
       "      <td>0.0</td>\n",
       "      <td>0.0</td>\n",
       "      <td>0.0</td>\n",
       "      <td>0.0</td>\n",
       "      <td>0.0</td>\n",
       "      <td>0.0</td>\n",
       "      <td>4.22240</td>\n",
       "      <td>0.0</td>\n",
       "      <td>6.0</td>\n",
       "      <td>5.864130</td>\n",
       "    </tr>\n",
       "  </tbody>\n",
       "</table>\n",
       "<p>327 rows × 212 columns</p>\n",
       "</div>"
      ],
      "text/plain": [
       "                0         1          2         3         4        5        6  \\\n",
       "86       5.857397  0.392174   5.857397  0.392174  0.417884  393.443  370.259   \n",
       "474     14.361410 -2.428064  14.361410  0.019311  0.155511  914.187  834.555   \n",
       "837     13.650463 -0.403882  13.650463  0.143172  0.626303  398.482  371.266   \n",
       "1234    13.840939 -3.835901  13.840939  0.014337  0.303631  641.621  607.349   \n",
       "1640    13.086977 -0.858086  13.086977  0.087308  0.355965  475.630  434.302   \n",
       "...           ...       ...        ...       ...       ...      ...      ...   \n",
       "329242  14.702333 -4.225922  14.702333  0.204394  0.343231  572.343  552.183   \n",
       "330105  11.844693 -3.134761  11.844693  0.529183  0.432645  513.649  486.433   \n",
       "330945  11.080951 -4.026224  11.080951  0.017097  0.531090  443.529  418.329   \n",
       "331660  12.220360 -0.169023  12.220360  0.024463  0.692307  321.380  302.228   \n",
       "332493  12.490356  0.125631  12.490356  0.125631  0.606421  468.594  432.306   \n",
       "\n",
       "                 7      8    9  ...  202  203  204  205  206  207     LogP  \\\n",
       "86      393.168856  150.0  0.0  ...  0.0  0.0  0.0  0.0  2.0  0.0  3.40510   \n",
       "474     913.555142  366.0  0.0  ...  0.0  0.0  0.0  0.0  0.0  0.0  6.18060   \n",
       "837     398.211804  154.0  0.0  ...  0.0  0.0  0.0  0.0  0.0  0.0  3.33494   \n",
       "1234    640.167782  226.0  0.0  ...  0.0  0.0  0.0  0.0  0.0  0.0  6.10534   \n",
       "1640    475.304621  190.0  0.0  ...  0.0  0.0  0.0  0.0  0.0  0.0  3.58820   \n",
       "...            ...    ...  ...  ...  ...  ...  ...  ...  ...  ...      ...   \n",
       "329242  572.008975  170.0  0.0  ...  0.0  0.0  0.0  0.0  0.0  0.0  3.47830   \n",
       "330105  513.161680  184.0  0.0  ...  0.0  0.0  0.0  1.0  0.0  0.0  2.14840   \n",
       "330945  443.162725  164.0  0.0  ...  0.0  0.0  0.0  0.0  0.0  0.0  2.06280   \n",
       "331660  321.147727  122.0  0.0  ...  0.0  0.0  0.0  0.0  0.0  0.0  2.44670   \n",
       "332493  468.262422  184.0  0.0  ...  0.0  0.0  0.0  0.0  0.0  0.0  4.22240   \n",
       "\n",
       "        HDon  HAcc   LN_IC50  \n",
       "86       1.0   7.0  3.394001  \n",
       "474      3.0  13.0 -1.113085  \n",
       "837      3.0   3.0  4.013588  \n",
       "1234     2.0   5.0  3.092390  \n",
       "1640     3.0   5.0  2.369072  \n",
       "...      ...   ...       ...  \n",
       "329242   4.0   6.0 -1.542607  \n",
       "330105   1.0   9.0  1.439194  \n",
       "330945   3.0   8.0 -0.809756  \n",
       "331660   1.0   5.0  5.665698  \n",
       "332493   0.0   6.0  5.864130  \n",
       "\n",
       "[327 rows x 212 columns]"
      ]
     },
     "execution_count": 19,
     "metadata": {},
     "output_type": "execute_result"
    }
   ],
   "source": [
    "fp_LnIC"
   ]
  },
  {
   "cell_type": "code",
   "execution_count": 25,
   "metadata": {
    "colab": {
     "base_uri": "https://localhost:8080/"
    },
    "id": "h33NAI8Lil_t",
    "outputId": "06771442-df4d-4d1e-d82d-a1893b895193"
   },
   "outputs": [
    {
     "name": "stdout",
     "output_type": "stream",
     "text": [
      "Requirement already satisfied: scikit-learn in /usr/local/lib/python3.10/dist-packages (1.4.2)\n",
      "Requirement already satisfied: numpy>=1.19.5 in /usr/local/lib/python3.10/dist-packages (from scikit-learn) (1.26.4)\n",
      "Requirement already satisfied: scipy>=1.6.0 in /usr/local/lib/python3.10/dist-packages (from scikit-learn) (1.11.4)\n",
      "Requirement already satisfied: joblib>=1.2.0 in /usr/local/lib/python3.10/dist-packages (from scikit-learn) (1.3.2)\n",
      "Requirement already satisfied: threadpoolctl>=2.0.0 in /usr/local/lib/python3.10/dist-packages (from scikit-learn) (3.5.0)\n"
     ]
    }
   ],
   "source": [
    "!pip install scikit-learn"
   ]
  },
  {
   "cell_type": "code",
   "execution_count": 21,
   "metadata": {
    "id": "zVk3gnkkisca"
   },
   "outputs": [],
   "source": [
    "import pandas as pd\n",
    "from sklearn.feature_selection import VarianceThreshold\n",
    "\n",
    "# Convert column names to strings\n",
    "fp_LnIC.columns = fp_LnIC.columns.astype(str)\n",
    "\n",
    "# Apply VarianceThreshold\n",
    "selection = VarianceThreshold(threshold=(.8 * (1-.8)))\n",
    "fp_LnIC_new = selection.fit_transform(fp_LnIC)\n",
    "\n"
   ]
  },
  {
   "cell_type": "code",
   "execution_count": 22,
   "metadata": {
    "colab": {
     "base_uri": "https://localhost:8080/"
    },
    "id": "VKPxqaIXnBeG",
    "outputId": "cfc664a1-cb43-47e5-eaa4-0efedbc21518"
   },
   "outputs": [
    {
     "data": {
      "text/plain": [
       "array([[ 5.85739678,  0.39217436,  5.85739678, ...,  1.        ,\n",
       "         7.        ,  3.394001  ],\n",
       "       [14.36141029, -2.4280639 , 14.36141029, ...,  3.        ,\n",
       "        13.        , -1.113085  ],\n",
       "       [13.6504632 , -0.40388207, 13.6504632 , ...,  3.        ,\n",
       "         3.        ,  4.013588  ],\n",
       "       ...,\n",
       "       [11.08095089, -4.02622398, 11.08095089, ...,  3.        ,\n",
       "         8.        , -0.809756  ],\n",
       "       [12.22036042, -0.16902256, 12.22036042, ...,  1.        ,\n",
       "         5.        ,  5.665698  ],\n",
       "       [12.49035579,  0.12563051, 12.49035579, ...,  0.        ,\n",
       "         6.        ,  5.86413   ]])"
      ]
     },
     "execution_count": 22,
     "metadata": {},
     "output_type": "execute_result"
    }
   ],
   "source": [
    "fp_LnIC_new"
   ]
  },
  {
   "cell_type": "code",
   "execution_count": 37,
   "metadata": {
    "colab": {
     "base_uri": "https://localhost:8080/"
    },
    "id": "G6niM-kaSoiJ",
    "outputId": "09c25269-d48c-4eed-aaaf-0f0cd14c100e"
   },
   "outputs": [
    {
     "name": "stdout",
     "output_type": "stream",
     "text": [
      "Requirement already satisfied: pycaret in /home/bosibori/myenv/lib/python3.10/site-packages (3.3.2)\n",
      "Requirement already satisfied: xxhash in /home/bosibori/myenv/lib/python3.10/site-packages (from pycaret) (3.5.0)\n",
      "Requirement already satisfied: psutil>=5.9.0 in /home/bosibori/myenv/lib/python3.10/site-packages (from pycaret) (6.0.0)\n",
      "Requirement already satisfied: plotly-resampler>=0.8.3.1 in /home/bosibori/myenv/lib/python3.10/site-packages (from pycaret) (0.10.0)\n",
      "Requirement already satisfied: cloudpickle in /home/bosibori/myenv/lib/python3.10/site-packages (from pycaret) (3.0.0)\n",
      "Requirement already satisfied: plotly>=5.14.0 in /home/bosibori/myenv/lib/python3.10/site-packages (from pycaret) (5.24.1)\n",
      "Requirement already satisfied: lightgbm>=3.0.0 in /home/bosibori/myenv/lib/python3.10/site-packages (from pycaret) (4.5.0)\n",
      "Requirement already satisfied: wurlitzer in /home/bosibori/myenv/lib/python3.10/site-packages (from pycaret) (3.1.1)\n",
      "Requirement already satisfied: scipy<=1.11.4,>=1.6.1 in /home/bosibori/myenv/lib/python3.10/site-packages (from pycaret) (1.11.4)\n",
      "Requirement already satisfied: imbalanced-learn>=0.12.0 in /home/bosibori/myenv/lib/python3.10/site-packages (from pycaret) (0.12.3)\n",
      "Requirement already satisfied: sktime==0.26.0 in /home/bosibori/myenv/lib/python3.10/site-packages (from pycaret) (0.26.0)\n",
      "Requirement already satisfied: ipywidgets>=7.6.5 in /home/bosibori/myenv/lib/python3.10/site-packages (from pycaret) (8.1.5)\n",
      "Requirement already satisfied: numba>=0.55.0 in /home/bosibori/myenv/lib/python3.10/site-packages (from pycaret) (0.60.0)\n",
      "Requirement already satisfied: statsmodels>=0.12.1 in /home/bosibori/myenv/lib/python3.10/site-packages (from pycaret) (0.14.3)\n",
      "Requirement already satisfied: importlib-metadata>=4.12.0 in /home/bosibori/myenv/lib/python3.10/site-packages (from pycaret) (8.4.0)\n",
      "Requirement already satisfied: requests>=2.27.1 in /home/bosibori/myenv/lib/python3.10/site-packages (from pycaret) (2.32.3)\n",
      "Requirement already satisfied: tqdm>=4.62.0 in /home/bosibori/myenv/lib/python3.10/site-packages (from pycaret) (4.66.5)\n",
      "Requirement already satisfied: numpy<1.27,>=1.21 in /home/bosibori/myenv/lib/python3.10/site-packages (from pycaret) (1.26.4)\n",
      "Requirement already satisfied: markupsafe>=2.0.1 in /home/bosibori/myenv/lib/python3.10/site-packages (from pycaret) (2.1.5)\n",
      "Requirement already satisfied: kaleido>=0.2.1 in /home/bosibori/myenv/lib/python3.10/site-packages (from pycaret) (0.2.1)\n",
      "Requirement already satisfied: joblib<1.4,>=1.2.0 in /home/bosibori/myenv/lib/python3.10/site-packages (from pycaret) (1.3.2)\n",
      "Requirement already satisfied: yellowbrick>=1.4 in /home/bosibori/myenv/lib/python3.10/site-packages (from pycaret) (1.5)\n",
      "Requirement already satisfied: scikit-plot>=0.3.7 in /home/bosibori/myenv/lib/python3.10/site-packages (from pycaret) (0.3.7)\n",
      "Requirement already satisfied: tbats>=1.1.3 in /home/bosibori/myenv/lib/python3.10/site-packages (from pycaret) (1.1.3)\n",
      "Requirement already satisfied: schemdraw==0.15 in /home/bosibori/myenv/lib/python3.10/site-packages (from pycaret) (0.15)\n",
      "Requirement already satisfied: category-encoders>=2.4.0 in /home/bosibori/myenv/lib/python3.10/site-packages (from pycaret) (2.6.4)\n",
      "Requirement already satisfied: nbformat>=4.2.0 in /home/bosibori/myenv/lib/python3.10/site-packages (from pycaret) (5.10.4)\n",
      "Requirement already satisfied: scikit-learn>1.4.0 in /home/bosibori/myenv/lib/python3.10/site-packages (from pycaret) (1.4.2)\n",
      "Requirement already satisfied: jinja2>=3 in /home/bosibori/myenv/lib/python3.10/site-packages (from pycaret) (3.1.4)\n",
      "Requirement already satisfied: pandas<2.2.0 in /home/bosibori/myenv/lib/python3.10/site-packages (from pycaret) (2.1.4)\n",
      "Requirement already satisfied: pyod>=1.1.3 in /home/bosibori/myenv/lib/python3.10/site-packages (from pycaret) (2.0.2)\n",
      "Requirement already satisfied: matplotlib<3.8.0 in /home/bosibori/myenv/lib/python3.10/site-packages (from pycaret) (3.7.5)\n",
      "Requirement already satisfied: pmdarima>=2.0.4 in /home/bosibori/myenv/lib/python3.10/site-packages (from pycaret) (2.0.4)\n",
      "Requirement already satisfied: deprecation>=2.1.0 in /home/bosibori/myenv/lib/python3.10/site-packages (from pycaret) (2.1.0)\n",
      "Requirement already satisfied: ipython>=5.5.0 in /home/bosibori/myenv/lib/python3.10/site-packages (from pycaret) (8.28.0)\n",
      "Requirement already satisfied: packaging in /home/bosibori/myenv/lib/python3.10/site-packages (from sktime==0.26.0->pycaret) (24.1)\n",
      "Requirement already satisfied: scikit-base<0.8.0 in /home/bosibori/myenv/lib/python3.10/site-packages (from sktime==0.26.0->pycaret) (0.7.8)\n",
      "Requirement already satisfied: patsy>=0.5.1 in /home/bosibori/myenv/lib/python3.10/site-packages (from category-encoders>=2.4.0->pycaret) (0.5.6)\n",
      "Requirement already satisfied: threadpoolctl>=2.0.0 in /home/bosibori/myenv/lib/python3.10/site-packages (from imbalanced-learn>=0.12.0->pycaret) (3.5.0)\n",
      "Requirement already satisfied: zipp>=0.5 in /home/bosibori/myenv/lib/python3.10/site-packages (from importlib-metadata>=4.12.0->pycaret) (3.20.2)\n",
      "Requirement already satisfied: pexpect>4.3 in /home/bosibori/myenv/lib/python3.10/site-packages (from ipython>=5.5.0->pycaret) (4.9.0)\n",
      "Requirement already satisfied: matplotlib-inline in /home/bosibori/myenv/lib/python3.10/site-packages (from ipython>=5.5.0->pycaret) (0.1.7)\n",
      "Requirement already satisfied: stack-data in /home/bosibori/myenv/lib/python3.10/site-packages (from ipython>=5.5.0->pycaret) (0.6.3)\n",
      "Requirement already satisfied: typing-extensions>=4.6 in /home/bosibori/myenv/lib/python3.10/site-packages (from ipython>=5.5.0->pycaret) (4.12.2)\n",
      "Requirement already satisfied: pygments>=2.4.0 in /home/bosibori/myenv/lib/python3.10/site-packages (from ipython>=5.5.0->pycaret) (2.18.0)\n",
      "Requirement already satisfied: decorator in /home/bosibori/myenv/lib/python3.10/site-packages (from ipython>=5.5.0->pycaret) (5.1.1)\n",
      "Requirement already satisfied: traitlets>=5.13.0 in /home/bosibori/myenv/lib/python3.10/site-packages (from ipython>=5.5.0->pycaret) (5.14.3)\n",
      "Requirement already satisfied: exceptiongroup in /home/bosibori/myenv/lib/python3.10/site-packages (from ipython>=5.5.0->pycaret) (1.2.2)\n",
      "Requirement already satisfied: prompt-toolkit<3.1.0,>=3.0.41 in /home/bosibori/myenv/lib/python3.10/site-packages (from ipython>=5.5.0->pycaret) (3.0.48)\n",
      "Requirement already satisfied: jedi>=0.16 in /home/bosibori/myenv/lib/python3.10/site-packages (from ipython>=5.5.0->pycaret) (0.19.1)\n",
      "Requirement already satisfied: widgetsnbextension~=4.0.12 in /home/bosibori/myenv/lib/python3.10/site-packages (from ipywidgets>=7.6.5->pycaret) (4.0.13)\n",
      "Requirement already satisfied: jupyterlab-widgets~=3.0.12 in /home/bosibori/myenv/lib/python3.10/site-packages (from ipywidgets>=7.6.5->pycaret) (3.0.13)\n",
      "Requirement already satisfied: comm>=0.1.3 in /home/bosibori/myenv/lib/python3.10/site-packages (from ipywidgets>=7.6.5->pycaret) (0.2.2)\n",
      "Requirement already satisfied: pillow>=6.2.0 in /home/bosibori/myenv/lib/python3.10/site-packages (from matplotlib<3.8.0->pycaret) (10.4.0)\n",
      "Requirement already satisfied: pyparsing>=2.3.1 in /home/bosibori/myenv/lib/python3.10/site-packages (from matplotlib<3.8.0->pycaret) (3.1.4)\n",
      "Requirement already satisfied: kiwisolver>=1.0.1 in /home/bosibori/myenv/lib/python3.10/site-packages (from matplotlib<3.8.0->pycaret) (1.4.7)\n",
      "Requirement already satisfied: python-dateutil>=2.7 in /home/bosibori/myenv/lib/python3.10/site-packages (from matplotlib<3.8.0->pycaret) (2.9.0.post0)\n",
      "Requirement already satisfied: fonttools>=4.22.0 in /home/bosibori/myenv/lib/python3.10/site-packages (from matplotlib<3.8.0->pycaret) (4.54.1)\n",
      "Requirement already satisfied: contourpy>=1.0.1 in /home/bosibori/myenv/lib/python3.10/site-packages (from matplotlib<3.8.0->pycaret) (1.3.0)\n",
      "Requirement already satisfied: cycler>=0.10 in /home/bosibori/myenv/lib/python3.10/site-packages (from matplotlib<3.8.0->pycaret) (0.12.1)\n",
      "Requirement already satisfied: jupyter-core!=5.0.*,>=4.12 in /home/bosibori/myenv/lib/python3.10/site-packages (from nbformat>=4.2.0->pycaret) (5.7.2)\n",
      "Requirement already satisfied: fastjsonschema>=2.15 in /home/bosibori/myenv/lib/python3.10/site-packages (from nbformat>=4.2.0->pycaret) (2.20.0)\n",
      "Requirement already satisfied: jsonschema>=2.6 in /home/bosibori/myenv/lib/python3.10/site-packages (from nbformat>=4.2.0->pycaret) (4.23.0)\n",
      "Requirement already satisfied: llvmlite<0.44,>=0.43.0dev0 in /home/bosibori/myenv/lib/python3.10/site-packages (from numba>=0.55.0->pycaret) (0.43.0)\n",
      "Requirement already satisfied: tzdata>=2022.1 in /home/bosibori/myenv/lib/python3.10/site-packages (from pandas<2.2.0->pycaret) (2024.2)\n",
      "Requirement already satisfied: pytz>=2020.1 in /home/bosibori/myenv/lib/python3.10/site-packages (from pandas<2.2.0->pycaret) (2024.2)\n",
      "Requirement already satisfied: tenacity>=6.2.0 in /home/bosibori/myenv/lib/python3.10/site-packages (from plotly>=5.14.0->pycaret) (9.0.0)\n",
      "Requirement already satisfied: dash>=2.9.0 in /home/bosibori/myenv/lib/python3.10/site-packages (from plotly-resampler>=0.8.3.1->pycaret) (2.18.1)\n",
      "Requirement already satisfied: orjson<4.0.0,>=3.8.0 in /home/bosibori/myenv/lib/python3.10/site-packages (from plotly-resampler>=0.8.3.1->pycaret) (3.10.7)\n",
      "Requirement already satisfied: tsdownsample>=0.1.3 in /home/bosibori/myenv/lib/python3.10/site-packages (from plotly-resampler>=0.8.3.1->pycaret) (0.1.3)\n",
      "Requirement already satisfied: Cython!=0.29.18,!=0.29.31,>=0.29 in /home/bosibori/myenv/lib/python3.10/site-packages (from pmdarima>=2.0.4->pycaret) (3.0.11)\n",
      "Requirement already satisfied: setuptools!=50.0.0,>=38.6.0 in /home/bosibori/myenv/lib/python3.10/site-packages (from pmdarima>=2.0.4->pycaret) (59.6.0)\n",
      "Requirement already satisfied: urllib3 in /home/bosibori/myenv/lib/python3.10/site-packages (from pmdarima>=2.0.4->pycaret) (2.2.3)\n",
      "Requirement already satisfied: charset-normalizer<4,>=2 in /home/bosibori/myenv/lib/python3.10/site-packages (from requests>=2.27.1->pycaret) (3.3.2)\n",
      "Requirement already satisfied: idna<4,>=2.5 in /home/bosibori/myenv/lib/python3.10/site-packages (from requests>=2.27.1->pycaret) (3.10)\n",
      "Requirement already satisfied: certifi>=2017.4.17 in /home/bosibori/myenv/lib/python3.10/site-packages (from requests>=2.27.1->pycaret) (2024.8.30)\n",
      "Requirement already satisfied: nest-asyncio in /home/bosibori/myenv/lib/python3.10/site-packages (from dash>=2.9.0->plotly-resampler>=0.8.3.1->pycaret) (1.6.0)\n",
      "Requirement already satisfied: retrying in /home/bosibori/myenv/lib/python3.10/site-packages (from dash>=2.9.0->plotly-resampler>=0.8.3.1->pycaret) (1.3.4)\n",
      "Requirement already satisfied: dash-html-components==2.0.0 in /home/bosibori/myenv/lib/python3.10/site-packages (from dash>=2.9.0->plotly-resampler>=0.8.3.1->pycaret) (2.0.0)\n",
      "Requirement already satisfied: Flask<3.1,>=1.0.4 in /home/bosibori/myenv/lib/python3.10/site-packages (from dash>=2.9.0->plotly-resampler>=0.8.3.1->pycaret) (2.3.3)\n",
      "Requirement already satisfied: Werkzeug<3.1 in /home/bosibori/myenv/lib/python3.10/site-packages (from dash>=2.9.0->plotly-resampler>=0.8.3.1->pycaret) (2.3.8)\n",
      "Requirement already satisfied: dash-core-components==2.0.0 in /home/bosibori/myenv/lib/python3.10/site-packages (from dash>=2.9.0->plotly-resampler>=0.8.3.1->pycaret) (2.0.0)\n",
      "Requirement already satisfied: dash-table==5.0.0 in /home/bosibori/myenv/lib/python3.10/site-packages (from dash>=2.9.0->plotly-resampler>=0.8.3.1->pycaret) (5.0.0)\n",
      "Requirement already satisfied: parso<0.9.0,>=0.8.3 in /home/bosibori/myenv/lib/python3.10/site-packages (from jedi>=0.16->ipython>=5.5.0->pycaret) (0.8.4)\n",
      "Requirement already satisfied: jsonschema-specifications>=2023.03.6 in /home/bosibori/myenv/lib/python3.10/site-packages (from jsonschema>=2.6->nbformat>=4.2.0->pycaret) (2023.12.1)\n",
      "Requirement already satisfied: referencing>=0.28.4 in /home/bosibori/myenv/lib/python3.10/site-packages (from jsonschema>=2.6->nbformat>=4.2.0->pycaret) (0.35.1)\n",
      "Requirement already satisfied: attrs>=22.2.0 in /home/bosibori/myenv/lib/python3.10/site-packages (from jsonschema>=2.6->nbformat>=4.2.0->pycaret) (24.2.0)\n",
      "Requirement already satisfied: rpds-py>=0.7.1 in /home/bosibori/myenv/lib/python3.10/site-packages (from jsonschema>=2.6->nbformat>=4.2.0->pycaret) (0.20.0)\n",
      "Requirement already satisfied: platformdirs>=2.5 in /home/bosibori/myenv/lib/python3.10/site-packages (from jupyter-core!=5.0.*,>=4.12->nbformat>=4.2.0->pycaret) (4.3.6)\n",
      "Requirement already satisfied: six in /home/bosibori/myenv/lib/python3.10/site-packages (from patsy>=0.5.1->category-encoders>=2.4.0->pycaret) (1.16.0)\n",
      "Requirement already satisfied: ptyprocess>=0.5 in /home/bosibori/myenv/lib/python3.10/site-packages (from pexpect>4.3->ipython>=5.5.0->pycaret) (0.7.0)\n",
      "Requirement already satisfied: wcwidth in /home/bosibori/myenv/lib/python3.10/site-packages (from prompt-toolkit<3.1.0,>=3.0.41->ipython>=5.5.0->pycaret) (0.2.13)\n",
      "Requirement already satisfied: executing>=1.2.0 in /home/bosibori/myenv/lib/python3.10/site-packages (from stack-data->ipython>=5.5.0->pycaret) (2.1.0)\n",
      "Requirement already satisfied: asttokens>=2.1.0 in /home/bosibori/myenv/lib/python3.10/site-packages (from stack-data->ipython>=5.5.0->pycaret) (2.4.1)\n",
      "Requirement already satisfied: pure-eval in /home/bosibori/myenv/lib/python3.10/site-packages (from stack-data->ipython>=5.5.0->pycaret) (0.2.3)\n",
      "Requirement already satisfied: blinker>=1.6.2 in /home/bosibori/myenv/lib/python3.10/site-packages (from Flask<3.1,>=1.0.4->dash>=2.9.0->plotly-resampler>=0.8.3.1->pycaret) (1.8.2)\n",
      "Requirement already satisfied: itsdangerous>=2.1.2 in /home/bosibori/myenv/lib/python3.10/site-packages (from Flask<3.1,>=1.0.4->dash>=2.9.0->plotly-resampler>=0.8.3.1->pycaret) (2.2.0)\n",
      "Requirement already satisfied: click>=8.1.3 in /home/bosibori/myenv/lib/python3.10/site-packages (from Flask<3.1,>=1.0.4->dash>=2.9.0->plotly-resampler>=0.8.3.1->pycaret) (8.1.7)\n"
     ]
    }
   ],
   "source": [
    "# building our model using Pycaret algorithem\n",
    "!pip install pycaret"
   ]
  },
  {
   "cell_type": "code",
   "execution_count": 23,
   "metadata": {
    "colab": {
     "base_uri": "https://localhost:8080/",
     "height": 645
    },
    "id": "FQxJwGFVS5KG",
    "outputId": "55fe32df-5f01-4d3a-e28a-6e6294f9b086"
   },
   "outputs": [
    {
     "data": {
      "text/html": [
       "<style type=\"text/css\">\n",
       "#T_f219d_row8_col1 {\n",
       "  background-color: lightgreen;\n",
       "}\n",
       "</style>\n",
       "<table id=\"T_f219d\">\n",
       "  <thead>\n",
       "    <tr>\n",
       "      <th class=\"blank level0\" >&nbsp;</th>\n",
       "      <th id=\"T_f219d_level0_col0\" class=\"col_heading level0 col0\" >Description</th>\n",
       "      <th id=\"T_f219d_level0_col1\" class=\"col_heading level0 col1\" >Value</th>\n",
       "    </tr>\n",
       "  </thead>\n",
       "  <tbody>\n",
       "    <tr>\n",
       "      <th id=\"T_f219d_level0_row0\" class=\"row_heading level0 row0\" >0</th>\n",
       "      <td id=\"T_f219d_row0_col0\" class=\"data row0 col0\" >Session id</td>\n",
       "      <td id=\"T_f219d_row0_col1\" class=\"data row0 col1\" >6962</td>\n",
       "    </tr>\n",
       "    <tr>\n",
       "      <th id=\"T_f219d_level0_row1\" class=\"row_heading level0 row1\" >1</th>\n",
       "      <td id=\"T_f219d_row1_col0\" class=\"data row1 col0\" >Target</td>\n",
       "      <td id=\"T_f219d_row1_col1\" class=\"data row1 col1\" >LN_IC50</td>\n",
       "    </tr>\n",
       "    <tr>\n",
       "      <th id=\"T_f219d_level0_row2\" class=\"row_heading level0 row2\" >2</th>\n",
       "      <td id=\"T_f219d_row2_col0\" class=\"data row2 col0\" >Target type</td>\n",
       "      <td id=\"T_f219d_row2_col1\" class=\"data row2 col1\" >Regression</td>\n",
       "    </tr>\n",
       "    <tr>\n",
       "      <th id=\"T_f219d_level0_row3\" class=\"row_heading level0 row3\" >3</th>\n",
       "      <td id=\"T_f219d_row3_col0\" class=\"data row3 col0\" >Original data shape</td>\n",
       "      <td id=\"T_f219d_row3_col1\" class=\"data row3 col1\" >(327, 212)</td>\n",
       "    </tr>\n",
       "    <tr>\n",
       "      <th id=\"T_f219d_level0_row4\" class=\"row_heading level0 row4\" >4</th>\n",
       "      <td id=\"T_f219d_row4_col0\" class=\"data row4 col0\" >Transformed data shape</td>\n",
       "      <td id=\"T_f219d_row4_col1\" class=\"data row4 col1\" >(327, 212)</td>\n",
       "    </tr>\n",
       "    <tr>\n",
       "      <th id=\"T_f219d_level0_row5\" class=\"row_heading level0 row5\" >5</th>\n",
       "      <td id=\"T_f219d_row5_col0\" class=\"data row5 col0\" >Transformed train set shape</td>\n",
       "      <td id=\"T_f219d_row5_col1\" class=\"data row5 col1\" >(228, 212)</td>\n",
       "    </tr>\n",
       "    <tr>\n",
       "      <th id=\"T_f219d_level0_row6\" class=\"row_heading level0 row6\" >6</th>\n",
       "      <td id=\"T_f219d_row6_col0\" class=\"data row6 col0\" >Transformed test set shape</td>\n",
       "      <td id=\"T_f219d_row6_col1\" class=\"data row6 col1\" >(99, 212)</td>\n",
       "    </tr>\n",
       "    <tr>\n",
       "      <th id=\"T_f219d_level0_row7\" class=\"row_heading level0 row7\" >7</th>\n",
       "      <td id=\"T_f219d_row7_col0\" class=\"data row7 col0\" >Numeric features</td>\n",
       "      <td id=\"T_f219d_row7_col1\" class=\"data row7 col1\" >211</td>\n",
       "    </tr>\n",
       "    <tr>\n",
       "      <th id=\"T_f219d_level0_row8\" class=\"row_heading level0 row8\" >8</th>\n",
       "      <td id=\"T_f219d_row8_col0\" class=\"data row8 col0\" >Preprocess</td>\n",
       "      <td id=\"T_f219d_row8_col1\" class=\"data row8 col1\" >True</td>\n",
       "    </tr>\n",
       "    <tr>\n",
       "      <th id=\"T_f219d_level0_row9\" class=\"row_heading level0 row9\" >9</th>\n",
       "      <td id=\"T_f219d_row9_col0\" class=\"data row9 col0\" >Imputation type</td>\n",
       "      <td id=\"T_f219d_row9_col1\" class=\"data row9 col1\" >simple</td>\n",
       "    </tr>\n",
       "    <tr>\n",
       "      <th id=\"T_f219d_level0_row10\" class=\"row_heading level0 row10\" >10</th>\n",
       "      <td id=\"T_f219d_row10_col0\" class=\"data row10 col0\" >Numeric imputation</td>\n",
       "      <td id=\"T_f219d_row10_col1\" class=\"data row10 col1\" >mean</td>\n",
       "    </tr>\n",
       "    <tr>\n",
       "      <th id=\"T_f219d_level0_row11\" class=\"row_heading level0 row11\" >11</th>\n",
       "      <td id=\"T_f219d_row11_col0\" class=\"data row11 col0\" >Categorical imputation</td>\n",
       "      <td id=\"T_f219d_row11_col1\" class=\"data row11 col1\" >mode</td>\n",
       "    </tr>\n",
       "    <tr>\n",
       "      <th id=\"T_f219d_level0_row12\" class=\"row_heading level0 row12\" >12</th>\n",
       "      <td id=\"T_f219d_row12_col0\" class=\"data row12 col0\" >Fold Generator</td>\n",
       "      <td id=\"T_f219d_row12_col1\" class=\"data row12 col1\" >KFold</td>\n",
       "    </tr>\n",
       "    <tr>\n",
       "      <th id=\"T_f219d_level0_row13\" class=\"row_heading level0 row13\" >13</th>\n",
       "      <td id=\"T_f219d_row13_col0\" class=\"data row13 col0\" >Fold Number</td>\n",
       "      <td id=\"T_f219d_row13_col1\" class=\"data row13 col1\" >10</td>\n",
       "    </tr>\n",
       "    <tr>\n",
       "      <th id=\"T_f219d_level0_row14\" class=\"row_heading level0 row14\" >14</th>\n",
       "      <td id=\"T_f219d_row14_col0\" class=\"data row14 col0\" >CPU Jobs</td>\n",
       "      <td id=\"T_f219d_row14_col1\" class=\"data row14 col1\" >-1</td>\n",
       "    </tr>\n",
       "    <tr>\n",
       "      <th id=\"T_f219d_level0_row15\" class=\"row_heading level0 row15\" >15</th>\n",
       "      <td id=\"T_f219d_row15_col0\" class=\"data row15 col0\" >Use GPU</td>\n",
       "      <td id=\"T_f219d_row15_col1\" class=\"data row15 col1\" >False</td>\n",
       "    </tr>\n",
       "    <tr>\n",
       "      <th id=\"T_f219d_level0_row16\" class=\"row_heading level0 row16\" >16</th>\n",
       "      <td id=\"T_f219d_row16_col0\" class=\"data row16 col0\" >Log Experiment</td>\n",
       "      <td id=\"T_f219d_row16_col1\" class=\"data row16 col1\" >False</td>\n",
       "    </tr>\n",
       "    <tr>\n",
       "      <th id=\"T_f219d_level0_row17\" class=\"row_heading level0 row17\" >17</th>\n",
       "      <td id=\"T_f219d_row17_col0\" class=\"data row17 col0\" >Experiment Name</td>\n",
       "      <td id=\"T_f219d_row17_col1\" class=\"data row17 col1\" >reg-default-name</td>\n",
       "    </tr>\n",
       "    <tr>\n",
       "      <th id=\"T_f219d_level0_row18\" class=\"row_heading level0 row18\" >18</th>\n",
       "      <td id=\"T_f219d_row18_col0\" class=\"data row18 col0\" >USI</td>\n",
       "      <td id=\"T_f219d_row18_col1\" class=\"data row18 col1\" >96b7</td>\n",
       "    </tr>\n",
       "  </tbody>\n",
       "</table>\n"
      ],
      "text/plain": [
       "<pandas.io.formats.style.Styler at 0x7fc302bc3df0>"
      ]
     },
     "metadata": {},
     "output_type": "display_data"
    }
   ],
   "source": [
    "from pycaret.regression import *\n",
    "\n",
    "\n",
    "reg = setup(data=fp_LnIC, target='LN_IC50')"
   ]
  },
  {
   "cell_type": "code",
   "execution_count": 24,
   "metadata": {
    "colab": {
     "base_uri": "https://localhost:8080/",
     "height": 1000,
     "referenced_widgets": [
      "aad6bb00f3e44137a6bb8393f088fb68",
      "97998f1bf99b4cb18844d62a3ce3f622",
      "321487c0cc2044b09f583b9e3754f7d2",
      "a2d057243cab407599bc3c5b07ed9e75",
      "6ebbde9d5b5d46a89df92e04e1ff4f91",
      "587eebf543294c648c9da9d22578f563",
      "5e1f8320706d45f2b7c1f3abc3d792cb",
      "3d9e0efdf1024c9999abd53191c80ee6",
      "9d7e200b36b646509548e9d165d674bb",
      "baa0c216ed384d989f66a1729d8d9871",
      "91bb8117f6c24b07b26792ca46888d2d"
     ]
    },
    "id": "mqm9BlPoS-jH",
    "outputId": "f5aa7fea-6136-4020-9159-11d263026d29"
   },
   "outputs": [
    {
     "data": {
      "text/html": [],
      "text/plain": [
       "<IPython.core.display.HTML object>"
      ]
     },
     "metadata": {},
     "output_type": "display_data"
    },
    {
     "data": {
      "text/html": [
       "<style type=\"text/css\">\n",
       "#T_3fd7e th {\n",
       "  text-align: left;\n",
       "}\n",
       "#T_3fd7e_row0_col0, #T_3fd7e_row0_col5, #T_3fd7e_row0_col6, #T_3fd7e_row1_col0, #T_3fd7e_row1_col1, #T_3fd7e_row1_col2, #T_3fd7e_row1_col3, #T_3fd7e_row1_col4, #T_3fd7e_row1_col5, #T_3fd7e_row1_col6, #T_3fd7e_row2_col0, #T_3fd7e_row2_col1, #T_3fd7e_row2_col2, #T_3fd7e_row2_col3, #T_3fd7e_row2_col4, #T_3fd7e_row2_col5, #T_3fd7e_row2_col6, #T_3fd7e_row3_col0, #T_3fd7e_row3_col1, #T_3fd7e_row3_col2, #T_3fd7e_row3_col3, #T_3fd7e_row3_col4, #T_3fd7e_row3_col5, #T_3fd7e_row3_col6, #T_3fd7e_row4_col0, #T_3fd7e_row4_col1, #T_3fd7e_row4_col2, #T_3fd7e_row4_col3, #T_3fd7e_row4_col4, #T_3fd7e_row4_col5, #T_3fd7e_row4_col6, #T_3fd7e_row5_col0, #T_3fd7e_row5_col1, #T_3fd7e_row5_col2, #T_3fd7e_row5_col3, #T_3fd7e_row5_col4, #T_3fd7e_row5_col5, #T_3fd7e_row5_col6, #T_3fd7e_row6_col0, #T_3fd7e_row6_col1, #T_3fd7e_row6_col2, #T_3fd7e_row6_col3, #T_3fd7e_row6_col4, #T_3fd7e_row6_col6, #T_3fd7e_row7_col0, #T_3fd7e_row7_col1, #T_3fd7e_row7_col2, #T_3fd7e_row7_col3, #T_3fd7e_row7_col4, #T_3fd7e_row7_col5, #T_3fd7e_row7_col6, #T_3fd7e_row8_col0, #T_3fd7e_row8_col1, #T_3fd7e_row8_col2, #T_3fd7e_row8_col3, #T_3fd7e_row8_col4, #T_3fd7e_row8_col5, #T_3fd7e_row8_col6, #T_3fd7e_row9_col0, #T_3fd7e_row9_col1, #T_3fd7e_row9_col2, #T_3fd7e_row9_col3, #T_3fd7e_row9_col4, #T_3fd7e_row9_col5, #T_3fd7e_row9_col6, #T_3fd7e_row10_col0, #T_3fd7e_row10_col1, #T_3fd7e_row10_col2, #T_3fd7e_row10_col3, #T_3fd7e_row10_col4, #T_3fd7e_row10_col5, #T_3fd7e_row10_col6, #T_3fd7e_row11_col0, #T_3fd7e_row11_col1, #T_3fd7e_row11_col2, #T_3fd7e_row11_col3, #T_3fd7e_row11_col4, #T_3fd7e_row11_col5, #T_3fd7e_row11_col6, #T_3fd7e_row12_col0, #T_3fd7e_row12_col1, #T_3fd7e_row12_col2, #T_3fd7e_row12_col3, #T_3fd7e_row12_col4, #T_3fd7e_row12_col5, #T_3fd7e_row12_col6, #T_3fd7e_row13_col0, #T_3fd7e_row13_col1, #T_3fd7e_row13_col2, #T_3fd7e_row13_col3, #T_3fd7e_row13_col4, #T_3fd7e_row13_col5, #T_3fd7e_row13_col6, #T_3fd7e_row14_col0, #T_3fd7e_row14_col1, #T_3fd7e_row14_col2, #T_3fd7e_row14_col3, #T_3fd7e_row14_col4, #T_3fd7e_row14_col5, #T_3fd7e_row15_col0, #T_3fd7e_row15_col1, #T_3fd7e_row15_col2, #T_3fd7e_row15_col3, #T_3fd7e_row15_col4, #T_3fd7e_row15_col5, #T_3fd7e_row15_col6, #T_3fd7e_row16_col0, #T_3fd7e_row16_col1, #T_3fd7e_row16_col2, #T_3fd7e_row16_col3, #T_3fd7e_row16_col4, #T_3fd7e_row16_col5, #T_3fd7e_row16_col6, #T_3fd7e_row17_col0, #T_3fd7e_row17_col1, #T_3fd7e_row17_col2, #T_3fd7e_row17_col3, #T_3fd7e_row17_col4, #T_3fd7e_row17_col5, #T_3fd7e_row17_col6, #T_3fd7e_row18_col0, #T_3fd7e_row18_col1, #T_3fd7e_row18_col2, #T_3fd7e_row18_col3, #T_3fd7e_row18_col4, #T_3fd7e_row18_col5, #T_3fd7e_row18_col6 {\n",
       "  text-align: left;\n",
       "}\n",
       "#T_3fd7e_row0_col1, #T_3fd7e_row0_col2, #T_3fd7e_row0_col3, #T_3fd7e_row0_col4, #T_3fd7e_row6_col5, #T_3fd7e_row14_col6 {\n",
       "  text-align: left;\n",
       "  background-color: yellow;\n",
       "}\n",
       "#T_3fd7e_row0_col7, #T_3fd7e_row1_col7, #T_3fd7e_row3_col7, #T_3fd7e_row4_col7, #T_3fd7e_row5_col7, #T_3fd7e_row6_col7, #T_3fd7e_row7_col7, #T_3fd7e_row8_col7, #T_3fd7e_row9_col7, #T_3fd7e_row10_col7, #T_3fd7e_row11_col7, #T_3fd7e_row12_col7, #T_3fd7e_row13_col7, #T_3fd7e_row14_col7, #T_3fd7e_row15_col7, #T_3fd7e_row16_col7, #T_3fd7e_row17_col7, #T_3fd7e_row18_col7 {\n",
       "  text-align: left;\n",
       "  background-color: lightgrey;\n",
       "}\n",
       "#T_3fd7e_row2_col7 {\n",
       "  text-align: left;\n",
       "  background-color: yellow;\n",
       "  background-color: lightgrey;\n",
       "}\n",
       "</style>\n",
       "<table id=\"T_3fd7e\">\n",
       "  <thead>\n",
       "    <tr>\n",
       "      <th class=\"blank level0\" >&nbsp;</th>\n",
       "      <th id=\"T_3fd7e_level0_col0\" class=\"col_heading level0 col0\" >Model</th>\n",
       "      <th id=\"T_3fd7e_level0_col1\" class=\"col_heading level0 col1\" >MAE</th>\n",
       "      <th id=\"T_3fd7e_level0_col2\" class=\"col_heading level0 col2\" >MSE</th>\n",
       "      <th id=\"T_3fd7e_level0_col3\" class=\"col_heading level0 col3\" >RMSE</th>\n",
       "      <th id=\"T_3fd7e_level0_col4\" class=\"col_heading level0 col4\" >R2</th>\n",
       "      <th id=\"T_3fd7e_level0_col5\" class=\"col_heading level0 col5\" >RMSLE</th>\n",
       "      <th id=\"T_3fd7e_level0_col6\" class=\"col_heading level0 col6\" >MAPE</th>\n",
       "      <th id=\"T_3fd7e_level0_col7\" class=\"col_heading level0 col7\" >TT (Sec)</th>\n",
       "    </tr>\n",
       "  </thead>\n",
       "  <tbody>\n",
       "    <tr>\n",
       "      <th id=\"T_3fd7e_level0_row0\" class=\"row_heading level0 row0\" >rf</th>\n",
       "      <td id=\"T_3fd7e_row0_col0\" class=\"data row0 col0\" >Random Forest Regressor</td>\n",
       "      <td id=\"T_3fd7e_row0_col1\" class=\"data row0 col1\" >2.0112</td>\n",
       "      <td id=\"T_3fd7e_row0_col2\" class=\"data row0 col2\" >6.9698</td>\n",
       "      <td id=\"T_3fd7e_row0_col3\" class=\"data row0 col3\" >2.5871</td>\n",
       "      <td id=\"T_3fd7e_row0_col4\" class=\"data row0 col4\" >-0.0142</td>\n",
       "      <td id=\"T_3fd7e_row0_col5\" class=\"data row0 col5\" >0.5650</td>\n",
       "      <td id=\"T_3fd7e_row0_col6\" class=\"data row0 col6\" >1.5808</td>\n",
       "      <td id=\"T_3fd7e_row0_col7\" class=\"data row0 col7\" >1.1360</td>\n",
       "    </tr>\n",
       "    <tr>\n",
       "      <th id=\"T_3fd7e_level0_row1\" class=\"row_heading level0 row1\" >catboost</th>\n",
       "      <td id=\"T_3fd7e_row1_col0\" class=\"data row1 col0\" >CatBoost Regressor</td>\n",
       "      <td id=\"T_3fd7e_row1_col1\" class=\"data row1 col1\" >2.0401</td>\n",
       "      <td id=\"T_3fd7e_row1_col2\" class=\"data row1 col2\" >7.0750</td>\n",
       "      <td id=\"T_3fd7e_row1_col3\" class=\"data row1 col3\" >2.6108</td>\n",
       "      <td id=\"T_3fd7e_row1_col4\" class=\"data row1 col4\" >-0.0263</td>\n",
       "      <td id=\"T_3fd7e_row1_col5\" class=\"data row1 col5\" >0.5674</td>\n",
       "      <td id=\"T_3fd7e_row1_col6\" class=\"data row1 col6\" >1.6719</td>\n",
       "      <td id=\"T_3fd7e_row1_col7\" class=\"data row1 col7\" >20.2700</td>\n",
       "    </tr>\n",
       "    <tr>\n",
       "      <th id=\"T_3fd7e_level0_row2\" class=\"row_heading level0 row2\" >llar</th>\n",
       "      <td id=\"T_3fd7e_row2_col0\" class=\"data row2 col0\" >Lasso Least Angle Regression</td>\n",
       "      <td id=\"T_3fd7e_row2_col1\" class=\"data row2 col1\" >2.1336</td>\n",
       "      <td id=\"T_3fd7e_row2_col2\" class=\"data row2 col2\" >7.2502</td>\n",
       "      <td id=\"T_3fd7e_row2_col3\" class=\"data row2 col3\" >2.6386</td>\n",
       "      <td id=\"T_3fd7e_row2_col4\" class=\"data row2 col4\" >-0.0312</td>\n",
       "      <td id=\"T_3fd7e_row2_col5\" class=\"data row2 col5\" >0.5466</td>\n",
       "      <td id=\"T_3fd7e_row2_col6\" class=\"data row2 col6\" >1.6950</td>\n",
       "      <td id=\"T_3fd7e_row2_col7\" class=\"data row2 col7\" >0.0600</td>\n",
       "    </tr>\n",
       "    <tr>\n",
       "      <th id=\"T_3fd7e_level0_row3\" class=\"row_heading level0 row3\" >ada</th>\n",
       "      <td id=\"T_3fd7e_row3_col0\" class=\"data row3 col0\" >AdaBoost Regressor</td>\n",
       "      <td id=\"T_3fd7e_row3_col1\" class=\"data row3 col1\" >2.0507</td>\n",
       "      <td id=\"T_3fd7e_row3_col2\" class=\"data row3 col2\" >7.1158</td>\n",
       "      <td id=\"T_3fd7e_row3_col3\" class=\"data row3 col3\" >2.6175</td>\n",
       "      <td id=\"T_3fd7e_row3_col4\" class=\"data row3 col4\" >-0.0497</td>\n",
       "      <td id=\"T_3fd7e_row3_col5\" class=\"data row3 col5\" >0.5592</td>\n",
       "      <td id=\"T_3fd7e_row3_col6\" class=\"data row3 col6\" >1.7117</td>\n",
       "      <td id=\"T_3fd7e_row3_col7\" class=\"data row3 col7\" >0.2820</td>\n",
       "    </tr>\n",
       "    <tr>\n",
       "      <th id=\"T_3fd7e_level0_row4\" class=\"row_heading level0 row4\" >et</th>\n",
       "      <td id=\"T_3fd7e_row4_col0\" class=\"data row4 col0\" >Extra Trees Regressor</td>\n",
       "      <td id=\"T_3fd7e_row4_col1\" class=\"data row4 col1\" >2.1081</td>\n",
       "      <td id=\"T_3fd7e_row4_col2\" class=\"data row4 col2\" >7.2792</td>\n",
       "      <td id=\"T_3fd7e_row4_col3\" class=\"data row4 col3\" >2.6631</td>\n",
       "      <td id=\"T_3fd7e_row4_col4\" class=\"data row4 col4\" >-0.0832</td>\n",
       "      <td id=\"T_3fd7e_row4_col5\" class=\"data row4 col5\" >0.6011</td>\n",
       "      <td id=\"T_3fd7e_row4_col6\" class=\"data row4 col6\" >1.5687</td>\n",
       "      <td id=\"T_3fd7e_row4_col7\" class=\"data row4 col7\" >0.7860</td>\n",
       "    </tr>\n",
       "    <tr>\n",
       "      <th id=\"T_3fd7e_level0_row5\" class=\"row_heading level0 row5\" >gbr</th>\n",
       "      <td id=\"T_3fd7e_row5_col0\" class=\"data row5 col0\" >Gradient Boosting Regressor</td>\n",
       "      <td id=\"T_3fd7e_row5_col1\" class=\"data row5 col1\" >2.0836</td>\n",
       "      <td id=\"T_3fd7e_row5_col2\" class=\"data row5 col2\" >7.4964</td>\n",
       "      <td id=\"T_3fd7e_row5_col3\" class=\"data row5 col3\" >2.6912</td>\n",
       "      <td id=\"T_3fd7e_row5_col4\" class=\"data row5 col4\" >-0.0988</td>\n",
       "      <td id=\"T_3fd7e_row5_col5\" class=\"data row5 col5\" >0.6062</td>\n",
       "      <td id=\"T_3fd7e_row5_col6\" class=\"data row5 col6\" >1.6883</td>\n",
       "      <td id=\"T_3fd7e_row5_col7\" class=\"data row5 col7\" >0.3900</td>\n",
       "    </tr>\n",
       "    <tr>\n",
       "      <th id=\"T_3fd7e_level0_row6\" class=\"row_heading level0 row6\" >dummy</th>\n",
       "      <td id=\"T_3fd7e_row6_col0\" class=\"data row6 col0\" >Dummy Regressor</td>\n",
       "      <td id=\"T_3fd7e_row6_col1\" class=\"data row6 col1\" >2.1726</td>\n",
       "      <td id=\"T_3fd7e_row6_col2\" class=\"data row6 col2\" >7.7830</td>\n",
       "      <td id=\"T_3fd7e_row6_col3\" class=\"data row6 col3\" >2.7479</td>\n",
       "      <td id=\"T_3fd7e_row6_col4\" class=\"data row6 col4\" >-0.1158</td>\n",
       "      <td id=\"T_3fd7e_row6_col5\" class=\"data row6 col5\" >0.5117</td>\n",
       "      <td id=\"T_3fd7e_row6_col6\" class=\"data row6 col6\" >1.5775</td>\n",
       "      <td id=\"T_3fd7e_row6_col7\" class=\"data row6 col7\" >0.1400</td>\n",
       "    </tr>\n",
       "    <tr>\n",
       "      <th id=\"T_3fd7e_level0_row7\" class=\"row_heading level0 row7\" >lightgbm</th>\n",
       "      <td id=\"T_3fd7e_row7_col0\" class=\"data row7 col0\" >Light Gradient Boosting Machine</td>\n",
       "      <td id=\"T_3fd7e_row7_col1\" class=\"data row7 col1\" >2.1343</td>\n",
       "      <td id=\"T_3fd7e_row7_col2\" class=\"data row7 col2\" >7.6026</td>\n",
       "      <td id=\"T_3fd7e_row7_col3\" class=\"data row7 col3\" >2.7213</td>\n",
       "      <td id=\"T_3fd7e_row7_col4\" class=\"data row7 col4\" >-0.1393</td>\n",
       "      <td id=\"T_3fd7e_row7_col5\" class=\"data row7 col5\" >0.6379</td>\n",
       "      <td id=\"T_3fd7e_row7_col6\" class=\"data row7 col6\" >1.6257</td>\n",
       "      <td id=\"T_3fd7e_row7_col7\" class=\"data row7 col7\" >42.8040</td>\n",
       "    </tr>\n",
       "    <tr>\n",
       "      <th id=\"T_3fd7e_level0_row8\" class=\"row_heading level0 row8\" >xgboost</th>\n",
       "      <td id=\"T_3fd7e_row8_col0\" class=\"data row8 col0\" >Extreme Gradient Boosting</td>\n",
       "      <td id=\"T_3fd7e_row8_col1\" class=\"data row8 col1\" >2.2242</td>\n",
       "      <td id=\"T_3fd7e_row8_col2\" class=\"data row8 col2\" >7.9789</td>\n",
       "      <td id=\"T_3fd7e_row8_col3\" class=\"data row8 col3\" >2.7753</td>\n",
       "      <td id=\"T_3fd7e_row8_col4\" class=\"data row8 col4\" >-0.1684</td>\n",
       "      <td id=\"T_3fd7e_row8_col5\" class=\"data row8 col5\" >0.6224</td>\n",
       "      <td id=\"T_3fd7e_row8_col6\" class=\"data row8 col6\" >1.7195</td>\n",
       "      <td id=\"T_3fd7e_row8_col7\" class=\"data row8 col7\" >0.7830</td>\n",
       "    </tr>\n",
       "    <tr>\n",
       "      <th id=\"T_3fd7e_level0_row9\" class=\"row_heading level0 row9\" >knn</th>\n",
       "      <td id=\"T_3fd7e_row9_col0\" class=\"data row9 col0\" >K Neighbors Regressor</td>\n",
       "      <td id=\"T_3fd7e_row9_col1\" class=\"data row9 col1\" >2.3887</td>\n",
       "      <td id=\"T_3fd7e_row9_col2\" class=\"data row9 col2\" >9.3744</td>\n",
       "      <td id=\"T_3fd7e_row9_col3\" class=\"data row9 col3\" >2.9857</td>\n",
       "      <td id=\"T_3fd7e_row9_col4\" class=\"data row9 col4\" >-0.3479</td>\n",
       "      <td id=\"T_3fd7e_row9_col5\" class=\"data row9 col5\" >0.6682</td>\n",
       "      <td id=\"T_3fd7e_row9_col6\" class=\"data row9 col6\" >1.9079</td>\n",
       "      <td id=\"T_3fd7e_row9_col7\" class=\"data row9 col7\" >0.1210</td>\n",
       "    </tr>\n",
       "    <tr>\n",
       "      <th id=\"T_3fd7e_level0_row10\" class=\"row_heading level0 row10\" >en</th>\n",
       "      <td id=\"T_3fd7e_row10_col0\" class=\"data row10 col0\" >Elastic Net</td>\n",
       "      <td id=\"T_3fd7e_row10_col1\" class=\"data row10 col1\" >2.1835</td>\n",
       "      <td id=\"T_3fd7e_row10_col2\" class=\"data row10 col2\" >11.0427</td>\n",
       "      <td id=\"T_3fd7e_row10_col3\" class=\"data row10 col3\" >2.9984</td>\n",
       "      <td id=\"T_3fd7e_row10_col4\" class=\"data row10 col4\" >-0.4549</td>\n",
       "      <td id=\"T_3fd7e_row10_col5\" class=\"data row10 col5\" >0.6279</td>\n",
       "      <td id=\"T_3fd7e_row10_col6\" class=\"data row10 col6\" >1.6741</td>\n",
       "      <td id=\"T_3fd7e_row10_col7\" class=\"data row10 col7\" >0.0850</td>\n",
       "    </tr>\n",
       "    <tr>\n",
       "      <th id=\"T_3fd7e_level0_row11\" class=\"row_heading level0 row11\" >omp</th>\n",
       "      <td id=\"T_3fd7e_row11_col0\" class=\"data row11 col0\" >Orthogonal Matching Pursuit</td>\n",
       "      <td id=\"T_3fd7e_row11_col1\" class=\"data row11 col1\" >2.2816</td>\n",
       "      <td id=\"T_3fd7e_row11_col2\" class=\"data row11 col2\" >11.7415</td>\n",
       "      <td id=\"T_3fd7e_row11_col3\" class=\"data row11 col3\" >3.1342</td>\n",
       "      <td id=\"T_3fd7e_row11_col4\" class=\"data row11 col4\" >-0.5172</td>\n",
       "      <td id=\"T_3fd7e_row11_col5\" class=\"data row11 col5\" >0.5319</td>\n",
       "      <td id=\"T_3fd7e_row11_col6\" class=\"data row11 col6\" >1.6439</td>\n",
       "      <td id=\"T_3fd7e_row11_col7\" class=\"data row11 col7\" >0.0850</td>\n",
       "    </tr>\n",
       "    <tr>\n",
       "      <th id=\"T_3fd7e_level0_row12\" class=\"row_heading level0 row12\" >lasso</th>\n",
       "      <td id=\"T_3fd7e_row12_col0\" class=\"data row12 col0\" >Lasso Regression</td>\n",
       "      <td id=\"T_3fd7e_row12_col1\" class=\"data row12 col1\" >2.2133</td>\n",
       "      <td id=\"T_3fd7e_row12_col2\" class=\"data row12 col2\" >12.6238</td>\n",
       "      <td id=\"T_3fd7e_row12_col3\" class=\"data row12 col3\" >3.0974</td>\n",
       "      <td id=\"T_3fd7e_row12_col4\" class=\"data row12 col4\" >-0.6012</td>\n",
       "      <td id=\"T_3fd7e_row12_col5\" class=\"data row12 col5\" >0.6118</td>\n",
       "      <td id=\"T_3fd7e_row12_col6\" class=\"data row12 col6\" >1.7060</td>\n",
       "      <td id=\"T_3fd7e_row12_col7\" class=\"data row12 col7\" >0.0920</td>\n",
       "    </tr>\n",
       "    <tr>\n",
       "      <th id=\"T_3fd7e_level0_row13\" class=\"row_heading level0 row13\" >dt</th>\n",
       "      <td id=\"T_3fd7e_row13_col0\" class=\"data row13 col0\" >Decision Tree Regressor</td>\n",
       "      <td id=\"T_3fd7e_row13_col1\" class=\"data row13 col1\" >2.5364</td>\n",
       "      <td id=\"T_3fd7e_row13_col2\" class=\"data row13 col2\" >11.0281</td>\n",
       "      <td id=\"T_3fd7e_row13_col3\" class=\"data row13 col3\" >3.2694</td>\n",
       "      <td id=\"T_3fd7e_row13_col4\" class=\"data row13 col4\" >-0.6453</td>\n",
       "      <td id=\"T_3fd7e_row13_col5\" class=\"data row13 col5\" >0.6122</td>\n",
       "      <td id=\"T_3fd7e_row13_col6\" class=\"data row13 col6\" >1.9600</td>\n",
       "      <td id=\"T_3fd7e_row13_col7\" class=\"data row13 col7\" >0.1380</td>\n",
       "    </tr>\n",
       "    <tr>\n",
       "      <th id=\"T_3fd7e_level0_row14\" class=\"row_heading level0 row14\" >huber</th>\n",
       "      <td id=\"T_3fd7e_row14_col0\" class=\"data row14 col0\" >Huber Regressor</td>\n",
       "      <td id=\"T_3fd7e_row14_col1\" class=\"data row14 col1\" >3.1373</td>\n",
       "      <td id=\"T_3fd7e_row14_col2\" class=\"data row14 col2\" >13.8622</td>\n",
       "      <td id=\"T_3fd7e_row14_col3\" class=\"data row14 col3\" >3.6645</td>\n",
       "      <td id=\"T_3fd7e_row14_col4\" class=\"data row14 col4\" >-1.1357</td>\n",
       "      <td id=\"T_3fd7e_row14_col5\" class=\"data row14 col5\" >1.3831</td>\n",
       "      <td id=\"T_3fd7e_row14_col6\" class=\"data row14 col6\" >1.0376</td>\n",
       "      <td id=\"T_3fd7e_row14_col7\" class=\"data row14 col7\" >0.0840</td>\n",
       "    </tr>\n",
       "    <tr>\n",
       "      <th id=\"T_3fd7e_level0_row15\" class=\"row_heading level0 row15\" >lr</th>\n",
       "      <td id=\"T_3fd7e_row15_col0\" class=\"data row15 col0\" >Linear Regression</td>\n",
       "      <td id=\"T_3fd7e_row15_col1\" class=\"data row15 col1\" >2.3719</td>\n",
       "      <td id=\"T_3fd7e_row15_col2\" class=\"data row15 col2\" >18.4683</td>\n",
       "      <td id=\"T_3fd7e_row15_col3\" class=\"data row15 col3\" >3.5110</td>\n",
       "      <td id=\"T_3fd7e_row15_col4\" class=\"data row15 col4\" >-1.2035</td>\n",
       "      <td id=\"T_3fd7e_row15_col5\" class=\"data row15 col5\" >0.5382</td>\n",
       "      <td id=\"T_3fd7e_row15_col6\" class=\"data row15 col6\" >1.6861</td>\n",
       "      <td id=\"T_3fd7e_row15_col7\" class=\"data row15 col7\" >1.8860</td>\n",
       "    </tr>\n",
       "    <tr>\n",
       "      <th id=\"T_3fd7e_level0_row16\" class=\"row_heading level0 row16\" >ridge</th>\n",
       "      <td id=\"T_3fd7e_row16_col0\" class=\"data row16 col0\" >Ridge Regression</td>\n",
       "      <td id=\"T_3fd7e_row16_col1\" class=\"data row16 col1\" >2.5109</td>\n",
       "      <td id=\"T_3fd7e_row16_col2\" class=\"data row16 col2\" >37.3378</td>\n",
       "      <td id=\"T_3fd7e_row16_col3\" class=\"data row16 col3\" >4.1802</td>\n",
       "      <td id=\"T_3fd7e_row16_col4\" class=\"data row16 col4\" >-3.1284</td>\n",
       "      <td id=\"T_3fd7e_row16_col5\" class=\"data row16 col5\" >0.5470</td>\n",
       "      <td id=\"T_3fd7e_row16_col6\" class=\"data row16 col6\" >1.7725</td>\n",
       "      <td id=\"T_3fd7e_row16_col7\" class=\"data row16 col7\" >0.1390</td>\n",
       "    </tr>\n",
       "    <tr>\n",
       "      <th id=\"T_3fd7e_level0_row17\" class=\"row_heading level0 row17\" >par</th>\n",
       "      <td id=\"T_3fd7e_row17_col0\" class=\"data row17 col0\" >Passive Aggressive Regressor</td>\n",
       "      <td id=\"T_3fd7e_row17_col1\" class=\"data row17 col1\" >1922119.9023</td>\n",
       "      <td id=\"T_3fd7e_row17_col2\" class=\"data row17 col2\" >523083311580524.3125</td>\n",
       "      <td id=\"T_3fd7e_row17_col3\" class=\"data row17 col3\" >8983302.4938</td>\n",
       "      <td id=\"T_3fd7e_row17_col4\" class=\"data row17 col4\" >-59255801500891.7891</td>\n",
       "      <td id=\"T_3fd7e_row17_col5\" class=\"data row17 col5\" >3.5958</td>\n",
       "      <td id=\"T_3fd7e_row17_col6\" class=\"data row17 col6\" >1021233.3274</td>\n",
       "      <td id=\"T_3fd7e_row17_col7\" class=\"data row17 col7\" >0.2000</td>\n",
       "    </tr>\n",
       "    <tr>\n",
       "      <th id=\"T_3fd7e_level0_row18\" class=\"row_heading level0 row18\" >br</th>\n",
       "      <td id=\"T_3fd7e_row18_col0\" class=\"data row18 col0\" >Bayesian Ridge</td>\n",
       "      <td id=\"T_3fd7e_row18_col1\" class=\"data row18 col1\" >40230462.4672</td>\n",
       "      <td id=\"T_3fd7e_row18_col2\" class=\"data row18 col2\" >317473921867133312.0000</td>\n",
       "      <td id=\"T_3fd7e_row18_col3\" class=\"data row18 col3\" >179613090.8547</td>\n",
       "      <td id=\"T_3fd7e_row18_col4\" class=\"data row18 col4\" >-32390844225735576.0000</td>\n",
       "      <td id=\"T_3fd7e_row18_col5\" class=\"data row18 col5\" >12.4993</td>\n",
       "      <td id=\"T_3fd7e_row18_col6\" class=\"data row18 col6\" >20102349.8484</td>\n",
       "      <td id=\"T_3fd7e_row18_col7\" class=\"data row18 col7\" >0.0860</td>\n",
       "    </tr>\n",
       "  </tbody>\n",
       "</table>\n"
      ],
      "text/plain": [
       "<pandas.io.formats.style.Styler at 0x7fc3024536a0>"
      ]
     },
     "metadata": {},
     "output_type": "display_data"
    },
    {
     "data": {
      "text/html": [],
      "text/plain": [
       "<IPython.core.display.HTML object>"
      ]
     },
     "metadata": {},
     "output_type": "display_data"
    }
   ],
   "source": [
    "best_model = compare_models()"
   ]
  },
  {
   "cell_type": "code",
   "execution_count": 25,
   "metadata": {
    "colab": {
     "base_uri": "https://localhost:8080/",
     "height": 457,
     "referenced_widgets": [
      "31c6051b5a6b4824ae1ec15c0ed06a7b",
      "b62c3a16d4c04760b8eee733efa5293b",
      "0c0dbd52fab8486f971e2012cf213ec3",
      "d1d35a1defae4e3b89550e843f8b63c4",
      "d355a19dc22e4639a66d3300cf5faf68",
      "9caaeefbf5714412b4ecf48f802d5d5f",
      "ac19719851f64c1180655655399ba6a0",
      "bb94d966952c486eb0c68d7ef7b19699",
      "e8c714962e08499cbcecb8bd2dcc59a2",
      "cc5381e6b7e24e4598b3e0c43f0ad17f",
      "357a3ece2b7f4649a52bf70f53078192"
     ]
    },
    "id": "FDM4Iuo4TLuc",
    "outputId": "621faedf-572a-4f5d-87bf-c0d4da1b9aba"
   },
   "outputs": [
    {
     "data": {
      "text/html": [],
      "text/plain": [
       "<IPython.core.display.HTML object>"
      ]
     },
     "metadata": {},
     "output_type": "display_data"
    },
    {
     "data": {
      "text/html": [
       "<style type=\"text/css\">\n",
       "#T_001e9_row10_col0, #T_001e9_row10_col1, #T_001e9_row10_col2, #T_001e9_row10_col3, #T_001e9_row10_col4, #T_001e9_row10_col5 {\n",
       "  background: yellow;\n",
       "}\n",
       "</style>\n",
       "<table id=\"T_001e9\">\n",
       "  <thead>\n",
       "    <tr>\n",
       "      <th class=\"blank level0\" >&nbsp;</th>\n",
       "      <th id=\"T_001e9_level0_col0\" class=\"col_heading level0 col0\" >MAE</th>\n",
       "      <th id=\"T_001e9_level0_col1\" class=\"col_heading level0 col1\" >MSE</th>\n",
       "      <th id=\"T_001e9_level0_col2\" class=\"col_heading level0 col2\" >RMSE</th>\n",
       "      <th id=\"T_001e9_level0_col3\" class=\"col_heading level0 col3\" >R2</th>\n",
       "      <th id=\"T_001e9_level0_col4\" class=\"col_heading level0 col4\" >RMSLE</th>\n",
       "      <th id=\"T_001e9_level0_col5\" class=\"col_heading level0 col5\" >MAPE</th>\n",
       "    </tr>\n",
       "    <tr>\n",
       "      <th class=\"index_name level0\" >Fold</th>\n",
       "      <th class=\"blank col0\" >&nbsp;</th>\n",
       "      <th class=\"blank col1\" >&nbsp;</th>\n",
       "      <th class=\"blank col2\" >&nbsp;</th>\n",
       "      <th class=\"blank col3\" >&nbsp;</th>\n",
       "      <th class=\"blank col4\" >&nbsp;</th>\n",
       "      <th class=\"blank col5\" >&nbsp;</th>\n",
       "    </tr>\n",
       "  </thead>\n",
       "  <tbody>\n",
       "    <tr>\n",
       "      <th id=\"T_001e9_level0_row0\" class=\"row_heading level0 row0\" >0</th>\n",
       "      <td id=\"T_001e9_row0_col0\" class=\"data row0 col0\" >1.5256</td>\n",
       "      <td id=\"T_001e9_row0_col1\" class=\"data row0 col1\" >3.5944</td>\n",
       "      <td id=\"T_001e9_row0_col2\" class=\"data row0 col2\" >1.8959</td>\n",
       "      <td id=\"T_001e9_row0_col3\" class=\"data row0 col3\" >0.2751</td>\n",
       "      <td id=\"T_001e9_row0_col4\" class=\"data row0 col4\" >0.4606</td>\n",
       "      <td id=\"T_001e9_row0_col5\" class=\"data row0 col5\" >0.7756</td>\n",
       "    </tr>\n",
       "    <tr>\n",
       "      <th id=\"T_001e9_level0_row1\" class=\"row_heading level0 row1\" >1</th>\n",
       "      <td id=\"T_001e9_row1_col0\" class=\"data row1 col0\" >1.6737</td>\n",
       "      <td id=\"T_001e9_row1_col1\" class=\"data row1 col1\" >5.3277</td>\n",
       "      <td id=\"T_001e9_row1_col2\" class=\"data row1 col2\" >2.3082</td>\n",
       "      <td id=\"T_001e9_row1_col3\" class=\"data row1 col3\" >-0.3810</td>\n",
       "      <td id=\"T_001e9_row1_col4\" class=\"data row1 col4\" >0.5884</td>\n",
       "      <td id=\"T_001e9_row1_col5\" class=\"data row1 col5\" >0.8391</td>\n",
       "    </tr>\n",
       "    <tr>\n",
       "      <th id=\"T_001e9_level0_row2\" class=\"row_heading level0 row2\" >2</th>\n",
       "      <td id=\"T_001e9_row2_col0\" class=\"data row2 col0\" >2.5522</td>\n",
       "      <td id=\"T_001e9_row2_col1\" class=\"data row2 col1\" >10.0889</td>\n",
       "      <td id=\"T_001e9_row2_col2\" class=\"data row2 col2\" >3.1763</td>\n",
       "      <td id=\"T_001e9_row2_col3\" class=\"data row2 col3\" >0.0321</td>\n",
       "      <td id=\"T_001e9_row2_col4\" class=\"data row2 col4\" >0.6833</td>\n",
       "      <td id=\"T_001e9_row2_col5\" class=\"data row2 col5\" >1.8728</td>\n",
       "    </tr>\n",
       "    <tr>\n",
       "      <th id=\"T_001e9_level0_row3\" class=\"row_heading level0 row3\" >3</th>\n",
       "      <td id=\"T_001e9_row3_col0\" class=\"data row3 col0\" >1.7010</td>\n",
       "      <td id=\"T_001e9_row3_col1\" class=\"data row3 col1\" >4.5232</td>\n",
       "      <td id=\"T_001e9_row3_col2\" class=\"data row3 col2\" >2.1268</td>\n",
       "      <td id=\"T_001e9_row3_col3\" class=\"data row3 col3\" >0.1388</td>\n",
       "      <td id=\"T_001e9_row3_col4\" class=\"data row3 col4\" >0.5672</td>\n",
       "      <td id=\"T_001e9_row3_col5\" class=\"data row3 col5\" >1.2734</td>\n",
       "    </tr>\n",
       "    <tr>\n",
       "      <th id=\"T_001e9_level0_row4\" class=\"row_heading level0 row4\" >4</th>\n",
       "      <td id=\"T_001e9_row4_col0\" class=\"data row4 col0\" >2.7846</td>\n",
       "      <td id=\"T_001e9_row4_col1\" class=\"data row4 col1\" >10.5665</td>\n",
       "      <td id=\"T_001e9_row4_col2\" class=\"data row4 col2\" >3.2506</td>\n",
       "      <td id=\"T_001e9_row4_col3\" class=\"data row4 col3\" >0.1216</td>\n",
       "      <td id=\"T_001e9_row4_col4\" class=\"data row4 col4\" >0.7518</td>\n",
       "      <td id=\"T_001e9_row4_col5\" class=\"data row4 col5\" >3.5613</td>\n",
       "    </tr>\n",
       "    <tr>\n",
       "      <th id=\"T_001e9_level0_row5\" class=\"row_heading level0 row5\" >5</th>\n",
       "      <td id=\"T_001e9_row5_col0\" class=\"data row5 col0\" >1.9112</td>\n",
       "      <td id=\"T_001e9_row5_col1\" class=\"data row5 col1\" >6.5702</td>\n",
       "      <td id=\"T_001e9_row5_col2\" class=\"data row5 col2\" >2.5632</td>\n",
       "      <td id=\"T_001e9_row5_col3\" class=\"data row5 col3\" >-0.3601</td>\n",
       "      <td id=\"T_001e9_row5_col4\" class=\"data row5 col4\" >0.5917</td>\n",
       "      <td id=\"T_001e9_row5_col5\" class=\"data row5 col5\" >0.6865</td>\n",
       "    </tr>\n",
       "    <tr>\n",
       "      <th id=\"T_001e9_level0_row6\" class=\"row_heading level0 row6\" >6</th>\n",
       "      <td id=\"T_001e9_row6_col0\" class=\"data row6 col0\" >1.6379</td>\n",
       "      <td id=\"T_001e9_row6_col1\" class=\"data row6 col1\" >3.6591</td>\n",
       "      <td id=\"T_001e9_row6_col2\" class=\"data row6 col2\" >1.9129</td>\n",
       "      <td id=\"T_001e9_row6_col3\" class=\"data row6 col3\" >0.2275</td>\n",
       "      <td id=\"T_001e9_row6_col4\" class=\"data row6 col4\" >0.5433</td>\n",
       "      <td id=\"T_001e9_row6_col5\" class=\"data row6 col5\" >1.9942</td>\n",
       "    </tr>\n",
       "    <tr>\n",
       "      <th id=\"T_001e9_level0_row7\" class=\"row_heading level0 row7\" >7</th>\n",
       "      <td id=\"T_001e9_row7_col0\" class=\"data row7 col0\" >2.5024</td>\n",
       "      <td id=\"T_001e9_row7_col1\" class=\"data row7 col1\" >11.9216</td>\n",
       "      <td id=\"T_001e9_row7_col2\" class=\"data row7 col2\" >3.4528</td>\n",
       "      <td id=\"T_001e9_row7_col3\" class=\"data row7 col3\" >-0.6568</td>\n",
       "      <td id=\"T_001e9_row7_col4\" class=\"data row7 col4\" >0.6193</td>\n",
       "      <td id=\"T_001e9_row7_col5\" class=\"data row7 col5\" >2.6662</td>\n",
       "    </tr>\n",
       "    <tr>\n",
       "      <th id=\"T_001e9_level0_row8\" class=\"row_heading level0 row8\" >8</th>\n",
       "      <td id=\"T_001e9_row8_col0\" class=\"data row8 col0\" >1.8190</td>\n",
       "      <td id=\"T_001e9_row8_col1\" class=\"data row8 col1\" >6.4484</td>\n",
       "      <td id=\"T_001e9_row8_col2\" class=\"data row8 col2\" >2.5394</td>\n",
       "      <td id=\"T_001e9_row8_col3\" class=\"data row8 col3\" >0.1744</td>\n",
       "      <td id=\"T_001e9_row8_col4\" class=\"data row8 col4\" >0.4761</td>\n",
       "      <td id=\"T_001e9_row8_col5\" class=\"data row8 col5\" >1.3306</td>\n",
       "    </tr>\n",
       "    <tr>\n",
       "      <th id=\"T_001e9_level0_row9\" class=\"row_heading level0 row9\" >9</th>\n",
       "      <td id=\"T_001e9_row9_col0\" class=\"data row9 col0\" >2.0040</td>\n",
       "      <td id=\"T_001e9_row9_col1\" class=\"data row9 col1\" >6.9981</td>\n",
       "      <td id=\"T_001e9_row9_col2\" class=\"data row9 col2\" >2.6454</td>\n",
       "      <td id=\"T_001e9_row9_col3\" class=\"data row9 col3\" >0.2860</td>\n",
       "      <td id=\"T_001e9_row9_col4\" class=\"data row9 col4\" >0.3682</td>\n",
       "      <td id=\"T_001e9_row9_col5\" class=\"data row9 col5\" >0.8085</td>\n",
       "    </tr>\n",
       "    <tr>\n",
       "      <th id=\"T_001e9_level0_row10\" class=\"row_heading level0 row10\" >Mean</th>\n",
       "      <td id=\"T_001e9_row10_col0\" class=\"data row10 col0\" >2.0112</td>\n",
       "      <td id=\"T_001e9_row10_col1\" class=\"data row10 col1\" >6.9698</td>\n",
       "      <td id=\"T_001e9_row10_col2\" class=\"data row10 col2\" >2.5871</td>\n",
       "      <td id=\"T_001e9_row10_col3\" class=\"data row10 col3\" >-0.0142</td>\n",
       "      <td id=\"T_001e9_row10_col4\" class=\"data row10 col4\" >0.5650</td>\n",
       "      <td id=\"T_001e9_row10_col5\" class=\"data row10 col5\" >1.5808</td>\n",
       "    </tr>\n",
       "    <tr>\n",
       "      <th id=\"T_001e9_level0_row11\" class=\"row_heading level0 row11\" >Std</th>\n",
       "      <td id=\"T_001e9_row11_col0\" class=\"data row11 col0\" >0.4200</td>\n",
       "      <td id=\"T_001e9_row11_col1\" class=\"data row11 col1\" >2.8045</td>\n",
       "      <td id=\"T_001e9_row11_col2\" class=\"data row11 col2\" >0.5258</td>\n",
       "      <td id=\"T_001e9_row11_col3\" class=\"data row11 col3\" >0.3129</td>\n",
       "      <td id=\"T_001e9_row11_col4\" class=\"data row11 col4\" >0.1054</td>\n",
       "      <td id=\"T_001e9_row11_col5\" class=\"data row11 col5\" >0.9005</td>\n",
       "    </tr>\n",
       "  </tbody>\n",
       "</table>\n"
      ],
      "text/plain": [
       "<pandas.io.formats.style.Styler at 0x7fc30229d810>"
      ]
     },
     "metadata": {},
     "output_type": "display_data"
    },
    {
     "data": {
      "text/html": [],
      "text/plain": [
       "<IPython.core.display.HTML object>"
      ]
     },
     "metadata": {},
     "output_type": "display_data"
    }
   ],
   "source": [
    "model = create_model(best_model)\n"
   ]
  },
  {
   "cell_type": "code",
   "execution_count": 26,
   "metadata": {
    "colab": {
     "base_uri": "https://localhost:8080/",
     "height": 512,
     "referenced_widgets": [
      "282ca50dbe0841c2a3736001be3897a5",
      "e03788ea4cd94be8a3e28ccda7a0dfeb",
      "501d29794f2643fd9e8ad3a08db3a763",
      "507d767684f74b36a71ae98a60dec38f",
      "8b0de5e1304d45b8843abdfa07be4c19",
      "7408c1f97b4345f8a0d4df751a746877",
      "a74ca3554dfc41ffa2a6a273fbe8d38f",
      "db8daac0acc64431b42ffb0a1ca0aa57",
      "63a628c60a974d0eaf7f74c636884b76",
      "5a5d814ce6004282b0955c38fbc7a99d",
      "dbbd53d7ea8b43a7bd765f1bbcdba767"
     ]
    },
    "id": "tbFOYhygT1ZQ",
    "outputId": "dfe3ab50-268a-48d2-fa36-31d8ad534276"
   },
   "outputs": [
    {
     "data": {
      "text/html": [],
      "text/plain": [
       "<IPython.core.display.HTML object>"
      ]
     },
     "metadata": {},
     "output_type": "display_data"
    },
    {
     "data": {
      "text/html": [
       "<style type=\"text/css\">\n",
       "#T_717d3_row10_col0, #T_717d3_row10_col1, #T_717d3_row10_col2, #T_717d3_row10_col3, #T_717d3_row10_col4, #T_717d3_row10_col5 {\n",
       "  background: yellow;\n",
       "}\n",
       "</style>\n",
       "<table id=\"T_717d3\">\n",
       "  <thead>\n",
       "    <tr>\n",
       "      <th class=\"blank level0\" >&nbsp;</th>\n",
       "      <th id=\"T_717d3_level0_col0\" class=\"col_heading level0 col0\" >MAE</th>\n",
       "      <th id=\"T_717d3_level0_col1\" class=\"col_heading level0 col1\" >MSE</th>\n",
       "      <th id=\"T_717d3_level0_col2\" class=\"col_heading level0 col2\" >RMSE</th>\n",
       "      <th id=\"T_717d3_level0_col3\" class=\"col_heading level0 col3\" >R2</th>\n",
       "      <th id=\"T_717d3_level0_col4\" class=\"col_heading level0 col4\" >RMSLE</th>\n",
       "      <th id=\"T_717d3_level0_col5\" class=\"col_heading level0 col5\" >MAPE</th>\n",
       "    </tr>\n",
       "    <tr>\n",
       "      <th class=\"index_name level0\" >Fold</th>\n",
       "      <th class=\"blank col0\" >&nbsp;</th>\n",
       "      <th class=\"blank col1\" >&nbsp;</th>\n",
       "      <th class=\"blank col2\" >&nbsp;</th>\n",
       "      <th class=\"blank col3\" >&nbsp;</th>\n",
       "      <th class=\"blank col4\" >&nbsp;</th>\n",
       "      <th class=\"blank col5\" >&nbsp;</th>\n",
       "    </tr>\n",
       "  </thead>\n",
       "  <tbody>\n",
       "    <tr>\n",
       "      <th id=\"T_717d3_level0_row0\" class=\"row_heading level0 row0\" >0</th>\n",
       "      <td id=\"T_717d3_row0_col0\" class=\"data row0 col0\" >1.6658</td>\n",
       "      <td id=\"T_717d3_row0_col1\" class=\"data row0 col1\" >4.0955</td>\n",
       "      <td id=\"T_717d3_row0_col2\" class=\"data row0 col2\" >2.0237</td>\n",
       "      <td id=\"T_717d3_row0_col3\" class=\"data row0 col3\" >0.1741</td>\n",
       "      <td id=\"T_717d3_row0_col4\" class=\"data row0 col4\" >0.4225</td>\n",
       "      <td id=\"T_717d3_row0_col5\" class=\"data row0 col5\" >0.9045</td>\n",
       "    </tr>\n",
       "    <tr>\n",
       "      <th id=\"T_717d3_level0_row1\" class=\"row_heading level0 row1\" >1</th>\n",
       "      <td id=\"T_717d3_row1_col0\" class=\"data row1 col0\" >1.5494</td>\n",
       "      <td id=\"T_717d3_row1_col1\" class=\"data row1 col1\" >4.2101</td>\n",
       "      <td id=\"T_717d3_row1_col2\" class=\"data row1 col2\" >2.0519</td>\n",
       "      <td id=\"T_717d3_row1_col3\" class=\"data row1 col3\" >-0.0913</td>\n",
       "      <td id=\"T_717d3_row1_col4\" class=\"data row1 col4\" >0.4861</td>\n",
       "      <td id=\"T_717d3_row1_col5\" class=\"data row1 col5\" >0.8134</td>\n",
       "    </tr>\n",
       "    <tr>\n",
       "      <th id=\"T_717d3_level0_row2\" class=\"row_heading level0 row2\" >2</th>\n",
       "      <td id=\"T_717d3_row2_col0\" class=\"data row2 col0\" >2.4952</td>\n",
       "      <td id=\"T_717d3_row2_col1\" class=\"data row2 col1\" >9.3535</td>\n",
       "      <td id=\"T_717d3_row2_col2\" class=\"data row2 col2\" >3.0584</td>\n",
       "      <td id=\"T_717d3_row2_col3\" class=\"data row2 col3\" >0.1027</td>\n",
       "      <td id=\"T_717d3_row2_col4\" class=\"data row2 col4\" >0.6266</td>\n",
       "      <td id=\"T_717d3_row2_col5\" class=\"data row2 col5\" >2.0015</td>\n",
       "    </tr>\n",
       "    <tr>\n",
       "      <th id=\"T_717d3_level0_row3\" class=\"row_heading level0 row3\" >3</th>\n",
       "      <td id=\"T_717d3_row3_col0\" class=\"data row3 col0\" >1.6048</td>\n",
       "      <td id=\"T_717d3_row3_col1\" class=\"data row3 col1\" >4.1868</td>\n",
       "      <td id=\"T_717d3_row3_col2\" class=\"data row3 col2\" >2.0462</td>\n",
       "      <td id=\"T_717d3_row3_col3\" class=\"data row3 col3\" >0.2028</td>\n",
       "      <td id=\"T_717d3_row3_col4\" class=\"data row3 col4\" >0.6150</td>\n",
       "      <td id=\"T_717d3_row3_col5\" class=\"data row3 col5\" >1.2149</td>\n",
       "    </tr>\n",
       "    <tr>\n",
       "      <th id=\"T_717d3_level0_row4\" class=\"row_heading level0 row4\" >4</th>\n",
       "      <td id=\"T_717d3_row4_col0\" class=\"data row4 col0\" >2.8159</td>\n",
       "      <td id=\"T_717d3_row4_col1\" class=\"data row4 col1\" >11.3381</td>\n",
       "      <td id=\"T_717d3_row4_col2\" class=\"data row4 col2\" >3.3672</td>\n",
       "      <td id=\"T_717d3_row4_col3\" class=\"data row4 col3\" >0.0575</td>\n",
       "      <td id=\"T_717d3_row4_col4\" class=\"data row4 col4\" >0.6089</td>\n",
       "      <td id=\"T_717d3_row4_col5\" class=\"data row4 col5\" >3.4477</td>\n",
       "    </tr>\n",
       "    <tr>\n",
       "      <th id=\"T_717d3_level0_row5\" class=\"row_heading level0 row5\" >5</th>\n",
       "      <td id=\"T_717d3_row5_col0\" class=\"data row5 col0\" >1.6721</td>\n",
       "      <td id=\"T_717d3_row5_col1\" class=\"data row5 col1\" >4.8438</td>\n",
       "      <td id=\"T_717d3_row5_col2\" class=\"data row5 col2\" >2.2009</td>\n",
       "      <td id=\"T_717d3_row5_col3\" class=\"data row5 col3\" >-0.0027</td>\n",
       "      <td id=\"T_717d3_row5_col4\" class=\"data row5 col4\" >0.4536</td>\n",
       "      <td id=\"T_717d3_row5_col5\" class=\"data row5 col5\" >0.6165</td>\n",
       "    </tr>\n",
       "    <tr>\n",
       "      <th id=\"T_717d3_level0_row6\" class=\"row_heading level0 row6\" >6</th>\n",
       "      <td id=\"T_717d3_row6_col0\" class=\"data row6 col0\" >1.6040</td>\n",
       "      <td id=\"T_717d3_row6_col1\" class=\"data row6 col1\" >3.6721</td>\n",
       "      <td id=\"T_717d3_row6_col2\" class=\"data row6 col2\" >1.9163</td>\n",
       "      <td id=\"T_717d3_row6_col3\" class=\"data row6 col3\" >0.2248</td>\n",
       "      <td id=\"T_717d3_row6_col4\" class=\"data row6 col4\" >0.5246</td>\n",
       "      <td id=\"T_717d3_row6_col5\" class=\"data row6 col5\" >2.0472</td>\n",
       "    </tr>\n",
       "    <tr>\n",
       "      <th id=\"T_717d3_level0_row7\" class=\"row_heading level0 row7\" >7</th>\n",
       "      <td id=\"T_717d3_row7_col0\" class=\"data row7 col0\" >2.5793</td>\n",
       "      <td id=\"T_717d3_row7_col1\" class=\"data row7 col1\" >11.9252</td>\n",
       "      <td id=\"T_717d3_row7_col2\" class=\"data row7 col2\" >3.4533</td>\n",
       "      <td id=\"T_717d3_row7_col3\" class=\"data row7 col3\" >-0.6573</td>\n",
       "      <td id=\"T_717d3_row7_col4\" class=\"data row7 col4\" >0.6200</td>\n",
       "      <td id=\"T_717d3_row7_col5\" class=\"data row7 col5\" >3.1744</td>\n",
       "    </tr>\n",
       "    <tr>\n",
       "      <th id=\"T_717d3_level0_row8\" class=\"row_heading level0 row8\" >8</th>\n",
       "      <td id=\"T_717d3_row8_col0\" class=\"data row8 col0\" >1.8874</td>\n",
       "      <td id=\"T_717d3_row8_col1\" class=\"data row8 col1\" >6.7473</td>\n",
       "      <td id=\"T_717d3_row8_col2\" class=\"data row8 col2\" >2.5976</td>\n",
       "      <td id=\"T_717d3_row8_col3\" class=\"data row8 col3\" >0.1361</td>\n",
       "      <td id=\"T_717d3_row8_col4\" class=\"data row8 col4\" >0.4555</td>\n",
       "      <td id=\"T_717d3_row8_col5\" class=\"data row8 col5\" >1.5378</td>\n",
       "    </tr>\n",
       "    <tr>\n",
       "      <th id=\"T_717d3_level0_row9\" class=\"row_heading level0 row9\" >9</th>\n",
       "      <td id=\"T_717d3_row9_col0\" class=\"data row9 col0\" >2.2462</td>\n",
       "      <td id=\"T_717d3_row9_col1\" class=\"data row9 col1\" >7.5851</td>\n",
       "      <td id=\"T_717d3_row9_col2\" class=\"data row9 col2\" >2.7541</td>\n",
       "      <td id=\"T_717d3_row9_col3\" class=\"data row9 col3\" >0.2261</td>\n",
       "      <td id=\"T_717d3_row9_col4\" class=\"data row9 col4\" >0.4937</td>\n",
       "      <td id=\"T_717d3_row9_col5\" class=\"data row9 col5\" >1.0901</td>\n",
       "    </tr>\n",
       "    <tr>\n",
       "      <th id=\"T_717d3_level0_row10\" class=\"row_heading level0 row10\" >Mean</th>\n",
       "      <td id=\"T_717d3_row10_col0\" class=\"data row10 col0\" >2.0120</td>\n",
       "      <td id=\"T_717d3_row10_col1\" class=\"data row10 col1\" >6.7958</td>\n",
       "      <td id=\"T_717d3_row10_col2\" class=\"data row10 col2\" >2.5469</td>\n",
       "      <td id=\"T_717d3_row10_col3\" class=\"data row10 col3\" >0.0373</td>\n",
       "      <td id=\"T_717d3_row10_col4\" class=\"data row10 col4\" >0.5306</td>\n",
       "      <td id=\"T_717d3_row10_col5\" class=\"data row10 col5\" >1.6848</td>\n",
       "    </tr>\n",
       "    <tr>\n",
       "      <th id=\"T_717d3_level0_row11\" class=\"row_heading level0 row11\" >Std</th>\n",
       "      <td id=\"T_717d3_row11_col0\" class=\"data row11 col0\" >0.4532</td>\n",
       "      <td id=\"T_717d3_row11_col1\" class=\"data row11 col1\" >2.9743</td>\n",
       "      <td id=\"T_717d3_row11_col2\" class=\"data row11 col2\" >0.5557</td>\n",
       "      <td id=\"T_717d3_row11_col3\" class=\"data row11 col3\" >0.2514</td>\n",
       "      <td id=\"T_717d3_row11_col4\" class=\"data row11 col4\" >0.0756</td>\n",
       "      <td id=\"T_717d3_row11_col5\" class=\"data row11 col5\" >0.9308</td>\n",
       "    </tr>\n",
       "  </tbody>\n",
       "</table>\n"
      ],
      "text/plain": [
       "<pandas.io.formats.style.Styler at 0x7fc302310580>"
      ]
     },
     "metadata": {},
     "output_type": "display_data"
    },
    {
     "data": {
      "text/html": [],
      "text/plain": [
       "<IPython.core.display.HTML object>"
      ]
     },
     "metadata": {},
     "output_type": "display_data"
    },
    {
     "name": "stdout",
     "output_type": "stream",
     "text": [
      "Fitting 10 folds for each of 50 candidates, totalling 500 fits\n"
     ]
    }
   ],
   "source": [
    "tuned_model = tune_model(model, n_iter=50, optimize = 'R2')"
   ]
  },
  {
   "cell_type": "code",
   "execution_count": 57,
   "metadata": {
    "colab": {
     "base_uri": "https://localhost:8080/",
     "height": 1000
    },
    "id": "UBOkimZ-m562",
    "outputId": "c98e896e-d980-473e-e45f-574e29a502a8"
   },
   "outputs": [
    {
     "name": "stdout",
     "output_type": "stream",
     "text": [
      "Number of rows in df_subset: 329\n",
      "Processing drug: Erlotinib\n"
     ]
    },
    {
     "data": {
      "text/html": [],
      "text/plain": [
       "<IPython.core.display.HTML object>"
      ]
     },
     "metadata": {},
     "output_type": "display_data"
    },
    {
     "name": "stdout",
     "output_type": "stream",
     "text": [
      "Processing drug: Rapamycin\n"
     ]
    },
    {
     "data": {
      "text/html": [],
      "text/plain": [
       "<IPython.core.display.HTML object>"
      ]
     },
     "metadata": {},
     "output_type": "display_data"
    },
    {
     "name": "stdout",
     "output_type": "stream",
     "text": [
      "Processing drug: Sunitinib\n"
     ]
    },
    {
     "data": {
      "text/html": [],
      "text/plain": [
       "<IPython.core.display.HTML object>"
      ]
     },
     "metadata": {},
     "output_type": "display_data"
    },
    {
     "name": "stdout",
     "output_type": "stream",
     "text": [
      "Processing drug: PHA-665752\n"
     ]
    },
    {
     "data": {
      "text/html": [],
      "text/plain": [
       "<IPython.core.display.HTML object>"
      ]
     },
     "metadata": {},
     "output_type": "display_data"
    },
    {
     "name": "stdout",
     "output_type": "stream",
     "text": [
      "Processing drug: MG-132\n"
     ]
    },
    {
     "data": {
      "text/html": [],
      "text/plain": [
       "<IPython.core.display.HTML object>"
      ]
     },
     "metadata": {},
     "output_type": "display_data"
    },
    {
     "name": "stdout",
     "output_type": "stream",
     "text": [
      "Processing drug: Paclitaxel\n"
     ]
    },
    {
     "data": {
      "text/html": [],
      "text/plain": [
       "<IPython.core.display.HTML object>"
      ]
     },
     "metadata": {},
     "output_type": "display_data"
    },
    {
     "name": "stdout",
     "output_type": "stream",
     "text": [
      "Processing drug: Cyclopamine\n"
     ]
    },
    {
     "data": {
      "text/html": [],
      "text/plain": [
       "<IPython.core.display.HTML object>"
      ]
     },
     "metadata": {},
     "output_type": "display_data"
    },
    {
     "name": "stdout",
     "output_type": "stream",
     "text": [
      "Processing drug: AZ628\n"
     ]
    },
    {
     "data": {
      "text/html": [],
      "text/plain": [
       "<IPython.core.display.HTML object>"
      ]
     },
     "metadata": {},
     "output_type": "display_data"
    },
    {
     "name": "stdout",
     "output_type": "stream",
     "text": [
      "Processing drug: Sorafenib\n"
     ]
    },
    {
     "data": {
      "text/html": [],
      "text/plain": [
       "<IPython.core.display.HTML object>"
      ]
     },
     "metadata": {},
     "output_type": "display_data"
    },
    {
     "name": "stdout",
     "output_type": "stream",
     "text": [
      "Processing drug: Tozasertib\n"
     ]
    },
    {
     "data": {
      "text/html": [],
      "text/plain": [
       "<IPython.core.display.HTML object>"
      ]
     },
     "metadata": {},
     "output_type": "display_data"
    },
    {
     "name": "stdout",
     "output_type": "stream",
     "text": [
      "Processing drug: Imatinib\n"
     ]
    },
    {
     "data": {
      "text/html": [],
      "text/plain": [
       "<IPython.core.display.HTML object>"
      ]
     },
     "metadata": {},
     "output_type": "display_data"
    },
    {
     "name": "stdout",
     "output_type": "stream",
     "text": [
      "Processing drug: NVP-TAE684\n"
     ]
    },
    {
     "data": {
      "text/html": [],
      "text/plain": [
       "<IPython.core.display.HTML object>"
      ]
     },
     "metadata": {},
     "output_type": "display_data"
    },
    {
     "name": "stdout",
     "output_type": "stream",
     "text": [
      "Processing drug: Crizotinib\n"
     ]
    },
    {
     "data": {
      "text/html": [],
      "text/plain": [
       "<IPython.core.display.HTML object>"
      ]
     },
     "metadata": {},
     "output_type": "display_data"
    },
    {
     "name": "stdout",
     "output_type": "stream",
     "text": [
      "Processing drug: Saracatinib\n"
     ]
    },
    {
     "data": {
      "text/html": [],
      "text/plain": [
       "<IPython.core.display.HTML object>"
      ]
     },
     "metadata": {},
     "output_type": "display_data"
    },
    {
     "name": "stdout",
     "output_type": "stream",
     "text": [
      "Processing drug: S-Trityl-L-cysteine\n"
     ]
    },
    {
     "data": {
      "text/html": [],
      "text/plain": [
       "<IPython.core.display.HTML object>"
      ]
     },
     "metadata": {},
     "output_type": "display_data"
    },
    {
     "name": "stdout",
     "output_type": "stream",
     "text": [
      "Processing drug: Z-LLNle-CHO\n"
     ]
    },
    {
     "data": {
      "text/html": [],
      "text/plain": [
       "<IPython.core.display.HTML object>"
      ]
     },
     "metadata": {},
     "output_type": "display_data"
    },
    {
     "name": "stdout",
     "output_type": "stream",
     "text": [
      "Processing drug: Dasatinib\n"
     ]
    },
    {
     "data": {
      "text/html": [],
      "text/plain": [
       "<IPython.core.display.HTML object>"
      ]
     },
     "metadata": {},
     "output_type": "display_data"
    },
    {
     "name": "stdout",
     "output_type": "stream",
     "text": [
      "Processing drug: GNF-2\n"
     ]
    },
    {
     "data": {
      "text/html": [],
      "text/plain": [
       "<IPython.core.display.HTML object>"
      ]
     },
     "metadata": {},
     "output_type": "display_data"
    },
    {
     "name": "stdout",
     "output_type": "stream",
     "text": [
      "Processing drug: CGP-60474\n"
     ]
    },
    {
     "data": {
      "text/html": [],
      "text/plain": [
       "<IPython.core.display.HTML object>"
      ]
     },
     "metadata": {},
     "output_type": "display_data"
    },
    {
     "name": "stdout",
     "output_type": "stream",
     "text": [
      "Processing drug: CGP-082996\n"
     ]
    },
    {
     "data": {
      "text/html": [],
      "text/plain": [
       "<IPython.core.display.HTML object>"
      ]
     },
     "metadata": {},
     "output_type": "display_data"
    },
    {
     "name": "stdout",
     "output_type": "stream",
     "text": [
      "Processing drug: A-770041\n"
     ]
    },
    {
     "data": {
      "text/html": [],
      "text/plain": [
       "<IPython.core.display.HTML object>"
      ]
     },
     "metadata": {},
     "output_type": "display_data"
    },
    {
     "name": "stdout",
     "output_type": "stream",
     "text": [
      "Processing drug: WH-4-023\n"
     ]
    },
    {
     "data": {
      "text/html": [],
      "text/plain": [
       "<IPython.core.display.HTML object>"
      ]
     },
     "metadata": {},
     "output_type": "display_data"
    },
    {
     "name": "stdout",
     "output_type": "stream",
     "text": [
      "Processing drug: WZ-1-84\n"
     ]
    },
    {
     "data": {
      "text/html": [],
      "text/plain": [
       "<IPython.core.display.HTML object>"
      ]
     },
     "metadata": {},
     "output_type": "display_data"
    },
    {
     "name": "stdout",
     "output_type": "stream",
     "text": [
      "Processing drug: BI-2536\n"
     ]
    },
    {
     "data": {
      "text/html": [],
      "text/plain": [
       "<IPython.core.display.HTML object>"
      ]
     },
     "metadata": {},
     "output_type": "display_data"
    },
    {
     "name": "stdout",
     "output_type": "stream",
     "text": [
      "Processing drug: BMS-536924\n"
     ]
    },
    {
     "data": {
      "text/html": [],
      "text/plain": [
       "<IPython.core.display.HTML object>"
      ]
     },
     "metadata": {},
     "output_type": "display_data"
    },
    {
     "name": "stdout",
     "output_type": "stream",
     "text": [
      "Processing drug: BMS-509744\n"
     ]
    },
    {
     "data": {
      "text/html": [],
      "text/plain": [
       "<IPython.core.display.HTML object>"
      ]
     },
     "metadata": {},
     "output_type": "display_data"
    },
    {
     "name": "stdout",
     "output_type": "stream",
     "text": [
      "Processing drug: CMK\n"
     ]
    },
    {
     "data": {
      "text/html": [],
      "text/plain": [
       "<IPython.core.display.HTML object>"
      ]
     },
     "metadata": {},
     "output_type": "display_data"
    },
    {
     "name": "stdout",
     "output_type": "stream",
     "text": [
      "Processing drug: Pyrimethamine\n"
     ]
    },
    {
     "data": {
      "text/html": [],
      "text/plain": [
       "<IPython.core.display.HTML object>"
      ]
     },
     "metadata": {},
     "output_type": "display_data"
    },
    {
     "name": "stdout",
     "output_type": "stream",
     "text": [
      "Processing drug: A-443654\n"
     ]
    },
    {
     "data": {
      "text/html": [],
      "text/plain": [
       "<IPython.core.display.HTML object>"
      ]
     },
     "metadata": {},
     "output_type": "display_data"
    },
    {
     "name": "stdout",
     "output_type": "stream",
     "text": [
      "Processing drug: GW843682X\n"
     ]
    },
    {
     "data": {
      "text/html": [],
      "text/plain": [
       "<IPython.core.display.HTML object>"
      ]
     },
     "metadata": {},
     "output_type": "display_data"
    },
    {
     "name": "stdout",
     "output_type": "stream",
     "text": [
      "Processing drug: Entinostat\n"
     ]
    },
    {
     "data": {
      "text/html": [],
      "text/plain": [
       "<IPython.core.display.HTML object>"
      ]
     },
     "metadata": {},
     "output_type": "display_data"
    },
    {
     "name": "stdout",
     "output_type": "stream",
     "text": [
      "Processing drug: Parthenolide\n"
     ]
    },
    {
     "data": {
      "text/html": [],
      "text/plain": [
       "<IPython.core.display.HTML object>"
      ]
     },
     "metadata": {},
     "output_type": "display_data"
    },
    {
     "name": "stdout",
     "output_type": "stream",
     "text": [
      "Processing drug: GSK319347A\n"
     ]
    },
    {
     "data": {
      "text/html": [],
      "text/plain": [
       "<IPython.core.display.HTML object>"
      ]
     },
     "metadata": {},
     "output_type": "display_data"
    },
    {
     "name": "stdout",
     "output_type": "stream",
     "text": [
      "Processing drug: TGX221\n"
     ]
    },
    {
     "data": {
      "text/html": [],
      "text/plain": [
       "<IPython.core.display.HTML object>"
      ]
     },
     "metadata": {},
     "output_type": "display_data"
    },
    {
     "name": "stdout",
     "output_type": "stream",
     "text": [
      "Processing drug: Bortezomib\n"
     ]
    },
    {
     "data": {
      "text/html": [],
      "text/plain": [
       "<IPython.core.display.HTML object>"
      ]
     },
     "metadata": {},
     "output_type": "display_data"
    },
    {
     "name": "stdout",
     "output_type": "stream",
     "text": [
      "Processing drug: XMD8-85\n"
     ]
    },
    {
     "data": {
      "text/html": [],
      "text/plain": [
       "<IPython.core.display.HTML object>"
      ]
     },
     "metadata": {},
     "output_type": "display_data"
    },
    {
     "name": "stdout",
     "output_type": "stream",
     "text": [
      "Processing drug: Seliciclib\n"
     ]
    },
    {
     "data": {
      "text/html": [],
      "text/plain": [
       "<IPython.core.display.HTML object>"
      ]
     },
     "metadata": {},
     "output_type": "display_data"
    },
    {
     "name": "stdout",
     "output_type": "stream",
     "text": [
      "Processing drug: Salubrinal\n"
     ]
    },
    {
     "data": {
      "text/html": [],
      "text/plain": [
       "<IPython.core.display.HTML object>"
      ]
     },
     "metadata": {},
     "output_type": "display_data"
    },
    {
     "name": "stdout",
     "output_type": "stream",
     "text": [
      "Processing drug: Lapatinib\n"
     ]
    },
    {
     "data": {
      "text/html": [],
      "text/plain": [
       "<IPython.core.display.HTML object>"
      ]
     },
     "metadata": {},
     "output_type": "display_data"
    },
    {
     "name": "stdout",
     "output_type": "stream",
     "text": [
      "Processing drug: GSK269962A\n"
     ]
    },
    {
     "data": {
      "text/html": [],
      "text/plain": [
       "<IPython.core.display.HTML object>"
      ]
     },
     "metadata": {},
     "output_type": "display_data"
    },
    {
     "name": "stdout",
     "output_type": "stream",
     "text": [
      "Processing drug: Doxorubicin\n"
     ]
    },
    {
     "data": {
      "text/html": [],
      "text/plain": [
       "<IPython.core.display.HTML object>"
      ]
     },
     "metadata": {},
     "output_type": "display_data"
    },
    {
     "name": "stdout",
     "output_type": "stream",
     "text": [
      "Processing drug: Etoposide\n"
     ]
    },
    {
     "data": {
      "text/html": [],
      "text/plain": [
       "<IPython.core.display.HTML object>"
      ]
     },
     "metadata": {},
     "output_type": "display_data"
    },
    {
     "name": "stdout",
     "output_type": "stream",
     "text": [
      "Processing drug: Gemcitabine\n"
     ]
    },
    {
     "data": {
      "text/html": [],
      "text/plain": [
       "<IPython.core.display.HTML object>"
      ]
     },
     "metadata": {},
     "output_type": "display_data"
    },
    {
     "name": "stdout",
     "output_type": "stream",
     "text": [
      "Processing drug: Mitomycin-C\n"
     ]
    },
    {
     "data": {
      "text/html": [],
      "text/plain": [
       "<IPython.core.display.HTML object>"
      ]
     },
     "metadata": {},
     "output_type": "display_data"
    },
    {
     "name": "stdout",
     "output_type": "stream",
     "text": [
      "Processing drug: Vinorelbine\n"
     ]
    },
    {
     "data": {
      "text/html": [],
      "text/plain": [
       "<IPython.core.display.HTML object>"
      ]
     },
     "metadata": {},
     "output_type": "display_data"
    },
    {
     "name": "stdout",
     "output_type": "stream",
     "text": [
      "Processing drug: NSC-87877\n"
     ]
    },
    {
     "data": {
      "text/html": [],
      "text/plain": [
       "<IPython.core.display.HTML object>"
      ]
     },
     "metadata": {},
     "output_type": "display_data"
    },
    {
     "name": "stdout",
     "output_type": "stream",
     "text": [
      "Processing drug: Bicalutamide\n"
     ]
    },
    {
     "data": {
      "text/html": [],
      "text/plain": [
       "<IPython.core.display.HTML object>"
      ]
     },
     "metadata": {},
     "output_type": "display_data"
    },
    {
     "name": "stdout",
     "output_type": "stream",
     "text": [
      "Processing drug: QS11\n"
     ]
    },
    {
     "data": {
      "text/html": [],
      "text/plain": [
       "<IPython.core.display.HTML object>"
      ]
     },
     "metadata": {},
     "output_type": "display_data"
    },
    {
     "name": "stdout",
     "output_type": "stream",
     "text": [
      "Processing drug: CP466722\n"
     ]
    },
    {
     "data": {
      "text/html": [],
      "text/plain": [
       "<IPython.core.display.HTML object>"
      ]
     },
     "metadata": {},
     "output_type": "display_data"
    },
    {
     "name": "stdout",
     "output_type": "stream",
     "text": [
      "Processing drug: Midostaurin\n"
     ]
    },
    {
     "data": {
      "text/html": [],
      "text/plain": [
       "<IPython.core.display.HTML object>"
      ]
     },
     "metadata": {},
     "output_type": "display_data"
    },
    {
     "name": "stdout",
     "output_type": "stream",
     "text": [
      "Processing drug: CHIR-99021\n"
     ]
    },
    {
     "data": {
      "text/html": [],
      "text/plain": [
       "<IPython.core.display.HTML object>"
      ]
     },
     "metadata": {},
     "output_type": "display_data"
    },
    {
     "name": "stdout",
     "output_type": "stream",
     "text": [
      "Processing drug: Ponatinib\n"
     ]
    },
    {
     "data": {
      "text/html": [],
      "text/plain": [
       "<IPython.core.display.HTML object>"
      ]
     },
     "metadata": {},
     "output_type": "display_data"
    },
    {
     "name": "stdout",
     "output_type": "stream",
     "text": [
      "Processing drug: AZD6482\n"
     ]
    },
    {
     "data": {
      "text/html": [],
      "text/plain": [
       "<IPython.core.display.HTML object>"
      ]
     },
     "metadata": {},
     "output_type": "display_data"
    },
    {
     "name": "stdout",
     "output_type": "stream",
     "text": [
      "Processing drug: PF-562271\n"
     ]
    },
    {
     "data": {
      "text/html": [],
      "text/plain": [
       "<IPython.core.display.HTML object>"
      ]
     },
     "metadata": {},
     "output_type": "display_data"
    },
    {
     "name": "stdout",
     "output_type": "stream",
     "text": [
      "Processing drug: HG6-64-1\n"
     ]
    },
    {
     "data": {
      "text/html": [],
      "text/plain": [
       "<IPython.core.display.HTML object>"
      ]
     },
     "metadata": {},
     "output_type": "display_data"
    },
    {
     "name": "stdout",
     "output_type": "stream",
     "text": [
      "Processing drug: JQ1\n"
     ]
    },
    {
     "data": {
      "text/html": [],
      "text/plain": [
       "<IPython.core.display.HTML object>"
      ]
     },
     "metadata": {},
     "output_type": "display_data"
    },
    {
     "name": "stdout",
     "output_type": "stream",
     "text": [
      "Processing drug: JQ12\n"
     ]
    },
    {
     "data": {
      "text/html": [],
      "text/plain": [
       "<IPython.core.display.HTML object>"
      ]
     },
     "metadata": {},
     "output_type": "display_data"
    },
    {
     "name": "stdout",
     "output_type": "stream",
     "text": [
      "Processing drug: DMOG\n"
     ]
    },
    {
     "data": {
      "text/html": [],
      "text/plain": [
       "<IPython.core.display.HTML object>"
      ]
     },
     "metadata": {},
     "output_type": "display_data"
    },
    {
     "name": "stdout",
     "output_type": "stream",
     "text": [
      "Processing drug: FTI-277\n"
     ]
    },
    {
     "data": {
      "text/html": [],
      "text/plain": [
       "<IPython.core.display.HTML object>"
      ]
     },
     "metadata": {},
     "output_type": "display_data"
    },
    {
     "name": "stdout",
     "output_type": "stream",
     "text": [
      "Processing drug: OSU-03012\n"
     ]
    },
    {
     "data": {
      "text/html": [],
      "text/plain": [
       "<IPython.core.display.HTML object>"
      ]
     },
     "metadata": {},
     "output_type": "display_data"
    },
    {
     "name": "stdout",
     "output_type": "stream",
     "text": [
      "Processing drug: Shikonin\n"
     ]
    },
    {
     "data": {
      "text/html": [],
      "text/plain": [
       "<IPython.core.display.HTML object>"
      ]
     },
     "metadata": {},
     "output_type": "display_data"
    },
    {
     "name": "stdout",
     "output_type": "stream",
     "text": [
      "Processing drug: AKT inhibitor VIII\n"
     ]
    },
    {
     "data": {
      "text/html": [],
      "text/plain": [
       "<IPython.core.display.HTML object>"
      ]
     },
     "metadata": {},
     "output_type": "display_data"
    },
    {
     "name": "stdout",
     "output_type": "stream",
     "text": [
      "Processing drug: Embelin\n"
     ]
    },
    {
     "data": {
      "text/html": [],
      "text/plain": [
       "<IPython.core.display.HTML object>"
      ]
     },
     "metadata": {},
     "output_type": "display_data"
    },
    {
     "name": "stdout",
     "output_type": "stream",
     "text": [
      "Processing drug: FH535\n"
     ]
    },
    {
     "data": {
      "text/html": [],
      "text/plain": [
       "<IPython.core.display.HTML object>"
      ]
     },
     "metadata": {},
     "output_type": "display_data"
    },
    {
     "name": "stdout",
     "output_type": "stream",
     "text": [
      "Processing drug: PAC-1\n"
     ]
    },
    {
     "data": {
      "text/html": [],
      "text/plain": [
       "<IPython.core.display.HTML object>"
      ]
     },
     "metadata": {},
     "output_type": "display_data"
    },
    {
     "name": "stdout",
     "output_type": "stream",
     "text": [
      "Processing drug: IPA-3\n"
     ]
    },
    {
     "data": {
      "text/html": [],
      "text/plain": [
       "<IPython.core.display.HTML object>"
      ]
     },
     "metadata": {},
     "output_type": "display_data"
    },
    {
     "name": "stdout",
     "output_type": "stream",
     "text": [
      "Processing drug: GSK650394\n"
     ]
    },
    {
     "data": {
      "text/html": [],
      "text/plain": [
       "<IPython.core.display.HTML object>"
      ]
     },
     "metadata": {},
     "output_type": "display_data"
    },
    {
     "name": "stdout",
     "output_type": "stream",
     "text": [
      "Processing drug: BAY-61-3606\n"
     ]
    },
    {
     "data": {
      "text/html": [],
      "text/plain": [
       "<IPython.core.display.HTML object>"
      ]
     },
     "metadata": {},
     "output_type": "display_data"
    },
    {
     "name": "stdout",
     "output_type": "stream",
     "text": [
      "Processing drug: 5-Fluorouracil\n"
     ]
    },
    {
     "data": {
      "text/html": [],
      "text/plain": [
       "<IPython.core.display.HTML object>"
      ]
     },
     "metadata": {},
     "output_type": "display_data"
    },
    {
     "name": "stdout",
     "output_type": "stream",
     "text": [
      "Processing drug: Thapsigargin\n"
     ]
    },
    {
     "data": {
      "text/html": [],
      "text/plain": [
       "<IPython.core.display.HTML object>"
      ]
     },
     "metadata": {},
     "output_type": "display_data"
    },
    {
     "name": "stdout",
     "output_type": "stream",
     "text": [
      "Processing drug: Obatoclax Mesylate\n"
     ]
    },
    {
     "data": {
      "text/html": [],
      "text/plain": [
       "<IPython.core.display.HTML object>"
      ]
     },
     "metadata": {},
     "output_type": "display_data"
    },
    {
     "name": "stdout",
     "output_type": "stream",
     "text": [
      "Processing drug: BMS-754807\n"
     ]
    },
    {
     "data": {
      "text/html": [],
      "text/plain": [
       "<IPython.core.display.HTML object>"
      ]
     },
     "metadata": {},
     "output_type": "display_data"
    },
    {
     "name": "stdout",
     "output_type": "stream",
     "text": [
      "Processing drug: Linsitinib\n"
     ]
    },
    {
     "data": {
      "text/html": [],
      "text/plain": [
       "<IPython.core.display.HTML object>"
      ]
     },
     "metadata": {},
     "output_type": "display_data"
    },
    {
     "name": "stdout",
     "output_type": "stream",
     "text": [
      "Processing drug: Bexarotene\n"
     ]
    },
    {
     "data": {
      "text/html": [],
      "text/plain": [
       "<IPython.core.display.HTML object>"
      ]
     },
     "metadata": {},
     "output_type": "display_data"
    },
    {
     "name": "stdout",
     "output_type": "stream",
     "text": [
      "Processing drug: Bleomycin\n"
     ]
    },
    {
     "data": {
      "text/html": [],
      "text/plain": [
       "<IPython.core.display.HTML object>"
      ]
     },
     "metadata": {},
     "output_type": "display_data"
    },
    {
     "name": "stdout",
     "output_type": "stream",
     "text": [
      "Processing drug: LFM-A13\n"
     ]
    },
    {
     "data": {
      "text/html": [],
      "text/plain": [
       "<IPython.core.display.HTML object>"
      ]
     },
     "metadata": {},
     "output_type": "display_data"
    },
    {
     "name": "stdout",
     "output_type": "stream",
     "text": [
      "Processing drug: GW-2580\n"
     ]
    },
    {
     "data": {
      "text/html": [],
      "text/plain": [
       "<IPython.core.display.HTML object>"
      ]
     },
     "metadata": {},
     "output_type": "display_data"
    },
    {
     "name": "stdout",
     "output_type": "stream",
     "text": [
      "Processing drug: Luminespib\n"
     ]
    },
    {
     "data": {
      "text/html": [],
      "text/plain": [
       "<IPython.core.display.HTML object>"
      ]
     },
     "metadata": {},
     "output_type": "display_data"
    },
    {
     "name": "stdout",
     "output_type": "stream",
     "text": [
      "Processing drug: Phenformin\n"
     ]
    },
    {
     "data": {
      "text/html": [],
      "text/plain": [
       "<IPython.core.display.HTML object>"
      ]
     },
     "metadata": {},
     "output_type": "display_data"
    },
    {
     "name": "stdout",
     "output_type": "stream",
     "text": [
      "Processing drug: Bryostatin 1\n"
     ]
    },
    {
     "data": {
      "text/html": [],
      "text/plain": [
       "<IPython.core.display.HTML object>"
      ]
     },
     "metadata": {},
     "output_type": "display_data"
    },
    {
     "name": "stdout",
     "output_type": "stream",
     "text": [
      "Processing drug: Pazopanib\n"
     ]
    },
    {
     "data": {
      "text/html": [],
      "text/plain": [
       "<IPython.core.display.HTML object>"
      ]
     },
     "metadata": {},
     "output_type": "display_data"
    },
    {
     "name": "stdout",
     "output_type": "stream",
     "text": [
      "Processing drug: Dacinostat\n"
     ]
    },
    {
     "data": {
      "text/html": [],
      "text/plain": [
       "<IPython.core.display.HTML object>"
      ]
     },
     "metadata": {},
     "output_type": "display_data"
    },
    {
     "name": "stdout",
     "output_type": "stream",
     "text": [
      "Processing drug: Epothilone B\n"
     ]
    },
    {
     "data": {
      "text/html": [],
      "text/plain": [
       "<IPython.core.display.HTML object>"
      ]
     },
     "metadata": {},
     "output_type": "display_data"
    },
    {
     "name": "stdout",
     "output_type": "stream",
     "text": [
      "Processing drug: GSK1904529A\n"
     ]
    },
    {
     "data": {
      "text/html": [],
      "text/plain": [
       "<IPython.core.display.HTML object>"
      ]
     },
     "metadata": {},
     "output_type": "display_data"
    },
    {
     "name": "stdout",
     "output_type": "stream",
     "text": [
      "Processing drug: BMS-345541\n"
     ]
    },
    {
     "data": {
      "text/html": [],
      "text/plain": [
       "<IPython.core.display.HTML object>"
      ]
     },
     "metadata": {},
     "output_type": "display_data"
    },
    {
     "name": "stdout",
     "output_type": "stream",
     "text": [
      "Processing drug: Tipifarnib\n"
     ]
    },
    {
     "data": {
      "text/html": [],
      "text/plain": [
       "<IPython.core.display.HTML object>"
      ]
     },
     "metadata": {},
     "output_type": "display_data"
    },
    {
     "name": "stdout",
     "output_type": "stream",
     "text": [
      "Processing drug: Avagacestat\n"
     ]
    },
    {
     "data": {
      "text/html": [],
      "text/plain": [
       "<IPython.core.display.HTML object>"
      ]
     },
     "metadata": {},
     "output_type": "display_data"
    },
    {
     "name": "stdout",
     "output_type": "stream",
     "text": [
      "Processing drug: Ruxolitinib\n"
     ]
    },
    {
     "data": {
      "text/html": [],
      "text/plain": [
       "<IPython.core.display.HTML object>"
      ]
     },
     "metadata": {},
     "output_type": "display_data"
    },
    {
     "name": "stdout",
     "output_type": "stream",
     "text": [
      "Processing drug: AS601245\n"
     ]
    },
    {
     "data": {
      "text/html": [],
      "text/plain": [
       "<IPython.core.display.HTML object>"
      ]
     },
     "metadata": {},
     "output_type": "display_data"
    },
    {
     "name": "stdout",
     "output_type": "stream",
     "text": [
      "Processing drug: Ispinesib Mesylate\n"
     ]
    },
    {
     "data": {
      "text/html": [],
      "text/plain": [
       "<IPython.core.display.HTML object>"
      ]
     },
     "metadata": {},
     "output_type": "display_data"
    },
    {
     "name": "stdout",
     "output_type": "stream",
     "text": [
      "Processing drug: AT-7519\n"
     ]
    },
    {
     "data": {
      "text/html": [],
      "text/plain": [
       "<IPython.core.display.HTML object>"
      ]
     },
     "metadata": {},
     "output_type": "display_data"
    },
    {
     "name": "stdout",
     "output_type": "stream",
     "text": [
      "Processing drug: TAK-715\n"
     ]
    },
    {
     "data": {
      "text/html": [],
      "text/plain": [
       "<IPython.core.display.HTML object>"
      ]
     },
     "metadata": {},
     "output_type": "display_data"
    },
    {
     "name": "stdout",
     "output_type": "stream",
     "text": [
      "Processing drug: BX-912\n"
     ]
    },
    {
     "data": {
      "text/html": [],
      "text/plain": [
       "<IPython.core.display.HTML object>"
      ]
     },
     "metadata": {},
     "output_type": "display_data"
    },
    {
     "name": "stdout",
     "output_type": "stream",
     "text": [
      "Processing drug: ZSTK474\n"
     ]
    },
    {
     "data": {
      "text/html": [],
      "text/plain": [
       "<IPython.core.display.HTML object>"
      ]
     },
     "metadata": {},
     "output_type": "display_data"
    },
    {
     "name": "stdout",
     "output_type": "stream",
     "text": [
      "Processing drug: AS605240\n"
     ]
    },
    {
     "data": {
      "text/html": [],
      "text/plain": [
       "<IPython.core.display.HTML object>"
      ]
     },
     "metadata": {},
     "output_type": "display_data"
    },
    {
     "name": "stdout",
     "output_type": "stream",
     "text": [
      "Processing drug: GSK1070916\n"
     ]
    },
    {
     "data": {
      "text/html": [],
      "text/plain": [
       "<IPython.core.display.HTML object>"
      ]
     },
     "metadata": {},
     "output_type": "display_data"
    },
    {
     "name": "stdout",
     "output_type": "stream",
     "text": [
      "Processing drug: AKT inhibitor VIII\n"
     ]
    },
    {
     "data": {
      "text/html": [],
      "text/plain": [
       "<IPython.core.display.HTML object>"
      ]
     },
     "metadata": {},
     "output_type": "display_data"
    },
    {
     "name": "stdout",
     "output_type": "stream",
     "text": [
      "Processing drug: Enzastaurin\n"
     ]
    },
    {
     "data": {
      "text/html": [],
      "text/plain": [
       "<IPython.core.display.HTML object>"
      ]
     },
     "metadata": {},
     "output_type": "display_data"
    },
    {
     "name": "stdout",
     "output_type": "stream",
     "text": [
      "Processing drug: GSK429286A\n"
     ]
    },
    {
     "data": {
      "text/html": [],
      "text/plain": [
       "<IPython.core.display.HTML object>"
      ]
     },
     "metadata": {},
     "output_type": "display_data"
    },
    {
     "name": "stdout",
     "output_type": "stream",
     "text": [
      "Processing drug: FMK\n"
     ]
    },
    {
     "data": {
      "text/html": [],
      "text/plain": [
       "<IPython.core.display.HTML object>"
      ]
     },
     "metadata": {},
     "output_type": "display_data"
    },
    {
     "name": "stdout",
     "output_type": "stream",
     "text": [
      "Processing drug: QL-XII-47\n"
     ]
    },
    {
     "data": {
      "text/html": [],
      "text/plain": [
       "<IPython.core.display.HTML object>"
      ]
     },
     "metadata": {},
     "output_type": "display_data"
    },
    {
     "name": "stdout",
     "output_type": "stream",
     "text": [
      "Processing drug: IC-87114\n"
     ]
    },
    {
     "data": {
      "text/html": [],
      "text/plain": [
       "<IPython.core.display.HTML object>"
      ]
     },
     "metadata": {},
     "output_type": "display_data"
    },
    {
     "name": "stdout",
     "output_type": "stream",
     "text": [
      "Processing drug: Idelalisib\n"
     ]
    },
    {
     "data": {
      "text/html": [],
      "text/plain": [
       "<IPython.core.display.HTML object>"
      ]
     },
     "metadata": {},
     "output_type": "display_data"
    },
    {
     "name": "stdout",
     "output_type": "stream",
     "text": [
      "Processing drug: UNC0638\n"
     ]
    },
    {
     "data": {
      "text/html": [],
      "text/plain": [
       "<IPython.core.display.HTML object>"
      ]
     },
     "metadata": {},
     "output_type": "display_data"
    },
    {
     "name": "stdout",
     "output_type": "stream",
     "text": [
      "Processing drug: Cabozantinib\n"
     ]
    },
    {
     "data": {
      "text/html": [],
      "text/plain": [
       "<IPython.core.display.HTML object>"
      ]
     },
     "metadata": {},
     "output_type": "display_data"
    },
    {
     "name": "stdout",
     "output_type": "stream",
     "text": [
      "Processing drug: WZ3105\n"
     ]
    },
    {
     "data": {
      "text/html": [],
      "text/plain": [
       "<IPython.core.display.HTML object>"
      ]
     },
     "metadata": {},
     "output_type": "display_data"
    },
    {
     "name": "stdout",
     "output_type": "stream",
     "text": [
      "Processing drug: XMD14-99\n"
     ]
    },
    {
     "data": {
      "text/html": [],
      "text/plain": [
       "<IPython.core.display.HTML object>"
      ]
     },
     "metadata": {},
     "output_type": "display_data"
    },
    {
     "name": "stdout",
     "output_type": "stream",
     "text": [
      "Processing drug: Quizartinib\n"
     ]
    },
    {
     "data": {
      "text/html": [],
      "text/plain": [
       "<IPython.core.display.HTML object>"
      ]
     },
     "metadata": {},
     "output_type": "display_data"
    },
    {
     "name": "stdout",
     "output_type": "stream",
     "text": [
      "Processing drug: CP724714\n"
     ]
    },
    {
     "data": {
      "text/html": [],
      "text/plain": [
       "<IPython.core.display.HTML object>"
      ]
     },
     "metadata": {},
     "output_type": "display_data"
    },
    {
     "name": "stdout",
     "output_type": "stream",
     "text": [
      "Processing drug: JW-7-24-1\n"
     ]
    },
    {
     "data": {
      "text/html": [],
      "text/plain": [
       "<IPython.core.display.HTML object>"
      ]
     },
     "metadata": {},
     "output_type": "display_data"
    },
    {
     "name": "stdout",
     "output_type": "stream",
     "text": [
      "Processing drug: NPK76-II-72-1\n"
     ]
    },
    {
     "data": {
      "text/html": [],
      "text/plain": [
       "<IPython.core.display.HTML object>"
      ]
     },
     "metadata": {},
     "output_type": "display_data"
    },
    {
     "name": "stdout",
     "output_type": "stream",
     "text": [
      "Processing drug: STF-62247\n"
     ]
    },
    {
     "data": {
      "text/html": [],
      "text/plain": [
       "<IPython.core.display.HTML object>"
      ]
     },
     "metadata": {},
     "output_type": "display_data"
    },
    {
     "name": "stdout",
     "output_type": "stream",
     "text": [
      "Processing drug: NG-25\n"
     ]
    },
    {
     "data": {
      "text/html": [],
      "text/plain": [
       "<IPython.core.display.HTML object>"
      ]
     },
     "metadata": {},
     "output_type": "display_data"
    },
    {
     "name": "stdout",
     "output_type": "stream",
     "text": [
      "Processing drug: VX-11e\n"
     ]
    },
    {
     "data": {
      "text/html": [],
      "text/plain": [
       "<IPython.core.display.HTML object>"
      ]
     },
     "metadata": {},
     "output_type": "display_data"
    },
    {
     "name": "stdout",
     "output_type": "stream",
     "text": [
      "Processing drug: FR-180204\n"
     ]
    },
    {
     "data": {
      "text/html": [],
      "text/plain": [
       "<IPython.core.display.HTML object>"
      ]
     },
     "metadata": {},
     "output_type": "display_data"
    },
    {
     "name": "stdout",
     "output_type": "stream",
     "text": [
      "Processing drug: ACY-1215\n"
     ]
    },
    {
     "data": {
      "text/html": [],
      "text/plain": [
       "<IPython.core.display.HTML object>"
      ]
     },
     "metadata": {},
     "output_type": "display_data"
    },
    {
     "name": "stdout",
     "output_type": "stream",
     "text": [
      "Processing drug: Tubastatin A\n"
     ]
    },
    {
     "data": {
      "text/html": [],
      "text/plain": [
       "<IPython.core.display.HTML object>"
      ]
     },
     "metadata": {},
     "output_type": "display_data"
    },
    {
     "name": "stdout",
     "output_type": "stream",
     "text": [
      "Processing drug: Zibotentan\n"
     ]
    },
    {
     "data": {
      "text/html": [],
      "text/plain": [
       "<IPython.core.display.HTML object>"
      ]
     },
     "metadata": {},
     "output_type": "display_data"
    },
    {
     "name": "stdout",
     "output_type": "stream",
     "text": [
      "Processing drug: Sepantronium bromide\n"
     ]
    },
    {
     "data": {
      "text/html": [],
      "text/plain": [
       "<IPython.core.display.HTML object>"
      ]
     },
     "metadata": {},
     "output_type": "display_data"
    },
    {
     "name": "stdout",
     "output_type": "stream",
     "text": [
      "Processing drug: NSC-207895\n"
     ]
    },
    {
     "data": {
      "text/html": [],
      "text/plain": [
       "<IPython.core.display.HTML object>"
      ]
     },
     "metadata": {},
     "output_type": "display_data"
    },
    {
     "name": "stdout",
     "output_type": "stream",
     "text": [
      "Processing drug: VNLG/124\n"
     ]
    },
    {
     "data": {
      "text/html": [],
      "text/plain": [
       "<IPython.core.display.HTML object>"
      ]
     },
     "metadata": {},
     "output_type": "display_data"
    },
    {
     "name": "stdout",
     "output_type": "stream",
     "text": [
      "Processing drug: AR-42\n"
     ]
    },
    {
     "data": {
      "text/html": [],
      "text/plain": [
       "<IPython.core.display.HTML object>"
      ]
     },
     "metadata": {},
     "output_type": "display_data"
    },
    {
     "name": "stdout",
     "output_type": "stream",
     "text": [
      "Processing drug: CUDC-101\n"
     ]
    },
    {
     "data": {
      "text/html": [],
      "text/plain": [
       "<IPython.core.display.HTML object>"
      ]
     },
     "metadata": {},
     "output_type": "display_data"
    },
    {
     "name": "stdout",
     "output_type": "stream",
     "text": [
      "Processing drug: Belinostat\n"
     ]
    },
    {
     "data": {
      "text/html": [],
      "text/plain": [
       "<IPython.core.display.HTML object>"
      ]
     },
     "metadata": {},
     "output_type": "display_data"
    },
    {
     "name": "stdout",
     "output_type": "stream",
     "text": [
      "Processing drug: I-BET-762\n"
     ]
    },
    {
     "data": {
      "text/html": [],
      "text/plain": [
       "<IPython.core.display.HTML object>"
      ]
     },
     "metadata": {},
     "output_type": "display_data"
    },
    {
     "name": "stdout",
     "output_type": "stream",
     "text": [
      "Processing drug: CAY10603\n"
     ]
    },
    {
     "data": {
      "text/html": [],
      "text/plain": [
       "<IPython.core.display.HTML object>"
      ]
     },
     "metadata": {},
     "output_type": "display_data"
    },
    {
     "name": "stdout",
     "output_type": "stream",
     "text": [
      "Processing drug: Linifanib\n"
     ]
    },
    {
     "data": {
      "text/html": [],
      "text/plain": [
       "<IPython.core.display.HTML object>"
      ]
     },
     "metadata": {},
     "output_type": "display_data"
    },
    {
     "name": "stdout",
     "output_type": "stream",
     "text": [
      "Processing drug: BIX02189\n"
     ]
    },
    {
     "data": {
      "text/html": [],
      "text/plain": [
       "<IPython.core.display.HTML object>"
      ]
     },
     "metadata": {},
     "output_type": "display_data"
    },
    {
     "name": "stdout",
     "output_type": "stream",
     "text": [
      "Processing drug: Alectinib\n"
     ]
    },
    {
     "data": {
      "text/html": [],
      "text/plain": [
       "<IPython.core.display.HTML object>"
      ]
     },
     "metadata": {},
     "output_type": "display_data"
    },
    {
     "name": "stdout",
     "output_type": "stream",
     "text": [
      "Processing drug: Pelitinib\n"
     ]
    },
    {
     "data": {
      "text/html": [],
      "text/plain": [
       "<IPython.core.display.HTML object>"
      ]
     },
     "metadata": {},
     "output_type": "display_data"
    },
    {
     "name": "stdout",
     "output_type": "stream",
     "text": [
      "Processing drug: Omipalisib\n"
     ]
    },
    {
     "data": {
      "text/html": [],
      "text/plain": [
       "<IPython.core.display.HTML object>"
      ]
     },
     "metadata": {},
     "output_type": "display_data"
    },
    {
     "name": "stdout",
     "output_type": "stream",
     "text": [
      "Processing drug: JNJ38877605\n"
     ]
    },
    {
     "data": {
      "text/html": [],
      "text/plain": [
       "<IPython.core.display.HTML object>"
      ]
     },
     "metadata": {},
     "output_type": "display_data"
    },
    {
     "name": "stdout",
     "output_type": "stream",
     "text": [
      "Processing drug: SU11274\n"
     ]
    },
    {
     "data": {
      "text/html": [],
      "text/plain": [
       "<IPython.core.display.HTML object>"
      ]
     },
     "metadata": {},
     "output_type": "display_data"
    },
    {
     "name": "stdout",
     "output_type": "stream",
     "text": [
      "Processing drug: KIN001-244\n"
     ]
    },
    {
     "data": {
      "text/html": [],
      "text/plain": [
       "<IPython.core.display.HTML object>"
      ]
     },
     "metadata": {},
     "output_type": "display_data"
    },
    {
     "name": "stdout",
     "output_type": "stream",
     "text": [
      "Processing drug: WHI-P97\n"
     ]
    },
    {
     "data": {
      "text/html": [],
      "text/plain": [
       "<IPython.core.display.HTML object>"
      ]
     },
     "metadata": {},
     "output_type": "display_data"
    },
    {
     "name": "stdout",
     "output_type": "stream",
     "text": [
      "Processing drug: KIN001-266\n"
     ]
    },
    {
     "data": {
      "text/html": [],
      "text/plain": [
       "<IPython.core.display.HTML object>"
      ]
     },
     "metadata": {},
     "output_type": "display_data"
    },
    {
     "name": "stdout",
     "output_type": "stream",
     "text": [
      "Processing drug: Masitinib\n"
     ]
    },
    {
     "data": {
      "text/html": [],
      "text/plain": [
       "<IPython.core.display.HTML object>"
      ]
     },
     "metadata": {},
     "output_type": "display_data"
    },
    {
     "name": "stdout",
     "output_type": "stream",
     "text": [
      "Processing drug: Amuvatinib\n"
     ]
    },
    {
     "data": {
      "text/html": [],
      "text/plain": [
       "<IPython.core.display.HTML object>"
      ]
     },
     "metadata": {},
     "output_type": "display_data"
    },
    {
     "name": "stdout",
     "output_type": "stream",
     "text": [
      "Processing drug: NVP-BHG712\n"
     ]
    },
    {
     "data": {
      "text/html": [],
      "text/plain": [
       "<IPython.core.display.HTML object>"
      ]
     },
     "metadata": {},
     "output_type": "display_data"
    },
    {
     "name": "stdout",
     "output_type": "stream",
     "text": [
      "Processing drug: OSI-930\n"
     ]
    },
    {
     "data": {
      "text/html": [],
      "text/plain": [
       "<IPython.core.display.HTML object>"
      ]
     },
     "metadata": {},
     "output_type": "display_data"
    },
    {
     "name": "stdout",
     "output_type": "stream",
     "text": [
      "Processing drug: OSI-027\n"
     ]
    },
    {
     "data": {
      "text/html": [],
      "text/plain": [
       "<IPython.core.display.HTML object>"
      ]
     },
     "metadata": {},
     "output_type": "display_data"
    },
    {
     "name": "stdout",
     "output_type": "stream",
     "text": [
      "Processing drug: CX-5461\n"
     ]
    },
    {
     "data": {
      "text/html": [],
      "text/plain": [
       "<IPython.core.display.HTML object>"
      ]
     },
     "metadata": {},
     "output_type": "display_data"
    },
    {
     "name": "stdout",
     "output_type": "stream",
     "text": [
      "Processing drug: PHA-793887\n"
     ]
    },
    {
     "data": {
      "text/html": [],
      "text/plain": [
       "<IPython.core.display.HTML object>"
      ]
     },
     "metadata": {},
     "output_type": "display_data"
    },
    {
     "name": "stdout",
     "output_type": "stream",
     "text": [
      "Processing drug: PI-103\n"
     ]
    },
    {
     "data": {
      "text/html": [],
      "text/plain": [
       "<IPython.core.display.HTML object>"
      ]
     },
     "metadata": {},
     "output_type": "display_data"
    },
    {
     "name": "stdout",
     "output_type": "stream",
     "text": [
      "Processing drug: PIK-93\n"
     ]
    },
    {
     "data": {
      "text/html": [],
      "text/plain": [
       "<IPython.core.display.HTML object>"
      ]
     },
     "metadata": {},
     "output_type": "display_data"
    },
    {
     "name": "stdout",
     "output_type": "stream",
     "text": [
      "Processing drug: SB52334\n"
     ]
    },
    {
     "data": {
      "text/html": [],
      "text/plain": [
       "<IPython.core.display.HTML object>"
      ]
     },
     "metadata": {},
     "output_type": "display_data"
    },
    {
     "name": "stdout",
     "output_type": "stream",
     "text": [
      "Processing drug: TPCA-1\n"
     ]
    },
    {
     "data": {
      "text/html": [],
      "text/plain": [
       "<IPython.core.display.HTML object>"
      ]
     },
     "metadata": {},
     "output_type": "display_data"
    },
    {
     "name": "stdout",
     "output_type": "stream",
     "text": [
      "Processing drug: Fedratinib\n"
     ]
    },
    {
     "data": {
      "text/html": [],
      "text/plain": [
       "<IPython.core.display.HTML object>"
      ]
     },
     "metadata": {},
     "output_type": "display_data"
    },
    {
     "name": "stdout",
     "output_type": "stream",
     "text": [
      "Processing drug: Foretinib\n"
     ]
    },
    {
     "data": {
      "text/html": [],
      "text/plain": [
       "<IPython.core.display.HTML object>"
      ]
     },
     "metadata": {},
     "output_type": "display_data"
    },
    {
     "name": "stdout",
     "output_type": "stream",
     "text": [
      "Processing drug: Y-39983\n"
     ]
    },
    {
     "data": {
      "text/html": [],
      "text/plain": [
       "<IPython.core.display.HTML object>"
      ]
     },
     "metadata": {},
     "output_type": "display_data"
    },
    {
     "name": "stdout",
     "output_type": "stream",
     "text": [
      "Processing drug: YM201636\n"
     ]
    },
    {
     "data": {
      "text/html": [],
      "text/plain": [
       "<IPython.core.display.HTML object>"
      ]
     },
     "metadata": {},
     "output_type": "display_data"
    },
    {
     "name": "stdout",
     "output_type": "stream",
     "text": [
      "Processing drug: Tivozanib\n"
     ]
    },
    {
     "data": {
      "text/html": [],
      "text/plain": [
       "<IPython.core.display.HTML object>"
      ]
     },
     "metadata": {},
     "output_type": "display_data"
    },
    {
     "name": "stdout",
     "output_type": "stream",
     "text": [
      "Processing drug: WYE-125132\n"
     ]
    },
    {
     "data": {
      "text/html": [],
      "text/plain": [
       "<IPython.core.display.HTML object>"
      ]
     },
     "metadata": {},
     "output_type": "display_data"
    },
    {
     "name": "stdout",
     "output_type": "stream",
     "text": [
      "Processing drug: GSK690693\n"
     ]
    },
    {
     "data": {
      "text/html": [],
      "text/plain": [
       "<IPython.core.display.HTML object>"
      ]
     },
     "metadata": {},
     "output_type": "display_data"
    },
    {
     "name": "stdout",
     "output_type": "stream",
     "text": [
      "Processing drug: SNX-2112\n"
     ]
    },
    {
     "data": {
      "text/html": [],
      "text/plain": [
       "<IPython.core.display.HTML object>"
      ]
     },
     "metadata": {},
     "output_type": "display_data"
    },
    {
     "name": "stdout",
     "output_type": "stream",
     "text": [
      "Processing drug: QL-XI-92\n"
     ]
    },
    {
     "data": {
      "text/html": [],
      "text/plain": [
       "<IPython.core.display.HTML object>"
      ]
     },
     "metadata": {},
     "output_type": "display_data"
    },
    {
     "name": "stdout",
     "output_type": "stream",
     "text": [
      "Processing drug: XMD13-2\n"
     ]
    },
    {
     "data": {
      "text/html": [],
      "text/plain": [
       "<IPython.core.display.HTML object>"
      ]
     },
     "metadata": {},
     "output_type": "display_data"
    },
    {
     "name": "stdout",
     "output_type": "stream",
     "text": [
      "Processing drug: QL-X-138\n"
     ]
    },
    {
     "data": {
      "text/html": [],
      "text/plain": [
       "<IPython.core.display.HTML object>"
      ]
     },
     "metadata": {},
     "output_type": "display_data"
    },
    {
     "name": "stdout",
     "output_type": "stream",
     "text": [
      "Processing drug: T0901317\n"
     ]
    },
    {
     "data": {
      "text/html": [],
      "text/plain": [
       "<IPython.core.display.HTML object>"
      ]
     },
     "metadata": {},
     "output_type": "display_data"
    },
    {
     "name": "stdout",
     "output_type": "stream",
     "text": [
      "Processing drug: Selisistat\n"
     ]
    },
    {
     "data": {
      "text/html": [],
      "text/plain": [
       "<IPython.core.display.HTML object>"
      ]
     },
     "metadata": {},
     "output_type": "display_data"
    },
    {
     "name": "stdout",
     "output_type": "stream",
     "text": [
      "Processing drug: Tenovin-6\n"
     ]
    },
    {
     "data": {
      "text/html": [],
      "text/plain": [
       "<IPython.core.display.HTML object>"
      ]
     },
     "metadata": {},
     "output_type": "display_data"
    },
    {
     "name": "stdout",
     "output_type": "stream",
     "text": [
      "Processing drug: KIN001-270\n"
     ]
    },
    {
     "data": {
      "text/html": [],
      "text/plain": [
       "<IPython.core.display.HTML object>"
      ]
     },
     "metadata": {},
     "output_type": "display_data"
    },
    {
     "name": "stdout",
     "output_type": "stream",
     "text": [
      "Processing drug: AT7867\n"
     ]
    },
    {
     "data": {
      "text/html": [],
      "text/plain": [
       "<IPython.core.display.HTML object>"
      ]
     },
     "metadata": {},
     "output_type": "display_data"
    },
    {
     "name": "stdout",
     "output_type": "stream",
     "text": [
      "Processing drug: CI-1033\n"
     ]
    },
    {
     "data": {
      "text/html": [],
      "text/plain": [
       "<IPython.core.display.HTML object>"
      ]
     },
     "metadata": {},
     "output_type": "display_data"
    },
    {
     "name": "stdout",
     "output_type": "stream",
     "text": [
      "Processing drug: PF-00299804\n"
     ]
    },
    {
     "data": {
      "text/html": [],
      "text/plain": [
       "<IPython.core.display.HTML object>"
      ]
     },
     "metadata": {},
     "output_type": "display_data"
    },
    {
     "name": "stdout",
     "output_type": "stream",
     "text": [
      "Processing drug: TWS119\n"
     ]
    },
    {
     "data": {
      "text/html": [],
      "text/plain": [
       "<IPython.core.display.HTML object>"
      ]
     },
     "metadata": {},
     "output_type": "display_data"
    },
    {
     "name": "stdout",
     "output_type": "stream",
     "text": [
      "Processing drug: Torin 2\n"
     ]
    },
    {
     "data": {
      "text/html": [],
      "text/plain": [
       "<IPython.core.display.HTML object>"
      ]
     },
     "metadata": {},
     "output_type": "display_data"
    },
    {
     "name": "stdout",
     "output_type": "stream",
     "text": [
      "Processing drug: Pilaralisib\n"
     ]
    },
    {
     "data": {
      "text/html": [],
      "text/plain": [
       "<IPython.core.display.HTML object>"
      ]
     },
     "metadata": {},
     "output_type": "display_data"
    },
    {
     "name": "stdout",
     "output_type": "stream",
     "text": [
      "Processing drug: GSK1059615\n"
     ]
    },
    {
     "data": {
      "text/html": [],
      "text/plain": [
       "<IPython.core.display.HTML object>"
      ]
     },
     "metadata": {},
     "output_type": "display_data"
    },
    {
     "name": "stdout",
     "output_type": "stream",
     "text": [
      "Processing drug: Voxtalisib\n"
     ]
    },
    {
     "data": {
      "text/html": [],
      "text/plain": [
       "<IPython.core.display.HTML object>"
      ]
     },
     "metadata": {},
     "output_type": "display_data"
    },
    {
     "name": "stdout",
     "output_type": "stream",
     "text": [
      "Processing drug: BIBF-1120\n"
     ]
    },
    {
     "data": {
      "text/html": [],
      "text/plain": [
       "<IPython.core.display.HTML object>"
      ]
     },
     "metadata": {},
     "output_type": "display_data"
    },
    {
     "name": "stdout",
     "output_type": "stream",
     "text": [
      "Processing drug: AST-1306\n"
     ]
    },
    {
     "data": {
      "text/html": [],
      "text/plain": [
       "<IPython.core.display.HTML object>"
      ]
     },
     "metadata": {},
     "output_type": "display_data"
    },
    {
     "name": "stdout",
     "output_type": "stream",
     "text": [
      "Processing drug: Apitolisib\n"
     ]
    },
    {
     "data": {
      "text/html": [],
      "text/plain": [
       "<IPython.core.display.HTML object>"
      ]
     },
     "metadata": {},
     "output_type": "display_data"
    },
    {
     "name": "stdout",
     "output_type": "stream",
     "text": [
      "Processing drug: LIMK1 inhibitor BMS4\n"
     ]
    },
    {
     "data": {
      "text/html": [],
      "text/plain": [
       "<IPython.core.display.HTML object>"
      ]
     },
     "metadata": {},
     "output_type": "display_data"
    },
    {
     "name": "stdout",
     "output_type": "stream",
     "text": [
      "Processing drug: kb NB 142-70\n"
     ]
    },
    {
     "data": {
      "text/html": [],
      "text/plain": [
       "<IPython.core.display.HTML object>"
      ]
     },
     "metadata": {},
     "output_type": "display_data"
    },
    {
     "name": "stdout",
     "output_type": "stream",
     "text": [
      "Processing drug: Sphingosine Kinase 1 Inhibitor II\n"
     ]
    },
    {
     "data": {
      "text/html": [],
      "text/plain": [
       "<IPython.core.display.HTML object>"
      ]
     },
     "metadata": {},
     "output_type": "display_data"
    },
    {
     "name": "stdout",
     "output_type": "stream",
     "text": [
      "Processing drug: CPI-613\n"
     ]
    },
    {
     "data": {
      "text/html": [],
      "text/plain": [
       "<IPython.core.display.HTML object>"
      ]
     },
     "metadata": {},
     "output_type": "display_data"
    },
    {
     "name": "stdout",
     "output_type": "stream",
     "text": [
      "Processing drug: CAY10566\n"
     ]
    },
    {
     "data": {
      "text/html": [],
      "text/plain": [
       "<IPython.core.display.HTML object>"
      ]
     },
     "metadata": {},
     "output_type": "display_data"
    },
    {
     "name": "stdout",
     "output_type": "stream",
     "text": [
      "Processing drug: Ara-G\n"
     ]
    },
    {
     "data": {
      "text/html": [],
      "text/plain": [
       "<IPython.core.display.HTML object>"
      ]
     },
     "metadata": {},
     "output_type": "display_data"
    },
    {
     "name": "stdout",
     "output_type": "stream",
     "text": [
      "Processing drug: Pemetrexed\n"
     ]
    },
    {
     "data": {
      "text/html": [],
      "text/plain": [
       "<IPython.core.display.HTML object>"
      ]
     },
     "metadata": {},
     "output_type": "display_data"
    },
    {
     "name": "stdout",
     "output_type": "stream",
     "text": [
      "Processing drug: Alisertib\n"
     ]
    },
    {
     "data": {
      "text/html": [],
      "text/plain": [
       "<IPython.core.display.HTML object>"
      ]
     },
     "metadata": {},
     "output_type": "display_data"
    },
    {
     "name": "stdout",
     "output_type": "stream",
     "text": [
      "Processing drug: Flavopiridol\n"
     ]
    },
    {
     "data": {
      "text/html": [],
      "text/plain": [
       "<IPython.core.display.HTML object>"
      ]
     },
     "metadata": {},
     "output_type": "display_data"
    },
    {
     "name": "stdout",
     "output_type": "stream",
     "text": [
      "Processing drug: C-75\n"
     ]
    },
    {
     "data": {
      "text/html": [],
      "text/plain": [
       "<IPython.core.display.HTML object>"
      ]
     },
     "metadata": {},
     "output_type": "display_data"
    },
    {
     "name": "stdout",
     "output_type": "stream",
     "text": [
      "Processing drug: Trichostatin A\n"
     ]
    },
    {
     "data": {
      "text/html": [],
      "text/plain": [
       "<IPython.core.display.HTML object>"
      ]
     },
     "metadata": {},
     "output_type": "display_data"
    },
    {
     "name": "stdout",
     "output_type": "stream",
     "text": [
      "Processing drug: Panobinostat\n"
     ]
    },
    {
     "data": {
      "text/html": [],
      "text/plain": [
       "<IPython.core.display.HTML object>"
      ]
     },
     "metadata": {},
     "output_type": "display_data"
    },
    {
     "name": "stdout",
     "output_type": "stream",
     "text": [
      "Processing drug: LCL161\n"
     ]
    },
    {
     "data": {
      "text/html": [],
      "text/plain": [
       "<IPython.core.display.HTML object>"
      ]
     },
     "metadata": {},
     "output_type": "display_data"
    },
    {
     "name": "stdout",
     "output_type": "stream",
     "text": [
      "Processing drug: IMD-0354\n"
     ]
    },
    {
     "data": {
      "text/html": [],
      "text/plain": [
       "<IPython.core.display.HTML object>"
      ]
     },
     "metadata": {},
     "output_type": "display_data"
    },
    {
     "name": "stdout",
     "output_type": "stream",
     "text": [
      "Processing drug: MIM1\n"
     ]
    },
    {
     "data": {
      "text/html": [],
      "text/plain": [
       "<IPython.core.display.HTML object>"
      ]
     },
     "metadata": {},
     "output_type": "display_data"
    },
    {
     "name": "stdout",
     "output_type": "stream",
     "text": [
      "Processing drug: ETP-45835\n"
     ]
    },
    {
     "data": {
      "text/html": [],
      "text/plain": [
       "<IPython.core.display.HTML object>"
      ]
     },
     "metadata": {},
     "output_type": "display_data"
    },
    {
     "name": "stdout",
     "output_type": "stream",
     "text": [
      "Processing drug: CD532\n"
     ]
    },
    {
     "data": {
      "text/html": [],
      "text/plain": [
       "<IPython.core.display.HTML object>"
      ]
     },
     "metadata": {},
     "output_type": "display_data"
    },
    {
     "name": "stdout",
     "output_type": "stream",
     "text": [
      "Processing drug: NSC319726\n"
     ]
    },
    {
     "data": {
      "text/html": [],
      "text/plain": [
       "<IPython.core.display.HTML object>"
      ]
     },
     "metadata": {},
     "output_type": "display_data"
    },
    {
     "name": "stdout",
     "output_type": "stream",
     "text": [
      "Processing drug: ARRY-520\n"
     ]
    },
    {
     "data": {
      "text/html": [],
      "text/plain": [
       "<IPython.core.display.HTML object>"
      ]
     },
     "metadata": {},
     "output_type": "display_data"
    },
    {
     "name": "stdout",
     "output_type": "stream",
     "text": [
      "Processing drug: SB505124\n"
     ]
    },
    {
     "data": {
      "text/html": [],
      "text/plain": [
       "<IPython.core.display.HTML object>"
      ]
     },
     "metadata": {},
     "output_type": "display_data"
    },
    {
     "name": "stdout",
     "output_type": "stream",
     "text": [
      "Processing drug: A-83-01\n"
     ]
    },
    {
     "data": {
      "text/html": [],
      "text/plain": [
       "<IPython.core.display.HTML object>"
      ]
     },
     "metadata": {},
     "output_type": "display_data"
    },
    {
     "name": "stdout",
     "output_type": "stream",
     "text": [
      "Processing drug: LDN-193189\n"
     ]
    },
    {
     "data": {
      "text/html": [],
      "text/plain": [
       "<IPython.core.display.HTML object>"
      ]
     },
     "metadata": {},
     "output_type": "display_data"
    },
    {
     "name": "stdout",
     "output_type": "stream",
     "text": [
      "Processing drug: FTY-720\n"
     ]
    },
    {
     "data": {
      "text/html": [],
      "text/plain": [
       "<IPython.core.display.HTML object>"
      ]
     },
     "metadata": {},
     "output_type": "display_data"
    },
    {
     "name": "stdout",
     "output_type": "stream",
     "text": [
      "Processing drug: BAM7\n"
     ]
    },
    {
     "data": {
      "text/html": [],
      "text/plain": [
       "<IPython.core.display.HTML object>"
      ]
     },
     "metadata": {},
     "output_type": "display_data"
    },
    {
     "name": "stdout",
     "output_type": "stream",
     "text": [
      "Processing drug: AGI-6780\n"
     ]
    },
    {
     "data": {
      "text/html": [],
      "text/plain": [
       "<IPython.core.display.HTML object>"
      ]
     },
     "metadata": {},
     "output_type": "display_data"
    },
    {
     "name": "stdout",
     "output_type": "stream",
     "text": [
      "Processing drug: Kobe2602\n"
     ]
    },
    {
     "data": {
      "text/html": [],
      "text/plain": [
       "<IPython.core.display.HTML object>"
      ]
     },
     "metadata": {},
     "output_type": "display_data"
    },
    {
     "name": "stdout",
     "output_type": "stream",
     "text": [
      "Processing drug: LGK974\n"
     ]
    },
    {
     "data": {
      "text/html": [],
      "text/plain": [
       "<IPython.core.display.HTML object>"
      ]
     },
     "metadata": {},
     "output_type": "display_data"
    },
    {
     "name": "stdout",
     "output_type": "stream",
     "text": [
      "Processing drug: Wnt-C59\n"
     ]
    },
    {
     "data": {
      "text/html": [],
      "text/plain": [
       "<IPython.core.display.HTML object>"
      ]
     },
     "metadata": {},
     "output_type": "display_data"
    },
    {
     "name": "stdout",
     "output_type": "stream",
     "text": [
      "Processing drug: RU-SKI 43\n"
     ]
    },
    {
     "data": {
      "text/html": [],
      "text/plain": [
       "<IPython.core.display.HTML object>"
      ]
     },
     "metadata": {},
     "output_type": "display_data"
    },
    {
     "name": "stdout",
     "output_type": "stream",
     "text": [
      "Processing drug: AICA Ribonucleotide\n"
     ]
    },
    {
     "data": {
      "text/html": [],
      "text/plain": [
       "<IPython.core.display.HTML object>"
      ]
     },
     "metadata": {},
     "output_type": "display_data"
    },
    {
     "name": "stdout",
     "output_type": "stream",
     "text": [
      "Processing drug: Vinblastine\n"
     ]
    },
    {
     "data": {
      "text/html": [],
      "text/plain": [
       "<IPython.core.display.HTML object>"
      ]
     },
     "metadata": {},
     "output_type": "display_data"
    },
    {
     "name": "stdout",
     "output_type": "stream",
     "text": [
      "Processing drug: Cisplatin\n"
     ]
    },
    {
     "data": {
      "text/html": [],
      "text/plain": [
       "<IPython.core.display.HTML object>"
      ]
     },
     "metadata": {},
     "output_type": "display_data"
    },
    {
     "name": "stdout",
     "output_type": "stream",
     "text": [
      "Processing drug: Cytarabine\n"
     ]
    },
    {
     "data": {
      "text/html": [],
      "text/plain": [
       "<IPython.core.display.HTML object>"
      ]
     },
     "metadata": {},
     "output_type": "display_data"
    },
    {
     "name": "stdout",
     "output_type": "stream",
     "text": [
      "Processing drug: Docetaxel\n"
     ]
    },
    {
     "data": {
      "text/html": [],
      "text/plain": [
       "<IPython.core.display.HTML object>"
      ]
     },
     "metadata": {},
     "output_type": "display_data"
    },
    {
     "name": "stdout",
     "output_type": "stream",
     "text": [
      "Processing drug: Methotrexate\n"
     ]
    },
    {
     "data": {
      "text/html": [],
      "text/plain": [
       "<IPython.core.display.HTML object>"
      ]
     },
     "metadata": {},
     "output_type": "display_data"
    },
    {
     "name": "stdout",
     "output_type": "stream",
     "text": [
      "Processing drug: Tretinoin\n"
     ]
    },
    {
     "data": {
      "text/html": [],
      "text/plain": [
       "<IPython.core.display.HTML object>"
      ]
     },
     "metadata": {},
     "output_type": "display_data"
    },
    {
     "name": "stdout",
     "output_type": "stream",
     "text": [
      "Processing drug: Gefitinib\n"
     ]
    },
    {
     "data": {
      "text/html": [],
      "text/plain": [
       "<IPython.core.display.HTML object>"
      ]
     },
     "metadata": {},
     "output_type": "display_data"
    },
    {
     "name": "stdout",
     "output_type": "stream",
     "text": [
      "Processing drug: Navitoclax\n"
     ]
    },
    {
     "data": {
      "text/html": [],
      "text/plain": [
       "<IPython.core.display.HTML object>"
      ]
     },
     "metadata": {},
     "output_type": "display_data"
    },
    {
     "name": "stdout",
     "output_type": "stream",
     "text": [
      "Processing drug: Vorinostat\n"
     ]
    },
    {
     "data": {
      "text/html": [],
      "text/plain": [
       "<IPython.core.display.HTML object>"
      ]
     },
     "metadata": {},
     "output_type": "display_data"
    },
    {
     "name": "stdout",
     "output_type": "stream",
     "text": [
      "Processing drug: Nilotinib\n"
     ]
    },
    {
     "data": {
      "text/html": [],
      "text/plain": [
       "<IPython.core.display.HTML object>"
      ]
     },
     "metadata": {},
     "output_type": "display_data"
    },
    {
     "name": "stdout",
     "output_type": "stream",
     "text": [
      "Processing drug: Refametinib\n"
     ]
    },
    {
     "data": {
      "text/html": [],
      "text/plain": [
       "<IPython.core.display.HTML object>"
      ]
     },
     "metadata": {},
     "output_type": "display_data"
    },
    {
     "name": "stdout",
     "output_type": "stream",
     "text": [
      "Processing drug: CI-1040\n"
     ]
    },
    {
     "data": {
      "text/html": [],
      "text/plain": [
       "<IPython.core.display.HTML object>"
      ]
     },
     "metadata": {},
     "output_type": "display_data"
    },
    {
     "name": "stdout",
     "output_type": "stream",
     "text": [
      "Processing drug: Temsirolimus\n"
     ]
    },
    {
     "data": {
      "text/html": [],
      "text/plain": [
       "<IPython.core.display.HTML object>"
      ]
     },
     "metadata": {},
     "output_type": "display_data"
    },
    {
     "name": "stdout",
     "output_type": "stream",
     "text": [
      "Processing drug: Olaparib\n"
     ]
    },
    {
     "data": {
      "text/html": [],
      "text/plain": [
       "<IPython.core.display.HTML object>"
      ]
     },
     "metadata": {},
     "output_type": "display_data"
    },
    {
     "name": "stdout",
     "output_type": "stream",
     "text": [
      "Processing drug: Veliparib\n"
     ]
    },
    {
     "data": {
      "text/html": [],
      "text/plain": [
       "<IPython.core.display.HTML object>"
      ]
     },
     "metadata": {},
     "output_type": "display_data"
    },
    {
     "name": "stdout",
     "output_type": "stream",
     "text": [
      "Processing drug: Bosutinib\n"
     ]
    },
    {
     "data": {
      "text/html": [],
      "text/plain": [
       "<IPython.core.display.HTML object>"
      ]
     },
     "metadata": {},
     "output_type": "display_data"
    },
    {
     "name": "stdout",
     "output_type": "stream",
     "text": [
      "Processing drug: Lenalidomide\n"
     ]
    },
    {
     "data": {
      "text/html": [],
      "text/plain": [
       "<IPython.core.display.HTML object>"
      ]
     },
     "metadata": {},
     "output_type": "display_data"
    },
    {
     "name": "stdout",
     "output_type": "stream",
     "text": [
      "Processing drug: Axitinib\n"
     ]
    },
    {
     "data": {
      "text/html": [],
      "text/plain": [
       "<IPython.core.display.HTML object>"
      ]
     },
     "metadata": {},
     "output_type": "display_data"
    },
    {
     "name": "stdout",
     "output_type": "stream",
     "text": [
      "Processing drug: AZD7762\n"
     ]
    },
    {
     "data": {
      "text/html": [],
      "text/plain": [
       "<IPython.core.display.HTML object>"
      ]
     },
     "metadata": {},
     "output_type": "display_data"
    },
    {
     "name": "stdout",
     "output_type": "stream",
     "text": [
      "Processing drug: GW441756\n"
     ]
    },
    {
     "data": {
      "text/html": [],
      "text/plain": [
       "<IPython.core.display.HTML object>"
      ]
     },
     "metadata": {},
     "output_type": "display_data"
    },
    {
     "name": "stdout",
     "output_type": "stream",
     "text": [
      "Processing drug: Lestaurtinib\n"
     ]
    },
    {
     "data": {
      "text/html": [],
      "text/plain": [
       "<IPython.core.display.HTML object>"
      ]
     },
     "metadata": {},
     "output_type": "display_data"
    },
    {
     "name": "stdout",
     "output_type": "stream",
     "text": [
      "Processing drug: SB216763\n"
     ]
    },
    {
     "data": {
      "text/html": [],
      "text/plain": [
       "<IPython.core.display.HTML object>"
      ]
     },
     "metadata": {},
     "output_type": "display_data"
    },
    {
     "name": "stdout",
     "output_type": "stream",
     "text": [
      "Processing drug: Tanespimycin\n"
     ]
    },
    {
     "data": {
      "text/html": [],
      "text/plain": [
       "<IPython.core.display.HTML object>"
      ]
     },
     "metadata": {},
     "output_type": "display_data"
    },
    {
     "name": "stdout",
     "output_type": "stream",
     "text": [
      "Processing drug: VX-702\n"
     ]
    },
    {
     "data": {
      "text/html": [],
      "text/plain": [
       "<IPython.core.display.HTML object>"
      ]
     },
     "metadata": {},
     "output_type": "display_data"
    },
    {
     "name": "stdout",
     "output_type": "stream",
     "text": [
      "Processing drug: Motesanib\n"
     ]
    },
    {
     "data": {
      "text/html": [],
      "text/plain": [
       "<IPython.core.display.HTML object>"
      ]
     },
     "metadata": {},
     "output_type": "display_data"
    },
    {
     "name": "stdout",
     "output_type": "stream",
     "text": [
      "Processing drug: KU-55933\n"
     ]
    },
    {
     "data": {
      "text/html": [],
      "text/plain": [
       "<IPython.core.display.HTML object>"
      ]
     },
     "metadata": {},
     "output_type": "display_data"
    },
    {
     "name": "stdout",
     "output_type": "stream",
     "text": [
      "Processing drug: Elesclomol\n"
     ]
    },
    {
     "data": {
      "text/html": [],
      "text/plain": [
       "<IPython.core.display.HTML object>"
      ]
     },
     "metadata": {},
     "output_type": "display_data"
    },
    {
     "name": "stdout",
     "output_type": "stream",
     "text": [
      "Processing drug: Afatinib\n"
     ]
    },
    {
     "data": {
      "text/html": [],
      "text/plain": [
       "<IPython.core.display.HTML object>"
      ]
     },
     "metadata": {},
     "output_type": "display_data"
    },
    {
     "name": "stdout",
     "output_type": "stream",
     "text": [
      "Processing drug: Vismodegib\n"
     ]
    },
    {
     "data": {
      "text/html": [],
      "text/plain": [
       "<IPython.core.display.HTML object>"
      ]
     },
     "metadata": {},
     "output_type": "display_data"
    },
    {
     "name": "stdout",
     "output_type": "stream",
     "text": [
      "Processing drug: PLX-4720\n"
     ]
    },
    {
     "data": {
      "text/html": [],
      "text/plain": [
       "<IPython.core.display.HTML object>"
      ]
     },
     "metadata": {},
     "output_type": "display_data"
    },
    {
     "name": "stdout",
     "output_type": "stream",
     "text": [
      "Processing drug: BX795\n"
     ]
    },
    {
     "data": {
      "text/html": [],
      "text/plain": [
       "<IPython.core.display.HTML object>"
      ]
     },
     "metadata": {},
     "output_type": "display_data"
    },
    {
     "name": "stdout",
     "output_type": "stream",
     "text": [
      "Processing drug: NU7441\n"
     ]
    },
    {
     "data": {
      "text/html": [],
      "text/plain": [
       "<IPython.core.display.HTML object>"
      ]
     },
     "metadata": {},
     "output_type": "display_data"
    },
    {
     "name": "stdout",
     "output_type": "stream",
     "text": [
      "Processing drug: SL0101\n"
     ]
    },
    {
     "data": {
      "text/html": [],
      "text/plain": [
       "<IPython.core.display.HTML object>"
      ]
     },
     "metadata": {},
     "output_type": "display_data"
    },
    {
     "name": "stdout",
     "output_type": "stream",
     "text": [
      "Processing drug: Doramapimod\n"
     ]
    },
    {
     "data": {
      "text/html": [],
      "text/plain": [
       "<IPython.core.display.HTML object>"
      ]
     },
     "metadata": {},
     "output_type": "display_data"
    },
    {
     "name": "stdout",
     "output_type": "stream",
     "text": [
      "Processing drug: JNK Inhibitor VIII\n"
     ]
    },
    {
     "data": {
      "text/html": [],
      "text/plain": [
       "<IPython.core.display.HTML object>"
      ]
     },
     "metadata": {},
     "output_type": "display_data"
    },
    {
     "name": "stdout",
     "output_type": "stream",
     "text": [
      "Processing drug: Wee1 Inhibitor\n"
     ]
    },
    {
     "data": {
      "text/html": [],
      "text/plain": [
       "<IPython.core.display.HTML object>"
      ]
     },
     "metadata": {},
     "output_type": "display_data"
    },
    {
     "name": "stdout",
     "output_type": "stream",
     "text": [
      "Processing drug: Mirin\n"
     ]
    },
    {
     "data": {
      "text/html": [],
      "text/plain": [
       "<IPython.core.display.HTML object>"
      ]
     },
     "metadata": {},
     "output_type": "display_data"
    },
    {
     "name": "stdout",
     "output_type": "stream",
     "text": [
      "Processing drug: PD173074\n"
     ]
    },
    {
     "data": {
      "text/html": [],
      "text/plain": [
       "<IPython.core.display.HTML object>"
      ]
     },
     "metadata": {},
     "output_type": "display_data"
    },
    {
     "name": "stdout",
     "output_type": "stream",
     "text": [
      "Processing drug: ZM447439\n"
     ]
    },
    {
     "data": {
      "text/html": [],
      "text/plain": [
       "<IPython.core.display.HTML object>"
      ]
     },
     "metadata": {},
     "output_type": "display_data"
    },
    {
     "name": "stdout",
     "output_type": "stream",
     "text": [
      "Processing drug: RO-3306\n"
     ]
    },
    {
     "data": {
      "text/html": [],
      "text/plain": [
       "<IPython.core.display.HTML object>"
      ]
     },
     "metadata": {},
     "output_type": "display_data"
    },
    {
     "name": "stdout",
     "output_type": "stream",
     "text": [
      "Processing drug: MK-2206\n"
     ]
    },
    {
     "data": {
      "text/html": [],
      "text/plain": [
       "<IPython.core.display.HTML object>"
      ]
     },
     "metadata": {},
     "output_type": "display_data"
    },
    {
     "name": "stdout",
     "output_type": "stream",
     "text": [
      "Processing drug: Palbociclib\n"
     ]
    },
    {
     "data": {
      "text/html": [],
      "text/plain": [
       "<IPython.core.display.HTML object>"
      ]
     },
     "metadata": {},
     "output_type": "display_data"
    },
    {
     "name": "stdout",
     "output_type": "stream",
     "text": [
      "Processing drug: Dactolisib\n"
     ]
    },
    {
     "data": {
      "text/html": [],
      "text/plain": [
       "<IPython.core.display.HTML object>"
      ]
     },
     "metadata": {},
     "output_type": "display_data"
    },
    {
     "name": "stdout",
     "output_type": "stream",
     "text": [
      "Processing drug: Pictilisib\n"
     ]
    },
    {
     "data": {
      "text/html": [],
      "text/plain": [
       "<IPython.core.display.HTML object>"
      ]
     },
     "metadata": {},
     "output_type": "display_data"
    },
    {
     "name": "stdout",
     "output_type": "stream",
     "text": [
      "Processing drug: AZD8055\n"
     ]
    },
    {
     "data": {
      "text/html": [],
      "text/plain": [
       "<IPython.core.display.HTML object>"
      ]
     },
     "metadata": {},
     "output_type": "display_data"
    },
    {
     "name": "stdout",
     "output_type": "stream",
     "text": [
      "Processing drug: PD0325901\n"
     ]
    },
    {
     "data": {
      "text/html": [],
      "text/plain": [
       "<IPython.core.display.HTML object>"
      ]
     },
     "metadata": {},
     "output_type": "display_data"
    },
    {
     "name": "stdout",
     "output_type": "stream",
     "text": [
      "Processing drug: SB590885\n"
     ]
    },
    {
     "data": {
      "text/html": [],
      "text/plain": [
       "<IPython.core.display.HTML object>"
      ]
     },
     "metadata": {},
     "output_type": "display_data"
    },
    {
     "name": "stdout",
     "output_type": "stream",
     "text": [
      "Processing drug: Selumetinib\n"
     ]
    },
    {
     "data": {
      "text/html": [],
      "text/plain": [
       "<IPython.core.display.HTML object>"
      ]
     },
     "metadata": {},
     "output_type": "display_data"
    },
    {
     "name": "stdout",
     "output_type": "stream",
     "text": [
      "Processing drug: AZD6482\n"
     ]
    },
    {
     "data": {
      "text/html": [],
      "text/plain": [
       "<IPython.core.display.HTML object>"
      ]
     },
     "metadata": {},
     "output_type": "display_data"
    },
    {
     "name": "stdout",
     "output_type": "stream",
     "text": [
      "Processing drug: CCT007093\n"
     ]
    },
    {
     "data": {
      "text/html": [],
      "text/plain": [
       "<IPython.core.display.HTML object>"
      ]
     },
     "metadata": {},
     "output_type": "display_data"
    },
    {
     "name": "stdout",
     "output_type": "stream",
     "text": [
      "Processing drug: EHT-1864\n"
     ]
    },
    {
     "data": {
      "text/html": [],
      "text/plain": [
       "<IPython.core.display.HTML object>"
      ]
     },
     "metadata": {},
     "output_type": "display_data"
    },
    {
     "name": "stdout",
     "output_type": "stream",
     "text": [
      "Processing drug: CRT0105950\n"
     ]
    },
    {
     "data": {
      "text/html": [],
      "text/plain": [
       "<IPython.core.display.HTML object>"
      ]
     },
     "metadata": {},
     "output_type": "display_data"
    },
    {
     "name": "stdout",
     "output_type": "stream",
     "text": [
      "Processing drug: Avagacestat\n"
     ]
    },
    {
     "data": {
      "text/html": [],
      "text/plain": [
       "<IPython.core.display.HTML object>"
      ]
     },
     "metadata": {},
     "output_type": "display_data"
    },
    {
     "name": "stdout",
     "output_type": "stream",
     "text": [
      "Processing drug: BMS-536924\n"
     ]
    },
    {
     "data": {
      "text/html": [],
      "text/plain": [
       "<IPython.core.display.HTML object>"
      ]
     },
     "metadata": {},
     "output_type": "display_data"
    },
    {
     "name": "stdout",
     "output_type": "stream",
     "text": [
      "Processing drug: PF-4708671\n"
     ]
    },
    {
     "data": {
      "text/html": [],
      "text/plain": [
       "<IPython.core.display.HTML object>"
      ]
     },
     "metadata": {},
     "output_type": "display_data"
    },
    {
     "name": "stdout",
     "output_type": "stream",
     "text": [
      "Processing drug: Serdemetan\n"
     ]
    },
    {
     "data": {
      "text/html": [],
      "text/plain": [
       "<IPython.core.display.HTML object>"
      ]
     },
     "metadata": {},
     "output_type": "display_data"
    },
    {
     "name": "stdout",
     "output_type": "stream",
     "text": [
      "Processing drug: AZD4547\n"
     ]
    },
    {
     "data": {
      "text/html": [],
      "text/plain": [
       "<IPython.core.display.HTML object>"
      ]
     },
     "metadata": {},
     "output_type": "display_data"
    },
    {
     "name": "stdout",
     "output_type": "stream",
     "text": [
      "Processing drug: Capivasertib\n"
     ]
    },
    {
     "data": {
      "text/html": [],
      "text/plain": [
       "<IPython.core.display.HTML object>"
      ]
     },
     "metadata": {},
     "output_type": "display_data"
    },
    {
     "name": "stdout",
     "output_type": "stream",
     "text": [
      "Processing drug: HG-5-113-01\n"
     ]
    },
    {
     "data": {
      "text/html": [],
      "text/plain": [
       "<IPython.core.display.HTML object>"
      ]
     },
     "metadata": {},
     "output_type": "display_data"
    },
    {
     "name": "stdout",
     "output_type": "stream",
     "text": [
      "Processing drug: HG-5-88-01\n"
     ]
    },
    {
     "data": {
      "text/html": [],
      "text/plain": [
       "<IPython.core.display.HTML object>"
      ]
     },
     "metadata": {},
     "output_type": "display_data"
    },
    {
     "name": "stdout",
     "output_type": "stream",
     "text": [
      "Processing drug: TW 37\n"
     ]
    },
    {
     "data": {
      "text/html": [],
      "text/plain": [
       "<IPython.core.display.HTML object>"
      ]
     },
     "metadata": {},
     "output_type": "display_data"
    },
    {
     "name": "stdout",
     "output_type": "stream",
     "text": [
      "Processing drug: QL-XII-47\n"
     ]
    },
    {
     "data": {
      "text/html": [],
      "text/plain": [
       "<IPython.core.display.HTML object>"
      ]
     },
     "metadata": {},
     "output_type": "display_data"
    },
    {
     "name": "stdout",
     "output_type": "stream",
     "text": [
      "Processing drug: XMD11-85h\n"
     ]
    },
    {
     "data": {
      "text/html": [],
      "text/plain": [
       "<IPython.core.display.HTML object>"
      ]
     },
     "metadata": {},
     "output_type": "display_data"
    },
    {
     "name": "stdout",
     "output_type": "stream",
     "text": [
      "Processing drug: ZG-10\n"
     ]
    },
    {
     "data": {
      "text/html": [],
      "text/plain": [
       "<IPython.core.display.HTML object>"
      ]
     },
     "metadata": {},
     "output_type": "display_data"
    },
    {
     "name": "stdout",
     "output_type": "stream",
     "text": [
      "Processing drug: XMD8-92\n"
     ]
    },
    {
     "data": {
      "text/html": [],
      "text/plain": [
       "<IPython.core.display.HTML object>"
      ]
     },
     "metadata": {},
     "output_type": "display_data"
    },
    {
     "name": "stdout",
     "output_type": "stream",
     "text": [
      "Processing drug: NG-25\n"
     ]
    },
    {
     "data": {
      "text/html": [],
      "text/plain": [
       "<IPython.core.display.HTML object>"
      ]
     },
     "metadata": {},
     "output_type": "display_data"
    },
    {
     "name": "stdout",
     "output_type": "stream",
     "text": [
      "Processing drug: CCT-018159\n"
     ]
    },
    {
     "data": {
      "text/html": [],
      "text/plain": [
       "<IPython.core.display.HTML object>"
      ]
     },
     "metadata": {},
     "output_type": "display_data"
    },
    {
     "name": "stdout",
     "output_type": "stream",
     "text": [
      "Processing drug: Rucaparib\n"
     ]
    },
    {
     "data": {
      "text/html": [],
      "text/plain": [
       "<IPython.core.display.HTML object>"
      ]
     },
     "metadata": {},
     "output_type": "display_data"
    },
    {
     "name": "stdout",
     "output_type": "stream",
     "text": [
      "Processing drug: AZ20\n"
     ]
    },
    {
     "data": {
      "text/html": [],
      "text/plain": [
       "<IPython.core.display.HTML object>"
      ]
     },
     "metadata": {},
     "output_type": "display_data"
    },
    {
     "name": "stdout",
     "output_type": "stream",
     "text": [
      "Processing drug: KU-60019\n"
     ]
    },
    {
     "data": {
      "text/html": [],
      "text/plain": [
       "<IPython.core.display.HTML object>"
      ]
     },
     "metadata": {},
     "output_type": "display_data"
    },
    {
     "name": "stdout",
     "output_type": "stream",
     "text": [
      "Processing drug: CCT245232\n"
     ]
    },
    {
     "data": {
      "text/html": [],
      "text/plain": [
       "<IPython.core.display.HTML object>"
      ]
     },
     "metadata": {},
     "output_type": "display_data"
    },
    {
     "name": "stdout",
     "output_type": "stream",
     "text": [
      "Processing drug: GSK269962A\n"
     ]
    },
    {
     "data": {
      "text/html": [],
      "text/plain": [
       "<IPython.core.display.HTML object>"
      ]
     },
     "metadata": {},
     "output_type": "display_data"
    },
    {
     "name": "stdout",
     "output_type": "stream",
     "text": [
      "Processing drug: SB505124\n"
     ]
    },
    {
     "data": {
      "text/html": [],
      "text/plain": [
       "<IPython.core.display.HTML object>"
      ]
     },
     "metadata": {},
     "output_type": "display_data"
    },
    {
     "name": "stdout",
     "output_type": "stream",
     "text": [
      "Processing drug: Tamoxifen\n"
     ]
    },
    {
     "data": {
      "text/html": [],
      "text/plain": [
       "<IPython.core.display.HTML object>"
      ]
     },
     "metadata": {},
     "output_type": "display_data"
    },
    {
     "name": "stdout",
     "output_type": "stream",
     "text": [
      "Processing drug: torin2\n"
     ]
    },
    {
     "data": {
      "text/html": [],
      "text/plain": [
       "<IPython.core.display.HTML object>"
      ]
     },
     "metadata": {},
     "output_type": "display_data"
    },
    {
     "name": "stdout",
     "output_type": "stream",
     "text": [
      "Processing drug: JQ1\n"
     ]
    },
    {
     "data": {
      "text/html": [],
      "text/plain": [
       "<IPython.core.display.HTML object>"
      ]
     },
     "metadata": {},
     "output_type": "display_data"
    },
    {
     "name": "stdout",
     "output_type": "stream",
     "text": [
      "Processing drug: PFI-1\n"
     ]
    },
    {
     "data": {
      "text/html": [],
      "text/plain": [
       "<IPython.core.display.HTML object>"
      ]
     },
     "metadata": {},
     "output_type": "display_data"
    },
    {
     "name": "stdout",
     "output_type": "stream",
     "text": [
      "Processing drug: IOX2\n"
     ]
    },
    {
     "data": {
      "text/html": [],
      "text/plain": [
       "<IPython.core.display.HTML object>"
      ]
     },
     "metadata": {},
     "output_type": "display_data"
    },
    {
     "name": "stdout",
     "output_type": "stream",
     "text": [
      "Processing drug: I-BET-151\n"
     ]
    },
    {
     "data": {
      "text/html": [],
      "text/plain": [
       "<IPython.core.display.HTML object>"
      ]
     },
     "metadata": {},
     "output_type": "display_data"
    },
    {
     "name": "stdout",
     "output_type": "stream",
     "text": [
      "Processing drug: UNC0638\n"
     ]
    },
    {
     "data": {
      "text/html": [],
      "text/plain": [
       "<IPython.core.display.HTML object>"
      ]
     },
     "metadata": {},
     "output_type": "display_data"
    },
    {
     "name": "stdout",
     "output_type": "stream",
     "text": [
      "Processing drug: YK-4-279\n"
     ]
    },
    {
     "data": {
      "text/html": [],
      "text/plain": [
       "<IPython.core.display.HTML object>"
      ]
     },
     "metadata": {},
     "output_type": "display_data"
    },
    {
     "name": "stdout",
     "output_type": "stream",
     "text": [
      "Processing drug: CHIR-99021\n"
     ]
    },
    {
     "data": {
      "text/html": [],
      "text/plain": [
       "<IPython.core.display.HTML object>"
      ]
     },
     "metadata": {},
     "output_type": "display_data"
    },
    {
     "name": "stdout",
     "output_type": "stream",
     "text": [
      "Processing drug: (5Z)-7-Oxozeaenol\n"
     ]
    },
    {
     "data": {
      "text/html": [],
      "text/plain": [
       "<IPython.core.display.HTML object>"
      ]
     },
     "metadata": {},
     "output_type": "display_data"
    },
    {
     "name": "stdout",
     "output_type": "stream",
     "text": [
      "Processing drug: Piperlongumine\n"
     ]
    },
    {
     "data": {
      "text/html": [],
      "text/plain": [
       "<IPython.core.display.HTML object>"
      ]
     },
     "metadata": {},
     "output_type": "display_data"
    },
    {
     "name": "stdout",
     "output_type": "stream",
     "text": [
      "Processing drug: Daporinad\n"
     ]
    },
    {
     "data": {
      "text/html": [],
      "text/plain": [
       "<IPython.core.display.HTML object>"
      ]
     },
     "metadata": {},
     "output_type": "display_data"
    },
    {
     "name": "stdout",
     "output_type": "stream",
     "text": [
      "Processing drug: GSK-J4\n"
     ]
    },
    {
     "data": {
      "text/html": [],
      "text/plain": [
       "<IPython.core.display.HTML object>"
      ]
     },
     "metadata": {},
     "output_type": "display_data"
    },
    {
     "name": "stdout",
     "output_type": "stream",
     "text": [
      "Processing drug: Talazoparib\n"
     ]
    },
    {
     "data": {
      "text/html": [],
      "text/plain": [
       "<IPython.core.display.HTML object>"
      ]
     },
     "metadata": {},
     "output_type": "display_data"
    },
    {
     "name": "stdout",
     "output_type": "stream",
     "text": [
      "Processing drug: UNC1215\n"
     ]
    },
    {
     "data": {
      "text/html": [],
      "text/plain": [
       "<IPython.core.display.HTML object>"
      ]
     },
     "metadata": {},
     "output_type": "display_data"
    },
    {
     "name": "stdout",
     "output_type": "stream",
     "text": [
      "Processing drug: UNC0642\n"
     ]
    },
    {
     "data": {
      "text/html": [],
      "text/plain": [
       "<IPython.core.display.HTML object>"
      ]
     },
     "metadata": {},
     "output_type": "display_data"
    },
    {
     "name": "stdout",
     "output_type": "stream",
     "text": [
      "Processing drug: SGC0946\n"
     ]
    },
    {
     "data": {
      "text/html": [],
      "text/plain": [
       "<IPython.core.display.HTML object>"
      ]
     },
     "metadata": {},
     "output_type": "display_data"
    },
    {
     "name": "stdout",
     "output_type": "stream",
     "text": [
      "Processing drug: XAV939\n"
     ]
    },
    {
     "data": {
      "text/html": [],
      "text/plain": [
       "<IPython.core.display.HTML object>"
      ]
     },
     "metadata": {},
     "output_type": "display_data"
    },
    {
     "name": "stdout",
     "output_type": "stream",
     "text": [
      "Processing drug: PLX-4720\n"
     ]
    },
    {
     "data": {
      "text/html": [],
      "text/plain": [
       "<IPython.core.display.HTML object>"
      ]
     },
     "metadata": {},
     "output_type": "display_data"
    },
    {
     "name": "stdout",
     "output_type": "stream",
     "text": [
      "Processing drug: Trametinib\n"
     ]
    },
    {
     "data": {
      "text/html": [],
      "text/plain": [
       "<IPython.core.display.HTML object>"
      ]
     },
     "metadata": {},
     "output_type": "display_data"
    },
    {
     "name": "stdout",
     "output_type": "stream",
     "text": [
      "Processing drug: Dabrafenib\n"
     ]
    },
    {
     "data": {
      "text/html": [],
      "text/plain": [
       "<IPython.core.display.HTML object>"
      ]
     },
     "metadata": {},
     "output_type": "display_data"
    },
    {
     "name": "stdout",
     "output_type": "stream",
     "text": [
      "Processing drug: Temozolomide\n"
     ]
    },
    {
     "data": {
      "text/html": [],
      "text/plain": [
       "<IPython.core.display.HTML object>"
      ]
     },
     "metadata": {},
     "output_type": "display_data"
    },
    {
     "name": "stdout",
     "output_type": "stream",
     "text": [
      "Processing drug: Afatinib\n"
     ]
    },
    {
     "data": {
      "text/html": [],
      "text/plain": [
       "<IPython.core.display.HTML object>"
      ]
     },
     "metadata": {},
     "output_type": "display_data"
    },
    {
     "name": "stdout",
     "output_type": "stream",
     "text": [
      "Processing drug: AZD3514\n"
     ]
    },
    {
     "data": {
      "text/html": [],
      "text/plain": [
       "<IPython.core.display.HTML object>"
      ]
     },
     "metadata": {},
     "output_type": "display_data"
    },
    {
     "name": "stdout",
     "output_type": "stream",
     "text": [
      "Processing drug: Doxorubicin\n"
     ]
    },
    {
     "data": {
      "text/html": [],
      "text/plain": [
       "<IPython.core.display.HTML object>"
      ]
     },
     "metadata": {},
     "output_type": "display_data"
    },
    {
     "name": "stdout",
     "output_type": "stream",
     "text": [
      "Processing drug: Gemcitabine\n"
     ]
    },
    {
     "data": {
      "text/html": [],
      "text/plain": [
       "<IPython.core.display.HTML object>"
      ]
     },
     "metadata": {},
     "output_type": "display_data"
    },
    {
     "name": "stdout",
     "output_type": "stream",
     "text": [
      "Processing drug: AZD6738\n"
     ]
    },
    {
     "data": {
      "text/html": [],
      "text/plain": [
       "<IPython.core.display.HTML object>"
      ]
     },
     "metadata": {},
     "output_type": "display_data"
    },
    {
     "name": "stdout",
     "output_type": "stream",
     "text": [
      "Processing drug: AZD5438\n"
     ]
    },
    {
     "data": {
      "text/html": [],
      "text/plain": [
       "<IPython.core.display.HTML object>"
      ]
     },
     "metadata": {},
     "output_type": "display_data"
    },
    {
     "name": "stdout",
     "output_type": "stream",
     "text": [
      "Processing drug: AZD7762\n"
     ]
    },
    {
     "data": {
      "text/html": [],
      "text/plain": [
       "<IPython.core.display.HTML object>"
      ]
     },
     "metadata": {},
     "output_type": "display_data"
    },
    {
     "name": "stdout",
     "output_type": "stream",
     "text": [
      "Processing drug: AZD6094\n"
     ]
    },
    {
     "data": {
      "text/html": [],
      "text/plain": [
       "<IPython.core.display.HTML object>"
      ]
     },
     "metadata": {},
     "output_type": "display_data"
    },
    {
     "name": "stdout",
     "output_type": "stream",
     "text": [
      "Processing drug: AZD4877\n"
     ]
    },
    {
     "data": {
      "text/html": [],
      "text/plain": [
       "<IPython.core.display.HTML object>"
      ]
     },
     "metadata": {},
     "output_type": "display_data"
    },
    {
     "name": "stdout",
     "output_type": "stream",
     "text": [
      "Processing drug: Fulvestrant\n"
     ]
    },
    {
     "data": {
      "text/html": [],
      "text/plain": [
       "<IPython.core.display.HTML object>"
      ]
     },
     "metadata": {},
     "output_type": "display_data"
    },
    {
     "name": "stdout",
     "output_type": "stream",
     "text": [
      "Processing drug: AZD8931\n"
     ]
    },
    {
     "data": {
      "text/html": [],
      "text/plain": [
       "<IPython.core.display.HTML object>"
      ]
     },
     "metadata": {},
     "output_type": "display_data"
    },
    {
     "name": "stdout",
     "output_type": "stream",
     "text": [
      "Processing drug: BPTES\n"
     ]
    },
    {
     "data": {
      "text/html": [],
      "text/plain": [
       "<IPython.core.display.HTML object>"
      ]
     },
     "metadata": {},
     "output_type": "display_data"
    },
    {
     "name": "stdout",
     "output_type": "stream",
     "text": [
      "Processing drug: AZD5582\n"
     ]
    },
    {
     "data": {
      "text/html": [],
      "text/plain": [
       "<IPython.core.display.HTML object>"
      ]
     },
     "metadata": {},
     "output_type": "display_data"
    },
    {
     "name": "stdout",
     "output_type": "stream",
     "text": [
      "Processing drug: AZD1480\n"
     ]
    },
    {
     "data": {
      "text/html": [],
      "text/plain": [
       "<IPython.core.display.HTML object>"
      ]
     },
     "metadata": {},
     "output_type": "display_data"
    },
    {
     "name": "stdout",
     "output_type": "stream",
     "text": [
      "Processing drug: AZD2014\n"
     ]
    },
    {
     "data": {
      "text/html": [],
      "text/plain": [
       "<IPython.core.display.HTML object>"
      ]
     },
     "metadata": {},
     "output_type": "display_data"
    },
    {
     "name": "stdout",
     "output_type": "stream",
     "text": [
      "Processing drug: AZD8186\n"
     ]
    },
    {
     "data": {
      "text/html": [],
      "text/plain": [
       "<IPython.core.display.HTML object>"
      ]
     },
     "metadata": {},
     "output_type": "display_data"
    },
    {
     "name": "stdout",
     "output_type": "stream",
     "text": [
      "Processing drug: AZD8835\n"
     ]
    },
    {
     "data": {
      "text/html": [],
      "text/plain": [
       "<IPython.core.display.HTML object>"
      ]
     },
     "metadata": {},
     "output_type": "display_data"
    },
    {
     "name": "stdout",
     "output_type": "stream",
     "text": [
      "Processing drug: AZD1208\n"
     ]
    },
    {
     "data": {
      "text/html": [],
      "text/plain": [
       "<IPython.core.display.HTML object>"
      ]
     },
     "metadata": {},
     "output_type": "display_data"
    },
    {
     "name": "stdout",
     "output_type": "stream",
     "text": [
      "Processing drug: AZD1332\n"
     ]
    },
    {
     "data": {
      "text/html": [],
      "text/plain": [
       "<IPython.core.display.HTML object>"
      ]
     },
     "metadata": {},
     "output_type": "display_data"
    },
    {
     "name": "stdout",
     "output_type": "stream",
     "text": [
      "Processing drug: SN-38\n"
     ]
    },
    {
     "data": {
      "text/html": [],
      "text/plain": [
       "<IPython.core.display.HTML object>"
      ]
     },
     "metadata": {},
     "output_type": "display_data"
    },
    {
     "name": "stdout",
     "output_type": "stream",
     "text": [
      "Processing drug: SN-38\n"
     ]
    },
    {
     "data": {
      "text/html": [],
      "text/plain": [
       "<IPython.core.display.HTML object>"
      ]
     },
     "metadata": {},
     "output_type": "display_data"
    },
    {
     "name": "stdout",
     "output_type": "stream",
     "text": [
      "Processing drug: Olaparib\n"
     ]
    },
    {
     "data": {
      "text/html": [],
      "text/plain": [
       "<IPython.core.display.HTML object>"
      ]
     },
     "metadata": {},
     "output_type": "display_data"
    },
    {
     "name": "stdout",
     "output_type": "stream",
     "text": [
      "Processing drug: Cisplatin\n"
     ]
    },
    {
     "data": {
      "text/html": [],
      "text/plain": [
       "<IPython.core.display.HTML object>"
      ]
     },
     "metadata": {},
     "output_type": "display_data"
    },
    {
     "name": "stdout",
     "output_type": "stream",
     "text": [
      "Processing drug: AZD4547\n"
     ]
    },
    {
     "data": {
      "text/html": [],
      "text/plain": [
       "<IPython.core.display.HTML object>"
      ]
     },
     "metadata": {},
     "output_type": "display_data"
    },
    {
     "name": "stdout",
     "output_type": "stream",
     "text": [
      "Processing drug: Selumetinib\n"
     ]
    },
    {
     "data": {
      "text/html": [],
      "text/plain": [
       "<IPython.core.display.HTML object>"
      ]
     },
     "metadata": {},
     "output_type": "display_data"
    },
    {
     "name": "stdout",
     "output_type": "stream",
     "text": [
      "Processing drug: Bicalutamide\n"
     ]
    },
    {
     "data": {
      "text/html": [],
      "text/plain": [
       "<IPython.core.display.HTML object>"
      ]
     },
     "metadata": {},
     "output_type": "display_data"
    },
    {
     "name": "stdout",
     "output_type": "stream",
     "text": [
      "Processing drug: Refametinib\n"
     ]
    },
    {
     "data": {
      "text/html": [],
      "text/plain": [
       "<IPython.core.display.HTML object>"
      ]
     },
     "metadata": {},
     "output_type": "display_data"
    },
    {
     "name": "stdout",
     "output_type": "stream",
     "text": [
      "Processing drug: Pictilisib\n"
     ]
    },
    {
     "data": {
      "text/html": [],
      "text/plain": [
       "<IPython.core.display.HTML object>"
      ]
     },
     "metadata": {},
     "output_type": "display_data"
    },
    {
     "name": "stdout",
     "output_type": "stream",
     "text": [
      "Processing drug: Pevonedistat\n"
     ]
    },
    {
     "data": {
      "text/html": [],
      "text/plain": [
       "<IPython.core.display.HTML object>"
      ]
     },
     "metadata": {},
     "output_type": "display_data"
    },
    {
     "name": "stdout",
     "output_type": "stream",
     "text": [
      "Processing drug: PFI-3\n"
     ]
    },
    {
     "data": {
      "text/html": [],
      "text/plain": [
       "<IPython.core.display.HTML object>"
      ]
     },
     "metadata": {},
     "output_type": "display_data"
    },
    {
     "name": "stdout",
     "output_type": "stream",
     "text": [
      "Processing drug: I-CBP112\n"
     ]
    },
    {
     "data": {
      "text/html": [],
      "text/plain": [
       "<IPython.core.display.HTML object>"
      ]
     },
     "metadata": {},
     "output_type": "display_data"
    },
    {
     "name": "stdout",
     "output_type": "stream",
     "text": [
      "Final number of predictions: 329\n",
      "        DRUG_NAME  Predicted_LN_IC50\n",
      "0       Erlotinib           4.218343\n",
      "1       Rapamycin           4.079519\n",
      "2       Sunitinib           4.175391\n",
      "3      PHA-665752           4.218343\n",
      "4          MG-132           4.160646\n",
      "..            ...                ...\n",
      "324   Refametinib           4.151207\n",
      "325    Pictilisib           4.184497\n",
      "326  Pevonedistat           4.129141\n",
      "327         PFI-3           4.203895\n",
      "328      I-CBP112           4.218343\n",
      "\n",
      "[329 rows x 2 columns]\n"
     ]
    }
   ],
   "source": [
    "import pandas as pd\n",
    "import sys\n",
    "from rdkit import Chem\n",
    "from rdkit.Chem import Descriptors, Lipinski\n",
    "\n",
    "# Assuming these functions are defined earlier in your script\n",
    "def lipinski_rule(smiles):\n",
    "    mol = Chem.MolFromSmiles(smiles)\n",
    "    if mol:\n",
    "        return [Descriptors.MolWt(mol),\n",
    "                Descriptors.MolLogP(mol),\n",
    "                Descriptors.NumHDonors(mol),\n",
    "                Descriptors.NumHAcceptors(mol)]\n",
    "    else:\n",
    "        return [None, None, None, None]\n",
    "\n",
    "def calc_descriptors(smiles):\n",
    "    mol = Chem.MolFromSmiles(smiles)\n",
    "    if mol:\n",
    "        desc = [desc[1](mol) for desc in Descriptors.descList]\n",
    "        return desc\n",
    "    else:\n",
    "        return None\n",
    "\n",
    "# Subset the dataframe to include only the SMILES and DRUG_NAME columns\n",
    "df_subset = df_filtered_2[['DRUG_NAME', 'SMILES']]\n",
    "print(f\"Number of rows in df_subset: {len(df_subset)}\")\n",
    "\n",
    "# Create a new dataframe for prediction results\n",
    "df_predictions = pd.DataFrame(columns=['DRUG_NAME', 'Predicted_LN_IC50'])\n",
    "\n",
    "# Get the column names from the training data\n",
    "training_columns = fp_LnIC.columns.drop('LN_IC50').tolist()\n",
    "\n",
    "# Iterate through the rows of the subsetted dataframe and predict IC50 for each SMILES\n",
    "for index, row in df_subset.iterrows():\n",
    "    drug_name = row['DRUG_NAME']\n",
    "    smiles = row['SMILES']\n",
    "    print(f\"Processing drug: {drug_name}\")\n",
    "\n",
    "    try:\n",
    "        # Calculate Lipinski's rule features\n",
    "        lipinski_values = lipinski_rule(smiles)\n",
    "        df_lipinski_temp = pd.DataFrame([lipinski_values], columns=['MW', 'LogP', 'HDon', 'HAcc'])\n",
    "\n",
    "        # Calculate other molecular descriptors\n",
    "        descriptor_values = calc_descriptors(smiles)\n",
    "        df_descriptors_temp = pd.DataFrame([descriptor_values], columns=[f'Descriptor_{i}' for i in range(len(descriptor_values))])\n",
    "\n",
    "        # Combine descriptor dataframes\n",
    "        df_combined_temp = pd.concat([df_descriptors_temp, df_lipinski_temp], axis=1)\n",
    "\n",
    "        # Ensure the combined dataframe has the same columns as the training data\n",
    "        for col in training_columns:\n",
    "            if col not in df_combined_temp.columns:\n",
    "                df_combined_temp[col] = 0  # or some other appropriate default value\n",
    "\n",
    "        # Keep only columns present in the model training features\n",
    "        df_combined_temp = df_combined_temp[training_columns]\n",
    "\n",
    "        # Use the trained model to predict the IC50\n",
    "        predicted_ic50 = predict_model(tuned_model, data=df_combined_temp)['prediction_label'].iloc[0]\n",
    "\n",
    "        # Add the drug name and predicted IC50 to the prediction results dataframe\n",
    "        df_predictions = pd.concat(\n",
    "            [df_predictions, pd.DataFrame({'DRUG_NAME': [drug_name], 'Predicted_LN_IC50': [predicted_ic50]})],\n",
    "            ignore_index=True\n",
    "        )\n",
    "\n",
    "    except Exception as e:\n",
    "        print(f\"Error processing {drug_name}: {str(e)}\", file=sys.stderr)\n",
    "\n",
    "# Print or use the df_predictions dataframe as needed\n",
    "print(f\"Final number of predictions: {len(df_predictions)}\")\n",
    "print(df_predictions)"
   ]
  },
  {
   "cell_type": "code",
   "execution_count": 82,
   "metadata": {},
   "outputs": [],
   "source": [
    "import pandas as pd\n",
    "import seaborn as sns\n",
    "import matplotlib.pyplot as plt\n",
    "import numpy as np\n",
    "from scipy.stats import pearsonr"
   ]
  },
  {
   "cell_type": "code",
   "execution_count": 68,
   "metadata": {},
   "outputs": [
    {
     "name": "stdout",
     "output_type": "stream",
     "text": [
      "Predictions:\n",
      "        DRUG_NAME  Predicted_LN_IC50\n",
      "0       Erlotinib           4.218343\n",
      "1       Rapamycin           4.079519\n",
      "2       Sunitinib           4.175391\n",
      "3      PHA-665752           4.218343\n",
      "4          MG-132           4.160646\n",
      "..            ...                ...\n",
      "324   Refametinib           4.151207\n",
      "325    Pictilisib           4.184497\n",
      "326  Pevonedistat           4.129141\n",
      "327         PFI-3           4.203895\n",
      "328      I-CBP112           4.218343\n",
      "\n",
      "[329 rows x 2 columns]\n",
      "DataFrame saved as predictions.csv\n"
     ]
    }
   ],
   "source": [
    "\n",
    "# Convert df_predictions to a Pandas DataFrame (if it isn't already)\n",
    "df_predictions = pd.DataFrame(df_predictions)\n",
    "\n",
    "# Print the predictions\n",
    "print(\"Predictions:\")\n",
    "print(df_predictions)\n",
    "\n",
    "# Save predictions as a CSV file\n",
    "df_predictions.to_csv('predictions.csv', index=False)\n",
    "print(\"DataFrame saved as predictions.csv\")"
   ]
  },
  {
   "cell_type": "code",
   "execution_count": 79,
   "metadata": {},
   "outputs": [
    {
     "name": "stdout",
     "output_type": "stream",
     "text": [
      "\n",
      "Merged data (predictions and actual values):\n",
      "        DRUG_NAME  Predicted_LN_IC50   LN_IC50\n",
      "0       Erlotinib           4.218343  3.394001\n",
      "1       Rapamycin           4.079519 -1.113085\n",
      "2       Sunitinib           4.175391  4.013588\n",
      "3      PHA-665752           4.218343  3.092390\n",
      "4          MG-132           4.160646  2.369072\n",
      "..            ...                ...       ...\n",
      "372    Pictilisib           4.184497  1.549603\n",
      "373    Pictilisib           4.184497  1.439194\n",
      "374  Pevonedistat           4.129141 -0.809756\n",
      "375         PFI-3           4.203895  5.665698\n",
      "376      I-CBP112           4.218343  5.864130\n",
      "\n",
      "[377 rows x 3 columns]\n"
     ]
    }
   ],
   "source": [
    "# Merge df_predictions with df_filtered_2 on 'DRUG_NAME'\n",
    "merged_df = pd.merge(df_predictions, df_filtered_2[['DRUG_NAME', 'LN_IC50']], on='DRUG_NAME', how='left')\n",
    "\n",
    "# Print the merged DataFrame containing 'Predicted_LN_IC50' and 'LN_IC50'\n",
    "print(\"\\nMerged data (predictions and actual values):\")\n",
    "print(merged_df[['DRUG_NAME', 'Predicted_LN_IC50', 'LN_IC50']])"
   ]
  },
  {
   "cell_type": "code",
   "execution_count": 80,
   "metadata": {},
   "outputs": [],
   "source": [
    "# Extract predicted and actual values\n",
    "x = merged_df['Predicted_LN_IC50']  # Predicted values\n",
    "y = merged_df['LN_IC50']  # Actual values"
   ]
  },
  {
   "cell_type": "code",
   "execution_count": 81,
   "metadata": {},
   "outputs": [],
   "source": [
    "# Calculate statistics\n",
    "correlation_coefficient, p_value = pearsonr(x, y)\n",
    "r_squared = correlation_coefficient ** 2\n",
    "mse = np.mean((y - x) ** 2)\n",
    "rmse = np.sqrt(mse)\n",
    "\n",
    "# Seaborn settings for plot styling\n",
    "sns.set(color_codes=True)\n",
    "sns.set_style(\"white\")"
   ]
  },
  {
   "cell_type": "code",
   "execution_count": 86,
   "metadata": {},
   "outputs": [
    {
     "data": {
      "image/png": "[encoded data removed]",
      "text/plain": [
       "<Figure size 800x600 with 1 Axes>"
      ]
     },
     "metadata": {},
     "output_type": "display_data"
    },
    {
     "name": "stdout",
     "output_type": "stream",
     "text": [
      "\n",
      "Statistics:\n",
      "Correlation Coefficient: 0.3257\n",
      "R-squared: 0.1061\n",
      "Root Mean Square Error (RMSE): 3.4693\n",
      "p-value: 0.0000\n"
     ]
    }
   ],
   "source": [
    "# Create a scatter plot with a red regression line\n",
    "plt.figure(figsize=(8, 6))\n",
    "ax = sns.regplot(x=x, y=y, scatter_kws={'alpha': 0.3, 'color': 'blue'}, line_kws={'color': 'red'})\n",
    "\n",
    "# Set plot labels and limits\n",
    "ax.set_xlabel('Predicted LN_IC50', fontsize=14, fontweight='bold')\n",
    "ax.set_ylabel('Actual LN_IC50', fontsize=14, fontweight='bold')\n",
    "ax.set_xlim(3.5, 4.5)\n",
    "ax.set_ylim(0, 6)\n",
    "plt.title('Actual vs Predicted LN_IC50', fontsize=16, fontweight='bold')\n",
    "\n",
    "# Show the plot\n",
    "plt.show()\n",
    "\n",
    "# Print the statistics\n",
    "print(\"\\nStatistics:\")\n",
    "print(f\"Correlation Coefficient: {correlation_coefficient:.4f}\")\n",
    "print(f\"R-squared: {r_squared:.4f}\")\n",
    "print(f\"Root Mean Square Error (RMSE): {rmse:.4f}\")\n",
    "print(f\"p-value: {p_value:.4f}\")"
   ]
  },
  {
   "cell_type": "code",
   "execution_count": null,
   "metadata": {},
   "outputs": [],
   "source": []
  }
 ],
 "metadata": {
  "colab": {
   "provenance": []
  },
  "kernelspec": {
   "display_name": "Python 3 (ipykernel)",
   "language": "python",
   "name": "python3"
  },
  "language_info": {
   "codemirror_mode": {
    "name": "ipython",
    "version": 3
   },
   "file_extension": ".py",
   "mimetype": "text/x-python",
   "name": "python",
   "nbconvert_exporter": "python",
   "pygments_lexer": "ipython3",
   "version": "3.10.12"
  },
  "widgets": {
   "application/vnd.jupyter.widget-state+json": {
    "0c0dbd52fab8486f971e2012cf213ec3": {
     "model_module": "@jupyter-widgets/controls",
     "model_module_version": "1.5.0",
     "model_name": "FloatProgressModel",
     "state": {
      "_dom_classes": [],
      "_model_module": "@jupyter-widgets/controls",
      "_model_module_version": "1.5.0",
      "_model_name": "FloatProgressModel",
      "_view_count": null,
      "_view_module": "@jupyter-widgets/controls",
      "_view_module_version": "1.5.0",
      "_view_name": "ProgressView",
      "bar_style": "",
      "description": "",
      "description_tooltip": null,
      "layout": "IPY_MODEL_bb94d966952c486eb0c68d7ef7b19699",
      "max": 4,
      "min": 0,
      "orientation": "horizontal",
      "style": "IPY_MODEL_e8c714962e08499cbcecb8bd2dcc59a2",
      "value": 4
     }
    },
    "282ca50dbe0841c2a3736001be3897a5": {
     "model_module": "@jupyter-widgets/controls",
     "model_module_version": "1.5.0",
     "model_name": "HBoxModel",
     "state": {
      "_dom_classes": [],
      "_model_module": "@jupyter-widgets/controls",
      "_model_module_version": "1.5.0",
      "_model_name": "HBoxModel",
      "_view_count": null,
      "_view_module": "@jupyter-widgets/controls",
      "_view_module_version": "1.5.0",
      "_view_name": "HBoxView",
      "box_style": "",
      "children": [
       "IPY_MODEL_e03788ea4cd94be8a3e28ccda7a0dfeb",
       "IPY_MODEL_501d29794f2643fd9e8ad3a08db3a763",
       "IPY_MODEL_507d767684f74b36a71ae98a60dec38f"
      ],
      "layout": "IPY_MODEL_8b0de5e1304d45b8843abdfa07be4c19"
     }
    },
    "31c6051b5a6b4824ae1ec15c0ed06a7b": {
     "model_module": "@jupyter-widgets/controls",
     "model_module_version": "1.5.0",
     "model_name": "HBoxModel",
     "state": {
      "_dom_classes": [],
      "_model_module": "@jupyter-widgets/controls",
      "_model_module_version": "1.5.0",
      "_model_name": "HBoxModel",
      "_view_count": null,
      "_view_module": "@jupyter-widgets/controls",
      "_view_module_version": "1.5.0",
      "_view_name": "HBoxView",
      "box_style": "",
      "children": [
       "IPY_MODEL_b62c3a16d4c04760b8eee733efa5293b",
       "IPY_MODEL_0c0dbd52fab8486f971e2012cf213ec3",
       "IPY_MODEL_d1d35a1defae4e3b89550e843f8b63c4"
      ],
      "layout": "IPY_MODEL_d355a19dc22e4639a66d3300cf5faf68"
     }
    },
    "321487c0cc2044b09f583b9e3754f7d2": {
     "model_module": "@jupyter-widgets/controls",
     "model_module_version": "1.5.0",
     "model_name": "FloatProgressModel",
     "state": {
      "_dom_classes": [],
      "_model_module": "@jupyter-widgets/controls",
      "_model_module_version": "1.5.0",
      "_model_name": "FloatProgressModel",
      "_view_count": null,
      "_view_module": "@jupyter-widgets/controls",
      "_view_module_version": "1.5.0",
      "_view_name": "ProgressView",
      "bar_style": "",
      "description": "",
      "description_tooltip": null,
      "layout": "IPY_MODEL_3d9e0efdf1024c9999abd53191c80ee6",
      "max": 81,
      "min": 0,
      "orientation": "horizontal",
      "style": "IPY_MODEL_9d7e200b36b646509548e9d165d674bb",
      "value": 81
     }
    },
    "357a3ece2b7f4649a52bf70f53078192": {
     "model_module": "@jupyter-widgets/controls",
     "model_module_version": "1.5.0",
     "model_name": "DescriptionStyleModel",
     "state": {
      "_model_module": "@jupyter-widgets/controls",
      "_model_module_version": "1.5.0",
      "_model_name": "DescriptionStyleModel",
      "_view_count": null,
      "_view_module": "@jupyter-widgets/base",
      "_view_module_version": "1.2.0",
      "_view_name": "StyleView",
      "description_width": ""
     }
    },
    "3d9e0efdf1024c9999abd53191c80ee6": {
     "model_module": "@jupyter-widgets/base",
     "model_module_version": "1.2.0",
     "model_name": "LayoutModel",
     "state": {
      "_model_module": "@jupyter-widgets/base",
      "_model_module_version": "1.2.0",
      "_model_name": "LayoutModel",
      "_view_count": null,
      "_view_module": "@jupyter-widgets/base",
      "_view_module_version": "1.2.0",
      "_view_name": "LayoutView",
      "align_content": null,
      "align_items": null,
      "align_self": null,
      "border": null,
      "bottom": null,
      "display": null,
      "flex": null,
      "flex_flow": null,
      "grid_area": null,
      "grid_auto_columns": null,
      "grid_auto_flow": null,
      "grid_auto_rows": null,
      "grid_column": null,
      "grid_gap": null,
      "grid_row": null,
      "grid_template_areas": null,
      "grid_template_columns": null,
      "grid_template_rows": null,
      "height": null,
      "justify_content": null,
      "justify_items": null,
      "left": null,
      "margin": null,
      "max_height": null,
      "max_width": null,
      "min_height": null,
      "min_width": null,
      "object_fit": null,
      "object_position": null,
      "order": null,
      "overflow": null,
      "overflow_x": null,
      "overflow_y": null,
      "padding": null,
      "right": null,
      "top": null,
      "visibility": null,
      "width": null
     }
    },
    "501d29794f2643fd9e8ad3a08db3a763": {
     "model_module": "@jupyter-widgets/controls",
     "model_module_version": "1.5.0",
     "model_name": "FloatProgressModel",
     "state": {
      "_dom_classes": [],
      "_model_module": "@jupyter-widgets/controls",
      "_model_module_version": "1.5.0",
      "_model_name": "FloatProgressModel",
      "_view_count": null,
      "_view_module": "@jupyter-widgets/controls",
      "_view_module_version": "1.5.0",
      "_view_name": "ProgressView",
      "bar_style": "",
      "description": "",
      "description_tooltip": null,
      "layout": "IPY_MODEL_db8daac0acc64431b42ffb0a1ca0aa57",
      "max": 7,
      "min": 0,
      "orientation": "horizontal",
      "style": "IPY_MODEL_63a628c60a974d0eaf7f74c636884b76",
      "value": 7
     }
    },
    "507d767684f74b36a71ae98a60dec38f": {
     "model_module": "@jupyter-widgets/controls",
     "model_module_version": "1.5.0",
     "model_name": "HTMLModel",
     "state": {
      "_dom_classes": [],
      "_model_module": "@jupyter-widgets/controls",
      "_model_module_version": "1.5.0",
      "_model_name": "HTMLModel",
      "_view_count": null,
      "_view_module": "@jupyter-widgets/controls",
      "_view_module_version": "1.5.0",
      "_view_name": "HTMLView",
      "description": "",
      "description_tooltip": null,
      "layout": "IPY_MODEL_5a5d814ce6004282b0955c38fbc7a99d",
      "placeholder": "​",
      "style": "IPY_MODEL_dbbd53d7ea8b43a7bd765f1bbcdba767",
      "value": " 7/7 [04:10&lt;00:00, 27.03s/it]"
     }
    },
    "587eebf543294c648c9da9d22578f563": {
     "model_module": "@jupyter-widgets/base",
     "model_module_version": "1.2.0",
     "model_name": "LayoutModel",
     "state": {
      "_model_module": "@jupyter-widgets/base",
      "_model_module_version": "1.2.0",
      "_model_name": "LayoutModel",
      "_view_count": null,
      "_view_module": "@jupyter-widgets/base",
      "_view_module_version": "1.2.0",
      "_view_name": "LayoutView",
      "align_content": null,
      "align_items": null,
      "align_self": null,
      "border": null,
      "bottom": null,
      "display": null,
      "flex": null,
      "flex_flow": null,
      "grid_area": null,
      "grid_auto_columns": null,
      "grid_auto_flow": null,
      "grid_auto_rows": null,
      "grid_column": null,
      "grid_gap": null,
      "grid_row": null,
      "grid_template_areas": null,
      "grid_template_columns": null,
      "grid_template_rows": null,
      "height": null,
      "justify_content": null,
      "justify_items": null,
      "left": null,
      "margin": null,
      "max_height": null,
      "max_width": null,
      "min_height": null,
      "min_width": null,
      "object_fit": null,
      "object_position": null,
      "order": null,
      "overflow": null,
      "overflow_x": null,
      "overflow_y": null,
      "padding": null,
      "right": null,
      "top": null,
      "visibility": null,
      "width": null
     }
    },
    "5a5d814ce6004282b0955c38fbc7a99d": {
     "model_module": "@jupyter-widgets/base",
     "model_module_version": "1.2.0",
     "model_name": "LayoutModel",
     "state": {
      "_model_module": "@jupyter-widgets/base",
      "_model_module_version": "1.2.0",
      "_model_name": "LayoutModel",
      "_view_count": null,
      "_view_module": "@jupyter-widgets/base",
      "_view_module_version": "1.2.0",
      "_view_name": "LayoutView",
      "align_content": null,
      "align_items": null,
      "align_self": null,
      "border": null,
      "bottom": null,
      "display": null,
      "flex": null,
      "flex_flow": null,
      "grid_area": null,
      "grid_auto_columns": null,
      "grid_auto_flow": null,
      "grid_auto_rows": null,
      "grid_column": null,
      "grid_gap": null,
      "grid_row": null,
      "grid_template_areas": null,
      "grid_template_columns": null,
      "grid_template_rows": null,
      "height": null,
      "justify_content": null,
      "justify_items": null,
      "left": null,
      "margin": null,
      "max_height": null,
      "max_width": null,
      "min_height": null,
      "min_width": null,
      "object_fit": null,
      "object_position": null,
      "order": null,
      "overflow": null,
      "overflow_x": null,
      "overflow_y": null,
      "padding": null,
      "right": null,
      "top": null,
      "visibility": null,
      "width": null
     }
    },
    "5e1f8320706d45f2b7c1f3abc3d792cb": {
     "model_module": "@jupyter-widgets/controls",
     "model_module_version": "1.5.0",
     "model_name": "DescriptionStyleModel",
     "state": {
      "_model_module": "@jupyter-widgets/controls",
      "_model_module_version": "1.5.0",
      "_model_name": "DescriptionStyleModel",
      "_view_count": null,
      "_view_module": "@jupyter-widgets/base",
      "_view_module_version": "1.2.0",
      "_view_name": "StyleView",
      "description_width": ""
     }
    },
    "63a628c60a974d0eaf7f74c636884b76": {
     "model_module": "@jupyter-widgets/controls",
     "model_module_version": "1.5.0",
     "model_name": "ProgressStyleModel",
     "state": {
      "_model_module": "@jupyter-widgets/controls",
      "_model_module_version": "1.5.0",
      "_model_name": "ProgressStyleModel",
      "_view_count": null,
      "_view_module": "@jupyter-widgets/base",
      "_view_module_version": "1.2.0",
      "_view_name": "StyleView",
      "bar_color": null,
      "description_width": ""
     }
    },
    "6ebbde9d5b5d46a89df92e04e1ff4f91": {
     "model_module": "@jupyter-widgets/base",
     "model_module_version": "1.2.0",
     "model_name": "LayoutModel",
     "state": {
      "_model_module": "@jupyter-widgets/base",
      "_model_module_version": "1.2.0",
      "_model_name": "LayoutModel",
      "_view_count": null,
      "_view_module": "@jupyter-widgets/base",
      "_view_module_version": "1.2.0",
      "_view_name": "LayoutView",
      "align_content": null,
      "align_items": null,
      "align_self": null,
      "border": null,
      "bottom": null,
      "display": null,
      "flex": null,
      "flex_flow": null,
      "grid_area": null,
      "grid_auto_columns": null,
      "grid_auto_flow": null,
      "grid_auto_rows": null,
      "grid_column": null,
      "grid_gap": null,
      "grid_row": null,
      "grid_template_areas": null,
      "grid_template_columns": null,
      "grid_template_rows": null,
      "height": null,
      "justify_content": null,
      "justify_items": null,
      "left": null,
      "margin": null,
      "max_height": null,
      "max_width": null,
      "min_height": null,
      "min_width": null,
      "object_fit": null,
      "object_position": null,
      "order": null,
      "overflow": null,
      "overflow_x": null,
      "overflow_y": null,
      "padding": null,
      "right": null,
      "top": null,
      "visibility": "hidden",
      "width": null
     }
    },
    "7408c1f97b4345f8a0d4df751a746877": {
     "model_module": "@jupyter-widgets/base",
     "model_module_version": "1.2.0",
     "model_name": "LayoutModel",
     "state": {
      "_model_module": "@jupyter-widgets/base",
      "_model_module_version": "1.2.0",
      "_model_name": "LayoutModel",
      "_view_count": null,
      "_view_module": "@jupyter-widgets/base",
      "_view_module_version": "1.2.0",
      "_view_name": "LayoutView",
      "align_content": null,
      "align_items": null,
      "align_self": null,
      "border": null,
      "bottom": null,
      "display": null,
      "flex": null,
      "flex_flow": null,
      "grid_area": null,
      "grid_auto_columns": null,
      "grid_auto_flow": null,
      "grid_auto_rows": null,
      "grid_column": null,
      "grid_gap": null,
      "grid_row": null,
      "grid_template_areas": null,
      "grid_template_columns": null,
      "grid_template_rows": null,
      "height": null,
      "justify_content": null,
      "justify_items": null,
      "left": null,
      "margin": null,
      "max_height": null,
      "max_width": null,
      "min_height": null,
      "min_width": null,
      "object_fit": null,
      "object_position": null,
      "order": null,
      "overflow": null,
      "overflow_x": null,
      "overflow_y": null,
      "padding": null,
      "right": null,
      "top": null,
      "visibility": null,
      "width": null
     }
    },
    "8b0de5e1304d45b8843abdfa07be4c19": {
     "model_module": "@jupyter-widgets/base",
     "model_module_version": "1.2.0",
     "model_name": "LayoutModel",
     "state": {
      "_model_module": "@jupyter-widgets/base",
      "_model_module_version": "1.2.0",
      "_model_name": "LayoutModel",
      "_view_count": null,
      "_view_module": "@jupyter-widgets/base",
      "_view_module_version": "1.2.0",
      "_view_name": "LayoutView",
      "align_content": null,
      "align_items": null,
      "align_self": null,
      "border": null,
      "bottom": null,
      "display": null,
      "flex": null,
      "flex_flow": null,
      "grid_area": null,
      "grid_auto_columns": null,
      "grid_auto_flow": null,
      "grid_auto_rows": null,
      "grid_column": null,
      "grid_gap": null,
      "grid_row": null,
      "grid_template_areas": null,
      "grid_template_columns": null,
      "grid_template_rows": null,
      "height": null,
      "justify_content": null,
      "justify_items": null,
      "left": null,
      "margin": null,
      "max_height": null,
      "max_width": null,
      "min_height": null,
      "min_width": null,
      "object_fit": null,
      "object_position": null,
      "order": null,
      "overflow": null,
      "overflow_x": null,
      "overflow_y": null,
      "padding": null,
      "right": null,
      "top": null,
      "visibility": "hidden",
      "width": null
     }
    },
    "91bb8117f6c24b07b26792ca46888d2d": {
     "model_module": "@jupyter-widgets/controls",
     "model_module_version": "1.5.0",
     "model_name": "DescriptionStyleModel",
     "state": {
      "_model_module": "@jupyter-widgets/controls",
      "_model_module_version": "1.5.0",
      "_model_name": "DescriptionStyleModel",
      "_view_count": null,
      "_view_module": "@jupyter-widgets/base",
      "_view_module_version": "1.2.0",
      "_view_name": "StyleView",
      "description_width": ""
     }
    },
    "97998f1bf99b4cb18844d62a3ce3f622": {
     "model_module": "@jupyter-widgets/controls",
     "model_module_version": "1.5.0",
     "model_name": "HTMLModel",
     "state": {
      "_dom_classes": [],
      "_model_module": "@jupyter-widgets/controls",
      "_model_module_version": "1.5.0",
      "_model_name": "HTMLModel",
      "_view_count": null,
      "_view_module": "@jupyter-widgets/controls",
      "_view_module_version": "1.5.0",
      "_view_name": "HTMLView",
      "description": "",
      "description_tooltip": null,
      "layout": "IPY_MODEL_587eebf543294c648c9da9d22578f563",
      "placeholder": "​",
      "style": "IPY_MODEL_5e1f8320706d45f2b7c1f3abc3d792cb",
      "value": "Processing: 100%"
     }
    },
    "9caaeefbf5714412b4ecf48f802d5d5f": {
     "model_module": "@jupyter-widgets/base",
     "model_module_version": "1.2.0",
     "model_name": "LayoutModel",
     "state": {
      "_model_module": "@jupyter-widgets/base",
      "_model_module_version": "1.2.0",
      "_model_name": "LayoutModel",
      "_view_count": null,
      "_view_module": "@jupyter-widgets/base",
      "_view_module_version": "1.2.0",
      "_view_name": "LayoutView",
      "align_content": null,
      "align_items": null,
      "align_self": null,
      "border": null,
      "bottom": null,
      "display": null,
      "flex": null,
      "flex_flow": null,
      "grid_area": null,
      "grid_auto_columns": null,
      "grid_auto_flow": null,
      "grid_auto_rows": null,
      "grid_column": null,
      "grid_gap": null,
      "grid_row": null,
      "grid_template_areas": null,
      "grid_template_columns": null,
      "grid_template_rows": null,
      "height": null,
      "justify_content": null,
      "justify_items": null,
      "left": null,
      "margin": null,
      "max_height": null,
      "max_width": null,
      "min_height": null,
      "min_width": null,
      "object_fit": null,
      "object_position": null,
      "order": null,
      "overflow": null,
      "overflow_x": null,
      "overflow_y": null,
      "padding": null,
      "right": null,
      "top": null,
      "visibility": null,
      "width": null
     }
    },
    "9d7e200b36b646509548e9d165d674bb": {
     "model_module": "@jupyter-widgets/controls",
     "model_module_version": "1.5.0",
     "model_name": "ProgressStyleModel",
     "state": {
      "_model_module": "@jupyter-widgets/controls",
      "_model_module_version": "1.5.0",
      "_model_name": "ProgressStyleModel",
      "_view_count": null,
      "_view_module": "@jupyter-widgets/base",
      "_view_module_version": "1.2.0",
      "_view_name": "StyleView",
      "bar_color": null,
      "description_width": ""
     }
    },
    "a2d057243cab407599bc3c5b07ed9e75": {
     "model_module": "@jupyter-widgets/controls",
     "model_module_version": "1.5.0",
     "model_name": "HTMLModel",
     "state": {
      "_dom_classes": [],
      "_model_module": "@jupyter-widgets/controls",
      "_model_module_version": "1.5.0",
      "_model_name": "HTMLModel",
      "_view_count": null,
      "_view_module": "@jupyter-widgets/controls",
      "_view_module_version": "1.5.0",
      "_view_name": "HTMLView",
      "description": "",
      "description_tooltip": null,
      "layout": "IPY_MODEL_baa0c216ed384d989f66a1729d8d9871",
      "placeholder": "​",
      "style": "IPY_MODEL_91bb8117f6c24b07b26792ca46888d2d",
      "value": " 81/81 [01:17&lt;00:00,  1.18s/it]"
     }
    },
    "a74ca3554dfc41ffa2a6a273fbe8d38f": {
     "model_module": "@jupyter-widgets/controls",
     "model_module_version": "1.5.0",
     "model_name": "DescriptionStyleModel",
     "state": {
      "_model_module": "@jupyter-widgets/controls",
      "_model_module_version": "1.5.0",
      "_model_name": "DescriptionStyleModel",
      "_view_count": null,
      "_view_module": "@jupyter-widgets/base",
      "_view_module_version": "1.2.0",
      "_view_name": "StyleView",
      "description_width": ""
     }
    },
    "aad6bb00f3e44137a6bb8393f088fb68": {
     "model_module": "@jupyter-widgets/controls",
     "model_module_version": "1.5.0",
     "model_name": "HBoxModel",
     "state": {
      "_dom_classes": [],
      "_model_module": "@jupyter-widgets/controls",
      "_model_module_version": "1.5.0",
      "_model_name": "HBoxModel",
      "_view_count": null,
      "_view_module": "@jupyter-widgets/controls",
      "_view_module_version": "1.5.0",
      "_view_name": "HBoxView",
      "box_style": "",
      "children": [
       "IPY_MODEL_97998f1bf99b4cb18844d62a3ce3f622",
       "IPY_MODEL_321487c0cc2044b09f583b9e3754f7d2",
       "IPY_MODEL_a2d057243cab407599bc3c5b07ed9e75"
      ],
      "layout": "IPY_MODEL_6ebbde9d5b5d46a89df92e04e1ff4f91"
     }
    },
    "ac19719851f64c1180655655399ba6a0": {
     "model_module": "@jupyter-widgets/controls",
     "model_module_version": "1.5.0",
     "model_name": "DescriptionStyleModel",
     "state": {
      "_model_module": "@jupyter-widgets/controls",
      "_model_module_version": "1.5.0",
      "_model_name": "DescriptionStyleModel",
      "_view_count": null,
      "_view_module": "@jupyter-widgets/base",
      "_view_module_version": "1.2.0",
      "_view_name": "StyleView",
      "description_width": ""
     }
    },
    "b62c3a16d4c04760b8eee733efa5293b": {
     "model_module": "@jupyter-widgets/controls",
     "model_module_version": "1.5.0",
     "model_name": "HTMLModel",
     "state": {
      "_dom_classes": [],
      "_model_module": "@jupyter-widgets/controls",
      "_model_module_version": "1.5.0",
      "_model_name": "HTMLModel",
      "_view_count": null,
      "_view_module": "@jupyter-widgets/controls",
      "_view_module_version": "1.5.0",
      "_view_name": "HTMLView",
      "description": "",
      "description_tooltip": null,
      "layout": "IPY_MODEL_9caaeefbf5714412b4ecf48f802d5d5f",
      "placeholder": "​",
      "style": "IPY_MODEL_ac19719851f64c1180655655399ba6a0",
      "value": "Processing: 100%"
     }
    },
    "baa0c216ed384d989f66a1729d8d9871": {
     "model_module": "@jupyter-widgets/base",
     "model_module_version": "1.2.0",
     "model_name": "LayoutModel",
     "state": {
      "_model_module": "@jupyter-widgets/base",
      "_model_module_version": "1.2.0",
      "_model_name": "LayoutModel",
      "_view_count": null,
      "_view_module": "@jupyter-widgets/base",
      "_view_module_version": "1.2.0",
      "_view_name": "LayoutView",
      "align_content": null,
      "align_items": null,
      "align_self": null,
      "border": null,
      "bottom": null,
      "display": null,
      "flex": null,
      "flex_flow": null,
      "grid_area": null,
      "grid_auto_columns": null,
      "grid_auto_flow": null,
      "grid_auto_rows": null,
      "grid_column": null,
      "grid_gap": null,
      "grid_row": null,
      "grid_template_areas": null,
      "grid_template_columns": null,
      "grid_template_rows": null,
      "height": null,
      "justify_content": null,
      "justify_items": null,
      "left": null,
      "margin": null,
      "max_height": null,
      "max_width": null,
      "min_height": null,
      "min_width": null,
      "object_fit": null,
      "object_position": null,
      "order": null,
      "overflow": null,
      "overflow_x": null,
      "overflow_y": null,
      "padding": null,
      "right": null,
      "top": null,
      "visibility": null,
      "width": null
     }
    },
    "bb94d966952c486eb0c68d7ef7b19699": {
     "model_module": "@jupyter-widgets/base",
     "model_module_version": "1.2.0",
     "model_name": "LayoutModel",
     "state": {
      "_model_module": "@jupyter-widgets/base",
      "_model_module_version": "1.2.0",
      "_model_name": "LayoutModel",
      "_view_count": null,
      "_view_module": "@jupyter-widgets/base",
      "_view_module_version": "1.2.0",
      "_view_name": "LayoutView",
      "align_content": null,
      "align_items": null,
      "align_self": null,
      "border": null,
      "bottom": null,
      "display": null,
      "flex": null,
      "flex_flow": null,
      "grid_area": null,
      "grid_auto_columns": null,
      "grid_auto_flow": null,
      "grid_auto_rows": null,
      "grid_column": null,
      "grid_gap": null,
      "grid_row": null,
      "grid_template_areas": null,
      "grid_template_columns": null,
      "grid_template_rows": null,
      "height": null,
      "justify_content": null,
      "justify_items": null,
      "left": null,
      "margin": null,
      "max_height": null,
      "max_width": null,
      "min_height": null,
      "min_width": null,
      "object_fit": null,
      "object_position": null,
      "order": null,
      "overflow": null,
      "overflow_x": null,
      "overflow_y": null,
      "padding": null,
      "right": null,
      "top": null,
      "visibility": null,
      "width": null
     }
    },
    "cc5381e6b7e24e4598b3e0c43f0ad17f": {
     "model_module": "@jupyter-widgets/base",
     "model_module_version": "1.2.0",
     "model_name": "LayoutModel",
     "state": {
      "_model_module": "@jupyter-widgets/base",
      "_model_module_version": "1.2.0",
      "_model_name": "LayoutModel",
      "_view_count": null,
      "_view_module": "@jupyter-widgets/base",
      "_view_module_version": "1.2.0",
      "_view_name": "LayoutView",
      "align_content": null,
      "align_items": null,
      "align_self": null,
      "border": null,
      "bottom": null,
      "display": null,
      "flex": null,
      "flex_flow": null,
      "grid_area": null,
      "grid_auto_columns": null,
      "grid_auto_flow": null,
      "grid_auto_rows": null,
      "grid_column": null,
      "grid_gap": null,
      "grid_row": null,
      "grid_template_areas": null,
      "grid_template_columns": null,
      "grid_template_rows": null,
      "height": null,
      "justify_content": null,
      "justify_items": null,
      "left": null,
      "margin": null,
      "max_height": null,
      "max_width": null,
      "min_height": null,
      "min_width": null,
      "object_fit": null,
      "object_position": null,
      "order": null,
      "overflow": null,
      "overflow_x": null,
      "overflow_y": null,
      "padding": null,
      "right": null,
      "top": null,
      "visibility": null,
      "width": null
     }
    },
    "d1d35a1defae4e3b89550e843f8b63c4": {
     "model_module": "@jupyter-widgets/controls",
     "model_module_version": "1.5.0",
     "model_name": "HTMLModel",
     "state": {
      "_dom_classes": [],
      "_model_module": "@jupyter-widgets/controls",
      "_model_module_version": "1.5.0",
      "_model_name": "HTMLModel",
      "_view_count": null,
      "_view_module": "@jupyter-widgets/controls",
      "_view_module_version": "1.5.0",
      "_view_name": "HTMLView",
      "description": "",
      "description_tooltip": null,
      "layout": "IPY_MODEL_cc5381e6b7e24e4598b3e0c43f0ad17f",
      "placeholder": "​",
      "style": "IPY_MODEL_357a3ece2b7f4649a52bf70f53078192",
      "value": " 4/4 [00:06&lt;00:00,  1.57s/it]"
     }
    },
    "d355a19dc22e4639a66d3300cf5faf68": {
     "model_module": "@jupyter-widgets/base",
     "model_module_version": "1.2.0",
     "model_name": "LayoutModel",
     "state": {
      "_model_module": "@jupyter-widgets/base",
      "_model_module_version": "1.2.0",
      "_model_name": "LayoutModel",
      "_view_count": null,
      "_view_module": "@jupyter-widgets/base",
      "_view_module_version": "1.2.0",
      "_view_name": "LayoutView",
      "align_content": null,
      "align_items": null,
      "align_self": null,
      "border": null,
      "bottom": null,
      "display": null,
      "flex": null,
      "flex_flow": null,
      "grid_area": null,
      "grid_auto_columns": null,
      "grid_auto_flow": null,
      "grid_auto_rows": null,
      "grid_column": null,
      "grid_gap": null,
      "grid_row": null,
      "grid_template_areas": null,
      "grid_template_columns": null,
      "grid_template_rows": null,
      "height": null,
      "justify_content": null,
      "justify_items": null,
      "left": null,
      "margin": null,
      "max_height": null,
      "max_width": null,
      "min_height": null,
      "min_width": null,
      "object_fit": null,
      "object_position": null,
      "order": null,
      "overflow": null,
      "overflow_x": null,
      "overflow_y": null,
      "padding": null,
      "right": null,
      "top": null,
      "visibility": "hidden",
      "width": null
     }
    },
    "db8daac0acc64431b42ffb0a1ca0aa57": {
     "model_module": "@jupyter-widgets/base",
     "model_module_version": "1.2.0",
     "model_name": "LayoutModel",
     "state": {
      "_model_module": "@jupyter-widgets/base",
      "_model_module_version": "1.2.0",
      "_model_name": "LayoutModel",
      "_view_count": null,
      "_view_module": "@jupyter-widgets/base",
      "_view_module_version": "1.2.0",
      "_view_name": "LayoutView",
      "align_content": null,
      "align_items": null,
      "align_self": null,
      "border": null,
      "bottom": null,
      "display": null,
      "flex": null,
      "flex_flow": null,
      "grid_area": null,
      "grid_auto_columns": null,
      "grid_auto_flow": null,
      "grid_auto_rows": null,
      "grid_column": null,
      "grid_gap": null,
      "grid_row": null,
      "grid_template_areas": null,
      "grid_template_columns": null,
      "grid_template_rows": null,
      "height": null,
      "justify_content": null,
      "justify_items": null,
      "left": null,
      "margin": null,
      "max_height": null,
      "max_width": null,
      "min_height": null,
      "min_width": null,
      "object_fit": null,
      "object_position": null,
      "order": null,
      "overflow": null,
      "overflow_x": null,
      "overflow_y": null,
      "padding": null,
      "right": null,
      "top": null,
      "visibility": null,
      "width": null
     }
    },
    "dbbd53d7ea8b43a7bd765f1bbcdba767": {
     "model_module": "@jupyter-widgets/controls",
     "model_module_version": "1.5.0",
     "model_name": "DescriptionStyleModel",
     "state": {
      "_model_module": "@jupyter-widgets/controls",
      "_model_module_version": "1.5.0",
      "_model_name": "DescriptionStyleModel",
      "_view_count": null,
      "_view_module": "@jupyter-widgets/base",
      "_view_module_version": "1.2.0",
      "_view_name": "StyleView",
      "description_width": ""
     }
    },
    "e03788ea4cd94be8a3e28ccda7a0dfeb": {
     "model_module": "@jupyter-widgets/controls",
     "model_module_version": "1.5.0",
     "model_name": "HTMLModel",
     "state": {
      "_dom_classes": [],
      "_model_module": "@jupyter-widgets/controls",
      "_model_module_version": "1.5.0",
      "_model_name": "HTMLModel",
      "_view_count": null,
      "_view_module": "@jupyter-widgets/controls",
      "_view_module_version": "1.5.0",
      "_view_name": "HTMLView",
      "description": "",
      "description_tooltip": null,
      "layout": "IPY_MODEL_7408c1f97b4345f8a0d4df751a746877",
      "placeholder": "​",
      "style": "IPY_MODEL_a74ca3554dfc41ffa2a6a273fbe8d38f",
      "value": "Processing: 100%"
     }
    },
    "e8c714962e08499cbcecb8bd2dcc59a2": {
     "model_module": "@jupyter-widgets/controls",
     "model_module_version": "1.5.0",
     "model_name": "ProgressStyleModel",
     "state": {
      "_model_module": "@jupyter-widgets/controls",
      "_model_module_version": "1.5.0",
      "_model_name": "ProgressStyleModel",
      "_view_count": null,
      "_view_module": "@jupyter-widgets/base",
      "_view_module_version": "1.2.0",
      "_view_name": "StyleView",
      "bar_color": null,
      "description_width": ""
     }
    }
   }
  }
 },
 "nbformat": 4,
 "nbformat_minor": 4
}
