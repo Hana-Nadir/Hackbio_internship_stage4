{
  "cells": [
    {
      "cell_type": "code",
      "execution_count": 6,
      "metadata": {
        "colab": {
          "base_uri": "https://localhost:8080/",
          "height": 704
        },
        "id": "xTfN8mjqZPaq",
        "outputId": "c9bfc7fd-36fe-4791-a234-6d07f88adc55"
      },
      "outputs": [
        {
          "output_type": "execute_result",
          "data": {
            "text/plain": [
              "       DATASET  NLME_RESULT_ID  NLME_CURVE_ID  COSMIC_ID CELL_LINE_NAME  \\\n",
              "0        GDSC1             342       15580432     684057            ES5   \n",
              "1        GDSC1             342       15580806     684059            ES7   \n",
              "2        GDSC1             342       15581198     684062          EW-11   \n",
              "3        GDSC1             342       15581542     684072        SK-ES-1   \n",
              "4        GDSC1             342       15581930     687448       COLO-829   \n",
              "...        ...             ...            ...        ...            ...   \n",
              "333156   GDSC1             342       15911377    1659823       SNU-1040   \n",
              "333157   GDSC1             342       15912122    1660035         SNU-61   \n",
              "333158   GDSC1             342       15912431    1660036         SNU-81   \n",
              "333159   GDSC1             342       15912739    1674021         SNU-C5   \n",
              "333160   GDSC1             342       15913046    1789883           DiFi   \n",
              "\n",
              "       SANGER_MODEL_ID     TCGA_DESC  DRUG_ID  DRUG_NAME PUTATIVE_TARGET  \\\n",
              "0            SIDM00263  UNCLASSIFIED        1  Erlotinib            EGFR   \n",
              "1            SIDM00269  UNCLASSIFIED        1  Erlotinib            EGFR   \n",
              "2            SIDM00203  UNCLASSIFIED        1  Erlotinib            EGFR   \n",
              "3            SIDM01111  UNCLASSIFIED        1  Erlotinib            EGFR   \n",
              "4            SIDM00909          SKCM        1  Erlotinib            EGFR   \n",
              "...                ...           ...      ...        ...             ...   \n",
              "333156       SIDM00217        COREAD     1531   I-CBP112      EP300, CBP   \n",
              "333157       SIDM00194        COREAD     1531   I-CBP112      EP300, CBP   \n",
              "333158       SIDM00193        COREAD     1531   I-CBP112      EP300, CBP   \n",
              "333159       SIDM00498        COREAD     1531   I-CBP112      EP300, CBP   \n",
              "333160       SIDM00049        COREAD     1531   I-CBP112      EP300, CBP   \n",
              "\n",
              "                         PATHWAY_NAME  COMPANY_ID WEBRELEASE  MIN_CONC  \\\n",
              "0                      EGFR signaling        1045          Y  0.007813   \n",
              "1                      EGFR signaling        1045          Y  0.007813   \n",
              "2                      EGFR signaling        1045          Y  0.007813   \n",
              "3                      EGFR signaling        1045          Y  0.007813   \n",
              "4                      EGFR signaling        1045          Y  0.007813   \n",
              "...                               ...         ...        ...       ...   \n",
              "333156  Chromatin histone acetylation        1005          Y  0.039063   \n",
              "333157  Chromatin histone acetylation        1005          Y  0.039063   \n",
              "333158  Chromatin histone acetylation        1005          Y  0.039063   \n",
              "333159  Chromatin histone acetylation        1005          Y  0.039063   \n",
              "333160  Chromatin histone acetylation        1005          Y  0.039063   \n",
              "\n",
              "        MAX_CONC   LN_IC50       AUC      RMSE   Z_SCORE  \n",
              "0            2.0  3.966813  0.985678  0.026081  1.299144  \n",
              "1            2.0  2.692090  0.972690  0.110059  0.156076  \n",
              "2            2.0  2.477990  0.944459  0.087019 -0.035912  \n",
              "3            2.0  2.033564  0.950758  0.016290 -0.434437  \n",
              "4            2.0  2.966007  0.954778  0.180255  0.401702  \n",
              "...          ...       ...       ...       ...       ...  \n",
              "333156      10.0  5.085294  0.972251  0.040661  0.860626  \n",
              "333157      10.0  5.725399  0.976109  0.045453  1.785602  \n",
              "333158      10.0  4.930753  0.970851  0.038612  0.637308  \n",
              "333159      10.0  4.551784  0.972330  0.042649  0.089683  \n",
              "333160      10.0  4.681069  0.980906  0.015312  0.276505  \n",
              "\n",
              "[333161 rows x 19 columns]"
            ],
            "text/html": [
              "\n",
              "  <div id=\"df-ec5d129d-1aba-4364-9a6d-d03266befbe0\" class=\"colab-df-container\">\n",
              "    <div>\n",
              "<style scoped>\n",
              "    .dataframe tbody tr th:only-of-type {\n",
              "        vertical-align: middle;\n",
              "    }\n",
              "\n",
              "    .dataframe tbody tr th {\n",
              "        vertical-align: top;\n",
              "    }\n",
              "\n",
              "    .dataframe thead th {\n",
              "        text-align: right;\n",
              "    }\n",
              "</style>\n",
              "<table border=\"1\" class=\"dataframe\">\n",
              "  <thead>\n",
              "    <tr style=\"text-align: right;\">\n",
              "      <th></th>\n",
              "      <th>DATASET</th>\n",
              "      <th>NLME_RESULT_ID</th>\n",
              "      <th>NLME_CURVE_ID</th>\n",
              "      <th>COSMIC_ID</th>\n",
              "      <th>CELL_LINE_NAME</th>\n",
              "      <th>SANGER_MODEL_ID</th>\n",
              "      <th>TCGA_DESC</th>\n",
              "      <th>DRUG_ID</th>\n",
              "      <th>DRUG_NAME</th>\n",
              "      <th>PUTATIVE_TARGET</th>\n",
              "      <th>PATHWAY_NAME</th>\n",
              "      <th>COMPANY_ID</th>\n",
              "      <th>WEBRELEASE</th>\n",
              "      <th>MIN_CONC</th>\n",
              "      <th>MAX_CONC</th>\n",
              "      <th>LN_IC50</th>\n",
              "      <th>AUC</th>\n",
              "      <th>RMSE</th>\n",
              "      <th>Z_SCORE</th>\n",
              "    </tr>\n",
              "  </thead>\n",
              "  <tbody>\n",
              "    <tr>\n",
              "      <th>0</th>\n",
              "      <td>GDSC1</td>\n",
              "      <td>342</td>\n",
              "      <td>15580432</td>\n",
              "      <td>684057</td>\n",
              "      <td>ES5</td>\n",
              "      <td>SIDM00263</td>\n",
              "      <td>UNCLASSIFIED</td>\n",
              "      <td>1</td>\n",
              "      <td>Erlotinib</td>\n",
              "      <td>EGFR</td>\n",
              "      <td>EGFR signaling</td>\n",
              "      <td>1045</td>\n",
              "      <td>Y</td>\n",
              "      <td>0.007813</td>\n",
              "      <td>2.0</td>\n",
              "      <td>3.966813</td>\n",
              "      <td>0.985678</td>\n",
              "      <td>0.026081</td>\n",
              "      <td>1.299144</td>\n",
              "    </tr>\n",
              "    <tr>\n",
              "      <th>1</th>\n",
              "      <td>GDSC1</td>\n",
              "      <td>342</td>\n",
              "      <td>15580806</td>\n",
              "      <td>684059</td>\n",
              "      <td>ES7</td>\n",
              "      <td>SIDM00269</td>\n",
              "      <td>UNCLASSIFIED</td>\n",
              "      <td>1</td>\n",
              "      <td>Erlotinib</td>\n",
              "      <td>EGFR</td>\n",
              "      <td>EGFR signaling</td>\n",
              "      <td>1045</td>\n",
              "      <td>Y</td>\n",
              "      <td>0.007813</td>\n",
              "      <td>2.0</td>\n",
              "      <td>2.692090</td>\n",
              "      <td>0.972690</td>\n",
              "      <td>0.110059</td>\n",
              "      <td>0.156076</td>\n",
              "    </tr>\n",
              "    <tr>\n",
              "      <th>2</th>\n",
              "      <td>GDSC1</td>\n",
              "      <td>342</td>\n",
              "      <td>15581198</td>\n",
              "      <td>684062</td>\n",
              "      <td>EW-11</td>\n",
              "      <td>SIDM00203</td>\n",
              "      <td>UNCLASSIFIED</td>\n",
              "      <td>1</td>\n",
              "      <td>Erlotinib</td>\n",
              "      <td>EGFR</td>\n",
              "      <td>EGFR signaling</td>\n",
              "      <td>1045</td>\n",
              "      <td>Y</td>\n",
              "      <td>0.007813</td>\n",
              "      <td>2.0</td>\n",
              "      <td>2.477990</td>\n",
              "      <td>0.944459</td>\n",
              "      <td>0.087019</td>\n",
              "      <td>-0.035912</td>\n",
              "    </tr>\n",
              "    <tr>\n",
              "      <th>3</th>\n",
              "      <td>GDSC1</td>\n",
              "      <td>342</td>\n",
              "      <td>15581542</td>\n",
              "      <td>684072</td>\n",
              "      <td>SK-ES-1</td>\n",
              "      <td>SIDM01111</td>\n",
              "      <td>UNCLASSIFIED</td>\n",
              "      <td>1</td>\n",
              "      <td>Erlotinib</td>\n",
              "      <td>EGFR</td>\n",
              "      <td>EGFR signaling</td>\n",
              "      <td>1045</td>\n",
              "      <td>Y</td>\n",
              "      <td>0.007813</td>\n",
              "      <td>2.0</td>\n",
              "      <td>2.033564</td>\n",
              "      <td>0.950758</td>\n",
              "      <td>0.016290</td>\n",
              "      <td>-0.434437</td>\n",
              "    </tr>\n",
              "    <tr>\n",
              "      <th>4</th>\n",
              "      <td>GDSC1</td>\n",
              "      <td>342</td>\n",
              "      <td>15581930</td>\n",
              "      <td>687448</td>\n",
              "      <td>COLO-829</td>\n",
              "      <td>SIDM00909</td>\n",
              "      <td>SKCM</td>\n",
              "      <td>1</td>\n",
              "      <td>Erlotinib</td>\n",
              "      <td>EGFR</td>\n",
              "      <td>EGFR signaling</td>\n",
              "      <td>1045</td>\n",
              "      <td>Y</td>\n",
              "      <td>0.007813</td>\n",
              "      <td>2.0</td>\n",
              "      <td>2.966007</td>\n",
              "      <td>0.954778</td>\n",
              "      <td>0.180255</td>\n",
              "      <td>0.401702</td>\n",
              "    </tr>\n",
              "    <tr>\n",
              "      <th>...</th>\n",
              "      <td>...</td>\n",
              "      <td>...</td>\n",
              "      <td>...</td>\n",
              "      <td>...</td>\n",
              "      <td>...</td>\n",
              "      <td>...</td>\n",
              "      <td>...</td>\n",
              "      <td>...</td>\n",
              "      <td>...</td>\n",
              "      <td>...</td>\n",
              "      <td>...</td>\n",
              "      <td>...</td>\n",
              "      <td>...</td>\n",
              "      <td>...</td>\n",
              "      <td>...</td>\n",
              "      <td>...</td>\n",
              "      <td>...</td>\n",
              "      <td>...</td>\n",
              "      <td>...</td>\n",
              "    </tr>\n",
              "    <tr>\n",
              "      <th>333156</th>\n",
              "      <td>GDSC1</td>\n",
              "      <td>342</td>\n",
              "      <td>15911377</td>\n",
              "      <td>1659823</td>\n",
              "      <td>SNU-1040</td>\n",
              "      <td>SIDM00217</td>\n",
              "      <td>COREAD</td>\n",
              "      <td>1531</td>\n",
              "      <td>I-CBP112</td>\n",
              "      <td>EP300, CBP</td>\n",
              "      <td>Chromatin histone acetylation</td>\n",
              "      <td>1005</td>\n",
              "      <td>Y</td>\n",
              "      <td>0.039063</td>\n",
              "      <td>10.0</td>\n",
              "      <td>5.085294</td>\n",
              "      <td>0.972251</td>\n",
              "      <td>0.040661</td>\n",
              "      <td>0.860626</td>\n",
              "    </tr>\n",
              "    <tr>\n",
              "      <th>333157</th>\n",
              "      <td>GDSC1</td>\n",
              "      <td>342</td>\n",
              "      <td>15912122</td>\n",
              "      <td>1660035</td>\n",
              "      <td>SNU-61</td>\n",
              "      <td>SIDM00194</td>\n",
              "      <td>COREAD</td>\n",
              "      <td>1531</td>\n",
              "      <td>I-CBP112</td>\n",
              "      <td>EP300, CBP</td>\n",
              "      <td>Chromatin histone acetylation</td>\n",
              "      <td>1005</td>\n",
              "      <td>Y</td>\n",
              "      <td>0.039063</td>\n",
              "      <td>10.0</td>\n",
              "      <td>5.725399</td>\n",
              "      <td>0.976109</td>\n",
              "      <td>0.045453</td>\n",
              "      <td>1.785602</td>\n",
              "    </tr>\n",
              "    <tr>\n",
              "      <th>333158</th>\n",
              "      <td>GDSC1</td>\n",
              "      <td>342</td>\n",
              "      <td>15912431</td>\n",
              "      <td>1660036</td>\n",
              "      <td>SNU-81</td>\n",
              "      <td>SIDM00193</td>\n",
              "      <td>COREAD</td>\n",
              "      <td>1531</td>\n",
              "      <td>I-CBP112</td>\n",
              "      <td>EP300, CBP</td>\n",
              "      <td>Chromatin histone acetylation</td>\n",
              "      <td>1005</td>\n",
              "      <td>Y</td>\n",
              "      <td>0.039063</td>\n",
              "      <td>10.0</td>\n",
              "      <td>4.930753</td>\n",
              "      <td>0.970851</td>\n",
              "      <td>0.038612</td>\n",
              "      <td>0.637308</td>\n",
              "    </tr>\n",
              "    <tr>\n",
              "      <th>333159</th>\n",
              "      <td>GDSC1</td>\n",
              "      <td>342</td>\n",
              "      <td>15912739</td>\n",
              "      <td>1674021</td>\n",
              "      <td>SNU-C5</td>\n",
              "      <td>SIDM00498</td>\n",
              "      <td>COREAD</td>\n",
              "      <td>1531</td>\n",
              "      <td>I-CBP112</td>\n",
              "      <td>EP300, CBP</td>\n",
              "      <td>Chromatin histone acetylation</td>\n",
              "      <td>1005</td>\n",
              "      <td>Y</td>\n",
              "      <td>0.039063</td>\n",
              "      <td>10.0</td>\n",
              "      <td>4.551784</td>\n",
              "      <td>0.972330</td>\n",
              "      <td>0.042649</td>\n",
              "      <td>0.089683</td>\n",
              "    </tr>\n",
              "    <tr>\n",
              "      <th>333160</th>\n",
              "      <td>GDSC1</td>\n",
              "      <td>342</td>\n",
              "      <td>15913046</td>\n",
              "      <td>1789883</td>\n",
              "      <td>DiFi</td>\n",
              "      <td>SIDM00049</td>\n",
              "      <td>COREAD</td>\n",
              "      <td>1531</td>\n",
              "      <td>I-CBP112</td>\n",
              "      <td>EP300, CBP</td>\n",
              "      <td>Chromatin histone acetylation</td>\n",
              "      <td>1005</td>\n",
              "      <td>Y</td>\n",
              "      <td>0.039063</td>\n",
              "      <td>10.0</td>\n",
              "      <td>4.681069</td>\n",
              "      <td>0.980906</td>\n",
              "      <td>0.015312</td>\n",
              "      <td>0.276505</td>\n",
              "    </tr>\n",
              "  </tbody>\n",
              "</table>\n",
              "<p>333161 rows × 19 columns</p>\n",
              "</div>\n",
              "    <div class=\"colab-df-buttons\">\n",
              "\n",
              "  <div class=\"colab-df-container\">\n",
              "    <button class=\"colab-df-convert\" onclick=\"convertToInteractive('df-ec5d129d-1aba-4364-9a6d-d03266befbe0')\"\n",
              "            title=\"Convert this dataframe to an interactive table.\"\n",
              "            style=\"display:none;\">\n",
              "\n",
              "  <svg xmlns=\"http://www.w3.org/2000/svg\" height=\"24px\" viewBox=\"0 -960 960 960\">\n",
              "    <path d=\"M120-120v-720h720v720H120Zm60-500h600v-160H180v160Zm220 220h160v-160H400v160Zm0 220h160v-160H400v160ZM180-400h160v-160H180v160Zm440 0h160v-160H620v160ZM180-180h160v-160H180v160Zm440 0h160v-160H620v160Z\"/>\n",
              "  </svg>\n",
              "    </button>\n",
              "\n",
              "  <style>\n",
              "    .colab-df-container {\n",
              "      display:flex;\n",
              "      gap: 12px;\n",
              "    }\n",
              "\n",
              "    .colab-df-convert {\n",
              "      background-color: #E8F0FE;\n",
              "      border: none;\n",
              "      border-radius: 50%;\n",
              "      cursor: pointer;\n",
              "      display: none;\n",
              "      fill: #1967D2;\n",
              "      height: 32px;\n",
              "      padding: 0 0 0 0;\n",
              "      width: 32px;\n",
              "    }\n",
              "\n",
              "    .colab-df-convert:hover {\n",
              "      background-color: #E2EBFA;\n",
              "      box-shadow: 0px 1px 2px rgba(60, 64, 67, 0.3), 0px 1px 3px 1px rgba(60, 64, 67, 0.15);\n",
              "      fill: #174EA6;\n",
              "    }\n",
              "\n",
              "    .colab-df-buttons div {\n",
              "      margin-bottom: 4px;\n",
              "    }\n",
              "\n",
              "    [theme=dark] .colab-df-convert {\n",
              "      background-color: #3B4455;\n",
              "      fill: #D2E3FC;\n",
              "    }\n",
              "\n",
              "    [theme=dark] .colab-df-convert:hover {\n",
              "      background-color: #434B5C;\n",
              "      box-shadow: 0px 1px 3px 1px rgba(0, 0, 0, 0.15);\n",
              "      filter: drop-shadow(0px 1px 2px rgba(0, 0, 0, 0.3));\n",
              "      fill: #FFFFFF;\n",
              "    }\n",
              "  </style>\n",
              "\n",
              "    <script>\n",
              "      const buttonEl =\n",
              "        document.querySelector('#df-ec5d129d-1aba-4364-9a6d-d03266befbe0 button.colab-df-convert');\n",
              "      buttonEl.style.display =\n",
              "        google.colab.kernel.accessAllowed ? 'block' : 'none';\n",
              "\n",
              "      async function convertToInteractive(key) {\n",
              "        const element = document.querySelector('#df-ec5d129d-1aba-4364-9a6d-d03266befbe0');\n",
              "        const dataTable =\n",
              "          await google.colab.kernel.invokeFunction('convertToInteractive',\n",
              "                                                    [key], {});\n",
              "        if (!dataTable) return;\n",
              "\n",
              "        const docLinkHtml = 'Like what you see? Visit the ' +\n",
              "          '<a target=\"_blank\" href=https://colab.research.google.com/notebooks/data_table.ipynb>data table notebook</a>'\n",
              "          + ' to learn more about interactive tables.';\n",
              "        element.innerHTML = '';\n",
              "        dataTable['output_type'] = 'display_data';\n",
              "        await google.colab.output.renderOutput(dataTable, element);\n",
              "        const docLink = document.createElement('div');\n",
              "        docLink.innerHTML = docLinkHtml;\n",
              "        element.appendChild(docLink);\n",
              "      }\n",
              "    </script>\n",
              "  </div>\n",
              "\n",
              "\n",
              "<div id=\"df-c5ed5306-8eee-4b24-a5ab-bfd8ec2a4601\">\n",
              "  <button class=\"colab-df-quickchart\" onclick=\"quickchart('df-c5ed5306-8eee-4b24-a5ab-bfd8ec2a4601')\"\n",
              "            title=\"Suggest charts\"\n",
              "            style=\"display:none;\">\n",
              "\n",
              "<svg xmlns=\"http://www.w3.org/2000/svg\" height=\"24px\"viewBox=\"0 0 24 24\"\n",
              "     width=\"24px\">\n",
              "    <g>\n",
              "        <path d=\"M19 3H5c-1.1 0-2 .9-2 2v14c0 1.1.9 2 2 2h14c1.1 0 2-.9 2-2V5c0-1.1-.9-2-2-2zM9 17H7v-7h2v7zm4 0h-2V7h2v10zm4 0h-2v-4h2v4z\"/>\n",
              "    </g>\n",
              "</svg>\n",
              "  </button>\n",
              "\n",
              "<style>\n",
              "  .colab-df-quickchart {\n",
              "      --bg-color: #E8F0FE;\n",
              "      --fill-color: #1967D2;\n",
              "      --hover-bg-color: #E2EBFA;\n",
              "      --hover-fill-color: #174EA6;\n",
              "      --disabled-fill-color: #AAA;\n",
              "      --disabled-bg-color: #DDD;\n",
              "  }\n",
              "\n",
              "  [theme=dark] .colab-df-quickchart {\n",
              "      --bg-color: #3B4455;\n",
              "      --fill-color: #D2E3FC;\n",
              "      --hover-bg-color: #434B5C;\n",
              "      --hover-fill-color: #FFFFFF;\n",
              "      --disabled-bg-color: #3B4455;\n",
              "      --disabled-fill-color: #666;\n",
              "  }\n",
              "\n",
              "  .colab-df-quickchart {\n",
              "    background-color: var(--bg-color);\n",
              "    border: none;\n",
              "    border-radius: 50%;\n",
              "    cursor: pointer;\n",
              "    display: none;\n",
              "    fill: var(--fill-color);\n",
              "    height: 32px;\n",
              "    padding: 0;\n",
              "    width: 32px;\n",
              "  }\n",
              "\n",
              "  .colab-df-quickchart:hover {\n",
              "    background-color: var(--hover-bg-color);\n",
              "    box-shadow: 0 1px 2px rgba(60, 64, 67, 0.3), 0 1px 3px 1px rgba(60, 64, 67, 0.15);\n",
              "    fill: var(--button-hover-fill-color);\n",
              "  }\n",
              "\n",
              "  .colab-df-quickchart-complete:disabled,\n",
              "  .colab-df-quickchart-complete:disabled:hover {\n",
              "    background-color: var(--disabled-bg-color);\n",
              "    fill: var(--disabled-fill-color);\n",
              "    box-shadow: none;\n",
              "  }\n",
              "\n",
              "  .colab-df-spinner {\n",
              "    border: 2px solid var(--fill-color);\n",
              "    border-color: transparent;\n",
              "    border-bottom-color: var(--fill-color);\n",
              "    animation:\n",
              "      spin 1s steps(1) infinite;\n",
              "  }\n",
              "\n",
              "  @keyframes spin {\n",
              "    0% {\n",
              "      border-color: transparent;\n",
              "      border-bottom-color: var(--fill-color);\n",
              "      border-left-color: var(--fill-color);\n",
              "    }\n",
              "    20% {\n",
              "      border-color: transparent;\n",
              "      border-left-color: var(--fill-color);\n",
              "      border-top-color: var(--fill-color);\n",
              "    }\n",
              "    30% {\n",
              "      border-color: transparent;\n",
              "      border-left-color: var(--fill-color);\n",
              "      border-top-color: var(--fill-color);\n",
              "      border-right-color: var(--fill-color);\n",
              "    }\n",
              "    40% {\n",
              "      border-color: transparent;\n",
              "      border-right-color: var(--fill-color);\n",
              "      border-top-color: var(--fill-color);\n",
              "    }\n",
              "    60% {\n",
              "      border-color: transparent;\n",
              "      border-right-color: var(--fill-color);\n",
              "    }\n",
              "    80% {\n",
              "      border-color: transparent;\n",
              "      border-right-color: var(--fill-color);\n",
              "      border-bottom-color: var(--fill-color);\n",
              "    }\n",
              "    90% {\n",
              "      border-color: transparent;\n",
              "      border-bottom-color: var(--fill-color);\n",
              "    }\n",
              "  }\n",
              "</style>\n",
              "\n",
              "  <script>\n",
              "    async function quickchart(key) {\n",
              "      const quickchartButtonEl =\n",
              "        document.querySelector('#' + key + ' button');\n",
              "      quickchartButtonEl.disabled = true;  // To prevent multiple clicks.\n",
              "      quickchartButtonEl.classList.add('colab-df-spinner');\n",
              "      try {\n",
              "        const charts = await google.colab.kernel.invokeFunction(\n",
              "            'suggestCharts', [key], {});\n",
              "      } catch (error) {\n",
              "        console.error('Error during call to suggestCharts:', error);\n",
              "      }\n",
              "      quickchartButtonEl.classList.remove('colab-df-spinner');\n",
              "      quickchartButtonEl.classList.add('colab-df-quickchart-complete');\n",
              "    }\n",
              "    (() => {\n",
              "      let quickchartButtonEl =\n",
              "        document.querySelector('#df-c5ed5306-8eee-4b24-a5ab-bfd8ec2a4601 button');\n",
              "      quickchartButtonEl.style.display =\n",
              "        google.colab.kernel.accessAllowed ? 'block' : 'none';\n",
              "    })();\n",
              "  </script>\n",
              "</div>\n",
              "\n",
              "  <div id=\"id_e9f1db04-7e2a-4372-ab18-4beb3bb8f30f\">\n",
              "    <style>\n",
              "      .colab-df-generate {\n",
              "        background-color: #E8F0FE;\n",
              "        border: none;\n",
              "        border-radius: 50%;\n",
              "        cursor: pointer;\n",
              "        display: none;\n",
              "        fill: #1967D2;\n",
              "        height: 32px;\n",
              "        padding: 0 0 0 0;\n",
              "        width: 32px;\n",
              "      }\n",
              "\n",
              "      .colab-df-generate:hover {\n",
              "        background-color: #E2EBFA;\n",
              "        box-shadow: 0px 1px 2px rgba(60, 64, 67, 0.3), 0px 1px 3px 1px rgba(60, 64, 67, 0.15);\n",
              "        fill: #174EA6;\n",
              "      }\n",
              "\n",
              "      [theme=dark] .colab-df-generate {\n",
              "        background-color: #3B4455;\n",
              "        fill: #D2E3FC;\n",
              "      }\n",
              "\n",
              "      [theme=dark] .colab-df-generate:hover {\n",
              "        background-color: #434B5C;\n",
              "        box-shadow: 0px 1px 3px 1px rgba(0, 0, 0, 0.15);\n",
              "        filter: drop-shadow(0px 1px 2px rgba(0, 0, 0, 0.3));\n",
              "        fill: #FFFFFF;\n",
              "      }\n",
              "    </style>\n",
              "    <button class=\"colab-df-generate\" onclick=\"generateWithVariable('df_dataset')\"\n",
              "            title=\"Generate code using this dataframe.\"\n",
              "            style=\"display:none;\">\n",
              "\n",
              "  <svg xmlns=\"http://www.w3.org/2000/svg\" height=\"24px\"viewBox=\"0 0 24 24\"\n",
              "       width=\"24px\">\n",
              "    <path d=\"M7,19H8.4L18.45,9,17,7.55,7,17.6ZM5,21V16.75L18.45,3.32a2,2,0,0,1,2.83,0l1.4,1.43a1.91,1.91,0,0,1,.58,1.4,1.91,1.91,0,0,1-.58,1.4L9.25,21ZM18.45,9,17,7.55Zm-12,3A5.31,5.31,0,0,0,4.9,8.1,5.31,5.31,0,0,0,1,6.5,5.31,5.31,0,0,0,4.9,4.9,5.31,5.31,0,0,0,6.5,1,5.31,5.31,0,0,0,8.1,4.9,5.31,5.31,0,0,0,12,6.5,5.46,5.46,0,0,0,6.5,12Z\"/>\n",
              "  </svg>\n",
              "    </button>\n",
              "    <script>\n",
              "      (() => {\n",
              "      const buttonEl =\n",
              "        document.querySelector('#id_e9f1db04-7e2a-4372-ab18-4beb3bb8f30f button.colab-df-generate');\n",
              "      buttonEl.style.display =\n",
              "        google.colab.kernel.accessAllowed ? 'block' : 'none';\n",
              "\n",
              "      buttonEl.onclick = () => {\n",
              "        google.colab.notebook.generateWithVariable('df_dataset');\n",
              "      }\n",
              "      })();\n",
              "    </script>\n",
              "  </div>\n",
              "\n",
              "    </div>\n",
              "  </div>\n"
            ],
            "application/vnd.google.colaboratory.intrinsic+json": {
              "type": "dataframe",
              "variable_name": "df_dataset"
            }
          },
          "metadata": {},
          "execution_count": 6
        }
      ],
      "source": [
        "import pandas as pd\n",
        "df_dataset = pd.read_csv('GDSC1_Dataset.csv')\n",
        "df_dataset"
      ]
    },
    {
      "cell_type": "code",
      "execution_count": 7,
      "metadata": {
        "colab": {
          "base_uri": "https://localhost:8080/"
        },
        "id": "n2-N_ABjd3y0",
        "outputId": "0673f2fb-bb57-4606-9bf2-57a472152f12"
      },
      "outputs": [
        {
          "output_type": "stream",
          "name": "stdout",
          "text": [
            "\n",
            "Result df_dataset :\n",
            "        DATASET  NLME_RESULT_ID  NLME_CURVE_ID  COSMIC_ID CELL_LINE_NAME  \\\n",
            "86       GDSC1             342       15646269     905955       SK-MEL-2   \n",
            "474      GDSC1             342       15646572     905955       SK-MEL-2   \n",
            "837      GDSC1             342       15646643     905955       SK-MEL-2   \n",
            "1234     GDSC1             342       15646658     905955       SK-MEL-2   \n",
            "1640     GDSC1             342       15646669     905955       SK-MEL-2   \n",
            "...        ...             ...            ...        ...            ...   \n",
            "329242   GDSC1             342       15646465     905955       SK-MEL-2   \n",
            "330105   GDSC1             342       15646466     905955       SK-MEL-2   \n",
            "330945   GDSC1             342       15646467     905955       SK-MEL-2   \n",
            "331660   GDSC1             342       15646469     905955       SK-MEL-2   \n",
            "332493   GDSC1             342       15646470     905955       SK-MEL-2   \n",
            "\n",
            "       SANGER_MODEL_ID TCGA_DESC  DRUG_ID     DRUG_NAME  \\\n",
            "86           SIDM00082      SKCM        1     Erlotinib   \n",
            "474          SIDM00082      SKCM        3     Rapamycin   \n",
            "837          SIDM00082      SKCM        5     Sunitinib   \n",
            "1234         SIDM00082      SKCM        6    PHA-665752   \n",
            "1640         SIDM00082      SKCM        9        MG-132   \n",
            "...                ...       ...      ...           ...   \n",
            "329242       SIDM00082      SKCM     1526   Refametinib   \n",
            "330105       SIDM00082      SKCM     1527    Pictilisib   \n",
            "330945       SIDM00082      SKCM     1529  Pevonedistat   \n",
            "331660       SIDM00082      SKCM     1530         PFI-3   \n",
            "332493       SIDM00082      SKCM     1531      I-CBP112   \n",
            "\n",
            "                            PUTATIVE_TARGET  \\\n",
            "86                                     EGFR   \n",
            "474                                  MTORC1   \n",
            "837     PDGFR, KIT, VEGFR, FLT3, RET, CSF1R   \n",
            "1234                                    MET   \n",
            "1640                      Proteasome, CAPN1   \n",
            "...                                     ...   \n",
            "329242                           MEK1, MEK2   \n",
            "330105                       PI3K (class 1)   \n",
            "330945                                  NAE   \n",
            "331660                PB1, SMARCA4, SMARCA2   \n",
            "332493                           EP300, CBP   \n",
            "\n",
            "                             PATHWAY_NAME  COMPANY_ID WEBRELEASE  MIN_CONC  \\\n",
            "86                         EGFR signaling        1045          Y  0.007813   \n",
            "474                   PI3K/MTOR signaling        1045          Y  0.000391   \n",
            "837                         RTK signaling        1045          Y  0.031250   \n",
            "1234                        RTK signaling        1045          Y  0.007813   \n",
            "1640    Protein stability and degradation        1045          Y  0.003906   \n",
            "...                                   ...         ...        ...       ...   \n",
            "329242                 ERK MAPK signaling        1046          Y  0.019531   \n",
            "330105                PI3K/MTOR signaling        1046          Y  0.015625   \n",
            "330945                              Other        1046          Y  0.003906   \n",
            "331660                    Chromatin other        1025          Y  0.039063   \n",
            "332493      Chromatin histone acetylation        1005          Y  0.039063   \n",
            "\n",
            "        MAX_CONC   LN_IC50       AUC      RMSE   Z_SCORE  \n",
            "86           2.0  3.394001  0.985284  0.032859  0.785492  \n",
            "474          0.1 -1.113085  0.945620  0.135881  0.569712  \n",
            "837          8.0  4.013588  0.970974  0.068558  0.945589  \n",
            "1234         2.0  3.092390  0.980721  0.119597  0.396507  \n",
            "1640         1.0  2.369072  0.980196  0.070962  1.688235  \n",
            "...          ...       ...       ...       ...       ...  \n",
            "329242       5.0 -1.542607  0.441238  0.088111 -1.916767  \n",
            "330105       4.0  1.439194  0.872167  0.081591  0.455946  \n",
            "330945       1.0 -0.809756  0.782186  0.048353 -0.676150  \n",
            "331660      10.0  5.665698  0.991941  0.028880  1.827492  \n",
            "332493      10.0  5.864130  0.993283  0.021091  1.986073  \n",
            "\n",
            "[402 rows x 19 columns]\n"
          ]
        }
      ],
      "source": [
        "# filter the dataset to work on cell line havr more than 400 rows\n",
        "option = ['SK-MEL-2']\n",
        "df_filtered = df_dataset[df_dataset['CELL_LINE_NAME'].isin(option)]\n",
        "\n",
        "print('\\nResult df_dataset :\\n', df_filtered)"
      ]
    },
    {
      "cell_type": "code",
      "execution_count": 8,
      "metadata": {
        "colab": {
          "base_uri": "https://localhost:8080/"
        },
        "id": "OW0BoufYgk59",
        "outputId": "be8704fc-239b-4602-efb2-d30e44bc6ce1"
      },
      "outputs": [
        {
          "output_type": "stream",
          "name": "stdout",
          "text": [
            "CELL_LINE_NAME\n",
            "SK-MEL-2        402\n",
            "TGW             400\n",
            "MFM-223         400\n",
            "SNU-C1          398\n",
            "COLO-684        398\n",
            "               ... \n",
            "EW-12            41\n",
            "ECC12            32\n",
            "KP-N-RT-BM-1     25\n",
            "CP67-MEL         23\n",
            "NCI-H250          1\n",
            "Name: count, Length: 970, dtype: int64\n"
          ]
        }
      ],
      "source": [
        "\n",
        "value_counts = df_dataset['CELL_LINE_NAME'].value_counts()\n",
        "print(value_counts)"
      ]
    },
    {
      "cell_type": "code",
      "execution_count": 9,
      "metadata": {
        "colab": {
          "base_uri": "https://localhost:8080/",
          "height": 635
        },
        "id": "r2WzW6YsZpz-",
        "outputId": "9cd464ce-f899-4ef3-f541-5076da3d7f1d"
      },
      "outputs": [
        {
          "output_type": "execute_result",
          "data": {
            "text/plain": [
              "       DATASET  NLME_RESULT_ID  NLME_CURVE_ID  COSMIC_ID CELL_LINE_NAME  \\\n",
              "86       GDSC1             342       15646269     905955       SK-MEL-2   \n",
              "474      GDSC1             342       15646572     905955       SK-MEL-2   \n",
              "837      GDSC1             342       15646643     905955       SK-MEL-2   \n",
              "1234     GDSC1             342       15646658     905955       SK-MEL-2   \n",
              "1640     GDSC1             342       15646669     905955       SK-MEL-2   \n",
              "...        ...             ...            ...        ...            ...   \n",
              "329242   GDSC1             342       15646465     905955       SK-MEL-2   \n",
              "330105   GDSC1             342       15646466     905955       SK-MEL-2   \n",
              "330945   GDSC1             342       15646467     905955       SK-MEL-2   \n",
              "331660   GDSC1             342       15646469     905955       SK-MEL-2   \n",
              "332493   GDSC1             342       15646470     905955       SK-MEL-2   \n",
              "\n",
              "       SANGER_MODEL_ID TCGA_DESC  DRUG_ID     DRUG_NAME  \\\n",
              "86           SIDM00082      SKCM        1     Erlotinib   \n",
              "474          SIDM00082      SKCM        3     Rapamycin   \n",
              "837          SIDM00082      SKCM        5     Sunitinib   \n",
              "1234         SIDM00082      SKCM        6    PHA-665752   \n",
              "1640         SIDM00082      SKCM        9        MG-132   \n",
              "...                ...       ...      ...           ...   \n",
              "329242       SIDM00082      SKCM     1526   Refametinib   \n",
              "330105       SIDM00082      SKCM     1527    Pictilisib   \n",
              "330945       SIDM00082      SKCM     1529  Pevonedistat   \n",
              "331660       SIDM00082      SKCM     1530         PFI-3   \n",
              "332493       SIDM00082      SKCM     1531      I-CBP112   \n",
              "\n",
              "                            PUTATIVE_TARGET  \\\n",
              "86                                     EGFR   \n",
              "474                                  MTORC1   \n",
              "837     PDGFR, KIT, VEGFR, FLT3, RET, CSF1R   \n",
              "1234                                    MET   \n",
              "1640                      Proteasome, CAPN1   \n",
              "...                                     ...   \n",
              "329242                           MEK1, MEK2   \n",
              "330105                       PI3K (class 1)   \n",
              "330945                                  NAE   \n",
              "331660                PB1, SMARCA4, SMARCA2   \n",
              "332493                           EP300, CBP   \n",
              "\n",
              "                             PATHWAY_NAME  COMPANY_ID WEBRELEASE  MIN_CONC  \\\n",
              "86                         EGFR signaling        1045          Y  0.007813   \n",
              "474                   PI3K/MTOR signaling        1045          Y  0.000391   \n",
              "837                         RTK signaling        1045          Y  0.031250   \n",
              "1234                        RTK signaling        1045          Y  0.007813   \n",
              "1640    Protein stability and degradation        1045          Y  0.003906   \n",
              "...                                   ...         ...        ...       ...   \n",
              "329242                 ERK MAPK signaling        1046          Y  0.019531   \n",
              "330105                PI3K/MTOR signaling        1046          Y  0.015625   \n",
              "330945                              Other        1046          Y  0.003906   \n",
              "331660                    Chromatin other        1025          Y  0.039063   \n",
              "332493      Chromatin histone acetylation        1005          Y  0.039063   \n",
              "\n",
              "        MAX_CONC   LN_IC50       AUC      RMSE   Z_SCORE  \n",
              "86           2.0  3.394001  0.985284  0.032859  0.785492  \n",
              "474          0.1 -1.113085  0.945620  0.135881  0.569712  \n",
              "837          8.0  4.013588  0.970974  0.068558  0.945589  \n",
              "1234         2.0  3.092390  0.980721  0.119597  0.396507  \n",
              "1640         1.0  2.369072  0.980196  0.070962  1.688235  \n",
              "...          ...       ...       ...       ...       ...  \n",
              "329242       5.0 -1.542607  0.441238  0.088111 -1.916767  \n",
              "330105       4.0  1.439194  0.872167  0.081591  0.455946  \n",
              "330945       1.0 -0.809756  0.782186  0.048353 -0.676150  \n",
              "331660      10.0  5.665698  0.991941  0.028880  1.827492  \n",
              "332493      10.0  5.864130  0.993283  0.021091  1.986073  \n",
              "\n",
              "[402 rows x 19 columns]"
            ],
            "text/html": [
              "\n",
              "  <div id=\"df-c0e1c627-fa41-4321-971b-d9374f7bc3a2\" class=\"colab-df-container\">\n",
              "    <div>\n",
              "<style scoped>\n",
              "    .dataframe tbody tr th:only-of-type {\n",
              "        vertical-align: middle;\n",
              "    }\n",
              "\n",
              "    .dataframe tbody tr th {\n",
              "        vertical-align: top;\n",
              "    }\n",
              "\n",
              "    .dataframe thead th {\n",
              "        text-align: right;\n",
              "    }\n",
              "</style>\n",
              "<table border=\"1\" class=\"dataframe\">\n",
              "  <thead>\n",
              "    <tr style=\"text-align: right;\">\n",
              "      <th></th>\n",
              "      <th>DATASET</th>\n",
              "      <th>NLME_RESULT_ID</th>\n",
              "      <th>NLME_CURVE_ID</th>\n",
              "      <th>COSMIC_ID</th>\n",
              "      <th>CELL_LINE_NAME</th>\n",
              "      <th>SANGER_MODEL_ID</th>\n",
              "      <th>TCGA_DESC</th>\n",
              "      <th>DRUG_ID</th>\n",
              "      <th>DRUG_NAME</th>\n",
              "      <th>PUTATIVE_TARGET</th>\n",
              "      <th>PATHWAY_NAME</th>\n",
              "      <th>COMPANY_ID</th>\n",
              "      <th>WEBRELEASE</th>\n",
              "      <th>MIN_CONC</th>\n",
              "      <th>MAX_CONC</th>\n",
              "      <th>LN_IC50</th>\n",
              "      <th>AUC</th>\n",
              "      <th>RMSE</th>\n",
              "      <th>Z_SCORE</th>\n",
              "    </tr>\n",
              "  </thead>\n",
              "  <tbody>\n",
              "    <tr>\n",
              "      <th>86</th>\n",
              "      <td>GDSC1</td>\n",
              "      <td>342</td>\n",
              "      <td>15646269</td>\n",
              "      <td>905955</td>\n",
              "      <td>SK-MEL-2</td>\n",
              "      <td>SIDM00082</td>\n",
              "      <td>SKCM</td>\n",
              "      <td>1</td>\n",
              "      <td>Erlotinib</td>\n",
              "      <td>EGFR</td>\n",
              "      <td>EGFR signaling</td>\n",
              "      <td>1045</td>\n",
              "      <td>Y</td>\n",
              "      <td>0.007813</td>\n",
              "      <td>2.0</td>\n",
              "      <td>3.394001</td>\n",
              "      <td>0.985284</td>\n",
              "      <td>0.032859</td>\n",
              "      <td>0.785492</td>\n",
              "    </tr>\n",
              "    <tr>\n",
              "      <th>474</th>\n",
              "      <td>GDSC1</td>\n",
              "      <td>342</td>\n",
              "      <td>15646572</td>\n",
              "      <td>905955</td>\n",
              "      <td>SK-MEL-2</td>\n",
              "      <td>SIDM00082</td>\n",
              "      <td>SKCM</td>\n",
              "      <td>3</td>\n",
              "      <td>Rapamycin</td>\n",
              "      <td>MTORC1</td>\n",
              "      <td>PI3K/MTOR signaling</td>\n",
              "      <td>1045</td>\n",
              "      <td>Y</td>\n",
              "      <td>0.000391</td>\n",
              "      <td>0.1</td>\n",
              "      <td>-1.113085</td>\n",
              "      <td>0.945620</td>\n",
              "      <td>0.135881</td>\n",
              "      <td>0.569712</td>\n",
              "    </tr>\n",
              "    <tr>\n",
              "      <th>837</th>\n",
              "      <td>GDSC1</td>\n",
              "      <td>342</td>\n",
              "      <td>15646643</td>\n",
              "      <td>905955</td>\n",
              "      <td>SK-MEL-2</td>\n",
              "      <td>SIDM00082</td>\n",
              "      <td>SKCM</td>\n",
              "      <td>5</td>\n",
              "      <td>Sunitinib</td>\n",
              "      <td>PDGFR, KIT, VEGFR, FLT3, RET, CSF1R</td>\n",
              "      <td>RTK signaling</td>\n",
              "      <td>1045</td>\n",
              "      <td>Y</td>\n",
              "      <td>0.031250</td>\n",
              "      <td>8.0</td>\n",
              "      <td>4.013588</td>\n",
              "      <td>0.970974</td>\n",
              "      <td>0.068558</td>\n",
              "      <td>0.945589</td>\n",
              "    </tr>\n",
              "    <tr>\n",
              "      <th>1234</th>\n",
              "      <td>GDSC1</td>\n",
              "      <td>342</td>\n",
              "      <td>15646658</td>\n",
              "      <td>905955</td>\n",
              "      <td>SK-MEL-2</td>\n",
              "      <td>SIDM00082</td>\n",
              "      <td>SKCM</td>\n",
              "      <td>6</td>\n",
              "      <td>PHA-665752</td>\n",
              "      <td>MET</td>\n",
              "      <td>RTK signaling</td>\n",
              "      <td>1045</td>\n",
              "      <td>Y</td>\n",
              "      <td>0.007813</td>\n",
              "      <td>2.0</td>\n",
              "      <td>3.092390</td>\n",
              "      <td>0.980721</td>\n",
              "      <td>0.119597</td>\n",
              "      <td>0.396507</td>\n",
              "    </tr>\n",
              "    <tr>\n",
              "      <th>1640</th>\n",
              "      <td>GDSC1</td>\n",
              "      <td>342</td>\n",
              "      <td>15646669</td>\n",
              "      <td>905955</td>\n",
              "      <td>SK-MEL-2</td>\n",
              "      <td>SIDM00082</td>\n",
              "      <td>SKCM</td>\n",
              "      <td>9</td>\n",
              "      <td>MG-132</td>\n",
              "      <td>Proteasome, CAPN1</td>\n",
              "      <td>Protein stability and degradation</td>\n",
              "      <td>1045</td>\n",
              "      <td>Y</td>\n",
              "      <td>0.003906</td>\n",
              "      <td>1.0</td>\n",
              "      <td>2.369072</td>\n",
              "      <td>0.980196</td>\n",
              "      <td>0.070962</td>\n",
              "      <td>1.688235</td>\n",
              "    </tr>\n",
              "    <tr>\n",
              "      <th>...</th>\n",
              "      <td>...</td>\n",
              "      <td>...</td>\n",
              "      <td>...</td>\n",
              "      <td>...</td>\n",
              "      <td>...</td>\n",
              "      <td>...</td>\n",
              "      <td>...</td>\n",
              "      <td>...</td>\n",
              "      <td>...</td>\n",
              "      <td>...</td>\n",
              "      <td>...</td>\n",
              "      <td>...</td>\n",
              "      <td>...</td>\n",
              "      <td>...</td>\n",
              "      <td>...</td>\n",
              "      <td>...</td>\n",
              "      <td>...</td>\n",
              "      <td>...</td>\n",
              "      <td>...</td>\n",
              "    </tr>\n",
              "    <tr>\n",
              "      <th>329242</th>\n",
              "      <td>GDSC1</td>\n",
              "      <td>342</td>\n",
              "      <td>15646465</td>\n",
              "      <td>905955</td>\n",
              "      <td>SK-MEL-2</td>\n",
              "      <td>SIDM00082</td>\n",
              "      <td>SKCM</td>\n",
              "      <td>1526</td>\n",
              "      <td>Refametinib</td>\n",
              "      <td>MEK1, MEK2</td>\n",
              "      <td>ERK MAPK signaling</td>\n",
              "      <td>1046</td>\n",
              "      <td>Y</td>\n",
              "      <td>0.019531</td>\n",
              "      <td>5.0</td>\n",
              "      <td>-1.542607</td>\n",
              "      <td>0.441238</td>\n",
              "      <td>0.088111</td>\n",
              "      <td>-1.916767</td>\n",
              "    </tr>\n",
              "    <tr>\n",
              "      <th>330105</th>\n",
              "      <td>GDSC1</td>\n",
              "      <td>342</td>\n",
              "      <td>15646466</td>\n",
              "      <td>905955</td>\n",
              "      <td>SK-MEL-2</td>\n",
              "      <td>SIDM00082</td>\n",
              "      <td>SKCM</td>\n",
              "      <td>1527</td>\n",
              "      <td>Pictilisib</td>\n",
              "      <td>PI3K (class 1)</td>\n",
              "      <td>PI3K/MTOR signaling</td>\n",
              "      <td>1046</td>\n",
              "      <td>Y</td>\n",
              "      <td>0.015625</td>\n",
              "      <td>4.0</td>\n",
              "      <td>1.439194</td>\n",
              "      <td>0.872167</td>\n",
              "      <td>0.081591</td>\n",
              "      <td>0.455946</td>\n",
              "    </tr>\n",
              "    <tr>\n",
              "      <th>330945</th>\n",
              "      <td>GDSC1</td>\n",
              "      <td>342</td>\n",
              "      <td>15646467</td>\n",
              "      <td>905955</td>\n",
              "      <td>SK-MEL-2</td>\n",
              "      <td>SIDM00082</td>\n",
              "      <td>SKCM</td>\n",
              "      <td>1529</td>\n",
              "      <td>Pevonedistat</td>\n",
              "      <td>NAE</td>\n",
              "      <td>Other</td>\n",
              "      <td>1046</td>\n",
              "      <td>Y</td>\n",
              "      <td>0.003906</td>\n",
              "      <td>1.0</td>\n",
              "      <td>-0.809756</td>\n",
              "      <td>0.782186</td>\n",
              "      <td>0.048353</td>\n",
              "      <td>-0.676150</td>\n",
              "    </tr>\n",
              "    <tr>\n",
              "      <th>331660</th>\n",
              "      <td>GDSC1</td>\n",
              "      <td>342</td>\n",
              "      <td>15646469</td>\n",
              "      <td>905955</td>\n",
              "      <td>SK-MEL-2</td>\n",
              "      <td>SIDM00082</td>\n",
              "      <td>SKCM</td>\n",
              "      <td>1530</td>\n",
              "      <td>PFI-3</td>\n",
              "      <td>PB1, SMARCA4, SMARCA2</td>\n",
              "      <td>Chromatin other</td>\n",
              "      <td>1025</td>\n",
              "      <td>Y</td>\n",
              "      <td>0.039063</td>\n",
              "      <td>10.0</td>\n",
              "      <td>5.665698</td>\n",
              "      <td>0.991941</td>\n",
              "      <td>0.028880</td>\n",
              "      <td>1.827492</td>\n",
              "    </tr>\n",
              "    <tr>\n",
              "      <th>332493</th>\n",
              "      <td>GDSC1</td>\n",
              "      <td>342</td>\n",
              "      <td>15646470</td>\n",
              "      <td>905955</td>\n",
              "      <td>SK-MEL-2</td>\n",
              "      <td>SIDM00082</td>\n",
              "      <td>SKCM</td>\n",
              "      <td>1531</td>\n",
              "      <td>I-CBP112</td>\n",
              "      <td>EP300, CBP</td>\n",
              "      <td>Chromatin histone acetylation</td>\n",
              "      <td>1005</td>\n",
              "      <td>Y</td>\n",
              "      <td>0.039063</td>\n",
              "      <td>10.0</td>\n",
              "      <td>5.864130</td>\n",
              "      <td>0.993283</td>\n",
              "      <td>0.021091</td>\n",
              "      <td>1.986073</td>\n",
              "    </tr>\n",
              "  </tbody>\n",
              "</table>\n",
              "<p>402 rows × 19 columns</p>\n",
              "</div>\n",
              "    <div class=\"colab-df-buttons\">\n",
              "\n",
              "  <div class=\"colab-df-container\">\n",
              "    <button class=\"colab-df-convert\" onclick=\"convertToInteractive('df-c0e1c627-fa41-4321-971b-d9374f7bc3a2')\"\n",
              "            title=\"Convert this dataframe to an interactive table.\"\n",
              "            style=\"display:none;\">\n",
              "\n",
              "  <svg xmlns=\"http://www.w3.org/2000/svg\" height=\"24px\" viewBox=\"0 -960 960 960\">\n",
              "    <path d=\"M120-120v-720h720v720H120Zm60-500h600v-160H180v160Zm220 220h160v-160H400v160Zm0 220h160v-160H400v160ZM180-400h160v-160H180v160Zm440 0h160v-160H620v160ZM180-180h160v-160H180v160Zm440 0h160v-160H620v160Z\"/>\n",
              "  </svg>\n",
              "    </button>\n",
              "\n",
              "  <style>\n",
              "    .colab-df-container {\n",
              "      display:flex;\n",
              "      gap: 12px;\n",
              "    }\n",
              "\n",
              "    .colab-df-convert {\n",
              "      background-color: #E8F0FE;\n",
              "      border: none;\n",
              "      border-radius: 50%;\n",
              "      cursor: pointer;\n",
              "      display: none;\n",
              "      fill: #1967D2;\n",
              "      height: 32px;\n",
              "      padding: 0 0 0 0;\n",
              "      width: 32px;\n",
              "    }\n",
              "\n",
              "    .colab-df-convert:hover {\n",
              "      background-color: #E2EBFA;\n",
              "      box-shadow: 0px 1px 2px rgba(60, 64, 67, 0.3), 0px 1px 3px 1px rgba(60, 64, 67, 0.15);\n",
              "      fill: #174EA6;\n",
              "    }\n",
              "\n",
              "    .colab-df-buttons div {\n",
              "      margin-bottom: 4px;\n",
              "    }\n",
              "\n",
              "    [theme=dark] .colab-df-convert {\n",
              "      background-color: #3B4455;\n",
              "      fill: #D2E3FC;\n",
              "    }\n",
              "\n",
              "    [theme=dark] .colab-df-convert:hover {\n",
              "      background-color: #434B5C;\n",
              "      box-shadow: 0px 1px 3px 1px rgba(0, 0, 0, 0.15);\n",
              "      filter: drop-shadow(0px 1px 2px rgba(0, 0, 0, 0.3));\n",
              "      fill: #FFFFFF;\n",
              "    }\n",
              "  </style>\n",
              "\n",
              "    <script>\n",
              "      const buttonEl =\n",
              "        document.querySelector('#df-c0e1c627-fa41-4321-971b-d9374f7bc3a2 button.colab-df-convert');\n",
              "      buttonEl.style.display =\n",
              "        google.colab.kernel.accessAllowed ? 'block' : 'none';\n",
              "\n",
              "      async function convertToInteractive(key) {\n",
              "        const element = document.querySelector('#df-c0e1c627-fa41-4321-971b-d9374f7bc3a2');\n",
              "        const dataTable =\n",
              "          await google.colab.kernel.invokeFunction('convertToInteractive',\n",
              "                                                    [key], {});\n",
              "        if (!dataTable) return;\n",
              "\n",
              "        const docLinkHtml = 'Like what you see? Visit the ' +\n",
              "          '<a target=\"_blank\" href=https://colab.research.google.com/notebooks/data_table.ipynb>data table notebook</a>'\n",
              "          + ' to learn more about interactive tables.';\n",
              "        element.innerHTML = '';\n",
              "        dataTable['output_type'] = 'display_data';\n",
              "        await google.colab.output.renderOutput(dataTable, element);\n",
              "        const docLink = document.createElement('div');\n",
              "        docLink.innerHTML = docLinkHtml;\n",
              "        element.appendChild(docLink);\n",
              "      }\n",
              "    </script>\n",
              "  </div>\n",
              "\n",
              "\n",
              "<div id=\"df-7591ae55-26e9-4b82-93bd-098114e9c22d\">\n",
              "  <button class=\"colab-df-quickchart\" onclick=\"quickchart('df-7591ae55-26e9-4b82-93bd-098114e9c22d')\"\n",
              "            title=\"Suggest charts\"\n",
              "            style=\"display:none;\">\n",
              "\n",
              "<svg xmlns=\"http://www.w3.org/2000/svg\" height=\"24px\"viewBox=\"0 0 24 24\"\n",
              "     width=\"24px\">\n",
              "    <g>\n",
              "        <path d=\"M19 3H5c-1.1 0-2 .9-2 2v14c0 1.1.9 2 2 2h14c1.1 0 2-.9 2-2V5c0-1.1-.9-2-2-2zM9 17H7v-7h2v7zm4 0h-2V7h2v10zm4 0h-2v-4h2v4z\"/>\n",
              "    </g>\n",
              "</svg>\n",
              "  </button>\n",
              "\n",
              "<style>\n",
              "  .colab-df-quickchart {\n",
              "      --bg-color: #E8F0FE;\n",
              "      --fill-color: #1967D2;\n",
              "      --hover-bg-color: #E2EBFA;\n",
              "      --hover-fill-color: #174EA6;\n",
              "      --disabled-fill-color: #AAA;\n",
              "      --disabled-bg-color: #DDD;\n",
              "  }\n",
              "\n",
              "  [theme=dark] .colab-df-quickchart {\n",
              "      --bg-color: #3B4455;\n",
              "      --fill-color: #D2E3FC;\n",
              "      --hover-bg-color: #434B5C;\n",
              "      --hover-fill-color: #FFFFFF;\n",
              "      --disabled-bg-color: #3B4455;\n",
              "      --disabled-fill-color: #666;\n",
              "  }\n",
              "\n",
              "  .colab-df-quickchart {\n",
              "    background-color: var(--bg-color);\n",
              "    border: none;\n",
              "    border-radius: 50%;\n",
              "    cursor: pointer;\n",
              "    display: none;\n",
              "    fill: var(--fill-color);\n",
              "    height: 32px;\n",
              "    padding: 0;\n",
              "    width: 32px;\n",
              "  }\n",
              "\n",
              "  .colab-df-quickchart:hover {\n",
              "    background-color: var(--hover-bg-color);\n",
              "    box-shadow: 0 1px 2px rgba(60, 64, 67, 0.3), 0 1px 3px 1px rgba(60, 64, 67, 0.15);\n",
              "    fill: var(--button-hover-fill-color);\n",
              "  }\n",
              "\n",
              "  .colab-df-quickchart-complete:disabled,\n",
              "  .colab-df-quickchart-complete:disabled:hover {\n",
              "    background-color: var(--disabled-bg-color);\n",
              "    fill: var(--disabled-fill-color);\n",
              "    box-shadow: none;\n",
              "  }\n",
              "\n",
              "  .colab-df-spinner {\n",
              "    border: 2px solid var(--fill-color);\n",
              "    border-color: transparent;\n",
              "    border-bottom-color: var(--fill-color);\n",
              "    animation:\n",
              "      spin 1s steps(1) infinite;\n",
              "  }\n",
              "\n",
              "  @keyframes spin {\n",
              "    0% {\n",
              "      border-color: transparent;\n",
              "      border-bottom-color: var(--fill-color);\n",
              "      border-left-color: var(--fill-color);\n",
              "    }\n",
              "    20% {\n",
              "      border-color: transparent;\n",
              "      border-left-color: var(--fill-color);\n",
              "      border-top-color: var(--fill-color);\n",
              "    }\n",
              "    30% {\n",
              "      border-color: transparent;\n",
              "      border-left-color: var(--fill-color);\n",
              "      border-top-color: var(--fill-color);\n",
              "      border-right-color: var(--fill-color);\n",
              "    }\n",
              "    40% {\n",
              "      border-color: transparent;\n",
              "      border-right-color: var(--fill-color);\n",
              "      border-top-color: var(--fill-color);\n",
              "    }\n",
              "    60% {\n",
              "      border-color: transparent;\n",
              "      border-right-color: var(--fill-color);\n",
              "    }\n",
              "    80% {\n",
              "      border-color: transparent;\n",
              "      border-right-color: var(--fill-color);\n",
              "      border-bottom-color: var(--fill-color);\n",
              "    }\n",
              "    90% {\n",
              "      border-color: transparent;\n",
              "      border-bottom-color: var(--fill-color);\n",
              "    }\n",
              "  }\n",
              "</style>\n",
              "\n",
              "  <script>\n",
              "    async function quickchart(key) {\n",
              "      const quickchartButtonEl =\n",
              "        document.querySelector('#' + key + ' button');\n",
              "      quickchartButtonEl.disabled = true;  // To prevent multiple clicks.\n",
              "      quickchartButtonEl.classList.add('colab-df-spinner');\n",
              "      try {\n",
              "        const charts = await google.colab.kernel.invokeFunction(\n",
              "            'suggestCharts', [key], {});\n",
              "      } catch (error) {\n",
              "        console.error('Error during call to suggestCharts:', error);\n",
              "      }\n",
              "      quickchartButtonEl.classList.remove('colab-df-spinner');\n",
              "      quickchartButtonEl.classList.add('colab-df-quickchart-complete');\n",
              "    }\n",
              "    (() => {\n",
              "      let quickchartButtonEl =\n",
              "        document.querySelector('#df-7591ae55-26e9-4b82-93bd-098114e9c22d button');\n",
              "      quickchartButtonEl.style.display =\n",
              "        google.colab.kernel.accessAllowed ? 'block' : 'none';\n",
              "    })();\n",
              "  </script>\n",
              "</div>\n",
              "\n",
              "  <div id=\"id_73d672bc-027b-42b3-8ebc-dba768cecfec\">\n",
              "    <style>\n",
              "      .colab-df-generate {\n",
              "        background-color: #E8F0FE;\n",
              "        border: none;\n",
              "        border-radius: 50%;\n",
              "        cursor: pointer;\n",
              "        display: none;\n",
              "        fill: #1967D2;\n",
              "        height: 32px;\n",
              "        padding: 0 0 0 0;\n",
              "        width: 32px;\n",
              "      }\n",
              "\n",
              "      .colab-df-generate:hover {\n",
              "        background-color: #E2EBFA;\n",
              "        box-shadow: 0px 1px 2px rgba(60, 64, 67, 0.3), 0px 1px 3px 1px rgba(60, 64, 67, 0.15);\n",
              "        fill: #174EA6;\n",
              "      }\n",
              "\n",
              "      [theme=dark] .colab-df-generate {\n",
              "        background-color: #3B4455;\n",
              "        fill: #D2E3FC;\n",
              "      }\n",
              "\n",
              "      [theme=dark] .colab-df-generate:hover {\n",
              "        background-color: #434B5C;\n",
              "        box-shadow: 0px 1px 3px 1px rgba(0, 0, 0, 0.15);\n",
              "        filter: drop-shadow(0px 1px 2px rgba(0, 0, 0, 0.3));\n",
              "        fill: #FFFFFF;\n",
              "      }\n",
              "    </style>\n",
              "    <button class=\"colab-df-generate\" onclick=\"generateWithVariable('df_filtered')\"\n",
              "            title=\"Generate code using this dataframe.\"\n",
              "            style=\"display:none;\">\n",
              "\n",
              "  <svg xmlns=\"http://www.w3.org/2000/svg\" height=\"24px\"viewBox=\"0 0 24 24\"\n",
              "       width=\"24px\">\n",
              "    <path d=\"M7,19H8.4L18.45,9,17,7.55,7,17.6ZM5,21V16.75L18.45,3.32a2,2,0,0,1,2.83,0l1.4,1.43a1.91,1.91,0,0,1,.58,1.4,1.91,1.91,0,0,1-.58,1.4L9.25,21ZM18.45,9,17,7.55Zm-12,3A5.31,5.31,0,0,0,4.9,8.1,5.31,5.31,0,0,0,1,6.5,5.31,5.31,0,0,0,4.9,4.9,5.31,5.31,0,0,0,6.5,1,5.31,5.31,0,0,0,8.1,4.9,5.31,5.31,0,0,0,12,6.5,5.46,5.46,0,0,0,6.5,12Z\"/>\n",
              "  </svg>\n",
              "    </button>\n",
              "    <script>\n",
              "      (() => {\n",
              "      const buttonEl =\n",
              "        document.querySelector('#id_73d672bc-027b-42b3-8ebc-dba768cecfec button.colab-df-generate');\n",
              "      buttonEl.style.display =\n",
              "        google.colab.kernel.accessAllowed ? 'block' : 'none';\n",
              "\n",
              "      buttonEl.onclick = () => {\n",
              "        google.colab.notebook.generateWithVariable('df_filtered');\n",
              "      }\n",
              "      })();\n",
              "    </script>\n",
              "  </div>\n",
              "\n",
              "    </div>\n",
              "  </div>\n"
            ],
            "application/vnd.google.colaboratory.intrinsic+json": {
              "type": "dataframe",
              "variable_name": "df_filtered",
              "summary": "{\n  \"name\": \"df_filtered\",\n  \"rows\": 402,\n  \"fields\": [\n    {\n      \"column\": \"DATASET\",\n      \"properties\": {\n        \"dtype\": \"category\",\n        \"num_unique_values\": 1,\n        \"samples\": [\n          \"GDSC1\"\n        ],\n        \"semantic_type\": \"\",\n        \"description\": \"\"\n      }\n    },\n    {\n      \"column\": \"NLME_RESULT_ID\",\n      \"properties\": {\n        \"dtype\": \"number\",\n        \"std\": 0,\n        \"min\": 342,\n        \"max\": 342,\n        \"num_unique_values\": 1,\n        \"samples\": [\n          342\n        ],\n        \"semantic_type\": \"\",\n        \"description\": \"\"\n      }\n    },\n    {\n      \"column\": \"NLME_CURVE_ID\",\n      \"properties\": {\n        \"dtype\": \"number\",\n        \"std\": 116,\n        \"min\": 15646269,\n        \"max\": 15646671,\n        \"num_unique_values\": 402,\n        \"samples\": [\n          15646341\n        ],\n        \"semantic_type\": \"\",\n        \"description\": \"\"\n      }\n    },\n    {\n      \"column\": \"COSMIC_ID\",\n      \"properties\": {\n        \"dtype\": \"number\",\n        \"std\": 0,\n        \"min\": 905955,\n        \"max\": 905955,\n        \"num_unique_values\": 1,\n        \"samples\": [\n          905955\n        ],\n        \"semantic_type\": \"\",\n        \"description\": \"\"\n      }\n    },\n    {\n      \"column\": \"CELL_LINE_NAME\",\n      \"properties\": {\n        \"dtype\": \"category\",\n        \"num_unique_values\": 1,\n        \"samples\": [\n          \"SK-MEL-2\"\n        ],\n        \"semantic_type\": \"\",\n        \"description\": \"\"\n      }\n    },\n    {\n      \"column\": \"SANGER_MODEL_ID\",\n      \"properties\": {\n        \"dtype\": \"category\",\n        \"num_unique_values\": 1,\n        \"samples\": [\n          \"SIDM00082\"\n        ],\n        \"semantic_type\": \"\",\n        \"description\": \"\"\n      }\n    },\n    {\n      \"column\": \"TCGA_DESC\",\n      \"properties\": {\n        \"dtype\": \"category\",\n        \"num_unique_values\": 1,\n        \"samples\": [\n          \"SKCM\"\n        ],\n        \"semantic_type\": \"\",\n        \"description\": \"\"\n      }\n    },\n    {\n      \"column\": \"DRUG_ID\",\n      \"properties\": {\n        \"dtype\": \"number\",\n        \"std\": 514,\n        \"min\": 1,\n        \"max\": 1531,\n        \"num_unique_values\": 402,\n        \"samples\": [\n          1149\n        ],\n        \"semantic_type\": \"\",\n        \"description\": \"\"\n      }\n    },\n    {\n      \"column\": \"DRUG_NAME\",\n      \"properties\": {\n        \"dtype\": \"string\",\n        \"num_unique_values\": 378,\n        \"samples\": [\n          \"QL-VIII-58\"\n        ],\n        \"semantic_type\": \"\",\n        \"description\": \"\"\n      }\n    },\n    {\n      \"column\": \"PUTATIVE_TARGET\",\n      \"properties\": {\n        \"dtype\": \"string\",\n        \"num_unique_values\": 288,\n        \"samples\": [\n          \"Microtubule destabiliser\"\n        ],\n        \"semantic_type\": \"\",\n        \"description\": \"\"\n      }\n    },\n    {\n      \"column\": \"PATHWAY_NAME\",\n      \"properties\": {\n        \"dtype\": \"category\",\n        \"num_unique_values\": 24,\n        \"samples\": [\n          \"ABL signaling\"\n        ],\n        \"semantic_type\": \"\",\n        \"description\": \"\"\n      }\n    },\n    {\n      \"column\": \"COMPANY_ID\",\n      \"properties\": {\n        \"dtype\": \"number\",\n        \"std\": 17,\n        \"min\": 1001,\n        \"max\": 1046,\n        \"num_unique_values\": 13,\n        \"samples\": [\n          1009\n        ],\n        \"semantic_type\": \"\",\n        \"description\": \"\"\n      }\n    },\n    {\n      \"column\": \"WEBRELEASE\",\n      \"properties\": {\n        \"dtype\": \"category\",\n        \"num_unique_values\": 1,\n        \"samples\": [\n          \"Y\"\n        ],\n        \"semantic_type\": \"\",\n        \"description\": \"\"\n      }\n    },\n    {\n      \"column\": \"MIN_CONC\",\n      \"properties\": {\n        \"dtype\": \"number\",\n        \"std\": 1.164654872287259,\n        \"min\": 3.1e-05,\n        \"max\": 15.625,\n        \"num_unique_values\": 44,\n        \"samples\": [\n          0.257031\n        ],\n        \"semantic_type\": \"\",\n        \"description\": \"\"\n      }\n    },\n    {\n      \"column\": \"MAX_CONC\",\n      \"properties\": {\n        \"dtype\": \"number\",\n        \"std\": 298.12888487678515,\n        \"min\": 0.008,\n        \"max\": 4000.0,\n        \"num_unique_values\": 42,\n        \"samples\": [\n          0.032\n        ],\n        \"semantic_type\": \"\",\n        \"description\": \"\"\n      }\n    },\n    {\n      \"column\": \"LN_IC50\",\n      \"properties\": {\n        \"dtype\": \"number\",\n        \"std\": 2.6663765367624817,\n        \"min\": -6.008461,\n        \"max\": 8.577464,\n        \"num_unique_values\": 397,\n        \"samples\": [\n          3.708276\n        ],\n        \"semantic_type\": \"\",\n        \"description\": \"\"\n      }\n    },\n    {\n      \"column\": \"AUC\",\n      \"properties\": {\n        \"dtype\": \"number\",\n        \"std\": 0.19791477584821665,\n        \"min\": 0.060064,\n        \"max\": 0.994374,\n        \"num_unique_values\": 391,\n        \"samples\": [\n          0.978357\n        ],\n        \"semantic_type\": \"\",\n        \"description\": \"\"\n      }\n    },\n    {\n      \"column\": \"RMSE\",\n      \"properties\": {\n        \"dtype\": \"number\",\n        \"std\": 0.05128538611072041,\n        \"min\": 0.014852,\n        \"max\": 0.262186,\n        \"num_unique_values\": 391,\n        \"samples\": [\n          0.079439\n        ],\n        \"semantic_type\": \"\",\n        \"description\": \"\"\n      }\n    },\n    {\n      \"column\": \"Z_SCORE\",\n      \"properties\": {\n        \"dtype\": \"number\",\n        \"std\": 0.9034826882466982,\n        \"min\": -2.51352,\n        \"max\": 2.317918,\n        \"num_unique_values\": 402,\n        \"samples\": [\n          -0.676774\n        ],\n        \"semantic_type\": \"\",\n        \"description\": \"\"\n      }\n    }\n  ]\n}"
            }
          },
          "metadata": {},
          "execution_count": 9
        }
      ],
      "source": [
        "# making a dataframe that contain the selected cell line only\n",
        "df_filtered = df_dataset[df_dataset['CELL_LINE_NAME'] == 'SK-MEL-2']\n",
        "df_filtered"
      ]
    },
    {
      "cell_type": "code",
      "execution_count": 10,
      "metadata": {
        "colab": {
          "base_uri": "https://localhost:8080/",
          "height": 424
        },
        "id": "ykKlhrOpa8D-",
        "outputId": "d803c778-0fa9-4228-d47a-2d1681a228f5"
      },
      "outputs": [
        {
          "output_type": "execute_result",
          "data": {
            "text/plain": [
              "       CELL_LINE_NAME TCGA_DESC     DRUG_NAME   LN_IC50\n",
              "86           SK-MEL-2      SKCM     Erlotinib  3.394001\n",
              "474          SK-MEL-2      SKCM     Rapamycin -1.113085\n",
              "837          SK-MEL-2      SKCM     Sunitinib  4.013588\n",
              "1234         SK-MEL-2      SKCM    PHA-665752  3.092390\n",
              "1640         SK-MEL-2      SKCM        MG-132  2.369072\n",
              "...               ...       ...           ...       ...\n",
              "329242       SK-MEL-2      SKCM   Refametinib -1.542607\n",
              "330105       SK-MEL-2      SKCM    Pictilisib  1.439194\n",
              "330945       SK-MEL-2      SKCM  Pevonedistat -0.809756\n",
              "331660       SK-MEL-2      SKCM         PFI-3  5.665698\n",
              "332493       SK-MEL-2      SKCM      I-CBP112  5.864130\n",
              "\n",
              "[402 rows x 4 columns]"
            ],
            "text/html": [
              "\n",
              "  <div id=\"df-bc6cef60-e92a-4b68-8b03-54a82ac391b4\" class=\"colab-df-container\">\n",
              "    <div>\n",
              "<style scoped>\n",
              "    .dataframe tbody tr th:only-of-type {\n",
              "        vertical-align: middle;\n",
              "    }\n",
              "\n",
              "    .dataframe tbody tr th {\n",
              "        vertical-align: top;\n",
              "    }\n",
              "\n",
              "    .dataframe thead th {\n",
              "        text-align: right;\n",
              "    }\n",
              "</style>\n",
              "<table border=\"1\" class=\"dataframe\">\n",
              "  <thead>\n",
              "    <tr style=\"text-align: right;\">\n",
              "      <th></th>\n",
              "      <th>CELL_LINE_NAME</th>\n",
              "      <th>TCGA_DESC</th>\n",
              "      <th>DRUG_NAME</th>\n",
              "      <th>LN_IC50</th>\n",
              "    </tr>\n",
              "  </thead>\n",
              "  <tbody>\n",
              "    <tr>\n",
              "      <th>86</th>\n",
              "      <td>SK-MEL-2</td>\n",
              "      <td>SKCM</td>\n",
              "      <td>Erlotinib</td>\n",
              "      <td>3.394001</td>\n",
              "    </tr>\n",
              "    <tr>\n",
              "      <th>474</th>\n",
              "      <td>SK-MEL-2</td>\n",
              "      <td>SKCM</td>\n",
              "      <td>Rapamycin</td>\n",
              "      <td>-1.113085</td>\n",
              "    </tr>\n",
              "    <tr>\n",
              "      <th>837</th>\n",
              "      <td>SK-MEL-2</td>\n",
              "      <td>SKCM</td>\n",
              "      <td>Sunitinib</td>\n",
              "      <td>4.013588</td>\n",
              "    </tr>\n",
              "    <tr>\n",
              "      <th>1234</th>\n",
              "      <td>SK-MEL-2</td>\n",
              "      <td>SKCM</td>\n",
              "      <td>PHA-665752</td>\n",
              "      <td>3.092390</td>\n",
              "    </tr>\n",
              "    <tr>\n",
              "      <th>1640</th>\n",
              "      <td>SK-MEL-2</td>\n",
              "      <td>SKCM</td>\n",
              "      <td>MG-132</td>\n",
              "      <td>2.369072</td>\n",
              "    </tr>\n",
              "    <tr>\n",
              "      <th>...</th>\n",
              "      <td>...</td>\n",
              "      <td>...</td>\n",
              "      <td>...</td>\n",
              "      <td>...</td>\n",
              "    </tr>\n",
              "    <tr>\n",
              "      <th>329242</th>\n",
              "      <td>SK-MEL-2</td>\n",
              "      <td>SKCM</td>\n",
              "      <td>Refametinib</td>\n",
              "      <td>-1.542607</td>\n",
              "    </tr>\n",
              "    <tr>\n",
              "      <th>330105</th>\n",
              "      <td>SK-MEL-2</td>\n",
              "      <td>SKCM</td>\n",
              "      <td>Pictilisib</td>\n",
              "      <td>1.439194</td>\n",
              "    </tr>\n",
              "    <tr>\n",
              "      <th>330945</th>\n",
              "      <td>SK-MEL-2</td>\n",
              "      <td>SKCM</td>\n",
              "      <td>Pevonedistat</td>\n",
              "      <td>-0.809756</td>\n",
              "    </tr>\n",
              "    <tr>\n",
              "      <th>331660</th>\n",
              "      <td>SK-MEL-2</td>\n",
              "      <td>SKCM</td>\n",
              "      <td>PFI-3</td>\n",
              "      <td>5.665698</td>\n",
              "    </tr>\n",
              "    <tr>\n",
              "      <th>332493</th>\n",
              "      <td>SK-MEL-2</td>\n",
              "      <td>SKCM</td>\n",
              "      <td>I-CBP112</td>\n",
              "      <td>5.864130</td>\n",
              "    </tr>\n",
              "  </tbody>\n",
              "</table>\n",
              "<p>402 rows × 4 columns</p>\n",
              "</div>\n",
              "    <div class=\"colab-df-buttons\">\n",
              "\n",
              "  <div class=\"colab-df-container\">\n",
              "    <button class=\"colab-df-convert\" onclick=\"convertToInteractive('df-bc6cef60-e92a-4b68-8b03-54a82ac391b4')\"\n",
              "            title=\"Convert this dataframe to an interactive table.\"\n",
              "            style=\"display:none;\">\n",
              "\n",
              "  <svg xmlns=\"http://www.w3.org/2000/svg\" height=\"24px\" viewBox=\"0 -960 960 960\">\n",
              "    <path d=\"M120-120v-720h720v720H120Zm60-500h600v-160H180v160Zm220 220h160v-160H400v160Zm0 220h160v-160H400v160ZM180-400h160v-160H180v160Zm440 0h160v-160H620v160ZM180-180h160v-160H180v160Zm440 0h160v-160H620v160Z\"/>\n",
              "  </svg>\n",
              "    </button>\n",
              "\n",
              "  <style>\n",
              "    .colab-df-container {\n",
              "      display:flex;\n",
              "      gap: 12px;\n",
              "    }\n",
              "\n",
              "    .colab-df-convert {\n",
              "      background-color: #E8F0FE;\n",
              "      border: none;\n",
              "      border-radius: 50%;\n",
              "      cursor: pointer;\n",
              "      display: none;\n",
              "      fill: #1967D2;\n",
              "      height: 32px;\n",
              "      padding: 0 0 0 0;\n",
              "      width: 32px;\n",
              "    }\n",
              "\n",
              "    .colab-df-convert:hover {\n",
              "      background-color: #E2EBFA;\n",
              "      box-shadow: 0px 1px 2px rgba(60, 64, 67, 0.3), 0px 1px 3px 1px rgba(60, 64, 67, 0.15);\n",
              "      fill: #174EA6;\n",
              "    }\n",
              "\n",
              "    .colab-df-buttons div {\n",
              "      margin-bottom: 4px;\n",
              "    }\n",
              "\n",
              "    [theme=dark] .colab-df-convert {\n",
              "      background-color: #3B4455;\n",
              "      fill: #D2E3FC;\n",
              "    }\n",
              "\n",
              "    [theme=dark] .colab-df-convert:hover {\n",
              "      background-color: #434B5C;\n",
              "      box-shadow: 0px 1px 3px 1px rgba(0, 0, 0, 0.15);\n",
              "      filter: drop-shadow(0px 1px 2px rgba(0, 0, 0, 0.3));\n",
              "      fill: #FFFFFF;\n",
              "    }\n",
              "  </style>\n",
              "\n",
              "    <script>\n",
              "      const buttonEl =\n",
              "        document.querySelector('#df-bc6cef60-e92a-4b68-8b03-54a82ac391b4 button.colab-df-convert');\n",
              "      buttonEl.style.display =\n",
              "        google.colab.kernel.accessAllowed ? 'block' : 'none';\n",
              "\n",
              "      async function convertToInteractive(key) {\n",
              "        const element = document.querySelector('#df-bc6cef60-e92a-4b68-8b03-54a82ac391b4');\n",
              "        const dataTable =\n",
              "          await google.colab.kernel.invokeFunction('convertToInteractive',\n",
              "                                                    [key], {});\n",
              "        if (!dataTable) return;\n",
              "\n",
              "        const docLinkHtml = 'Like what you see? Visit the ' +\n",
              "          '<a target=\"_blank\" href=https://colab.research.google.com/notebooks/data_table.ipynb>data table notebook</a>'\n",
              "          + ' to learn more about interactive tables.';\n",
              "        element.innerHTML = '';\n",
              "        dataTable['output_type'] = 'display_data';\n",
              "        await google.colab.output.renderOutput(dataTable, element);\n",
              "        const docLink = document.createElement('div');\n",
              "        docLink.innerHTML = docLinkHtml;\n",
              "        element.appendChild(docLink);\n",
              "      }\n",
              "    </script>\n",
              "  </div>\n",
              "\n",
              "\n",
              "<div id=\"df-f18ba671-5be1-44e7-9002-b7ca932937a6\">\n",
              "  <button class=\"colab-df-quickchart\" onclick=\"quickchart('df-f18ba671-5be1-44e7-9002-b7ca932937a6')\"\n",
              "            title=\"Suggest charts\"\n",
              "            style=\"display:none;\">\n",
              "\n",
              "<svg xmlns=\"http://www.w3.org/2000/svg\" height=\"24px\"viewBox=\"0 0 24 24\"\n",
              "     width=\"24px\">\n",
              "    <g>\n",
              "        <path d=\"M19 3H5c-1.1 0-2 .9-2 2v14c0 1.1.9 2 2 2h14c1.1 0 2-.9 2-2V5c0-1.1-.9-2-2-2zM9 17H7v-7h2v7zm4 0h-2V7h2v10zm4 0h-2v-4h2v4z\"/>\n",
              "    </g>\n",
              "</svg>\n",
              "  </button>\n",
              "\n",
              "<style>\n",
              "  .colab-df-quickchart {\n",
              "      --bg-color: #E8F0FE;\n",
              "      --fill-color: #1967D2;\n",
              "      --hover-bg-color: #E2EBFA;\n",
              "      --hover-fill-color: #174EA6;\n",
              "      --disabled-fill-color: #AAA;\n",
              "      --disabled-bg-color: #DDD;\n",
              "  }\n",
              "\n",
              "  [theme=dark] .colab-df-quickchart {\n",
              "      --bg-color: #3B4455;\n",
              "      --fill-color: #D2E3FC;\n",
              "      --hover-bg-color: #434B5C;\n",
              "      --hover-fill-color: #FFFFFF;\n",
              "      --disabled-bg-color: #3B4455;\n",
              "      --disabled-fill-color: #666;\n",
              "  }\n",
              "\n",
              "  .colab-df-quickchart {\n",
              "    background-color: var(--bg-color);\n",
              "    border: none;\n",
              "    border-radius: 50%;\n",
              "    cursor: pointer;\n",
              "    display: none;\n",
              "    fill: var(--fill-color);\n",
              "    height: 32px;\n",
              "    padding: 0;\n",
              "    width: 32px;\n",
              "  }\n",
              "\n",
              "  .colab-df-quickchart:hover {\n",
              "    background-color: var(--hover-bg-color);\n",
              "    box-shadow: 0 1px 2px rgba(60, 64, 67, 0.3), 0 1px 3px 1px rgba(60, 64, 67, 0.15);\n",
              "    fill: var(--button-hover-fill-color);\n",
              "  }\n",
              "\n",
              "  .colab-df-quickchart-complete:disabled,\n",
              "  .colab-df-quickchart-complete:disabled:hover {\n",
              "    background-color: var(--disabled-bg-color);\n",
              "    fill: var(--disabled-fill-color);\n",
              "    box-shadow: none;\n",
              "  }\n",
              "\n",
              "  .colab-df-spinner {\n",
              "    border: 2px solid var(--fill-color);\n",
              "    border-color: transparent;\n",
              "    border-bottom-color: var(--fill-color);\n",
              "    animation:\n",
              "      spin 1s steps(1) infinite;\n",
              "  }\n",
              "\n",
              "  @keyframes spin {\n",
              "    0% {\n",
              "      border-color: transparent;\n",
              "      border-bottom-color: var(--fill-color);\n",
              "      border-left-color: var(--fill-color);\n",
              "    }\n",
              "    20% {\n",
              "      border-color: transparent;\n",
              "      border-left-color: var(--fill-color);\n",
              "      border-top-color: var(--fill-color);\n",
              "    }\n",
              "    30% {\n",
              "      border-color: transparent;\n",
              "      border-left-color: var(--fill-color);\n",
              "      border-top-color: var(--fill-color);\n",
              "      border-right-color: var(--fill-color);\n",
              "    }\n",
              "    40% {\n",
              "      border-color: transparent;\n",
              "      border-right-color: var(--fill-color);\n",
              "      border-top-color: var(--fill-color);\n",
              "    }\n",
              "    60% {\n",
              "      border-color: transparent;\n",
              "      border-right-color: var(--fill-color);\n",
              "    }\n",
              "    80% {\n",
              "      border-color: transparent;\n",
              "      border-right-color: var(--fill-color);\n",
              "      border-bottom-color: var(--fill-color);\n",
              "    }\n",
              "    90% {\n",
              "      border-color: transparent;\n",
              "      border-bottom-color: var(--fill-color);\n",
              "    }\n",
              "  }\n",
              "</style>\n",
              "\n",
              "  <script>\n",
              "    async function quickchart(key) {\n",
              "      const quickchartButtonEl =\n",
              "        document.querySelector('#' + key + ' button');\n",
              "      quickchartButtonEl.disabled = true;  // To prevent multiple clicks.\n",
              "      quickchartButtonEl.classList.add('colab-df-spinner');\n",
              "      try {\n",
              "        const charts = await google.colab.kernel.invokeFunction(\n",
              "            'suggestCharts', [key], {});\n",
              "      } catch (error) {\n",
              "        console.error('Error during call to suggestCharts:', error);\n",
              "      }\n",
              "      quickchartButtonEl.classList.remove('colab-df-spinner');\n",
              "      quickchartButtonEl.classList.add('colab-df-quickchart-complete');\n",
              "    }\n",
              "    (() => {\n",
              "      let quickchartButtonEl =\n",
              "        document.querySelector('#df-f18ba671-5be1-44e7-9002-b7ca932937a6 button');\n",
              "      quickchartButtonEl.style.display =\n",
              "        google.colab.kernel.accessAllowed ? 'block' : 'none';\n",
              "    })();\n",
              "  </script>\n",
              "</div>\n",
              "\n",
              "  <div id=\"id_f914e446-1dcb-4963-9c6f-6c46f40e53d0\">\n",
              "    <style>\n",
              "      .colab-df-generate {\n",
              "        background-color: #E8F0FE;\n",
              "        border: none;\n",
              "        border-radius: 50%;\n",
              "        cursor: pointer;\n",
              "        display: none;\n",
              "        fill: #1967D2;\n",
              "        height: 32px;\n",
              "        padding: 0 0 0 0;\n",
              "        width: 32px;\n",
              "      }\n",
              "\n",
              "      .colab-df-generate:hover {\n",
              "        background-color: #E2EBFA;\n",
              "        box-shadow: 0px 1px 2px rgba(60, 64, 67, 0.3), 0px 1px 3px 1px rgba(60, 64, 67, 0.15);\n",
              "        fill: #174EA6;\n",
              "      }\n",
              "\n",
              "      [theme=dark] .colab-df-generate {\n",
              "        background-color: #3B4455;\n",
              "        fill: #D2E3FC;\n",
              "      }\n",
              "\n",
              "      [theme=dark] .colab-df-generate:hover {\n",
              "        background-color: #434B5C;\n",
              "        box-shadow: 0px 1px 3px 1px rgba(0, 0, 0, 0.15);\n",
              "        filter: drop-shadow(0px 1px 2px rgba(0, 0, 0, 0.3));\n",
              "        fill: #FFFFFF;\n",
              "      }\n",
              "    </style>\n",
              "    <button class=\"colab-df-generate\" onclick=\"generateWithVariable('df_filtered_2')\"\n",
              "            title=\"Generate code using this dataframe.\"\n",
              "            style=\"display:none;\">\n",
              "\n",
              "  <svg xmlns=\"http://www.w3.org/2000/svg\" height=\"24px\"viewBox=\"0 0 24 24\"\n",
              "       width=\"24px\">\n",
              "    <path d=\"M7,19H8.4L18.45,9,17,7.55,7,17.6ZM5,21V16.75L18.45,3.32a2,2,0,0,1,2.83,0l1.4,1.43a1.91,1.91,0,0,1,.58,1.4,1.91,1.91,0,0,1-.58,1.4L9.25,21ZM18.45,9,17,7.55Zm-12,3A5.31,5.31,0,0,0,4.9,8.1,5.31,5.31,0,0,0,1,6.5,5.31,5.31,0,0,0,4.9,4.9,5.31,5.31,0,0,0,6.5,1,5.31,5.31,0,0,0,8.1,4.9,5.31,5.31,0,0,0,12,6.5,5.46,5.46,0,0,0,6.5,12Z\"/>\n",
              "  </svg>\n",
              "    </button>\n",
              "    <script>\n",
              "      (() => {\n",
              "      const buttonEl =\n",
              "        document.querySelector('#id_f914e446-1dcb-4963-9c6f-6c46f40e53d0 button.colab-df-generate');\n",
              "      buttonEl.style.display =\n",
              "        google.colab.kernel.accessAllowed ? 'block' : 'none';\n",
              "\n",
              "      buttonEl.onclick = () => {\n",
              "        google.colab.notebook.generateWithVariable('df_filtered_2');\n",
              "      }\n",
              "      })();\n",
              "    </script>\n",
              "  </div>\n",
              "\n",
              "    </div>\n",
              "  </div>\n"
            ],
            "application/vnd.google.colaboratory.intrinsic+json": {
              "type": "dataframe",
              "variable_name": "df_filtered_2",
              "summary": "{\n  \"name\": \"df_filtered_2\",\n  \"rows\": 402,\n  \"fields\": [\n    {\n      \"column\": \"CELL_LINE_NAME\",\n      \"properties\": {\n        \"dtype\": \"category\",\n        \"num_unique_values\": 1,\n        \"samples\": [\n          \"SK-MEL-2\"\n        ],\n        \"semantic_type\": \"\",\n        \"description\": \"\"\n      }\n    },\n    {\n      \"column\": \"TCGA_DESC\",\n      \"properties\": {\n        \"dtype\": \"category\",\n        \"num_unique_values\": 1,\n        \"samples\": [\n          \"SKCM\"\n        ],\n        \"semantic_type\": \"\",\n        \"description\": \"\"\n      }\n    },\n    {\n      \"column\": \"DRUG_NAME\",\n      \"properties\": {\n        \"dtype\": \"string\",\n        \"num_unique_values\": 378,\n        \"samples\": [\n          \"QL-VIII-58\"\n        ],\n        \"semantic_type\": \"\",\n        \"description\": \"\"\n      }\n    },\n    {\n      \"column\": \"LN_IC50\",\n      \"properties\": {\n        \"dtype\": \"number\",\n        \"std\": 2.6663765367624817,\n        \"min\": -6.008461,\n        \"max\": 8.577464,\n        \"num_unique_values\": 397,\n        \"samples\": [\n          3.708276\n        ],\n        \"semantic_type\": \"\",\n        \"description\": \"\"\n      }\n    }\n  ]\n}"
            }
          },
          "metadata": {},
          "execution_count": 10
        }
      ],
      "source": [
        "# more filteration to keep the imprtant columns only\n",
        "columns_to_keep = ['CELL_LINE_NAME', 'TCGA_DESC', 'DRUG_NAME', 'LN_IC50']\n",
        "df_filtered_2 = df_filtered[columns_to_keep]\n",
        "df_filtered_2"
      ]
    },
    {
      "cell_type": "code",
      "execution_count": 11,
      "metadata": {
        "colab": {
          "base_uri": "https://localhost:8080/"
        },
        "id": "FtIhRJkvcOJa",
        "outputId": "2dbe6951-5d02-4ac0-c28f-cd7fa8c070ad"
      },
      "outputs": [
        {
          "output_type": "stream",
          "name": "stdout",
          "text": [
            "Requirement already satisfied: pubchempy in /usr/local/lib/python3.10/dist-packages (1.0.4)\n"
          ]
        }
      ],
      "source": [
        "# generating smiles from the drug name\n",
        "!pip install pubchempy"
      ]
    },
    {
      "cell_type": "code",
      "execution_count": 12,
      "metadata": {
        "colab": {
          "base_uri": "https://localhost:8080/",
          "height": 444
        },
        "id": "Ef10TD2Eci8J",
        "outputId": "20592e6f-a3cd-4a23-a51b-091996922541"
      },
      "outputs": [
        {
          "output_type": "execute_result",
          "data": {
            "text/plain": [
              "       CELL_LINE_NAME TCGA_DESC     DRUG_NAME   LN_IC50  \\\n",
              "86           SK-MEL-2      SKCM     Erlotinib  3.394001   \n",
              "474          SK-MEL-2      SKCM     Rapamycin -1.113085   \n",
              "837          SK-MEL-2      SKCM     Sunitinib  4.013588   \n",
              "1234         SK-MEL-2      SKCM    PHA-665752  3.092390   \n",
              "1640         SK-MEL-2      SKCM        MG-132  2.369072   \n",
              "...               ...       ...           ...       ...   \n",
              "329242       SK-MEL-2      SKCM   Refametinib -1.542607   \n",
              "330105       SK-MEL-2      SKCM    Pictilisib  1.439194   \n",
              "330945       SK-MEL-2      SKCM  Pevonedistat -0.809756   \n",
              "331660       SK-MEL-2      SKCM         PFI-3  5.665698   \n",
              "332493       SK-MEL-2      SKCM      I-CBP112  5.864130   \n",
              "\n",
              "                                                   SMILES  \n",
              "86      COCCOC1=C(C=C2C(=C1)C(=NC=N2)NC3=CC=CC(=C3)C#C...  \n",
              "474     CC1CCC2CC(C(=CC=CC=CC(CC(C(=O)C(C(C(=CC(C(=O)C...  \n",
              "837     CCN(CC)CCNC(=O)C1=C(NC(=C1C)C=C2C3=C(C=CC(=C3)...  \n",
              "1234    CC1=C(NC(=C1C(=O)N2CCCC2CN3CCCC3)C)C=C4C5=C(C=...  \n",
              "1640    CC(C)CC(C=O)NC(=O)C(CC(C)C)NC(=O)C(CC(C)C)NC(=...  \n",
              "...                                                   ...  \n",
              "329242  COC1=CC(=C(C(=C1NS(=O)(=O)C2(CC2)CC(CO)O)NC3=C...  \n",
              "330105  CS(=O)(=O)N1CCN(CC1)CC2=CC3=C(S2)C(=NC(=N3)C4=...  \n",
              "330945  C1CC2=CC=CC=C2C1NC3=C4C=CN(C4=NC=N3)C5CC(C(C5)...  \n",
              "331660       C1C2CN(C1CN2C3=CC=CC=N3)C=CC(=O)C4=CC=CC=C4O  \n",
              "332493  CCC(=O)N1CCOC2=C(C1)C=C(C=C2OCC3CCCN(C3)C)C4=C...  \n",
              "\n",
              "[402 rows x 5 columns]"
            ],
            "text/html": [
              "\n",
              "  <div id=\"df-7c05646d-5f5e-49f4-b002-cba1049c6d48\" class=\"colab-df-container\">\n",
              "    <div>\n",
              "<style scoped>\n",
              "    .dataframe tbody tr th:only-of-type {\n",
              "        vertical-align: middle;\n",
              "    }\n",
              "\n",
              "    .dataframe tbody tr th {\n",
              "        vertical-align: top;\n",
              "    }\n",
              "\n",
              "    .dataframe thead th {\n",
              "        text-align: right;\n",
              "    }\n",
              "</style>\n",
              "<table border=\"1\" class=\"dataframe\">\n",
              "  <thead>\n",
              "    <tr style=\"text-align: right;\">\n",
              "      <th></th>\n",
              "      <th>CELL_LINE_NAME</th>\n",
              "      <th>TCGA_DESC</th>\n",
              "      <th>DRUG_NAME</th>\n",
              "      <th>LN_IC50</th>\n",
              "      <th>SMILES</th>\n",
              "    </tr>\n",
              "  </thead>\n",
              "  <tbody>\n",
              "    <tr>\n",
              "      <th>86</th>\n",
              "      <td>SK-MEL-2</td>\n",
              "      <td>SKCM</td>\n",
              "      <td>Erlotinib</td>\n",
              "      <td>3.394001</td>\n",
              "      <td>COCCOC1=C(C=C2C(=C1)C(=NC=N2)NC3=CC=CC(=C3)C#C...</td>\n",
              "    </tr>\n",
              "    <tr>\n",
              "      <th>474</th>\n",
              "      <td>SK-MEL-2</td>\n",
              "      <td>SKCM</td>\n",
              "      <td>Rapamycin</td>\n",
              "      <td>-1.113085</td>\n",
              "      <td>CC1CCC2CC(C(=CC=CC=CC(CC(C(=O)C(C(C(=CC(C(=O)C...</td>\n",
              "    </tr>\n",
              "    <tr>\n",
              "      <th>837</th>\n",
              "      <td>SK-MEL-2</td>\n",
              "      <td>SKCM</td>\n",
              "      <td>Sunitinib</td>\n",
              "      <td>4.013588</td>\n",
              "      <td>CCN(CC)CCNC(=O)C1=C(NC(=C1C)C=C2C3=C(C=CC(=C3)...</td>\n",
              "    </tr>\n",
              "    <tr>\n",
              "      <th>1234</th>\n",
              "      <td>SK-MEL-2</td>\n",
              "      <td>SKCM</td>\n",
              "      <td>PHA-665752</td>\n",
              "      <td>3.092390</td>\n",
              "      <td>CC1=C(NC(=C1C(=O)N2CCCC2CN3CCCC3)C)C=C4C5=C(C=...</td>\n",
              "    </tr>\n",
              "    <tr>\n",
              "      <th>1640</th>\n",
              "      <td>SK-MEL-2</td>\n",
              "      <td>SKCM</td>\n",
              "      <td>MG-132</td>\n",
              "      <td>2.369072</td>\n",
              "      <td>CC(C)CC(C=O)NC(=O)C(CC(C)C)NC(=O)C(CC(C)C)NC(=...</td>\n",
              "    </tr>\n",
              "    <tr>\n",
              "      <th>...</th>\n",
              "      <td>...</td>\n",
              "      <td>...</td>\n",
              "      <td>...</td>\n",
              "      <td>...</td>\n",
              "      <td>...</td>\n",
              "    </tr>\n",
              "    <tr>\n",
              "      <th>329242</th>\n",
              "      <td>SK-MEL-2</td>\n",
              "      <td>SKCM</td>\n",
              "      <td>Refametinib</td>\n",
              "      <td>-1.542607</td>\n",
              "      <td>COC1=CC(=C(C(=C1NS(=O)(=O)C2(CC2)CC(CO)O)NC3=C...</td>\n",
              "    </tr>\n",
              "    <tr>\n",
              "      <th>330105</th>\n",
              "      <td>SK-MEL-2</td>\n",
              "      <td>SKCM</td>\n",
              "      <td>Pictilisib</td>\n",
              "      <td>1.439194</td>\n",
              "      <td>CS(=O)(=O)N1CCN(CC1)CC2=CC3=C(S2)C(=NC(=N3)C4=...</td>\n",
              "    </tr>\n",
              "    <tr>\n",
              "      <th>330945</th>\n",
              "      <td>SK-MEL-2</td>\n",
              "      <td>SKCM</td>\n",
              "      <td>Pevonedistat</td>\n",
              "      <td>-0.809756</td>\n",
              "      <td>C1CC2=CC=CC=C2C1NC3=C4C=CN(C4=NC=N3)C5CC(C(C5)...</td>\n",
              "    </tr>\n",
              "    <tr>\n",
              "      <th>331660</th>\n",
              "      <td>SK-MEL-2</td>\n",
              "      <td>SKCM</td>\n",
              "      <td>PFI-3</td>\n",
              "      <td>5.665698</td>\n",
              "      <td>C1C2CN(C1CN2C3=CC=CC=N3)C=CC(=O)C4=CC=CC=C4O</td>\n",
              "    </tr>\n",
              "    <tr>\n",
              "      <th>332493</th>\n",
              "      <td>SK-MEL-2</td>\n",
              "      <td>SKCM</td>\n",
              "      <td>I-CBP112</td>\n",
              "      <td>5.864130</td>\n",
              "      <td>CCC(=O)N1CCOC2=C(C1)C=C(C=C2OCC3CCCN(C3)C)C4=C...</td>\n",
              "    </tr>\n",
              "  </tbody>\n",
              "</table>\n",
              "<p>402 rows × 5 columns</p>\n",
              "</div>\n",
              "    <div class=\"colab-df-buttons\">\n",
              "\n",
              "  <div class=\"colab-df-container\">\n",
              "    <button class=\"colab-df-convert\" onclick=\"convertToInteractive('df-7c05646d-5f5e-49f4-b002-cba1049c6d48')\"\n",
              "            title=\"Convert this dataframe to an interactive table.\"\n",
              "            style=\"display:none;\">\n",
              "\n",
              "  <svg xmlns=\"http://www.w3.org/2000/svg\" height=\"24px\" viewBox=\"0 -960 960 960\">\n",
              "    <path d=\"M120-120v-720h720v720H120Zm60-500h600v-160H180v160Zm220 220h160v-160H400v160Zm0 220h160v-160H400v160ZM180-400h160v-160H180v160Zm440 0h160v-160H620v160ZM180-180h160v-160H180v160Zm440 0h160v-160H620v160Z\"/>\n",
              "  </svg>\n",
              "    </button>\n",
              "\n",
              "  <style>\n",
              "    .colab-df-container {\n",
              "      display:flex;\n",
              "      gap: 12px;\n",
              "    }\n",
              "\n",
              "    .colab-df-convert {\n",
              "      background-color: #E8F0FE;\n",
              "      border: none;\n",
              "      border-radius: 50%;\n",
              "      cursor: pointer;\n",
              "      display: none;\n",
              "      fill: #1967D2;\n",
              "      height: 32px;\n",
              "      padding: 0 0 0 0;\n",
              "      width: 32px;\n",
              "    }\n",
              "\n",
              "    .colab-df-convert:hover {\n",
              "      background-color: #E2EBFA;\n",
              "      box-shadow: 0px 1px 2px rgba(60, 64, 67, 0.3), 0px 1px 3px 1px rgba(60, 64, 67, 0.15);\n",
              "      fill: #174EA6;\n",
              "    }\n",
              "\n",
              "    .colab-df-buttons div {\n",
              "      margin-bottom: 4px;\n",
              "    }\n",
              "\n",
              "    [theme=dark] .colab-df-convert {\n",
              "      background-color: #3B4455;\n",
              "      fill: #D2E3FC;\n",
              "    }\n",
              "\n",
              "    [theme=dark] .colab-df-convert:hover {\n",
              "      background-color: #434B5C;\n",
              "      box-shadow: 0px 1px 3px 1px rgba(0, 0, 0, 0.15);\n",
              "      filter: drop-shadow(0px 1px 2px rgba(0, 0, 0, 0.3));\n",
              "      fill: #FFFFFF;\n",
              "    }\n",
              "  </style>\n",
              "\n",
              "    <script>\n",
              "      const buttonEl =\n",
              "        document.querySelector('#df-7c05646d-5f5e-49f4-b002-cba1049c6d48 button.colab-df-convert');\n",
              "      buttonEl.style.display =\n",
              "        google.colab.kernel.accessAllowed ? 'block' : 'none';\n",
              "\n",
              "      async function convertToInteractive(key) {\n",
              "        const element = document.querySelector('#df-7c05646d-5f5e-49f4-b002-cba1049c6d48');\n",
              "        const dataTable =\n",
              "          await google.colab.kernel.invokeFunction('convertToInteractive',\n",
              "                                                    [key], {});\n",
              "        if (!dataTable) return;\n",
              "\n",
              "        const docLinkHtml = 'Like what you see? Visit the ' +\n",
              "          '<a target=\"_blank\" href=https://colab.research.google.com/notebooks/data_table.ipynb>data table notebook</a>'\n",
              "          + ' to learn more about interactive tables.';\n",
              "        element.innerHTML = '';\n",
              "        dataTable['output_type'] = 'display_data';\n",
              "        await google.colab.output.renderOutput(dataTable, element);\n",
              "        const docLink = document.createElement('div');\n",
              "        docLink.innerHTML = docLinkHtml;\n",
              "        element.appendChild(docLink);\n",
              "      }\n",
              "    </script>\n",
              "  </div>\n",
              "\n",
              "\n",
              "<div id=\"df-efc013f4-0ad1-45dc-a3d1-0975c490078d\">\n",
              "  <button class=\"colab-df-quickchart\" onclick=\"quickchart('df-efc013f4-0ad1-45dc-a3d1-0975c490078d')\"\n",
              "            title=\"Suggest charts\"\n",
              "            style=\"display:none;\">\n",
              "\n",
              "<svg xmlns=\"http://www.w3.org/2000/svg\" height=\"24px\"viewBox=\"0 0 24 24\"\n",
              "     width=\"24px\">\n",
              "    <g>\n",
              "        <path d=\"M19 3H5c-1.1 0-2 .9-2 2v14c0 1.1.9 2 2 2h14c1.1 0 2-.9 2-2V5c0-1.1-.9-2-2-2zM9 17H7v-7h2v7zm4 0h-2V7h2v10zm4 0h-2v-4h2v4z\"/>\n",
              "    </g>\n",
              "</svg>\n",
              "  </button>\n",
              "\n",
              "<style>\n",
              "  .colab-df-quickchart {\n",
              "      --bg-color: #E8F0FE;\n",
              "      --fill-color: #1967D2;\n",
              "      --hover-bg-color: #E2EBFA;\n",
              "      --hover-fill-color: #174EA6;\n",
              "      --disabled-fill-color: #AAA;\n",
              "      --disabled-bg-color: #DDD;\n",
              "  }\n",
              "\n",
              "  [theme=dark] .colab-df-quickchart {\n",
              "      --bg-color: #3B4455;\n",
              "      --fill-color: #D2E3FC;\n",
              "      --hover-bg-color: #434B5C;\n",
              "      --hover-fill-color: #FFFFFF;\n",
              "      --disabled-bg-color: #3B4455;\n",
              "      --disabled-fill-color: #666;\n",
              "  }\n",
              "\n",
              "  .colab-df-quickchart {\n",
              "    background-color: var(--bg-color);\n",
              "    border: none;\n",
              "    border-radius: 50%;\n",
              "    cursor: pointer;\n",
              "    display: none;\n",
              "    fill: var(--fill-color);\n",
              "    height: 32px;\n",
              "    padding: 0;\n",
              "    width: 32px;\n",
              "  }\n",
              "\n",
              "  .colab-df-quickchart:hover {\n",
              "    background-color: var(--hover-bg-color);\n",
              "    box-shadow: 0 1px 2px rgba(60, 64, 67, 0.3), 0 1px 3px 1px rgba(60, 64, 67, 0.15);\n",
              "    fill: var(--button-hover-fill-color);\n",
              "  }\n",
              "\n",
              "  .colab-df-quickchart-complete:disabled,\n",
              "  .colab-df-quickchart-complete:disabled:hover {\n",
              "    background-color: var(--disabled-bg-color);\n",
              "    fill: var(--disabled-fill-color);\n",
              "    box-shadow: none;\n",
              "  }\n",
              "\n",
              "  .colab-df-spinner {\n",
              "    border: 2px solid var(--fill-color);\n",
              "    border-color: transparent;\n",
              "    border-bottom-color: var(--fill-color);\n",
              "    animation:\n",
              "      spin 1s steps(1) infinite;\n",
              "  }\n",
              "\n",
              "  @keyframes spin {\n",
              "    0% {\n",
              "      border-color: transparent;\n",
              "      border-bottom-color: var(--fill-color);\n",
              "      border-left-color: var(--fill-color);\n",
              "    }\n",
              "    20% {\n",
              "      border-color: transparent;\n",
              "      border-left-color: var(--fill-color);\n",
              "      border-top-color: var(--fill-color);\n",
              "    }\n",
              "    30% {\n",
              "      border-color: transparent;\n",
              "      border-left-color: var(--fill-color);\n",
              "      border-top-color: var(--fill-color);\n",
              "      border-right-color: var(--fill-color);\n",
              "    }\n",
              "    40% {\n",
              "      border-color: transparent;\n",
              "      border-right-color: var(--fill-color);\n",
              "      border-top-color: var(--fill-color);\n",
              "    }\n",
              "    60% {\n",
              "      border-color: transparent;\n",
              "      border-right-color: var(--fill-color);\n",
              "    }\n",
              "    80% {\n",
              "      border-color: transparent;\n",
              "      border-right-color: var(--fill-color);\n",
              "      border-bottom-color: var(--fill-color);\n",
              "    }\n",
              "    90% {\n",
              "      border-color: transparent;\n",
              "      border-bottom-color: var(--fill-color);\n",
              "    }\n",
              "  }\n",
              "</style>\n",
              "\n",
              "  <script>\n",
              "    async function quickchart(key) {\n",
              "      const quickchartButtonEl =\n",
              "        document.querySelector('#' + key + ' button');\n",
              "      quickchartButtonEl.disabled = true;  // To prevent multiple clicks.\n",
              "      quickchartButtonEl.classList.add('colab-df-spinner');\n",
              "      try {\n",
              "        const charts = await google.colab.kernel.invokeFunction(\n",
              "            'suggestCharts', [key], {});\n",
              "      } catch (error) {\n",
              "        console.error('Error during call to suggestCharts:', error);\n",
              "      }\n",
              "      quickchartButtonEl.classList.remove('colab-df-spinner');\n",
              "      quickchartButtonEl.classList.add('colab-df-quickchart-complete');\n",
              "    }\n",
              "    (() => {\n",
              "      let quickchartButtonEl =\n",
              "        document.querySelector('#df-efc013f4-0ad1-45dc-a3d1-0975c490078d button');\n",
              "      quickchartButtonEl.style.display =\n",
              "        google.colab.kernel.accessAllowed ? 'block' : 'none';\n",
              "    })();\n",
              "  </script>\n",
              "</div>\n",
              "\n",
              "  <div id=\"id_2d0e32b8-e991-4446-9458-5777ab8b56d3\">\n",
              "    <style>\n",
              "      .colab-df-generate {\n",
              "        background-color: #E8F0FE;\n",
              "        border: none;\n",
              "        border-radius: 50%;\n",
              "        cursor: pointer;\n",
              "        display: none;\n",
              "        fill: #1967D2;\n",
              "        height: 32px;\n",
              "        padding: 0 0 0 0;\n",
              "        width: 32px;\n",
              "      }\n",
              "\n",
              "      .colab-df-generate:hover {\n",
              "        background-color: #E2EBFA;\n",
              "        box-shadow: 0px 1px 2px rgba(60, 64, 67, 0.3), 0px 1px 3px 1px rgba(60, 64, 67, 0.15);\n",
              "        fill: #174EA6;\n",
              "      }\n",
              "\n",
              "      [theme=dark] .colab-df-generate {\n",
              "        background-color: #3B4455;\n",
              "        fill: #D2E3FC;\n",
              "      }\n",
              "\n",
              "      [theme=dark] .colab-df-generate:hover {\n",
              "        background-color: #434B5C;\n",
              "        box-shadow: 0px 1px 3px 1px rgba(0, 0, 0, 0.15);\n",
              "        filter: drop-shadow(0px 1px 2px rgba(0, 0, 0, 0.3));\n",
              "        fill: #FFFFFF;\n",
              "      }\n",
              "    </style>\n",
              "    <button class=\"colab-df-generate\" onclick=\"generateWithVariable('df_filtered_2')\"\n",
              "            title=\"Generate code using this dataframe.\"\n",
              "            style=\"display:none;\">\n",
              "\n",
              "  <svg xmlns=\"http://www.w3.org/2000/svg\" height=\"24px\"viewBox=\"0 0 24 24\"\n",
              "       width=\"24px\">\n",
              "    <path d=\"M7,19H8.4L18.45,9,17,7.55,7,17.6ZM5,21V16.75L18.45,3.32a2,2,0,0,1,2.83,0l1.4,1.43a1.91,1.91,0,0,1,.58,1.4,1.91,1.91,0,0,1-.58,1.4L9.25,21ZM18.45,9,17,7.55Zm-12,3A5.31,5.31,0,0,0,4.9,8.1,5.31,5.31,0,0,0,1,6.5,5.31,5.31,0,0,0,4.9,4.9,5.31,5.31,0,0,0,6.5,1,5.31,5.31,0,0,0,8.1,4.9,5.31,5.31,0,0,0,12,6.5,5.46,5.46,0,0,0,6.5,12Z\"/>\n",
              "  </svg>\n",
              "    </button>\n",
              "    <script>\n",
              "      (() => {\n",
              "      const buttonEl =\n",
              "        document.querySelector('#id_2d0e32b8-e991-4446-9458-5777ab8b56d3 button.colab-df-generate');\n",
              "      buttonEl.style.display =\n",
              "        google.colab.kernel.accessAllowed ? 'block' : 'none';\n",
              "\n",
              "      buttonEl.onclick = () => {\n",
              "        google.colab.notebook.generateWithVariable('df_filtered_2');\n",
              "      }\n",
              "      })();\n",
              "    </script>\n",
              "  </div>\n",
              "\n",
              "    </div>\n",
              "  </div>\n"
            ],
            "application/vnd.google.colaboratory.intrinsic+json": {
              "type": "dataframe",
              "variable_name": "df_filtered_2",
              "summary": "{\n  \"name\": \"df_filtered_2\",\n  \"rows\": 402,\n  \"fields\": [\n    {\n      \"column\": \"CELL_LINE_NAME\",\n      \"properties\": {\n        \"dtype\": \"category\",\n        \"num_unique_values\": 1,\n        \"samples\": [\n          \"SK-MEL-2\"\n        ],\n        \"semantic_type\": \"\",\n        \"description\": \"\"\n      }\n    },\n    {\n      \"column\": \"TCGA_DESC\",\n      \"properties\": {\n        \"dtype\": \"category\",\n        \"num_unique_values\": 1,\n        \"samples\": [\n          \"SKCM\"\n        ],\n        \"semantic_type\": \"\",\n        \"description\": \"\"\n      }\n    },\n    {\n      \"column\": \"DRUG_NAME\",\n      \"properties\": {\n        \"dtype\": \"string\",\n        \"num_unique_values\": 378,\n        \"samples\": [\n          \"QL-VIII-58\"\n        ],\n        \"semantic_type\": \"\",\n        \"description\": \"\"\n      }\n    },\n    {\n      \"column\": \"LN_IC50\",\n      \"properties\": {\n        \"dtype\": \"number\",\n        \"std\": 2.6663765367624817,\n        \"min\": -6.008461,\n        \"max\": 8.577464,\n        \"num_unique_values\": 397,\n        \"samples\": [\n          3.708276\n        ],\n        \"semantic_type\": \"\",\n        \"description\": \"\"\n      }\n    },\n    {\n      \"column\": \"SMILES\",\n      \"properties\": {\n        \"dtype\": \"string\",\n        \"num_unique_values\": 225,\n        \"samples\": [\n          \"CC1=CC(=NN1)NC2=CC(=NC(=N2)SC3=CC=C(C=C3)NC(=O)C4CC4)N5CCN(CC5)C\"\n        ],\n        \"semantic_type\": \"\",\n        \"description\": \"\"\n      }\n    }\n  ]\n}"
            }
          },
          "metadata": {},
          "execution_count": 12
        }
      ],
      "source": [
        "import pubchempy as pcp\n",
        "import pandas as pd\n",
        "\n",
        "def get_canonical_smiles(drug_name):\n",
        "  \"\"\"Retrieves the canonical SMILES for a drug name from PubChem.\n",
        "\n",
        "  Args:\n",
        "    drug_name: The name of the drug.\n",
        "\n",
        "  Returns:\n",
        "    The canonical SMILES string or None if not found.\n",
        "  \"\"\"\n",
        "  try:\n",
        "    compound = pcp.get_compounds(drug_name, 'name')[0]\n",
        "    return compound.canonical_smiles\n",
        "  except (IndexError, pcp.PubChemPyError):\n",
        "    return None\n",
        "\n",
        "# Apply the function to the 'DRUG_NAME' column and create a new 'SMILES' column\n",
        "df_filtered_2['SMILES'] = df_filtered_2['DRUG_NAME'].apply(get_canonical_smiles)\n",
        "\n",
        "df_filtered_2"
      ]
    },
    {
      "cell_type": "code",
      "execution_count": 13,
      "metadata": {
        "id": "27INbNayMRJW"
      },
      "outputs": [],
      "source": [
        "df_filtered_2.dropna(inplace=True)\n",
        "df_filtered_2.drop_duplicates(inplace=True)"
      ]
    },
    {
      "cell_type": "code",
      "execution_count": 14,
      "metadata": {
        "colab": {
          "base_uri": "https://localhost:8080/",
          "height": 444
        },
        "id": "qOkNpxReRITv",
        "outputId": "3c3149fa-90a7-4691-9ddd-175413f28fd3"
      },
      "outputs": [
        {
          "output_type": "execute_result",
          "data": {
            "text/plain": [
              "       CELL_LINE_NAME TCGA_DESC     DRUG_NAME   LN_IC50  \\\n",
              "86           SK-MEL-2      SKCM     Erlotinib  3.394001   \n",
              "474          SK-MEL-2      SKCM     Rapamycin -1.113085   \n",
              "837          SK-MEL-2      SKCM     Sunitinib  4.013588   \n",
              "1234         SK-MEL-2      SKCM    PHA-665752  3.092390   \n",
              "1640         SK-MEL-2      SKCM        MG-132  2.369072   \n",
              "...               ...       ...           ...       ...   \n",
              "329242       SK-MEL-2      SKCM   Refametinib -1.542607   \n",
              "330105       SK-MEL-2      SKCM    Pictilisib  1.439194   \n",
              "330945       SK-MEL-2      SKCM  Pevonedistat -0.809756   \n",
              "331660       SK-MEL-2      SKCM         PFI-3  5.665698   \n",
              "332493       SK-MEL-2      SKCM      I-CBP112  5.864130   \n",
              "\n",
              "                                                   SMILES  \n",
              "86      COCCOC1=C(C=C2C(=C1)C(=NC=N2)NC3=CC=CC(=C3)C#C...  \n",
              "474     CC1CCC2CC(C(=CC=CC=CC(CC(C(=O)C(C(C(=CC(C(=O)C...  \n",
              "837     CCN(CC)CCNC(=O)C1=C(NC(=C1C)C=C2C3=C(C=CC(=C3)...  \n",
              "1234    CC1=C(NC(=C1C(=O)N2CCCC2CN3CCCC3)C)C=C4C5=C(C=...  \n",
              "1640    CC(C)CC(C=O)NC(=O)C(CC(C)C)NC(=O)C(CC(C)C)NC(=...  \n",
              "...                                                   ...  \n",
              "329242  COC1=CC(=C(C(=C1NS(=O)(=O)C2(CC2)CC(CO)O)NC3=C...  \n",
              "330105  CS(=O)(=O)N1CCN(CC1)CC2=CC3=C(S2)C(=NC(=N3)C4=...  \n",
              "330945  C1CC2=CC=CC=C2C1NC3=C4C=CN(C4=NC=N3)C5CC(C(C5)...  \n",
              "331660       C1C2CN(C1CN2C3=CC=CC=N3)C=CC(=O)C4=CC=CC=C4O  \n",
              "332493  CCC(=O)N1CCOC2=C(C1)C=C(C=C2OCC3CCCN(C3)C)C4=C...  \n",
              "\n",
              "[240 rows x 5 columns]"
            ],
            "text/html": [
              "\n",
              "  <div id=\"df-faa77048-92bc-4bd4-9b42-b65e40aa9d8b\" class=\"colab-df-container\">\n",
              "    <div>\n",
              "<style scoped>\n",
              "    .dataframe tbody tr th:only-of-type {\n",
              "        vertical-align: middle;\n",
              "    }\n",
              "\n",
              "    .dataframe tbody tr th {\n",
              "        vertical-align: top;\n",
              "    }\n",
              "\n",
              "    .dataframe thead th {\n",
              "        text-align: right;\n",
              "    }\n",
              "</style>\n",
              "<table border=\"1\" class=\"dataframe\">\n",
              "  <thead>\n",
              "    <tr style=\"text-align: right;\">\n",
              "      <th></th>\n",
              "      <th>CELL_LINE_NAME</th>\n",
              "      <th>TCGA_DESC</th>\n",
              "      <th>DRUG_NAME</th>\n",
              "      <th>LN_IC50</th>\n",
              "      <th>SMILES</th>\n",
              "    </tr>\n",
              "  </thead>\n",
              "  <tbody>\n",
              "    <tr>\n",
              "      <th>86</th>\n",
              "      <td>SK-MEL-2</td>\n",
              "      <td>SKCM</td>\n",
              "      <td>Erlotinib</td>\n",
              "      <td>3.394001</td>\n",
              "      <td>COCCOC1=C(C=C2C(=C1)C(=NC=N2)NC3=CC=CC(=C3)C#C...</td>\n",
              "    </tr>\n",
              "    <tr>\n",
              "      <th>474</th>\n",
              "      <td>SK-MEL-2</td>\n",
              "      <td>SKCM</td>\n",
              "      <td>Rapamycin</td>\n",
              "      <td>-1.113085</td>\n",
              "      <td>CC1CCC2CC(C(=CC=CC=CC(CC(C(=O)C(C(C(=CC(C(=O)C...</td>\n",
              "    </tr>\n",
              "    <tr>\n",
              "      <th>837</th>\n",
              "      <td>SK-MEL-2</td>\n",
              "      <td>SKCM</td>\n",
              "      <td>Sunitinib</td>\n",
              "      <td>4.013588</td>\n",
              "      <td>CCN(CC)CCNC(=O)C1=C(NC(=C1C)C=C2C3=C(C=CC(=C3)...</td>\n",
              "    </tr>\n",
              "    <tr>\n",
              "      <th>1234</th>\n",
              "      <td>SK-MEL-2</td>\n",
              "      <td>SKCM</td>\n",
              "      <td>PHA-665752</td>\n",
              "      <td>3.092390</td>\n",
              "      <td>CC1=C(NC(=C1C(=O)N2CCCC2CN3CCCC3)C)C=C4C5=C(C=...</td>\n",
              "    </tr>\n",
              "    <tr>\n",
              "      <th>1640</th>\n",
              "      <td>SK-MEL-2</td>\n",
              "      <td>SKCM</td>\n",
              "      <td>MG-132</td>\n",
              "      <td>2.369072</td>\n",
              "      <td>CC(C)CC(C=O)NC(=O)C(CC(C)C)NC(=O)C(CC(C)C)NC(=...</td>\n",
              "    </tr>\n",
              "    <tr>\n",
              "      <th>...</th>\n",
              "      <td>...</td>\n",
              "      <td>...</td>\n",
              "      <td>...</td>\n",
              "      <td>...</td>\n",
              "      <td>...</td>\n",
              "    </tr>\n",
              "    <tr>\n",
              "      <th>329242</th>\n",
              "      <td>SK-MEL-2</td>\n",
              "      <td>SKCM</td>\n",
              "      <td>Refametinib</td>\n",
              "      <td>-1.542607</td>\n",
              "      <td>COC1=CC(=C(C(=C1NS(=O)(=O)C2(CC2)CC(CO)O)NC3=C...</td>\n",
              "    </tr>\n",
              "    <tr>\n",
              "      <th>330105</th>\n",
              "      <td>SK-MEL-2</td>\n",
              "      <td>SKCM</td>\n",
              "      <td>Pictilisib</td>\n",
              "      <td>1.439194</td>\n",
              "      <td>CS(=O)(=O)N1CCN(CC1)CC2=CC3=C(S2)C(=NC(=N3)C4=...</td>\n",
              "    </tr>\n",
              "    <tr>\n",
              "      <th>330945</th>\n",
              "      <td>SK-MEL-2</td>\n",
              "      <td>SKCM</td>\n",
              "      <td>Pevonedistat</td>\n",
              "      <td>-0.809756</td>\n",
              "      <td>C1CC2=CC=CC=C2C1NC3=C4C=CN(C4=NC=N3)C5CC(C(C5)...</td>\n",
              "    </tr>\n",
              "    <tr>\n",
              "      <th>331660</th>\n",
              "      <td>SK-MEL-2</td>\n",
              "      <td>SKCM</td>\n",
              "      <td>PFI-3</td>\n",
              "      <td>5.665698</td>\n",
              "      <td>C1C2CN(C1CN2C3=CC=CC=N3)C=CC(=O)C4=CC=CC=C4O</td>\n",
              "    </tr>\n",
              "    <tr>\n",
              "      <th>332493</th>\n",
              "      <td>SK-MEL-2</td>\n",
              "      <td>SKCM</td>\n",
              "      <td>I-CBP112</td>\n",
              "      <td>5.864130</td>\n",
              "      <td>CCC(=O)N1CCOC2=C(C1)C=C(C=C2OCC3CCCN(C3)C)C4=C...</td>\n",
              "    </tr>\n",
              "  </tbody>\n",
              "</table>\n",
              "<p>240 rows × 5 columns</p>\n",
              "</div>\n",
              "    <div class=\"colab-df-buttons\">\n",
              "\n",
              "  <div class=\"colab-df-container\">\n",
              "    <button class=\"colab-df-convert\" onclick=\"convertToInteractive('df-faa77048-92bc-4bd4-9b42-b65e40aa9d8b')\"\n",
              "            title=\"Convert this dataframe to an interactive table.\"\n",
              "            style=\"display:none;\">\n",
              "\n",
              "  <svg xmlns=\"http://www.w3.org/2000/svg\" height=\"24px\" viewBox=\"0 -960 960 960\">\n",
              "    <path d=\"M120-120v-720h720v720H120Zm60-500h600v-160H180v160Zm220 220h160v-160H400v160Zm0 220h160v-160H400v160ZM180-400h160v-160H180v160Zm440 0h160v-160H620v160ZM180-180h160v-160H180v160Zm440 0h160v-160H620v160Z\"/>\n",
              "  </svg>\n",
              "    </button>\n",
              "\n",
              "  <style>\n",
              "    .colab-df-container {\n",
              "      display:flex;\n",
              "      gap: 12px;\n",
              "    }\n",
              "\n",
              "    .colab-df-convert {\n",
              "      background-color: #E8F0FE;\n",
              "      border: none;\n",
              "      border-radius: 50%;\n",
              "      cursor: pointer;\n",
              "      display: none;\n",
              "      fill: #1967D2;\n",
              "      height: 32px;\n",
              "      padding: 0 0 0 0;\n",
              "      width: 32px;\n",
              "    }\n",
              "\n",
              "    .colab-df-convert:hover {\n",
              "      background-color: #E2EBFA;\n",
              "      box-shadow: 0px 1px 2px rgba(60, 64, 67, 0.3), 0px 1px 3px 1px rgba(60, 64, 67, 0.15);\n",
              "      fill: #174EA6;\n",
              "    }\n",
              "\n",
              "    .colab-df-buttons div {\n",
              "      margin-bottom: 4px;\n",
              "    }\n",
              "\n",
              "    [theme=dark] .colab-df-convert {\n",
              "      background-color: #3B4455;\n",
              "      fill: #D2E3FC;\n",
              "    }\n",
              "\n",
              "    [theme=dark] .colab-df-convert:hover {\n",
              "      background-color: #434B5C;\n",
              "      box-shadow: 0px 1px 3px 1px rgba(0, 0, 0, 0.15);\n",
              "      filter: drop-shadow(0px 1px 2px rgba(0, 0, 0, 0.3));\n",
              "      fill: #FFFFFF;\n",
              "    }\n",
              "  </style>\n",
              "\n",
              "    <script>\n",
              "      const buttonEl =\n",
              "        document.querySelector('#df-faa77048-92bc-4bd4-9b42-b65e40aa9d8b button.colab-df-convert');\n",
              "      buttonEl.style.display =\n",
              "        google.colab.kernel.accessAllowed ? 'block' : 'none';\n",
              "\n",
              "      async function convertToInteractive(key) {\n",
              "        const element = document.querySelector('#df-faa77048-92bc-4bd4-9b42-b65e40aa9d8b');\n",
              "        const dataTable =\n",
              "          await google.colab.kernel.invokeFunction('convertToInteractive',\n",
              "                                                    [key], {});\n",
              "        if (!dataTable) return;\n",
              "\n",
              "        const docLinkHtml = 'Like what you see? Visit the ' +\n",
              "          '<a target=\"_blank\" href=https://colab.research.google.com/notebooks/data_table.ipynb>data table notebook</a>'\n",
              "          + ' to learn more about interactive tables.';\n",
              "        element.innerHTML = '';\n",
              "        dataTable['output_type'] = 'display_data';\n",
              "        await google.colab.output.renderOutput(dataTable, element);\n",
              "        const docLink = document.createElement('div');\n",
              "        docLink.innerHTML = docLinkHtml;\n",
              "        element.appendChild(docLink);\n",
              "      }\n",
              "    </script>\n",
              "  </div>\n",
              "\n",
              "\n",
              "<div id=\"df-8e8175cf-6a31-47c6-bc13-5f8d5dce40b5\">\n",
              "  <button class=\"colab-df-quickchart\" onclick=\"quickchart('df-8e8175cf-6a31-47c6-bc13-5f8d5dce40b5')\"\n",
              "            title=\"Suggest charts\"\n",
              "            style=\"display:none;\">\n",
              "\n",
              "<svg xmlns=\"http://www.w3.org/2000/svg\" height=\"24px\"viewBox=\"0 0 24 24\"\n",
              "     width=\"24px\">\n",
              "    <g>\n",
              "        <path d=\"M19 3H5c-1.1 0-2 .9-2 2v14c0 1.1.9 2 2 2h14c1.1 0 2-.9 2-2V5c0-1.1-.9-2-2-2zM9 17H7v-7h2v7zm4 0h-2V7h2v10zm4 0h-2v-4h2v4z\"/>\n",
              "    </g>\n",
              "</svg>\n",
              "  </button>\n",
              "\n",
              "<style>\n",
              "  .colab-df-quickchart {\n",
              "      --bg-color: #E8F0FE;\n",
              "      --fill-color: #1967D2;\n",
              "      --hover-bg-color: #E2EBFA;\n",
              "      --hover-fill-color: #174EA6;\n",
              "      --disabled-fill-color: #AAA;\n",
              "      --disabled-bg-color: #DDD;\n",
              "  }\n",
              "\n",
              "  [theme=dark] .colab-df-quickchart {\n",
              "      --bg-color: #3B4455;\n",
              "      --fill-color: #D2E3FC;\n",
              "      --hover-bg-color: #434B5C;\n",
              "      --hover-fill-color: #FFFFFF;\n",
              "      --disabled-bg-color: #3B4455;\n",
              "      --disabled-fill-color: #666;\n",
              "  }\n",
              "\n",
              "  .colab-df-quickchart {\n",
              "    background-color: var(--bg-color);\n",
              "    border: none;\n",
              "    border-radius: 50%;\n",
              "    cursor: pointer;\n",
              "    display: none;\n",
              "    fill: var(--fill-color);\n",
              "    height: 32px;\n",
              "    padding: 0;\n",
              "    width: 32px;\n",
              "  }\n",
              "\n",
              "  .colab-df-quickchart:hover {\n",
              "    background-color: var(--hover-bg-color);\n",
              "    box-shadow: 0 1px 2px rgba(60, 64, 67, 0.3), 0 1px 3px 1px rgba(60, 64, 67, 0.15);\n",
              "    fill: var(--button-hover-fill-color);\n",
              "  }\n",
              "\n",
              "  .colab-df-quickchart-complete:disabled,\n",
              "  .colab-df-quickchart-complete:disabled:hover {\n",
              "    background-color: var(--disabled-bg-color);\n",
              "    fill: var(--disabled-fill-color);\n",
              "    box-shadow: none;\n",
              "  }\n",
              "\n",
              "  .colab-df-spinner {\n",
              "    border: 2px solid var(--fill-color);\n",
              "    border-color: transparent;\n",
              "    border-bottom-color: var(--fill-color);\n",
              "    animation:\n",
              "      spin 1s steps(1) infinite;\n",
              "  }\n",
              "\n",
              "  @keyframes spin {\n",
              "    0% {\n",
              "      border-color: transparent;\n",
              "      border-bottom-color: var(--fill-color);\n",
              "      border-left-color: var(--fill-color);\n",
              "    }\n",
              "    20% {\n",
              "      border-color: transparent;\n",
              "      border-left-color: var(--fill-color);\n",
              "      border-top-color: var(--fill-color);\n",
              "    }\n",
              "    30% {\n",
              "      border-color: transparent;\n",
              "      border-left-color: var(--fill-color);\n",
              "      border-top-color: var(--fill-color);\n",
              "      border-right-color: var(--fill-color);\n",
              "    }\n",
              "    40% {\n",
              "      border-color: transparent;\n",
              "      border-right-color: var(--fill-color);\n",
              "      border-top-color: var(--fill-color);\n",
              "    }\n",
              "    60% {\n",
              "      border-color: transparent;\n",
              "      border-right-color: var(--fill-color);\n",
              "    }\n",
              "    80% {\n",
              "      border-color: transparent;\n",
              "      border-right-color: var(--fill-color);\n",
              "      border-bottom-color: var(--fill-color);\n",
              "    }\n",
              "    90% {\n",
              "      border-color: transparent;\n",
              "      border-bottom-color: var(--fill-color);\n",
              "    }\n",
              "  }\n",
              "</style>\n",
              "\n",
              "  <script>\n",
              "    async function quickchart(key) {\n",
              "      const quickchartButtonEl =\n",
              "        document.querySelector('#' + key + ' button');\n",
              "      quickchartButtonEl.disabled = true;  // To prevent multiple clicks.\n",
              "      quickchartButtonEl.classList.add('colab-df-spinner');\n",
              "      try {\n",
              "        const charts = await google.colab.kernel.invokeFunction(\n",
              "            'suggestCharts', [key], {});\n",
              "      } catch (error) {\n",
              "        console.error('Error during call to suggestCharts:', error);\n",
              "      }\n",
              "      quickchartButtonEl.classList.remove('colab-df-spinner');\n",
              "      quickchartButtonEl.classList.add('colab-df-quickchart-complete');\n",
              "    }\n",
              "    (() => {\n",
              "      let quickchartButtonEl =\n",
              "        document.querySelector('#df-8e8175cf-6a31-47c6-bc13-5f8d5dce40b5 button');\n",
              "      quickchartButtonEl.style.display =\n",
              "        google.colab.kernel.accessAllowed ? 'block' : 'none';\n",
              "    })();\n",
              "  </script>\n",
              "</div>\n",
              "\n",
              "  <div id=\"id_102e2255-c292-4bf9-8594-82b07a51bfdf\">\n",
              "    <style>\n",
              "      .colab-df-generate {\n",
              "        background-color: #E8F0FE;\n",
              "        border: none;\n",
              "        border-radius: 50%;\n",
              "        cursor: pointer;\n",
              "        display: none;\n",
              "        fill: #1967D2;\n",
              "        height: 32px;\n",
              "        padding: 0 0 0 0;\n",
              "        width: 32px;\n",
              "      }\n",
              "\n",
              "      .colab-df-generate:hover {\n",
              "        background-color: #E2EBFA;\n",
              "        box-shadow: 0px 1px 2px rgba(60, 64, 67, 0.3), 0px 1px 3px 1px rgba(60, 64, 67, 0.15);\n",
              "        fill: #174EA6;\n",
              "      }\n",
              "\n",
              "      [theme=dark] .colab-df-generate {\n",
              "        background-color: #3B4455;\n",
              "        fill: #D2E3FC;\n",
              "      }\n",
              "\n",
              "      [theme=dark] .colab-df-generate:hover {\n",
              "        background-color: #434B5C;\n",
              "        box-shadow: 0px 1px 3px 1px rgba(0, 0, 0, 0.15);\n",
              "        filter: drop-shadow(0px 1px 2px rgba(0, 0, 0, 0.3));\n",
              "        fill: #FFFFFF;\n",
              "      }\n",
              "    </style>\n",
              "    <button class=\"colab-df-generate\" onclick=\"generateWithVariable('df_filtered_2')\"\n",
              "            title=\"Generate code using this dataframe.\"\n",
              "            style=\"display:none;\">\n",
              "\n",
              "  <svg xmlns=\"http://www.w3.org/2000/svg\" height=\"24px\"viewBox=\"0 0 24 24\"\n",
              "       width=\"24px\">\n",
              "    <path d=\"M7,19H8.4L18.45,9,17,7.55,7,17.6ZM5,21V16.75L18.45,3.32a2,2,0,0,1,2.83,0l1.4,1.43a1.91,1.91,0,0,1,.58,1.4,1.91,1.91,0,0,1-.58,1.4L9.25,21ZM18.45,9,17,7.55Zm-12,3A5.31,5.31,0,0,0,4.9,8.1,5.31,5.31,0,0,0,1,6.5,5.31,5.31,0,0,0,4.9,4.9,5.31,5.31,0,0,0,6.5,1,5.31,5.31,0,0,0,8.1,4.9,5.31,5.31,0,0,0,12,6.5,5.46,5.46,0,0,0,6.5,12Z\"/>\n",
              "  </svg>\n",
              "    </button>\n",
              "    <script>\n",
              "      (() => {\n",
              "      const buttonEl =\n",
              "        document.querySelector('#id_102e2255-c292-4bf9-8594-82b07a51bfdf button.colab-df-generate');\n",
              "      buttonEl.style.display =\n",
              "        google.colab.kernel.accessAllowed ? 'block' : 'none';\n",
              "\n",
              "      buttonEl.onclick = () => {\n",
              "        google.colab.notebook.generateWithVariable('df_filtered_2');\n",
              "      }\n",
              "      })();\n",
              "    </script>\n",
              "  </div>\n",
              "\n",
              "    </div>\n",
              "  </div>\n"
            ],
            "application/vnd.google.colaboratory.intrinsic+json": {
              "type": "dataframe",
              "variable_name": "df_filtered_2",
              "summary": "{\n  \"name\": \"df_filtered_2\",\n  \"rows\": 240,\n  \"fields\": [\n    {\n      \"column\": \"CELL_LINE_NAME\",\n      \"properties\": {\n        \"dtype\": \"category\",\n        \"num_unique_values\": 1,\n        \"samples\": [\n          \"SK-MEL-2\"\n        ],\n        \"semantic_type\": \"\",\n        \"description\": \"\"\n      }\n    },\n    {\n      \"column\": \"TCGA_DESC\",\n      \"properties\": {\n        \"dtype\": \"category\",\n        \"num_unique_values\": 1,\n        \"samples\": [\n          \"SKCM\"\n        ],\n        \"semantic_type\": \"\",\n        \"description\": \"\"\n      }\n    },\n    {\n      \"column\": \"DRUG_NAME\",\n      \"properties\": {\n        \"dtype\": \"string\",\n        \"num_unique_values\": 226,\n        \"samples\": [\n          \"Tozasertib\"\n        ],\n        \"semantic_type\": \"\",\n        \"description\": \"\"\n      }\n    },\n    {\n      \"column\": \"LN_IC50\",\n      \"properties\": {\n        \"dtype\": \"number\",\n        \"std\": 2.8471724948526607,\n        \"min\": -6.008461,\n        \"max\": 8.206035,\n        \"num_unique_values\": 238,\n        \"samples\": [\n          4.699559\n        ],\n        \"semantic_type\": \"\",\n        \"description\": \"\"\n      }\n    },\n    {\n      \"column\": \"SMILES\",\n      \"properties\": {\n        \"dtype\": \"string\",\n        \"num_unique_values\": 225,\n        \"samples\": [\n          \"CC1=CC(=NN1)NC2=CC(=NC(=N2)SC3=CC=C(C=C3)NC(=O)C4CC4)N5CCN(CC5)C\"\n        ],\n        \"semantic_type\": \"\",\n        \"description\": \"\"\n      }\n    }\n  ]\n}"
            }
          },
          "metadata": {},
          "execution_count": 14
        }
      ],
      "source": [
        "df_filtered_2"
      ]
    },
    {
      "cell_type": "code",
      "execution_count": 15,
      "metadata": {
        "colab": {
          "base_uri": "https://localhost:8080/"
        },
        "id": "h1UEhCGsRV43",
        "outputId": "96b13325-4734-49e3-9287-d306e3f561c8"
      },
      "outputs": [
        {
          "output_type": "stream",
          "name": "stdout",
          "text": [
            "Requirement already satisfied: rdkit in /usr/local/lib/python3.10/dist-packages (2024.3.5)\n",
            "Requirement already satisfied: numpy in /usr/local/lib/python3.10/dist-packages (from rdkit) (1.26.4)\n",
            "Requirement already satisfied: Pillow in /usr/local/lib/python3.10/dist-packages (from rdkit) (10.4.0)\n"
          ]
        }
      ],
      "source": [
        "!pip install rdkit"
      ]
    },
    {
      "cell_type": "code",
      "execution_count": 16,
      "metadata": {
        "id": "Kh_wpduMRZXi"
      },
      "outputs": [],
      "source": [
        "# run lipinski\n",
        "from rdkit import Chem\n",
        "from rdkit.Chem import Descriptors, Lipinski\n",
        "\n",
        "def lipinski_rule(smiles):\n",
        "  mol = Chem.MolFromSmiles(smiles)\n",
        "  if mol:\n",
        "    return [Descriptors.MolWt(mol),\n",
        "            Descriptors.MolLogP(mol),\n",
        "            Descriptors.NumHDonors(mol),\n",
        "            Descriptors.NumHAcceptors(mol)]\n",
        "  else:\n",
        "    return [None, None, None, None]\n",
        "\n",
        "df_lipinski = df_filtered_2['SMILES'].apply(lipinski_rule).apply(pd.Series)\n",
        "df_lipinski.columns = ['MW', 'LogP', 'HDon', 'HAcc']"
      ]
    },
    {
      "cell_type": "code",
      "execution_count": 17,
      "metadata": {
        "colab": {
          "base_uri": "https://localhost:8080/",
          "height": 424
        },
        "id": "f484-6G2RdgJ",
        "outputId": "4e060702-6306-4282-b47e-cc663d1672d1"
      },
      "outputs": [
        {
          "output_type": "execute_result",
          "data": {
            "text/plain": [
              "             MW     LogP  HDon  HAcc\n",
              "86      393.443  3.40510   1.0   7.0\n",
              "474     914.187  6.18060   3.0  13.0\n",
              "837     398.482  3.33494   3.0   3.0\n",
              "1234    641.621  6.10534   2.0   5.0\n",
              "1640    475.630  3.58820   3.0   5.0\n",
              "...         ...      ...   ...   ...\n",
              "329242  572.343  3.47830   4.0   6.0\n",
              "330105  513.649  2.14840   1.0   9.0\n",
              "330945  443.529  2.06280   3.0   8.0\n",
              "331660  321.380  2.44670   1.0   5.0\n",
              "332493  468.594  4.22240   0.0   6.0\n",
              "\n",
              "[240 rows x 4 columns]"
            ],
            "text/html": [
              "\n",
              "  <div id=\"df-29a5235c-c4ae-4fee-af18-4fe9517275e0\" class=\"colab-df-container\">\n",
              "    <div>\n",
              "<style scoped>\n",
              "    .dataframe tbody tr th:only-of-type {\n",
              "        vertical-align: middle;\n",
              "    }\n",
              "\n",
              "    .dataframe tbody tr th {\n",
              "        vertical-align: top;\n",
              "    }\n",
              "\n",
              "    .dataframe thead th {\n",
              "        text-align: right;\n",
              "    }\n",
              "</style>\n",
              "<table border=\"1\" class=\"dataframe\">\n",
              "  <thead>\n",
              "    <tr style=\"text-align: right;\">\n",
              "      <th></th>\n",
              "      <th>MW</th>\n",
              "      <th>LogP</th>\n",
              "      <th>HDon</th>\n",
              "      <th>HAcc</th>\n",
              "    </tr>\n",
              "  </thead>\n",
              "  <tbody>\n",
              "    <tr>\n",
              "      <th>86</th>\n",
              "      <td>393.443</td>\n",
              "      <td>3.40510</td>\n",
              "      <td>1.0</td>\n",
              "      <td>7.0</td>\n",
              "    </tr>\n",
              "    <tr>\n",
              "      <th>474</th>\n",
              "      <td>914.187</td>\n",
              "      <td>6.18060</td>\n",
              "      <td>3.0</td>\n",
              "      <td>13.0</td>\n",
              "    </tr>\n",
              "    <tr>\n",
              "      <th>837</th>\n",
              "      <td>398.482</td>\n",
              "      <td>3.33494</td>\n",
              "      <td>3.0</td>\n",
              "      <td>3.0</td>\n",
              "    </tr>\n",
              "    <tr>\n",
              "      <th>1234</th>\n",
              "      <td>641.621</td>\n",
              "      <td>6.10534</td>\n",
              "      <td>2.0</td>\n",
              "      <td>5.0</td>\n",
              "    </tr>\n",
              "    <tr>\n",
              "      <th>1640</th>\n",
              "      <td>475.630</td>\n",
              "      <td>3.58820</td>\n",
              "      <td>3.0</td>\n",
              "      <td>5.0</td>\n",
              "    </tr>\n",
              "    <tr>\n",
              "      <th>...</th>\n",
              "      <td>...</td>\n",
              "      <td>...</td>\n",
              "      <td>...</td>\n",
              "      <td>...</td>\n",
              "    </tr>\n",
              "    <tr>\n",
              "      <th>329242</th>\n",
              "      <td>572.343</td>\n",
              "      <td>3.47830</td>\n",
              "      <td>4.0</td>\n",
              "      <td>6.0</td>\n",
              "    </tr>\n",
              "    <tr>\n",
              "      <th>330105</th>\n",
              "      <td>513.649</td>\n",
              "      <td>2.14840</td>\n",
              "      <td>1.0</td>\n",
              "      <td>9.0</td>\n",
              "    </tr>\n",
              "    <tr>\n",
              "      <th>330945</th>\n",
              "      <td>443.529</td>\n",
              "      <td>2.06280</td>\n",
              "      <td>3.0</td>\n",
              "      <td>8.0</td>\n",
              "    </tr>\n",
              "    <tr>\n",
              "      <th>331660</th>\n",
              "      <td>321.380</td>\n",
              "      <td>2.44670</td>\n",
              "      <td>1.0</td>\n",
              "      <td>5.0</td>\n",
              "    </tr>\n",
              "    <tr>\n",
              "      <th>332493</th>\n",
              "      <td>468.594</td>\n",
              "      <td>4.22240</td>\n",
              "      <td>0.0</td>\n",
              "      <td>6.0</td>\n",
              "    </tr>\n",
              "  </tbody>\n",
              "</table>\n",
              "<p>240 rows × 4 columns</p>\n",
              "</div>\n",
              "    <div class=\"colab-df-buttons\">\n",
              "\n",
              "  <div class=\"colab-df-container\">\n",
              "    <button class=\"colab-df-convert\" onclick=\"convertToInteractive('df-29a5235c-c4ae-4fee-af18-4fe9517275e0')\"\n",
              "            title=\"Convert this dataframe to an interactive table.\"\n",
              "            style=\"display:none;\">\n",
              "\n",
              "  <svg xmlns=\"http://www.w3.org/2000/svg\" height=\"24px\" viewBox=\"0 -960 960 960\">\n",
              "    <path d=\"M120-120v-720h720v720H120Zm60-500h600v-160H180v160Zm220 220h160v-160H400v160Zm0 220h160v-160H400v160ZM180-400h160v-160H180v160Zm440 0h160v-160H620v160ZM180-180h160v-160H180v160Zm440 0h160v-160H620v160Z\"/>\n",
              "  </svg>\n",
              "    </button>\n",
              "\n",
              "  <style>\n",
              "    .colab-df-container {\n",
              "      display:flex;\n",
              "      gap: 12px;\n",
              "    }\n",
              "\n",
              "    .colab-df-convert {\n",
              "      background-color: #E8F0FE;\n",
              "      border: none;\n",
              "      border-radius: 50%;\n",
              "      cursor: pointer;\n",
              "      display: none;\n",
              "      fill: #1967D2;\n",
              "      height: 32px;\n",
              "      padding: 0 0 0 0;\n",
              "      width: 32px;\n",
              "    }\n",
              "\n",
              "    .colab-df-convert:hover {\n",
              "      background-color: #E2EBFA;\n",
              "      box-shadow: 0px 1px 2px rgba(60, 64, 67, 0.3), 0px 1px 3px 1px rgba(60, 64, 67, 0.15);\n",
              "      fill: #174EA6;\n",
              "    }\n",
              "\n",
              "    .colab-df-buttons div {\n",
              "      margin-bottom: 4px;\n",
              "    }\n",
              "\n",
              "    [theme=dark] .colab-df-convert {\n",
              "      background-color: #3B4455;\n",
              "      fill: #D2E3FC;\n",
              "    }\n",
              "\n",
              "    [theme=dark] .colab-df-convert:hover {\n",
              "      background-color: #434B5C;\n",
              "      box-shadow: 0px 1px 3px 1px rgba(0, 0, 0, 0.15);\n",
              "      filter: drop-shadow(0px 1px 2px rgba(0, 0, 0, 0.3));\n",
              "      fill: #FFFFFF;\n",
              "    }\n",
              "  </style>\n",
              "\n",
              "    <script>\n",
              "      const buttonEl =\n",
              "        document.querySelector('#df-29a5235c-c4ae-4fee-af18-4fe9517275e0 button.colab-df-convert');\n",
              "      buttonEl.style.display =\n",
              "        google.colab.kernel.accessAllowed ? 'block' : 'none';\n",
              "\n",
              "      async function convertToInteractive(key) {\n",
              "        const element = document.querySelector('#df-29a5235c-c4ae-4fee-af18-4fe9517275e0');\n",
              "        const dataTable =\n",
              "          await google.colab.kernel.invokeFunction('convertToInteractive',\n",
              "                                                    [key], {});\n",
              "        if (!dataTable) return;\n",
              "\n",
              "        const docLinkHtml = 'Like what you see? Visit the ' +\n",
              "          '<a target=\"_blank\" href=https://colab.research.google.com/notebooks/data_table.ipynb>data table notebook</a>'\n",
              "          + ' to learn more about interactive tables.';\n",
              "        element.innerHTML = '';\n",
              "        dataTable['output_type'] = 'display_data';\n",
              "        await google.colab.output.renderOutput(dataTable, element);\n",
              "        const docLink = document.createElement('div');\n",
              "        docLink.innerHTML = docLinkHtml;\n",
              "        element.appendChild(docLink);\n",
              "      }\n",
              "    </script>\n",
              "  </div>\n",
              "\n",
              "\n",
              "<div id=\"df-60119521-8cc0-4048-b4f2-de48db7b34db\">\n",
              "  <button class=\"colab-df-quickchart\" onclick=\"quickchart('df-60119521-8cc0-4048-b4f2-de48db7b34db')\"\n",
              "            title=\"Suggest charts\"\n",
              "            style=\"display:none;\">\n",
              "\n",
              "<svg xmlns=\"http://www.w3.org/2000/svg\" height=\"24px\"viewBox=\"0 0 24 24\"\n",
              "     width=\"24px\">\n",
              "    <g>\n",
              "        <path d=\"M19 3H5c-1.1 0-2 .9-2 2v14c0 1.1.9 2 2 2h14c1.1 0 2-.9 2-2V5c0-1.1-.9-2-2-2zM9 17H7v-7h2v7zm4 0h-2V7h2v10zm4 0h-2v-4h2v4z\"/>\n",
              "    </g>\n",
              "</svg>\n",
              "  </button>\n",
              "\n",
              "<style>\n",
              "  .colab-df-quickchart {\n",
              "      --bg-color: #E8F0FE;\n",
              "      --fill-color: #1967D2;\n",
              "      --hover-bg-color: #E2EBFA;\n",
              "      --hover-fill-color: #174EA6;\n",
              "      --disabled-fill-color: #AAA;\n",
              "      --disabled-bg-color: #DDD;\n",
              "  }\n",
              "\n",
              "  [theme=dark] .colab-df-quickchart {\n",
              "      --bg-color: #3B4455;\n",
              "      --fill-color: #D2E3FC;\n",
              "      --hover-bg-color: #434B5C;\n",
              "      --hover-fill-color: #FFFFFF;\n",
              "      --disabled-bg-color: #3B4455;\n",
              "      --disabled-fill-color: #666;\n",
              "  }\n",
              "\n",
              "  .colab-df-quickchart {\n",
              "    background-color: var(--bg-color);\n",
              "    border: none;\n",
              "    border-radius: 50%;\n",
              "    cursor: pointer;\n",
              "    display: none;\n",
              "    fill: var(--fill-color);\n",
              "    height: 32px;\n",
              "    padding: 0;\n",
              "    width: 32px;\n",
              "  }\n",
              "\n",
              "  .colab-df-quickchart:hover {\n",
              "    background-color: var(--hover-bg-color);\n",
              "    box-shadow: 0 1px 2px rgba(60, 64, 67, 0.3), 0 1px 3px 1px rgba(60, 64, 67, 0.15);\n",
              "    fill: var(--button-hover-fill-color);\n",
              "  }\n",
              "\n",
              "  .colab-df-quickchart-complete:disabled,\n",
              "  .colab-df-quickchart-complete:disabled:hover {\n",
              "    background-color: var(--disabled-bg-color);\n",
              "    fill: var(--disabled-fill-color);\n",
              "    box-shadow: none;\n",
              "  }\n",
              "\n",
              "  .colab-df-spinner {\n",
              "    border: 2px solid var(--fill-color);\n",
              "    border-color: transparent;\n",
              "    border-bottom-color: var(--fill-color);\n",
              "    animation:\n",
              "      spin 1s steps(1) infinite;\n",
              "  }\n",
              "\n",
              "  @keyframes spin {\n",
              "    0% {\n",
              "      border-color: transparent;\n",
              "      border-bottom-color: var(--fill-color);\n",
              "      border-left-color: var(--fill-color);\n",
              "    }\n",
              "    20% {\n",
              "      border-color: transparent;\n",
              "      border-left-color: var(--fill-color);\n",
              "      border-top-color: var(--fill-color);\n",
              "    }\n",
              "    30% {\n",
              "      border-color: transparent;\n",
              "      border-left-color: var(--fill-color);\n",
              "      border-top-color: var(--fill-color);\n",
              "      border-right-color: var(--fill-color);\n",
              "    }\n",
              "    40% {\n",
              "      border-color: transparent;\n",
              "      border-right-color: var(--fill-color);\n",
              "      border-top-color: var(--fill-color);\n",
              "    }\n",
              "    60% {\n",
              "      border-color: transparent;\n",
              "      border-right-color: var(--fill-color);\n",
              "    }\n",
              "    80% {\n",
              "      border-color: transparent;\n",
              "      border-right-color: var(--fill-color);\n",
              "      border-bottom-color: var(--fill-color);\n",
              "    }\n",
              "    90% {\n",
              "      border-color: transparent;\n",
              "      border-bottom-color: var(--fill-color);\n",
              "    }\n",
              "  }\n",
              "</style>\n",
              "\n",
              "  <script>\n",
              "    async function quickchart(key) {\n",
              "      const quickchartButtonEl =\n",
              "        document.querySelector('#' + key + ' button');\n",
              "      quickchartButtonEl.disabled = true;  // To prevent multiple clicks.\n",
              "      quickchartButtonEl.classList.add('colab-df-spinner');\n",
              "      try {\n",
              "        const charts = await google.colab.kernel.invokeFunction(\n",
              "            'suggestCharts', [key], {});\n",
              "      } catch (error) {\n",
              "        console.error('Error during call to suggestCharts:', error);\n",
              "      }\n",
              "      quickchartButtonEl.classList.remove('colab-df-spinner');\n",
              "      quickchartButtonEl.classList.add('colab-df-quickchart-complete');\n",
              "    }\n",
              "    (() => {\n",
              "      let quickchartButtonEl =\n",
              "        document.querySelector('#df-60119521-8cc0-4048-b4f2-de48db7b34db button');\n",
              "      quickchartButtonEl.style.display =\n",
              "        google.colab.kernel.accessAllowed ? 'block' : 'none';\n",
              "    })();\n",
              "  </script>\n",
              "</div>\n",
              "\n",
              "  <div id=\"id_80b4a44b-deda-415e-b091-17f835193dd1\">\n",
              "    <style>\n",
              "      .colab-df-generate {\n",
              "        background-color: #E8F0FE;\n",
              "        border: none;\n",
              "        border-radius: 50%;\n",
              "        cursor: pointer;\n",
              "        display: none;\n",
              "        fill: #1967D2;\n",
              "        height: 32px;\n",
              "        padding: 0 0 0 0;\n",
              "        width: 32px;\n",
              "      }\n",
              "\n",
              "      .colab-df-generate:hover {\n",
              "        background-color: #E2EBFA;\n",
              "        box-shadow: 0px 1px 2px rgba(60, 64, 67, 0.3), 0px 1px 3px 1px rgba(60, 64, 67, 0.15);\n",
              "        fill: #174EA6;\n",
              "      }\n",
              "\n",
              "      [theme=dark] .colab-df-generate {\n",
              "        background-color: #3B4455;\n",
              "        fill: #D2E3FC;\n",
              "      }\n",
              "\n",
              "      [theme=dark] .colab-df-generate:hover {\n",
              "        background-color: #434B5C;\n",
              "        box-shadow: 0px 1px 3px 1px rgba(0, 0, 0, 0.15);\n",
              "        filter: drop-shadow(0px 1px 2px rgba(0, 0, 0, 0.3));\n",
              "        fill: #FFFFFF;\n",
              "      }\n",
              "    </style>\n",
              "    <button class=\"colab-df-generate\" onclick=\"generateWithVariable('df_lipinski')\"\n",
              "            title=\"Generate code using this dataframe.\"\n",
              "            style=\"display:none;\">\n",
              "\n",
              "  <svg xmlns=\"http://www.w3.org/2000/svg\" height=\"24px\"viewBox=\"0 0 24 24\"\n",
              "       width=\"24px\">\n",
              "    <path d=\"M7,19H8.4L18.45,9,17,7.55,7,17.6ZM5,21V16.75L18.45,3.32a2,2,0,0,1,2.83,0l1.4,1.43a1.91,1.91,0,0,1,.58,1.4,1.91,1.91,0,0,1-.58,1.4L9.25,21ZM18.45,9,17,7.55Zm-12,3A5.31,5.31,0,0,0,4.9,8.1,5.31,5.31,0,0,0,1,6.5,5.31,5.31,0,0,0,4.9,4.9,5.31,5.31,0,0,0,6.5,1,5.31,5.31,0,0,0,8.1,4.9,5.31,5.31,0,0,0,12,6.5,5.46,5.46,0,0,0,6.5,12Z\"/>\n",
              "  </svg>\n",
              "    </button>\n",
              "    <script>\n",
              "      (() => {\n",
              "      const buttonEl =\n",
              "        document.querySelector('#id_80b4a44b-deda-415e-b091-17f835193dd1 button.colab-df-generate');\n",
              "      buttonEl.style.display =\n",
              "        google.colab.kernel.accessAllowed ? 'block' : 'none';\n",
              "\n",
              "      buttonEl.onclick = () => {\n",
              "        google.colab.notebook.generateWithVariable('df_lipinski');\n",
              "      }\n",
              "      })();\n",
              "    </script>\n",
              "  </div>\n",
              "\n",
              "    </div>\n",
              "  </div>\n"
            ],
            "application/vnd.google.colaboratory.intrinsic+json": {
              "type": "dataframe",
              "variable_name": "df_lipinski",
              "summary": "{\n  \"name\": \"df_lipinski\",\n  \"rows\": 240,\n  \"fields\": [\n    {\n      \"column\": \"MW\",\n      \"properties\": {\n        \"dtype\": \"number\",\n        \"std\": 143.96731893470795,\n        \"min\": 130.07799999999997,\n        \"max\": 1415.5760000000005,\n        \"num_unique_values\": 223,\n        \"samples\": [\n          464.59900000000033,\n          406.44600000000025,\n          518.9320000000002\n        ],\n        \"semantic_type\": \"\",\n        \"description\": \"\"\n      }\n    },\n    {\n      \"column\": \"LogP\",\n      \"properties\": {\n        \"dtype\": \"number\",\n        \"std\": 1.9194707562610656,\n        \"min\": -7.703580000000028,\n        \"max\": 8.833200000000005,\n        \"num_unique_values\": 225,\n        \"samples\": [\n          3.5032200000000016,\n          3.6510000000000025,\n          2.9194000000000013\n        ],\n        \"semantic_type\": \"\",\n        \"description\": \"\"\n      }\n    },\n    {\n      \"column\": \"HDon\",\n      \"properties\": {\n        \"dtype\": \"number\",\n        \"std\": 1.6601826452594406,\n        \"min\": 0.0,\n        \"max\": 20.0,\n        \"num_unique_values\": 8,\n        \"samples\": [\n          3.0,\n          20.0,\n          1.0\n        ],\n        \"semantic_type\": \"\",\n        \"description\": \"\"\n      }\n    },\n    {\n      \"column\": \"HAcc\",\n      \"properties\": {\n        \"dtype\": \"number\",\n        \"std\": 2.9215211643129675,\n        \"min\": 1.0,\n        \"max\": 31.0,\n        \"num_unique_values\": 16,\n        \"samples\": [\n          7.0,\n          13.0,\n          6.0\n        ],\n        \"semantic_type\": \"\",\n        \"description\": \"\"\n      }\n    }\n  ]\n}"
            }
          },
          "metadata": {},
          "execution_count": 17
        }
      ],
      "source": [
        "df_lipinski"
      ]
    },
    {
      "cell_type": "code",
      "execution_count": 18,
      "metadata": {
        "colab": {
          "base_uri": "https://localhost:8080/"
        },
        "id": "qdhxHF-LRjwA",
        "outputId": "1eae27bd-eba3-41b5-a513-c29edaa4a3f1"
      },
      "outputs": [
        {
          "output_type": "stream",
          "name": "stderr",
          "text": [
            "[21:18:06] DEPRECATION WARNING: please use MorganGenerator\n",
            "[21:18:06] DEPRECATION WARNING: please use MorganGenerator\n",
            "[21:18:06] DEPRECATION WARNING: please use MorganGenerator\n",
            "[21:18:06] DEPRECATION WARNING: please use MorganGenerator\n",
            "[21:18:06] DEPRECATION WARNING: please use MorganGenerator\n",
            "[21:18:06] DEPRECATION WARNING: please use MorganGenerator\n",
            "[21:18:06] DEPRECATION WARNING: please use MorganGenerator\n",
            "[21:18:06] DEPRECATION WARNING: please use MorganGenerator\n",
            "[21:18:06] DEPRECATION WARNING: please use MorganGenerator\n",
            "[21:18:06] DEPRECATION WARNING: please use MorganGenerator\n",
            "[21:18:06] DEPRECATION WARNING: please use MorganGenerator\n",
            "[21:18:06] DEPRECATION WARNING: please use MorganGenerator\n",
            "[21:18:06] DEPRECATION WARNING: please use MorganGenerator\n",
            "[21:18:06] DEPRECATION WARNING: please use MorganGenerator\n",
            "[21:18:06] DEPRECATION WARNING: please use MorganGenerator\n",
            "[21:18:06] DEPRECATION WARNING: please use MorganGenerator\n",
            "[21:18:06] DEPRECATION WARNING: please use MorganGenerator\n",
            "[21:18:06] DEPRECATION WARNING: please use MorganGenerator\n",
            "[21:18:06] DEPRECATION WARNING: please use MorganGenerator\n",
            "[21:18:06] DEPRECATION WARNING: please use MorganGenerator\n",
            "[21:18:06] DEPRECATION WARNING: please use MorganGenerator\n",
            "[21:18:06] DEPRECATION WARNING: please use MorganGenerator\n",
            "[21:18:06] DEPRECATION WARNING: please use MorganGenerator\n",
            "[21:18:06] DEPRECATION WARNING: please use MorganGenerator\n",
            "[21:18:06] DEPRECATION WARNING: please use MorganGenerator\n",
            "[21:18:06] DEPRECATION WARNING: please use MorganGenerator\n",
            "[21:18:06] DEPRECATION WARNING: please use MorganGenerator\n",
            "[21:18:06] DEPRECATION WARNING: please use MorganGenerator\n",
            "[21:18:06] DEPRECATION WARNING: please use MorganGenerator\n",
            "[21:18:06] DEPRECATION WARNING: please use MorganGenerator\n",
            "[21:18:06] DEPRECATION WARNING: please use MorganGenerator\n",
            "[21:18:06] DEPRECATION WARNING: please use MorganGenerator\n",
            "[21:18:06] DEPRECATION WARNING: please use MorganGenerator\n",
            "[21:18:06] DEPRECATION WARNING: please use MorganGenerator\n",
            "[21:18:06] DEPRECATION WARNING: please use MorganGenerator\n",
            "[21:18:06] DEPRECATION WARNING: please use MorganGenerator\n",
            "[21:18:06] DEPRECATION WARNING: please use MorganGenerator\n",
            "[21:18:06] DEPRECATION WARNING: please use MorganGenerator\n",
            "[21:18:06] DEPRECATION WARNING: please use MorganGenerator\n",
            "[21:18:06] DEPRECATION WARNING: please use MorganGenerator\n",
            "[21:18:06] DEPRECATION WARNING: please use MorganGenerator\n",
            "[21:18:06] DEPRECATION WARNING: please use MorganGenerator\n",
            "[21:18:06] DEPRECATION WARNING: please use MorganGenerator\n",
            "[21:18:06] DEPRECATION WARNING: please use MorganGenerator\n",
            "[21:18:06] DEPRECATION WARNING: please use MorganGenerator\n",
            "[21:18:06] DEPRECATION WARNING: please use MorganGenerator\n",
            "[21:18:06] DEPRECATION WARNING: please use MorganGenerator\n",
            "[21:18:06] DEPRECATION WARNING: please use MorganGenerator\n",
            "[21:18:06] DEPRECATION WARNING: please use MorganGenerator\n",
            "[21:18:06] DEPRECATION WARNING: please use MorganGenerator\n",
            "[21:18:06] DEPRECATION WARNING: please use MorganGenerator\n",
            "[21:18:06] DEPRECATION WARNING: please use MorganGenerator\n",
            "[21:18:06] DEPRECATION WARNING: please use MorganGenerator\n",
            "[21:18:06] DEPRECATION WARNING: please use MorganGenerator\n",
            "[21:18:06] DEPRECATION WARNING: please use MorganGenerator\n",
            "[21:18:06] DEPRECATION WARNING: please use MorganGenerator\n",
            "[21:18:06] DEPRECATION WARNING: please use MorganGenerator\n",
            "[21:18:06] DEPRECATION WARNING: please use MorganGenerator\n",
            "[21:18:06] DEPRECATION WARNING: please use MorganGenerator\n",
            "[21:18:06] DEPRECATION WARNING: please use MorganGenerator\n",
            "[21:18:06] DEPRECATION WARNING: please use MorganGenerator\n",
            "[21:18:06] DEPRECATION WARNING: please use MorganGenerator\n",
            "[21:18:06] DEPRECATION WARNING: please use MorganGenerator\n",
            "[21:18:06] DEPRECATION WARNING: please use MorganGenerator\n",
            "[21:18:06] DEPRECATION WARNING: please use MorganGenerator\n",
            "[21:18:06] DEPRECATION WARNING: please use MorganGenerator\n",
            "[21:18:06] DEPRECATION WARNING: please use MorganGenerator\n",
            "[21:18:06] DEPRECATION WARNING: please use MorganGenerator\n",
            "[21:18:06] DEPRECATION WARNING: please use MorganGenerator\n",
            "[21:18:06] DEPRECATION WARNING: please use MorganGenerator\n",
            "[21:18:06] DEPRECATION WARNING: please use MorganGenerator\n",
            "[21:18:06] DEPRECATION WARNING: please use MorganGenerator\n",
            "[21:18:07] DEPRECATION WARNING: please use MorganGenerator\n",
            "[21:18:07] DEPRECATION WARNING: please use MorganGenerator\n",
            "[21:18:07] DEPRECATION WARNING: please use MorganGenerator\n",
            "[21:18:07] DEPRECATION WARNING: please use MorganGenerator\n",
            "[21:18:07] DEPRECATION WARNING: please use MorganGenerator\n",
            "[21:18:07] DEPRECATION WARNING: please use MorganGenerator\n",
            "[21:18:07] DEPRECATION WARNING: please use MorganGenerator\n",
            "[21:18:07] DEPRECATION WARNING: please use MorganGenerator\n",
            "[21:18:07] DEPRECATION WARNING: please use MorganGenerator\n",
            "[21:18:07] DEPRECATION WARNING: please use MorganGenerator\n",
            "[21:18:07] DEPRECATION WARNING: please use MorganGenerator\n",
            "[21:18:07] DEPRECATION WARNING: please use MorganGenerator\n",
            "[21:18:07] DEPRECATION WARNING: please use MorganGenerator\n",
            "[21:18:07] DEPRECATION WARNING: please use MorganGenerator\n",
            "[21:18:07] DEPRECATION WARNING: please use MorganGenerator\n",
            "[21:18:07] DEPRECATION WARNING: please use MorganGenerator\n",
            "[21:18:07] DEPRECATION WARNING: please use MorganGenerator\n",
            "[21:18:07] DEPRECATION WARNING: please use MorganGenerator\n",
            "[21:18:07] DEPRECATION WARNING: please use MorganGenerator\n",
            "[21:18:07] DEPRECATION WARNING: please use MorganGenerator\n",
            "[21:18:07] DEPRECATION WARNING: please use MorganGenerator\n",
            "[21:18:07] DEPRECATION WARNING: please use MorganGenerator\n",
            "[21:18:07] DEPRECATION WARNING: please use MorganGenerator\n",
            "[21:18:07] DEPRECATION WARNING: please use MorganGenerator\n",
            "[21:18:07] DEPRECATION WARNING: please use MorganGenerator\n",
            "[21:18:07] DEPRECATION WARNING: please use MorganGenerator\n",
            "[21:18:07] DEPRECATION WARNING: please use MorganGenerator\n",
            "[21:18:07] DEPRECATION WARNING: please use MorganGenerator\n",
            "[21:18:07] DEPRECATION WARNING: please use MorganGenerator\n",
            "[21:18:07] DEPRECATION WARNING: please use MorganGenerator\n",
            "[21:18:07] DEPRECATION WARNING: please use MorganGenerator\n",
            "[21:18:07] DEPRECATION WARNING: please use MorganGenerator\n",
            "[21:18:07] DEPRECATION WARNING: please use MorganGenerator\n",
            "[21:18:07] DEPRECATION WARNING: please use MorganGenerator\n",
            "[21:18:07] DEPRECATION WARNING: please use MorganGenerator\n",
            "[21:18:07] DEPRECATION WARNING: please use MorganGenerator\n",
            "[21:18:07] DEPRECATION WARNING: please use MorganGenerator\n",
            "[21:18:07] DEPRECATION WARNING: please use MorganGenerator\n",
            "[21:18:07] DEPRECATION WARNING: please use MorganGenerator\n",
            "[21:18:07] DEPRECATION WARNING: please use MorganGenerator\n",
            "[21:18:07] DEPRECATION WARNING: please use MorganGenerator\n",
            "[21:18:07] DEPRECATION WARNING: please use MorganGenerator\n",
            "[21:18:07] DEPRECATION WARNING: please use MorganGenerator\n",
            "[21:18:07] DEPRECATION WARNING: please use MorganGenerator\n",
            "[21:18:07] DEPRECATION WARNING: please use MorganGenerator\n",
            "[21:18:07] DEPRECATION WARNING: please use MorganGenerator\n",
            "[21:18:07] DEPRECATION WARNING: please use MorganGenerator\n",
            "[21:18:07] DEPRECATION WARNING: please use MorganGenerator\n",
            "[21:18:07] DEPRECATION WARNING: please use MorganGenerator\n",
            "[21:18:07] DEPRECATION WARNING: please use MorganGenerator\n",
            "[21:18:07] DEPRECATION WARNING: please use MorganGenerator\n",
            "[21:18:07] DEPRECATION WARNING: please use MorganGenerator\n",
            "[21:18:07] DEPRECATION WARNING: please use MorganGenerator\n",
            "[21:18:07] DEPRECATION WARNING: please use MorganGenerator\n",
            "[21:18:07] DEPRECATION WARNING: please use MorganGenerator\n",
            "[21:18:07] DEPRECATION WARNING: please use MorganGenerator\n",
            "[21:18:07] DEPRECATION WARNING: please use MorganGenerator\n",
            "[21:18:07] DEPRECATION WARNING: please use MorganGenerator\n",
            "[21:18:07] DEPRECATION WARNING: please use MorganGenerator\n",
            "[21:18:07] DEPRECATION WARNING: please use MorganGenerator\n",
            "[21:18:07] DEPRECATION WARNING: please use MorganGenerator\n",
            "[21:18:07] DEPRECATION WARNING: please use MorganGenerator\n",
            "[21:18:07] DEPRECATION WARNING: please use MorganGenerator\n",
            "[21:18:07] DEPRECATION WARNING: please use MorganGenerator\n",
            "[21:18:07] DEPRECATION WARNING: please use MorganGenerator\n",
            "[21:18:07] DEPRECATION WARNING: please use MorganGenerator\n",
            "[21:18:07] DEPRECATION WARNING: please use MorganGenerator\n",
            "[21:18:07] DEPRECATION WARNING: please use MorganGenerator\n",
            "[21:18:07] DEPRECATION WARNING: please use MorganGenerator\n",
            "[21:18:07] DEPRECATION WARNING: please use MorganGenerator\n",
            "[21:18:07] DEPRECATION WARNING: please use MorganGenerator\n",
            "[21:18:07] DEPRECATION WARNING: please use MorganGenerator\n",
            "[21:18:07] DEPRECATION WARNING: please use MorganGenerator\n",
            "[21:18:07] DEPRECATION WARNING: please use MorganGenerator\n",
            "[21:18:07] DEPRECATION WARNING: please use MorganGenerator\n",
            "[21:18:07] DEPRECATION WARNING: please use MorganGenerator\n",
            "[21:18:07] DEPRECATION WARNING: please use MorganGenerator\n",
            "[21:18:07] DEPRECATION WARNING: please use MorganGenerator\n",
            "[21:18:07] DEPRECATION WARNING: please use MorganGenerator\n",
            "[21:18:07] DEPRECATION WARNING: please use MorganGenerator\n",
            "[21:18:07] DEPRECATION WARNING: please use MorganGenerator\n",
            "[21:18:07] DEPRECATION WARNING: please use MorganGenerator\n",
            "[21:18:07] DEPRECATION WARNING: please use MorganGenerator\n",
            "[21:18:07] DEPRECATION WARNING: please use MorganGenerator\n",
            "[21:18:07] DEPRECATION WARNING: please use MorganGenerator\n",
            "[21:18:07] DEPRECATION WARNING: please use MorganGenerator\n",
            "[21:18:07] DEPRECATION WARNING: please use MorganGenerator\n",
            "[21:18:07] DEPRECATION WARNING: please use MorganGenerator\n",
            "[21:18:07] DEPRECATION WARNING: please use MorganGenerator\n",
            "[21:18:07] DEPRECATION WARNING: please use MorganGenerator\n",
            "[21:18:07] DEPRECATION WARNING: please use MorganGenerator\n",
            "[21:18:07] DEPRECATION WARNING: please use MorganGenerator\n",
            "[21:18:07] DEPRECATION WARNING: please use MorganGenerator\n",
            "[21:18:07] DEPRECATION WARNING: please use MorganGenerator\n",
            "[21:18:07] DEPRECATION WARNING: please use MorganGenerator\n",
            "[21:18:07] DEPRECATION WARNING: please use MorganGenerator\n",
            "[21:18:07] DEPRECATION WARNING: please use MorganGenerator\n",
            "[21:18:07] DEPRECATION WARNING: please use MorganGenerator\n",
            "[21:18:07] DEPRECATION WARNING: please use MorganGenerator\n",
            "[21:18:07] DEPRECATION WARNING: please use MorganGenerator\n",
            "[21:18:07] DEPRECATION WARNING: please use MorganGenerator\n",
            "[21:18:07] DEPRECATION WARNING: please use MorganGenerator\n",
            "[21:18:07] DEPRECATION WARNING: please use MorganGenerator\n",
            "[21:18:07] DEPRECATION WARNING: please use MorganGenerator\n",
            "[21:18:07] DEPRECATION WARNING: please use MorganGenerator\n",
            "[21:18:07] DEPRECATION WARNING: please use MorganGenerator\n",
            "[21:18:07] DEPRECATION WARNING: please use MorganGenerator\n",
            "[21:18:07] DEPRECATION WARNING: please use MorganGenerator\n",
            "[21:18:07] DEPRECATION WARNING: please use MorganGenerator\n",
            "[21:18:07] DEPRECATION WARNING: please use MorganGenerator\n",
            "[21:18:07] DEPRECATION WARNING: please use MorganGenerator\n",
            "[21:18:07] DEPRECATION WARNING: please use MorganGenerator\n",
            "[21:18:07] DEPRECATION WARNING: please use MorganGenerator\n",
            "[21:18:07] DEPRECATION WARNING: please use MorganGenerator\n",
            "[21:18:07] DEPRECATION WARNING: please use MorganGenerator\n",
            "[21:18:07] DEPRECATION WARNING: please use MorganGenerator\n",
            "[21:18:07] DEPRECATION WARNING: please use MorganGenerator\n",
            "[21:18:07] DEPRECATION WARNING: please use MorganGenerator\n",
            "[21:18:07] DEPRECATION WARNING: please use MorganGenerator\n",
            "[21:18:07] DEPRECATION WARNING: please use MorganGenerator\n",
            "[21:18:07] DEPRECATION WARNING: please use MorganGenerator\n",
            "[21:18:07] DEPRECATION WARNING: please use MorganGenerator\n",
            "[21:18:07] DEPRECATION WARNING: please use MorganGenerator\n",
            "[21:18:08] DEPRECATION WARNING: please use MorganGenerator\n",
            "[21:18:08] DEPRECATION WARNING: please use MorganGenerator\n",
            "[21:18:08] DEPRECATION WARNING: please use MorganGenerator\n",
            "[21:18:08] DEPRECATION WARNING: please use MorganGenerator\n",
            "[21:18:08] DEPRECATION WARNING: please use MorganGenerator\n",
            "[21:18:08] DEPRECATION WARNING: please use MorganGenerator\n",
            "[21:18:08] DEPRECATION WARNING: please use MorganGenerator\n",
            "[21:18:08] DEPRECATION WARNING: please use MorganGenerator\n",
            "[21:18:08] DEPRECATION WARNING: please use MorganGenerator\n",
            "[21:18:08] DEPRECATION WARNING: please use MorganGenerator\n",
            "[21:18:08] DEPRECATION WARNING: please use MorganGenerator\n",
            "[21:18:08] DEPRECATION WARNING: please use MorganGenerator\n",
            "[21:18:08] DEPRECATION WARNING: please use MorganGenerator\n",
            "[21:18:08] DEPRECATION WARNING: please use MorganGenerator\n",
            "[21:18:08] DEPRECATION WARNING: please use MorganGenerator\n",
            "[21:18:08] DEPRECATION WARNING: please use MorganGenerator\n",
            "[21:18:08] DEPRECATION WARNING: please use MorganGenerator\n",
            "[21:18:08] DEPRECATION WARNING: please use MorganGenerator\n",
            "[21:18:08] DEPRECATION WARNING: please use MorganGenerator\n",
            "[21:18:08] DEPRECATION WARNING: please use MorganGenerator\n",
            "[21:18:08] DEPRECATION WARNING: please use MorganGenerator\n",
            "[21:18:08] DEPRECATION WARNING: please use MorganGenerator\n",
            "[21:18:08] DEPRECATION WARNING: please use MorganGenerator\n",
            "[21:18:08] DEPRECATION WARNING: please use MorganGenerator\n",
            "[21:18:08] DEPRECATION WARNING: please use MorganGenerator\n",
            "[21:18:08] DEPRECATION WARNING: please use MorganGenerator\n",
            "[21:18:08] DEPRECATION WARNING: please use MorganGenerator\n",
            "[21:18:08] DEPRECATION WARNING: please use MorganGenerator\n",
            "[21:18:08] DEPRECATION WARNING: please use MorganGenerator\n",
            "[21:18:08] DEPRECATION WARNING: please use MorganGenerator\n",
            "[21:18:08] DEPRECATION WARNING: please use MorganGenerator\n",
            "[21:18:08] DEPRECATION WARNING: please use MorganGenerator\n",
            "[21:18:08] DEPRECATION WARNING: please use MorganGenerator\n",
            "[21:18:08] DEPRECATION WARNING: please use MorganGenerator\n",
            "[21:18:08] DEPRECATION WARNING: please use MorganGenerator\n",
            "[21:18:08] DEPRECATION WARNING: please use MorganGenerator\n",
            "[21:18:08] DEPRECATION WARNING: please use MorganGenerator\n",
            "[21:18:08] DEPRECATION WARNING: please use MorganGenerator\n",
            "[21:18:08] DEPRECATION WARNING: please use MorganGenerator\n",
            "[21:18:08] DEPRECATION WARNING: please use MorganGenerator\n",
            "[21:18:08] DEPRECATION WARNING: please use MorganGenerator\n",
            "[21:18:08] DEPRECATION WARNING: please use MorganGenerator\n",
            "[21:18:08] DEPRECATION WARNING: please use MorganGenerator\n",
            "[21:18:08] DEPRECATION WARNING: please use MorganGenerator\n",
            "[21:18:08] DEPRECATION WARNING: please use MorganGenerator\n",
            "[21:18:08] DEPRECATION WARNING: please use MorganGenerator\n",
            "[21:18:08] DEPRECATION WARNING: please use MorganGenerator\n",
            "[21:18:08] DEPRECATION WARNING: please use MorganGenerator\n",
            "[21:18:08] DEPRECATION WARNING: please use MorganGenerator\n",
            "[21:18:08] DEPRECATION WARNING: please use MorganGenerator\n",
            "[21:18:08] DEPRECATION WARNING: please use MorganGenerator\n",
            "[21:18:08] DEPRECATION WARNING: please use MorganGenerator\n",
            "[21:18:08] DEPRECATION WARNING: please use MorganGenerator\n",
            "[21:18:08] DEPRECATION WARNING: please use MorganGenerator\n",
            "[21:18:08] DEPRECATION WARNING: please use MorganGenerator\n",
            "[21:18:08] DEPRECATION WARNING: please use MorganGenerator\n",
            "[21:18:08] DEPRECATION WARNING: please use MorganGenerator\n",
            "[21:18:08] DEPRECATION WARNING: please use MorganGenerator\n",
            "[21:18:08] DEPRECATION WARNING: please use MorganGenerator\n",
            "[21:18:08] DEPRECATION WARNING: please use MorganGenerator\n",
            "[21:18:08] DEPRECATION WARNING: please use MorganGenerator\n",
            "[21:18:08] DEPRECATION WARNING: please use MorganGenerator\n",
            "[21:18:08] DEPRECATION WARNING: please use MorganGenerator\n",
            "[21:18:08] DEPRECATION WARNING: please use MorganGenerator\n",
            "[21:18:08] DEPRECATION WARNING: please use MorganGenerator\n",
            "[21:18:08] DEPRECATION WARNING: please use MorganGenerator\n",
            "[21:18:08] DEPRECATION WARNING: please use MorganGenerator\n",
            "[21:18:08] DEPRECATION WARNING: please use MorganGenerator\n",
            "[21:18:08] DEPRECATION WARNING: please use MorganGenerator\n",
            "[21:18:08] DEPRECATION WARNING: please use MorganGenerator\n",
            "[21:18:08] DEPRECATION WARNING: please use MorganGenerator\n",
            "[21:18:08] DEPRECATION WARNING: please use MorganGenerator\n",
            "[21:18:08] DEPRECATION WARNING: please use MorganGenerator\n",
            "[21:18:08] DEPRECATION WARNING: please use MorganGenerator\n",
            "[21:18:08] DEPRECATION WARNING: please use MorganGenerator\n",
            "[21:18:08] DEPRECATION WARNING: please use MorganGenerator\n",
            "[21:18:08] DEPRECATION WARNING: please use MorganGenerator\n",
            "[21:18:08] DEPRECATION WARNING: please use MorganGenerator\n",
            "[21:18:08] DEPRECATION WARNING: please use MorganGenerator\n",
            "[21:18:08] DEPRECATION WARNING: please use MorganGenerator\n",
            "[21:18:08] DEPRECATION WARNING: please use MorganGenerator\n",
            "[21:18:08] DEPRECATION WARNING: please use MorganGenerator\n",
            "[21:18:08] DEPRECATION WARNING: please use MorganGenerator\n",
            "[21:18:08] DEPRECATION WARNING: please use MorganGenerator\n",
            "[21:18:08] DEPRECATION WARNING: please use MorganGenerator\n",
            "[21:18:08] DEPRECATION WARNING: please use MorganGenerator\n",
            "[21:18:08] DEPRECATION WARNING: please use MorganGenerator\n",
            "[21:18:08] DEPRECATION WARNING: please use MorganGenerator\n",
            "[21:18:08] DEPRECATION WARNING: please use MorganGenerator\n",
            "[21:18:08] DEPRECATION WARNING: please use MorganGenerator\n",
            "[21:18:08] DEPRECATION WARNING: please use MorganGenerator\n",
            "[21:18:08] DEPRECATION WARNING: please use MorganGenerator\n",
            "[21:18:08] DEPRECATION WARNING: please use MorganGenerator\n",
            "[21:18:08] DEPRECATION WARNING: please use MorganGenerator\n",
            "[21:18:08] DEPRECATION WARNING: please use MorganGenerator\n",
            "[21:18:08] DEPRECATION WARNING: please use MorganGenerator\n",
            "[21:18:08] DEPRECATION WARNING: please use MorganGenerator\n",
            "[21:18:08] DEPRECATION WARNING: please use MorganGenerator\n",
            "[21:18:08] DEPRECATION WARNING: please use MorganGenerator\n",
            "[21:18:08] DEPRECATION WARNING: please use MorganGenerator\n",
            "[21:18:08] DEPRECATION WARNING: please use MorganGenerator\n",
            "[21:18:08] DEPRECATION WARNING: please use MorganGenerator\n",
            "[21:18:08] DEPRECATION WARNING: please use MorganGenerator\n",
            "[21:18:08] DEPRECATION WARNING: please use MorganGenerator\n",
            "[21:18:08] DEPRECATION WARNING: please use MorganGenerator\n",
            "[21:18:08] DEPRECATION WARNING: please use MorganGenerator\n",
            "[21:18:08] DEPRECATION WARNING: please use MorganGenerator\n",
            "[21:18:08] DEPRECATION WARNING: please use MorganGenerator\n",
            "[21:18:08] DEPRECATION WARNING: please use MorganGenerator\n",
            "[21:18:08] DEPRECATION WARNING: please use MorganGenerator\n",
            "[21:18:08] DEPRECATION WARNING: please use MorganGenerator\n",
            "[21:18:08] DEPRECATION WARNING: please use MorganGenerator\n",
            "[21:18:08] DEPRECATION WARNING: please use MorganGenerator\n",
            "[21:18:08] DEPRECATION WARNING: please use MorganGenerator\n",
            "[21:18:08] DEPRECATION WARNING: please use MorganGenerator\n",
            "[21:18:08] DEPRECATION WARNING: please use MorganGenerator\n",
            "[21:18:08] DEPRECATION WARNING: please use MorganGenerator\n",
            "[21:18:08] DEPRECATION WARNING: please use MorganGenerator\n",
            "[21:18:08] DEPRECATION WARNING: please use MorganGenerator\n",
            "[21:18:08] DEPRECATION WARNING: please use MorganGenerator\n",
            "[21:18:08] DEPRECATION WARNING: please use MorganGenerator\n",
            "[21:18:08] DEPRECATION WARNING: please use MorganGenerator\n",
            "[21:18:08] DEPRECATION WARNING: please use MorganGenerator\n",
            "[21:18:08] DEPRECATION WARNING: please use MorganGenerator\n",
            "[21:18:08] DEPRECATION WARNING: please use MorganGenerator\n",
            "[21:18:08] DEPRECATION WARNING: please use MorganGenerator\n",
            "[21:18:08] DEPRECATION WARNING: please use MorganGenerator\n",
            "[21:18:08] DEPRECATION WARNING: please use MorganGenerator\n",
            "[21:18:08] DEPRECATION WARNING: please use MorganGenerator\n",
            "[21:18:08] DEPRECATION WARNING: please use MorganGenerator\n",
            "[21:18:08] DEPRECATION WARNING: please use MorganGenerator\n",
            "[21:18:08] DEPRECATION WARNING: please use MorganGenerator\n",
            "[21:18:08] DEPRECATION WARNING: please use MorganGenerator\n",
            "[21:18:08] DEPRECATION WARNING: please use MorganGenerator\n",
            "[21:18:08] DEPRECATION WARNING: please use MorganGenerator\n",
            "[21:18:08] DEPRECATION WARNING: please use MorganGenerator\n",
            "[21:18:08] DEPRECATION WARNING: please use MorganGenerator\n",
            "[21:18:08] DEPRECATION WARNING: please use MorganGenerator\n",
            "[21:18:08] DEPRECATION WARNING: please use MorganGenerator\n",
            "[21:18:08] DEPRECATION WARNING: please use MorganGenerator\n",
            "[21:18:08] DEPRECATION WARNING: please use MorganGenerator\n",
            "[21:18:08] DEPRECATION WARNING: please use MorganGenerator\n",
            "[21:18:08] DEPRECATION WARNING: please use MorganGenerator\n",
            "[21:18:08] DEPRECATION WARNING: please use MorganGenerator\n",
            "[21:18:08] DEPRECATION WARNING: please use MorganGenerator\n",
            "[21:18:08] DEPRECATION WARNING: please use MorganGenerator\n",
            "[21:18:08] DEPRECATION WARNING: please use MorganGenerator\n",
            "[21:18:08] DEPRECATION WARNING: please use MorganGenerator\n",
            "[21:18:08] DEPRECATION WARNING: please use MorganGenerator\n",
            "[21:18:08] DEPRECATION WARNING: please use MorganGenerator\n",
            "[21:18:08] DEPRECATION WARNING: please use MorganGenerator\n",
            "[21:18:08] DEPRECATION WARNING: please use MorganGenerator\n",
            "[21:18:08] DEPRECATION WARNING: please use MorganGenerator\n",
            "[21:18:09] DEPRECATION WARNING: please use MorganGenerator\n",
            "[21:18:09] DEPRECATION WARNING: please use MorganGenerator\n",
            "[21:18:09] DEPRECATION WARNING: please use MorganGenerator\n",
            "[21:18:09] DEPRECATION WARNING: please use MorganGenerator\n",
            "[21:18:09] DEPRECATION WARNING: please use MorganGenerator\n",
            "[21:18:09] DEPRECATION WARNING: please use MorganGenerator\n",
            "[21:18:09] DEPRECATION WARNING: please use MorganGenerator\n",
            "[21:18:09] DEPRECATION WARNING: please use MorganGenerator\n",
            "[21:18:09] DEPRECATION WARNING: please use MorganGenerator\n",
            "[21:18:09] DEPRECATION WARNING: please use MorganGenerator\n",
            "[21:18:09] DEPRECATION WARNING: please use MorganGenerator\n",
            "[21:18:09] DEPRECATION WARNING: please use MorganGenerator\n",
            "[21:18:09] DEPRECATION WARNING: please use MorganGenerator\n",
            "[21:18:09] DEPRECATION WARNING: please use MorganGenerator\n",
            "[21:18:09] DEPRECATION WARNING: please use MorganGenerator\n",
            "[21:18:09] DEPRECATION WARNING: please use MorganGenerator\n",
            "[21:18:09] DEPRECATION WARNING: please use MorganGenerator\n",
            "[21:18:09] DEPRECATION WARNING: please use MorganGenerator\n",
            "[21:18:09] DEPRECATION WARNING: please use MorganGenerator\n",
            "[21:18:09] DEPRECATION WARNING: please use MorganGenerator\n",
            "[21:18:09] DEPRECATION WARNING: please use MorganGenerator\n",
            "[21:18:09] DEPRECATION WARNING: please use MorganGenerator\n",
            "[21:18:09] DEPRECATION WARNING: please use MorganGenerator\n",
            "[21:18:09] DEPRECATION WARNING: please use MorganGenerator\n",
            "[21:18:09] DEPRECATION WARNING: please use MorganGenerator\n",
            "[21:18:09] DEPRECATION WARNING: please use MorganGenerator\n",
            "[21:18:09] DEPRECATION WARNING: please use MorganGenerator\n",
            "[21:18:09] DEPRECATION WARNING: please use MorganGenerator\n",
            "[21:18:09] DEPRECATION WARNING: please use MorganGenerator\n",
            "[21:18:09] DEPRECATION WARNING: please use MorganGenerator\n",
            "[21:18:09] DEPRECATION WARNING: please use MorganGenerator\n",
            "[21:18:09] DEPRECATION WARNING: please use MorganGenerator\n",
            "[21:18:09] DEPRECATION WARNING: please use MorganGenerator\n",
            "[21:18:09] DEPRECATION WARNING: please use MorganGenerator\n",
            "[21:18:09] DEPRECATION WARNING: please use MorganGenerator\n",
            "[21:18:09] DEPRECATION WARNING: please use MorganGenerator\n",
            "[21:18:09] DEPRECATION WARNING: please use MorganGenerator\n",
            "[21:18:09] DEPRECATION WARNING: please use MorganGenerator\n",
            "[21:18:09] DEPRECATION WARNING: please use MorganGenerator\n",
            "[21:18:09] DEPRECATION WARNING: please use MorganGenerator\n",
            "[21:18:09] DEPRECATION WARNING: please use MorganGenerator\n",
            "[21:18:09] DEPRECATION WARNING: please use MorganGenerator\n",
            "[21:18:09] DEPRECATION WARNING: please use MorganGenerator\n",
            "[21:18:09] DEPRECATION WARNING: please use MorganGenerator\n",
            "[21:18:09] DEPRECATION WARNING: please use MorganGenerator\n",
            "[21:18:09] DEPRECATION WARNING: please use MorganGenerator\n",
            "[21:18:09] DEPRECATION WARNING: please use MorganGenerator\n",
            "[21:18:09] DEPRECATION WARNING: please use MorganGenerator\n",
            "[21:18:09] DEPRECATION WARNING: please use MorganGenerator\n",
            "[21:18:09] DEPRECATION WARNING: please use MorganGenerator\n",
            "[21:18:09] DEPRECATION WARNING: please use MorganGenerator\n",
            "[21:18:09] DEPRECATION WARNING: please use MorganGenerator\n",
            "[21:18:09] DEPRECATION WARNING: please use MorganGenerator\n",
            "[21:18:09] DEPRECATION WARNING: please use MorganGenerator\n",
            "[21:18:09] DEPRECATION WARNING: please use MorganGenerator\n",
            "[21:18:09] DEPRECATION WARNING: please use MorganGenerator\n",
            "[21:18:09] DEPRECATION WARNING: please use MorganGenerator\n",
            "[21:18:09] DEPRECATION WARNING: please use MorganGenerator\n",
            "[21:18:09] DEPRECATION WARNING: please use MorganGenerator\n",
            "[21:18:09] DEPRECATION WARNING: please use MorganGenerator\n",
            "[21:18:09] DEPRECATION WARNING: please use MorganGenerator\n",
            "[21:18:09] DEPRECATION WARNING: please use MorganGenerator\n",
            "[21:18:09] DEPRECATION WARNING: please use MorganGenerator\n",
            "[21:18:09] DEPRECATION WARNING: please use MorganGenerator\n",
            "[21:18:09] DEPRECATION WARNING: please use MorganGenerator\n",
            "[21:18:09] DEPRECATION WARNING: please use MorganGenerator\n",
            "[21:18:09] DEPRECATION WARNING: please use MorganGenerator\n",
            "[21:18:09] DEPRECATION WARNING: please use MorganGenerator\n",
            "[21:18:09] DEPRECATION WARNING: please use MorganGenerator\n",
            "[21:18:09] DEPRECATION WARNING: please use MorganGenerator\n",
            "[21:18:09] DEPRECATION WARNING: please use MorganGenerator\n",
            "[21:18:09] DEPRECATION WARNING: please use MorganGenerator\n",
            "[21:18:09] DEPRECATION WARNING: please use MorganGenerator\n",
            "[21:18:09] DEPRECATION WARNING: please use MorganGenerator\n",
            "[21:18:09] DEPRECATION WARNING: please use MorganGenerator\n",
            "[21:18:09] DEPRECATION WARNING: please use MorganGenerator\n",
            "[21:18:09] DEPRECATION WARNING: please use MorganGenerator\n",
            "[21:18:09] DEPRECATION WARNING: please use MorganGenerator\n",
            "[21:18:09] DEPRECATION WARNING: please use MorganGenerator\n",
            "[21:18:09] DEPRECATION WARNING: please use MorganGenerator\n",
            "[21:18:09] DEPRECATION WARNING: please use MorganGenerator\n",
            "[21:18:09] DEPRECATION WARNING: please use MorganGenerator\n",
            "[21:18:09] DEPRECATION WARNING: please use MorganGenerator\n",
            "[21:18:09] DEPRECATION WARNING: please use MorganGenerator\n",
            "[21:18:09] DEPRECATION WARNING: please use MorganGenerator\n",
            "[21:18:09] DEPRECATION WARNING: please use MorganGenerator\n",
            "[21:18:09] DEPRECATION WARNING: please use MorganGenerator\n",
            "[21:18:09] DEPRECATION WARNING: please use MorganGenerator\n",
            "[21:18:09] DEPRECATION WARNING: please use MorganGenerator\n",
            "[21:18:09] DEPRECATION WARNING: please use MorganGenerator\n",
            "[21:18:09] DEPRECATION WARNING: please use MorganGenerator\n",
            "[21:18:09] DEPRECATION WARNING: please use MorganGenerator\n",
            "[21:18:09] DEPRECATION WARNING: please use MorganGenerator\n",
            "[21:18:09] DEPRECATION WARNING: please use MorganGenerator\n",
            "[21:18:09] DEPRECATION WARNING: please use MorganGenerator\n",
            "[21:18:09] DEPRECATION WARNING: please use MorganGenerator\n",
            "[21:18:09] DEPRECATION WARNING: please use MorganGenerator\n",
            "[21:18:09] DEPRECATION WARNING: please use MorganGenerator\n",
            "[21:18:09] DEPRECATION WARNING: please use MorganGenerator\n",
            "[21:18:09] DEPRECATION WARNING: please use MorganGenerator\n",
            "[21:18:09] DEPRECATION WARNING: please use MorganGenerator\n",
            "[21:18:09] DEPRECATION WARNING: please use MorganGenerator\n",
            "[21:18:09] DEPRECATION WARNING: please use MorganGenerator\n",
            "[21:18:09] DEPRECATION WARNING: please use MorganGenerator\n",
            "[21:18:09] DEPRECATION WARNING: please use MorganGenerator\n",
            "[21:18:09] DEPRECATION WARNING: please use MorganGenerator\n",
            "[21:18:09] DEPRECATION WARNING: please use MorganGenerator\n",
            "[21:18:09] DEPRECATION WARNING: please use MorganGenerator\n",
            "[21:18:09] DEPRECATION WARNING: please use MorganGenerator\n",
            "[21:18:09] DEPRECATION WARNING: please use MorganGenerator\n",
            "[21:18:09] DEPRECATION WARNING: please use MorganGenerator\n",
            "[21:18:09] DEPRECATION WARNING: please use MorganGenerator\n",
            "[21:18:09] DEPRECATION WARNING: please use MorganGenerator\n",
            "[21:18:09] DEPRECATION WARNING: please use MorganGenerator\n",
            "[21:18:09] DEPRECATION WARNING: please use MorganGenerator\n",
            "[21:18:09] DEPRECATION WARNING: please use MorganGenerator\n",
            "[21:18:09] DEPRECATION WARNING: please use MorganGenerator\n",
            "[21:18:10] DEPRECATION WARNING: please use MorganGenerator\n",
            "[21:18:10] DEPRECATION WARNING: please use MorganGenerator\n",
            "[21:18:10] DEPRECATION WARNING: please use MorganGenerator\n",
            "[21:18:10] DEPRECATION WARNING: please use MorganGenerator\n",
            "[21:18:10] DEPRECATION WARNING: please use MorganGenerator\n",
            "[21:18:10] DEPRECATION WARNING: please use MorganGenerator\n",
            "[21:18:10] DEPRECATION WARNING: please use MorganGenerator\n",
            "[21:18:10] DEPRECATION WARNING: please use MorganGenerator\n",
            "[21:18:10] DEPRECATION WARNING: please use MorganGenerator\n",
            "[21:18:10] DEPRECATION WARNING: please use MorganGenerator\n",
            "[21:18:10] DEPRECATION WARNING: please use MorganGenerator\n",
            "[21:18:10] DEPRECATION WARNING: please use MorganGenerator\n",
            "[21:18:10] DEPRECATION WARNING: please use MorganGenerator\n",
            "[21:18:10] DEPRECATION WARNING: please use MorganGenerator\n",
            "[21:18:10] DEPRECATION WARNING: please use MorganGenerator\n",
            "[21:18:10] DEPRECATION WARNING: please use MorganGenerator\n",
            "[21:18:10] DEPRECATION WARNING: please use MorganGenerator\n",
            "[21:18:10] DEPRECATION WARNING: please use MorganGenerator\n",
            "[21:18:10] DEPRECATION WARNING: please use MorganGenerator\n",
            "[21:18:10] DEPRECATION WARNING: please use MorganGenerator\n",
            "[21:18:10] DEPRECATION WARNING: please use MorganGenerator\n",
            "[21:18:10] DEPRECATION WARNING: please use MorganGenerator\n",
            "[21:18:10] DEPRECATION WARNING: please use MorganGenerator\n",
            "[21:18:10] DEPRECATION WARNING: please use MorganGenerator\n",
            "[21:18:10] DEPRECATION WARNING: please use MorganGenerator\n",
            "[21:18:10] DEPRECATION WARNING: please use MorganGenerator\n",
            "[21:18:10] DEPRECATION WARNING: please use MorganGenerator\n",
            "[21:18:10] DEPRECATION WARNING: please use MorganGenerator\n",
            "[21:18:10] DEPRECATION WARNING: please use MorganGenerator\n",
            "[21:18:10] DEPRECATION WARNING: please use MorganGenerator\n",
            "[21:18:10] DEPRECATION WARNING: please use MorganGenerator\n",
            "[21:18:10] DEPRECATION WARNING: please use MorganGenerator\n",
            "[21:18:10] DEPRECATION WARNING: please use MorganGenerator\n",
            "[21:18:10] DEPRECATION WARNING: please use MorganGenerator\n",
            "[21:18:10] DEPRECATION WARNING: please use MorganGenerator\n",
            "[21:18:10] DEPRECATION WARNING: please use MorganGenerator\n",
            "[21:18:10] DEPRECATION WARNING: please use MorganGenerator\n",
            "[21:18:10] DEPRECATION WARNING: please use MorganGenerator\n",
            "[21:18:10] DEPRECATION WARNING: please use MorganGenerator\n",
            "[21:18:10] DEPRECATION WARNING: please use MorganGenerator\n",
            "[21:18:10] DEPRECATION WARNING: please use MorganGenerator\n",
            "[21:18:10] DEPRECATION WARNING: please use MorganGenerator\n",
            "[21:18:10] DEPRECATION WARNING: please use MorganGenerator\n",
            "[21:18:10] DEPRECATION WARNING: please use MorganGenerator\n",
            "[21:18:10] DEPRECATION WARNING: please use MorganGenerator\n",
            "[21:18:10] DEPRECATION WARNING: please use MorganGenerator\n",
            "[21:18:10] DEPRECATION WARNING: please use MorganGenerator\n",
            "[21:18:10] DEPRECATION WARNING: please use MorganGenerator\n",
            "[21:18:10] DEPRECATION WARNING: please use MorganGenerator\n",
            "[21:18:10] DEPRECATION WARNING: please use MorganGenerator\n",
            "[21:18:10] DEPRECATION WARNING: please use MorganGenerator\n",
            "[21:18:10] DEPRECATION WARNING: please use MorganGenerator\n",
            "[21:18:10] DEPRECATION WARNING: please use MorganGenerator\n",
            "[21:18:10] DEPRECATION WARNING: please use MorganGenerator\n",
            "[21:18:10] DEPRECATION WARNING: please use MorganGenerator\n",
            "[21:18:10] DEPRECATION WARNING: please use MorganGenerator\n",
            "[21:18:10] DEPRECATION WARNING: please use MorganGenerator\n",
            "[21:18:10] DEPRECATION WARNING: please use MorganGenerator\n",
            "[21:18:10] DEPRECATION WARNING: please use MorganGenerator\n",
            "[21:18:10] DEPRECATION WARNING: please use MorganGenerator\n",
            "[21:18:10] DEPRECATION WARNING: please use MorganGenerator\n",
            "[21:18:10] DEPRECATION WARNING: please use MorganGenerator\n",
            "[21:18:10] DEPRECATION WARNING: please use MorganGenerator\n",
            "[21:18:10] DEPRECATION WARNING: please use MorganGenerator\n",
            "[21:18:10] DEPRECATION WARNING: please use MorganGenerator\n",
            "[21:18:10] DEPRECATION WARNING: please use MorganGenerator\n",
            "[21:18:10] DEPRECATION WARNING: please use MorganGenerator\n",
            "[21:18:10] DEPRECATION WARNING: please use MorganGenerator\n",
            "[21:18:10] DEPRECATION WARNING: please use MorganGenerator\n",
            "[21:18:10] DEPRECATION WARNING: please use MorganGenerator\n",
            "[21:18:10] DEPRECATION WARNING: please use MorganGenerator\n",
            "[21:18:10] DEPRECATION WARNING: please use MorganGenerator\n",
            "[21:18:10] DEPRECATION WARNING: please use MorganGenerator\n",
            "[21:18:10] DEPRECATION WARNING: please use MorganGenerator\n",
            "[21:18:10] DEPRECATION WARNING: please use MorganGenerator\n",
            "[21:18:11] DEPRECATION WARNING: please use MorganGenerator\n",
            "[21:18:11] DEPRECATION WARNING: please use MorganGenerator\n",
            "[21:18:11] DEPRECATION WARNING: please use MorganGenerator\n",
            "[21:18:11] DEPRECATION WARNING: please use MorganGenerator\n",
            "[21:18:11] DEPRECATION WARNING: please use MorganGenerator\n",
            "[21:18:11] DEPRECATION WARNING: please use MorganGenerator\n",
            "[21:18:11] DEPRECATION WARNING: please use MorganGenerator\n",
            "[21:18:11] DEPRECATION WARNING: please use MorganGenerator\n",
            "[21:18:11] DEPRECATION WARNING: please use MorganGenerator\n",
            "[21:18:11] DEPRECATION WARNING: please use MorganGenerator\n",
            "[21:18:11] DEPRECATION WARNING: please use MorganGenerator\n",
            "[21:18:11] DEPRECATION WARNING: please use MorganGenerator\n",
            "[21:18:11] DEPRECATION WARNING: please use MorganGenerator\n",
            "[21:18:11] DEPRECATION WARNING: please use MorganGenerator\n",
            "[21:18:11] DEPRECATION WARNING: please use MorganGenerator\n",
            "[21:18:11] DEPRECATION WARNING: please use MorganGenerator\n",
            "[21:18:11] DEPRECATION WARNING: please use MorganGenerator\n",
            "[21:18:11] DEPRECATION WARNING: please use MorganGenerator\n",
            "[21:18:11] DEPRECATION WARNING: please use MorganGenerator\n",
            "[21:18:11] DEPRECATION WARNING: please use MorganGenerator\n",
            "[21:18:11] DEPRECATION WARNING: please use MorganGenerator\n",
            "[21:18:11] DEPRECATION WARNING: please use MorganGenerator\n",
            "[21:18:11] DEPRECATION WARNING: please use MorganGenerator\n",
            "[21:18:11] DEPRECATION WARNING: please use MorganGenerator\n",
            "[21:18:11] DEPRECATION WARNING: please use MorganGenerator\n",
            "[21:18:11] DEPRECATION WARNING: please use MorganGenerator\n",
            "[21:18:11] DEPRECATION WARNING: please use MorganGenerator\n",
            "[21:18:11] DEPRECATION WARNING: please use MorganGenerator\n",
            "[21:18:11] DEPRECATION WARNING: please use MorganGenerator\n",
            "[21:18:11] DEPRECATION WARNING: please use MorganGenerator\n",
            "[21:18:11] DEPRECATION WARNING: please use MorganGenerator\n",
            "[21:18:11] DEPRECATION WARNING: please use MorganGenerator\n",
            "[21:18:11] DEPRECATION WARNING: please use MorganGenerator\n",
            "[21:18:11] DEPRECATION WARNING: please use MorganGenerator\n",
            "[21:18:11] DEPRECATION WARNING: please use MorganGenerator\n",
            "[21:18:11] DEPRECATION WARNING: please use MorganGenerator\n",
            "[21:18:12] DEPRECATION WARNING: please use MorganGenerator\n",
            "[21:18:12] DEPRECATION WARNING: please use MorganGenerator\n",
            "[21:18:12] DEPRECATION WARNING: please use MorganGenerator\n",
            "[21:18:12] DEPRECATION WARNING: please use MorganGenerator\n",
            "[21:18:12] DEPRECATION WARNING: please use MorganGenerator\n",
            "[21:18:12] DEPRECATION WARNING: please use MorganGenerator\n",
            "[21:18:12] DEPRECATION WARNING: please use MorganGenerator\n",
            "[21:18:12] DEPRECATION WARNING: please use MorganGenerator\n",
            "[21:18:12] DEPRECATION WARNING: please use MorganGenerator\n",
            "[21:18:12] DEPRECATION WARNING: please use MorganGenerator\n",
            "[21:18:12] DEPRECATION WARNING: please use MorganGenerator\n",
            "[21:18:12] DEPRECATION WARNING: please use MorganGenerator\n",
            "[21:18:12] DEPRECATION WARNING: please use MorganGenerator\n",
            "[21:18:12] DEPRECATION WARNING: please use MorganGenerator\n",
            "[21:18:12] DEPRECATION WARNING: please use MorganGenerator\n",
            "[21:18:12] DEPRECATION WARNING: please use MorganGenerator\n",
            "[21:18:12] DEPRECATION WARNING: please use MorganGenerator\n",
            "[21:18:12] DEPRECATION WARNING: please use MorganGenerator\n",
            "[21:18:12] DEPRECATION WARNING: please use MorganGenerator\n",
            "[21:18:12] DEPRECATION WARNING: please use MorganGenerator\n",
            "[21:18:12] DEPRECATION WARNING: please use MorganGenerator\n",
            "[21:18:12] DEPRECATION WARNING: please use MorganGenerator\n",
            "[21:18:12] DEPRECATION WARNING: please use MorganGenerator\n",
            "[21:18:12] DEPRECATION WARNING: please use MorganGenerator\n",
            "[21:18:12] DEPRECATION WARNING: please use MorganGenerator\n",
            "[21:18:12] DEPRECATION WARNING: please use MorganGenerator\n",
            "[21:18:12] DEPRECATION WARNING: please use MorganGenerator\n",
            "[21:18:12] DEPRECATION WARNING: please use MorganGenerator\n",
            "[21:18:12] DEPRECATION WARNING: please use MorganGenerator\n",
            "[21:18:12] DEPRECATION WARNING: please use MorganGenerator\n",
            "[21:18:12] DEPRECATION WARNING: please use MorganGenerator\n",
            "[21:18:12] DEPRECATION WARNING: please use MorganGenerator\n",
            "[21:18:12] DEPRECATION WARNING: please use MorganGenerator\n",
            "[21:18:12] DEPRECATION WARNING: please use MorganGenerator\n",
            "[21:18:12] DEPRECATION WARNING: please use MorganGenerator\n",
            "[21:18:12] DEPRECATION WARNING: please use MorganGenerator\n",
            "[21:18:12] DEPRECATION WARNING: please use MorganGenerator\n",
            "[21:18:12] DEPRECATION WARNING: please use MorganGenerator\n",
            "[21:18:12] DEPRECATION WARNING: please use MorganGenerator\n",
            "[21:18:12] DEPRECATION WARNING: please use MorganGenerator\n",
            "[21:18:12] DEPRECATION WARNING: please use MorganGenerator\n",
            "[21:18:12] DEPRECATION WARNING: please use MorganGenerator\n",
            "[21:18:12] DEPRECATION WARNING: please use MorganGenerator\n",
            "[21:18:12] DEPRECATION WARNING: please use MorganGenerator\n",
            "[21:18:12] DEPRECATION WARNING: please use MorganGenerator\n",
            "[21:18:12] DEPRECATION WARNING: please use MorganGenerator\n",
            "[21:18:12] DEPRECATION WARNING: please use MorganGenerator\n",
            "[21:18:12] DEPRECATION WARNING: please use MorganGenerator\n",
            "[21:18:12] DEPRECATION WARNING: please use MorganGenerator\n",
            "[21:18:12] DEPRECATION WARNING: please use MorganGenerator\n",
            "[21:18:12] DEPRECATION WARNING: please use MorganGenerator\n",
            "[21:18:13] DEPRECATION WARNING: please use MorganGenerator\n",
            "[21:18:13] DEPRECATION WARNING: please use MorganGenerator\n",
            "[21:18:13] DEPRECATION WARNING: please use MorganGenerator\n",
            "[21:18:13] DEPRECATION WARNING: please use MorganGenerator\n",
            "[21:18:13] DEPRECATION WARNING: please use MorganGenerator\n",
            "[21:18:13] DEPRECATION WARNING: please use MorganGenerator\n",
            "[21:18:13] DEPRECATION WARNING: please use MorganGenerator\n",
            "[21:18:13] DEPRECATION WARNING: please use MorganGenerator\n",
            "[21:18:13] DEPRECATION WARNING: please use MorganGenerator\n",
            "[21:18:13] DEPRECATION WARNING: please use MorganGenerator\n",
            "[21:18:13] DEPRECATION WARNING: please use MorganGenerator\n",
            "[21:18:13] DEPRECATION WARNING: please use MorganGenerator\n",
            "[21:18:13] DEPRECATION WARNING: please use MorganGenerator\n",
            "[21:18:13] DEPRECATION WARNING: please use MorganGenerator\n",
            "[21:18:13] DEPRECATION WARNING: please use MorganGenerator\n",
            "[21:18:13] DEPRECATION WARNING: please use MorganGenerator\n",
            "[21:18:13] DEPRECATION WARNING: please use MorganGenerator\n",
            "[21:18:13] DEPRECATION WARNING: please use MorganGenerator\n",
            "[21:18:13] DEPRECATION WARNING: please use MorganGenerator\n",
            "[21:18:13] DEPRECATION WARNING: please use MorganGenerator\n",
            "[21:18:13] DEPRECATION WARNING: please use MorganGenerator\n",
            "[21:18:13] DEPRECATION WARNING: please use MorganGenerator\n",
            "[21:18:13] DEPRECATION WARNING: please use MorganGenerator\n",
            "[21:18:13] DEPRECATION WARNING: please use MorganGenerator\n",
            "[21:18:13] DEPRECATION WARNING: please use MorganGenerator\n",
            "[21:18:13] DEPRECATION WARNING: please use MorganGenerator\n",
            "[21:18:13] DEPRECATION WARNING: please use MorganGenerator\n",
            "[21:18:13] DEPRECATION WARNING: please use MorganGenerator\n",
            "[21:18:13] DEPRECATION WARNING: please use MorganGenerator\n",
            "[21:18:13] DEPRECATION WARNING: please use MorganGenerator\n",
            "[21:18:13] DEPRECATION WARNING: please use MorganGenerator\n",
            "[21:18:13] DEPRECATION WARNING: please use MorganGenerator\n",
            "[21:18:13] DEPRECATION WARNING: please use MorganGenerator\n",
            "[21:18:13] DEPRECATION WARNING: please use MorganGenerator\n",
            "[21:18:13] DEPRECATION WARNING: please use MorganGenerator\n",
            "[21:18:13] DEPRECATION WARNING: please use MorganGenerator\n",
            "[21:18:13] DEPRECATION WARNING: please use MorganGenerator\n",
            "[21:18:13] DEPRECATION WARNING: please use MorganGenerator\n",
            "[21:18:13] DEPRECATION WARNING: please use MorganGenerator\n",
            "[21:18:13] DEPRECATION WARNING: please use MorganGenerator\n",
            "[21:18:13] DEPRECATION WARNING: please use MorganGenerator\n",
            "[21:18:13] DEPRECATION WARNING: please use MorganGenerator\n",
            "[21:18:13] DEPRECATION WARNING: please use MorganGenerator\n",
            "[21:18:13] DEPRECATION WARNING: please use MorganGenerator\n",
            "[21:18:13] DEPRECATION WARNING: please use MorganGenerator\n",
            "[21:18:13] DEPRECATION WARNING: please use MorganGenerator\n",
            "[21:18:13] DEPRECATION WARNING: please use MorganGenerator\n",
            "[21:18:13] DEPRECATION WARNING: please use MorganGenerator\n",
            "[21:18:13] DEPRECATION WARNING: please use MorganGenerator\n",
            "[21:18:13] DEPRECATION WARNING: please use MorganGenerator\n",
            "[21:18:13] DEPRECATION WARNING: please use MorganGenerator\n",
            "[21:18:14] DEPRECATION WARNING: please use MorganGenerator\n",
            "[21:18:14] DEPRECATION WARNING: please use MorganGenerator\n",
            "[21:18:14] DEPRECATION WARNING: please use MorganGenerator\n",
            "[21:18:14] DEPRECATION WARNING: please use MorganGenerator\n",
            "[21:18:14] DEPRECATION WARNING: please use MorganGenerator\n",
            "[21:18:14] DEPRECATION WARNING: please use MorganGenerator\n",
            "[21:18:14] DEPRECATION WARNING: please use MorganGenerator\n",
            "[21:18:14] DEPRECATION WARNING: please use MorganGenerator\n",
            "[21:18:14] DEPRECATION WARNING: please use MorganGenerator\n",
            "[21:18:14] DEPRECATION WARNING: please use MorganGenerator\n",
            "[21:18:14] DEPRECATION WARNING: please use MorganGenerator\n",
            "[21:18:14] DEPRECATION WARNING: please use MorganGenerator\n",
            "[21:18:14] DEPRECATION WARNING: please use MorganGenerator\n",
            "[21:18:14] DEPRECATION WARNING: please use MorganGenerator\n",
            "[21:18:14] DEPRECATION WARNING: please use MorganGenerator\n",
            "[21:18:14] DEPRECATION WARNING: please use MorganGenerator\n",
            "[21:18:14] DEPRECATION WARNING: please use MorganGenerator\n",
            "[21:18:14] DEPRECATION WARNING: please use MorganGenerator\n",
            "[21:18:14] DEPRECATION WARNING: please use MorganGenerator\n",
            "[21:18:14] DEPRECATION WARNING: please use MorganGenerator\n",
            "[21:18:14] DEPRECATION WARNING: please use MorganGenerator\n",
            "[21:18:14] DEPRECATION WARNING: please use MorganGenerator\n",
            "[21:18:14] DEPRECATION WARNING: please use MorganGenerator\n",
            "[21:18:14] DEPRECATION WARNING: please use MorganGenerator\n",
            "[21:18:14] DEPRECATION WARNING: please use MorganGenerator\n",
            "[21:18:14] DEPRECATION WARNING: please use MorganGenerator\n",
            "[21:18:14] DEPRECATION WARNING: please use MorganGenerator\n",
            "[21:18:15] DEPRECATION WARNING: please use MorganGenerator\n",
            "[21:18:15] DEPRECATION WARNING: please use MorganGenerator\n",
            "[21:18:15] DEPRECATION WARNING: please use MorganGenerator\n",
            "[21:18:15] DEPRECATION WARNING: please use MorganGenerator\n",
            "[21:18:15] DEPRECATION WARNING: please use MorganGenerator\n",
            "[21:18:15] DEPRECATION WARNING: please use MorganGenerator\n",
            "[21:18:15] DEPRECATION WARNING: please use MorganGenerator\n",
            "[21:18:15] DEPRECATION WARNING: please use MorganGenerator\n",
            "[21:18:15] DEPRECATION WARNING: please use MorganGenerator\n",
            "[21:18:15] DEPRECATION WARNING: please use MorganGenerator\n",
            "[21:18:15] DEPRECATION WARNING: please use MorganGenerator\n",
            "[21:18:15] DEPRECATION WARNING: please use MorganGenerator\n",
            "[21:18:15] DEPRECATION WARNING: please use MorganGenerator\n",
            "[21:18:15] DEPRECATION WARNING: please use MorganGenerator\n",
            "[21:18:15] DEPRECATION WARNING: please use MorganGenerator\n"
          ]
        }
      ],
      "source": [
        "# calculate the molecular descrriptors\n",
        "from rdkit import Chem\n",
        "from rdkit.Chem import Descriptors\n",
        "\n",
        "def calc_descriptors(smiles):\n",
        "  mol = Chem.MolFromSmiles(smiles)\n",
        "  if mol:\n",
        "    desc = Descriptors.CalcMolDescriptors(mol)\n",
        "    return desc\n",
        "  else:\n",
        "    return None\n",
        "\n",
        "df_descriptors = df_filtered_2['SMILES'].apply(calc_descriptors).apply(pd.Series)"
      ]
    },
    {
      "cell_type": "code",
      "execution_count": 19,
      "metadata": {
        "colab": {
          "base_uri": "https://localhost:8080/",
          "height": 444
        },
        "id": "Oi_-3cuXR-kD",
        "outputId": "de962e23-7c81-47dc-dda5-45cdc3ec4ca6"
      },
      "outputs": [
        {
          "output_type": "execute_result",
          "data": {
            "text/plain": [
              "        MaxAbsEStateIndex  MaxEStateIndex  MinAbsEStateIndex  MinEStateIndex  \\\n",
              "86               5.857397        5.857397           0.392174        0.392174   \n",
              "474             14.361410       14.361410           0.019311       -2.428064   \n",
              "837             13.650463       13.650463           0.143172       -0.403882   \n",
              "1234            13.840939       13.840939           0.014337       -3.835901   \n",
              "1640            13.086977       13.086977           0.087308       -0.858086   \n",
              "...                   ...             ...                ...             ...   \n",
              "329242          14.702333       14.702333           0.204394       -4.225922   \n",
              "330105          11.844693       11.844693           0.529183       -3.134761   \n",
              "330945          11.080951       11.080951           0.017097       -4.026224   \n",
              "331660          12.220360       12.220360           0.024463       -0.169023   \n",
              "332493          12.490356       12.490356           0.125631        0.125631   \n",
              "\n",
              "             qed        SPS    MolWt  HeavyAtomMolWt  ExactMolWt  \\\n",
              "86      0.417884  10.517241  393.443         370.259  393.168856   \n",
              "474     0.155511  37.830769  914.187         834.555  913.555142   \n",
              "837     0.626303  14.413793  398.482         371.266  398.211804   \n",
              "1234    0.303631  19.813953  641.621         607.349  640.167782   \n",
              "1640    0.355965  13.794118  475.630         434.302  475.304621   \n",
              "...          ...        ...      ...             ...         ...   \n",
              "329242  0.343231  15.967742  572.343         552.183  572.008975   \n",
              "330105  0.432645  18.600000  513.649         486.433  513.161680   \n",
              "330945  0.531090  25.741935  443.529         418.329  443.162725   \n",
              "331660  0.692307  22.500000  321.380         302.228  321.147727   \n",
              "332493  0.606421  18.470588  468.594         432.306  468.262422   \n",
              "\n",
              "        NumValenceElectrons  ...  fr_sulfide  fr_sulfonamd  fr_sulfone  \\\n",
              "86                    150.0  ...         0.0           0.0         0.0   \n",
              "474                   366.0  ...         0.0           0.0         0.0   \n",
              "837                   154.0  ...         0.0           0.0         0.0   \n",
              "1234                  226.0  ...         0.0           0.0         1.0   \n",
              "1640                  190.0  ...         0.0           0.0         0.0   \n",
              "...                     ...  ...         ...           ...         ...   \n",
              "329242                170.0  ...         0.0           1.0         0.0   \n",
              "330105                184.0  ...         0.0           1.0         0.0   \n",
              "330945                164.0  ...         0.0           0.0         0.0   \n",
              "331660                122.0  ...         0.0           0.0         0.0   \n",
              "332493                184.0  ...         0.0           0.0         0.0   \n",
              "\n",
              "        fr_term_acetylene  fr_tetrazole  fr_thiazole  fr_thiocyan  \\\n",
              "86                    1.0           0.0          0.0          0.0   \n",
              "474                   0.0           0.0          0.0          0.0   \n",
              "837                   0.0           0.0          0.0          0.0   \n",
              "1234                  0.0           0.0          0.0          0.0   \n",
              "1640                  0.0           0.0          0.0          0.0   \n",
              "...                   ...           ...          ...          ...   \n",
              "329242                0.0           0.0          0.0          0.0   \n",
              "330105                0.0           0.0          0.0          0.0   \n",
              "330945                0.0           0.0          0.0          0.0   \n",
              "331660                0.0           0.0          0.0          0.0   \n",
              "332493                0.0           0.0          0.0          0.0   \n",
              "\n",
              "        fr_thiophene  fr_unbrch_alkane  fr_urea  \n",
              "86               0.0               0.0      0.0  \n",
              "474              0.0               0.0      0.0  \n",
              "837              0.0               0.0      0.0  \n",
              "1234             0.0               0.0      0.0  \n",
              "1640             0.0               0.0      0.0  \n",
              "...              ...               ...      ...  \n",
              "329242           0.0               0.0      0.0  \n",
              "330105           1.0               0.0      0.0  \n",
              "330945           0.0               0.0      0.0  \n",
              "331660           0.0               0.0      0.0  \n",
              "332493           0.0               0.0      0.0  \n",
              "\n",
              "[240 rows x 210 columns]"
            ],
            "text/html": [
              "\n",
              "  <div id=\"df-78411e0f-b401-4524-8827-0c289aaa3c95\" class=\"colab-df-container\">\n",
              "    <div>\n",
              "<style scoped>\n",
              "    .dataframe tbody tr th:only-of-type {\n",
              "        vertical-align: middle;\n",
              "    }\n",
              "\n",
              "    .dataframe tbody tr th {\n",
              "        vertical-align: top;\n",
              "    }\n",
              "\n",
              "    .dataframe thead th {\n",
              "        text-align: right;\n",
              "    }\n",
              "</style>\n",
              "<table border=\"1\" class=\"dataframe\">\n",
              "  <thead>\n",
              "    <tr style=\"text-align: right;\">\n",
              "      <th></th>\n",
              "      <th>MaxAbsEStateIndex</th>\n",
              "      <th>MaxEStateIndex</th>\n",
              "      <th>MinAbsEStateIndex</th>\n",
              "      <th>MinEStateIndex</th>\n",
              "      <th>qed</th>\n",
              "      <th>SPS</th>\n",
              "      <th>MolWt</th>\n",
              "      <th>HeavyAtomMolWt</th>\n",
              "      <th>ExactMolWt</th>\n",
              "      <th>NumValenceElectrons</th>\n",
              "      <th>...</th>\n",
              "      <th>fr_sulfide</th>\n",
              "      <th>fr_sulfonamd</th>\n",
              "      <th>fr_sulfone</th>\n",
              "      <th>fr_term_acetylene</th>\n",
              "      <th>fr_tetrazole</th>\n",
              "      <th>fr_thiazole</th>\n",
              "      <th>fr_thiocyan</th>\n",
              "      <th>fr_thiophene</th>\n",
              "      <th>fr_unbrch_alkane</th>\n",
              "      <th>fr_urea</th>\n",
              "    </tr>\n",
              "  </thead>\n",
              "  <tbody>\n",
              "    <tr>\n",
              "      <th>86</th>\n",
              "      <td>5.857397</td>\n",
              "      <td>5.857397</td>\n",
              "      <td>0.392174</td>\n",
              "      <td>0.392174</td>\n",
              "      <td>0.417884</td>\n",
              "      <td>10.517241</td>\n",
              "      <td>393.443</td>\n",
              "      <td>370.259</td>\n",
              "      <td>393.168856</td>\n",
              "      <td>150.0</td>\n",
              "      <td>...</td>\n",
              "      <td>0.0</td>\n",
              "      <td>0.0</td>\n",
              "      <td>0.0</td>\n",
              "      <td>1.0</td>\n",
              "      <td>0.0</td>\n",
              "      <td>0.0</td>\n",
              "      <td>0.0</td>\n",
              "      <td>0.0</td>\n",
              "      <td>0.0</td>\n",
              "      <td>0.0</td>\n",
              "    </tr>\n",
              "    <tr>\n",
              "      <th>474</th>\n",
              "      <td>14.361410</td>\n",
              "      <td>14.361410</td>\n",
              "      <td>0.019311</td>\n",
              "      <td>-2.428064</td>\n",
              "      <td>0.155511</td>\n",
              "      <td>37.830769</td>\n",
              "      <td>914.187</td>\n",
              "      <td>834.555</td>\n",
              "      <td>913.555142</td>\n",
              "      <td>366.0</td>\n",
              "      <td>...</td>\n",
              "      <td>0.0</td>\n",
              "      <td>0.0</td>\n",
              "      <td>0.0</td>\n",
              "      <td>0.0</td>\n",
              "      <td>0.0</td>\n",
              "      <td>0.0</td>\n",
              "      <td>0.0</td>\n",
              "      <td>0.0</td>\n",
              "      <td>0.0</td>\n",
              "      <td>0.0</td>\n",
              "    </tr>\n",
              "    <tr>\n",
              "      <th>837</th>\n",
              "      <td>13.650463</td>\n",
              "      <td>13.650463</td>\n",
              "      <td>0.143172</td>\n",
              "      <td>-0.403882</td>\n",
              "      <td>0.626303</td>\n",
              "      <td>14.413793</td>\n",
              "      <td>398.482</td>\n",
              "      <td>371.266</td>\n",
              "      <td>398.211804</td>\n",
              "      <td>154.0</td>\n",
              "      <td>...</td>\n",
              "      <td>0.0</td>\n",
              "      <td>0.0</td>\n",
              "      <td>0.0</td>\n",
              "      <td>0.0</td>\n",
              "      <td>0.0</td>\n",
              "      <td>0.0</td>\n",
              "      <td>0.0</td>\n",
              "      <td>0.0</td>\n",
              "      <td>0.0</td>\n",
              "      <td>0.0</td>\n",
              "    </tr>\n",
              "    <tr>\n",
              "      <th>1234</th>\n",
              "      <td>13.840939</td>\n",
              "      <td>13.840939</td>\n",
              "      <td>0.014337</td>\n",
              "      <td>-3.835901</td>\n",
              "      <td>0.303631</td>\n",
              "      <td>19.813953</td>\n",
              "      <td>641.621</td>\n",
              "      <td>607.349</td>\n",
              "      <td>640.167782</td>\n",
              "      <td>226.0</td>\n",
              "      <td>...</td>\n",
              "      <td>0.0</td>\n",
              "      <td>0.0</td>\n",
              "      <td>1.0</td>\n",
              "      <td>0.0</td>\n",
              "      <td>0.0</td>\n",
              "      <td>0.0</td>\n",
              "      <td>0.0</td>\n",
              "      <td>0.0</td>\n",
              "      <td>0.0</td>\n",
              "      <td>0.0</td>\n",
              "    </tr>\n",
              "    <tr>\n",
              "      <th>1640</th>\n",
              "      <td>13.086977</td>\n",
              "      <td>13.086977</td>\n",
              "      <td>0.087308</td>\n",
              "      <td>-0.858086</td>\n",
              "      <td>0.355965</td>\n",
              "      <td>13.794118</td>\n",
              "      <td>475.630</td>\n",
              "      <td>434.302</td>\n",
              "      <td>475.304621</td>\n",
              "      <td>190.0</td>\n",
              "      <td>...</td>\n",
              "      <td>0.0</td>\n",
              "      <td>0.0</td>\n",
              "      <td>0.0</td>\n",
              "      <td>0.0</td>\n",
              "      <td>0.0</td>\n",
              "      <td>0.0</td>\n",
              "      <td>0.0</td>\n",
              "      <td>0.0</td>\n",
              "      <td>0.0</td>\n",
              "      <td>0.0</td>\n",
              "    </tr>\n",
              "    <tr>\n",
              "      <th>...</th>\n",
              "      <td>...</td>\n",
              "      <td>...</td>\n",
              "      <td>...</td>\n",
              "      <td>...</td>\n",
              "      <td>...</td>\n",
              "      <td>...</td>\n",
              "      <td>...</td>\n",
              "      <td>...</td>\n",
              "      <td>...</td>\n",
              "      <td>...</td>\n",
              "      <td>...</td>\n",
              "      <td>...</td>\n",
              "      <td>...</td>\n",
              "      <td>...</td>\n",
              "      <td>...</td>\n",
              "      <td>...</td>\n",
              "      <td>...</td>\n",
              "      <td>...</td>\n",
              "      <td>...</td>\n",
              "      <td>...</td>\n",
              "      <td>...</td>\n",
              "    </tr>\n",
              "    <tr>\n",
              "      <th>329242</th>\n",
              "      <td>14.702333</td>\n",
              "      <td>14.702333</td>\n",
              "      <td>0.204394</td>\n",
              "      <td>-4.225922</td>\n",
              "      <td>0.343231</td>\n",
              "      <td>15.967742</td>\n",
              "      <td>572.343</td>\n",
              "      <td>552.183</td>\n",
              "      <td>572.008975</td>\n",
              "      <td>170.0</td>\n",
              "      <td>...</td>\n",
              "      <td>0.0</td>\n",
              "      <td>1.0</td>\n",
              "      <td>0.0</td>\n",
              "      <td>0.0</td>\n",
              "      <td>0.0</td>\n",
              "      <td>0.0</td>\n",
              "      <td>0.0</td>\n",
              "      <td>0.0</td>\n",
              "      <td>0.0</td>\n",
              "      <td>0.0</td>\n",
              "    </tr>\n",
              "    <tr>\n",
              "      <th>330105</th>\n",
              "      <td>11.844693</td>\n",
              "      <td>11.844693</td>\n",
              "      <td>0.529183</td>\n",
              "      <td>-3.134761</td>\n",
              "      <td>0.432645</td>\n",
              "      <td>18.600000</td>\n",
              "      <td>513.649</td>\n",
              "      <td>486.433</td>\n",
              "      <td>513.161680</td>\n",
              "      <td>184.0</td>\n",
              "      <td>...</td>\n",
              "      <td>0.0</td>\n",
              "      <td>1.0</td>\n",
              "      <td>0.0</td>\n",
              "      <td>0.0</td>\n",
              "      <td>0.0</td>\n",
              "      <td>0.0</td>\n",
              "      <td>0.0</td>\n",
              "      <td>1.0</td>\n",
              "      <td>0.0</td>\n",
              "      <td>0.0</td>\n",
              "    </tr>\n",
              "    <tr>\n",
              "      <th>330945</th>\n",
              "      <td>11.080951</td>\n",
              "      <td>11.080951</td>\n",
              "      <td>0.017097</td>\n",
              "      <td>-4.026224</td>\n",
              "      <td>0.531090</td>\n",
              "      <td>25.741935</td>\n",
              "      <td>443.529</td>\n",
              "      <td>418.329</td>\n",
              "      <td>443.162725</td>\n",
              "      <td>164.0</td>\n",
              "      <td>...</td>\n",
              "      <td>0.0</td>\n",
              "      <td>0.0</td>\n",
              "      <td>0.0</td>\n",
              "      <td>0.0</td>\n",
              "      <td>0.0</td>\n",
              "      <td>0.0</td>\n",
              "      <td>0.0</td>\n",
              "      <td>0.0</td>\n",
              "      <td>0.0</td>\n",
              "      <td>0.0</td>\n",
              "    </tr>\n",
              "    <tr>\n",
              "      <th>331660</th>\n",
              "      <td>12.220360</td>\n",
              "      <td>12.220360</td>\n",
              "      <td>0.024463</td>\n",
              "      <td>-0.169023</td>\n",
              "      <td>0.692307</td>\n",
              "      <td>22.500000</td>\n",
              "      <td>321.380</td>\n",
              "      <td>302.228</td>\n",
              "      <td>321.147727</td>\n",
              "      <td>122.0</td>\n",
              "      <td>...</td>\n",
              "      <td>0.0</td>\n",
              "      <td>0.0</td>\n",
              "      <td>0.0</td>\n",
              "      <td>0.0</td>\n",
              "      <td>0.0</td>\n",
              "      <td>0.0</td>\n",
              "      <td>0.0</td>\n",
              "      <td>0.0</td>\n",
              "      <td>0.0</td>\n",
              "      <td>0.0</td>\n",
              "    </tr>\n",
              "    <tr>\n",
              "      <th>332493</th>\n",
              "      <td>12.490356</td>\n",
              "      <td>12.490356</td>\n",
              "      <td>0.125631</td>\n",
              "      <td>0.125631</td>\n",
              "      <td>0.606421</td>\n",
              "      <td>18.470588</td>\n",
              "      <td>468.594</td>\n",
              "      <td>432.306</td>\n",
              "      <td>468.262422</td>\n",
              "      <td>184.0</td>\n",
              "      <td>...</td>\n",
              "      <td>0.0</td>\n",
              "      <td>0.0</td>\n",
              "      <td>0.0</td>\n",
              "      <td>0.0</td>\n",
              "      <td>0.0</td>\n",
              "      <td>0.0</td>\n",
              "      <td>0.0</td>\n",
              "      <td>0.0</td>\n",
              "      <td>0.0</td>\n",
              "      <td>0.0</td>\n",
              "    </tr>\n",
              "  </tbody>\n",
              "</table>\n",
              "<p>240 rows × 210 columns</p>\n",
              "</div>\n",
              "    <div class=\"colab-df-buttons\">\n",
              "\n",
              "  <div class=\"colab-df-container\">\n",
              "    <button class=\"colab-df-convert\" onclick=\"convertToInteractive('df-78411e0f-b401-4524-8827-0c289aaa3c95')\"\n",
              "            title=\"Convert this dataframe to an interactive table.\"\n",
              "            style=\"display:none;\">\n",
              "\n",
              "  <svg xmlns=\"http://www.w3.org/2000/svg\" height=\"24px\" viewBox=\"0 -960 960 960\">\n",
              "    <path d=\"M120-120v-720h720v720H120Zm60-500h600v-160H180v160Zm220 220h160v-160H400v160Zm0 220h160v-160H400v160ZM180-400h160v-160H180v160Zm440 0h160v-160H620v160ZM180-180h160v-160H180v160Zm440 0h160v-160H620v160Z\"/>\n",
              "  </svg>\n",
              "    </button>\n",
              "\n",
              "  <style>\n",
              "    .colab-df-container {\n",
              "      display:flex;\n",
              "      gap: 12px;\n",
              "    }\n",
              "\n",
              "    .colab-df-convert {\n",
              "      background-color: #E8F0FE;\n",
              "      border: none;\n",
              "      border-radius: 50%;\n",
              "      cursor: pointer;\n",
              "      display: none;\n",
              "      fill: #1967D2;\n",
              "      height: 32px;\n",
              "      padding: 0 0 0 0;\n",
              "      width: 32px;\n",
              "    }\n",
              "\n",
              "    .colab-df-convert:hover {\n",
              "      background-color: #E2EBFA;\n",
              "      box-shadow: 0px 1px 2px rgba(60, 64, 67, 0.3), 0px 1px 3px 1px rgba(60, 64, 67, 0.15);\n",
              "      fill: #174EA6;\n",
              "    }\n",
              "\n",
              "    .colab-df-buttons div {\n",
              "      margin-bottom: 4px;\n",
              "    }\n",
              "\n",
              "    [theme=dark] .colab-df-convert {\n",
              "      background-color: #3B4455;\n",
              "      fill: #D2E3FC;\n",
              "    }\n",
              "\n",
              "    [theme=dark] .colab-df-convert:hover {\n",
              "      background-color: #434B5C;\n",
              "      box-shadow: 0px 1px 3px 1px rgba(0, 0, 0, 0.15);\n",
              "      filter: drop-shadow(0px 1px 2px rgba(0, 0, 0, 0.3));\n",
              "      fill: #FFFFFF;\n",
              "    }\n",
              "  </style>\n",
              "\n",
              "    <script>\n",
              "      const buttonEl =\n",
              "        document.querySelector('#df-78411e0f-b401-4524-8827-0c289aaa3c95 button.colab-df-convert');\n",
              "      buttonEl.style.display =\n",
              "        google.colab.kernel.accessAllowed ? 'block' : 'none';\n",
              "\n",
              "      async function convertToInteractive(key) {\n",
              "        const element = document.querySelector('#df-78411e0f-b401-4524-8827-0c289aaa3c95');\n",
              "        const dataTable =\n",
              "          await google.colab.kernel.invokeFunction('convertToInteractive',\n",
              "                                                    [key], {});\n",
              "        if (!dataTable) return;\n",
              "\n",
              "        const docLinkHtml = 'Like what you see? Visit the ' +\n",
              "          '<a target=\"_blank\" href=https://colab.research.google.com/notebooks/data_table.ipynb>data table notebook</a>'\n",
              "          + ' to learn more about interactive tables.';\n",
              "        element.innerHTML = '';\n",
              "        dataTable['output_type'] = 'display_data';\n",
              "        await google.colab.output.renderOutput(dataTable, element);\n",
              "        const docLink = document.createElement('div');\n",
              "        docLink.innerHTML = docLinkHtml;\n",
              "        element.appendChild(docLink);\n",
              "      }\n",
              "    </script>\n",
              "  </div>\n",
              "\n",
              "\n",
              "<div id=\"df-29eea8cd-5d2a-4ac3-bae8-5df5ebc3cfd2\">\n",
              "  <button class=\"colab-df-quickchart\" onclick=\"quickchart('df-29eea8cd-5d2a-4ac3-bae8-5df5ebc3cfd2')\"\n",
              "            title=\"Suggest charts\"\n",
              "            style=\"display:none;\">\n",
              "\n",
              "<svg xmlns=\"http://www.w3.org/2000/svg\" height=\"24px\"viewBox=\"0 0 24 24\"\n",
              "     width=\"24px\">\n",
              "    <g>\n",
              "        <path d=\"M19 3H5c-1.1 0-2 .9-2 2v14c0 1.1.9 2 2 2h14c1.1 0 2-.9 2-2V5c0-1.1-.9-2-2-2zM9 17H7v-7h2v7zm4 0h-2V7h2v10zm4 0h-2v-4h2v4z\"/>\n",
              "    </g>\n",
              "</svg>\n",
              "  </button>\n",
              "\n",
              "<style>\n",
              "  .colab-df-quickchart {\n",
              "      --bg-color: #E8F0FE;\n",
              "      --fill-color: #1967D2;\n",
              "      --hover-bg-color: #E2EBFA;\n",
              "      --hover-fill-color: #174EA6;\n",
              "      --disabled-fill-color: #AAA;\n",
              "      --disabled-bg-color: #DDD;\n",
              "  }\n",
              "\n",
              "  [theme=dark] .colab-df-quickchart {\n",
              "      --bg-color: #3B4455;\n",
              "      --fill-color: #D2E3FC;\n",
              "      --hover-bg-color: #434B5C;\n",
              "      --hover-fill-color: #FFFFFF;\n",
              "      --disabled-bg-color: #3B4455;\n",
              "      --disabled-fill-color: #666;\n",
              "  }\n",
              "\n",
              "  .colab-df-quickchart {\n",
              "    background-color: var(--bg-color);\n",
              "    border: none;\n",
              "    border-radius: 50%;\n",
              "    cursor: pointer;\n",
              "    display: none;\n",
              "    fill: var(--fill-color);\n",
              "    height: 32px;\n",
              "    padding: 0;\n",
              "    width: 32px;\n",
              "  }\n",
              "\n",
              "  .colab-df-quickchart:hover {\n",
              "    background-color: var(--hover-bg-color);\n",
              "    box-shadow: 0 1px 2px rgba(60, 64, 67, 0.3), 0 1px 3px 1px rgba(60, 64, 67, 0.15);\n",
              "    fill: var(--button-hover-fill-color);\n",
              "  }\n",
              "\n",
              "  .colab-df-quickchart-complete:disabled,\n",
              "  .colab-df-quickchart-complete:disabled:hover {\n",
              "    background-color: var(--disabled-bg-color);\n",
              "    fill: var(--disabled-fill-color);\n",
              "    box-shadow: none;\n",
              "  }\n",
              "\n",
              "  .colab-df-spinner {\n",
              "    border: 2px solid var(--fill-color);\n",
              "    border-color: transparent;\n",
              "    border-bottom-color: var(--fill-color);\n",
              "    animation:\n",
              "      spin 1s steps(1) infinite;\n",
              "  }\n",
              "\n",
              "  @keyframes spin {\n",
              "    0% {\n",
              "      border-color: transparent;\n",
              "      border-bottom-color: var(--fill-color);\n",
              "      border-left-color: var(--fill-color);\n",
              "    }\n",
              "    20% {\n",
              "      border-color: transparent;\n",
              "      border-left-color: var(--fill-color);\n",
              "      border-top-color: var(--fill-color);\n",
              "    }\n",
              "    30% {\n",
              "      border-color: transparent;\n",
              "      border-left-color: var(--fill-color);\n",
              "      border-top-color: var(--fill-color);\n",
              "      border-right-color: var(--fill-color);\n",
              "    }\n",
              "    40% {\n",
              "      border-color: transparent;\n",
              "      border-right-color: var(--fill-color);\n",
              "      border-top-color: var(--fill-color);\n",
              "    }\n",
              "    60% {\n",
              "      border-color: transparent;\n",
              "      border-right-color: var(--fill-color);\n",
              "    }\n",
              "    80% {\n",
              "      border-color: transparent;\n",
              "      border-right-color: var(--fill-color);\n",
              "      border-bottom-color: var(--fill-color);\n",
              "    }\n",
              "    90% {\n",
              "      border-color: transparent;\n",
              "      border-bottom-color: var(--fill-color);\n",
              "    }\n",
              "  }\n",
              "</style>\n",
              "\n",
              "  <script>\n",
              "    async function quickchart(key) {\n",
              "      const quickchartButtonEl =\n",
              "        document.querySelector('#' + key + ' button');\n",
              "      quickchartButtonEl.disabled = true;  // To prevent multiple clicks.\n",
              "      quickchartButtonEl.classList.add('colab-df-spinner');\n",
              "      try {\n",
              "        const charts = await google.colab.kernel.invokeFunction(\n",
              "            'suggestCharts', [key], {});\n",
              "      } catch (error) {\n",
              "        console.error('Error during call to suggestCharts:', error);\n",
              "      }\n",
              "      quickchartButtonEl.classList.remove('colab-df-spinner');\n",
              "      quickchartButtonEl.classList.add('colab-df-quickchart-complete');\n",
              "    }\n",
              "    (() => {\n",
              "      let quickchartButtonEl =\n",
              "        document.querySelector('#df-29eea8cd-5d2a-4ac3-bae8-5df5ebc3cfd2 button');\n",
              "      quickchartButtonEl.style.display =\n",
              "        google.colab.kernel.accessAllowed ? 'block' : 'none';\n",
              "    })();\n",
              "  </script>\n",
              "</div>\n",
              "\n",
              "  <div id=\"id_b36a23a3-93c7-4631-b80a-c79898d913a5\">\n",
              "    <style>\n",
              "      .colab-df-generate {\n",
              "        background-color: #E8F0FE;\n",
              "        border: none;\n",
              "        border-radius: 50%;\n",
              "        cursor: pointer;\n",
              "        display: none;\n",
              "        fill: #1967D2;\n",
              "        height: 32px;\n",
              "        padding: 0 0 0 0;\n",
              "        width: 32px;\n",
              "      }\n",
              "\n",
              "      .colab-df-generate:hover {\n",
              "        background-color: #E2EBFA;\n",
              "        box-shadow: 0px 1px 2px rgba(60, 64, 67, 0.3), 0px 1px 3px 1px rgba(60, 64, 67, 0.15);\n",
              "        fill: #174EA6;\n",
              "      }\n",
              "\n",
              "      [theme=dark] .colab-df-generate {\n",
              "        background-color: #3B4455;\n",
              "        fill: #D2E3FC;\n",
              "      }\n",
              "\n",
              "      [theme=dark] .colab-df-generate:hover {\n",
              "        background-color: #434B5C;\n",
              "        box-shadow: 0px 1px 3px 1px rgba(0, 0, 0, 0.15);\n",
              "        filter: drop-shadow(0px 1px 2px rgba(0, 0, 0, 0.3));\n",
              "        fill: #FFFFFF;\n",
              "      }\n",
              "    </style>\n",
              "    <button class=\"colab-df-generate\" onclick=\"generateWithVariable('df_descriptors')\"\n",
              "            title=\"Generate code using this dataframe.\"\n",
              "            style=\"display:none;\">\n",
              "\n",
              "  <svg xmlns=\"http://www.w3.org/2000/svg\" height=\"24px\"viewBox=\"0 0 24 24\"\n",
              "       width=\"24px\">\n",
              "    <path d=\"M7,19H8.4L18.45,9,17,7.55,7,17.6ZM5,21V16.75L18.45,3.32a2,2,0,0,1,2.83,0l1.4,1.43a1.91,1.91,0,0,1,.58,1.4,1.91,1.91,0,0,1-.58,1.4L9.25,21ZM18.45,9,17,7.55Zm-12,3A5.31,5.31,0,0,0,4.9,8.1,5.31,5.31,0,0,0,1,6.5,5.31,5.31,0,0,0,4.9,4.9,5.31,5.31,0,0,0,6.5,1,5.31,5.31,0,0,0,8.1,4.9,5.31,5.31,0,0,0,12,6.5,5.46,5.46,0,0,0,6.5,12Z\"/>\n",
              "  </svg>\n",
              "    </button>\n",
              "    <script>\n",
              "      (() => {\n",
              "      const buttonEl =\n",
              "        document.querySelector('#id_b36a23a3-93c7-4631-b80a-c79898d913a5 button.colab-df-generate');\n",
              "      buttonEl.style.display =\n",
              "        google.colab.kernel.accessAllowed ? 'block' : 'none';\n",
              "\n",
              "      buttonEl.onclick = () => {\n",
              "        google.colab.notebook.generateWithVariable('df_descriptors');\n",
              "      }\n",
              "      })();\n",
              "    </script>\n",
              "  </div>\n",
              "\n",
              "    </div>\n",
              "  </div>\n"
            ],
            "application/vnd.google.colaboratory.intrinsic+json": {
              "type": "dataframe",
              "variable_name": "df_descriptors"
            }
          },
          "metadata": {},
          "execution_count": 19
        }
      ],
      "source": [
        "df_descriptors"
      ]
    },
    {
      "cell_type": "code",
      "execution_count": 20,
      "metadata": {
        "id": "5YLrbgRHSC0u"
      },
      "outputs": [],
      "source": [
        "#subset the Ln_IC50\n",
        "LN_IC = df_filtered_2[(\"LN_IC50\")]"
      ]
    },
    {
      "cell_type": "code",
      "execution_count": 21,
      "metadata": {
        "id": "swJmyBFHSKCP"
      },
      "outputs": [],
      "source": [
        "# combine df_lipinski , df_discreptos and subset LN_IC\n",
        "fp_LnIC = pd.concat([df_descriptors, df_lipinski, LN_IC], axis=1)"
      ]
    },
    {
      "cell_type": "code",
      "execution_count": 22,
      "metadata": {
        "id": "QjyJujjZSPUc"
      },
      "outputs": [],
      "source": [
        "# the Molecular is now in duplicate, one from Lipinski df (MW) and the other from the molecular descriptor (MolWt), you can drop one\n",
        "fp_LnIC = fp_LnIC.drop('MW', axis=1)"
      ]
    },
    {
      "cell_type": "code",
      "execution_count": 23,
      "metadata": {
        "id": "0rY0SvavSTET"
      },
      "outputs": [],
      "source": [
        "fp_LnIC = fp_LnIC.dropna()"
      ]
    },
    {
      "cell_type": "code",
      "execution_count": 24,
      "metadata": {
        "colab": {
          "base_uri": "https://localhost:8080/",
          "height": 444
        },
        "id": "WnEZeqowSVgv",
        "outputId": "80888aaa-12a0-4b4c-ad8d-9b52444ae45a"
      },
      "outputs": [
        {
          "output_type": "execute_result",
          "data": {
            "text/plain": [
              "        MaxAbsEStateIndex  MaxEStateIndex  MinAbsEStateIndex  MinEStateIndex  \\\n",
              "86               5.857397        5.857397           0.392174        0.392174   \n",
              "474             14.361410       14.361410           0.019311       -2.428064   \n",
              "837             13.650463       13.650463           0.143172       -0.403882   \n",
              "1234            13.840939       13.840939           0.014337       -3.835901   \n",
              "1640            13.086977       13.086977           0.087308       -0.858086   \n",
              "...                   ...             ...                ...             ...   \n",
              "329242          14.702333       14.702333           0.204394       -4.225922   \n",
              "330105          11.844693       11.844693           0.529183       -3.134761   \n",
              "330945          11.080951       11.080951           0.017097       -4.026224   \n",
              "331660          12.220360       12.220360           0.024463       -0.169023   \n",
              "332493          12.490356       12.490356           0.125631        0.125631   \n",
              "\n",
              "             qed        SPS    MolWt  HeavyAtomMolWt  ExactMolWt  \\\n",
              "86      0.417884  10.517241  393.443         370.259  393.168856   \n",
              "474     0.155511  37.830769  914.187         834.555  913.555142   \n",
              "837     0.626303  14.413793  398.482         371.266  398.211804   \n",
              "1234    0.303631  19.813953  641.621         607.349  640.167782   \n",
              "1640    0.355965  13.794118  475.630         434.302  475.304621   \n",
              "...          ...        ...      ...             ...         ...   \n",
              "329242  0.343231  15.967742  572.343         552.183  572.008975   \n",
              "330105  0.432645  18.600000  513.649         486.433  513.161680   \n",
              "330945  0.531090  25.741935  443.529         418.329  443.162725   \n",
              "331660  0.692307  22.500000  321.380         302.228  321.147727   \n",
              "332493  0.606421  18.470588  468.594         432.306  468.262422   \n",
              "\n",
              "        NumValenceElectrons  ...  fr_tetrazole  fr_thiazole  fr_thiocyan  \\\n",
              "86                    150.0  ...           0.0          0.0          0.0   \n",
              "474                   366.0  ...           0.0          0.0          0.0   \n",
              "837                   154.0  ...           0.0          0.0          0.0   \n",
              "1234                  226.0  ...           0.0          0.0          0.0   \n",
              "1640                  190.0  ...           0.0          0.0          0.0   \n",
              "...                     ...  ...           ...          ...          ...   \n",
              "329242                170.0  ...           0.0          0.0          0.0   \n",
              "330105                184.0  ...           0.0          0.0          0.0   \n",
              "330945                164.0  ...           0.0          0.0          0.0   \n",
              "331660                122.0  ...           0.0          0.0          0.0   \n",
              "332493                184.0  ...           0.0          0.0          0.0   \n",
              "\n",
              "        fr_thiophene  fr_unbrch_alkane  fr_urea     LogP  HDon  HAcc   LN_IC50  \n",
              "86               0.0               0.0      0.0  3.40510   1.0   7.0  3.394001  \n",
              "474              0.0               0.0      0.0  6.18060   3.0  13.0 -1.113085  \n",
              "837              0.0               0.0      0.0  3.33494   3.0   3.0  4.013588  \n",
              "1234             0.0               0.0      0.0  6.10534   2.0   5.0  3.092390  \n",
              "1640             0.0               0.0      0.0  3.58820   3.0   5.0  2.369072  \n",
              "...              ...               ...      ...      ...   ...   ...       ...  \n",
              "329242           0.0               0.0      0.0  3.47830   4.0   6.0 -1.542607  \n",
              "330105           1.0               0.0      0.0  2.14840   1.0   9.0  1.439194  \n",
              "330945           0.0               0.0      0.0  2.06280   3.0   8.0 -0.809756  \n",
              "331660           0.0               0.0      0.0  2.44670   1.0   5.0  5.665698  \n",
              "332493           0.0               0.0      0.0  4.22240   0.0   6.0  5.864130  \n",
              "\n",
              "[238 rows x 214 columns]"
            ],
            "text/html": [
              "\n",
              "  <div id=\"df-637e2b4e-7d6a-4e1a-9ab9-9058262536f8\" class=\"colab-df-container\">\n",
              "    <div>\n",
              "<style scoped>\n",
              "    .dataframe tbody tr th:only-of-type {\n",
              "        vertical-align: middle;\n",
              "    }\n",
              "\n",
              "    .dataframe tbody tr th {\n",
              "        vertical-align: top;\n",
              "    }\n",
              "\n",
              "    .dataframe thead th {\n",
              "        text-align: right;\n",
              "    }\n",
              "</style>\n",
              "<table border=\"1\" class=\"dataframe\">\n",
              "  <thead>\n",
              "    <tr style=\"text-align: right;\">\n",
              "      <th></th>\n",
              "      <th>MaxAbsEStateIndex</th>\n",
              "      <th>MaxEStateIndex</th>\n",
              "      <th>MinAbsEStateIndex</th>\n",
              "      <th>MinEStateIndex</th>\n",
              "      <th>qed</th>\n",
              "      <th>SPS</th>\n",
              "      <th>MolWt</th>\n",
              "      <th>HeavyAtomMolWt</th>\n",
              "      <th>ExactMolWt</th>\n",
              "      <th>NumValenceElectrons</th>\n",
              "      <th>...</th>\n",
              "      <th>fr_tetrazole</th>\n",
              "      <th>fr_thiazole</th>\n",
              "      <th>fr_thiocyan</th>\n",
              "      <th>fr_thiophene</th>\n",
              "      <th>fr_unbrch_alkane</th>\n",
              "      <th>fr_urea</th>\n",
              "      <th>LogP</th>\n",
              "      <th>HDon</th>\n",
              "      <th>HAcc</th>\n",
              "      <th>LN_IC50</th>\n",
              "    </tr>\n",
              "  </thead>\n",
              "  <tbody>\n",
              "    <tr>\n",
              "      <th>86</th>\n",
              "      <td>5.857397</td>\n",
              "      <td>5.857397</td>\n",
              "      <td>0.392174</td>\n",
              "      <td>0.392174</td>\n",
              "      <td>0.417884</td>\n",
              "      <td>10.517241</td>\n",
              "      <td>393.443</td>\n",
              "      <td>370.259</td>\n",
              "      <td>393.168856</td>\n",
              "      <td>150.0</td>\n",
              "      <td>...</td>\n",
              "      <td>0.0</td>\n",
              "      <td>0.0</td>\n",
              "      <td>0.0</td>\n",
              "      <td>0.0</td>\n",
              "      <td>0.0</td>\n",
              "      <td>0.0</td>\n",
              "      <td>3.40510</td>\n",
              "      <td>1.0</td>\n",
              "      <td>7.0</td>\n",
              "      <td>3.394001</td>\n",
              "    </tr>\n",
              "    <tr>\n",
              "      <th>474</th>\n",
              "      <td>14.361410</td>\n",
              "      <td>14.361410</td>\n",
              "      <td>0.019311</td>\n",
              "      <td>-2.428064</td>\n",
              "      <td>0.155511</td>\n",
              "      <td>37.830769</td>\n",
              "      <td>914.187</td>\n",
              "      <td>834.555</td>\n",
              "      <td>913.555142</td>\n",
              "      <td>366.0</td>\n",
              "      <td>...</td>\n",
              "      <td>0.0</td>\n",
              "      <td>0.0</td>\n",
              "      <td>0.0</td>\n",
              "      <td>0.0</td>\n",
              "      <td>0.0</td>\n",
              "      <td>0.0</td>\n",
              "      <td>6.18060</td>\n",
              "      <td>3.0</td>\n",
              "      <td>13.0</td>\n",
              "      <td>-1.113085</td>\n",
              "    </tr>\n",
              "    <tr>\n",
              "      <th>837</th>\n",
              "      <td>13.650463</td>\n",
              "      <td>13.650463</td>\n",
              "      <td>0.143172</td>\n",
              "      <td>-0.403882</td>\n",
              "      <td>0.626303</td>\n",
              "      <td>14.413793</td>\n",
              "      <td>398.482</td>\n",
              "      <td>371.266</td>\n",
              "      <td>398.211804</td>\n",
              "      <td>154.0</td>\n",
              "      <td>...</td>\n",
              "      <td>0.0</td>\n",
              "      <td>0.0</td>\n",
              "      <td>0.0</td>\n",
              "      <td>0.0</td>\n",
              "      <td>0.0</td>\n",
              "      <td>0.0</td>\n",
              "      <td>3.33494</td>\n",
              "      <td>3.0</td>\n",
              "      <td>3.0</td>\n",
              "      <td>4.013588</td>\n",
              "    </tr>\n",
              "    <tr>\n",
              "      <th>1234</th>\n",
              "      <td>13.840939</td>\n",
              "      <td>13.840939</td>\n",
              "      <td>0.014337</td>\n",
              "      <td>-3.835901</td>\n",
              "      <td>0.303631</td>\n",
              "      <td>19.813953</td>\n",
              "      <td>641.621</td>\n",
              "      <td>607.349</td>\n",
              "      <td>640.167782</td>\n",
              "      <td>226.0</td>\n",
              "      <td>...</td>\n",
              "      <td>0.0</td>\n",
              "      <td>0.0</td>\n",
              "      <td>0.0</td>\n",
              "      <td>0.0</td>\n",
              "      <td>0.0</td>\n",
              "      <td>0.0</td>\n",
              "      <td>6.10534</td>\n",
              "      <td>2.0</td>\n",
              "      <td>5.0</td>\n",
              "      <td>3.092390</td>\n",
              "    </tr>\n",
              "    <tr>\n",
              "      <th>1640</th>\n",
              "      <td>13.086977</td>\n",
              "      <td>13.086977</td>\n",
              "      <td>0.087308</td>\n",
              "      <td>-0.858086</td>\n",
              "      <td>0.355965</td>\n",
              "      <td>13.794118</td>\n",
              "      <td>475.630</td>\n",
              "      <td>434.302</td>\n",
              "      <td>475.304621</td>\n",
              "      <td>190.0</td>\n",
              "      <td>...</td>\n",
              "      <td>0.0</td>\n",
              "      <td>0.0</td>\n",
              "      <td>0.0</td>\n",
              "      <td>0.0</td>\n",
              "      <td>0.0</td>\n",
              "      <td>0.0</td>\n",
              "      <td>3.58820</td>\n",
              "      <td>3.0</td>\n",
              "      <td>5.0</td>\n",
              "      <td>2.369072</td>\n",
              "    </tr>\n",
              "    <tr>\n",
              "      <th>...</th>\n",
              "      <td>...</td>\n",
              "      <td>...</td>\n",
              "      <td>...</td>\n",
              "      <td>...</td>\n",
              "      <td>...</td>\n",
              "      <td>...</td>\n",
              "      <td>...</td>\n",
              "      <td>...</td>\n",
              "      <td>...</td>\n",
              "      <td>...</td>\n",
              "      <td>...</td>\n",
              "      <td>...</td>\n",
              "      <td>...</td>\n",
              "      <td>...</td>\n",
              "      <td>...</td>\n",
              "      <td>...</td>\n",
              "      <td>...</td>\n",
              "      <td>...</td>\n",
              "      <td>...</td>\n",
              "      <td>...</td>\n",
              "      <td>...</td>\n",
              "    </tr>\n",
              "    <tr>\n",
              "      <th>329242</th>\n",
              "      <td>14.702333</td>\n",
              "      <td>14.702333</td>\n",
              "      <td>0.204394</td>\n",
              "      <td>-4.225922</td>\n",
              "      <td>0.343231</td>\n",
              "      <td>15.967742</td>\n",
              "      <td>572.343</td>\n",
              "      <td>552.183</td>\n",
              "      <td>572.008975</td>\n",
              "      <td>170.0</td>\n",
              "      <td>...</td>\n",
              "      <td>0.0</td>\n",
              "      <td>0.0</td>\n",
              "      <td>0.0</td>\n",
              "      <td>0.0</td>\n",
              "      <td>0.0</td>\n",
              "      <td>0.0</td>\n",
              "      <td>3.47830</td>\n",
              "      <td>4.0</td>\n",
              "      <td>6.0</td>\n",
              "      <td>-1.542607</td>\n",
              "    </tr>\n",
              "    <tr>\n",
              "      <th>330105</th>\n",
              "      <td>11.844693</td>\n",
              "      <td>11.844693</td>\n",
              "      <td>0.529183</td>\n",
              "      <td>-3.134761</td>\n",
              "      <td>0.432645</td>\n",
              "      <td>18.600000</td>\n",
              "      <td>513.649</td>\n",
              "      <td>486.433</td>\n",
              "      <td>513.161680</td>\n",
              "      <td>184.0</td>\n",
              "      <td>...</td>\n",
              "      <td>0.0</td>\n",
              "      <td>0.0</td>\n",
              "      <td>0.0</td>\n",
              "      <td>1.0</td>\n",
              "      <td>0.0</td>\n",
              "      <td>0.0</td>\n",
              "      <td>2.14840</td>\n",
              "      <td>1.0</td>\n",
              "      <td>9.0</td>\n",
              "      <td>1.439194</td>\n",
              "    </tr>\n",
              "    <tr>\n",
              "      <th>330945</th>\n",
              "      <td>11.080951</td>\n",
              "      <td>11.080951</td>\n",
              "      <td>0.017097</td>\n",
              "      <td>-4.026224</td>\n",
              "      <td>0.531090</td>\n",
              "      <td>25.741935</td>\n",
              "      <td>443.529</td>\n",
              "      <td>418.329</td>\n",
              "      <td>443.162725</td>\n",
              "      <td>164.0</td>\n",
              "      <td>...</td>\n",
              "      <td>0.0</td>\n",
              "      <td>0.0</td>\n",
              "      <td>0.0</td>\n",
              "      <td>0.0</td>\n",
              "      <td>0.0</td>\n",
              "      <td>0.0</td>\n",
              "      <td>2.06280</td>\n",
              "      <td>3.0</td>\n",
              "      <td>8.0</td>\n",
              "      <td>-0.809756</td>\n",
              "    </tr>\n",
              "    <tr>\n",
              "      <th>331660</th>\n",
              "      <td>12.220360</td>\n",
              "      <td>12.220360</td>\n",
              "      <td>0.024463</td>\n",
              "      <td>-0.169023</td>\n",
              "      <td>0.692307</td>\n",
              "      <td>22.500000</td>\n",
              "      <td>321.380</td>\n",
              "      <td>302.228</td>\n",
              "      <td>321.147727</td>\n",
              "      <td>122.0</td>\n",
              "      <td>...</td>\n",
              "      <td>0.0</td>\n",
              "      <td>0.0</td>\n",
              "      <td>0.0</td>\n",
              "      <td>0.0</td>\n",
              "      <td>0.0</td>\n",
              "      <td>0.0</td>\n",
              "      <td>2.44670</td>\n",
              "      <td>1.0</td>\n",
              "      <td>5.0</td>\n",
              "      <td>5.665698</td>\n",
              "    </tr>\n",
              "    <tr>\n",
              "      <th>332493</th>\n",
              "      <td>12.490356</td>\n",
              "      <td>12.490356</td>\n",
              "      <td>0.125631</td>\n",
              "      <td>0.125631</td>\n",
              "      <td>0.606421</td>\n",
              "      <td>18.470588</td>\n",
              "      <td>468.594</td>\n",
              "      <td>432.306</td>\n",
              "      <td>468.262422</td>\n",
              "      <td>184.0</td>\n",
              "      <td>...</td>\n",
              "      <td>0.0</td>\n",
              "      <td>0.0</td>\n",
              "      <td>0.0</td>\n",
              "      <td>0.0</td>\n",
              "      <td>0.0</td>\n",
              "      <td>0.0</td>\n",
              "      <td>4.22240</td>\n",
              "      <td>0.0</td>\n",
              "      <td>6.0</td>\n",
              "      <td>5.864130</td>\n",
              "    </tr>\n",
              "  </tbody>\n",
              "</table>\n",
              "<p>238 rows × 214 columns</p>\n",
              "</div>\n",
              "    <div class=\"colab-df-buttons\">\n",
              "\n",
              "  <div class=\"colab-df-container\">\n",
              "    <button class=\"colab-df-convert\" onclick=\"convertToInteractive('df-637e2b4e-7d6a-4e1a-9ab9-9058262536f8')\"\n",
              "            title=\"Convert this dataframe to an interactive table.\"\n",
              "            style=\"display:none;\">\n",
              "\n",
              "  <svg xmlns=\"http://www.w3.org/2000/svg\" height=\"24px\" viewBox=\"0 -960 960 960\">\n",
              "    <path d=\"M120-120v-720h720v720H120Zm60-500h600v-160H180v160Zm220 220h160v-160H400v160Zm0 220h160v-160H400v160ZM180-400h160v-160H180v160Zm440 0h160v-160H620v160ZM180-180h160v-160H180v160Zm440 0h160v-160H620v160Z\"/>\n",
              "  </svg>\n",
              "    </button>\n",
              "\n",
              "  <style>\n",
              "    .colab-df-container {\n",
              "      display:flex;\n",
              "      gap: 12px;\n",
              "    }\n",
              "\n",
              "    .colab-df-convert {\n",
              "      background-color: #E8F0FE;\n",
              "      border: none;\n",
              "      border-radius: 50%;\n",
              "      cursor: pointer;\n",
              "      display: none;\n",
              "      fill: #1967D2;\n",
              "      height: 32px;\n",
              "      padding: 0 0 0 0;\n",
              "      width: 32px;\n",
              "    }\n",
              "\n",
              "    .colab-df-convert:hover {\n",
              "      background-color: #E2EBFA;\n",
              "      box-shadow: 0px 1px 2px rgba(60, 64, 67, 0.3), 0px 1px 3px 1px rgba(60, 64, 67, 0.15);\n",
              "      fill: #174EA6;\n",
              "    }\n",
              "\n",
              "    .colab-df-buttons div {\n",
              "      margin-bottom: 4px;\n",
              "    }\n",
              "\n",
              "    [theme=dark] .colab-df-convert {\n",
              "      background-color: #3B4455;\n",
              "      fill: #D2E3FC;\n",
              "    }\n",
              "\n",
              "    [theme=dark] .colab-df-convert:hover {\n",
              "      background-color: #434B5C;\n",
              "      box-shadow: 0px 1px 3px 1px rgba(0, 0, 0, 0.15);\n",
              "      filter: drop-shadow(0px 1px 2px rgba(0, 0, 0, 0.3));\n",
              "      fill: #FFFFFF;\n",
              "    }\n",
              "  </style>\n",
              "\n",
              "    <script>\n",
              "      const buttonEl =\n",
              "        document.querySelector('#df-637e2b4e-7d6a-4e1a-9ab9-9058262536f8 button.colab-df-convert');\n",
              "      buttonEl.style.display =\n",
              "        google.colab.kernel.accessAllowed ? 'block' : 'none';\n",
              "\n",
              "      async function convertToInteractive(key) {\n",
              "        const element = document.querySelector('#df-637e2b4e-7d6a-4e1a-9ab9-9058262536f8');\n",
              "        const dataTable =\n",
              "          await google.colab.kernel.invokeFunction('convertToInteractive',\n",
              "                                                    [key], {});\n",
              "        if (!dataTable) return;\n",
              "\n",
              "        const docLinkHtml = 'Like what you see? Visit the ' +\n",
              "          '<a target=\"_blank\" href=https://colab.research.google.com/notebooks/data_table.ipynb>data table notebook</a>'\n",
              "          + ' to learn more about interactive tables.';\n",
              "        element.innerHTML = '';\n",
              "        dataTable['output_type'] = 'display_data';\n",
              "        await google.colab.output.renderOutput(dataTable, element);\n",
              "        const docLink = document.createElement('div');\n",
              "        docLink.innerHTML = docLinkHtml;\n",
              "        element.appendChild(docLink);\n",
              "      }\n",
              "    </script>\n",
              "  </div>\n",
              "\n",
              "\n",
              "<div id=\"df-0ed37a12-4f0e-4cce-874e-a3f7ca2094af\">\n",
              "  <button class=\"colab-df-quickchart\" onclick=\"quickchart('df-0ed37a12-4f0e-4cce-874e-a3f7ca2094af')\"\n",
              "            title=\"Suggest charts\"\n",
              "            style=\"display:none;\">\n",
              "\n",
              "<svg xmlns=\"http://www.w3.org/2000/svg\" height=\"24px\"viewBox=\"0 0 24 24\"\n",
              "     width=\"24px\">\n",
              "    <g>\n",
              "        <path d=\"M19 3H5c-1.1 0-2 .9-2 2v14c0 1.1.9 2 2 2h14c1.1 0 2-.9 2-2V5c0-1.1-.9-2-2-2zM9 17H7v-7h2v7zm4 0h-2V7h2v10zm4 0h-2v-4h2v4z\"/>\n",
              "    </g>\n",
              "</svg>\n",
              "  </button>\n",
              "\n",
              "<style>\n",
              "  .colab-df-quickchart {\n",
              "      --bg-color: #E8F0FE;\n",
              "      --fill-color: #1967D2;\n",
              "      --hover-bg-color: #E2EBFA;\n",
              "      --hover-fill-color: #174EA6;\n",
              "      --disabled-fill-color: #AAA;\n",
              "      --disabled-bg-color: #DDD;\n",
              "  }\n",
              "\n",
              "  [theme=dark] .colab-df-quickchart {\n",
              "      --bg-color: #3B4455;\n",
              "      --fill-color: #D2E3FC;\n",
              "      --hover-bg-color: #434B5C;\n",
              "      --hover-fill-color: #FFFFFF;\n",
              "      --disabled-bg-color: #3B4455;\n",
              "      --disabled-fill-color: #666;\n",
              "  }\n",
              "\n",
              "  .colab-df-quickchart {\n",
              "    background-color: var(--bg-color);\n",
              "    border: none;\n",
              "    border-radius: 50%;\n",
              "    cursor: pointer;\n",
              "    display: none;\n",
              "    fill: var(--fill-color);\n",
              "    height: 32px;\n",
              "    padding: 0;\n",
              "    width: 32px;\n",
              "  }\n",
              "\n",
              "  .colab-df-quickchart:hover {\n",
              "    background-color: var(--hover-bg-color);\n",
              "    box-shadow: 0 1px 2px rgba(60, 64, 67, 0.3), 0 1px 3px 1px rgba(60, 64, 67, 0.15);\n",
              "    fill: var(--button-hover-fill-color);\n",
              "  }\n",
              "\n",
              "  .colab-df-quickchart-complete:disabled,\n",
              "  .colab-df-quickchart-complete:disabled:hover {\n",
              "    background-color: var(--disabled-bg-color);\n",
              "    fill: var(--disabled-fill-color);\n",
              "    box-shadow: none;\n",
              "  }\n",
              "\n",
              "  .colab-df-spinner {\n",
              "    border: 2px solid var(--fill-color);\n",
              "    border-color: transparent;\n",
              "    border-bottom-color: var(--fill-color);\n",
              "    animation:\n",
              "      spin 1s steps(1) infinite;\n",
              "  }\n",
              "\n",
              "  @keyframes spin {\n",
              "    0% {\n",
              "      border-color: transparent;\n",
              "      border-bottom-color: var(--fill-color);\n",
              "      border-left-color: var(--fill-color);\n",
              "    }\n",
              "    20% {\n",
              "      border-color: transparent;\n",
              "      border-left-color: var(--fill-color);\n",
              "      border-top-color: var(--fill-color);\n",
              "    }\n",
              "    30% {\n",
              "      border-color: transparent;\n",
              "      border-left-color: var(--fill-color);\n",
              "      border-top-color: var(--fill-color);\n",
              "      border-right-color: var(--fill-color);\n",
              "    }\n",
              "    40% {\n",
              "      border-color: transparent;\n",
              "      border-right-color: var(--fill-color);\n",
              "      border-top-color: var(--fill-color);\n",
              "    }\n",
              "    60% {\n",
              "      border-color: transparent;\n",
              "      border-right-color: var(--fill-color);\n",
              "    }\n",
              "    80% {\n",
              "      border-color: transparent;\n",
              "      border-right-color: var(--fill-color);\n",
              "      border-bottom-color: var(--fill-color);\n",
              "    }\n",
              "    90% {\n",
              "      border-color: transparent;\n",
              "      border-bottom-color: var(--fill-color);\n",
              "    }\n",
              "  }\n",
              "</style>\n",
              "\n",
              "  <script>\n",
              "    async function quickchart(key) {\n",
              "      const quickchartButtonEl =\n",
              "        document.querySelector('#' + key + ' button');\n",
              "      quickchartButtonEl.disabled = true;  // To prevent multiple clicks.\n",
              "      quickchartButtonEl.classList.add('colab-df-spinner');\n",
              "      try {\n",
              "        const charts = await google.colab.kernel.invokeFunction(\n",
              "            'suggestCharts', [key], {});\n",
              "      } catch (error) {\n",
              "        console.error('Error during call to suggestCharts:', error);\n",
              "      }\n",
              "      quickchartButtonEl.classList.remove('colab-df-spinner');\n",
              "      quickchartButtonEl.classList.add('colab-df-quickchart-complete');\n",
              "    }\n",
              "    (() => {\n",
              "      let quickchartButtonEl =\n",
              "        document.querySelector('#df-0ed37a12-4f0e-4cce-874e-a3f7ca2094af button');\n",
              "      quickchartButtonEl.style.display =\n",
              "        google.colab.kernel.accessAllowed ? 'block' : 'none';\n",
              "    })();\n",
              "  </script>\n",
              "</div>\n",
              "\n",
              "  <div id=\"id_604f40f0-b967-4e96-88d0-3a077744ca25\">\n",
              "    <style>\n",
              "      .colab-df-generate {\n",
              "        background-color: #E8F0FE;\n",
              "        border: none;\n",
              "        border-radius: 50%;\n",
              "        cursor: pointer;\n",
              "        display: none;\n",
              "        fill: #1967D2;\n",
              "        height: 32px;\n",
              "        padding: 0 0 0 0;\n",
              "        width: 32px;\n",
              "      }\n",
              "\n",
              "      .colab-df-generate:hover {\n",
              "        background-color: #E2EBFA;\n",
              "        box-shadow: 0px 1px 2px rgba(60, 64, 67, 0.3), 0px 1px 3px 1px rgba(60, 64, 67, 0.15);\n",
              "        fill: #174EA6;\n",
              "      }\n",
              "\n",
              "      [theme=dark] .colab-df-generate {\n",
              "        background-color: #3B4455;\n",
              "        fill: #D2E3FC;\n",
              "      }\n",
              "\n",
              "      [theme=dark] .colab-df-generate:hover {\n",
              "        background-color: #434B5C;\n",
              "        box-shadow: 0px 1px 3px 1px rgba(0, 0, 0, 0.15);\n",
              "        filter: drop-shadow(0px 1px 2px rgba(0, 0, 0, 0.3));\n",
              "        fill: #FFFFFF;\n",
              "      }\n",
              "    </style>\n",
              "    <button class=\"colab-df-generate\" onclick=\"generateWithVariable('fp_LnIC')\"\n",
              "            title=\"Generate code using this dataframe.\"\n",
              "            style=\"display:none;\">\n",
              "\n",
              "  <svg xmlns=\"http://www.w3.org/2000/svg\" height=\"24px\"viewBox=\"0 0 24 24\"\n",
              "       width=\"24px\">\n",
              "    <path d=\"M7,19H8.4L18.45,9,17,7.55,7,17.6ZM5,21V16.75L18.45,3.32a2,2,0,0,1,2.83,0l1.4,1.43a1.91,1.91,0,0,1,.58,1.4,1.91,1.91,0,0,1-.58,1.4L9.25,21ZM18.45,9,17,7.55Zm-12,3A5.31,5.31,0,0,0,4.9,8.1,5.31,5.31,0,0,0,1,6.5,5.31,5.31,0,0,0,4.9,4.9,5.31,5.31,0,0,0,6.5,1,5.31,5.31,0,0,0,8.1,4.9,5.31,5.31,0,0,0,12,6.5,5.46,5.46,0,0,0,6.5,12Z\"/>\n",
              "  </svg>\n",
              "    </button>\n",
              "    <script>\n",
              "      (() => {\n",
              "      const buttonEl =\n",
              "        document.querySelector('#id_604f40f0-b967-4e96-88d0-3a077744ca25 button.colab-df-generate');\n",
              "      buttonEl.style.display =\n",
              "        google.colab.kernel.accessAllowed ? 'block' : 'none';\n",
              "\n",
              "      buttonEl.onclick = () => {\n",
              "        google.colab.notebook.generateWithVariable('fp_LnIC');\n",
              "      }\n",
              "      })();\n",
              "    </script>\n",
              "  </div>\n",
              "\n",
              "    </div>\n",
              "  </div>\n"
            ],
            "application/vnd.google.colaboratory.intrinsic+json": {
              "type": "dataframe",
              "variable_name": "fp_LnIC"
            }
          },
          "metadata": {},
          "execution_count": 24
        }
      ],
      "source": [
        "fp_LnIC"
      ]
    },
    {
      "cell_type": "code",
      "source": [
        "!pip install scikit-learn"
      ],
      "metadata": {
        "colab": {
          "base_uri": "https://localhost:8080/"
        },
        "id": "h33NAI8Lil_t",
        "outputId": "06771442-df4d-4d1e-d82d-a1893b895193"
      },
      "execution_count": 25,
      "outputs": [
        {
          "output_type": "stream",
          "name": "stdout",
          "text": [
            "Requirement already satisfied: scikit-learn in /usr/local/lib/python3.10/dist-packages (1.4.2)\n",
            "Requirement already satisfied: numpy>=1.19.5 in /usr/local/lib/python3.10/dist-packages (from scikit-learn) (1.26.4)\n",
            "Requirement already satisfied: scipy>=1.6.0 in /usr/local/lib/python3.10/dist-packages (from scikit-learn) (1.11.4)\n",
            "Requirement already satisfied: joblib>=1.2.0 in /usr/local/lib/python3.10/dist-packages (from scikit-learn) (1.3.2)\n",
            "Requirement already satisfied: threadpoolctl>=2.0.0 in /usr/local/lib/python3.10/dist-packages (from scikit-learn) (3.5.0)\n"
          ]
        }
      ]
    },
    {
      "cell_type": "code",
      "source": [
        "# remove low variance features\n",
        "from sklearn.feature_selection import VarianceThreshold\n",
        "\n",
        "#  fp_LnIC is my dataframe\n",
        "selection = VarianceThreshold(threshold=(.8 * (1-.8)))\n",
        "fp_LnIC_new = selection.fit_transform(fp_LnIC)"
      ],
      "metadata": {
        "id": "zVk3gnkkisca"
      },
      "execution_count": 26,
      "outputs": []
    },
    {
      "cell_type": "code",
      "source": [
        "fp_LnIC_new"
      ],
      "metadata": {
        "colab": {
          "base_uri": "https://localhost:8080/"
        },
        "id": "VKPxqaIXnBeG",
        "outputId": "cfc664a1-cb43-47e5-eaa4-0efedbc21518"
      },
      "execution_count": 27,
      "outputs": [
        {
          "output_type": "execute_result",
          "data": {
            "text/plain": [
              "array([[ 5.85739678,  5.85739678,  0.39217436, ...,  1.        ,\n",
              "         7.        ,  3.394001  ],\n",
              "       [14.36141029, 14.36141029, -2.4280639 , ...,  3.        ,\n",
              "        13.        , -1.113085  ],\n",
              "       [13.6504632 , 13.6504632 , -0.40388207, ...,  3.        ,\n",
              "         3.        ,  4.013588  ],\n",
              "       ...,\n",
              "       [11.08095089, 11.08095089, -4.02622398, ...,  3.        ,\n",
              "         8.        , -0.809756  ],\n",
              "       [12.22036042, 12.22036042, -0.16902256, ...,  1.        ,\n",
              "         5.        ,  5.665698  ],\n",
              "       [12.49035579, 12.49035579,  0.12563051, ...,  0.        ,\n",
              "         6.        ,  5.86413   ]])"
            ]
          },
          "metadata": {},
          "execution_count": 27
        }
      ]
    },
    {
      "cell_type": "code",
      "execution_count": 28,
      "metadata": {
        "colab": {
          "base_uri": "https://localhost:8080/"
        },
        "id": "G6niM-kaSoiJ",
        "outputId": "09c25269-d48c-4eed-aaaf-0f0cd14c100e"
      },
      "outputs": [
        {
          "output_type": "stream",
          "name": "stdout",
          "text": [
            "Requirement already satisfied: pycaret in /usr/local/lib/python3.10/dist-packages (3.3.2)\n",
            "Requirement already satisfied: ipython>=5.5.0 in /usr/local/lib/python3.10/dist-packages (from pycaret) (7.34.0)\n",
            "Requirement already satisfied: ipywidgets>=7.6.5 in /usr/local/lib/python3.10/dist-packages (from pycaret) (7.7.1)\n",
            "Requirement already satisfied: tqdm>=4.62.0 in /usr/local/lib/python3.10/dist-packages (from pycaret) (4.66.5)\n",
            "Requirement already satisfied: numpy<1.27,>=1.21 in /usr/local/lib/python3.10/dist-packages (from pycaret) (1.26.4)\n",
            "Requirement already satisfied: pandas<2.2.0 in /usr/local/lib/python3.10/dist-packages (from pycaret) (2.1.4)\n",
            "Requirement already satisfied: jinja2>=3 in /usr/local/lib/python3.10/dist-packages (from pycaret) (3.1.4)\n",
            "Requirement already satisfied: scipy<=1.11.4,>=1.6.1 in /usr/local/lib/python3.10/dist-packages (from pycaret) (1.11.4)\n",
            "Requirement already satisfied: joblib<1.4,>=1.2.0 in /usr/local/lib/python3.10/dist-packages (from pycaret) (1.3.2)\n",
            "Requirement already satisfied: scikit-learn>1.4.0 in /usr/local/lib/python3.10/dist-packages (from pycaret) (1.4.2)\n",
            "Requirement already satisfied: pyod>=1.1.3 in /usr/local/lib/python3.10/dist-packages (from pycaret) (2.0.2)\n",
            "Requirement already satisfied: imbalanced-learn>=0.12.0 in /usr/local/lib/python3.10/dist-packages (from pycaret) (0.12.3)\n",
            "Requirement already satisfied: category-encoders>=2.4.0 in /usr/local/lib/python3.10/dist-packages (from pycaret) (2.6.4)\n",
            "Requirement already satisfied: lightgbm>=3.0.0 in /usr/local/lib/python3.10/dist-packages (from pycaret) (4.5.0)\n",
            "Requirement already satisfied: numba>=0.55.0 in /usr/local/lib/python3.10/dist-packages (from pycaret) (0.60.0)\n",
            "Requirement already satisfied: requests>=2.27.1 in /usr/local/lib/python3.10/dist-packages (from pycaret) (2.32.3)\n",
            "Requirement already satisfied: psutil>=5.9.0 in /usr/local/lib/python3.10/dist-packages (from pycaret) (5.9.5)\n",
            "Requirement already satisfied: markupsafe>=2.0.1 in /usr/local/lib/python3.10/dist-packages (from pycaret) (2.1.5)\n",
            "Requirement already satisfied: importlib-metadata>=4.12.0 in /usr/local/lib/python3.10/dist-packages (from pycaret) (8.4.0)\n",
            "Requirement already satisfied: nbformat>=4.2.0 in /usr/local/lib/python3.10/dist-packages (from pycaret) (5.10.4)\n",
            "Requirement already satisfied: cloudpickle in /usr/local/lib/python3.10/dist-packages (from pycaret) (2.2.1)\n",
            "Requirement already satisfied: deprecation>=2.1.0 in /usr/local/lib/python3.10/dist-packages (from pycaret) (2.1.0)\n",
            "Requirement already satisfied: xxhash in /usr/local/lib/python3.10/dist-packages (from pycaret) (3.5.0)\n",
            "Requirement already satisfied: matplotlib<3.8.0 in /usr/local/lib/python3.10/dist-packages (from pycaret) (3.7.1)\n",
            "Requirement already satisfied: scikit-plot>=0.3.7 in /usr/local/lib/python3.10/dist-packages (from pycaret) (0.3.7)\n",
            "Requirement already satisfied: yellowbrick>=1.4 in /usr/local/lib/python3.10/dist-packages (from pycaret) (1.5)\n",
            "Requirement already satisfied: plotly>=5.14.0 in /usr/local/lib/python3.10/dist-packages (from pycaret) (5.24.1)\n",
            "Requirement already satisfied: kaleido>=0.2.1 in /usr/local/lib/python3.10/dist-packages (from pycaret) (0.2.1)\n",
            "Requirement already satisfied: schemdraw==0.15 in /usr/local/lib/python3.10/dist-packages (from pycaret) (0.15)\n",
            "Requirement already satisfied: plotly-resampler>=0.8.3.1 in /usr/local/lib/python3.10/dist-packages (from pycaret) (0.10.0)\n",
            "Requirement already satisfied: statsmodels>=0.12.1 in /usr/local/lib/python3.10/dist-packages (from pycaret) (0.14.3)\n",
            "Requirement already satisfied: sktime==0.26.0 in /usr/local/lib/python3.10/dist-packages (from pycaret) (0.26.0)\n",
            "Requirement already satisfied: tbats>=1.1.3 in /usr/local/lib/python3.10/dist-packages (from pycaret) (1.1.3)\n",
            "Requirement already satisfied: pmdarima>=2.0.4 in /usr/local/lib/python3.10/dist-packages (from pycaret) (2.0.4)\n",
            "Requirement already satisfied: wurlitzer in /usr/local/lib/python3.10/dist-packages (from pycaret) (3.1.1)\n",
            "Requirement already satisfied: packaging in /usr/local/lib/python3.10/dist-packages (from sktime==0.26.0->pycaret) (24.1)\n",
            "Requirement already satisfied: scikit-base<0.8.0 in /usr/local/lib/python3.10/dist-packages (from sktime==0.26.0->pycaret) (0.7.8)\n",
            "Requirement already satisfied: patsy>=0.5.1 in /usr/local/lib/python3.10/dist-packages (from category-encoders>=2.4.0->pycaret) (0.5.6)\n",
            "Requirement already satisfied: threadpoolctl>=2.0.0 in /usr/local/lib/python3.10/dist-packages (from imbalanced-learn>=0.12.0->pycaret) (3.5.0)\n",
            "Requirement already satisfied: zipp>=0.5 in /usr/local/lib/python3.10/dist-packages (from importlib-metadata>=4.12.0->pycaret) (3.20.2)\n",
            "Requirement already satisfied: setuptools>=18.5 in /usr/local/lib/python3.10/dist-packages (from ipython>=5.5.0->pycaret) (71.0.4)\n",
            "Requirement already satisfied: jedi>=0.16 in /usr/local/lib/python3.10/dist-packages (from ipython>=5.5.0->pycaret) (0.19.1)\n",
            "Requirement already satisfied: decorator in /usr/local/lib/python3.10/dist-packages (from ipython>=5.5.0->pycaret) (4.4.2)\n",
            "Requirement already satisfied: pickleshare in /usr/local/lib/python3.10/dist-packages (from ipython>=5.5.0->pycaret) (0.7.5)\n",
            "Requirement already satisfied: traitlets>=4.2 in /usr/local/lib/python3.10/dist-packages (from ipython>=5.5.0->pycaret) (5.7.1)\n",
            "Requirement already satisfied: prompt-toolkit!=3.0.0,!=3.0.1,<3.1.0,>=2.0.0 in /usr/local/lib/python3.10/dist-packages (from ipython>=5.5.0->pycaret) (3.0.48)\n",
            "Requirement already satisfied: pygments in /usr/local/lib/python3.10/dist-packages (from ipython>=5.5.0->pycaret) (2.18.0)\n",
            "Requirement already satisfied: backcall in /usr/local/lib/python3.10/dist-packages (from ipython>=5.5.0->pycaret) (0.2.0)\n",
            "Requirement already satisfied: matplotlib-inline in /usr/local/lib/python3.10/dist-packages (from ipython>=5.5.0->pycaret) (0.1.7)\n",
            "Requirement already satisfied: pexpect>4.3 in /usr/local/lib/python3.10/dist-packages (from ipython>=5.5.0->pycaret) (4.9.0)\n",
            "Requirement already satisfied: ipykernel>=4.5.1 in /usr/local/lib/python3.10/dist-packages (from ipywidgets>=7.6.5->pycaret) (5.5.6)\n",
            "Requirement already satisfied: ipython-genutils~=0.2.0 in /usr/local/lib/python3.10/dist-packages (from ipywidgets>=7.6.5->pycaret) (0.2.0)\n",
            "Requirement already satisfied: widgetsnbextension~=3.6.0 in /usr/local/lib/python3.10/dist-packages (from ipywidgets>=7.6.5->pycaret) (3.6.9)\n",
            "Requirement already satisfied: jupyterlab-widgets>=1.0.0 in /usr/local/lib/python3.10/dist-packages (from ipywidgets>=7.6.5->pycaret) (3.0.13)\n",
            "Requirement already satisfied: contourpy>=1.0.1 in /usr/local/lib/python3.10/dist-packages (from matplotlib<3.8.0->pycaret) (1.3.0)\n",
            "Requirement already satisfied: cycler>=0.10 in /usr/local/lib/python3.10/dist-packages (from matplotlib<3.8.0->pycaret) (0.12.1)\n",
            "Requirement already satisfied: fonttools>=4.22.0 in /usr/local/lib/python3.10/dist-packages (from matplotlib<3.8.0->pycaret) (4.54.1)\n",
            "Requirement already satisfied: kiwisolver>=1.0.1 in /usr/local/lib/python3.10/dist-packages (from matplotlib<3.8.0->pycaret) (1.4.7)\n",
            "Requirement already satisfied: pillow>=6.2.0 in /usr/local/lib/python3.10/dist-packages (from matplotlib<3.8.0->pycaret) (10.4.0)\n",
            "Requirement already satisfied: pyparsing>=2.3.1 in /usr/local/lib/python3.10/dist-packages (from matplotlib<3.8.0->pycaret) (3.1.4)\n",
            "Requirement already satisfied: python-dateutil>=2.7 in /usr/local/lib/python3.10/dist-packages (from matplotlib<3.8.0->pycaret) (2.8.2)\n",
            "Requirement already satisfied: fastjsonschema>=2.15 in /usr/local/lib/python3.10/dist-packages (from nbformat>=4.2.0->pycaret) (2.20.0)\n",
            "Requirement already satisfied: jsonschema>=2.6 in /usr/local/lib/python3.10/dist-packages (from nbformat>=4.2.0->pycaret) (4.23.0)\n",
            "Requirement already satisfied: jupyter-core!=5.0.*,>=4.12 in /usr/local/lib/python3.10/dist-packages (from nbformat>=4.2.0->pycaret) (5.7.2)\n",
            "Requirement already satisfied: llvmlite<0.44,>=0.43.0dev0 in /usr/local/lib/python3.10/dist-packages (from numba>=0.55.0->pycaret) (0.43.0)\n",
            "Requirement already satisfied: pytz>=2020.1 in /usr/local/lib/python3.10/dist-packages (from pandas<2.2.0->pycaret) (2024.2)\n",
            "Requirement already satisfied: tzdata>=2022.1 in /usr/local/lib/python3.10/dist-packages (from pandas<2.2.0->pycaret) (2024.2)\n",
            "Requirement already satisfied: tenacity>=6.2.0 in /usr/local/lib/python3.10/dist-packages (from plotly>=5.14.0->pycaret) (9.0.0)\n",
            "Requirement already satisfied: dash>=2.9.0 in /usr/local/lib/python3.10/dist-packages (from plotly-resampler>=0.8.3.1->pycaret) (2.18.1)\n",
            "Requirement already satisfied: orjson<4.0.0,>=3.8.0 in /usr/local/lib/python3.10/dist-packages (from plotly-resampler>=0.8.3.1->pycaret) (3.10.7)\n",
            "Requirement already satisfied: tsdownsample>=0.1.3 in /usr/local/lib/python3.10/dist-packages (from plotly-resampler>=0.8.3.1->pycaret) (0.1.3)\n",
            "Requirement already satisfied: Cython!=0.29.18,!=0.29.31,>=0.29 in /usr/local/lib/python3.10/dist-packages (from pmdarima>=2.0.4->pycaret) (3.0.11)\n",
            "Requirement already satisfied: urllib3 in /usr/local/lib/python3.10/dist-packages (from pmdarima>=2.0.4->pycaret) (2.2.3)\n",
            "Requirement already satisfied: charset-normalizer<4,>=2 in /usr/local/lib/python3.10/dist-packages (from requests>=2.27.1->pycaret) (3.3.2)\n",
            "Requirement already satisfied: idna<4,>=2.5 in /usr/local/lib/python3.10/dist-packages (from requests>=2.27.1->pycaret) (3.10)\n",
            "Requirement already satisfied: certifi>=2017.4.17 in /usr/local/lib/python3.10/dist-packages (from requests>=2.27.1->pycaret) (2024.8.30)\n",
            "Requirement already satisfied: Flask<3.1,>=1.0.4 in /usr/local/lib/python3.10/dist-packages (from dash>=2.9.0->plotly-resampler>=0.8.3.1->pycaret) (2.2.5)\n",
            "Requirement already satisfied: Werkzeug<3.1 in /usr/local/lib/python3.10/dist-packages (from dash>=2.9.0->plotly-resampler>=0.8.3.1->pycaret) (3.0.4)\n",
            "Requirement already satisfied: dash-html-components==2.0.0 in /usr/local/lib/python3.10/dist-packages (from dash>=2.9.0->plotly-resampler>=0.8.3.1->pycaret) (2.0.0)\n",
            "Requirement already satisfied: dash-core-components==2.0.0 in /usr/local/lib/python3.10/dist-packages (from dash>=2.9.0->plotly-resampler>=0.8.3.1->pycaret) (2.0.0)\n",
            "Requirement already satisfied: dash-table==5.0.0 in /usr/local/lib/python3.10/dist-packages (from dash>=2.9.0->plotly-resampler>=0.8.3.1->pycaret) (5.0.0)\n",
            "Requirement already satisfied: typing-extensions>=4.1.1 in /usr/local/lib/python3.10/dist-packages (from dash>=2.9.0->plotly-resampler>=0.8.3.1->pycaret) (4.12.2)\n",
            "Requirement already satisfied: retrying in /usr/local/lib/python3.10/dist-packages (from dash>=2.9.0->plotly-resampler>=0.8.3.1->pycaret) (1.3.4)\n",
            "Requirement already satisfied: nest-asyncio in /usr/local/lib/python3.10/dist-packages (from dash>=2.9.0->plotly-resampler>=0.8.3.1->pycaret) (1.6.0)\n",
            "Requirement already satisfied: jupyter-client in /usr/local/lib/python3.10/dist-packages (from ipykernel>=4.5.1->ipywidgets>=7.6.5->pycaret) (6.1.12)\n",
            "Requirement already satisfied: tornado>=4.2 in /usr/local/lib/python3.10/dist-packages (from ipykernel>=4.5.1->ipywidgets>=7.6.5->pycaret) (6.3.3)\n",
            "Requirement already satisfied: parso<0.9.0,>=0.8.3 in /usr/local/lib/python3.10/dist-packages (from jedi>=0.16->ipython>=5.5.0->pycaret) (0.8.4)\n",
            "Requirement already satisfied: attrs>=22.2.0 in /usr/local/lib/python3.10/dist-packages (from jsonschema>=2.6->nbformat>=4.2.0->pycaret) (24.2.0)\n",
            "Requirement already satisfied: jsonschema-specifications>=2023.03.6 in /usr/local/lib/python3.10/dist-packages (from jsonschema>=2.6->nbformat>=4.2.0->pycaret) (2023.12.1)\n",
            "Requirement already satisfied: referencing>=0.28.4 in /usr/local/lib/python3.10/dist-packages (from jsonschema>=2.6->nbformat>=4.2.0->pycaret) (0.35.1)\n",
            "Requirement already satisfied: rpds-py>=0.7.1 in /usr/local/lib/python3.10/dist-packages (from jsonschema>=2.6->nbformat>=4.2.0->pycaret) (0.20.0)\n",
            "Requirement already satisfied: platformdirs>=2.5 in /usr/local/lib/python3.10/dist-packages (from jupyter-core!=5.0.*,>=4.12->nbformat>=4.2.0->pycaret) (4.3.6)\n",
            "Requirement already satisfied: six in /usr/local/lib/python3.10/dist-packages (from patsy>=0.5.1->category-encoders>=2.4.0->pycaret) (1.16.0)\n",
            "Requirement already satisfied: ptyprocess>=0.5 in /usr/local/lib/python3.10/dist-packages (from pexpect>4.3->ipython>=5.5.0->pycaret) (0.7.0)\n",
            "Requirement already satisfied: wcwidth in /usr/local/lib/python3.10/dist-packages (from prompt-toolkit!=3.0.0,!=3.0.1,<3.1.0,>=2.0.0->ipython>=5.5.0->pycaret) (0.2.13)\n",
            "Requirement already satisfied: notebook>=4.4.1 in /usr/local/lib/python3.10/dist-packages (from widgetsnbextension~=3.6.0->ipywidgets>=7.6.5->pycaret) (6.5.5)\n",
            "Requirement already satisfied: itsdangerous>=2.0 in /usr/local/lib/python3.10/dist-packages (from Flask<3.1,>=1.0.4->dash>=2.9.0->plotly-resampler>=0.8.3.1->pycaret) (2.2.0)\n",
            "Requirement already satisfied: click>=8.0 in /usr/local/lib/python3.10/dist-packages (from Flask<3.1,>=1.0.4->dash>=2.9.0->plotly-resampler>=0.8.3.1->pycaret) (8.1.7)\n",
            "Requirement already satisfied: pyzmq<25,>=17 in /usr/local/lib/python3.10/dist-packages (from notebook>=4.4.1->widgetsnbextension~=3.6.0->ipywidgets>=7.6.5->pycaret) (24.0.1)\n",
            "Requirement already satisfied: argon2-cffi in /usr/local/lib/python3.10/dist-packages (from notebook>=4.4.1->widgetsnbextension~=3.6.0->ipywidgets>=7.6.5->pycaret) (23.1.0)\n",
            "Requirement already satisfied: nbconvert>=5 in /usr/local/lib/python3.10/dist-packages (from notebook>=4.4.1->widgetsnbextension~=3.6.0->ipywidgets>=7.6.5->pycaret) (6.5.4)\n",
            "Requirement already satisfied: Send2Trash>=1.8.0 in /usr/local/lib/python3.10/dist-packages (from notebook>=4.4.1->widgetsnbextension~=3.6.0->ipywidgets>=7.6.5->pycaret) (1.8.3)\n",
            "Requirement already satisfied: terminado>=0.8.3 in /usr/local/lib/python3.10/dist-packages (from notebook>=4.4.1->widgetsnbextension~=3.6.0->ipywidgets>=7.6.5->pycaret) (0.18.1)\n",
            "Requirement already satisfied: prometheus-client in /usr/local/lib/python3.10/dist-packages (from notebook>=4.4.1->widgetsnbextension~=3.6.0->ipywidgets>=7.6.5->pycaret) (0.21.0)\n",
            "Requirement already satisfied: nbclassic>=0.4.7 in /usr/local/lib/python3.10/dist-packages (from notebook>=4.4.1->widgetsnbextension~=3.6.0->ipywidgets>=7.6.5->pycaret) (1.1.0)\n",
            "Requirement already satisfied: notebook-shim>=0.2.3 in /usr/local/lib/python3.10/dist-packages (from nbclassic>=0.4.7->notebook>=4.4.1->widgetsnbextension~=3.6.0->ipywidgets>=7.6.5->pycaret) (0.2.4)\n",
            "Requirement already satisfied: lxml in /usr/local/lib/python3.10/dist-packages (from nbconvert>=5->notebook>=4.4.1->widgetsnbextension~=3.6.0->ipywidgets>=7.6.5->pycaret) (4.9.4)\n",
            "Requirement already satisfied: beautifulsoup4 in /usr/local/lib/python3.10/dist-packages (from nbconvert>=5->notebook>=4.4.1->widgetsnbextension~=3.6.0->ipywidgets>=7.6.5->pycaret) (4.12.3)\n",
            "Requirement already satisfied: bleach in /usr/local/lib/python3.10/dist-packages (from nbconvert>=5->notebook>=4.4.1->widgetsnbextension~=3.6.0->ipywidgets>=7.6.5->pycaret) (6.1.0)\n",
            "Requirement already satisfied: defusedxml in /usr/local/lib/python3.10/dist-packages (from nbconvert>=5->notebook>=4.4.1->widgetsnbextension~=3.6.0->ipywidgets>=7.6.5->pycaret) (0.7.1)\n",
            "Requirement already satisfied: entrypoints>=0.2.2 in /usr/local/lib/python3.10/dist-packages (from nbconvert>=5->notebook>=4.4.1->widgetsnbextension~=3.6.0->ipywidgets>=7.6.5->pycaret) (0.4)\n",
            "Requirement already satisfied: jupyterlab-pygments in /usr/local/lib/python3.10/dist-packages (from nbconvert>=5->notebook>=4.4.1->widgetsnbextension~=3.6.0->ipywidgets>=7.6.5->pycaret) (0.3.0)\n",
            "Requirement already satisfied: mistune<2,>=0.8.1 in /usr/local/lib/python3.10/dist-packages (from nbconvert>=5->notebook>=4.4.1->widgetsnbextension~=3.6.0->ipywidgets>=7.6.5->pycaret) (0.8.4)\n",
            "Requirement already satisfied: nbclient>=0.5.0 in /usr/local/lib/python3.10/dist-packages (from nbconvert>=5->notebook>=4.4.1->widgetsnbextension~=3.6.0->ipywidgets>=7.6.5->pycaret) (0.10.0)\n",
            "Requirement already satisfied: pandocfilters>=1.4.1 in /usr/local/lib/python3.10/dist-packages (from nbconvert>=5->notebook>=4.4.1->widgetsnbextension~=3.6.0->ipywidgets>=7.6.5->pycaret) (1.5.1)\n",
            "Requirement already satisfied: tinycss2 in /usr/local/lib/python3.10/dist-packages (from nbconvert>=5->notebook>=4.4.1->widgetsnbextension~=3.6.0->ipywidgets>=7.6.5->pycaret) (1.3.0)\n",
            "Requirement already satisfied: argon2-cffi-bindings in /usr/local/lib/python3.10/dist-packages (from argon2-cffi->notebook>=4.4.1->widgetsnbextension~=3.6.0->ipywidgets>=7.6.5->pycaret) (21.2.0)\n",
            "Requirement already satisfied: jupyter-server<3,>=1.8 in /usr/local/lib/python3.10/dist-packages (from notebook-shim>=0.2.3->nbclassic>=0.4.7->notebook>=4.4.1->widgetsnbextension~=3.6.0->ipywidgets>=7.6.5->pycaret) (1.24.0)\n",
            "Requirement already satisfied: cffi>=1.0.1 in /usr/local/lib/python3.10/dist-packages (from argon2-cffi-bindings->argon2-cffi->notebook>=4.4.1->widgetsnbextension~=3.6.0->ipywidgets>=7.6.5->pycaret) (1.17.1)\n",
            "Requirement already satisfied: soupsieve>1.2 in /usr/local/lib/python3.10/dist-packages (from beautifulsoup4->nbconvert>=5->notebook>=4.4.1->widgetsnbextension~=3.6.0->ipywidgets>=7.6.5->pycaret) (2.6)\n",
            "Requirement already satisfied: webencodings in /usr/local/lib/python3.10/dist-packages (from bleach->nbconvert>=5->notebook>=4.4.1->widgetsnbextension~=3.6.0->ipywidgets>=7.6.5->pycaret) (0.5.1)\n",
            "Requirement already satisfied: pycparser in /usr/local/lib/python3.10/dist-packages (from cffi>=1.0.1->argon2-cffi-bindings->argon2-cffi->notebook>=4.4.1->widgetsnbextension~=3.6.0->ipywidgets>=7.6.5->pycaret) (2.22)\n",
            "Requirement already satisfied: anyio<4,>=3.1.0 in /usr/local/lib/python3.10/dist-packages (from jupyter-server<3,>=1.8->notebook-shim>=0.2.3->nbclassic>=0.4.7->notebook>=4.4.1->widgetsnbextension~=3.6.0->ipywidgets>=7.6.5->pycaret) (3.7.1)\n",
            "Requirement already satisfied: websocket-client in /usr/local/lib/python3.10/dist-packages (from jupyter-server<3,>=1.8->notebook-shim>=0.2.3->nbclassic>=0.4.7->notebook>=4.4.1->widgetsnbextension~=3.6.0->ipywidgets>=7.6.5->pycaret) (1.8.0)\n",
            "Requirement already satisfied: sniffio>=1.1 in /usr/local/lib/python3.10/dist-packages (from anyio<4,>=3.1.0->jupyter-server<3,>=1.8->notebook-shim>=0.2.3->nbclassic>=0.4.7->notebook>=4.4.1->widgetsnbextension~=3.6.0->ipywidgets>=7.6.5->pycaret) (1.3.1)\n",
            "Requirement already satisfied: exceptiongroup in /usr/local/lib/python3.10/dist-packages (from anyio<4,>=3.1.0->jupyter-server<3,>=1.8->notebook-shim>=0.2.3->nbclassic>=0.4.7->notebook>=4.4.1->widgetsnbextension~=3.6.0->ipywidgets>=7.6.5->pycaret) (1.2.2)\n"
          ]
        }
      ],
      "source": [
        "# building our model using Pycaret algorithem\n",
        "!pip install pycaret"
      ]
    },
    {
      "cell_type": "code",
      "execution_count": 29,
      "metadata": {
        "colab": {
          "base_uri": "https://localhost:8080/",
          "height": 645
        },
        "id": "FQxJwGFVS5KG",
        "outputId": "55fe32df-5f01-4d3a-e28a-6e6294f9b086"
      },
      "outputs": [
        {
          "output_type": "display_data",
          "data": {
            "text/plain": [
              "<pandas.io.formats.style.Styler at 0x7b2b1aba8460>"
            ],
            "text/html": [
              "<style type=\"text/css\">\n",
              "#T_19010_row8_col1 {\n",
              "  background-color: lightgreen;\n",
              "}\n",
              "</style>\n",
              "<table id=\"T_19010\" class=\"dataframe\">\n",
              "  <thead>\n",
              "    <tr>\n",
              "      <th class=\"blank level0\" >&nbsp;</th>\n",
              "      <th id=\"T_19010_level0_col0\" class=\"col_heading level0 col0\" >Description</th>\n",
              "      <th id=\"T_19010_level0_col1\" class=\"col_heading level0 col1\" >Value</th>\n",
              "    </tr>\n",
              "  </thead>\n",
              "  <tbody>\n",
              "    <tr>\n",
              "      <th id=\"T_19010_level0_row0\" class=\"row_heading level0 row0\" >0</th>\n",
              "      <td id=\"T_19010_row0_col0\" class=\"data row0 col0\" >Session id</td>\n",
              "      <td id=\"T_19010_row0_col1\" class=\"data row0 col1\" >1055</td>\n",
              "    </tr>\n",
              "    <tr>\n",
              "      <th id=\"T_19010_level0_row1\" class=\"row_heading level0 row1\" >1</th>\n",
              "      <td id=\"T_19010_row1_col0\" class=\"data row1 col0\" >Target</td>\n",
              "      <td id=\"T_19010_row1_col1\" class=\"data row1 col1\" >LN_IC50</td>\n",
              "    </tr>\n",
              "    <tr>\n",
              "      <th id=\"T_19010_level0_row2\" class=\"row_heading level0 row2\" >2</th>\n",
              "      <td id=\"T_19010_row2_col0\" class=\"data row2 col0\" >Target type</td>\n",
              "      <td id=\"T_19010_row2_col1\" class=\"data row2 col1\" >Regression</td>\n",
              "    </tr>\n",
              "    <tr>\n",
              "      <th id=\"T_19010_level0_row3\" class=\"row_heading level0 row3\" >3</th>\n",
              "      <td id=\"T_19010_row3_col0\" class=\"data row3 col0\" >Original data shape</td>\n",
              "      <td id=\"T_19010_row3_col1\" class=\"data row3 col1\" >(238, 214)</td>\n",
              "    </tr>\n",
              "    <tr>\n",
              "      <th id=\"T_19010_level0_row4\" class=\"row_heading level0 row4\" >4</th>\n",
              "      <td id=\"T_19010_row4_col0\" class=\"data row4 col0\" >Transformed data shape</td>\n",
              "      <td id=\"T_19010_row4_col1\" class=\"data row4 col1\" >(238, 214)</td>\n",
              "    </tr>\n",
              "    <tr>\n",
              "      <th id=\"T_19010_level0_row5\" class=\"row_heading level0 row5\" >5</th>\n",
              "      <td id=\"T_19010_row5_col0\" class=\"data row5 col0\" >Transformed train set shape</td>\n",
              "      <td id=\"T_19010_row5_col1\" class=\"data row5 col1\" >(166, 214)</td>\n",
              "    </tr>\n",
              "    <tr>\n",
              "      <th id=\"T_19010_level0_row6\" class=\"row_heading level0 row6\" >6</th>\n",
              "      <td id=\"T_19010_row6_col0\" class=\"data row6 col0\" >Transformed test set shape</td>\n",
              "      <td id=\"T_19010_row6_col1\" class=\"data row6 col1\" >(72, 214)</td>\n",
              "    </tr>\n",
              "    <tr>\n",
              "      <th id=\"T_19010_level0_row7\" class=\"row_heading level0 row7\" >7</th>\n",
              "      <td id=\"T_19010_row7_col0\" class=\"data row7 col0\" >Numeric features</td>\n",
              "      <td id=\"T_19010_row7_col1\" class=\"data row7 col1\" >213</td>\n",
              "    </tr>\n",
              "    <tr>\n",
              "      <th id=\"T_19010_level0_row8\" class=\"row_heading level0 row8\" >8</th>\n",
              "      <td id=\"T_19010_row8_col0\" class=\"data row8 col0\" >Preprocess</td>\n",
              "      <td id=\"T_19010_row8_col1\" class=\"data row8 col1\" >True</td>\n",
              "    </tr>\n",
              "    <tr>\n",
              "      <th id=\"T_19010_level0_row9\" class=\"row_heading level0 row9\" >9</th>\n",
              "      <td id=\"T_19010_row9_col0\" class=\"data row9 col0\" >Imputation type</td>\n",
              "      <td id=\"T_19010_row9_col1\" class=\"data row9 col1\" >simple</td>\n",
              "    </tr>\n",
              "    <tr>\n",
              "      <th id=\"T_19010_level0_row10\" class=\"row_heading level0 row10\" >10</th>\n",
              "      <td id=\"T_19010_row10_col0\" class=\"data row10 col0\" >Numeric imputation</td>\n",
              "      <td id=\"T_19010_row10_col1\" class=\"data row10 col1\" >mean</td>\n",
              "    </tr>\n",
              "    <tr>\n",
              "      <th id=\"T_19010_level0_row11\" class=\"row_heading level0 row11\" >11</th>\n",
              "      <td id=\"T_19010_row11_col0\" class=\"data row11 col0\" >Categorical imputation</td>\n",
              "      <td id=\"T_19010_row11_col1\" class=\"data row11 col1\" >mode</td>\n",
              "    </tr>\n",
              "    <tr>\n",
              "      <th id=\"T_19010_level0_row12\" class=\"row_heading level0 row12\" >12</th>\n",
              "      <td id=\"T_19010_row12_col0\" class=\"data row12 col0\" >Fold Generator</td>\n",
              "      <td id=\"T_19010_row12_col1\" class=\"data row12 col1\" >KFold</td>\n",
              "    </tr>\n",
              "    <tr>\n",
              "      <th id=\"T_19010_level0_row13\" class=\"row_heading level0 row13\" >13</th>\n",
              "      <td id=\"T_19010_row13_col0\" class=\"data row13 col0\" >Fold Number</td>\n",
              "      <td id=\"T_19010_row13_col1\" class=\"data row13 col1\" >10</td>\n",
              "    </tr>\n",
              "    <tr>\n",
              "      <th id=\"T_19010_level0_row14\" class=\"row_heading level0 row14\" >14</th>\n",
              "      <td id=\"T_19010_row14_col0\" class=\"data row14 col0\" >CPU Jobs</td>\n",
              "      <td id=\"T_19010_row14_col1\" class=\"data row14 col1\" >-1</td>\n",
              "    </tr>\n",
              "    <tr>\n",
              "      <th id=\"T_19010_level0_row15\" class=\"row_heading level0 row15\" >15</th>\n",
              "      <td id=\"T_19010_row15_col0\" class=\"data row15 col0\" >Use GPU</td>\n",
              "      <td id=\"T_19010_row15_col1\" class=\"data row15 col1\" >False</td>\n",
              "    </tr>\n",
              "    <tr>\n",
              "      <th id=\"T_19010_level0_row16\" class=\"row_heading level0 row16\" >16</th>\n",
              "      <td id=\"T_19010_row16_col0\" class=\"data row16 col0\" >Log Experiment</td>\n",
              "      <td id=\"T_19010_row16_col1\" class=\"data row16 col1\" >False</td>\n",
              "    </tr>\n",
              "    <tr>\n",
              "      <th id=\"T_19010_level0_row17\" class=\"row_heading level0 row17\" >17</th>\n",
              "      <td id=\"T_19010_row17_col0\" class=\"data row17 col0\" >Experiment Name</td>\n",
              "      <td id=\"T_19010_row17_col1\" class=\"data row17 col1\" >reg-default-name</td>\n",
              "    </tr>\n",
              "    <tr>\n",
              "      <th id=\"T_19010_level0_row18\" class=\"row_heading level0 row18\" >18</th>\n",
              "      <td id=\"T_19010_row18_col0\" class=\"data row18 col0\" >USI</td>\n",
              "      <td id=\"T_19010_row18_col1\" class=\"data row18 col1\" >d4e9</td>\n",
              "    </tr>\n",
              "  </tbody>\n",
              "</table>\n"
            ]
          },
          "metadata": {}
        }
      ],
      "source": [
        "from pycaret.regression import *\n",
        "\n",
        "\n",
        "reg = setup(data=fp_LnIC, target='LN_IC50')"
      ]
    },
    {
      "cell_type": "code",
      "execution_count": 30,
      "metadata": {
        "colab": {
          "base_uri": "https://localhost:8080/",
          "height": 1000,
          "referenced_widgets": [
            "aad6bb00f3e44137a6bb8393f088fb68",
            "97998f1bf99b4cb18844d62a3ce3f622",
            "321487c0cc2044b09f583b9e3754f7d2",
            "a2d057243cab407599bc3c5b07ed9e75",
            "6ebbde9d5b5d46a89df92e04e1ff4f91",
            "587eebf543294c648c9da9d22578f563",
            "5e1f8320706d45f2b7c1f3abc3d792cb",
            "3d9e0efdf1024c9999abd53191c80ee6",
            "9d7e200b36b646509548e9d165d674bb",
            "baa0c216ed384d989f66a1729d8d9871",
            "91bb8117f6c24b07b26792ca46888d2d"
          ]
        },
        "id": "mqm9BlPoS-jH",
        "outputId": "f5aa7fea-6136-4020-9159-11d263026d29"
      },
      "outputs": [
        {
          "output_type": "display_data",
          "data": {
            "text/plain": [
              "<IPython.core.display.HTML object>"
            ],
            "text/html": []
          },
          "metadata": {}
        },
        {
          "output_type": "display_data",
          "data": {
            "text/plain": [
              "<pandas.io.formats.style.Styler at 0x7b2b1ab37640>"
            ],
            "text/html": [
              "<style type=\"text/css\">\n",
              "#T_a215d th {\n",
              "  text-align: left;\n",
              "}\n",
              "#T_a215d_row0_col0, #T_a215d_row0_col1, #T_a215d_row0_col2, #T_a215d_row0_col3, #T_a215d_row0_col5, #T_a215d_row0_col6, #T_a215d_row1_col0, #T_a215d_row1_col1, #T_a215d_row1_col2, #T_a215d_row1_col3, #T_a215d_row1_col4, #T_a215d_row1_col5, #T_a215d_row1_col6, #T_a215d_row2_col0, #T_a215d_row2_col4, #T_a215d_row2_col5, #T_a215d_row2_col6, #T_a215d_row3_col0, #T_a215d_row3_col1, #T_a215d_row3_col2, #T_a215d_row3_col3, #T_a215d_row3_col4, #T_a215d_row3_col5, #T_a215d_row3_col6, #T_a215d_row4_col0, #T_a215d_row4_col1, #T_a215d_row4_col2, #T_a215d_row4_col3, #T_a215d_row4_col4, #T_a215d_row4_col5, #T_a215d_row4_col6, #T_a215d_row5_col0, #T_a215d_row5_col1, #T_a215d_row5_col2, #T_a215d_row5_col3, #T_a215d_row5_col4, #T_a215d_row5_col5, #T_a215d_row5_col6, #T_a215d_row6_col0, #T_a215d_row6_col1, #T_a215d_row6_col2, #T_a215d_row6_col3, #T_a215d_row6_col4, #T_a215d_row6_col5, #T_a215d_row6_col6, #T_a215d_row7_col0, #T_a215d_row7_col1, #T_a215d_row7_col2, #T_a215d_row7_col3, #T_a215d_row7_col4, #T_a215d_row7_col6, #T_a215d_row8_col0, #T_a215d_row8_col1, #T_a215d_row8_col2, #T_a215d_row8_col3, #T_a215d_row8_col4, #T_a215d_row8_col5, #T_a215d_row8_col6, #T_a215d_row9_col0, #T_a215d_row9_col1, #T_a215d_row9_col2, #T_a215d_row9_col3, #T_a215d_row9_col4, #T_a215d_row9_col5, #T_a215d_row9_col6, #T_a215d_row10_col0, #T_a215d_row10_col1, #T_a215d_row10_col2, #T_a215d_row10_col3, #T_a215d_row10_col4, #T_a215d_row10_col5, #T_a215d_row10_col6, #T_a215d_row11_col0, #T_a215d_row11_col1, #T_a215d_row11_col2, #T_a215d_row11_col3, #T_a215d_row11_col4, #T_a215d_row11_col5, #T_a215d_row12_col0, #T_a215d_row12_col1, #T_a215d_row12_col2, #T_a215d_row12_col3, #T_a215d_row12_col4, #T_a215d_row12_col5, #T_a215d_row12_col6, #T_a215d_row13_col0, #T_a215d_row13_col1, #T_a215d_row13_col2, #T_a215d_row13_col3, #T_a215d_row13_col4, #T_a215d_row13_col5, #T_a215d_row13_col6, #T_a215d_row14_col0, #T_a215d_row14_col1, #T_a215d_row14_col2, #T_a215d_row14_col3, #T_a215d_row14_col4, #T_a215d_row14_col5, #T_a215d_row14_col6, #T_a215d_row15_col0, #T_a215d_row15_col1, #T_a215d_row15_col2, #T_a215d_row15_col3, #T_a215d_row15_col4, #T_a215d_row15_col5, #T_a215d_row15_col6, #T_a215d_row16_col0, #T_a215d_row16_col1, #T_a215d_row16_col2, #T_a215d_row16_col3, #T_a215d_row16_col4, #T_a215d_row16_col5, #T_a215d_row16_col6, #T_a215d_row17_col0, #T_a215d_row17_col1, #T_a215d_row17_col2, #T_a215d_row17_col3, #T_a215d_row17_col4, #T_a215d_row17_col5, #T_a215d_row17_col6 {\n",
              "  text-align: left;\n",
              "}\n",
              "#T_a215d_row0_col4, #T_a215d_row2_col1, #T_a215d_row2_col2, #T_a215d_row2_col3, #T_a215d_row7_col5, #T_a215d_row11_col6 {\n",
              "  text-align: left;\n",
              "  background-color: yellow;\n",
              "}\n",
              "#T_a215d_row0_col7, #T_a215d_row1_col7, #T_a215d_row2_col7, #T_a215d_row3_col7, #T_a215d_row4_col7, #T_a215d_row5_col7, #T_a215d_row6_col7, #T_a215d_row7_col7, #T_a215d_row8_col7, #T_a215d_row9_col7, #T_a215d_row10_col7, #T_a215d_row11_col7, #T_a215d_row12_col7, #T_a215d_row13_col7, #T_a215d_row14_col7, #T_a215d_row15_col7, #T_a215d_row16_col7 {\n",
              "  text-align: left;\n",
              "  background-color: lightgrey;\n",
              "}\n",
              "#T_a215d_row17_col7 {\n",
              "  text-align: left;\n",
              "  background-color: yellow;\n",
              "  background-color: lightgrey;\n",
              "}\n",
              "</style>\n",
              "<table id=\"T_a215d\" class=\"dataframe\">\n",
              "  <thead>\n",
              "    <tr>\n",
              "      <th class=\"blank level0\" >&nbsp;</th>\n",
              "      <th id=\"T_a215d_level0_col0\" class=\"col_heading level0 col0\" >Model</th>\n",
              "      <th id=\"T_a215d_level0_col1\" class=\"col_heading level0 col1\" >MAE</th>\n",
              "      <th id=\"T_a215d_level0_col2\" class=\"col_heading level0 col2\" >MSE</th>\n",
              "      <th id=\"T_a215d_level0_col3\" class=\"col_heading level0 col3\" >RMSE</th>\n",
              "      <th id=\"T_a215d_level0_col4\" class=\"col_heading level0 col4\" >R2</th>\n",
              "      <th id=\"T_a215d_level0_col5\" class=\"col_heading level0 col5\" >RMSLE</th>\n",
              "      <th id=\"T_a215d_level0_col6\" class=\"col_heading level0 col6\" >MAPE</th>\n",
              "      <th id=\"T_a215d_level0_col7\" class=\"col_heading level0 col7\" >TT (Sec)</th>\n",
              "    </tr>\n",
              "  </thead>\n",
              "  <tbody>\n",
              "    <tr>\n",
              "      <th id=\"T_a215d_level0_row0\" class=\"row_heading level0 row0\" >et</th>\n",
              "      <td id=\"T_a215d_row0_col0\" class=\"data row0 col0\" >Extra Trees Regressor</td>\n",
              "      <td id=\"T_a215d_row0_col1\" class=\"data row0 col1\" >2.0595</td>\n",
              "      <td id=\"T_a215d_row0_col2\" class=\"data row0 col2\" >6.7453</td>\n",
              "      <td id=\"T_a215d_row0_col3\" class=\"data row0 col3\" >2.5187</td>\n",
              "      <td id=\"T_a215d_row0_col4\" class=\"data row0 col4\" >0.1082</td>\n",
              "      <td id=\"T_a215d_row0_col5\" class=\"data row0 col5\" >0.5956</td>\n",
              "      <td id=\"T_a215d_row0_col6\" class=\"data row0 col6\" >1.9708</td>\n",
              "      <td id=\"T_a215d_row0_col7\" class=\"data row0 col7\" >0.5810</td>\n",
              "    </tr>\n",
              "    <tr>\n",
              "      <th id=\"T_a215d_level0_row1\" class=\"row_heading level0 row1\" >xgboost</th>\n",
              "      <td id=\"T_a215d_row1_col0\" class=\"data row1 col0\" >Extreme Gradient Boosting</td>\n",
              "      <td id=\"T_a215d_row1_col1\" class=\"data row1 col1\" >2.0234</td>\n",
              "      <td id=\"T_a215d_row1_col2\" class=\"data row1 col2\" >6.7348</td>\n",
              "      <td id=\"T_a215d_row1_col3\" class=\"data row1 col3\" >2.5024</td>\n",
              "      <td id=\"T_a215d_row1_col4\" class=\"data row1 col4\" >0.0935</td>\n",
              "      <td id=\"T_a215d_row1_col5\" class=\"data row1 col5\" >0.5993</td>\n",
              "      <td id=\"T_a215d_row1_col6\" class=\"data row1 col6\" >1.7329</td>\n",
              "      <td id=\"T_a215d_row1_col7\" class=\"data row1 col7\" >0.6140</td>\n",
              "    </tr>\n",
              "    <tr>\n",
              "      <th id=\"T_a215d_level0_row2\" class=\"row_heading level0 row2\" >ada</th>\n",
              "      <td id=\"T_a215d_row2_col0\" class=\"data row2 col0\" >AdaBoost Regressor</td>\n",
              "      <td id=\"T_a215d_row2_col1\" class=\"data row2 col1\" >2.0009</td>\n",
              "      <td id=\"T_a215d_row2_col2\" class=\"data row2 col2\" >6.4381</td>\n",
              "      <td id=\"T_a215d_row2_col3\" class=\"data row2 col3\" >2.4852</td>\n",
              "      <td id=\"T_a215d_row2_col4\" class=\"data row2 col4\" >0.0861</td>\n",
              "      <td id=\"T_a215d_row2_col5\" class=\"data row2 col5\" >0.5860</td>\n",
              "      <td id=\"T_a215d_row2_col6\" class=\"data row2 col6\" >1.8070</td>\n",
              "      <td id=\"T_a215d_row2_col7\" class=\"data row2 col7\" >0.2940</td>\n",
              "    </tr>\n",
              "    <tr>\n",
              "      <th id=\"T_a215d_level0_row3\" class=\"row_heading level0 row3\" >gbr</th>\n",
              "      <td id=\"T_a215d_row3_col0\" class=\"data row3 col0\" >Gradient Boosting Regressor</td>\n",
              "      <td id=\"T_a215d_row3_col1\" class=\"data row3 col1\" >2.1147</td>\n",
              "      <td id=\"T_a215d_row3_col2\" class=\"data row3 col2\" >7.1067</td>\n",
              "      <td id=\"T_a215d_row3_col3\" class=\"data row3 col3\" >2.6010</td>\n",
              "      <td id=\"T_a215d_row3_col4\" class=\"data row3 col4\" >0.0251</td>\n",
              "      <td id=\"T_a215d_row3_col5\" class=\"data row3 col5\" >0.6021</td>\n",
              "      <td id=\"T_a215d_row3_col6\" class=\"data row3 col6\" >1.7435</td>\n",
              "      <td id=\"T_a215d_row3_col7\" class=\"data row3 col7\" >0.7000</td>\n",
              "    </tr>\n",
              "    <tr>\n",
              "      <th id=\"T_a215d_level0_row4\" class=\"row_heading level0 row4\" >rf</th>\n",
              "      <td id=\"T_a215d_row4_col0\" class=\"data row4 col0\" >Random Forest Regressor</td>\n",
              "      <td id=\"T_a215d_row4_col1\" class=\"data row4 col1\" >2.0461</td>\n",
              "      <td id=\"T_a215d_row4_col2\" class=\"data row4 col2\" >6.9806</td>\n",
              "      <td id=\"T_a215d_row4_col3\" class=\"data row4 col3\" >2.5825</td>\n",
              "      <td id=\"T_a215d_row4_col4\" class=\"data row4 col4\" >0.0105</td>\n",
              "      <td id=\"T_a215d_row4_col5\" class=\"data row4 col5\" >0.5623</td>\n",
              "      <td id=\"T_a215d_row4_col6\" class=\"data row4 col6\" >1.5031</td>\n",
              "      <td id=\"T_a215d_row4_col7\" class=\"data row4 col7\" >1.2310</td>\n",
              "    </tr>\n",
              "    <tr>\n",
              "      <th id=\"T_a215d_level0_row5\" class=\"row_heading level0 row5\" >lightgbm</th>\n",
              "      <td id=\"T_a215d_row5_col0\" class=\"data row5 col0\" >Light Gradient Boosting Machine</td>\n",
              "      <td id=\"T_a215d_row5_col1\" class=\"data row5 col1\" >2.1669</td>\n",
              "      <td id=\"T_a215d_row5_col2\" class=\"data row5 col2\" >7.5729</td>\n",
              "      <td id=\"T_a215d_row5_col3\" class=\"data row5 col3\" >2.6657</td>\n",
              "      <td id=\"T_a215d_row5_col4\" class=\"data row5 col4\" >-0.0460</td>\n",
              "      <td id=\"T_a215d_row5_col5\" class=\"data row5 col5\" >0.6283</td>\n",
              "      <td id=\"T_a215d_row5_col6\" class=\"data row5 col6\" >1.7999</td>\n",
              "      <td id=\"T_a215d_row5_col7\" class=\"data row5 col7\" >0.6930</td>\n",
              "    </tr>\n",
              "    <tr>\n",
              "      <th id=\"T_a215d_level0_row6\" class=\"row_heading level0 row6\" >llar</th>\n",
              "      <td id=\"T_a215d_row6_col0\" class=\"data row6 col0\" >Lasso Least Angle Regression</td>\n",
              "      <td id=\"T_a215d_row6_col1\" class=\"data row6 col1\" >2.1551</td>\n",
              "      <td id=\"T_a215d_row6_col2\" class=\"data row6 col2\" >7.5575</td>\n",
              "      <td id=\"T_a215d_row6_col3\" class=\"data row6 col3\" >2.7163</td>\n",
              "      <td id=\"T_a215d_row6_col4\" class=\"data row6 col4\" >-0.0597</td>\n",
              "      <td id=\"T_a215d_row6_col5\" class=\"data row6 col5\" >0.5234</td>\n",
              "      <td id=\"T_a215d_row6_col6\" class=\"data row6 col6\" >1.5127</td>\n",
              "      <td id=\"T_a215d_row6_col7\" class=\"data row6 col7\" >0.1850</td>\n",
              "    </tr>\n",
              "    <tr>\n",
              "      <th id=\"T_a215d_level0_row7\" class=\"row_heading level0 row7\" >dummy</th>\n",
              "      <td id=\"T_a215d_row7_col0\" class=\"data row7 col0\" >Dummy Regressor</td>\n",
              "      <td id=\"T_a215d_row7_col1\" class=\"data row7 col1\" >2.2303</td>\n",
              "      <td id=\"T_a215d_row7_col2\" class=\"data row7 col2\" >8.0372</td>\n",
              "      <td id=\"T_a215d_row7_col3\" class=\"data row7 col3\" >2.8033</td>\n",
              "      <td id=\"T_a215d_row7_col4\" class=\"data row7 col4\" >-0.1213</td>\n",
              "      <td id=\"T_a215d_row7_col5\" class=\"data row7 col5\" >0.5094</td>\n",
              "      <td id=\"T_a215d_row7_col6\" class=\"data row7 col6\" >1.7367</td>\n",
              "      <td id=\"T_a215d_row7_col7\" class=\"data row7 col7\" >0.1130</td>\n",
              "    </tr>\n",
              "    <tr>\n",
              "      <th id=\"T_a215d_level0_row8\" class=\"row_heading level0 row8\" >knn</th>\n",
              "      <td id=\"T_a215d_row8_col0\" class=\"data row8 col0\" >K Neighbors Regressor</td>\n",
              "      <td id=\"T_a215d_row8_col1\" class=\"data row8 col1\" >2.2970</td>\n",
              "      <td id=\"T_a215d_row8_col2\" class=\"data row8 col2\" >8.9647</td>\n",
              "      <td id=\"T_a215d_row8_col3\" class=\"data row8 col3\" >2.9739</td>\n",
              "      <td id=\"T_a215d_row8_col4\" class=\"data row8 col4\" >-0.3032</td>\n",
              "      <td id=\"T_a215d_row8_col5\" class=\"data row8 col5\" >0.6154</td>\n",
              "      <td id=\"T_a215d_row8_col6\" class=\"data row8 col6\" >1.7749</td>\n",
              "      <td id=\"T_a215d_row8_col7\" class=\"data row8 col7\" >0.0590</td>\n",
              "    </tr>\n",
              "    <tr>\n",
              "      <th id=\"T_a215d_level0_row9\" class=\"row_heading level0 row9\" >ridge</th>\n",
              "      <td id=\"T_a215d_row9_col0\" class=\"data row9 col0\" >Ridge Regression</td>\n",
              "      <td id=\"T_a215d_row9_col1\" class=\"data row9 col1\" >2.3644</td>\n",
              "      <td id=\"T_a215d_row9_col2\" class=\"data row9 col2\" >10.8250</td>\n",
              "      <td id=\"T_a215d_row9_col3\" class=\"data row9 col3\" >3.1134</td>\n",
              "      <td id=\"T_a215d_row9_col4\" class=\"data row9 col4\" >-0.4195</td>\n",
              "      <td id=\"T_a215d_row9_col5\" class=\"data row9 col5\" >0.5430</td>\n",
              "      <td id=\"T_a215d_row9_col6\" class=\"data row9 col6\" >1.9017</td>\n",
              "      <td id=\"T_a215d_row9_col7\" class=\"data row9 col7\" >0.1020</td>\n",
              "    </tr>\n",
              "    <tr>\n",
              "      <th id=\"T_a215d_level0_row10\" class=\"row_heading level0 row10\" >dt</th>\n",
              "      <td id=\"T_a215d_row10_col0\" class=\"data row10 col0\" >Decision Tree Regressor</td>\n",
              "      <td id=\"T_a215d_row10_col1\" class=\"data row10 col1\" >2.5976</td>\n",
              "      <td id=\"T_a215d_row10_col2\" class=\"data row10 col2\" >11.8014</td>\n",
              "      <td id=\"T_a215d_row10_col3\" class=\"data row10 col3\" >3.3410</td>\n",
              "      <td id=\"T_a215d_row10_col4\" class=\"data row10 col4\" >-0.6115</td>\n",
              "      <td id=\"T_a215d_row10_col5\" class=\"data row10 col5\" >0.6543</td>\n",
              "      <td id=\"T_a215d_row10_col6\" class=\"data row10 col6\" >2.6053</td>\n",
              "      <td id=\"T_a215d_row10_col7\" class=\"data row10 col7\" >0.0690</td>\n",
              "    </tr>\n",
              "    <tr>\n",
              "      <th id=\"T_a215d_level0_row11\" class=\"row_heading level0 row11\" >huber</th>\n",
              "      <td id=\"T_a215d_row11_col0\" class=\"data row11 col0\" >Huber Regressor</td>\n",
              "      <td id=\"T_a215d_row11_col1\" class=\"data row11 col1\" >3.3027</td>\n",
              "      <td id=\"T_a215d_row11_col2\" class=\"data row11 col2\" >20.9927</td>\n",
              "      <td id=\"T_a215d_row11_col3\" class=\"data row11 col3\" >4.1055</td>\n",
              "      <td id=\"T_a215d_row11_col4\" class=\"data row11 col4\" >-1.7931</td>\n",
              "      <td id=\"T_a215d_row11_col5\" class=\"data row11 col5\" >1.4075</td>\n",
              "      <td id=\"T_a215d_row11_col6\" class=\"data row11 col6\" >1.4152</td>\n",
              "      <td id=\"T_a215d_row11_col7\" class=\"data row11 col7\" >0.0590</td>\n",
              "    </tr>\n",
              "    <tr>\n",
              "      <th id=\"T_a215d_level0_row12\" class=\"row_heading level0 row12\" >lasso</th>\n",
              "      <td id=\"T_a215d_row12_col0\" class=\"data row12 col0\" >Lasso Regression</td>\n",
              "      <td id=\"T_a215d_row12_col1\" class=\"data row12 col1\" >2.6390</td>\n",
              "      <td id=\"T_a215d_row12_col2\" class=\"data row12 col2\" >36.7981</td>\n",
              "      <td id=\"T_a215d_row12_col3\" class=\"data row12 col3\" >4.1672</td>\n",
              "      <td id=\"T_a215d_row12_col4\" class=\"data row12 col4\" >-3.0790</td>\n",
              "      <td id=\"T_a215d_row12_col5\" class=\"data row12 col5\" >0.6583</td>\n",
              "      <td id=\"T_a215d_row12_col6\" class=\"data row12 col6\" >2.2346</td>\n",
              "      <td id=\"T_a215d_row12_col7\" class=\"data row12 col7\" >0.1160</td>\n",
              "    </tr>\n",
              "    <tr>\n",
              "      <th id=\"T_a215d_level0_row13\" class=\"row_heading level0 row13\" >lr</th>\n",
              "      <td id=\"T_a215d_row13_col0\" class=\"data row13 col0\" >Linear Regression</td>\n",
              "      <td id=\"T_a215d_row13_col1\" class=\"data row13 col1\" >2.7072</td>\n",
              "      <td id=\"T_a215d_row13_col2\" class=\"data row13 col2\" >48.7812</td>\n",
              "      <td id=\"T_a215d_row13_col3\" class=\"data row13 col3\" >4.5323</td>\n",
              "      <td id=\"T_a215d_row13_col4\" class=\"data row13 col4\" >-4.2968</td>\n",
              "      <td id=\"T_a215d_row13_col5\" class=\"data row13 col5\" >0.5636</td>\n",
              "      <td id=\"T_a215d_row13_col6\" class=\"data row13 col6\" >2.6275</td>\n",
              "      <td id=\"T_a215d_row13_col7\" class=\"data row13 col7\" >1.0000</td>\n",
              "    </tr>\n",
              "    <tr>\n",
              "      <th id=\"T_a215d_level0_row14\" class=\"row_heading level0 row14\" >omp</th>\n",
              "      <td id=\"T_a215d_row14_col0\" class=\"data row14 col0\" >Orthogonal Matching Pursuit</td>\n",
              "      <td id=\"T_a215d_row14_col1\" class=\"data row14 col1\" >2.7072</td>\n",
              "      <td id=\"T_a215d_row14_col2\" class=\"data row14 col2\" >48.7812</td>\n",
              "      <td id=\"T_a215d_row14_col3\" class=\"data row14 col3\" >4.5323</td>\n",
              "      <td id=\"T_a215d_row14_col4\" class=\"data row14 col4\" >-4.2968</td>\n",
              "      <td id=\"T_a215d_row14_col5\" class=\"data row14 col5\" >0.5636</td>\n",
              "      <td id=\"T_a215d_row14_col6\" class=\"data row14 col6\" >2.6275</td>\n",
              "      <td id=\"T_a215d_row14_col7\" class=\"data row14 col7\" >0.1280</td>\n",
              "    </tr>\n",
              "    <tr>\n",
              "      <th id=\"T_a215d_level0_row15\" class=\"row_heading level0 row15\" >en</th>\n",
              "      <td id=\"T_a215d_row15_col0\" class=\"data row15 col0\" >Elastic Net</td>\n",
              "      <td id=\"T_a215d_row15_col1\" class=\"data row15 col1\" >2.8006</td>\n",
              "      <td id=\"T_a215d_row15_col2\" class=\"data row15 col2\" >53.0620</td>\n",
              "      <td id=\"T_a215d_row15_col3\" class=\"data row15 col3\" >4.6053</td>\n",
              "      <td id=\"T_a215d_row15_col4\" class=\"data row15 col4\" >-4.7603</td>\n",
              "      <td id=\"T_a215d_row15_col5\" class=\"data row15 col5\" >0.6948</td>\n",
              "      <td id=\"T_a215d_row15_col6\" class=\"data row15 col6\" >2.3930</td>\n",
              "      <td id=\"T_a215d_row15_col7\" class=\"data row15 col7\" >0.1270</td>\n",
              "    </tr>\n",
              "    <tr>\n",
              "      <th id=\"T_a215d_level0_row16\" class=\"row_heading level0 row16\" >br</th>\n",
              "      <td id=\"T_a215d_row16_col0\" class=\"data row16 col0\" >Bayesian Ridge</td>\n",
              "      <td id=\"T_a215d_row16_col1\" class=\"data row16 col1\" >14140564.5250</td>\n",
              "      <td id=\"T_a215d_row16_col2\" class=\"data row16 col2\" >19245881722093568.0000</td>\n",
              "      <td id=\"T_a215d_row16_col3\" class=\"data row16 col3\" >47312104.7750</td>\n",
              "      <td id=\"T_a215d_row16_col4\" class=\"data row16 col4\" >-1973405683192564.5000</td>\n",
              "      <td id=\"T_a215d_row16_col5\" class=\"data row16 col5\" >13.1943</td>\n",
              "      <td id=\"T_a215d_row16_col6\" class=\"data row16 col6\" >25566851.4875</td>\n",
              "      <td id=\"T_a215d_row16_col7\" class=\"data row16 col7\" >0.0530</td>\n",
              "    </tr>\n",
              "    <tr>\n",
              "      <th id=\"T_a215d_level0_row17\" class=\"row_heading level0 row17\" >par</th>\n",
              "      <td id=\"T_a215d_row17_col0\" class=\"data row17 col0\" >Passive Aggressive Regressor</td>\n",
              "      <td id=\"T_a215d_row17_col1\" class=\"data row17 col1\" >29730539108.3473</td>\n",
              "      <td id=\"T_a215d_row17_col2\" class=\"data row17 col2\" >149854990160140416581632.0000</td>\n",
              "      <td id=\"T_a215d_row17_col3\" class=\"data row17 col3\" >122417329442.6632</td>\n",
              "      <td id=\"T_a215d_row17_col4\" class=\"data row17 col4\" >-15361439215144186937344.0000</td>\n",
              "      <td id=\"T_a215d_row17_col5\" class=\"data row17 col5\" >4.2775</td>\n",
              "      <td id=\"T_a215d_row17_col6\" class=\"data row17 col6\" >54682188105.0098</td>\n",
              "      <td id=\"T_a215d_row17_col7\" class=\"data row17 col7\" >0.0510</td>\n",
              "    </tr>\n",
              "  </tbody>\n",
              "</table>\n"
            ]
          },
          "metadata": {}
        },
        {
          "output_type": "display_data",
          "data": {
            "text/plain": [
              "Processing:   0%|          | 0/81 [00:00<?, ?it/s]"
            ],
            "application/vnd.jupyter.widget-view+json": {
              "version_major": 2,
              "version_minor": 0,
              "model_id": "aad6bb00f3e44137a6bb8393f088fb68"
            }
          },
          "metadata": {
            "application/vnd.jupyter.widget-view+json": {
              "colab": {
                "custom_widget_manager": {
                  "url": "https://ssl.gstatic.com/colaboratory-static/widgets/colab-cdn-widget-manager/2b70e893a8ba7c0f/manager.min.js"
                }
              }
            }
          }
        },
        {
          "output_type": "display_data",
          "data": {
            "text/plain": [
              "<IPython.core.display.HTML object>"
            ],
            "text/html": []
          },
          "metadata": {}
        }
      ],
      "source": [
        "best_model = compare_models()"
      ]
    },
    {
      "cell_type": "code",
      "execution_count": 31,
      "metadata": {
        "colab": {
          "base_uri": "https://localhost:8080/",
          "height": 457,
          "referenced_widgets": [
            "31c6051b5a6b4824ae1ec15c0ed06a7b",
            "b62c3a16d4c04760b8eee733efa5293b",
            "0c0dbd52fab8486f971e2012cf213ec3",
            "d1d35a1defae4e3b89550e843f8b63c4",
            "d355a19dc22e4639a66d3300cf5faf68",
            "9caaeefbf5714412b4ecf48f802d5d5f",
            "ac19719851f64c1180655655399ba6a0",
            "bb94d966952c486eb0c68d7ef7b19699",
            "e8c714962e08499cbcecb8bd2dcc59a2",
            "cc5381e6b7e24e4598b3e0c43f0ad17f",
            "357a3ece2b7f4649a52bf70f53078192"
          ]
        },
        "id": "FDM4Iuo4TLuc",
        "outputId": "621faedf-572a-4f5d-87bf-c0d4da1b9aba"
      },
      "outputs": [
        {
          "output_type": "display_data",
          "data": {
            "text/plain": [
              "<IPython.core.display.HTML object>"
            ],
            "text/html": []
          },
          "metadata": {}
        },
        {
          "output_type": "display_data",
          "data": {
            "text/plain": [
              "<pandas.io.formats.style.Styler at 0x7b2b1abaa200>"
            ],
            "text/html": [
              "<style type=\"text/css\">\n",
              "#T_5a92e_row10_col0, #T_5a92e_row10_col1, #T_5a92e_row10_col2, #T_5a92e_row10_col3, #T_5a92e_row10_col4, #T_5a92e_row10_col5 {\n",
              "  background: yellow;\n",
              "}\n",
              "</style>\n",
              "<table id=\"T_5a92e\" class=\"dataframe\">\n",
              "  <thead>\n",
              "    <tr>\n",
              "      <th class=\"blank level0\" >&nbsp;</th>\n",
              "      <th id=\"T_5a92e_level0_col0\" class=\"col_heading level0 col0\" >MAE</th>\n",
              "      <th id=\"T_5a92e_level0_col1\" class=\"col_heading level0 col1\" >MSE</th>\n",
              "      <th id=\"T_5a92e_level0_col2\" class=\"col_heading level0 col2\" >RMSE</th>\n",
              "      <th id=\"T_5a92e_level0_col3\" class=\"col_heading level0 col3\" >R2</th>\n",
              "      <th id=\"T_5a92e_level0_col4\" class=\"col_heading level0 col4\" >RMSLE</th>\n",
              "      <th id=\"T_5a92e_level0_col5\" class=\"col_heading level0 col5\" >MAPE</th>\n",
              "    </tr>\n",
              "    <tr>\n",
              "      <th class=\"index_name level0\" >Fold</th>\n",
              "      <th class=\"blank col0\" >&nbsp;</th>\n",
              "      <th class=\"blank col1\" >&nbsp;</th>\n",
              "      <th class=\"blank col2\" >&nbsp;</th>\n",
              "      <th class=\"blank col3\" >&nbsp;</th>\n",
              "      <th class=\"blank col4\" >&nbsp;</th>\n",
              "      <th class=\"blank col5\" >&nbsp;</th>\n",
              "    </tr>\n",
              "  </thead>\n",
              "  <tbody>\n",
              "    <tr>\n",
              "      <th id=\"T_5a92e_level0_row0\" class=\"row_heading level0 row0\" >0</th>\n",
              "      <td id=\"T_5a92e_row0_col0\" class=\"data row0 col0\" >1.2437</td>\n",
              "      <td id=\"T_5a92e_row0_col1\" class=\"data row0 col1\" >2.0812</td>\n",
              "      <td id=\"T_5a92e_row0_col2\" class=\"data row0 col2\" >1.4426</td>\n",
              "      <td id=\"T_5a92e_row0_col3\" class=\"data row0 col3\" >0.5359</td>\n",
              "      <td id=\"T_5a92e_row0_col4\" class=\"data row0 col4\" >0.3670</td>\n",
              "      <td id=\"T_5a92e_row0_col5\" class=\"data row0 col5\" >0.5707</td>\n",
              "    </tr>\n",
              "    <tr>\n",
              "      <th id=\"T_5a92e_level0_row1\" class=\"row_heading level0 row1\" >1</th>\n",
              "      <td id=\"T_5a92e_row1_col0\" class=\"data row1 col0\" >1.9312</td>\n",
              "      <td id=\"T_5a92e_row1_col1\" class=\"data row1 col1\" >5.3414</td>\n",
              "      <td id=\"T_5a92e_row1_col2\" class=\"data row1 col2\" >2.3111</td>\n",
              "      <td id=\"T_5a92e_row1_col3\" class=\"data row1 col3\" >0.1885</td>\n",
              "      <td id=\"T_5a92e_row1_col4\" class=\"data row1 col4\" >0.4014</td>\n",
              "      <td id=\"T_5a92e_row1_col5\" class=\"data row1 col5\" >0.9550</td>\n",
              "    </tr>\n",
              "    <tr>\n",
              "      <th id=\"T_5a92e_level0_row2\" class=\"row_heading level0 row2\" >2</th>\n",
              "      <td id=\"T_5a92e_row2_col0\" class=\"data row2 col0\" >1.8240</td>\n",
              "      <td id=\"T_5a92e_row2_col1\" class=\"data row2 col1\" >5.0217</td>\n",
              "      <td id=\"T_5a92e_row2_col2\" class=\"data row2 col2\" >2.2409</td>\n",
              "      <td id=\"T_5a92e_row2_col3\" class=\"data row2 col3\" >0.1191</td>\n",
              "      <td id=\"T_5a92e_row2_col4\" class=\"data row2 col4\" >0.7125</td>\n",
              "      <td id=\"T_5a92e_row2_col5\" class=\"data row2 col5\" >3.0156</td>\n",
              "    </tr>\n",
              "    <tr>\n",
              "      <th id=\"T_5a92e_level0_row3\" class=\"row_heading level0 row3\" >3</th>\n",
              "      <td id=\"T_5a92e_row3_col0\" class=\"data row3 col0\" >2.3299</td>\n",
              "      <td id=\"T_5a92e_row3_col1\" class=\"data row3 col1\" >8.7702</td>\n",
              "      <td id=\"T_5a92e_row3_col2\" class=\"data row3 col2\" >2.9615</td>\n",
              "      <td id=\"T_5a92e_row3_col3\" class=\"data row3 col3\" >0.1010</td>\n",
              "      <td id=\"T_5a92e_row3_col4\" class=\"data row3 col4\" >0.5648</td>\n",
              "      <td id=\"T_5a92e_row3_col5\" class=\"data row3 col5\" >1.0768</td>\n",
              "    </tr>\n",
              "    <tr>\n",
              "      <th id=\"T_5a92e_level0_row4\" class=\"row_heading level0 row4\" >4</th>\n",
              "      <td id=\"T_5a92e_row4_col0\" class=\"data row4 col0\" >1.7569</td>\n",
              "      <td id=\"T_5a92e_row4_col1\" class=\"data row4 col1\" >4.2420</td>\n",
              "      <td id=\"T_5a92e_row4_col2\" class=\"data row4 col2\" >2.0596</td>\n",
              "      <td id=\"T_5a92e_row4_col3\" class=\"data row4 col3\" >0.3236</td>\n",
              "      <td id=\"T_5a92e_row4_col4\" class=\"data row4 col4\" >0.5697</td>\n",
              "      <td id=\"T_5a92e_row4_col5\" class=\"data row4 col5\" >0.9417</td>\n",
              "    </tr>\n",
              "    <tr>\n",
              "      <th id=\"T_5a92e_level0_row5\" class=\"row_heading level0 row5\" >5</th>\n",
              "      <td id=\"T_5a92e_row5_col0\" class=\"data row5 col0\" >2.5489</td>\n",
              "      <td id=\"T_5a92e_row5_col1\" class=\"data row5 col1\" >11.2683</td>\n",
              "      <td id=\"T_5a92e_row5_col2\" class=\"data row5 col2\" >3.3568</td>\n",
              "      <td id=\"T_5a92e_row5_col3\" class=\"data row5 col3\" >-0.2970</td>\n",
              "      <td id=\"T_5a92e_row5_col4\" class=\"data row5 col4\" >0.6000</td>\n",
              "      <td id=\"T_5a92e_row5_col5\" class=\"data row5 col5\" >1.8483</td>\n",
              "    </tr>\n",
              "    <tr>\n",
              "      <th id=\"T_5a92e_level0_row6\" class=\"row_heading level0 row6\" >6</th>\n",
              "      <td id=\"T_5a92e_row6_col0\" class=\"data row6 col0\" >1.7242</td>\n",
              "      <td id=\"T_5a92e_row6_col1\" class=\"data row6 col1\" >4.5647</td>\n",
              "      <td id=\"T_5a92e_row6_col2\" class=\"data row6 col2\" >2.1365</td>\n",
              "      <td id=\"T_5a92e_row6_col3\" class=\"data row6 col3\" >0.3921</td>\n",
              "      <td id=\"T_5a92e_row6_col4\" class=\"data row6 col4\" >0.6019</td>\n",
              "      <td id=\"T_5a92e_row6_col5\" class=\"data row6 col5\" >2.1785</td>\n",
              "    </tr>\n",
              "    <tr>\n",
              "      <th id=\"T_5a92e_level0_row7\" class=\"row_heading level0 row7\" >7</th>\n",
              "      <td id=\"T_5a92e_row7_col0\" class=\"data row7 col0\" >2.5866</td>\n",
              "      <td id=\"T_5a92e_row7_col1\" class=\"data row7 col1\" >9.7948</td>\n",
              "      <td id=\"T_5a92e_row7_col2\" class=\"data row7 col2\" >3.1297</td>\n",
              "      <td id=\"T_5a92e_row7_col3\" class=\"data row7 col3\" >-0.0927</td>\n",
              "      <td id=\"T_5a92e_row7_col4\" class=\"data row7 col4\" >0.8711</td>\n",
              "      <td id=\"T_5a92e_row7_col5\" class=\"data row7 col5\" >7.2357</td>\n",
              "    </tr>\n",
              "    <tr>\n",
              "      <th id=\"T_5a92e_level0_row8\" class=\"row_heading level0 row8\" >8</th>\n",
              "      <td id=\"T_5a92e_row8_col0\" class=\"data row8 col0\" >2.9685</td>\n",
              "      <td id=\"T_5a92e_row8_col1\" class=\"data row8 col1\" >12.0594</td>\n",
              "      <td id=\"T_5a92e_row8_col2\" class=\"data row8 col2\" >3.4727</td>\n",
              "      <td id=\"T_5a92e_row8_col3\" class=\"data row8 col3\" >0.0921</td>\n",
              "      <td id=\"T_5a92e_row8_col4\" class=\"data row8 col4\" >0.7234</td>\n",
              "      <td id=\"T_5a92e_row8_col5\" class=\"data row8 col5\" >1.4252</td>\n",
              "    </tr>\n",
              "    <tr>\n",
              "      <th id=\"T_5a92e_level0_row9\" class=\"row_heading level0 row9\" >9</th>\n",
              "      <td id=\"T_5a92e_row9_col0\" class=\"data row9 col0\" >1.6805</td>\n",
              "      <td id=\"T_5a92e_row9_col1\" class=\"data row9 col1\" >4.3095</td>\n",
              "      <td id=\"T_5a92e_row9_col2\" class=\"data row9 col2\" >2.0759</td>\n",
              "      <td id=\"T_5a92e_row9_col3\" class=\"data row9 col3\" >-0.2804</td>\n",
              "      <td id=\"T_5a92e_row9_col4\" class=\"data row9 col4\" >0.5443</td>\n",
              "      <td id=\"T_5a92e_row9_col5\" class=\"data row9 col5\" >0.4601</td>\n",
              "    </tr>\n",
              "    <tr>\n",
              "      <th id=\"T_5a92e_level0_row10\" class=\"row_heading level0 row10\" >Mean</th>\n",
              "      <td id=\"T_5a92e_row10_col0\" class=\"data row10 col0\" >2.0595</td>\n",
              "      <td id=\"T_5a92e_row10_col1\" class=\"data row10 col1\" >6.7453</td>\n",
              "      <td id=\"T_5a92e_row10_col2\" class=\"data row10 col2\" >2.5187</td>\n",
              "      <td id=\"T_5a92e_row10_col3\" class=\"data row10 col3\" >0.1082</td>\n",
              "      <td id=\"T_5a92e_row10_col4\" class=\"data row10 col4\" >0.5956</td>\n",
              "      <td id=\"T_5a92e_row10_col5\" class=\"data row10 col5\" >1.9708</td>\n",
              "    </tr>\n",
              "    <tr>\n",
              "      <th id=\"T_5a92e_level0_row11\" class=\"row_heading level0 row11\" >Std</th>\n",
              "      <td id=\"T_5a92e_row11_col0\" class=\"data row11 col0\" >0.5002</td>\n",
              "      <td id=\"T_5a92e_row11_col1\" class=\"data row11 col1\" >3.2519</td>\n",
              "      <td id=\"T_5a92e_row11_col2\" class=\"data row11 col2\" >0.6335</td>\n",
              "      <td id=\"T_5a92e_row11_col3\" class=\"data row11 col3\" >0.2593</td>\n",
              "      <td id=\"T_5a92e_row11_col4\" class=\"data row11 col4\" >0.1415</td>\n",
              "      <td id=\"T_5a92e_row11_col5\" class=\"data row11 col5\" >1.9052</td>\n",
              "    </tr>\n",
              "  </tbody>\n",
              "</table>\n"
            ]
          },
          "metadata": {}
        },
        {
          "output_type": "display_data",
          "data": {
            "text/plain": [
              "Processing:   0%|          | 0/4 [00:00<?, ?it/s]"
            ],
            "application/vnd.jupyter.widget-view+json": {
              "version_major": 2,
              "version_minor": 0,
              "model_id": "31c6051b5a6b4824ae1ec15c0ed06a7b"
            }
          },
          "metadata": {
            "application/vnd.jupyter.widget-view+json": {
              "colab": {
                "custom_widget_manager": {
                  "url": "https://ssl.gstatic.com/colaboratory-static/widgets/colab-cdn-widget-manager/2b70e893a8ba7c0f/manager.min.js"
                }
              }
            }
          }
        },
        {
          "output_type": "display_data",
          "data": {
            "text/plain": [
              "<IPython.core.display.HTML object>"
            ],
            "text/html": []
          },
          "metadata": {}
        }
      ],
      "source": [
        "model = create_model(best_model)"
      ]
    },
    {
      "cell_type": "code",
      "execution_count": 32,
      "metadata": {
        "colab": {
          "base_uri": "https://localhost:8080/",
          "height": 512,
          "referenced_widgets": [
            "282ca50dbe0841c2a3736001be3897a5",
            "e03788ea4cd94be8a3e28ccda7a0dfeb",
            "501d29794f2643fd9e8ad3a08db3a763",
            "507d767684f74b36a71ae98a60dec38f",
            "8b0de5e1304d45b8843abdfa07be4c19",
            "7408c1f97b4345f8a0d4df751a746877",
            "a74ca3554dfc41ffa2a6a273fbe8d38f",
            "db8daac0acc64431b42ffb0a1ca0aa57",
            "63a628c60a974d0eaf7f74c636884b76",
            "5a5d814ce6004282b0955c38fbc7a99d",
            "dbbd53d7ea8b43a7bd765f1bbcdba767"
          ]
        },
        "id": "tbFOYhygT1ZQ",
        "outputId": "dfe3ab50-268a-48d2-fa36-31d8ad534276"
      },
      "outputs": [
        {
          "output_type": "display_data",
          "data": {
            "text/plain": [
              "<IPython.core.display.HTML object>"
            ],
            "text/html": []
          },
          "metadata": {}
        },
        {
          "output_type": "display_data",
          "data": {
            "text/plain": [
              "<pandas.io.formats.style.Styler at 0x7b2b1ab6b6a0>"
            ],
            "text/html": [
              "<style type=\"text/css\">\n",
              "#T_7e9a9_row10_col0, #T_7e9a9_row10_col1, #T_7e9a9_row10_col2, #T_7e9a9_row10_col3, #T_7e9a9_row10_col4, #T_7e9a9_row10_col5 {\n",
              "  background: yellow;\n",
              "}\n",
              "</style>\n",
              "<table id=\"T_7e9a9\" class=\"dataframe\">\n",
              "  <thead>\n",
              "    <tr>\n",
              "      <th class=\"blank level0\" >&nbsp;</th>\n",
              "      <th id=\"T_7e9a9_level0_col0\" class=\"col_heading level0 col0\" >MAE</th>\n",
              "      <th id=\"T_7e9a9_level0_col1\" class=\"col_heading level0 col1\" >MSE</th>\n",
              "      <th id=\"T_7e9a9_level0_col2\" class=\"col_heading level0 col2\" >RMSE</th>\n",
              "      <th id=\"T_7e9a9_level0_col3\" class=\"col_heading level0 col3\" >R2</th>\n",
              "      <th id=\"T_7e9a9_level0_col4\" class=\"col_heading level0 col4\" >RMSLE</th>\n",
              "      <th id=\"T_7e9a9_level0_col5\" class=\"col_heading level0 col5\" >MAPE</th>\n",
              "    </tr>\n",
              "    <tr>\n",
              "      <th class=\"index_name level0\" >Fold</th>\n",
              "      <th class=\"blank col0\" >&nbsp;</th>\n",
              "      <th class=\"blank col1\" >&nbsp;</th>\n",
              "      <th class=\"blank col2\" >&nbsp;</th>\n",
              "      <th class=\"blank col3\" >&nbsp;</th>\n",
              "      <th class=\"blank col4\" >&nbsp;</th>\n",
              "      <th class=\"blank col5\" >&nbsp;</th>\n",
              "    </tr>\n",
              "  </thead>\n",
              "  <tbody>\n",
              "    <tr>\n",
              "      <th id=\"T_7e9a9_level0_row0\" class=\"row_heading level0 row0\" >0</th>\n",
              "      <td id=\"T_7e9a9_row0_col0\" class=\"data row0 col0\" >1.5298</td>\n",
              "      <td id=\"T_7e9a9_row0_col1\" class=\"data row0 col1\" >3.5813</td>\n",
              "      <td id=\"T_7e9a9_row0_col2\" class=\"data row0 col2\" >1.8924</td>\n",
              "      <td id=\"T_7e9a9_row0_col3\" class=\"data row0 col3\" >0.2015</td>\n",
              "      <td id=\"T_7e9a9_row0_col4\" class=\"data row0 col4\" >0.4256</td>\n",
              "      <td id=\"T_7e9a9_row0_col5\" class=\"data row0 col5\" >0.8893</td>\n",
              "    </tr>\n",
              "    <tr>\n",
              "      <th id=\"T_7e9a9_level0_row1\" class=\"row_heading level0 row1\" >1</th>\n",
              "      <td id=\"T_7e9a9_row1_col0\" class=\"data row1 col0\" >2.0720</td>\n",
              "      <td id=\"T_7e9a9_row1_col1\" class=\"data row1 col1\" >6.0180</td>\n",
              "      <td id=\"T_7e9a9_row1_col2\" class=\"data row1 col2\" >2.4532</td>\n",
              "      <td id=\"T_7e9a9_row1_col3\" class=\"data row1 col3\" >0.0858</td>\n",
              "      <td id=\"T_7e9a9_row1_col4\" class=\"data row1 col4\" >0.4420</td>\n",
              "      <td id=\"T_7e9a9_row1_col5\" class=\"data row1 col5\" >1.0320</td>\n",
              "    </tr>\n",
              "    <tr>\n",
              "      <th id=\"T_7e9a9_level0_row2\" class=\"row_heading level0 row2\" >2</th>\n",
              "      <td id=\"T_7e9a9_row2_col0\" class=\"data row2 col0\" >1.7164</td>\n",
              "      <td id=\"T_7e9a9_row2_col1\" class=\"data row2 col1\" >4.9314</td>\n",
              "      <td id=\"T_7e9a9_row2_col2\" class=\"data row2 col2\" >2.2207</td>\n",
              "      <td id=\"T_7e9a9_row2_col3\" class=\"data row2 col3\" >0.1350</td>\n",
              "      <td id=\"T_7e9a9_row2_col4\" class=\"data row2 col4\" >0.5240</td>\n",
              "      <td id=\"T_7e9a9_row2_col5\" class=\"data row2 col5\" >2.2105</td>\n",
              "    </tr>\n",
              "    <tr>\n",
              "      <th id=\"T_7e9a9_level0_row3\" class=\"row_heading level0 row3\" >3</th>\n",
              "      <td id=\"T_7e9a9_row3_col0\" class=\"data row3 col0\" >2.2652</td>\n",
              "      <td id=\"T_7e9a9_row3_col1\" class=\"data row3 col1\" >7.9105</td>\n",
              "      <td id=\"T_7e9a9_row3_col2\" class=\"data row3 col2\" >2.8126</td>\n",
              "      <td id=\"T_7e9a9_row3_col3\" class=\"data row3 col3\" >0.1891</td>\n",
              "      <td id=\"T_7e9a9_row3_col4\" class=\"data row3 col4\" >0.6906</td>\n",
              "      <td id=\"T_7e9a9_row3_col5\" class=\"data row3 col5\" >1.0060</td>\n",
              "    </tr>\n",
              "    <tr>\n",
              "      <th id=\"T_7e9a9_level0_row4\" class=\"row_heading level0 row4\" >4</th>\n",
              "      <td id=\"T_7e9a9_row4_col0\" class=\"data row4 col0\" >1.7754</td>\n",
              "      <td id=\"T_7e9a9_row4_col1\" class=\"data row4 col1\" >5.5675</td>\n",
              "      <td id=\"T_7e9a9_row4_col2\" class=\"data row4 col2\" >2.3595</td>\n",
              "      <td id=\"T_7e9a9_row4_col3\" class=\"data row4 col3\" >0.1122</td>\n",
              "      <td id=\"T_7e9a9_row4_col4\" class=\"data row4 col4\" >0.5139</td>\n",
              "      <td id=\"T_7e9a9_row4_col5\" class=\"data row4 col5\" >0.7985</td>\n",
              "    </tr>\n",
              "    <tr>\n",
              "      <th id=\"T_7e9a9_level0_row5\" class=\"row_heading level0 row5\" >5</th>\n",
              "      <td id=\"T_7e9a9_row5_col0\" class=\"data row5 col0\" >2.5794</td>\n",
              "      <td id=\"T_7e9a9_row5_col1\" class=\"data row5 col1\" >11.0995</td>\n",
              "      <td id=\"T_7e9a9_row5_col2\" class=\"data row5 col2\" >3.3316</td>\n",
              "      <td id=\"T_7e9a9_row5_col3\" class=\"data row5 col3\" >-0.2775</td>\n",
              "      <td id=\"T_7e9a9_row5_col4\" class=\"data row5 col4\" >0.4932</td>\n",
              "      <td id=\"T_7e9a9_row5_col5\" class=\"data row5 col5\" >1.9059</td>\n",
              "    </tr>\n",
              "    <tr>\n",
              "      <th id=\"T_7e9a9_level0_row6\" class=\"row_heading level0 row6\" >6</th>\n",
              "      <td id=\"T_7e9a9_row6_col0\" class=\"data row6 col0\" >1.6785</td>\n",
              "      <td id=\"T_7e9a9_row6_col1\" class=\"data row6 col1\" >4.5277</td>\n",
              "      <td id=\"T_7e9a9_row6_col2\" class=\"data row6 col2\" >2.1278</td>\n",
              "      <td id=\"T_7e9a9_row6_col3\" class=\"data row6 col3\" >0.3971</td>\n",
              "      <td id=\"T_7e9a9_row6_col4\" class=\"data row6 col4\" >0.5522</td>\n",
              "      <td id=\"T_7e9a9_row6_col5\" class=\"data row6 col5\" >2.0717</td>\n",
              "    </tr>\n",
              "    <tr>\n",
              "      <th id=\"T_7e9a9_level0_row7\" class=\"row_heading level0 row7\" >7</th>\n",
              "      <td id=\"T_7e9a9_row7_col0\" class=\"data row7 col0\" >2.4689</td>\n",
              "      <td id=\"T_7e9a9_row7_col1\" class=\"data row7 col1\" >9.7489</td>\n",
              "      <td id=\"T_7e9a9_row7_col2\" class=\"data row7 col2\" >3.1223</td>\n",
              "      <td id=\"T_7e9a9_row7_col3\" class=\"data row7 col3\" >-0.0876</td>\n",
              "      <td id=\"T_7e9a9_row7_col4\" class=\"data row7 col4\" >0.6066</td>\n",
              "      <td id=\"T_7e9a9_row7_col5\" class=\"data row7 col5\" >5.7864</td>\n",
              "    </tr>\n",
              "    <tr>\n",
              "      <th id=\"T_7e9a9_level0_row8\" class=\"row_heading level0 row8\" >8</th>\n",
              "      <td id=\"T_7e9a9_row8_col0\" class=\"data row8 col0\" >2.5876</td>\n",
              "      <td id=\"T_7e9a9_row8_col1\" class=\"data row8 col1\" >9.9536</td>\n",
              "      <td id=\"T_7e9a9_row8_col2\" class=\"data row8 col2\" >3.1549</td>\n",
              "      <td id=\"T_7e9a9_row8_col3\" class=\"data row8 col3\" >0.2506</td>\n",
              "      <td id=\"T_7e9a9_row8_col4\" class=\"data row8 col4\" >0.7478</td>\n",
              "      <td id=\"T_7e9a9_row8_col5\" class=\"data row8 col5\" >1.0590</td>\n",
              "    </tr>\n",
              "    <tr>\n",
              "      <th id=\"T_7e9a9_level0_row9\" class=\"row_heading level0 row9\" >9</th>\n",
              "      <td id=\"T_7e9a9_row9_col0\" class=\"data row9 col0\" >1.9078</td>\n",
              "      <td id=\"T_7e9a9_row9_col1\" class=\"data row9 col1\" >5.3063</td>\n",
              "      <td id=\"T_7e9a9_row9_col2\" class=\"data row9 col2\" >2.3035</td>\n",
              "      <td id=\"T_7e9a9_row9_col3\" class=\"data row9 col3\" >-0.5766</td>\n",
              "      <td id=\"T_7e9a9_row9_col4\" class=\"data row9 col4\" >0.5028</td>\n",
              "      <td id=\"T_7e9a9_row9_col5\" class=\"data row9 col5\" >0.5295</td>\n",
              "    </tr>\n",
              "    <tr>\n",
              "      <th id=\"T_7e9a9_level0_row10\" class=\"row_heading level0 row10\" >Mean</th>\n",
              "      <td id=\"T_7e9a9_row10_col0\" class=\"data row10 col0\" >2.0581</td>\n",
              "      <td id=\"T_7e9a9_row10_col1\" class=\"data row10 col1\" >6.8645</td>\n",
              "      <td id=\"T_7e9a9_row10_col2\" class=\"data row10 col2\" >2.5779</td>\n",
              "      <td id=\"T_7e9a9_row10_col3\" class=\"data row10 col3\" >0.0430</td>\n",
              "      <td id=\"T_7e9a9_row10_col4\" class=\"data row10 col4\" >0.5499</td>\n",
              "      <td id=\"T_7e9a9_row10_col5\" class=\"data row10 col5\" >1.7289</td>\n",
              "    </tr>\n",
              "    <tr>\n",
              "      <th id=\"T_7e9a9_level0_row11\" class=\"row_heading level0 row11\" >Std</th>\n",
              "      <td id=\"T_7e9a9_row11_col0\" class=\"data row11 col0\" >0.3750</td>\n",
              "      <td id=\"T_7e9a9_row11_col1\" class=\"data row11 col1\" >2.4839</td>\n",
              "      <td id=\"T_7e9a9_row11_col2\" class=\"data row11 col2\" >0.4681</td>\n",
              "      <td id=\"T_7e9a9_row11_col3\" class=\"data row11 col3\" >0.2709</td>\n",
              "      <td id=\"T_7e9a9_row11_col4\" class=\"data row11 col4\" >0.0983</td>\n",
              "      <td id=\"T_7e9a9_row11_col5\" class=\"data row11 col5\" >1.4598</td>\n",
              "    </tr>\n",
              "  </tbody>\n",
              "</table>\n"
            ]
          },
          "metadata": {}
        },
        {
          "output_type": "display_data",
          "data": {
            "text/plain": [
              "Processing:   0%|          | 0/7 [00:00<?, ?it/s]"
            ],
            "application/vnd.jupyter.widget-view+json": {
              "version_major": 2,
              "version_minor": 0,
              "model_id": "282ca50dbe0841c2a3736001be3897a5"
            }
          },
          "metadata": {
            "application/vnd.jupyter.widget-view+json": {
              "colab": {
                "custom_widget_manager": {
                  "url": "https://ssl.gstatic.com/colaboratory-static/widgets/colab-cdn-widget-manager/2b70e893a8ba7c0f/manager.min.js"
                }
              }
            }
          }
        },
        {
          "output_type": "stream",
          "name": "stdout",
          "text": [
            "Fitting 10 folds for each of 50 candidates, totalling 500 fits\n"
          ]
        },
        {
          "output_type": "display_data",
          "data": {
            "text/plain": [
              "<IPython.core.display.HTML object>"
            ],
            "text/html": []
          },
          "metadata": {}
        },
        {
          "output_type": "stream",
          "name": "stdout",
          "text": [
            "Original model was better than the tuned model, hence it will be returned. NOTE: The display metrics are for the tuned model (not the original one).\n"
          ]
        }
      ],
      "source": [
        "tuned_model = tune_model(model, n_iter=50, optimize = 'R2')"
      ]
    },
    {
      "cell_type": "code",
      "source": [
        "## To make predictions\n",
        "# Subset the dataframe to include only the SMILES and DRUG_NAME columns\n",
        "df_subset = df_filtered_2[['DRUG_NAME', 'SMILES']]\n",
        "\n",
        "# Create a new dataframe for prediction results\n",
        "df_predictions = pd.DataFrame(columns=['DRUG_NAME', 'Predicted_LN_IC50'])\n",
        "\n",
        "# Iterate through the rows of the subsetted dataframe and predict IC50 for each SMILES\n",
        "for index, row in df_subset.iterrows():\n",
        "    drug_name = row['DRUG_NAME']\n",
        "    smiles = row['SMILES']\n",
        "\n",
        "    # Create a temporary dataframe with the features needed for prediction\n",
        "    df_temp = pd.DataFrame({'SMILES': [smiles]})\n",
        "\n",
        "    # Apply the lipinski and molecular descriptor calculations to the temporary dataframe\n",
        "    df_lipinski_temp = df_temp['SMILES'].apply(lipinski_rule).apply(pd.Series)\n",
        "    # Check the number of columns returned by lipinski_rule\n",
        "    print(f'Number of columns returned by lipinski_rule: {len(df_lipinski_temp.columns)}')\n",
        "    df_lipinski_temp.columns = ['LogP', 'HDon', 'HAcc', 'MWT'] # Added 'MWT' as a column name assuming lipinski_rule returns 4 values.\n",
        "    df_descriptors_temp = df_temp['SMILES'].apply(calc_descriptors).apply(pd.Series)\n",
        "    df_combined_temp = pd.concat([df_descriptors_temp, df_lipinski_temp], axis=1)\n",
        "\n",
        "    # Remove any columns not present in the trained model's feature set\n",
        "    # Replace 'fp_LnIC.columns' with the actual list of columns used in the training process.\n",
        "    for column in df_combined_temp.columns:\n",
        "      if column not in fp_LnIC.columns:\n",
        "        df_combined_temp = df_combined_temp.drop(column, axis=1)\n",
        "\n",
        "\n",
        "    # Use the trained model to predict the IC50\n",
        "    #Changed 'Label' to 'prediction'\n",
        "    predicted_ic50 = predict_model(tuned_model, data=df_combined_temp)['prediction_label'][0]\n",
        "\n",
        "\n",
        "    # Add the drug name and predicted IC50 to the prediction results dataframe\n",
        "    df_predictions = pd.concat([df_predictions, pd.DataFrame({'DRUG_NAME': [drug_name], 'Predicted_LN_IC50': [predicted_ic50]})], ignore_index=True)\n",
        "\n",
        "# Print or use the df_predictions dataframe as needed\n",
        "print(df_predictions)"
      ],
      "metadata": {
        "id": "UBOkimZ-m562",
        "outputId": "c98e896e-d980-473e-e45f-574e29a502a8",
        "colab": {
          "base_uri": "https://localhost:8080/",
          "height": 1000
        }
      },
      "execution_count": 66,
      "outputs": [
        {
          "output_type": "stream",
          "name": "stdout",
          "text": [
            "Number of columns returned by lipinski_rule: 4\n"
          ]
        },
        {
          "output_type": "stream",
          "name": "stderr",
          "text": [
            "[23:27:35] DEPRECATION WARNING: please use MorganGenerator\n",
            "[23:27:35] DEPRECATION WARNING: please use MorganGenerator\n",
            "[23:27:35] DEPRECATION WARNING: please use MorganGenerator\n"
          ]
        },
        {
          "output_type": "display_data",
          "data": {
            "text/plain": [
              "<IPython.core.display.HTML object>"
            ],
            "text/html": []
          },
          "metadata": {}
        },
        {
          "output_type": "stream",
          "name": "stdout",
          "text": [
            "Number of columns returned by lipinski_rule: 4\n"
          ]
        },
        {
          "output_type": "stream",
          "name": "stderr",
          "text": [
            "[23:27:36] DEPRECATION WARNING: please use MorganGenerator\n",
            "[23:27:36] DEPRECATION WARNING: please use MorganGenerator\n",
            "[23:27:36] DEPRECATION WARNING: please use MorganGenerator\n"
          ]
        },
        {
          "output_type": "display_data",
          "data": {
            "text/plain": [
              "<IPython.core.display.HTML object>"
            ],
            "text/html": []
          },
          "metadata": {}
        },
        {
          "output_type": "stream",
          "name": "stdout",
          "text": [
            "Number of columns returned by lipinski_rule: 4\n"
          ]
        },
        {
          "output_type": "stream",
          "name": "stderr",
          "text": [
            "[23:27:36] DEPRECATION WARNING: please use MorganGenerator\n",
            "[23:27:36] DEPRECATION WARNING: please use MorganGenerator\n",
            "[23:27:36] DEPRECATION WARNING: please use MorganGenerator\n"
          ]
        },
        {
          "output_type": "display_data",
          "data": {
            "text/plain": [
              "<IPython.core.display.HTML object>"
            ],
            "text/html": []
          },
          "metadata": {}
        },
        {
          "output_type": "stream",
          "name": "stdout",
          "text": [
            "Number of columns returned by lipinski_rule: 4\n"
          ]
        },
        {
          "output_type": "stream",
          "name": "stderr",
          "text": [
            "[23:27:37] DEPRECATION WARNING: please use MorganGenerator\n",
            "[23:27:37] DEPRECATION WARNING: please use MorganGenerator\n",
            "[23:27:37] DEPRECATION WARNING: please use MorganGenerator\n"
          ]
        },
        {
          "output_type": "display_data",
          "data": {
            "text/plain": [
              "<IPython.core.display.HTML object>"
            ],
            "text/html": []
          },
          "metadata": {}
        },
        {
          "output_type": "stream",
          "name": "stdout",
          "text": [
            "Number of columns returned by lipinski_rule: 4\n"
          ]
        },
        {
          "output_type": "stream",
          "name": "stderr",
          "text": [
            "[23:27:37] DEPRECATION WARNING: please use MorganGenerator\n",
            "[23:27:37] DEPRECATION WARNING: please use MorganGenerator\n",
            "[23:27:37] DEPRECATION WARNING: please use MorganGenerator\n"
          ]
        },
        {
          "output_type": "display_data",
          "data": {
            "text/plain": [
              "<IPython.core.display.HTML object>"
            ],
            "text/html": []
          },
          "metadata": {}
        },
        {
          "output_type": "stream",
          "name": "stdout",
          "text": [
            "Number of columns returned by lipinski_rule: 4\n"
          ]
        },
        {
          "output_type": "stream",
          "name": "stderr",
          "text": [
            "[23:27:37] DEPRECATION WARNING: please use MorganGenerator\n",
            "[23:27:37] DEPRECATION WARNING: please use MorganGenerator\n",
            "[23:27:37] DEPRECATION WARNING: please use MorganGenerator\n"
          ]
        },
        {
          "output_type": "display_data",
          "data": {
            "text/plain": [
              "<IPython.core.display.HTML object>"
            ],
            "text/html": []
          },
          "metadata": {}
        },
        {
          "output_type": "stream",
          "name": "stdout",
          "text": [
            "Number of columns returned by lipinski_rule: 4\n"
          ]
        },
        {
          "output_type": "stream",
          "name": "stderr",
          "text": [
            "[23:27:38] DEPRECATION WARNING: please use MorganGenerator\n",
            "[23:27:38] DEPRECATION WARNING: please use MorganGenerator\n",
            "[23:27:38] DEPRECATION WARNING: please use MorganGenerator\n"
          ]
        },
        {
          "output_type": "display_data",
          "data": {
            "text/plain": [
              "<IPython.core.display.HTML object>"
            ],
            "text/html": []
          },
          "metadata": {}
        },
        {
          "output_type": "stream",
          "name": "stdout",
          "text": [
            "Number of columns returned by lipinski_rule: 4\n"
          ]
        },
        {
          "output_type": "stream",
          "name": "stderr",
          "text": [
            "[23:27:38] DEPRECATION WARNING: please use MorganGenerator\n",
            "[23:27:38] DEPRECATION WARNING: please use MorganGenerator\n",
            "[23:27:38] DEPRECATION WARNING: please use MorganGenerator\n"
          ]
        },
        {
          "output_type": "display_data",
          "data": {
            "text/plain": [
              "<IPython.core.display.HTML object>"
            ],
            "text/html": []
          },
          "metadata": {}
        },
        {
          "output_type": "stream",
          "name": "stdout",
          "text": [
            "Number of columns returned by lipinski_rule: 4\n"
          ]
        },
        {
          "output_type": "stream",
          "name": "stderr",
          "text": [
            "[23:27:38] DEPRECATION WARNING: please use MorganGenerator\n",
            "[23:27:38] DEPRECATION WARNING: please use MorganGenerator\n",
            "[23:27:38] DEPRECATION WARNING: please use MorganGenerator\n"
          ]
        },
        {
          "output_type": "display_data",
          "data": {
            "text/plain": [
              "<IPython.core.display.HTML object>"
            ],
            "text/html": []
          },
          "metadata": {}
        },
        {
          "output_type": "stream",
          "name": "stdout",
          "text": [
            "Number of columns returned by lipinski_rule: 4\n"
          ]
        },
        {
          "output_type": "stream",
          "name": "stderr",
          "text": [
            "[23:27:39] DEPRECATION WARNING: please use MorganGenerator\n",
            "[23:27:39] DEPRECATION WARNING: please use MorganGenerator\n",
            "[23:27:39] DEPRECATION WARNING: please use MorganGenerator\n"
          ]
        },
        {
          "output_type": "display_data",
          "data": {
            "text/plain": [
              "<IPython.core.display.HTML object>"
            ],
            "text/html": []
          },
          "metadata": {}
        },
        {
          "output_type": "stream",
          "name": "stdout",
          "text": [
            "Number of columns returned by lipinski_rule: 4\n"
          ]
        },
        {
          "output_type": "stream",
          "name": "stderr",
          "text": [
            "[23:27:39] DEPRECATION WARNING: please use MorganGenerator\n",
            "[23:27:39] DEPRECATION WARNING: please use MorganGenerator\n",
            "[23:27:39] DEPRECATION WARNING: please use MorganGenerator\n"
          ]
        },
        {
          "output_type": "display_data",
          "data": {
            "text/plain": [
              "<IPython.core.display.HTML object>"
            ],
            "text/html": []
          },
          "metadata": {}
        },
        {
          "output_type": "stream",
          "name": "stdout",
          "text": [
            "Number of columns returned by lipinski_rule: 4\n"
          ]
        },
        {
          "output_type": "stream",
          "name": "stderr",
          "text": [
            "[23:27:39] DEPRECATION WARNING: please use MorganGenerator\n",
            "[23:27:39] DEPRECATION WARNING: please use MorganGenerator\n",
            "[23:27:39] DEPRECATION WARNING: please use MorganGenerator\n"
          ]
        },
        {
          "output_type": "display_data",
          "data": {
            "text/plain": [
              "<IPython.core.display.HTML object>"
            ],
            "text/html": []
          },
          "metadata": {}
        },
        {
          "output_type": "stream",
          "name": "stdout",
          "text": [
            "Number of columns returned by lipinski_rule: 4\n"
          ]
        },
        {
          "output_type": "stream",
          "name": "stderr",
          "text": [
            "[23:27:40] DEPRECATION WARNING: please use MorganGenerator\n",
            "[23:27:40] DEPRECATION WARNING: please use MorganGenerator\n",
            "[23:27:40] DEPRECATION WARNING: please use MorganGenerator\n"
          ]
        },
        {
          "output_type": "display_data",
          "data": {
            "text/plain": [
              "<IPython.core.display.HTML object>"
            ],
            "text/html": []
          },
          "metadata": {}
        },
        {
          "output_type": "stream",
          "name": "stdout",
          "text": [
            "Number of columns returned by lipinski_rule: 4\n"
          ]
        },
        {
          "output_type": "stream",
          "name": "stderr",
          "text": [
            "[23:27:40] DEPRECATION WARNING: please use MorganGenerator\n",
            "[23:27:40] DEPRECATION WARNING: please use MorganGenerator\n",
            "[23:27:40] DEPRECATION WARNING: please use MorganGenerator\n"
          ]
        },
        {
          "output_type": "display_data",
          "data": {
            "text/plain": [
              "<IPython.core.display.HTML object>"
            ],
            "text/html": []
          },
          "metadata": {}
        },
        {
          "output_type": "stream",
          "name": "stdout",
          "text": [
            "Number of columns returned by lipinski_rule: 4\n"
          ]
        },
        {
          "output_type": "stream",
          "name": "stderr",
          "text": [
            "[23:27:40] DEPRECATION WARNING: please use MorganGenerator\n",
            "[23:27:40] DEPRECATION WARNING: please use MorganGenerator\n",
            "[23:27:40] DEPRECATION WARNING: please use MorganGenerator\n"
          ]
        },
        {
          "output_type": "display_data",
          "data": {
            "text/plain": [
              "<IPython.core.display.HTML object>"
            ],
            "text/html": []
          },
          "metadata": {}
        },
        {
          "output_type": "stream",
          "name": "stdout",
          "text": [
            "Number of columns returned by lipinski_rule: 4\n"
          ]
        },
        {
          "output_type": "stream",
          "name": "stderr",
          "text": [
            "[23:27:41] DEPRECATION WARNING: please use MorganGenerator\n",
            "[23:27:41] DEPRECATION WARNING: please use MorganGenerator\n",
            "[23:27:41] DEPRECATION WARNING: please use MorganGenerator\n"
          ]
        },
        {
          "output_type": "display_data",
          "data": {
            "text/plain": [
              "<IPython.core.display.HTML object>"
            ],
            "text/html": []
          },
          "metadata": {}
        },
        {
          "output_type": "stream",
          "name": "stdout",
          "text": [
            "Number of columns returned by lipinski_rule: 4\n"
          ]
        },
        {
          "output_type": "stream",
          "name": "stderr",
          "text": [
            "[23:27:41] DEPRECATION WARNING: please use MorganGenerator\n",
            "[23:27:41] DEPRECATION WARNING: please use MorganGenerator\n",
            "[23:27:41] DEPRECATION WARNING: please use MorganGenerator\n"
          ]
        },
        {
          "output_type": "display_data",
          "data": {
            "text/plain": [
              "<IPython.core.display.HTML object>"
            ],
            "text/html": []
          },
          "metadata": {}
        },
        {
          "output_type": "stream",
          "name": "stdout",
          "text": [
            "Number of columns returned by lipinski_rule: 4\n"
          ]
        },
        {
          "output_type": "stream",
          "name": "stderr",
          "text": [
            "[23:27:42] DEPRECATION WARNING: please use MorganGenerator\n",
            "[23:27:42] DEPRECATION WARNING: please use MorganGenerator\n",
            "[23:27:42] DEPRECATION WARNING: please use MorganGenerator\n"
          ]
        },
        {
          "output_type": "display_data",
          "data": {
            "text/plain": [
              "<IPython.core.display.HTML object>"
            ],
            "text/html": []
          },
          "metadata": {}
        },
        {
          "output_type": "stream",
          "name": "stdout",
          "text": [
            "Number of columns returned by lipinski_rule: 4\n"
          ]
        },
        {
          "output_type": "stream",
          "name": "stderr",
          "text": [
            "[23:27:42] DEPRECATION WARNING: please use MorganGenerator\n",
            "[23:27:42] DEPRECATION WARNING: please use MorganGenerator\n",
            "[23:27:42] DEPRECATION WARNING: please use MorganGenerator\n"
          ]
        },
        {
          "output_type": "display_data",
          "data": {
            "text/plain": [
              "<IPython.core.display.HTML object>"
            ],
            "text/html": []
          },
          "metadata": {}
        },
        {
          "output_type": "stream",
          "name": "stdout",
          "text": [
            "Number of columns returned by lipinski_rule: 4\n"
          ]
        },
        {
          "output_type": "stream",
          "name": "stderr",
          "text": [
            "[23:27:42] DEPRECATION WARNING: please use MorganGenerator\n",
            "[23:27:42] DEPRECATION WARNING: please use MorganGenerator\n",
            "[23:27:42] DEPRECATION WARNING: please use MorganGenerator\n"
          ]
        },
        {
          "output_type": "display_data",
          "data": {
            "text/plain": [
              "<IPython.core.display.HTML object>"
            ],
            "text/html": []
          },
          "metadata": {}
        },
        {
          "output_type": "stream",
          "name": "stdout",
          "text": [
            "Number of columns returned by lipinski_rule: 4\n"
          ]
        },
        {
          "output_type": "stream",
          "name": "stderr",
          "text": [
            "[23:27:43] DEPRECATION WARNING: please use MorganGenerator\n",
            "[23:27:43] DEPRECATION WARNING: please use MorganGenerator\n",
            "[23:27:43] DEPRECATION WARNING: please use MorganGenerator\n"
          ]
        },
        {
          "output_type": "display_data",
          "data": {
            "text/plain": [
              "<IPython.core.display.HTML object>"
            ],
            "text/html": []
          },
          "metadata": {}
        },
        {
          "output_type": "stream",
          "name": "stdout",
          "text": [
            "Number of columns returned by lipinski_rule: 4\n"
          ]
        },
        {
          "output_type": "stream",
          "name": "stderr",
          "text": [
            "[23:27:43] DEPRECATION WARNING: please use MorganGenerator\n",
            "[23:27:43] DEPRECATION WARNING: please use MorganGenerator\n",
            "[23:27:43] DEPRECATION WARNING: please use MorganGenerator\n"
          ]
        },
        {
          "output_type": "display_data",
          "data": {
            "text/plain": [
              "<IPython.core.display.HTML object>"
            ],
            "text/html": []
          },
          "metadata": {}
        },
        {
          "output_type": "stream",
          "name": "stdout",
          "text": [
            "Number of columns returned by lipinski_rule: 4\n"
          ]
        },
        {
          "output_type": "stream",
          "name": "stderr",
          "text": [
            "[23:27:43] DEPRECATION WARNING: please use MorganGenerator\n",
            "[23:27:43] DEPRECATION WARNING: please use MorganGenerator\n",
            "[23:27:43] DEPRECATION WARNING: please use MorganGenerator\n"
          ]
        },
        {
          "output_type": "display_data",
          "data": {
            "text/plain": [
              "<IPython.core.display.HTML object>"
            ],
            "text/html": []
          },
          "metadata": {}
        },
        {
          "output_type": "stream",
          "name": "stdout",
          "text": [
            "Number of columns returned by lipinski_rule: 4\n"
          ]
        },
        {
          "output_type": "stream",
          "name": "stderr",
          "text": [
            "[23:27:44] DEPRECATION WARNING: please use MorganGenerator\n",
            "[23:27:44] DEPRECATION WARNING: please use MorganGenerator\n",
            "[23:27:44] DEPRECATION WARNING: please use MorganGenerator\n"
          ]
        },
        {
          "output_type": "display_data",
          "data": {
            "text/plain": [
              "<IPython.core.display.HTML object>"
            ],
            "text/html": []
          },
          "metadata": {}
        },
        {
          "output_type": "stream",
          "name": "stdout",
          "text": [
            "Number of columns returned by lipinski_rule: 4\n"
          ]
        },
        {
          "output_type": "stream",
          "name": "stderr",
          "text": [
            "[23:27:44] DEPRECATION WARNING: please use MorganGenerator\n",
            "[23:27:44] DEPRECATION WARNING: please use MorganGenerator\n",
            "[23:27:44] DEPRECATION WARNING: please use MorganGenerator\n"
          ]
        },
        {
          "output_type": "display_data",
          "data": {
            "text/plain": [
              "<IPython.core.display.HTML object>"
            ],
            "text/html": []
          },
          "metadata": {}
        },
        {
          "output_type": "stream",
          "name": "stdout",
          "text": [
            "Number of columns returned by lipinski_rule: 4\n"
          ]
        },
        {
          "output_type": "stream",
          "name": "stderr",
          "text": [
            "[23:27:45] DEPRECATION WARNING: please use MorganGenerator\n",
            "[23:27:45] DEPRECATION WARNING: please use MorganGenerator\n",
            "[23:27:45] DEPRECATION WARNING: please use MorganGenerator\n"
          ]
        },
        {
          "output_type": "display_data",
          "data": {
            "text/plain": [
              "<IPython.core.display.HTML object>"
            ],
            "text/html": []
          },
          "metadata": {}
        },
        {
          "output_type": "stream",
          "name": "stdout",
          "text": [
            "Number of columns returned by lipinski_rule: 4\n"
          ]
        },
        {
          "output_type": "stream",
          "name": "stderr",
          "text": [
            "[23:27:46] DEPRECATION WARNING: please use MorganGenerator\n",
            "[23:27:46] DEPRECATION WARNING: please use MorganGenerator\n",
            "[23:27:46] DEPRECATION WARNING: please use MorganGenerator\n"
          ]
        },
        {
          "output_type": "display_data",
          "data": {
            "text/plain": [
              "<IPython.core.display.HTML object>"
            ],
            "text/html": []
          },
          "metadata": {}
        },
        {
          "output_type": "stream",
          "name": "stdout",
          "text": [
            "Number of columns returned by lipinski_rule: 4\n"
          ]
        },
        {
          "output_type": "stream",
          "name": "stderr",
          "text": [
            "[23:27:47] DEPRECATION WARNING: please use MorganGenerator\n",
            "[23:27:47] DEPRECATION WARNING: please use MorganGenerator\n",
            "[23:27:47] DEPRECATION WARNING: please use MorganGenerator\n"
          ]
        },
        {
          "output_type": "display_data",
          "data": {
            "text/plain": [
              "<IPython.core.display.HTML object>"
            ],
            "text/html": []
          },
          "metadata": {}
        },
        {
          "output_type": "stream",
          "name": "stdout",
          "text": [
            "Number of columns returned by lipinski_rule: 4\n"
          ]
        },
        {
          "output_type": "stream",
          "name": "stderr",
          "text": [
            "[23:27:48] DEPRECATION WARNING: please use MorganGenerator\n",
            "[23:27:48] DEPRECATION WARNING: please use MorganGenerator\n",
            "[23:27:48] DEPRECATION WARNING: please use MorganGenerator\n"
          ]
        },
        {
          "output_type": "display_data",
          "data": {
            "text/plain": [
              "<IPython.core.display.HTML object>"
            ],
            "text/html": []
          },
          "metadata": {}
        },
        {
          "output_type": "stream",
          "name": "stdout",
          "text": [
            "Number of columns returned by lipinski_rule: 4\n"
          ]
        },
        {
          "output_type": "stream",
          "name": "stderr",
          "text": [
            "[23:27:48] DEPRECATION WARNING: please use MorganGenerator\n",
            "[23:27:48] DEPRECATION WARNING: please use MorganGenerator\n",
            "[23:27:48] DEPRECATION WARNING: please use MorganGenerator\n"
          ]
        },
        {
          "output_type": "display_data",
          "data": {
            "text/plain": [
              "<IPython.core.display.HTML object>"
            ],
            "text/html": []
          },
          "metadata": {}
        },
        {
          "output_type": "stream",
          "name": "stdout",
          "text": [
            "Number of columns returned by lipinski_rule: 4\n"
          ]
        },
        {
          "output_type": "stream",
          "name": "stderr",
          "text": [
            "[23:27:49] DEPRECATION WARNING: please use MorganGenerator\n",
            "[23:27:49] DEPRECATION WARNING: please use MorganGenerator\n",
            "[23:27:49] DEPRECATION WARNING: please use MorganGenerator\n"
          ]
        },
        {
          "output_type": "display_data",
          "data": {
            "text/plain": [
              "<IPython.core.display.HTML object>"
            ],
            "text/html": []
          },
          "metadata": {}
        },
        {
          "output_type": "stream",
          "name": "stdout",
          "text": [
            "Number of columns returned by lipinski_rule: 4\n"
          ]
        },
        {
          "output_type": "stream",
          "name": "stderr",
          "text": [
            "[23:27:49] DEPRECATION WARNING: please use MorganGenerator\n",
            "[23:27:49] DEPRECATION WARNING: please use MorganGenerator\n",
            "[23:27:49] DEPRECATION WARNING: please use MorganGenerator\n"
          ]
        },
        {
          "output_type": "display_data",
          "data": {
            "text/plain": [
              "<IPython.core.display.HTML object>"
            ],
            "text/html": []
          },
          "metadata": {}
        },
        {
          "output_type": "stream",
          "name": "stdout",
          "text": [
            "Number of columns returned by lipinski_rule: 4\n"
          ]
        },
        {
          "output_type": "stream",
          "name": "stderr",
          "text": [
            "[23:27:49] DEPRECATION WARNING: please use MorganGenerator\n",
            "[23:27:49] DEPRECATION WARNING: please use MorganGenerator\n",
            "[23:27:49] DEPRECATION WARNING: please use MorganGenerator\n"
          ]
        },
        {
          "output_type": "display_data",
          "data": {
            "text/plain": [
              "<IPython.core.display.HTML object>"
            ],
            "text/html": []
          },
          "metadata": {}
        },
        {
          "output_type": "stream",
          "name": "stdout",
          "text": [
            "Number of columns returned by lipinski_rule: 4\n"
          ]
        },
        {
          "output_type": "stream",
          "name": "stderr",
          "text": [
            "[23:27:50] DEPRECATION WARNING: please use MorganGenerator\n",
            "[23:27:50] DEPRECATION WARNING: please use MorganGenerator\n",
            "[23:27:50] DEPRECATION WARNING: please use MorganGenerator\n"
          ]
        },
        {
          "output_type": "display_data",
          "data": {
            "text/plain": [
              "<IPython.core.display.HTML object>"
            ],
            "text/html": []
          },
          "metadata": {}
        },
        {
          "output_type": "stream",
          "name": "stdout",
          "text": [
            "Number of columns returned by lipinski_rule: 4\n"
          ]
        },
        {
          "output_type": "stream",
          "name": "stderr",
          "text": [
            "[23:27:50] DEPRECATION WARNING: please use MorganGenerator\n",
            "[23:27:50] DEPRECATION WARNING: please use MorganGenerator\n",
            "[23:27:50] DEPRECATION WARNING: please use MorganGenerator\n"
          ]
        },
        {
          "output_type": "display_data",
          "data": {
            "text/plain": [
              "<IPython.core.display.HTML object>"
            ],
            "text/html": []
          },
          "metadata": {}
        },
        {
          "output_type": "stream",
          "name": "stdout",
          "text": [
            "Number of columns returned by lipinski_rule: 4\n"
          ]
        },
        {
          "output_type": "stream",
          "name": "stderr",
          "text": [
            "[23:27:50] DEPRECATION WARNING: please use MorganGenerator\n",
            "[23:27:50] DEPRECATION WARNING: please use MorganGenerator\n",
            "[23:27:50] DEPRECATION WARNING: please use MorganGenerator\n"
          ]
        },
        {
          "output_type": "display_data",
          "data": {
            "text/plain": [
              "<IPython.core.display.HTML object>"
            ],
            "text/html": []
          },
          "metadata": {}
        },
        {
          "output_type": "stream",
          "name": "stdout",
          "text": [
            "Number of columns returned by lipinski_rule: 4\n"
          ]
        },
        {
          "output_type": "stream",
          "name": "stderr",
          "text": [
            "[23:27:51] DEPRECATION WARNING: please use MorganGenerator\n",
            "[23:27:51] DEPRECATION WARNING: please use MorganGenerator\n",
            "[23:27:51] DEPRECATION WARNING: please use MorganGenerator\n"
          ]
        },
        {
          "output_type": "display_data",
          "data": {
            "text/plain": [
              "<IPython.core.display.HTML object>"
            ],
            "text/html": []
          },
          "metadata": {}
        },
        {
          "output_type": "stream",
          "name": "stdout",
          "text": [
            "Number of columns returned by lipinski_rule: 4\n"
          ]
        },
        {
          "output_type": "stream",
          "name": "stderr",
          "text": [
            "[23:27:51] DEPRECATION WARNING: please use MorganGenerator\n",
            "[23:27:51] DEPRECATION WARNING: please use MorganGenerator\n",
            "[23:27:51] DEPRECATION WARNING: please use MorganGenerator\n"
          ]
        },
        {
          "output_type": "display_data",
          "data": {
            "text/plain": [
              "<IPython.core.display.HTML object>"
            ],
            "text/html": []
          },
          "metadata": {}
        },
        {
          "output_type": "stream",
          "name": "stdout",
          "text": [
            "Number of columns returned by lipinski_rule: 4\n"
          ]
        },
        {
          "output_type": "stream",
          "name": "stderr",
          "text": [
            "[23:27:51] DEPRECATION WARNING: please use MorganGenerator\n",
            "[23:27:51] DEPRECATION WARNING: please use MorganGenerator\n",
            "[23:27:51] DEPRECATION WARNING: please use MorganGenerator\n"
          ]
        },
        {
          "output_type": "display_data",
          "data": {
            "text/plain": [
              "<IPython.core.display.HTML object>"
            ],
            "text/html": []
          },
          "metadata": {}
        },
        {
          "output_type": "stream",
          "name": "stdout",
          "text": [
            "Number of columns returned by lipinski_rule: 4\n"
          ]
        },
        {
          "output_type": "stream",
          "name": "stderr",
          "text": [
            "[23:27:52] DEPRECATION WARNING: please use MorganGenerator\n",
            "[23:27:52] DEPRECATION WARNING: please use MorganGenerator\n",
            "[23:27:52] DEPRECATION WARNING: please use MorganGenerator\n"
          ]
        },
        {
          "output_type": "display_data",
          "data": {
            "text/plain": [
              "<IPython.core.display.HTML object>"
            ],
            "text/html": []
          },
          "metadata": {}
        },
        {
          "output_type": "stream",
          "name": "stdout",
          "text": [
            "Number of columns returned by lipinski_rule: 4\n"
          ]
        },
        {
          "output_type": "stream",
          "name": "stderr",
          "text": [
            "[23:27:52] DEPRECATION WARNING: please use MorganGenerator\n",
            "[23:27:52] DEPRECATION WARNING: please use MorganGenerator\n",
            "[23:27:52] DEPRECATION WARNING: please use MorganGenerator\n"
          ]
        },
        {
          "output_type": "display_data",
          "data": {
            "text/plain": [
              "<IPython.core.display.HTML object>"
            ],
            "text/html": []
          },
          "metadata": {}
        },
        {
          "output_type": "stream",
          "name": "stdout",
          "text": [
            "Number of columns returned by lipinski_rule: 4\n"
          ]
        },
        {
          "output_type": "stream",
          "name": "stderr",
          "text": [
            "[23:27:52] DEPRECATION WARNING: please use MorganGenerator\n",
            "[23:27:52] DEPRECATION WARNING: please use MorganGenerator\n",
            "[23:27:52] DEPRECATION WARNING: please use MorganGenerator\n"
          ]
        },
        {
          "output_type": "display_data",
          "data": {
            "text/plain": [
              "<IPython.core.display.HTML object>"
            ],
            "text/html": []
          },
          "metadata": {}
        },
        {
          "output_type": "stream",
          "name": "stdout",
          "text": [
            "Number of columns returned by lipinski_rule: 4\n"
          ]
        },
        {
          "output_type": "stream",
          "name": "stderr",
          "text": [
            "[23:27:53] DEPRECATION WARNING: please use MorganGenerator\n",
            "[23:27:53] DEPRECATION WARNING: please use MorganGenerator\n",
            "[23:27:53] DEPRECATION WARNING: please use MorganGenerator\n"
          ]
        },
        {
          "output_type": "display_data",
          "data": {
            "text/plain": [
              "<IPython.core.display.HTML object>"
            ],
            "text/html": []
          },
          "metadata": {}
        },
        {
          "output_type": "stream",
          "name": "stdout",
          "text": [
            "Number of columns returned by lipinski_rule: 4\n"
          ]
        },
        {
          "output_type": "stream",
          "name": "stderr",
          "text": [
            "[23:27:53] DEPRECATION WARNING: please use MorganGenerator\n",
            "[23:27:53] DEPRECATION WARNING: please use MorganGenerator\n",
            "[23:27:53] DEPRECATION WARNING: please use MorganGenerator\n"
          ]
        },
        {
          "output_type": "display_data",
          "data": {
            "text/plain": [
              "<IPython.core.display.HTML object>"
            ],
            "text/html": []
          },
          "metadata": {}
        },
        {
          "output_type": "stream",
          "name": "stdout",
          "text": [
            "Number of columns returned by lipinski_rule: 4\n"
          ]
        },
        {
          "output_type": "stream",
          "name": "stderr",
          "text": [
            "[23:27:54] DEPRECATION WARNING: please use MorganGenerator\n",
            "[23:27:54] DEPRECATION WARNING: please use MorganGenerator\n",
            "[23:27:54] DEPRECATION WARNING: please use MorganGenerator\n"
          ]
        },
        {
          "output_type": "display_data",
          "data": {
            "text/plain": [
              "<IPython.core.display.HTML object>"
            ],
            "text/html": []
          },
          "metadata": {}
        },
        {
          "output_type": "stream",
          "name": "stdout",
          "text": [
            "Number of columns returned by lipinski_rule: 4\n"
          ]
        },
        {
          "output_type": "stream",
          "name": "stderr",
          "text": [
            "[23:27:54] DEPRECATION WARNING: please use MorganGenerator\n",
            "[23:27:54] DEPRECATION WARNING: please use MorganGenerator\n",
            "[23:27:54] DEPRECATION WARNING: please use MorganGenerator\n"
          ]
        },
        {
          "output_type": "display_data",
          "data": {
            "text/plain": [
              "<IPython.core.display.HTML object>"
            ],
            "text/html": []
          },
          "metadata": {}
        },
        {
          "output_type": "stream",
          "name": "stdout",
          "text": [
            "Number of columns returned by lipinski_rule: 4\n"
          ]
        },
        {
          "output_type": "stream",
          "name": "stderr",
          "text": [
            "[23:27:54] DEPRECATION WARNING: please use MorganGenerator\n",
            "[23:27:54] DEPRECATION WARNING: please use MorganGenerator\n",
            "[23:27:54] DEPRECATION WARNING: please use MorganGenerator\n"
          ]
        },
        {
          "output_type": "display_data",
          "data": {
            "text/plain": [
              "<IPython.core.display.HTML object>"
            ],
            "text/html": []
          },
          "metadata": {}
        },
        {
          "output_type": "stream",
          "name": "stdout",
          "text": [
            "Number of columns returned by lipinski_rule: 4\n"
          ]
        },
        {
          "output_type": "stream",
          "name": "stderr",
          "text": [
            "[23:27:55] DEPRECATION WARNING: please use MorganGenerator\n",
            "[23:27:55] DEPRECATION WARNING: please use MorganGenerator\n",
            "[23:27:55] DEPRECATION WARNING: please use MorganGenerator\n"
          ]
        },
        {
          "output_type": "display_data",
          "data": {
            "text/plain": [
              "<IPython.core.display.HTML object>"
            ],
            "text/html": []
          },
          "metadata": {}
        },
        {
          "output_type": "stream",
          "name": "stdout",
          "text": [
            "Number of columns returned by lipinski_rule: 4\n"
          ]
        },
        {
          "output_type": "stream",
          "name": "stderr",
          "text": [
            "[23:27:55] DEPRECATION WARNING: please use MorganGenerator\n",
            "[23:27:55] DEPRECATION WARNING: please use MorganGenerator\n",
            "[23:27:55] DEPRECATION WARNING: please use MorganGenerator\n"
          ]
        },
        {
          "output_type": "display_data",
          "data": {
            "text/plain": [
              "<IPython.core.display.HTML object>"
            ],
            "text/html": []
          },
          "metadata": {}
        },
        {
          "output_type": "stream",
          "name": "stdout",
          "text": [
            "Number of columns returned by lipinski_rule: 4\n"
          ]
        },
        {
          "output_type": "stream",
          "name": "stderr",
          "text": [
            "[23:27:55] DEPRECATION WARNING: please use MorganGenerator\n",
            "[23:27:55] DEPRECATION WARNING: please use MorganGenerator\n",
            "[23:27:55] DEPRECATION WARNING: please use MorganGenerator\n"
          ]
        },
        {
          "output_type": "display_data",
          "data": {
            "text/plain": [
              "<IPython.core.display.HTML object>"
            ],
            "text/html": []
          },
          "metadata": {}
        },
        {
          "output_type": "stream",
          "name": "stdout",
          "text": [
            "Number of columns returned by lipinski_rule: 4\n"
          ]
        },
        {
          "output_type": "stream",
          "name": "stderr",
          "text": [
            "[23:27:56] DEPRECATION WARNING: please use MorganGenerator\n",
            "[23:27:56] DEPRECATION WARNING: please use MorganGenerator\n",
            "[23:27:56] DEPRECATION WARNING: please use MorganGenerator\n"
          ]
        },
        {
          "output_type": "display_data",
          "data": {
            "text/plain": [
              "<IPython.core.display.HTML object>"
            ],
            "text/html": []
          },
          "metadata": {}
        },
        {
          "output_type": "stream",
          "name": "stdout",
          "text": [
            "Number of columns returned by lipinski_rule: 4\n"
          ]
        },
        {
          "output_type": "stream",
          "name": "stderr",
          "text": [
            "[23:27:56] DEPRECATION WARNING: please use MorganGenerator\n",
            "[23:27:56] DEPRECATION WARNING: please use MorganGenerator\n",
            "[23:27:56] DEPRECATION WARNING: please use MorganGenerator\n"
          ]
        },
        {
          "output_type": "display_data",
          "data": {
            "text/plain": [
              "<IPython.core.display.HTML object>"
            ],
            "text/html": []
          },
          "metadata": {}
        },
        {
          "output_type": "stream",
          "name": "stdout",
          "text": [
            "Number of columns returned by lipinski_rule: 4\n"
          ]
        },
        {
          "output_type": "stream",
          "name": "stderr",
          "text": [
            "[23:27:56] DEPRECATION WARNING: please use MorganGenerator\n",
            "[23:27:56] DEPRECATION WARNING: please use MorganGenerator\n",
            "[23:27:56] DEPRECATION WARNING: please use MorganGenerator\n"
          ]
        },
        {
          "output_type": "display_data",
          "data": {
            "text/plain": [
              "<IPython.core.display.HTML object>"
            ],
            "text/html": []
          },
          "metadata": {}
        },
        {
          "output_type": "stream",
          "name": "stdout",
          "text": [
            "Number of columns returned by lipinski_rule: 4\n"
          ]
        },
        {
          "output_type": "stream",
          "name": "stderr",
          "text": [
            "[23:27:57] DEPRECATION WARNING: please use MorganGenerator\n",
            "[23:27:57] DEPRECATION WARNING: please use MorganGenerator\n",
            "[23:27:57] DEPRECATION WARNING: please use MorganGenerator\n"
          ]
        },
        {
          "output_type": "display_data",
          "data": {
            "text/plain": [
              "<IPython.core.display.HTML object>"
            ],
            "text/html": []
          },
          "metadata": {}
        },
        {
          "output_type": "stream",
          "name": "stdout",
          "text": [
            "Number of columns returned by lipinski_rule: 4\n"
          ]
        },
        {
          "output_type": "stream",
          "name": "stderr",
          "text": [
            "[23:27:57] DEPRECATION WARNING: please use MorganGenerator\n",
            "[23:27:57] DEPRECATION WARNING: please use MorganGenerator\n",
            "[23:27:57] DEPRECATION WARNING: please use MorganGenerator\n"
          ]
        },
        {
          "output_type": "display_data",
          "data": {
            "text/plain": [
              "<IPython.core.display.HTML object>"
            ],
            "text/html": []
          },
          "metadata": {}
        },
        {
          "output_type": "stream",
          "name": "stdout",
          "text": [
            "Number of columns returned by lipinski_rule: 4\n"
          ]
        },
        {
          "output_type": "stream",
          "name": "stderr",
          "text": [
            "[23:27:58] DEPRECATION WARNING: please use MorganGenerator\n",
            "[23:27:58] DEPRECATION WARNING: please use MorganGenerator\n",
            "[23:27:58] DEPRECATION WARNING: please use MorganGenerator\n"
          ]
        },
        {
          "output_type": "display_data",
          "data": {
            "text/plain": [
              "<IPython.core.display.HTML object>"
            ],
            "text/html": []
          },
          "metadata": {}
        },
        {
          "output_type": "stream",
          "name": "stdout",
          "text": [
            "Number of columns returned by lipinski_rule: 4\n"
          ]
        },
        {
          "output_type": "stream",
          "name": "stderr",
          "text": [
            "[23:27:58] DEPRECATION WARNING: please use MorganGenerator\n",
            "[23:27:58] DEPRECATION WARNING: please use MorganGenerator\n",
            "[23:27:58] DEPRECATION WARNING: please use MorganGenerator\n"
          ]
        },
        {
          "output_type": "display_data",
          "data": {
            "text/plain": [
              "<IPython.core.display.HTML object>"
            ],
            "text/html": []
          },
          "metadata": {}
        },
        {
          "output_type": "stream",
          "name": "stdout",
          "text": [
            "Number of columns returned by lipinski_rule: 4\n"
          ]
        },
        {
          "output_type": "stream",
          "name": "stderr",
          "text": [
            "[23:27:59] DEPRECATION WARNING: please use MorganGenerator\n",
            "[23:27:59] DEPRECATION WARNING: please use MorganGenerator\n",
            "[23:27:59] DEPRECATION WARNING: please use MorganGenerator\n"
          ]
        },
        {
          "output_type": "display_data",
          "data": {
            "text/plain": [
              "<IPython.core.display.HTML object>"
            ],
            "text/html": []
          },
          "metadata": {}
        },
        {
          "output_type": "stream",
          "name": "stdout",
          "text": [
            "Number of columns returned by lipinski_rule: 4\n"
          ]
        },
        {
          "output_type": "stream",
          "name": "stderr",
          "text": [
            "[23:27:59] DEPRECATION WARNING: please use MorganGenerator\n",
            "[23:27:59] DEPRECATION WARNING: please use MorganGenerator\n",
            "[23:27:59] DEPRECATION WARNING: please use MorganGenerator\n"
          ]
        },
        {
          "output_type": "display_data",
          "data": {
            "text/plain": [
              "<IPython.core.display.HTML object>"
            ],
            "text/html": []
          },
          "metadata": {}
        },
        {
          "output_type": "stream",
          "name": "stdout",
          "text": [
            "Number of columns returned by lipinski_rule: 4\n"
          ]
        },
        {
          "output_type": "stream",
          "name": "stderr",
          "text": [
            "[23:28:00] DEPRECATION WARNING: please use MorganGenerator\n",
            "[23:28:00] DEPRECATION WARNING: please use MorganGenerator\n",
            "[23:28:00] DEPRECATION WARNING: please use MorganGenerator\n"
          ]
        },
        {
          "output_type": "display_data",
          "data": {
            "text/plain": [
              "<IPython.core.display.HTML object>"
            ],
            "text/html": []
          },
          "metadata": {}
        },
        {
          "output_type": "stream",
          "name": "stdout",
          "text": [
            "Number of columns returned by lipinski_rule: 4\n"
          ]
        },
        {
          "output_type": "stream",
          "name": "stderr",
          "text": [
            "[23:28:00] DEPRECATION WARNING: please use MorganGenerator\n",
            "[23:28:00] DEPRECATION WARNING: please use MorganGenerator\n",
            "[23:28:00] DEPRECATION WARNING: please use MorganGenerator\n"
          ]
        },
        {
          "output_type": "display_data",
          "data": {
            "text/plain": [
              "<IPython.core.display.HTML object>"
            ],
            "text/html": []
          },
          "metadata": {}
        },
        {
          "output_type": "stream",
          "name": "stdout",
          "text": [
            "Number of columns returned by lipinski_rule: 4\n"
          ]
        },
        {
          "output_type": "stream",
          "name": "stderr",
          "text": [
            "[23:28:01] DEPRECATION WARNING: please use MorganGenerator\n",
            "[23:28:01] DEPRECATION WARNING: please use MorganGenerator\n",
            "[23:28:01] DEPRECATION WARNING: please use MorganGenerator\n"
          ]
        },
        {
          "output_type": "display_data",
          "data": {
            "text/plain": [
              "<IPython.core.display.HTML object>"
            ],
            "text/html": []
          },
          "metadata": {}
        },
        {
          "output_type": "stream",
          "name": "stdout",
          "text": [
            "Number of columns returned by lipinski_rule: 4\n"
          ]
        },
        {
          "output_type": "stream",
          "name": "stderr",
          "text": [
            "[23:28:01] DEPRECATION WARNING: please use MorganGenerator\n",
            "[23:28:01] DEPRECATION WARNING: please use MorganGenerator\n",
            "[23:28:01] DEPRECATION WARNING: please use MorganGenerator\n"
          ]
        },
        {
          "output_type": "display_data",
          "data": {
            "text/plain": [
              "<IPython.core.display.HTML object>"
            ],
            "text/html": []
          },
          "metadata": {}
        },
        {
          "output_type": "stream",
          "name": "stdout",
          "text": [
            "Number of columns returned by lipinski_rule: 4\n"
          ]
        },
        {
          "output_type": "stream",
          "name": "stderr",
          "text": [
            "[23:28:01] DEPRECATION WARNING: please use MorganGenerator\n",
            "[23:28:01] DEPRECATION WARNING: please use MorganGenerator\n",
            "[23:28:01] DEPRECATION WARNING: please use MorganGenerator\n"
          ]
        },
        {
          "output_type": "display_data",
          "data": {
            "text/plain": [
              "<IPython.core.display.HTML object>"
            ],
            "text/html": []
          },
          "metadata": {}
        },
        {
          "output_type": "stream",
          "name": "stdout",
          "text": [
            "Number of columns returned by lipinski_rule: 4\n"
          ]
        },
        {
          "output_type": "stream",
          "name": "stderr",
          "text": [
            "[23:28:02] DEPRECATION WARNING: please use MorganGenerator\n",
            "[23:28:02] DEPRECATION WARNING: please use MorganGenerator\n",
            "[23:28:02] DEPRECATION WARNING: please use MorganGenerator\n"
          ]
        },
        {
          "output_type": "display_data",
          "data": {
            "text/plain": [
              "<IPython.core.display.HTML object>"
            ],
            "text/html": []
          },
          "metadata": {}
        },
        {
          "output_type": "stream",
          "name": "stdout",
          "text": [
            "Number of columns returned by lipinski_rule: 4\n"
          ]
        },
        {
          "output_type": "stream",
          "name": "stderr",
          "text": [
            "[23:28:02] DEPRECATION WARNING: please use MorganGenerator\n",
            "[23:28:02] DEPRECATION WARNING: please use MorganGenerator\n",
            "[23:28:02] DEPRECATION WARNING: please use MorganGenerator\n"
          ]
        },
        {
          "output_type": "display_data",
          "data": {
            "text/plain": [
              "<IPython.core.display.HTML object>"
            ],
            "text/html": []
          },
          "metadata": {}
        },
        {
          "output_type": "stream",
          "name": "stdout",
          "text": [
            "Number of columns returned by lipinski_rule: 4\n"
          ]
        },
        {
          "output_type": "stream",
          "name": "stderr",
          "text": [
            "[23:28:03] DEPRECATION WARNING: please use MorganGenerator\n",
            "[23:28:03] DEPRECATION WARNING: please use MorganGenerator\n",
            "[23:28:03] DEPRECATION WARNING: please use MorganGenerator\n"
          ]
        },
        {
          "output_type": "display_data",
          "data": {
            "text/plain": [
              "<IPython.core.display.HTML object>"
            ],
            "text/html": []
          },
          "metadata": {}
        },
        {
          "output_type": "stream",
          "name": "stdout",
          "text": [
            "Number of columns returned by lipinski_rule: 4\n"
          ]
        },
        {
          "output_type": "stream",
          "name": "stderr",
          "text": [
            "[23:28:03] DEPRECATION WARNING: please use MorganGenerator\n",
            "[23:28:03] DEPRECATION WARNING: please use MorganGenerator\n",
            "[23:28:03] DEPRECATION WARNING: please use MorganGenerator\n"
          ]
        },
        {
          "output_type": "display_data",
          "data": {
            "text/plain": [
              "<IPython.core.display.HTML object>"
            ],
            "text/html": []
          },
          "metadata": {}
        },
        {
          "output_type": "stream",
          "name": "stdout",
          "text": [
            "Number of columns returned by lipinski_rule: 4\n"
          ]
        },
        {
          "output_type": "stream",
          "name": "stderr",
          "text": [
            "[23:28:03] DEPRECATION WARNING: please use MorganGenerator\n",
            "[23:28:03] DEPRECATION WARNING: please use MorganGenerator\n",
            "[23:28:03] DEPRECATION WARNING: please use MorganGenerator\n"
          ]
        },
        {
          "output_type": "display_data",
          "data": {
            "text/plain": [
              "<IPython.core.display.HTML object>"
            ],
            "text/html": []
          },
          "metadata": {}
        },
        {
          "output_type": "stream",
          "name": "stdout",
          "text": [
            "Number of columns returned by lipinski_rule: 4\n"
          ]
        },
        {
          "output_type": "stream",
          "name": "stderr",
          "text": [
            "[23:28:04] DEPRECATION WARNING: please use MorganGenerator\n",
            "[23:28:04] DEPRECATION WARNING: please use MorganGenerator\n",
            "[23:28:04] DEPRECATION WARNING: please use MorganGenerator\n"
          ]
        },
        {
          "output_type": "display_data",
          "data": {
            "text/plain": [
              "<IPython.core.display.HTML object>"
            ],
            "text/html": []
          },
          "metadata": {}
        },
        {
          "output_type": "stream",
          "name": "stdout",
          "text": [
            "Number of columns returned by lipinski_rule: 4\n"
          ]
        },
        {
          "output_type": "stream",
          "name": "stderr",
          "text": [
            "[23:28:04] DEPRECATION WARNING: please use MorganGenerator\n",
            "[23:28:04] DEPRECATION WARNING: please use MorganGenerator\n",
            "[23:28:04] DEPRECATION WARNING: please use MorganGenerator\n"
          ]
        },
        {
          "output_type": "display_data",
          "data": {
            "text/plain": [
              "<IPython.core.display.HTML object>"
            ],
            "text/html": []
          },
          "metadata": {}
        },
        {
          "output_type": "stream",
          "name": "stdout",
          "text": [
            "Number of columns returned by lipinski_rule: 4\n"
          ]
        },
        {
          "output_type": "stream",
          "name": "stderr",
          "text": [
            "[23:28:04] DEPRECATION WARNING: please use MorganGenerator\n",
            "[23:28:04] DEPRECATION WARNING: please use MorganGenerator\n",
            "[23:28:04] DEPRECATION WARNING: please use MorganGenerator\n"
          ]
        },
        {
          "output_type": "display_data",
          "data": {
            "text/plain": [
              "<IPython.core.display.HTML object>"
            ],
            "text/html": []
          },
          "metadata": {}
        },
        {
          "output_type": "stream",
          "name": "stdout",
          "text": [
            "Number of columns returned by lipinski_rule: 4\n"
          ]
        },
        {
          "output_type": "stream",
          "name": "stderr",
          "text": [
            "[23:28:05] DEPRECATION WARNING: please use MorganGenerator\n",
            "[23:28:05] DEPRECATION WARNING: please use MorganGenerator\n",
            "[23:28:05] DEPRECATION WARNING: please use MorganGenerator\n"
          ]
        },
        {
          "output_type": "display_data",
          "data": {
            "text/plain": [
              "<IPython.core.display.HTML object>"
            ],
            "text/html": []
          },
          "metadata": {}
        },
        {
          "output_type": "stream",
          "name": "stdout",
          "text": [
            "Number of columns returned by lipinski_rule: 4\n"
          ]
        },
        {
          "output_type": "stream",
          "name": "stderr",
          "text": [
            "[23:28:05] DEPRECATION WARNING: please use MorganGenerator\n",
            "[23:28:05] DEPRECATION WARNING: please use MorganGenerator\n",
            "[23:28:05] DEPRECATION WARNING: please use MorganGenerator\n"
          ]
        },
        {
          "output_type": "display_data",
          "data": {
            "text/plain": [
              "<IPython.core.display.HTML object>"
            ],
            "text/html": []
          },
          "metadata": {}
        },
        {
          "output_type": "stream",
          "name": "stdout",
          "text": [
            "Number of columns returned by lipinski_rule: 4\n"
          ]
        },
        {
          "output_type": "stream",
          "name": "stderr",
          "text": [
            "[23:28:05] DEPRECATION WARNING: please use MorganGenerator\n",
            "[23:28:05] DEPRECATION WARNING: please use MorganGenerator\n",
            "[23:28:05] DEPRECATION WARNING: please use MorganGenerator\n"
          ]
        },
        {
          "output_type": "display_data",
          "data": {
            "text/plain": [
              "<IPython.core.display.HTML object>"
            ],
            "text/html": []
          },
          "metadata": {}
        },
        {
          "output_type": "stream",
          "name": "stdout",
          "text": [
            "Number of columns returned by lipinski_rule: 4\n"
          ]
        },
        {
          "output_type": "stream",
          "name": "stderr",
          "text": [
            "[23:28:06] DEPRECATION WARNING: please use MorganGenerator\n",
            "[23:28:06] DEPRECATION WARNING: please use MorganGenerator\n",
            "[23:28:06] DEPRECATION WARNING: please use MorganGenerator\n"
          ]
        },
        {
          "output_type": "display_data",
          "data": {
            "text/plain": [
              "<IPython.core.display.HTML object>"
            ],
            "text/html": []
          },
          "metadata": {}
        },
        {
          "output_type": "stream",
          "name": "stdout",
          "text": [
            "Number of columns returned by lipinski_rule: 4\n"
          ]
        },
        {
          "output_type": "stream",
          "name": "stderr",
          "text": [
            "[23:28:06] DEPRECATION WARNING: please use MorganGenerator\n",
            "[23:28:06] DEPRECATION WARNING: please use MorganGenerator\n",
            "[23:28:06] DEPRECATION WARNING: please use MorganGenerator\n"
          ]
        },
        {
          "output_type": "display_data",
          "data": {
            "text/plain": [
              "<IPython.core.display.HTML object>"
            ],
            "text/html": []
          },
          "metadata": {}
        },
        {
          "output_type": "stream",
          "name": "stdout",
          "text": [
            "Number of columns returned by lipinski_rule: 4\n"
          ]
        },
        {
          "output_type": "stream",
          "name": "stderr",
          "text": [
            "[23:28:06] DEPRECATION WARNING: please use MorganGenerator\n",
            "[23:28:06] DEPRECATION WARNING: please use MorganGenerator\n",
            "[23:28:06] DEPRECATION WARNING: please use MorganGenerator\n"
          ]
        },
        {
          "output_type": "display_data",
          "data": {
            "text/plain": [
              "<IPython.core.display.HTML object>"
            ],
            "text/html": []
          },
          "metadata": {}
        },
        {
          "output_type": "stream",
          "name": "stdout",
          "text": [
            "Number of columns returned by lipinski_rule: 4\n"
          ]
        },
        {
          "output_type": "stream",
          "name": "stderr",
          "text": [
            "[23:28:07] DEPRECATION WARNING: please use MorganGenerator\n",
            "[23:28:07] DEPRECATION WARNING: please use MorganGenerator\n",
            "[23:28:07] DEPRECATION WARNING: please use MorganGenerator\n"
          ]
        },
        {
          "output_type": "display_data",
          "data": {
            "text/plain": [
              "<IPython.core.display.HTML object>"
            ],
            "text/html": []
          },
          "metadata": {}
        },
        {
          "output_type": "stream",
          "name": "stdout",
          "text": [
            "Number of columns returned by lipinski_rule: 4\n"
          ]
        },
        {
          "output_type": "stream",
          "name": "stderr",
          "text": [
            "[23:28:07] DEPRECATION WARNING: please use MorganGenerator\n",
            "[23:28:07] DEPRECATION WARNING: please use MorganGenerator\n",
            "[23:28:07] DEPRECATION WARNING: please use MorganGenerator\n"
          ]
        },
        {
          "output_type": "display_data",
          "data": {
            "text/plain": [
              "<IPython.core.display.HTML object>"
            ],
            "text/html": []
          },
          "metadata": {}
        },
        {
          "output_type": "stream",
          "name": "stdout",
          "text": [
            "Number of columns returned by lipinski_rule: 4\n"
          ]
        },
        {
          "output_type": "stream",
          "name": "stderr",
          "text": [
            "[23:28:07] DEPRECATION WARNING: please use MorganGenerator\n",
            "[23:28:07] DEPRECATION WARNING: please use MorganGenerator\n",
            "[23:28:07] DEPRECATION WARNING: please use MorganGenerator\n"
          ]
        },
        {
          "output_type": "display_data",
          "data": {
            "text/plain": [
              "<IPython.core.display.HTML object>"
            ],
            "text/html": []
          },
          "metadata": {}
        },
        {
          "output_type": "stream",
          "name": "stdout",
          "text": [
            "Number of columns returned by lipinski_rule: 4\n"
          ]
        },
        {
          "output_type": "stream",
          "name": "stderr",
          "text": [
            "[23:28:08] DEPRECATION WARNING: please use MorganGenerator\n",
            "[23:28:08] DEPRECATION WARNING: please use MorganGenerator\n",
            "[23:28:08] DEPRECATION WARNING: please use MorganGenerator\n"
          ]
        },
        {
          "output_type": "display_data",
          "data": {
            "text/plain": [
              "<IPython.core.display.HTML object>"
            ],
            "text/html": []
          },
          "metadata": {}
        },
        {
          "output_type": "stream",
          "name": "stdout",
          "text": [
            "Number of columns returned by lipinski_rule: 4\n"
          ]
        },
        {
          "output_type": "stream",
          "name": "stderr",
          "text": [
            "[23:28:08] DEPRECATION WARNING: please use MorganGenerator\n",
            "[23:28:08] DEPRECATION WARNING: please use MorganGenerator\n",
            "[23:28:08] DEPRECATION WARNING: please use MorganGenerator\n"
          ]
        },
        {
          "output_type": "display_data",
          "data": {
            "text/plain": [
              "<IPython.core.display.HTML object>"
            ],
            "text/html": []
          },
          "metadata": {}
        },
        {
          "output_type": "stream",
          "name": "stdout",
          "text": [
            "Number of columns returned by lipinski_rule: 4\n"
          ]
        },
        {
          "output_type": "stream",
          "name": "stderr",
          "text": [
            "[23:28:09] DEPRECATION WARNING: please use MorganGenerator\n",
            "[23:28:09] DEPRECATION WARNING: please use MorganGenerator\n",
            "[23:28:09] DEPRECATION WARNING: please use MorganGenerator\n"
          ]
        },
        {
          "output_type": "display_data",
          "data": {
            "text/plain": [
              "<IPython.core.display.HTML object>"
            ],
            "text/html": []
          },
          "metadata": {}
        },
        {
          "output_type": "stream",
          "name": "stdout",
          "text": [
            "Number of columns returned by lipinski_rule: 4\n"
          ]
        },
        {
          "output_type": "stream",
          "name": "stderr",
          "text": [
            "[23:28:09] DEPRECATION WARNING: please use MorganGenerator\n",
            "[23:28:09] DEPRECATION WARNING: please use MorganGenerator\n",
            "[23:28:09] DEPRECATION WARNING: please use MorganGenerator\n"
          ]
        },
        {
          "output_type": "display_data",
          "data": {
            "text/plain": [
              "<IPython.core.display.HTML object>"
            ],
            "text/html": []
          },
          "metadata": {}
        },
        {
          "output_type": "stream",
          "name": "stdout",
          "text": [
            "Number of columns returned by lipinski_rule: 4\n"
          ]
        },
        {
          "output_type": "stream",
          "name": "stderr",
          "text": [
            "[23:28:09] DEPRECATION WARNING: please use MorganGenerator\n",
            "[23:28:09] DEPRECATION WARNING: please use MorganGenerator\n",
            "[23:28:09] DEPRECATION WARNING: please use MorganGenerator\n"
          ]
        },
        {
          "output_type": "display_data",
          "data": {
            "text/plain": [
              "<IPython.core.display.HTML object>"
            ],
            "text/html": []
          },
          "metadata": {}
        },
        {
          "output_type": "stream",
          "name": "stdout",
          "text": [
            "Number of columns returned by lipinski_rule: 4\n"
          ]
        },
        {
          "output_type": "stream",
          "name": "stderr",
          "text": [
            "[23:28:10] DEPRECATION WARNING: please use MorganGenerator\n",
            "[23:28:10] DEPRECATION WARNING: please use MorganGenerator\n",
            "[23:28:10] DEPRECATION WARNING: please use MorganGenerator\n"
          ]
        },
        {
          "output_type": "display_data",
          "data": {
            "text/plain": [
              "<IPython.core.display.HTML object>"
            ],
            "text/html": []
          },
          "metadata": {}
        },
        {
          "output_type": "stream",
          "name": "stdout",
          "text": [
            "Number of columns returned by lipinski_rule: 4\n"
          ]
        },
        {
          "output_type": "stream",
          "name": "stderr",
          "text": [
            "[23:28:10] DEPRECATION WARNING: please use MorganGenerator\n",
            "[23:28:10] DEPRECATION WARNING: please use MorganGenerator\n",
            "[23:28:10] DEPRECATION WARNING: please use MorganGenerator\n"
          ]
        },
        {
          "output_type": "display_data",
          "data": {
            "text/plain": [
              "<IPython.core.display.HTML object>"
            ],
            "text/html": []
          },
          "metadata": {}
        },
        {
          "output_type": "stream",
          "name": "stdout",
          "text": [
            "Number of columns returned by lipinski_rule: 4\n"
          ]
        },
        {
          "output_type": "stream",
          "name": "stderr",
          "text": [
            "[23:28:10] DEPRECATION WARNING: please use MorganGenerator\n",
            "[23:28:10] DEPRECATION WARNING: please use MorganGenerator\n",
            "[23:28:10] DEPRECATION WARNING: please use MorganGenerator\n"
          ]
        },
        {
          "output_type": "display_data",
          "data": {
            "text/plain": [
              "<IPython.core.display.HTML object>"
            ],
            "text/html": []
          },
          "metadata": {}
        },
        {
          "output_type": "stream",
          "name": "stdout",
          "text": [
            "Number of columns returned by lipinski_rule: 4\n"
          ]
        },
        {
          "output_type": "stream",
          "name": "stderr",
          "text": [
            "[23:28:11] DEPRECATION WARNING: please use MorganGenerator\n",
            "[23:28:11] DEPRECATION WARNING: please use MorganGenerator\n",
            "[23:28:11] DEPRECATION WARNING: please use MorganGenerator\n"
          ]
        },
        {
          "output_type": "display_data",
          "data": {
            "text/plain": [
              "<IPython.core.display.HTML object>"
            ],
            "text/html": []
          },
          "metadata": {}
        },
        {
          "output_type": "stream",
          "name": "stdout",
          "text": [
            "Number of columns returned by lipinski_rule: 4\n"
          ]
        },
        {
          "output_type": "stream",
          "name": "stderr",
          "text": [
            "[23:28:11] DEPRECATION WARNING: please use MorganGenerator\n",
            "[23:28:11] DEPRECATION WARNING: please use MorganGenerator\n",
            "[23:28:11] DEPRECATION WARNING: please use MorganGenerator\n"
          ]
        },
        {
          "output_type": "display_data",
          "data": {
            "text/plain": [
              "<IPython.core.display.HTML object>"
            ],
            "text/html": []
          },
          "metadata": {}
        },
        {
          "output_type": "stream",
          "name": "stdout",
          "text": [
            "Number of columns returned by lipinski_rule: 4\n"
          ]
        },
        {
          "output_type": "stream",
          "name": "stderr",
          "text": [
            "[23:28:11] DEPRECATION WARNING: please use MorganGenerator\n",
            "[23:28:11] DEPRECATION WARNING: please use MorganGenerator\n",
            "[23:28:11] DEPRECATION WARNING: please use MorganGenerator\n"
          ]
        },
        {
          "output_type": "display_data",
          "data": {
            "text/plain": [
              "<IPython.core.display.HTML object>"
            ],
            "text/html": []
          },
          "metadata": {}
        },
        {
          "output_type": "stream",
          "name": "stdout",
          "text": [
            "Number of columns returned by lipinski_rule: 4\n"
          ]
        },
        {
          "output_type": "stream",
          "name": "stderr",
          "text": [
            "[23:28:12] DEPRECATION WARNING: please use MorganGenerator\n",
            "[23:28:12] DEPRECATION WARNING: please use MorganGenerator\n",
            "[23:28:12] DEPRECATION WARNING: please use MorganGenerator\n"
          ]
        },
        {
          "output_type": "display_data",
          "data": {
            "text/plain": [
              "<IPython.core.display.HTML object>"
            ],
            "text/html": []
          },
          "metadata": {}
        },
        {
          "output_type": "stream",
          "name": "stdout",
          "text": [
            "Number of columns returned by lipinski_rule: 4\n"
          ]
        },
        {
          "output_type": "stream",
          "name": "stderr",
          "text": [
            "[23:28:12] DEPRECATION WARNING: please use MorganGenerator\n",
            "[23:28:12] DEPRECATION WARNING: please use MorganGenerator\n",
            "[23:28:12] DEPRECATION WARNING: please use MorganGenerator\n"
          ]
        },
        {
          "output_type": "display_data",
          "data": {
            "text/plain": [
              "<IPython.core.display.HTML object>"
            ],
            "text/html": []
          },
          "metadata": {}
        },
        {
          "output_type": "stream",
          "name": "stdout",
          "text": [
            "Number of columns returned by lipinski_rule: 4\n"
          ]
        },
        {
          "output_type": "stream",
          "name": "stderr",
          "text": [
            "[23:28:13] DEPRECATION WARNING: please use MorganGenerator\n",
            "[23:28:13] DEPRECATION WARNING: please use MorganGenerator\n",
            "[23:28:13] DEPRECATION WARNING: please use MorganGenerator\n"
          ]
        },
        {
          "output_type": "display_data",
          "data": {
            "text/plain": [
              "<IPython.core.display.HTML object>"
            ],
            "text/html": []
          },
          "metadata": {}
        },
        {
          "output_type": "stream",
          "name": "stdout",
          "text": [
            "Number of columns returned by lipinski_rule: 4\n"
          ]
        },
        {
          "output_type": "stream",
          "name": "stderr",
          "text": [
            "[23:28:13] DEPRECATION WARNING: please use MorganGenerator\n",
            "[23:28:13] DEPRECATION WARNING: please use MorganGenerator\n",
            "[23:28:13] DEPRECATION WARNING: please use MorganGenerator\n"
          ]
        },
        {
          "output_type": "display_data",
          "data": {
            "text/plain": [
              "<IPython.core.display.HTML object>"
            ],
            "text/html": []
          },
          "metadata": {}
        },
        {
          "output_type": "stream",
          "name": "stdout",
          "text": [
            "Number of columns returned by lipinski_rule: 4\n"
          ]
        },
        {
          "output_type": "stream",
          "name": "stderr",
          "text": [
            "[23:28:14] DEPRECATION WARNING: please use MorganGenerator\n",
            "[23:28:14] DEPRECATION WARNING: please use MorganGenerator\n",
            "[23:28:14] DEPRECATION WARNING: please use MorganGenerator\n"
          ]
        },
        {
          "output_type": "display_data",
          "data": {
            "text/plain": [
              "<IPython.core.display.HTML object>"
            ],
            "text/html": []
          },
          "metadata": {}
        },
        {
          "output_type": "stream",
          "name": "stdout",
          "text": [
            "Number of columns returned by lipinski_rule: 4\n"
          ]
        },
        {
          "output_type": "stream",
          "name": "stderr",
          "text": [
            "[23:28:14] DEPRECATION WARNING: please use MorganGenerator\n",
            "[23:28:14] DEPRECATION WARNING: please use MorganGenerator\n",
            "[23:28:14] DEPRECATION WARNING: please use MorganGenerator\n"
          ]
        },
        {
          "output_type": "display_data",
          "data": {
            "text/plain": [
              "<IPython.core.display.HTML object>"
            ],
            "text/html": []
          },
          "metadata": {}
        },
        {
          "output_type": "stream",
          "name": "stdout",
          "text": [
            "Number of columns returned by lipinski_rule: 4\n"
          ]
        },
        {
          "output_type": "stream",
          "name": "stderr",
          "text": [
            "[23:28:15] DEPRECATION WARNING: please use MorganGenerator\n",
            "[23:28:15] DEPRECATION WARNING: please use MorganGenerator\n",
            "[23:28:15] DEPRECATION WARNING: please use MorganGenerator\n"
          ]
        },
        {
          "output_type": "display_data",
          "data": {
            "text/plain": [
              "<IPython.core.display.HTML object>"
            ],
            "text/html": []
          },
          "metadata": {}
        },
        {
          "output_type": "stream",
          "name": "stdout",
          "text": [
            "Number of columns returned by lipinski_rule: 4\n"
          ]
        },
        {
          "output_type": "stream",
          "name": "stderr",
          "text": [
            "[23:28:15] DEPRECATION WARNING: please use MorganGenerator\n",
            "[23:28:15] DEPRECATION WARNING: please use MorganGenerator\n",
            "[23:28:15] DEPRECATION WARNING: please use MorganGenerator\n"
          ]
        },
        {
          "output_type": "display_data",
          "data": {
            "text/plain": [
              "<IPython.core.display.HTML object>"
            ],
            "text/html": []
          },
          "metadata": {}
        },
        {
          "output_type": "stream",
          "name": "stdout",
          "text": [
            "Number of columns returned by lipinski_rule: 4\n"
          ]
        },
        {
          "output_type": "stream",
          "name": "stderr",
          "text": [
            "[23:28:15] DEPRECATION WARNING: please use MorganGenerator\n",
            "[23:28:15] DEPRECATION WARNING: please use MorganGenerator\n",
            "[23:28:15] DEPRECATION WARNING: please use MorganGenerator\n"
          ]
        },
        {
          "output_type": "display_data",
          "data": {
            "text/plain": [
              "<IPython.core.display.HTML object>"
            ],
            "text/html": []
          },
          "metadata": {}
        },
        {
          "output_type": "stream",
          "name": "stdout",
          "text": [
            "Number of columns returned by lipinski_rule: 4\n"
          ]
        },
        {
          "output_type": "stream",
          "name": "stderr",
          "text": [
            "[23:28:16] DEPRECATION WARNING: please use MorganGenerator\n",
            "[23:28:16] DEPRECATION WARNING: please use MorganGenerator\n",
            "[23:28:16] DEPRECATION WARNING: please use MorganGenerator\n"
          ]
        },
        {
          "output_type": "display_data",
          "data": {
            "text/plain": [
              "<IPython.core.display.HTML object>"
            ],
            "text/html": []
          },
          "metadata": {}
        },
        {
          "output_type": "stream",
          "name": "stdout",
          "text": [
            "Number of columns returned by lipinski_rule: 4\n"
          ]
        },
        {
          "output_type": "stream",
          "name": "stderr",
          "text": [
            "[23:28:16] DEPRECATION WARNING: please use MorganGenerator\n",
            "[23:28:16] DEPRECATION WARNING: please use MorganGenerator\n",
            "[23:28:16] DEPRECATION WARNING: please use MorganGenerator\n"
          ]
        },
        {
          "output_type": "display_data",
          "data": {
            "text/plain": [
              "<IPython.core.display.HTML object>"
            ],
            "text/html": []
          },
          "metadata": {}
        },
        {
          "output_type": "stream",
          "name": "stdout",
          "text": [
            "Number of columns returned by lipinski_rule: 4\n"
          ]
        },
        {
          "output_type": "stream",
          "name": "stderr",
          "text": [
            "[23:28:16] DEPRECATION WARNING: please use MorganGenerator\n",
            "[23:28:16] DEPRECATION WARNING: please use MorganGenerator\n",
            "[23:28:16] DEPRECATION WARNING: please use MorganGenerator\n"
          ]
        },
        {
          "output_type": "display_data",
          "data": {
            "text/plain": [
              "<IPython.core.display.HTML object>"
            ],
            "text/html": []
          },
          "metadata": {}
        },
        {
          "output_type": "stream",
          "name": "stdout",
          "text": [
            "Number of columns returned by lipinski_rule: 4\n"
          ]
        },
        {
          "output_type": "stream",
          "name": "stderr",
          "text": [
            "[23:28:17] DEPRECATION WARNING: please use MorganGenerator\n",
            "[23:28:17] DEPRECATION WARNING: please use MorganGenerator\n",
            "[23:28:17] DEPRECATION WARNING: please use MorganGenerator\n"
          ]
        },
        {
          "output_type": "display_data",
          "data": {
            "text/plain": [
              "<IPython.core.display.HTML object>"
            ],
            "text/html": []
          },
          "metadata": {}
        },
        {
          "output_type": "stream",
          "name": "stdout",
          "text": [
            "Number of columns returned by lipinski_rule: 4\n"
          ]
        },
        {
          "output_type": "stream",
          "name": "stderr",
          "text": [
            "[23:28:17] DEPRECATION WARNING: please use MorganGenerator\n",
            "[23:28:17] DEPRECATION WARNING: please use MorganGenerator\n",
            "[23:28:17] DEPRECATION WARNING: please use MorganGenerator\n"
          ]
        },
        {
          "output_type": "display_data",
          "data": {
            "text/plain": [
              "<IPython.core.display.HTML object>"
            ],
            "text/html": []
          },
          "metadata": {}
        },
        {
          "output_type": "stream",
          "name": "stdout",
          "text": [
            "Number of columns returned by lipinski_rule: 4\n"
          ]
        },
        {
          "output_type": "stream",
          "name": "stderr",
          "text": [
            "[23:28:18] DEPRECATION WARNING: please use MorganGenerator\n",
            "[23:28:18] DEPRECATION WARNING: please use MorganGenerator\n",
            "[23:28:18] DEPRECATION WARNING: please use MorganGenerator\n"
          ]
        },
        {
          "output_type": "display_data",
          "data": {
            "text/plain": [
              "<IPython.core.display.HTML object>"
            ],
            "text/html": []
          },
          "metadata": {}
        },
        {
          "output_type": "stream",
          "name": "stdout",
          "text": [
            "Number of columns returned by lipinski_rule: 4\n"
          ]
        },
        {
          "output_type": "stream",
          "name": "stderr",
          "text": [
            "[23:28:18] DEPRECATION WARNING: please use MorganGenerator\n",
            "[23:28:18] DEPRECATION WARNING: please use MorganGenerator\n",
            "[23:28:18] DEPRECATION WARNING: please use MorganGenerator\n"
          ]
        },
        {
          "output_type": "display_data",
          "data": {
            "text/plain": [
              "<IPython.core.display.HTML object>"
            ],
            "text/html": []
          },
          "metadata": {}
        },
        {
          "output_type": "stream",
          "name": "stdout",
          "text": [
            "Number of columns returned by lipinski_rule: 4\n"
          ]
        },
        {
          "output_type": "stream",
          "name": "stderr",
          "text": [
            "[23:28:18] DEPRECATION WARNING: please use MorganGenerator\n",
            "[23:28:18] DEPRECATION WARNING: please use MorganGenerator\n",
            "[23:28:18] DEPRECATION WARNING: please use MorganGenerator\n"
          ]
        },
        {
          "output_type": "display_data",
          "data": {
            "text/plain": [
              "<IPython.core.display.HTML object>"
            ],
            "text/html": []
          },
          "metadata": {}
        },
        {
          "output_type": "stream",
          "name": "stdout",
          "text": [
            "Number of columns returned by lipinski_rule: 4\n"
          ]
        },
        {
          "output_type": "stream",
          "name": "stderr",
          "text": [
            "[23:28:19] DEPRECATION WARNING: please use MorganGenerator\n",
            "[23:28:19] DEPRECATION WARNING: please use MorganGenerator\n",
            "[23:28:19] DEPRECATION WARNING: please use MorganGenerator\n"
          ]
        },
        {
          "output_type": "display_data",
          "data": {
            "text/plain": [
              "<IPython.core.display.HTML object>"
            ],
            "text/html": []
          },
          "metadata": {}
        },
        {
          "output_type": "stream",
          "name": "stdout",
          "text": [
            "Number of columns returned by lipinski_rule: 4\n"
          ]
        },
        {
          "output_type": "stream",
          "name": "stderr",
          "text": [
            "[23:28:19] DEPRECATION WARNING: please use MorganGenerator\n",
            "[23:28:19] DEPRECATION WARNING: please use MorganGenerator\n",
            "[23:28:19] DEPRECATION WARNING: please use MorganGenerator\n"
          ]
        },
        {
          "output_type": "display_data",
          "data": {
            "text/plain": [
              "<IPython.core.display.HTML object>"
            ],
            "text/html": []
          },
          "metadata": {}
        },
        {
          "output_type": "stream",
          "name": "stdout",
          "text": [
            "Number of columns returned by lipinski_rule: 4\n"
          ]
        },
        {
          "output_type": "stream",
          "name": "stderr",
          "text": [
            "[23:28:19] DEPRECATION WARNING: please use MorganGenerator\n",
            "[23:28:19] DEPRECATION WARNING: please use MorganGenerator\n",
            "[23:28:19] DEPRECATION WARNING: please use MorganGenerator\n"
          ]
        },
        {
          "output_type": "display_data",
          "data": {
            "text/plain": [
              "<IPython.core.display.HTML object>"
            ],
            "text/html": []
          },
          "metadata": {}
        },
        {
          "output_type": "stream",
          "name": "stdout",
          "text": [
            "Number of columns returned by lipinski_rule: 4\n"
          ]
        },
        {
          "output_type": "stream",
          "name": "stderr",
          "text": [
            "[23:28:20] DEPRECATION WARNING: please use MorganGenerator\n",
            "[23:28:20] DEPRECATION WARNING: please use MorganGenerator\n",
            "[23:28:20] DEPRECATION WARNING: please use MorganGenerator\n"
          ]
        },
        {
          "output_type": "display_data",
          "data": {
            "text/plain": [
              "<IPython.core.display.HTML object>"
            ],
            "text/html": []
          },
          "metadata": {}
        },
        {
          "output_type": "stream",
          "name": "stdout",
          "text": [
            "Number of columns returned by lipinski_rule: 4\n"
          ]
        },
        {
          "output_type": "stream",
          "name": "stderr",
          "text": [
            "[23:28:20] DEPRECATION WARNING: please use MorganGenerator\n",
            "[23:28:20] DEPRECATION WARNING: please use MorganGenerator\n",
            "[23:28:20] DEPRECATION WARNING: please use MorganGenerator\n"
          ]
        },
        {
          "output_type": "display_data",
          "data": {
            "text/plain": [
              "<IPython.core.display.HTML object>"
            ],
            "text/html": []
          },
          "metadata": {}
        },
        {
          "output_type": "stream",
          "name": "stdout",
          "text": [
            "Number of columns returned by lipinski_rule: 4\n"
          ]
        },
        {
          "output_type": "stream",
          "name": "stderr",
          "text": [
            "[23:28:20] DEPRECATION WARNING: please use MorganGenerator\n",
            "[23:28:20] DEPRECATION WARNING: please use MorganGenerator\n",
            "[23:28:20] DEPRECATION WARNING: please use MorganGenerator\n"
          ]
        },
        {
          "output_type": "display_data",
          "data": {
            "text/plain": [
              "<IPython.core.display.HTML object>"
            ],
            "text/html": []
          },
          "metadata": {}
        },
        {
          "output_type": "stream",
          "name": "stdout",
          "text": [
            "Number of columns returned by lipinski_rule: 4\n"
          ]
        },
        {
          "output_type": "stream",
          "name": "stderr",
          "text": [
            "[23:28:21] DEPRECATION WARNING: please use MorganGenerator\n",
            "[23:28:21] DEPRECATION WARNING: please use MorganGenerator\n",
            "[23:28:21] DEPRECATION WARNING: please use MorganGenerator\n"
          ]
        },
        {
          "output_type": "display_data",
          "data": {
            "text/plain": [
              "<IPython.core.display.HTML object>"
            ],
            "text/html": []
          },
          "metadata": {}
        },
        {
          "output_type": "stream",
          "name": "stdout",
          "text": [
            "Number of columns returned by lipinski_rule: 4\n"
          ]
        },
        {
          "output_type": "stream",
          "name": "stderr",
          "text": [
            "[23:28:21] DEPRECATION WARNING: please use MorganGenerator\n",
            "[23:28:21] DEPRECATION WARNING: please use MorganGenerator\n",
            "[23:28:21] DEPRECATION WARNING: please use MorganGenerator\n"
          ]
        },
        {
          "output_type": "display_data",
          "data": {
            "text/plain": [
              "<IPython.core.display.HTML object>"
            ],
            "text/html": []
          },
          "metadata": {}
        },
        {
          "output_type": "stream",
          "name": "stdout",
          "text": [
            "Number of columns returned by lipinski_rule: 4\n"
          ]
        },
        {
          "output_type": "stream",
          "name": "stderr",
          "text": [
            "[23:28:21] DEPRECATION WARNING: please use MorganGenerator\n",
            "[23:28:21] DEPRECATION WARNING: please use MorganGenerator\n",
            "[23:28:21] DEPRECATION WARNING: please use MorganGenerator\n"
          ]
        },
        {
          "output_type": "display_data",
          "data": {
            "text/plain": [
              "<IPython.core.display.HTML object>"
            ],
            "text/html": []
          },
          "metadata": {}
        },
        {
          "output_type": "stream",
          "name": "stdout",
          "text": [
            "Number of columns returned by lipinski_rule: 4\n"
          ]
        },
        {
          "output_type": "stream",
          "name": "stderr",
          "text": [
            "[23:28:22] DEPRECATION WARNING: please use MorganGenerator\n",
            "[23:28:22] DEPRECATION WARNING: please use MorganGenerator\n",
            "[23:28:22] DEPRECATION WARNING: please use MorganGenerator\n"
          ]
        },
        {
          "output_type": "display_data",
          "data": {
            "text/plain": [
              "<IPython.core.display.HTML object>"
            ],
            "text/html": []
          },
          "metadata": {}
        },
        {
          "output_type": "stream",
          "name": "stdout",
          "text": [
            "Number of columns returned by lipinski_rule: 4\n"
          ]
        },
        {
          "output_type": "stream",
          "name": "stderr",
          "text": [
            "[23:28:22] DEPRECATION WARNING: please use MorganGenerator\n",
            "[23:28:22] DEPRECATION WARNING: please use MorganGenerator\n",
            "[23:28:22] DEPRECATION WARNING: please use MorganGenerator\n"
          ]
        },
        {
          "output_type": "display_data",
          "data": {
            "text/plain": [
              "<IPython.core.display.HTML object>"
            ],
            "text/html": []
          },
          "metadata": {}
        },
        {
          "output_type": "stream",
          "name": "stdout",
          "text": [
            "Number of columns returned by lipinski_rule: 4\n"
          ]
        },
        {
          "output_type": "stream",
          "name": "stderr",
          "text": [
            "[23:28:23] DEPRECATION WARNING: please use MorganGenerator\n",
            "[23:28:23] DEPRECATION WARNING: please use MorganGenerator\n",
            "[23:28:23] DEPRECATION WARNING: please use MorganGenerator\n"
          ]
        },
        {
          "output_type": "display_data",
          "data": {
            "text/plain": [
              "<IPython.core.display.HTML object>"
            ],
            "text/html": []
          },
          "metadata": {}
        },
        {
          "output_type": "stream",
          "name": "stdout",
          "text": [
            "Number of columns returned by lipinski_rule: 4\n"
          ]
        },
        {
          "output_type": "stream",
          "name": "stderr",
          "text": [
            "[23:28:23] DEPRECATION WARNING: please use MorganGenerator\n",
            "[23:28:23] DEPRECATION WARNING: please use MorganGenerator\n",
            "[23:28:23] DEPRECATION WARNING: please use MorganGenerator\n"
          ]
        },
        {
          "output_type": "display_data",
          "data": {
            "text/plain": [
              "<IPython.core.display.HTML object>"
            ],
            "text/html": []
          },
          "metadata": {}
        },
        {
          "output_type": "stream",
          "name": "stdout",
          "text": [
            "Number of columns returned by lipinski_rule: 4\n"
          ]
        },
        {
          "output_type": "stream",
          "name": "stderr",
          "text": [
            "[23:28:23] DEPRECATION WARNING: please use MorganGenerator\n",
            "[23:28:23] DEPRECATION WARNING: please use MorganGenerator\n",
            "[23:28:23] DEPRECATION WARNING: please use MorganGenerator\n"
          ]
        },
        {
          "output_type": "display_data",
          "data": {
            "text/plain": [
              "<IPython.core.display.HTML object>"
            ],
            "text/html": []
          },
          "metadata": {}
        },
        {
          "output_type": "stream",
          "name": "stdout",
          "text": [
            "Number of columns returned by lipinski_rule: 4\n"
          ]
        },
        {
          "output_type": "stream",
          "name": "stderr",
          "text": [
            "[23:28:24] DEPRECATION WARNING: please use MorganGenerator\n",
            "[23:28:24] DEPRECATION WARNING: please use MorganGenerator\n",
            "[23:28:24] DEPRECATION WARNING: please use MorganGenerator\n"
          ]
        },
        {
          "output_type": "display_data",
          "data": {
            "text/plain": [
              "<IPython.core.display.HTML object>"
            ],
            "text/html": []
          },
          "metadata": {}
        },
        {
          "output_type": "stream",
          "name": "stdout",
          "text": [
            "Number of columns returned by lipinski_rule: 4\n"
          ]
        },
        {
          "output_type": "stream",
          "name": "stderr",
          "text": [
            "[23:28:24] DEPRECATION WARNING: please use MorganGenerator\n",
            "[23:28:24] DEPRECATION WARNING: please use MorganGenerator\n",
            "[23:28:24] DEPRECATION WARNING: please use MorganGenerator\n"
          ]
        },
        {
          "output_type": "display_data",
          "data": {
            "text/plain": [
              "<IPython.core.display.HTML object>"
            ],
            "text/html": []
          },
          "metadata": {}
        },
        {
          "output_type": "stream",
          "name": "stdout",
          "text": [
            "Number of columns returned by lipinski_rule: 4\n"
          ]
        },
        {
          "output_type": "stream",
          "name": "stderr",
          "text": [
            "[23:28:24] DEPRECATION WARNING: please use MorganGenerator\n",
            "[23:28:24] DEPRECATION WARNING: please use MorganGenerator\n",
            "[23:28:24] DEPRECATION WARNING: please use MorganGenerator\n"
          ]
        },
        {
          "output_type": "display_data",
          "data": {
            "text/plain": [
              "<IPython.core.display.HTML object>"
            ],
            "text/html": []
          },
          "metadata": {}
        },
        {
          "output_type": "stream",
          "name": "stdout",
          "text": [
            "Number of columns returned by lipinski_rule: 4\n"
          ]
        },
        {
          "output_type": "stream",
          "name": "stderr",
          "text": [
            "[23:28:25] DEPRECATION WARNING: please use MorganGenerator\n",
            "[23:28:25] DEPRECATION WARNING: please use MorganGenerator\n",
            "[23:28:25] DEPRECATION WARNING: please use MorganGenerator\n"
          ]
        },
        {
          "output_type": "display_data",
          "data": {
            "text/plain": [
              "<IPython.core.display.HTML object>"
            ],
            "text/html": []
          },
          "metadata": {}
        },
        {
          "output_type": "stream",
          "name": "stdout",
          "text": [
            "Number of columns returned by lipinski_rule: 4\n"
          ]
        },
        {
          "output_type": "stream",
          "name": "stderr",
          "text": [
            "[23:28:25] DEPRECATION WARNING: please use MorganGenerator\n",
            "[23:28:25] DEPRECATION WARNING: please use MorganGenerator\n",
            "[23:28:25] DEPRECATION WARNING: please use MorganGenerator\n"
          ]
        },
        {
          "output_type": "display_data",
          "data": {
            "text/plain": [
              "<IPython.core.display.HTML object>"
            ],
            "text/html": []
          },
          "metadata": {}
        },
        {
          "output_type": "stream",
          "name": "stdout",
          "text": [
            "Number of columns returned by lipinski_rule: 4\n"
          ]
        },
        {
          "output_type": "stream",
          "name": "stderr",
          "text": [
            "[23:28:26] DEPRECATION WARNING: please use MorganGenerator\n",
            "[23:28:26] DEPRECATION WARNING: please use MorganGenerator\n",
            "[23:28:26] DEPRECATION WARNING: please use MorganGenerator\n"
          ]
        },
        {
          "output_type": "display_data",
          "data": {
            "text/plain": [
              "<IPython.core.display.HTML object>"
            ],
            "text/html": []
          },
          "metadata": {}
        },
        {
          "output_type": "stream",
          "name": "stdout",
          "text": [
            "Number of columns returned by lipinski_rule: 4\n"
          ]
        },
        {
          "output_type": "stream",
          "name": "stderr",
          "text": [
            "[23:28:26] DEPRECATION WARNING: please use MorganGenerator\n",
            "[23:28:26] DEPRECATION WARNING: please use MorganGenerator\n",
            "[23:28:26] DEPRECATION WARNING: please use MorganGenerator\n"
          ]
        },
        {
          "output_type": "display_data",
          "data": {
            "text/plain": [
              "<IPython.core.display.HTML object>"
            ],
            "text/html": []
          },
          "metadata": {}
        },
        {
          "output_type": "stream",
          "name": "stdout",
          "text": [
            "Number of columns returned by lipinski_rule: 4\n"
          ]
        },
        {
          "output_type": "stream",
          "name": "stderr",
          "text": [
            "[23:28:27] DEPRECATION WARNING: please use MorganGenerator\n",
            "[23:28:27] DEPRECATION WARNING: please use MorganGenerator\n",
            "[23:28:27] DEPRECATION WARNING: please use MorganGenerator\n"
          ]
        },
        {
          "output_type": "display_data",
          "data": {
            "text/plain": [
              "<IPython.core.display.HTML object>"
            ],
            "text/html": []
          },
          "metadata": {}
        },
        {
          "output_type": "stream",
          "name": "stdout",
          "text": [
            "Number of columns returned by lipinski_rule: 4\n"
          ]
        },
        {
          "output_type": "stream",
          "name": "stderr",
          "text": [
            "[23:28:27] DEPRECATION WARNING: please use MorganGenerator\n",
            "[23:28:27] DEPRECATION WARNING: please use MorganGenerator\n",
            "[23:28:27] DEPRECATION WARNING: please use MorganGenerator\n"
          ]
        },
        {
          "output_type": "display_data",
          "data": {
            "text/plain": [
              "<IPython.core.display.HTML object>"
            ],
            "text/html": []
          },
          "metadata": {}
        },
        {
          "output_type": "stream",
          "name": "stdout",
          "text": [
            "Number of columns returned by lipinski_rule: 4\n"
          ]
        },
        {
          "output_type": "stream",
          "name": "stderr",
          "text": [
            "[23:28:28] DEPRECATION WARNING: please use MorganGenerator\n",
            "[23:28:28] DEPRECATION WARNING: please use MorganGenerator\n",
            "[23:28:28] DEPRECATION WARNING: please use MorganGenerator\n"
          ]
        },
        {
          "output_type": "display_data",
          "data": {
            "text/plain": [
              "<IPython.core.display.HTML object>"
            ],
            "text/html": []
          },
          "metadata": {}
        },
        {
          "output_type": "stream",
          "name": "stdout",
          "text": [
            "Number of columns returned by lipinski_rule: 4\n"
          ]
        },
        {
          "output_type": "stream",
          "name": "stderr",
          "text": [
            "[23:28:28] DEPRECATION WARNING: please use MorganGenerator\n",
            "[23:28:28] DEPRECATION WARNING: please use MorganGenerator\n",
            "[23:28:28] DEPRECATION WARNING: please use MorganGenerator\n"
          ]
        },
        {
          "output_type": "display_data",
          "data": {
            "text/plain": [
              "<IPython.core.display.HTML object>"
            ],
            "text/html": []
          },
          "metadata": {}
        },
        {
          "output_type": "stream",
          "name": "stdout",
          "text": [
            "Number of columns returned by lipinski_rule: 4\n"
          ]
        },
        {
          "output_type": "stream",
          "name": "stderr",
          "text": [
            "[23:28:28] DEPRECATION WARNING: please use MorganGenerator\n",
            "[23:28:28] DEPRECATION WARNING: please use MorganGenerator\n",
            "[23:28:28] DEPRECATION WARNING: please use MorganGenerator\n"
          ]
        },
        {
          "output_type": "display_data",
          "data": {
            "text/plain": [
              "<IPython.core.display.HTML object>"
            ],
            "text/html": []
          },
          "metadata": {}
        },
        {
          "output_type": "stream",
          "name": "stdout",
          "text": [
            "Number of columns returned by lipinski_rule: 4\n"
          ]
        },
        {
          "output_type": "stream",
          "name": "stderr",
          "text": [
            "[23:28:29] DEPRECATION WARNING: please use MorganGenerator\n",
            "[23:28:29] DEPRECATION WARNING: please use MorganGenerator\n",
            "[23:28:29] DEPRECATION WARNING: please use MorganGenerator\n"
          ]
        },
        {
          "output_type": "display_data",
          "data": {
            "text/plain": [
              "<IPython.core.display.HTML object>"
            ],
            "text/html": []
          },
          "metadata": {}
        },
        {
          "output_type": "stream",
          "name": "stdout",
          "text": [
            "Number of columns returned by lipinski_rule: 4\n"
          ]
        },
        {
          "output_type": "stream",
          "name": "stderr",
          "text": [
            "[23:28:29] DEPRECATION WARNING: please use MorganGenerator\n",
            "[23:28:29] DEPRECATION WARNING: please use MorganGenerator\n",
            "[23:28:29] DEPRECATION WARNING: please use MorganGenerator\n"
          ]
        },
        {
          "output_type": "display_data",
          "data": {
            "text/plain": [
              "<IPython.core.display.HTML object>"
            ],
            "text/html": []
          },
          "metadata": {}
        },
        {
          "output_type": "stream",
          "name": "stdout",
          "text": [
            "Number of columns returned by lipinski_rule: 4\n"
          ]
        },
        {
          "output_type": "stream",
          "name": "stderr",
          "text": [
            "[23:28:30] DEPRECATION WARNING: please use MorganGenerator\n",
            "[23:28:30] DEPRECATION WARNING: please use MorganGenerator\n",
            "[23:28:30] DEPRECATION WARNING: please use MorganGenerator\n"
          ]
        },
        {
          "output_type": "display_data",
          "data": {
            "text/plain": [
              "<IPython.core.display.HTML object>"
            ],
            "text/html": []
          },
          "metadata": {}
        },
        {
          "output_type": "stream",
          "name": "stdout",
          "text": [
            "Number of columns returned by lipinski_rule: 4\n"
          ]
        },
        {
          "output_type": "stream",
          "name": "stderr",
          "text": [
            "[23:28:30] DEPRECATION WARNING: please use MorganGenerator\n",
            "[23:28:30] DEPRECATION WARNING: please use MorganGenerator\n",
            "[23:28:30] DEPRECATION WARNING: please use MorganGenerator\n"
          ]
        },
        {
          "output_type": "display_data",
          "data": {
            "text/plain": [
              "<IPython.core.display.HTML object>"
            ],
            "text/html": []
          },
          "metadata": {}
        },
        {
          "output_type": "stream",
          "name": "stdout",
          "text": [
            "Number of columns returned by lipinski_rule: 4\n"
          ]
        },
        {
          "output_type": "stream",
          "name": "stderr",
          "text": [
            "[23:28:30] DEPRECATION WARNING: please use MorganGenerator\n",
            "[23:28:30] DEPRECATION WARNING: please use MorganGenerator\n",
            "[23:28:30] DEPRECATION WARNING: please use MorganGenerator\n"
          ]
        },
        {
          "output_type": "display_data",
          "data": {
            "text/plain": [
              "<IPython.core.display.HTML object>"
            ],
            "text/html": []
          },
          "metadata": {}
        },
        {
          "output_type": "stream",
          "name": "stdout",
          "text": [
            "Number of columns returned by lipinski_rule: 4\n"
          ]
        },
        {
          "output_type": "stream",
          "name": "stderr",
          "text": [
            "[23:28:31] DEPRECATION WARNING: please use MorganGenerator\n",
            "[23:28:31] DEPRECATION WARNING: please use MorganGenerator\n",
            "[23:28:31] DEPRECATION WARNING: please use MorganGenerator\n"
          ]
        },
        {
          "output_type": "display_data",
          "data": {
            "text/plain": [
              "<IPython.core.display.HTML object>"
            ],
            "text/html": []
          },
          "metadata": {}
        },
        {
          "output_type": "stream",
          "name": "stdout",
          "text": [
            "Number of columns returned by lipinski_rule: 4\n"
          ]
        },
        {
          "output_type": "stream",
          "name": "stderr",
          "text": [
            "[23:28:31] DEPRECATION WARNING: please use MorganGenerator\n",
            "[23:28:31] DEPRECATION WARNING: please use MorganGenerator\n",
            "[23:28:31] DEPRECATION WARNING: please use MorganGenerator\n"
          ]
        },
        {
          "output_type": "display_data",
          "data": {
            "text/plain": [
              "<IPython.core.display.HTML object>"
            ],
            "text/html": []
          },
          "metadata": {}
        },
        {
          "output_type": "stream",
          "name": "stdout",
          "text": [
            "Number of columns returned by lipinski_rule: 4\n"
          ]
        },
        {
          "output_type": "stream",
          "name": "stderr",
          "text": [
            "[23:28:31] DEPRECATION WARNING: please use MorganGenerator\n",
            "[23:28:31] DEPRECATION WARNING: please use MorganGenerator\n",
            "[23:28:31] DEPRECATION WARNING: please use MorganGenerator\n"
          ]
        },
        {
          "output_type": "display_data",
          "data": {
            "text/plain": [
              "<IPython.core.display.HTML object>"
            ],
            "text/html": []
          },
          "metadata": {}
        },
        {
          "output_type": "stream",
          "name": "stdout",
          "text": [
            "Number of columns returned by lipinski_rule: 4\n"
          ]
        },
        {
          "output_type": "stream",
          "name": "stderr",
          "text": [
            "[23:28:32] DEPRECATION WARNING: please use MorganGenerator\n",
            "[23:28:32] DEPRECATION WARNING: please use MorganGenerator\n",
            "[23:28:32] DEPRECATION WARNING: please use MorganGenerator\n"
          ]
        },
        {
          "output_type": "display_data",
          "data": {
            "text/plain": [
              "<IPython.core.display.HTML object>"
            ],
            "text/html": []
          },
          "metadata": {}
        },
        {
          "output_type": "stream",
          "name": "stdout",
          "text": [
            "Number of columns returned by lipinski_rule: 4\n"
          ]
        },
        {
          "output_type": "stream",
          "name": "stderr",
          "text": [
            "[23:28:32] DEPRECATION WARNING: please use MorganGenerator\n",
            "[23:28:32] DEPRECATION WARNING: please use MorganGenerator\n",
            "[23:28:32] DEPRECATION WARNING: please use MorganGenerator\n"
          ]
        },
        {
          "output_type": "display_data",
          "data": {
            "text/plain": [
              "<IPython.core.display.HTML object>"
            ],
            "text/html": []
          },
          "metadata": {}
        },
        {
          "output_type": "stream",
          "name": "stdout",
          "text": [
            "Number of columns returned by lipinski_rule: 4\n"
          ]
        },
        {
          "output_type": "stream",
          "name": "stderr",
          "text": [
            "[23:28:32] DEPRECATION WARNING: please use MorganGenerator\n",
            "[23:28:32] DEPRECATION WARNING: please use MorganGenerator\n",
            "[23:28:32] DEPRECATION WARNING: please use MorganGenerator\n"
          ]
        },
        {
          "output_type": "display_data",
          "data": {
            "text/plain": [
              "<IPython.core.display.HTML object>"
            ],
            "text/html": []
          },
          "metadata": {}
        },
        {
          "output_type": "stream",
          "name": "stdout",
          "text": [
            "Number of columns returned by lipinski_rule: 4\n"
          ]
        },
        {
          "output_type": "stream",
          "name": "stderr",
          "text": [
            "[23:28:33] DEPRECATION WARNING: please use MorganGenerator\n",
            "[23:28:33] DEPRECATION WARNING: please use MorganGenerator\n",
            "[23:28:33] DEPRECATION WARNING: please use MorganGenerator\n"
          ]
        },
        {
          "output_type": "display_data",
          "data": {
            "text/plain": [
              "<IPython.core.display.HTML object>"
            ],
            "text/html": []
          },
          "metadata": {}
        },
        {
          "output_type": "stream",
          "name": "stdout",
          "text": [
            "Number of columns returned by lipinski_rule: 4\n"
          ]
        },
        {
          "output_type": "stream",
          "name": "stderr",
          "text": [
            "[23:28:33] DEPRECATION WARNING: please use MorganGenerator\n",
            "[23:28:33] DEPRECATION WARNING: please use MorganGenerator\n",
            "[23:28:33] DEPRECATION WARNING: please use MorganGenerator\n"
          ]
        },
        {
          "output_type": "display_data",
          "data": {
            "text/plain": [
              "<IPython.core.display.HTML object>"
            ],
            "text/html": []
          },
          "metadata": {}
        },
        {
          "output_type": "stream",
          "name": "stdout",
          "text": [
            "Number of columns returned by lipinski_rule: 4\n"
          ]
        },
        {
          "output_type": "stream",
          "name": "stderr",
          "text": [
            "[23:28:34] DEPRECATION WARNING: please use MorganGenerator\n",
            "[23:28:34] DEPRECATION WARNING: please use MorganGenerator\n",
            "[23:28:34] DEPRECATION WARNING: please use MorganGenerator\n"
          ]
        },
        {
          "output_type": "display_data",
          "data": {
            "text/plain": [
              "<IPython.core.display.HTML object>"
            ],
            "text/html": []
          },
          "metadata": {}
        },
        {
          "output_type": "stream",
          "name": "stdout",
          "text": [
            "Number of columns returned by lipinski_rule: 4\n"
          ]
        },
        {
          "output_type": "stream",
          "name": "stderr",
          "text": [
            "[23:28:34] DEPRECATION WARNING: please use MorganGenerator\n",
            "[23:28:34] DEPRECATION WARNING: please use MorganGenerator\n",
            "[23:28:34] DEPRECATION WARNING: please use MorganGenerator\n"
          ]
        },
        {
          "output_type": "display_data",
          "data": {
            "text/plain": [
              "<IPython.core.display.HTML object>"
            ],
            "text/html": []
          },
          "metadata": {}
        },
        {
          "output_type": "stream",
          "name": "stdout",
          "text": [
            "Number of columns returned by lipinski_rule: 4\n"
          ]
        },
        {
          "output_type": "stream",
          "name": "stderr",
          "text": [
            "[23:28:34] DEPRECATION WARNING: please use MorganGenerator\n",
            "[23:28:34] DEPRECATION WARNING: please use MorganGenerator\n",
            "[23:28:34] DEPRECATION WARNING: please use MorganGenerator\n"
          ]
        },
        {
          "output_type": "display_data",
          "data": {
            "text/plain": [
              "<IPython.core.display.HTML object>"
            ],
            "text/html": []
          },
          "metadata": {}
        },
        {
          "output_type": "stream",
          "name": "stdout",
          "text": [
            "Number of columns returned by lipinski_rule: 4\n"
          ]
        },
        {
          "output_type": "stream",
          "name": "stderr",
          "text": [
            "[23:28:35] DEPRECATION WARNING: please use MorganGenerator\n",
            "[23:28:35] DEPRECATION WARNING: please use MorganGenerator\n",
            "[23:28:35] DEPRECATION WARNING: please use MorganGenerator\n"
          ]
        },
        {
          "output_type": "display_data",
          "data": {
            "text/plain": [
              "<IPython.core.display.HTML object>"
            ],
            "text/html": []
          },
          "metadata": {}
        },
        {
          "output_type": "stream",
          "name": "stdout",
          "text": [
            "Number of columns returned by lipinski_rule: 4\n"
          ]
        },
        {
          "output_type": "stream",
          "name": "stderr",
          "text": [
            "[23:28:35] DEPRECATION WARNING: please use MorganGenerator\n",
            "[23:28:35] DEPRECATION WARNING: please use MorganGenerator\n",
            "[23:28:35] DEPRECATION WARNING: please use MorganGenerator\n"
          ]
        },
        {
          "output_type": "display_data",
          "data": {
            "text/plain": [
              "<IPython.core.display.HTML object>"
            ],
            "text/html": []
          },
          "metadata": {}
        },
        {
          "output_type": "stream",
          "name": "stdout",
          "text": [
            "Number of columns returned by lipinski_rule: 4\n"
          ]
        },
        {
          "output_type": "stream",
          "name": "stderr",
          "text": [
            "[23:28:35] DEPRECATION WARNING: please use MorganGenerator\n",
            "[23:28:35] DEPRECATION WARNING: please use MorganGenerator\n",
            "[23:28:35] DEPRECATION WARNING: please use MorganGenerator\n"
          ]
        },
        {
          "output_type": "display_data",
          "data": {
            "text/plain": [
              "<IPython.core.display.HTML object>"
            ],
            "text/html": []
          },
          "metadata": {}
        },
        {
          "output_type": "stream",
          "name": "stdout",
          "text": [
            "Number of columns returned by lipinski_rule: 4\n"
          ]
        },
        {
          "output_type": "stream",
          "name": "stderr",
          "text": [
            "[23:28:36] DEPRECATION WARNING: please use MorganGenerator\n",
            "[23:28:36] DEPRECATION WARNING: please use MorganGenerator\n",
            "[23:28:36] DEPRECATION WARNING: please use MorganGenerator\n"
          ]
        },
        {
          "output_type": "display_data",
          "data": {
            "text/plain": [
              "<IPython.core.display.HTML object>"
            ],
            "text/html": []
          },
          "metadata": {}
        },
        {
          "output_type": "stream",
          "name": "stdout",
          "text": [
            "Number of columns returned by lipinski_rule: 4\n"
          ]
        },
        {
          "output_type": "stream",
          "name": "stderr",
          "text": [
            "[23:28:36] DEPRECATION WARNING: please use MorganGenerator\n",
            "[23:28:36] DEPRECATION WARNING: please use MorganGenerator\n",
            "[23:28:36] DEPRECATION WARNING: please use MorganGenerator\n"
          ]
        },
        {
          "output_type": "display_data",
          "data": {
            "text/plain": [
              "<IPython.core.display.HTML object>"
            ],
            "text/html": []
          },
          "metadata": {}
        },
        {
          "output_type": "stream",
          "name": "stdout",
          "text": [
            "Number of columns returned by lipinski_rule: 4\n"
          ]
        },
        {
          "output_type": "stream",
          "name": "stderr",
          "text": [
            "[23:28:37] DEPRECATION WARNING: please use MorganGenerator\n",
            "[23:28:37] DEPRECATION WARNING: please use MorganGenerator\n",
            "[23:28:37] DEPRECATION WARNING: please use MorganGenerator\n"
          ]
        },
        {
          "output_type": "display_data",
          "data": {
            "text/plain": [
              "<IPython.core.display.HTML object>"
            ],
            "text/html": []
          },
          "metadata": {}
        },
        {
          "output_type": "stream",
          "name": "stdout",
          "text": [
            "Number of columns returned by lipinski_rule: 4\n"
          ]
        },
        {
          "output_type": "stream",
          "name": "stderr",
          "text": [
            "[23:28:37] DEPRECATION WARNING: please use MorganGenerator\n",
            "[23:28:37] DEPRECATION WARNING: please use MorganGenerator\n",
            "[23:28:37] DEPRECATION WARNING: please use MorganGenerator\n"
          ]
        },
        {
          "output_type": "display_data",
          "data": {
            "text/plain": [
              "<IPython.core.display.HTML object>"
            ],
            "text/html": []
          },
          "metadata": {}
        },
        {
          "output_type": "stream",
          "name": "stdout",
          "text": [
            "Number of columns returned by lipinski_rule: 4\n"
          ]
        },
        {
          "output_type": "stream",
          "name": "stderr",
          "text": [
            "[23:28:37] DEPRECATION WARNING: please use MorganGenerator\n",
            "[23:28:37] DEPRECATION WARNING: please use MorganGenerator\n",
            "[23:28:37] DEPRECATION WARNING: please use MorganGenerator\n"
          ]
        },
        {
          "output_type": "display_data",
          "data": {
            "text/plain": [
              "<IPython.core.display.HTML object>"
            ],
            "text/html": []
          },
          "metadata": {}
        },
        {
          "output_type": "stream",
          "name": "stdout",
          "text": [
            "Number of columns returned by lipinski_rule: 4\n"
          ]
        },
        {
          "output_type": "stream",
          "name": "stderr",
          "text": [
            "[23:28:38] DEPRECATION WARNING: please use MorganGenerator\n",
            "[23:28:38] DEPRECATION WARNING: please use MorganGenerator\n",
            "[23:28:38] DEPRECATION WARNING: please use MorganGenerator\n"
          ]
        },
        {
          "output_type": "display_data",
          "data": {
            "text/plain": [
              "<IPython.core.display.HTML object>"
            ],
            "text/html": []
          },
          "metadata": {}
        },
        {
          "output_type": "stream",
          "name": "stdout",
          "text": [
            "Number of columns returned by lipinski_rule: 4\n"
          ]
        },
        {
          "output_type": "stream",
          "name": "stderr",
          "text": [
            "[23:28:38] DEPRECATION WARNING: please use MorganGenerator\n",
            "[23:28:38] DEPRECATION WARNING: please use MorganGenerator\n",
            "[23:28:38] DEPRECATION WARNING: please use MorganGenerator\n"
          ]
        },
        {
          "output_type": "display_data",
          "data": {
            "text/plain": [
              "<IPython.core.display.HTML object>"
            ],
            "text/html": []
          },
          "metadata": {}
        },
        {
          "output_type": "stream",
          "name": "stdout",
          "text": [
            "Number of columns returned by lipinski_rule: 4\n"
          ]
        },
        {
          "output_type": "stream",
          "name": "stderr",
          "text": [
            "[23:28:38] DEPRECATION WARNING: please use MorganGenerator\n",
            "[23:28:38] DEPRECATION WARNING: please use MorganGenerator\n",
            "[23:28:38] DEPRECATION WARNING: please use MorganGenerator\n"
          ]
        },
        {
          "output_type": "display_data",
          "data": {
            "text/plain": [
              "<IPython.core.display.HTML object>"
            ],
            "text/html": []
          },
          "metadata": {}
        },
        {
          "output_type": "stream",
          "name": "stdout",
          "text": [
            "Number of columns returned by lipinski_rule: 4\n"
          ]
        },
        {
          "output_type": "stream",
          "name": "stderr",
          "text": [
            "[23:28:39] DEPRECATION WARNING: please use MorganGenerator\n",
            "[23:28:39] DEPRECATION WARNING: please use MorganGenerator\n",
            "[23:28:39] DEPRECATION WARNING: please use MorganGenerator\n"
          ]
        },
        {
          "output_type": "display_data",
          "data": {
            "text/plain": [
              "<IPython.core.display.HTML object>"
            ],
            "text/html": []
          },
          "metadata": {}
        },
        {
          "output_type": "stream",
          "name": "stdout",
          "text": [
            "Number of columns returned by lipinski_rule: 4\n"
          ]
        },
        {
          "output_type": "stream",
          "name": "stderr",
          "text": [
            "[23:28:39] DEPRECATION WARNING: please use MorganGenerator\n",
            "[23:28:39] DEPRECATION WARNING: please use MorganGenerator\n",
            "[23:28:39] DEPRECATION WARNING: please use MorganGenerator\n"
          ]
        },
        {
          "output_type": "display_data",
          "data": {
            "text/plain": [
              "<IPython.core.display.HTML object>"
            ],
            "text/html": []
          },
          "metadata": {}
        },
        {
          "output_type": "stream",
          "name": "stdout",
          "text": [
            "Number of columns returned by lipinski_rule: 4\n"
          ]
        },
        {
          "output_type": "stream",
          "name": "stderr",
          "text": [
            "[23:28:40] DEPRECATION WARNING: please use MorganGenerator\n",
            "[23:28:40] DEPRECATION WARNING: please use MorganGenerator\n",
            "[23:28:40] DEPRECATION WARNING: please use MorganGenerator\n"
          ]
        },
        {
          "output_type": "display_data",
          "data": {
            "text/plain": [
              "<IPython.core.display.HTML object>"
            ],
            "text/html": []
          },
          "metadata": {}
        },
        {
          "output_type": "stream",
          "name": "stdout",
          "text": [
            "Number of columns returned by lipinski_rule: 4\n"
          ]
        },
        {
          "output_type": "stream",
          "name": "stderr",
          "text": [
            "[23:28:40] DEPRECATION WARNING: please use MorganGenerator\n",
            "[23:28:40] DEPRECATION WARNING: please use MorganGenerator\n",
            "[23:28:40] DEPRECATION WARNING: please use MorganGenerator\n"
          ]
        },
        {
          "output_type": "display_data",
          "data": {
            "text/plain": [
              "<IPython.core.display.HTML object>"
            ],
            "text/html": []
          },
          "metadata": {}
        },
        {
          "output_type": "stream",
          "name": "stdout",
          "text": [
            "Number of columns returned by lipinski_rule: 4\n"
          ]
        },
        {
          "output_type": "stream",
          "name": "stderr",
          "text": [
            "[23:28:41] DEPRECATION WARNING: please use MorganGenerator\n",
            "[23:28:41] DEPRECATION WARNING: please use MorganGenerator\n",
            "[23:28:41] DEPRECATION WARNING: please use MorganGenerator\n"
          ]
        },
        {
          "output_type": "display_data",
          "data": {
            "text/plain": [
              "<IPython.core.display.HTML object>"
            ],
            "text/html": []
          },
          "metadata": {}
        },
        {
          "output_type": "stream",
          "name": "stdout",
          "text": [
            "Number of columns returned by lipinski_rule: 4\n"
          ]
        },
        {
          "output_type": "stream",
          "name": "stderr",
          "text": [
            "[23:28:41] DEPRECATION WARNING: please use MorganGenerator\n",
            "[23:28:41] DEPRECATION WARNING: please use MorganGenerator\n",
            "[23:28:41] DEPRECATION WARNING: please use MorganGenerator\n"
          ]
        },
        {
          "output_type": "display_data",
          "data": {
            "text/plain": [
              "<IPython.core.display.HTML object>"
            ],
            "text/html": []
          },
          "metadata": {}
        },
        {
          "output_type": "stream",
          "name": "stdout",
          "text": [
            "Number of columns returned by lipinski_rule: 4\n"
          ]
        },
        {
          "output_type": "stream",
          "name": "stderr",
          "text": [
            "[23:28:42] DEPRECATION WARNING: please use MorganGenerator\n",
            "[23:28:42] DEPRECATION WARNING: please use MorganGenerator\n",
            "[23:28:42] DEPRECATION WARNING: please use MorganGenerator\n"
          ]
        },
        {
          "output_type": "display_data",
          "data": {
            "text/plain": [
              "<IPython.core.display.HTML object>"
            ],
            "text/html": []
          },
          "metadata": {}
        },
        {
          "output_type": "stream",
          "name": "stdout",
          "text": [
            "Number of columns returned by lipinski_rule: 4\n"
          ]
        },
        {
          "output_type": "stream",
          "name": "stderr",
          "text": [
            "[23:28:42] DEPRECATION WARNING: please use MorganGenerator\n",
            "[23:28:42] DEPRECATION WARNING: please use MorganGenerator\n",
            "[23:28:42] DEPRECATION WARNING: please use MorganGenerator\n"
          ]
        },
        {
          "output_type": "display_data",
          "data": {
            "text/plain": [
              "<IPython.core.display.HTML object>"
            ],
            "text/html": []
          },
          "metadata": {}
        },
        {
          "output_type": "stream",
          "name": "stdout",
          "text": [
            "Number of columns returned by lipinski_rule: 4\n"
          ]
        },
        {
          "output_type": "stream",
          "name": "stderr",
          "text": [
            "[23:28:43] DEPRECATION WARNING: please use MorganGenerator\n",
            "[23:28:43] DEPRECATION WARNING: please use MorganGenerator\n",
            "[23:28:43] DEPRECATION WARNING: please use MorganGenerator\n"
          ]
        },
        {
          "output_type": "display_data",
          "data": {
            "text/plain": [
              "<IPython.core.display.HTML object>"
            ],
            "text/html": []
          },
          "metadata": {}
        },
        {
          "output_type": "stream",
          "name": "stdout",
          "text": [
            "Number of columns returned by lipinski_rule: 4\n"
          ]
        },
        {
          "output_type": "stream",
          "name": "stderr",
          "text": [
            "[23:28:43] DEPRECATION WARNING: please use MorganGenerator\n",
            "[23:28:43] DEPRECATION WARNING: please use MorganGenerator\n",
            "[23:28:43] DEPRECATION WARNING: please use MorganGenerator\n"
          ]
        },
        {
          "output_type": "display_data",
          "data": {
            "text/plain": [
              "<IPython.core.display.HTML object>"
            ],
            "text/html": []
          },
          "metadata": {}
        },
        {
          "output_type": "stream",
          "name": "stdout",
          "text": [
            "Number of columns returned by lipinski_rule: 4\n"
          ]
        },
        {
          "output_type": "stream",
          "name": "stderr",
          "text": [
            "[23:28:43] DEPRECATION WARNING: please use MorganGenerator\n",
            "[23:28:43] DEPRECATION WARNING: please use MorganGenerator\n",
            "[23:28:43] DEPRECATION WARNING: please use MorganGenerator\n"
          ]
        },
        {
          "output_type": "display_data",
          "data": {
            "text/plain": [
              "<IPython.core.display.HTML object>"
            ],
            "text/html": []
          },
          "metadata": {}
        },
        {
          "output_type": "stream",
          "name": "stdout",
          "text": [
            "Number of columns returned by lipinski_rule: 4\n"
          ]
        },
        {
          "output_type": "stream",
          "name": "stderr",
          "text": [
            "[23:28:44] DEPRECATION WARNING: please use MorganGenerator\n",
            "[23:28:44] DEPRECATION WARNING: please use MorganGenerator\n",
            "[23:28:44] DEPRECATION WARNING: please use MorganGenerator\n"
          ]
        },
        {
          "output_type": "display_data",
          "data": {
            "text/plain": [
              "<IPython.core.display.HTML object>"
            ],
            "text/html": []
          },
          "metadata": {}
        },
        {
          "output_type": "stream",
          "name": "stdout",
          "text": [
            "Number of columns returned by lipinski_rule: 4\n"
          ]
        },
        {
          "output_type": "stream",
          "name": "stderr",
          "text": [
            "[23:28:44] DEPRECATION WARNING: please use MorganGenerator\n",
            "[23:28:44] DEPRECATION WARNING: please use MorganGenerator\n",
            "[23:28:44] DEPRECATION WARNING: please use MorganGenerator\n"
          ]
        },
        {
          "output_type": "display_data",
          "data": {
            "text/plain": [
              "<IPython.core.display.HTML object>"
            ],
            "text/html": []
          },
          "metadata": {}
        },
        {
          "output_type": "stream",
          "name": "stdout",
          "text": [
            "Number of columns returned by lipinski_rule: 4\n"
          ]
        },
        {
          "output_type": "stream",
          "name": "stderr",
          "text": [
            "[23:28:44] DEPRECATION WARNING: please use MorganGenerator\n",
            "[23:28:44] DEPRECATION WARNING: please use MorganGenerator\n",
            "[23:28:44] DEPRECATION WARNING: please use MorganGenerator\n"
          ]
        },
        {
          "output_type": "display_data",
          "data": {
            "text/plain": [
              "<IPython.core.display.HTML object>"
            ],
            "text/html": []
          },
          "metadata": {}
        },
        {
          "output_type": "stream",
          "name": "stdout",
          "text": [
            "Number of columns returned by lipinski_rule: 4\n"
          ]
        },
        {
          "output_type": "stream",
          "name": "stderr",
          "text": [
            "[23:28:45] DEPRECATION WARNING: please use MorganGenerator\n",
            "[23:28:45] DEPRECATION WARNING: please use MorganGenerator\n",
            "[23:28:45] DEPRECATION WARNING: please use MorganGenerator\n"
          ]
        },
        {
          "output_type": "display_data",
          "data": {
            "text/plain": [
              "<IPython.core.display.HTML object>"
            ],
            "text/html": []
          },
          "metadata": {}
        },
        {
          "output_type": "stream",
          "name": "stdout",
          "text": [
            "Number of columns returned by lipinski_rule: 4\n"
          ]
        },
        {
          "output_type": "stream",
          "name": "stderr",
          "text": [
            "[23:28:45] DEPRECATION WARNING: please use MorganGenerator\n",
            "[23:28:45] DEPRECATION WARNING: please use MorganGenerator\n",
            "[23:28:45] DEPRECATION WARNING: please use MorganGenerator\n"
          ]
        },
        {
          "output_type": "display_data",
          "data": {
            "text/plain": [
              "<IPython.core.display.HTML object>"
            ],
            "text/html": []
          },
          "metadata": {}
        },
        {
          "output_type": "stream",
          "name": "stdout",
          "text": [
            "Number of columns returned by lipinski_rule: 4\n"
          ]
        },
        {
          "output_type": "stream",
          "name": "stderr",
          "text": [
            "[23:28:45] DEPRECATION WARNING: please use MorganGenerator\n",
            "[23:28:45] DEPRECATION WARNING: please use MorganGenerator\n",
            "[23:28:45] DEPRECATION WARNING: please use MorganGenerator\n"
          ]
        },
        {
          "output_type": "display_data",
          "data": {
            "text/plain": [
              "<IPython.core.display.HTML object>"
            ],
            "text/html": []
          },
          "metadata": {}
        },
        {
          "output_type": "stream",
          "name": "stdout",
          "text": [
            "Number of columns returned by lipinski_rule: 4\n"
          ]
        },
        {
          "output_type": "stream",
          "name": "stderr",
          "text": [
            "[23:28:46] DEPRECATION WARNING: please use MorganGenerator\n",
            "[23:28:46] DEPRECATION WARNING: please use MorganGenerator\n",
            "[23:28:46] DEPRECATION WARNING: please use MorganGenerator\n"
          ]
        },
        {
          "output_type": "display_data",
          "data": {
            "text/plain": [
              "<IPython.core.display.HTML object>"
            ],
            "text/html": []
          },
          "metadata": {}
        },
        {
          "output_type": "stream",
          "name": "stdout",
          "text": [
            "Number of columns returned by lipinski_rule: 4\n"
          ]
        },
        {
          "output_type": "stream",
          "name": "stderr",
          "text": [
            "[23:28:46] DEPRECATION WARNING: please use MorganGenerator\n",
            "[23:28:46] DEPRECATION WARNING: please use MorganGenerator\n",
            "[23:28:46] DEPRECATION WARNING: please use MorganGenerator\n"
          ]
        },
        {
          "output_type": "display_data",
          "data": {
            "text/plain": [
              "<IPython.core.display.HTML object>"
            ],
            "text/html": []
          },
          "metadata": {}
        },
        {
          "output_type": "stream",
          "name": "stdout",
          "text": [
            "Number of columns returned by lipinski_rule: 4\n"
          ]
        },
        {
          "output_type": "stream",
          "name": "stderr",
          "text": [
            "[23:28:47] DEPRECATION WARNING: please use MorganGenerator\n",
            "[23:28:47] DEPRECATION WARNING: please use MorganGenerator\n",
            "[23:28:47] DEPRECATION WARNING: please use MorganGenerator\n"
          ]
        },
        {
          "output_type": "display_data",
          "data": {
            "text/plain": [
              "<IPython.core.display.HTML object>"
            ],
            "text/html": []
          },
          "metadata": {}
        },
        {
          "output_type": "stream",
          "name": "stdout",
          "text": [
            "Number of columns returned by lipinski_rule: 4\n"
          ]
        },
        {
          "output_type": "stream",
          "name": "stderr",
          "text": [
            "[23:28:47] DEPRECATION WARNING: please use MorganGenerator\n",
            "[23:28:47] DEPRECATION WARNING: please use MorganGenerator\n",
            "[23:28:47] DEPRECATION WARNING: please use MorganGenerator\n"
          ]
        },
        {
          "output_type": "display_data",
          "data": {
            "text/plain": [
              "<IPython.core.display.HTML object>"
            ],
            "text/html": []
          },
          "metadata": {}
        },
        {
          "output_type": "stream",
          "name": "stdout",
          "text": [
            "Number of columns returned by lipinski_rule: 4\n"
          ]
        },
        {
          "output_type": "stream",
          "name": "stderr",
          "text": [
            "[23:28:47] DEPRECATION WARNING: please use MorganGenerator\n",
            "[23:28:47] DEPRECATION WARNING: please use MorganGenerator\n",
            "[23:28:47] DEPRECATION WARNING: please use MorganGenerator\n"
          ]
        },
        {
          "output_type": "display_data",
          "data": {
            "text/plain": [
              "<IPython.core.display.HTML object>"
            ],
            "text/html": []
          },
          "metadata": {}
        },
        {
          "output_type": "stream",
          "name": "stdout",
          "text": [
            "Number of columns returned by lipinski_rule: 4\n"
          ]
        },
        {
          "output_type": "stream",
          "name": "stderr",
          "text": [
            "[23:28:48] DEPRECATION WARNING: please use MorganGenerator\n",
            "[23:28:48] DEPRECATION WARNING: please use MorganGenerator\n",
            "[23:28:48] DEPRECATION WARNING: please use MorganGenerator\n"
          ]
        },
        {
          "output_type": "display_data",
          "data": {
            "text/plain": [
              "<IPython.core.display.HTML object>"
            ],
            "text/html": []
          },
          "metadata": {}
        },
        {
          "output_type": "stream",
          "name": "stdout",
          "text": [
            "Number of columns returned by lipinski_rule: 4\n"
          ]
        },
        {
          "output_type": "stream",
          "name": "stderr",
          "text": [
            "[23:28:48] DEPRECATION WARNING: please use MorganGenerator\n",
            "[23:28:48] DEPRECATION WARNING: please use MorganGenerator\n",
            "[23:28:48] DEPRECATION WARNING: please use MorganGenerator\n"
          ]
        },
        {
          "output_type": "display_data",
          "data": {
            "text/plain": [
              "<IPython.core.display.HTML object>"
            ],
            "text/html": []
          },
          "metadata": {}
        },
        {
          "output_type": "stream",
          "name": "stdout",
          "text": [
            "Number of columns returned by lipinski_rule: 4\n"
          ]
        },
        {
          "output_type": "stream",
          "name": "stderr",
          "text": [
            "[23:28:48] DEPRECATION WARNING: please use MorganGenerator\n",
            "[23:28:48] DEPRECATION WARNING: please use MorganGenerator\n",
            "[23:28:48] DEPRECATION WARNING: please use MorganGenerator\n"
          ]
        },
        {
          "output_type": "display_data",
          "data": {
            "text/plain": [
              "<IPython.core.display.HTML object>"
            ],
            "text/html": []
          },
          "metadata": {}
        },
        {
          "output_type": "stream",
          "name": "stdout",
          "text": [
            "Number of columns returned by lipinski_rule: 4\n"
          ]
        },
        {
          "output_type": "stream",
          "name": "stderr",
          "text": [
            "[23:28:49] DEPRECATION WARNING: please use MorganGenerator\n",
            "[23:28:49] DEPRECATION WARNING: please use MorganGenerator\n",
            "[23:28:49] DEPRECATION WARNING: please use MorganGenerator\n"
          ]
        },
        {
          "output_type": "display_data",
          "data": {
            "text/plain": [
              "<IPython.core.display.HTML object>"
            ],
            "text/html": []
          },
          "metadata": {}
        },
        {
          "output_type": "stream",
          "name": "stdout",
          "text": [
            "Number of columns returned by lipinski_rule: 4\n"
          ]
        },
        {
          "output_type": "stream",
          "name": "stderr",
          "text": [
            "[23:28:49] DEPRECATION WARNING: please use MorganGenerator\n",
            "[23:28:49] DEPRECATION WARNING: please use MorganGenerator\n",
            "[23:28:49] DEPRECATION WARNING: please use MorganGenerator\n"
          ]
        },
        {
          "output_type": "display_data",
          "data": {
            "text/plain": [
              "<IPython.core.display.HTML object>"
            ],
            "text/html": []
          },
          "metadata": {}
        },
        {
          "output_type": "stream",
          "name": "stdout",
          "text": [
            "Number of columns returned by lipinski_rule: 4\n"
          ]
        },
        {
          "output_type": "stream",
          "name": "stderr",
          "text": [
            "[23:28:49] DEPRECATION WARNING: please use MorganGenerator\n",
            "[23:28:49] DEPRECATION WARNING: please use MorganGenerator\n",
            "[23:28:49] DEPRECATION WARNING: please use MorganGenerator\n"
          ]
        },
        {
          "output_type": "display_data",
          "data": {
            "text/plain": [
              "<IPython.core.display.HTML object>"
            ],
            "text/html": []
          },
          "metadata": {}
        },
        {
          "output_type": "stream",
          "name": "stdout",
          "text": [
            "Number of columns returned by lipinski_rule: 4\n"
          ]
        },
        {
          "output_type": "stream",
          "name": "stderr",
          "text": [
            "[23:28:50] DEPRECATION WARNING: please use MorganGenerator\n",
            "[23:28:50] DEPRECATION WARNING: please use MorganGenerator\n",
            "[23:28:50] DEPRECATION WARNING: please use MorganGenerator\n"
          ]
        },
        {
          "output_type": "display_data",
          "data": {
            "text/plain": [
              "<IPython.core.display.HTML object>"
            ],
            "text/html": []
          },
          "metadata": {}
        },
        {
          "output_type": "stream",
          "name": "stdout",
          "text": [
            "Number of columns returned by lipinski_rule: 4\n"
          ]
        },
        {
          "output_type": "stream",
          "name": "stderr",
          "text": [
            "[23:28:50] DEPRECATION WARNING: please use MorganGenerator\n",
            "[23:28:50] DEPRECATION WARNING: please use MorganGenerator\n",
            "[23:28:50] DEPRECATION WARNING: please use MorganGenerator\n"
          ]
        },
        {
          "output_type": "display_data",
          "data": {
            "text/plain": [
              "<IPython.core.display.HTML object>"
            ],
            "text/html": []
          },
          "metadata": {}
        },
        {
          "output_type": "stream",
          "name": "stdout",
          "text": [
            "Number of columns returned by lipinski_rule: 4\n"
          ]
        },
        {
          "output_type": "stream",
          "name": "stderr",
          "text": [
            "[23:28:50] DEPRECATION WARNING: please use MorganGenerator\n",
            "[23:28:50] DEPRECATION WARNING: please use MorganGenerator\n",
            "[23:28:50] DEPRECATION WARNING: please use MorganGenerator\n"
          ]
        },
        {
          "output_type": "display_data",
          "data": {
            "text/plain": [
              "<IPython.core.display.HTML object>"
            ],
            "text/html": []
          },
          "metadata": {}
        },
        {
          "output_type": "stream",
          "name": "stdout",
          "text": [
            "Number of columns returned by lipinski_rule: 4\n"
          ]
        },
        {
          "output_type": "stream",
          "name": "stderr",
          "text": [
            "[23:28:51] DEPRECATION WARNING: please use MorganGenerator\n",
            "[23:28:51] DEPRECATION WARNING: please use MorganGenerator\n",
            "[23:28:51] DEPRECATION WARNING: please use MorganGenerator\n"
          ]
        },
        {
          "output_type": "display_data",
          "data": {
            "text/plain": [
              "<IPython.core.display.HTML object>"
            ],
            "text/html": []
          },
          "metadata": {}
        },
        {
          "output_type": "stream",
          "name": "stdout",
          "text": [
            "Number of columns returned by lipinski_rule: 4\n"
          ]
        },
        {
          "output_type": "stream",
          "name": "stderr",
          "text": [
            "[23:28:51] DEPRECATION WARNING: please use MorganGenerator\n",
            "[23:28:51] DEPRECATION WARNING: please use MorganGenerator\n",
            "[23:28:51] DEPRECATION WARNING: please use MorganGenerator\n"
          ]
        },
        {
          "output_type": "display_data",
          "data": {
            "text/plain": [
              "<IPython.core.display.HTML object>"
            ],
            "text/html": []
          },
          "metadata": {}
        },
        {
          "output_type": "stream",
          "name": "stdout",
          "text": [
            "Number of columns returned by lipinski_rule: 4\n"
          ]
        },
        {
          "output_type": "stream",
          "name": "stderr",
          "text": [
            "[23:28:51] DEPRECATION WARNING: please use MorganGenerator\n",
            "[23:28:51] DEPRECATION WARNING: please use MorganGenerator\n",
            "[23:28:51] DEPRECATION WARNING: please use MorganGenerator\n"
          ]
        },
        {
          "output_type": "display_data",
          "data": {
            "text/plain": [
              "<IPython.core.display.HTML object>"
            ],
            "text/html": []
          },
          "metadata": {}
        },
        {
          "output_type": "stream",
          "name": "stdout",
          "text": [
            "Number of columns returned by lipinski_rule: 4\n"
          ]
        },
        {
          "output_type": "stream",
          "name": "stderr",
          "text": [
            "[23:28:52] DEPRECATION WARNING: please use MorganGenerator\n",
            "[23:28:52] DEPRECATION WARNING: please use MorganGenerator\n",
            "[23:28:52] DEPRECATION WARNING: please use MorganGenerator\n"
          ]
        },
        {
          "output_type": "display_data",
          "data": {
            "text/plain": [
              "<IPython.core.display.HTML object>"
            ],
            "text/html": []
          },
          "metadata": {}
        },
        {
          "output_type": "stream",
          "name": "stdout",
          "text": [
            "Number of columns returned by lipinski_rule: 4\n"
          ]
        },
        {
          "output_type": "stream",
          "name": "stderr",
          "text": [
            "[23:28:52] DEPRECATION WARNING: please use MorganGenerator\n",
            "[23:28:52] DEPRECATION WARNING: please use MorganGenerator\n",
            "[23:28:52] DEPRECATION WARNING: please use MorganGenerator\n"
          ]
        },
        {
          "output_type": "display_data",
          "data": {
            "text/plain": [
              "<IPython.core.display.HTML object>"
            ],
            "text/html": []
          },
          "metadata": {}
        },
        {
          "output_type": "stream",
          "name": "stdout",
          "text": [
            "Number of columns returned by lipinski_rule: 4\n"
          ]
        },
        {
          "output_type": "stream",
          "name": "stderr",
          "text": [
            "[23:28:53] DEPRECATION WARNING: please use MorganGenerator\n",
            "[23:28:53] DEPRECATION WARNING: please use MorganGenerator\n",
            "[23:28:53] DEPRECATION WARNING: please use MorganGenerator\n"
          ]
        },
        {
          "output_type": "display_data",
          "data": {
            "text/plain": [
              "<IPython.core.display.HTML object>"
            ],
            "text/html": []
          },
          "metadata": {}
        },
        {
          "output_type": "stream",
          "name": "stdout",
          "text": [
            "Number of columns returned by lipinski_rule: 4\n"
          ]
        },
        {
          "output_type": "stream",
          "name": "stderr",
          "text": [
            "[23:28:53] DEPRECATION WARNING: please use MorganGenerator\n",
            "[23:28:53] DEPRECATION WARNING: please use MorganGenerator\n",
            "[23:28:53] DEPRECATION WARNING: please use MorganGenerator\n"
          ]
        },
        {
          "output_type": "display_data",
          "data": {
            "text/plain": [
              "<IPython.core.display.HTML object>"
            ],
            "text/html": []
          },
          "metadata": {}
        },
        {
          "output_type": "stream",
          "name": "stdout",
          "text": [
            "Number of columns returned by lipinski_rule: 4\n"
          ]
        },
        {
          "output_type": "stream",
          "name": "stderr",
          "text": [
            "[23:28:54] DEPRECATION WARNING: please use MorganGenerator\n",
            "[23:28:54] DEPRECATION WARNING: please use MorganGenerator\n",
            "[23:28:54] DEPRECATION WARNING: please use MorganGenerator\n"
          ]
        },
        {
          "output_type": "display_data",
          "data": {
            "text/plain": [
              "<IPython.core.display.HTML object>"
            ],
            "text/html": []
          },
          "metadata": {}
        },
        {
          "output_type": "stream",
          "name": "stdout",
          "text": [
            "Number of columns returned by lipinski_rule: 4\n"
          ]
        },
        {
          "output_type": "stream",
          "name": "stderr",
          "text": [
            "[23:28:54] DEPRECATION WARNING: please use MorganGenerator\n",
            "[23:28:54] DEPRECATION WARNING: please use MorganGenerator\n",
            "[23:28:54] DEPRECATION WARNING: please use MorganGenerator\n"
          ]
        },
        {
          "output_type": "display_data",
          "data": {
            "text/plain": [
              "<IPython.core.display.HTML object>"
            ],
            "text/html": []
          },
          "metadata": {}
        },
        {
          "output_type": "stream",
          "name": "stdout",
          "text": [
            "Number of columns returned by lipinski_rule: 4\n"
          ]
        },
        {
          "output_type": "stream",
          "name": "stderr",
          "text": [
            "[23:28:55] DEPRECATION WARNING: please use MorganGenerator\n",
            "[23:28:55] DEPRECATION WARNING: please use MorganGenerator\n",
            "[23:28:55] DEPRECATION WARNING: please use MorganGenerator\n"
          ]
        },
        {
          "output_type": "display_data",
          "data": {
            "text/plain": [
              "<IPython.core.display.HTML object>"
            ],
            "text/html": []
          },
          "metadata": {}
        },
        {
          "output_type": "stream",
          "name": "stdout",
          "text": [
            "Number of columns returned by lipinski_rule: 4\n"
          ]
        },
        {
          "output_type": "stream",
          "name": "stderr",
          "text": [
            "[23:28:55] DEPRECATION WARNING: please use MorganGenerator\n",
            "[23:28:55] DEPRECATION WARNING: please use MorganGenerator\n",
            "[23:28:55] DEPRECATION WARNING: please use MorganGenerator\n"
          ]
        },
        {
          "output_type": "display_data",
          "data": {
            "text/plain": [
              "<IPython.core.display.HTML object>"
            ],
            "text/html": []
          },
          "metadata": {}
        },
        {
          "output_type": "stream",
          "name": "stdout",
          "text": [
            "Number of columns returned by lipinski_rule: 4\n"
          ]
        },
        {
          "output_type": "stream",
          "name": "stderr",
          "text": [
            "[23:28:56] DEPRECATION WARNING: please use MorganGenerator\n",
            "[23:28:56] DEPRECATION WARNING: please use MorganGenerator\n",
            "[23:28:56] DEPRECATION WARNING: please use MorganGenerator\n"
          ]
        },
        {
          "output_type": "display_data",
          "data": {
            "text/plain": [
              "<IPython.core.display.HTML object>"
            ],
            "text/html": []
          },
          "metadata": {}
        },
        {
          "output_type": "stream",
          "name": "stdout",
          "text": [
            "Number of columns returned by lipinski_rule: 4\n"
          ]
        },
        {
          "output_type": "stream",
          "name": "stderr",
          "text": [
            "[23:28:56] DEPRECATION WARNING: please use MorganGenerator\n",
            "[23:28:56] DEPRECATION WARNING: please use MorganGenerator\n",
            "[23:28:56] DEPRECATION WARNING: please use MorganGenerator\n"
          ]
        },
        {
          "output_type": "display_data",
          "data": {
            "text/plain": [
              "<IPython.core.display.HTML object>"
            ],
            "text/html": []
          },
          "metadata": {}
        },
        {
          "output_type": "stream",
          "name": "stdout",
          "text": [
            "Number of columns returned by lipinski_rule: 4\n"
          ]
        },
        {
          "output_type": "stream",
          "name": "stderr",
          "text": [
            "[23:28:56] DEPRECATION WARNING: please use MorganGenerator\n",
            "[23:28:56] DEPRECATION WARNING: please use MorganGenerator\n",
            "[23:28:56] DEPRECATION WARNING: please use MorganGenerator\n"
          ]
        },
        {
          "output_type": "display_data",
          "data": {
            "text/plain": [
              "<IPython.core.display.HTML object>"
            ],
            "text/html": []
          },
          "metadata": {}
        },
        {
          "output_type": "stream",
          "name": "stdout",
          "text": [
            "Number of columns returned by lipinski_rule: 4\n"
          ]
        },
        {
          "output_type": "stream",
          "name": "stderr",
          "text": [
            "[23:28:57] DEPRECATION WARNING: please use MorganGenerator\n",
            "[23:28:57] DEPRECATION WARNING: please use MorganGenerator\n",
            "[23:28:57] DEPRECATION WARNING: please use MorganGenerator\n"
          ]
        },
        {
          "output_type": "display_data",
          "data": {
            "text/plain": [
              "<IPython.core.display.HTML object>"
            ],
            "text/html": []
          },
          "metadata": {}
        },
        {
          "output_type": "stream",
          "name": "stdout",
          "text": [
            "Number of columns returned by lipinski_rule: 4\n"
          ]
        },
        {
          "output_type": "stream",
          "name": "stderr",
          "text": [
            "[23:28:57] DEPRECATION WARNING: please use MorganGenerator\n",
            "[23:28:57] DEPRECATION WARNING: please use MorganGenerator\n",
            "[23:28:57] DEPRECATION WARNING: please use MorganGenerator\n"
          ]
        },
        {
          "output_type": "display_data",
          "data": {
            "text/plain": [
              "<IPython.core.display.HTML object>"
            ],
            "text/html": []
          },
          "metadata": {}
        },
        {
          "output_type": "stream",
          "name": "stdout",
          "text": [
            "Number of columns returned by lipinski_rule: 4\n"
          ]
        },
        {
          "output_type": "stream",
          "name": "stderr",
          "text": [
            "[23:28:58] DEPRECATION WARNING: please use MorganGenerator\n",
            "[23:28:58] DEPRECATION WARNING: please use MorganGenerator\n",
            "[23:28:58] DEPRECATION WARNING: please use MorganGenerator\n"
          ]
        },
        {
          "output_type": "display_data",
          "data": {
            "text/plain": [
              "<IPython.core.display.HTML object>"
            ],
            "text/html": []
          },
          "metadata": {}
        },
        {
          "output_type": "stream",
          "name": "stdout",
          "text": [
            "Number of columns returned by lipinski_rule: 4\n"
          ]
        },
        {
          "output_type": "stream",
          "name": "stderr",
          "text": [
            "[23:28:58] DEPRECATION WARNING: please use MorganGenerator\n",
            "[23:28:58] DEPRECATION WARNING: please use MorganGenerator\n",
            "[23:28:58] DEPRECATION WARNING: please use MorganGenerator\n"
          ]
        },
        {
          "output_type": "display_data",
          "data": {
            "text/plain": [
              "<IPython.core.display.HTML object>"
            ],
            "text/html": []
          },
          "metadata": {}
        },
        {
          "output_type": "stream",
          "name": "stdout",
          "text": [
            "Number of columns returned by lipinski_rule: 4\n"
          ]
        },
        {
          "output_type": "stream",
          "name": "stderr",
          "text": [
            "[23:28:58] DEPRECATION WARNING: please use MorganGenerator\n",
            "[23:28:58] DEPRECATION WARNING: please use MorganGenerator\n",
            "[23:28:58] DEPRECATION WARNING: please use MorganGenerator\n"
          ]
        },
        {
          "output_type": "display_data",
          "data": {
            "text/plain": [
              "<IPython.core.display.HTML object>"
            ],
            "text/html": []
          },
          "metadata": {}
        },
        {
          "output_type": "stream",
          "name": "stdout",
          "text": [
            "Number of columns returned by lipinski_rule: 4\n"
          ]
        },
        {
          "output_type": "stream",
          "name": "stderr",
          "text": [
            "[23:28:59] DEPRECATION WARNING: please use MorganGenerator\n",
            "[23:28:59] DEPRECATION WARNING: please use MorganGenerator\n",
            "[23:28:59] DEPRECATION WARNING: please use MorganGenerator\n"
          ]
        },
        {
          "output_type": "display_data",
          "data": {
            "text/plain": [
              "<IPython.core.display.HTML object>"
            ],
            "text/html": []
          },
          "metadata": {}
        },
        {
          "output_type": "stream",
          "name": "stdout",
          "text": [
            "Number of columns returned by lipinski_rule: 4\n"
          ]
        },
        {
          "output_type": "stream",
          "name": "stderr",
          "text": [
            "[23:28:59] DEPRECATION WARNING: please use MorganGenerator\n",
            "[23:28:59] DEPRECATION WARNING: please use MorganGenerator\n",
            "[23:28:59] DEPRECATION WARNING: please use MorganGenerator\n"
          ]
        },
        {
          "output_type": "display_data",
          "data": {
            "text/plain": [
              "<IPython.core.display.HTML object>"
            ],
            "text/html": []
          },
          "metadata": {}
        },
        {
          "output_type": "stream",
          "name": "stdout",
          "text": [
            "Number of columns returned by lipinski_rule: 4\n"
          ]
        },
        {
          "output_type": "stream",
          "name": "stderr",
          "text": [
            "[23:28:59] DEPRECATION WARNING: please use MorganGenerator\n",
            "[23:28:59] DEPRECATION WARNING: please use MorganGenerator\n",
            "[23:28:59] DEPRECATION WARNING: please use MorganGenerator\n"
          ]
        },
        {
          "output_type": "display_data",
          "data": {
            "text/plain": [
              "<IPython.core.display.HTML object>"
            ],
            "text/html": []
          },
          "metadata": {}
        },
        {
          "output_type": "stream",
          "name": "stdout",
          "text": [
            "Number of columns returned by lipinski_rule: 4\n"
          ]
        },
        {
          "output_type": "stream",
          "name": "stderr",
          "text": [
            "[23:29:00] DEPRECATION WARNING: please use MorganGenerator\n",
            "[23:29:00] DEPRECATION WARNING: please use MorganGenerator\n",
            "[23:29:00] DEPRECATION WARNING: please use MorganGenerator\n"
          ]
        },
        {
          "output_type": "display_data",
          "data": {
            "text/plain": [
              "<IPython.core.display.HTML object>"
            ],
            "text/html": []
          },
          "metadata": {}
        },
        {
          "output_type": "stream",
          "name": "stdout",
          "text": [
            "Number of columns returned by lipinski_rule: 4\n"
          ]
        },
        {
          "output_type": "stream",
          "name": "stderr",
          "text": [
            "[23:29:00] DEPRECATION WARNING: please use MorganGenerator\n",
            "[23:29:00] DEPRECATION WARNING: please use MorganGenerator\n",
            "[23:29:00] DEPRECATION WARNING: please use MorganGenerator\n"
          ]
        },
        {
          "output_type": "display_data",
          "data": {
            "text/plain": [
              "<IPython.core.display.HTML object>"
            ],
            "text/html": []
          },
          "metadata": {}
        },
        {
          "output_type": "stream",
          "name": "stdout",
          "text": [
            "Number of columns returned by lipinski_rule: 4\n"
          ]
        },
        {
          "output_type": "stream",
          "name": "stderr",
          "text": [
            "[23:29:00] DEPRECATION WARNING: please use MorganGenerator\n",
            "[23:29:00] DEPRECATION WARNING: please use MorganGenerator\n",
            "[23:29:00] DEPRECATION WARNING: please use MorganGenerator\n"
          ]
        },
        {
          "output_type": "display_data",
          "data": {
            "text/plain": [
              "<IPython.core.display.HTML object>"
            ],
            "text/html": []
          },
          "metadata": {}
        },
        {
          "output_type": "stream",
          "name": "stdout",
          "text": [
            "Number of columns returned by lipinski_rule: 4\n"
          ]
        },
        {
          "output_type": "stream",
          "name": "stderr",
          "text": [
            "[23:29:01] DEPRECATION WARNING: please use MorganGenerator\n",
            "[23:29:01] DEPRECATION WARNING: please use MorganGenerator\n",
            "[23:29:01] DEPRECATION WARNING: please use MorganGenerator\n"
          ]
        },
        {
          "output_type": "display_data",
          "data": {
            "text/plain": [
              "<IPython.core.display.HTML object>"
            ],
            "text/html": []
          },
          "metadata": {}
        },
        {
          "output_type": "stream",
          "name": "stdout",
          "text": [
            "Number of columns returned by lipinski_rule: 4\n"
          ]
        },
        {
          "output_type": "stream",
          "name": "stderr",
          "text": [
            "[23:29:01] DEPRECATION WARNING: please use MorganGenerator\n",
            "[23:29:01] DEPRECATION WARNING: please use MorganGenerator\n",
            "[23:29:01] DEPRECATION WARNING: please use MorganGenerator\n"
          ]
        },
        {
          "output_type": "display_data",
          "data": {
            "text/plain": [
              "<IPython.core.display.HTML object>"
            ],
            "text/html": []
          },
          "metadata": {}
        },
        {
          "output_type": "stream",
          "name": "stdout",
          "text": [
            "Number of columns returned by lipinski_rule: 4\n"
          ]
        },
        {
          "output_type": "stream",
          "name": "stderr",
          "text": [
            "[23:29:01] DEPRECATION WARNING: please use MorganGenerator\n",
            "[23:29:01] DEPRECATION WARNING: please use MorganGenerator\n",
            "[23:29:01] DEPRECATION WARNING: please use MorganGenerator\n"
          ]
        },
        {
          "output_type": "display_data",
          "data": {
            "text/plain": [
              "<IPython.core.display.HTML object>"
            ],
            "text/html": []
          },
          "metadata": {}
        },
        {
          "output_type": "stream",
          "name": "stdout",
          "text": [
            "Number of columns returned by lipinski_rule: 4\n"
          ]
        },
        {
          "output_type": "stream",
          "name": "stderr",
          "text": [
            "[23:29:02] DEPRECATION WARNING: please use MorganGenerator\n",
            "[23:29:02] DEPRECATION WARNING: please use MorganGenerator\n",
            "[23:29:02] DEPRECATION WARNING: please use MorganGenerator\n"
          ]
        },
        {
          "output_type": "display_data",
          "data": {
            "text/plain": [
              "<IPython.core.display.HTML object>"
            ],
            "text/html": []
          },
          "metadata": {}
        },
        {
          "output_type": "stream",
          "name": "stdout",
          "text": [
            "Number of columns returned by lipinski_rule: 4\n"
          ]
        },
        {
          "output_type": "stream",
          "name": "stderr",
          "text": [
            "[23:29:02] DEPRECATION WARNING: please use MorganGenerator\n",
            "[23:29:02] DEPRECATION WARNING: please use MorganGenerator\n",
            "[23:29:02] DEPRECATION WARNING: please use MorganGenerator\n"
          ]
        },
        {
          "output_type": "display_data",
          "data": {
            "text/plain": [
              "<IPython.core.display.HTML object>"
            ],
            "text/html": []
          },
          "metadata": {}
        },
        {
          "output_type": "stream",
          "name": "stdout",
          "text": [
            "Number of columns returned by lipinski_rule: 4\n"
          ]
        },
        {
          "output_type": "stream",
          "name": "stderr",
          "text": [
            "[23:29:03] DEPRECATION WARNING: please use MorganGenerator\n",
            "[23:29:03] DEPRECATION WARNING: please use MorganGenerator\n",
            "[23:29:03] DEPRECATION WARNING: please use MorganGenerator\n"
          ]
        },
        {
          "output_type": "display_data",
          "data": {
            "text/plain": [
              "<IPython.core.display.HTML object>"
            ],
            "text/html": []
          },
          "metadata": {}
        },
        {
          "output_type": "stream",
          "name": "stdout",
          "text": [
            "Number of columns returned by lipinski_rule: 4\n"
          ]
        },
        {
          "output_type": "stream",
          "name": "stderr",
          "text": [
            "[23:29:03] DEPRECATION WARNING: please use MorganGenerator\n",
            "[23:29:03] DEPRECATION WARNING: please use MorganGenerator\n",
            "[23:29:03] DEPRECATION WARNING: please use MorganGenerator\n"
          ]
        },
        {
          "output_type": "display_data",
          "data": {
            "text/plain": [
              "<IPython.core.display.HTML object>"
            ],
            "text/html": []
          },
          "metadata": {}
        },
        {
          "output_type": "stream",
          "name": "stdout",
          "text": [
            "Number of columns returned by lipinski_rule: 4\n"
          ]
        },
        {
          "output_type": "stream",
          "name": "stderr",
          "text": [
            "[23:29:03] DEPRECATION WARNING: please use MorganGenerator\n",
            "[23:29:03] DEPRECATION WARNING: please use MorganGenerator\n",
            "[23:29:03] DEPRECATION WARNING: please use MorganGenerator\n"
          ]
        },
        {
          "output_type": "display_data",
          "data": {
            "text/plain": [
              "<IPython.core.display.HTML object>"
            ],
            "text/html": []
          },
          "metadata": {}
        },
        {
          "output_type": "stream",
          "name": "stdout",
          "text": [
            "Number of columns returned by lipinski_rule: 4\n"
          ]
        },
        {
          "output_type": "stream",
          "name": "stderr",
          "text": [
            "[23:29:04] DEPRECATION WARNING: please use MorganGenerator\n",
            "[23:29:04] DEPRECATION WARNING: please use MorganGenerator\n",
            "[23:29:04] DEPRECATION WARNING: please use MorganGenerator\n"
          ]
        },
        {
          "output_type": "display_data",
          "data": {
            "text/plain": [
              "<IPython.core.display.HTML object>"
            ],
            "text/html": []
          },
          "metadata": {}
        },
        {
          "output_type": "stream",
          "name": "stdout",
          "text": [
            "Number of columns returned by lipinski_rule: 4\n"
          ]
        },
        {
          "output_type": "stream",
          "name": "stderr",
          "text": [
            "[23:29:04] DEPRECATION WARNING: please use MorganGenerator\n",
            "[23:29:04] DEPRECATION WARNING: please use MorganGenerator\n",
            "[23:29:04] DEPRECATION WARNING: please use MorganGenerator\n"
          ]
        },
        {
          "output_type": "display_data",
          "data": {
            "text/plain": [
              "<IPython.core.display.HTML object>"
            ],
            "text/html": []
          },
          "metadata": {}
        },
        {
          "output_type": "stream",
          "name": "stdout",
          "text": [
            "Number of columns returned by lipinski_rule: 4\n"
          ]
        },
        {
          "output_type": "stream",
          "name": "stderr",
          "text": [
            "[23:29:04] DEPRECATION WARNING: please use MorganGenerator\n",
            "[23:29:04] DEPRECATION WARNING: please use MorganGenerator\n",
            "[23:29:04] DEPRECATION WARNING: please use MorganGenerator\n"
          ]
        },
        {
          "output_type": "display_data",
          "data": {
            "text/plain": [
              "<IPython.core.display.HTML object>"
            ],
            "text/html": []
          },
          "metadata": {}
        },
        {
          "output_type": "stream",
          "name": "stdout",
          "text": [
            "Number of columns returned by lipinski_rule: 4\n"
          ]
        },
        {
          "output_type": "stream",
          "name": "stderr",
          "text": [
            "[23:29:05] DEPRECATION WARNING: please use MorganGenerator\n",
            "[23:29:05] DEPRECATION WARNING: please use MorganGenerator\n",
            "[23:29:05] DEPRECATION WARNING: please use MorganGenerator\n"
          ]
        },
        {
          "output_type": "display_data",
          "data": {
            "text/plain": [
              "<IPython.core.display.HTML object>"
            ],
            "text/html": []
          },
          "metadata": {}
        },
        {
          "output_type": "stream",
          "name": "stdout",
          "text": [
            "Number of columns returned by lipinski_rule: 4\n"
          ]
        },
        {
          "output_type": "stream",
          "name": "stderr",
          "text": [
            "[23:29:05] DEPRECATION WARNING: please use MorganGenerator\n",
            "[23:29:05] DEPRECATION WARNING: please use MorganGenerator\n",
            "[23:29:05] DEPRECATION WARNING: please use MorganGenerator\n"
          ]
        },
        {
          "output_type": "display_data",
          "data": {
            "text/plain": [
              "<IPython.core.display.HTML object>"
            ],
            "text/html": []
          },
          "metadata": {}
        },
        {
          "output_type": "stream",
          "name": "stdout",
          "text": [
            "Number of columns returned by lipinski_rule: 4\n"
          ]
        },
        {
          "output_type": "stream",
          "name": "stderr",
          "text": [
            "[23:29:06] DEPRECATION WARNING: please use MorganGenerator\n",
            "[23:29:06] DEPRECATION WARNING: please use MorganGenerator\n",
            "[23:29:06] DEPRECATION WARNING: please use MorganGenerator\n"
          ]
        },
        {
          "output_type": "display_data",
          "data": {
            "text/plain": [
              "<IPython.core.display.HTML object>"
            ],
            "text/html": []
          },
          "metadata": {}
        },
        {
          "output_type": "stream",
          "name": "stdout",
          "text": [
            "Number of columns returned by lipinski_rule: 4\n"
          ]
        },
        {
          "output_type": "stream",
          "name": "stderr",
          "text": [
            "[23:29:06] DEPRECATION WARNING: please use MorganGenerator\n",
            "[23:29:06] DEPRECATION WARNING: please use MorganGenerator\n",
            "[23:29:06] DEPRECATION WARNING: please use MorganGenerator\n"
          ]
        },
        {
          "output_type": "display_data",
          "data": {
            "text/plain": [
              "<IPython.core.display.HTML object>"
            ],
            "text/html": []
          },
          "metadata": {}
        },
        {
          "output_type": "stream",
          "name": "stdout",
          "text": [
            "Number of columns returned by lipinski_rule: 4\n"
          ]
        },
        {
          "output_type": "stream",
          "name": "stderr",
          "text": [
            "[23:29:06] DEPRECATION WARNING: please use MorganGenerator\n",
            "[23:29:06] DEPRECATION WARNING: please use MorganGenerator\n",
            "[23:29:06] DEPRECATION WARNING: please use MorganGenerator\n"
          ]
        },
        {
          "output_type": "display_data",
          "data": {
            "text/plain": [
              "<IPython.core.display.HTML object>"
            ],
            "text/html": []
          },
          "metadata": {}
        },
        {
          "output_type": "stream",
          "name": "stdout",
          "text": [
            "Number of columns returned by lipinski_rule: 4\n"
          ]
        },
        {
          "output_type": "stream",
          "name": "stderr",
          "text": [
            "[23:29:07] DEPRECATION WARNING: please use MorganGenerator\n",
            "[23:29:07] DEPRECATION WARNING: please use MorganGenerator\n",
            "[23:29:07] DEPRECATION WARNING: please use MorganGenerator\n"
          ]
        },
        {
          "output_type": "display_data",
          "data": {
            "text/plain": [
              "<IPython.core.display.HTML object>"
            ],
            "text/html": []
          },
          "metadata": {}
        },
        {
          "output_type": "stream",
          "name": "stdout",
          "text": [
            "Number of columns returned by lipinski_rule: 4\n"
          ]
        },
        {
          "output_type": "stream",
          "name": "stderr",
          "text": [
            "[23:29:07] DEPRECATION WARNING: please use MorganGenerator\n",
            "[23:29:07] DEPRECATION WARNING: please use MorganGenerator\n",
            "[23:29:07] DEPRECATION WARNING: please use MorganGenerator\n"
          ]
        },
        {
          "output_type": "display_data",
          "data": {
            "text/plain": [
              "<IPython.core.display.HTML object>"
            ],
            "text/html": []
          },
          "metadata": {}
        },
        {
          "output_type": "stream",
          "name": "stdout",
          "text": [
            "Number of columns returned by lipinski_rule: 4\n"
          ]
        },
        {
          "output_type": "stream",
          "name": "stderr",
          "text": [
            "[23:29:08] DEPRECATION WARNING: please use MorganGenerator\n",
            "[23:29:08] DEPRECATION WARNING: please use MorganGenerator\n",
            "[23:29:08] DEPRECATION WARNING: please use MorganGenerator\n"
          ]
        },
        {
          "output_type": "display_data",
          "data": {
            "text/plain": [
              "<IPython.core.display.HTML object>"
            ],
            "text/html": []
          },
          "metadata": {}
        },
        {
          "output_type": "stream",
          "name": "stdout",
          "text": [
            "Number of columns returned by lipinski_rule: 4\n"
          ]
        },
        {
          "output_type": "stream",
          "name": "stderr",
          "text": [
            "[23:29:08] DEPRECATION WARNING: please use MorganGenerator\n",
            "[23:29:08] DEPRECATION WARNING: please use MorganGenerator\n",
            "[23:29:08] DEPRECATION WARNING: please use MorganGenerator\n"
          ]
        },
        {
          "output_type": "display_data",
          "data": {
            "text/plain": [
              "<IPython.core.display.HTML object>"
            ],
            "text/html": []
          },
          "metadata": {}
        },
        {
          "output_type": "stream",
          "name": "stdout",
          "text": [
            "Number of columns returned by lipinski_rule: 4\n"
          ]
        },
        {
          "output_type": "stream",
          "name": "stderr",
          "text": [
            "[23:29:09] DEPRECATION WARNING: please use MorganGenerator\n",
            "[23:29:09] DEPRECATION WARNING: please use MorganGenerator\n",
            "[23:29:09] DEPRECATION WARNING: please use MorganGenerator\n"
          ]
        },
        {
          "output_type": "display_data",
          "data": {
            "text/plain": [
              "<IPython.core.display.HTML object>"
            ],
            "text/html": []
          },
          "metadata": {}
        },
        {
          "output_type": "stream",
          "name": "stdout",
          "text": [
            "Number of columns returned by lipinski_rule: 4\n"
          ]
        },
        {
          "output_type": "stream",
          "name": "stderr",
          "text": [
            "[23:29:09] DEPRECATION WARNING: please use MorganGenerator\n",
            "[23:29:09] DEPRECATION WARNING: please use MorganGenerator\n",
            "[23:29:09] DEPRECATION WARNING: please use MorganGenerator\n"
          ]
        },
        {
          "output_type": "display_data",
          "data": {
            "text/plain": [
              "<IPython.core.display.HTML object>"
            ],
            "text/html": []
          },
          "metadata": {}
        },
        {
          "output_type": "stream",
          "name": "stdout",
          "text": [
            "        DRUG_NAME  Predicted_LN_IC50\n",
            "0       Erlotinib           3.155457\n",
            "1       Rapamycin          -0.551228\n",
            "2       Sunitinib           3.972658\n",
            "3      PHA-665752           2.634592\n",
            "4          MG-132           1.190990\n",
            "..            ...                ...\n",
            "235   Refametinib          -1.482596\n",
            "236    Pictilisib           1.060605\n",
            "237  Pevonedistat          -0.047007\n",
            "238         PFI-3           2.611666\n",
            "239      I-CBP112           5.144315\n",
            "\n",
            "[240 rows x 2 columns]\n"
          ]
        }
      ]
    },
    {
      "cell_type": "code",
      "source": [
        "# Convert df_predictions to a Pandas DataFrame (if it isn't already)\n",
        "df_predictions = pd.DataFrame(df_predictions)\n",
        "\n",
        "# Now you can work with df_predictions as a DataFrame\n",
        "print(df_predictions)\n"
      ],
      "metadata": {
        "id": "c-UzCOzuy3r3",
        "outputId": "05d6f247-0d5f-408a-bf2e-139579a86b66",
        "colab": {
          "base_uri": "https://localhost:8080/"
        }
      },
      "execution_count": 67,
      "outputs": [
        {
          "output_type": "stream",
          "name": "stdout",
          "text": [
            "        DRUG_NAME  Predicted_LN_IC50\n",
            "0       Erlotinib           3.155457\n",
            "1       Rapamycin          -0.551228\n",
            "2       Sunitinib           3.972658\n",
            "3      PHA-665752           2.634592\n",
            "4          MG-132           1.190990\n",
            "..            ...                ...\n",
            "235   Refametinib          -1.482596\n",
            "236    Pictilisib           1.060605\n",
            "237  Pevonedistat          -0.047007\n",
            "238         PFI-3           2.611666\n",
            "239      I-CBP112           5.144315\n",
            "\n",
            "[240 rows x 2 columns]\n"
          ]
        }
      ]
    },
    {
      "cell_type": "code",
      "source": [
        "# print this data frame as a CSV file\n",
        "\n",
        "df_predictions.to_csv('predictions.csv', index=False)\n",
        "print(\"DataFrame saved as predictions.csv\")\n"
      ],
      "metadata": {
        "id": "8bDje_MEzSq-",
        "outputId": "533bb5af-5d31-4206-c6c8-be0645431d1e",
        "colab": {
          "base_uri": "https://localhost:8080/"
        }
      },
      "execution_count": 69,
      "outputs": [
        {
          "output_type": "stream",
          "name": "stdout",
          "text": [
            "DataFrame saved as predictions.csv\n"
          ]
        }
      ]
    },
    {
      "cell_type": "code",
      "source": [
        "# Merge df_predictions with df_filtered_2 on 'DRUG_NAME'\n",
        "merged_df = pd.merge(df_predictions, df_filtered_2[['DRUG_NAME', 'LN_IC50']], on='DRUG_NAME', how='left')\n",
        "\n",
        "# Print the merged DataFrame containing 'Predicted_LN_IC50' and 'LN_IC50'\n",
        "print(merged_df[['DRUG_NAME', 'Predicted_LN_IC50', 'LN_IC50']])\n"
      ],
      "metadata": {
        "id": "0lvdpNxt4Pj0",
        "outputId": "43d5117f-6d08-4b92-f64b-fd53fa9a60d7",
        "colab": {
          "base_uri": "https://localhost:8080/"
        }
      },
      "execution_count": 70,
      "outputs": [
        {
          "output_type": "stream",
          "name": "stdout",
          "text": [
            "        DRUG_NAME  Predicted_LN_IC50   LN_IC50\n",
            "0       Erlotinib           3.155457  3.394001\n",
            "1       Rapamycin          -0.551228 -1.113085\n",
            "2       Sunitinib           3.972658  4.013588\n",
            "3      PHA-665752           2.634592  3.092390\n",
            "4          MG-132           1.190990  2.369072\n",
            "..            ...                ...       ...\n",
            "263   Refametinib          -1.482596 -1.542607\n",
            "264    Pictilisib           1.060605  1.439194\n",
            "265  Pevonedistat          -0.047007 -0.809756\n",
            "266         PFI-3           2.611666  5.665698\n",
            "267      I-CBP112           5.144315  5.864130\n",
            "\n",
            "[268 rows x 3 columns]\n"
          ]
        }
      ]
    },
    {
      "cell_type": "code",
      "source": [
        "# prompt: write a code that will make a scatter plot of LN_IC50 column on y axis and Predicted_LN_IC50 column on X axis.\n",
        "#  Also calculate the correlation coefficient.\n",
        "\n",
        "import matplotlib.pyplot as plt\n",
        "import numpy as np\n",
        "\n",
        "# Extract the relevant columns\n",
        "x = merged_df['Predicted_LN_IC50']\n",
        "y = merged_df['LN_IC50']\n",
        "\n",
        "# Calculate the correlation coefficient\n",
        "correlation_coefficient = np.corrcoef(x, y)[0, 1]\n",
        "\n",
        "# Create the scatter plot\n",
        "plt.figure(figsize=(8, 6))\n",
        "plt.scatter(x, y, alpha=0.5)\n",
        "plt.xlabel('Predicted_LN_IC50')\n",
        "plt.ylabel('LN_IC50')\n",
        "plt.title('Scatter Plot of Predicted LN_IC50 vs. LN_IC50')\n",
        "\n",
        "# Add the correlation coefficient to the plot\n",
        "plt.text(0.1, 0.9, f'Correlation: {correlation_coefficient:.2f}', transform=plt.gca().transAxes)\n",
        "\n",
        "plt.show()\n"
      ],
      "metadata": {
        "id": "oDt4at2G5X61",
        "outputId": "01ec0577-3111-436f-d51c-deed4525baab",
        "colab": {
          "base_uri": "https://localhost:8080/",
          "height": 562
        }
      },
      "execution_count": 71,
      "outputs": [
        {
          "output_type": "display_data",
          "data": {
            "text/plain": [
              "<Figure size 800x600 with 1 Axes>"
            ],
            "image/png": "[encoded data removed]"
          },
          "metadata": {}
        }
      ]
    }
  ],
  "metadata": {
    "colab": {
      "provenance": []
    },
    "kernelspec": {
      "display_name": "Python 3",
      "name": "python3"
    },
    "language_info": {
      "name": "python"
    },
    "widgets": {
      "application/vnd.jupyter.widget-state+json": {
        "aad6bb00f3e44137a6bb8393f088fb68": {
          "model_module": "@jupyter-widgets/controls",
          "model_name": "HBoxModel",
          "model_module_version": "1.5.0",
          "state": {
            "_dom_classes": [],
            "_model_module": "@jupyter-widgets/controls",
            "_model_module_version": "1.5.0",
            "_model_name": "HBoxModel",
            "_view_count": null,
            "_view_module": "@jupyter-widgets/controls",
            "_view_module_version": "1.5.0",
            "_view_name": "HBoxView",
            "box_style": "",
            "children": [
              "IPY_MODEL_97998f1bf99b4cb18844d62a3ce3f622",
              "IPY_MODEL_321487c0cc2044b09f583b9e3754f7d2",
              "IPY_MODEL_a2d057243cab407599bc3c5b07ed9e75"
            ],
            "layout": "IPY_MODEL_6ebbde9d5b5d46a89df92e04e1ff4f91"
          }
        },
        "97998f1bf99b4cb18844d62a3ce3f622": {
          "model_module": "@jupyter-widgets/controls",
          "model_name": "HTMLModel",
          "model_module_version": "1.5.0",
          "state": {
            "_dom_classes": [],
            "_model_module": "@jupyter-widgets/controls",
            "_model_module_version": "1.5.0",
            "_model_name": "HTMLModel",
            "_view_count": null,
            "_view_module": "@jupyter-widgets/controls",
            "_view_module_version": "1.5.0",
            "_view_name": "HTMLView",
            "description": "",
            "description_tooltip": null,
            "layout": "IPY_MODEL_587eebf543294c648c9da9d22578f563",
            "placeholder": "​",
            "style": "IPY_MODEL_5e1f8320706d45f2b7c1f3abc3d792cb",
            "value": "Processing: 100%"
          }
        },
        "321487c0cc2044b09f583b9e3754f7d2": {
          "model_module": "@jupyter-widgets/controls",
          "model_name": "FloatProgressModel",
          "model_module_version": "1.5.0",
          "state": {
            "_dom_classes": [],
            "_model_module": "@jupyter-widgets/controls",
            "_model_module_version": "1.5.0",
            "_model_name": "FloatProgressModel",
            "_view_count": null,
            "_view_module": "@jupyter-widgets/controls",
            "_view_module_version": "1.5.0",
            "_view_name": "ProgressView",
            "bar_style": "",
            "description": "",
            "description_tooltip": null,
            "layout": "IPY_MODEL_3d9e0efdf1024c9999abd53191c80ee6",
            "max": 81,
            "min": 0,
            "orientation": "horizontal",
            "style": "IPY_MODEL_9d7e200b36b646509548e9d165d674bb",
            "value": 81
          }
        },
        "a2d057243cab407599bc3c5b07ed9e75": {
          "model_module": "@jupyter-widgets/controls",
          "model_name": "HTMLModel",
          "model_module_version": "1.5.0",
          "state": {
            "_dom_classes": [],
            "_model_module": "@jupyter-widgets/controls",
            "_model_module_version": "1.5.0",
            "_model_name": "HTMLModel",
            "_view_count": null,
            "_view_module": "@jupyter-widgets/controls",
            "_view_module_version": "1.5.0",
            "_view_name": "HTMLView",
            "description": "",
            "description_tooltip": null,
            "layout": "IPY_MODEL_baa0c216ed384d989f66a1729d8d9871",
            "placeholder": "​",
            "style": "IPY_MODEL_91bb8117f6c24b07b26792ca46888d2d",
            "value": " 81/81 [01:17&lt;00:00,  1.18s/it]"
          }
        },
        "6ebbde9d5b5d46a89df92e04e1ff4f91": {
          "model_module": "@jupyter-widgets/base",
          "model_name": "LayoutModel",
          "model_module_version": "1.2.0",
          "state": {
            "_model_module": "@jupyter-widgets/base",
            "_model_module_version": "1.2.0",
            "_model_name": "LayoutModel",
            "_view_count": null,
            "_view_module": "@jupyter-widgets/base",
            "_view_module_version": "1.2.0",
            "_view_name": "LayoutView",
            "align_content": null,
            "align_items": null,
            "align_self": null,
            "border": null,
            "bottom": null,
            "display": null,
            "flex": null,
            "flex_flow": null,
            "grid_area": null,
            "grid_auto_columns": null,
            "grid_auto_flow": null,
            "grid_auto_rows": null,
            "grid_column": null,
            "grid_gap": null,
            "grid_row": null,
            "grid_template_areas": null,
            "grid_template_columns": null,
            "grid_template_rows": null,
            "height": null,
            "justify_content": null,
            "justify_items": null,
            "left": null,
            "margin": null,
            "max_height": null,
            "max_width": null,
            "min_height": null,
            "min_width": null,
            "object_fit": null,
            "object_position": null,
            "order": null,
            "overflow": null,
            "overflow_x": null,
            "overflow_y": null,
            "padding": null,
            "right": null,
            "top": null,
            "visibility": "hidden",
            "width": null
          }
        },
        "587eebf543294c648c9da9d22578f563": {
          "model_module": "@jupyter-widgets/base",
          "model_name": "LayoutModel",
          "model_module_version": "1.2.0",
          "state": {
            "_model_module": "@jupyter-widgets/base",
            "_model_module_version": "1.2.0",
            "_model_name": "LayoutModel",
            "_view_count": null,
            "_view_module": "@jupyter-widgets/base",
            "_view_module_version": "1.2.0",
            "_view_name": "LayoutView",
            "align_content": null,
            "align_items": null,
            "align_self": null,
            "border": null,
            "bottom": null,
            "display": null,
            "flex": null,
            "flex_flow": null,
            "grid_area": null,
            "grid_auto_columns": null,
            "grid_auto_flow": null,
            "grid_auto_rows": null,
            "grid_column": null,
            "grid_gap": null,
            "grid_row": null,
            "grid_template_areas": null,
            "grid_template_columns": null,
            "grid_template_rows": null,
            "height": null,
            "justify_content": null,
            "justify_items": null,
            "left": null,
            "margin": null,
            "max_height": null,
            "max_width": null,
            "min_height": null,
            "min_width": null,
            "object_fit": null,
            "object_position": null,
            "order": null,
            "overflow": null,
            "overflow_x": null,
            "overflow_y": null,
            "padding": null,
            "right": null,
            "top": null,
            "visibility": null,
            "width": null
          }
        },
        "5e1f8320706d45f2b7c1f3abc3d792cb": {
          "model_module": "@jupyter-widgets/controls",
          "model_name": "DescriptionStyleModel",
          "model_module_version": "1.5.0",
          "state": {
            "_model_module": "@jupyter-widgets/controls",
            "_model_module_version": "1.5.0",
            "_model_name": "DescriptionStyleModel",
            "_view_count": null,
            "_view_module": "@jupyter-widgets/base",
            "_view_module_version": "1.2.0",
            "_view_name": "StyleView",
            "description_width": ""
          }
        },
        "3d9e0efdf1024c9999abd53191c80ee6": {
          "model_module": "@jupyter-widgets/base",
          "model_name": "LayoutModel",
          "model_module_version": "1.2.0",
          "state": {
            "_model_module": "@jupyter-widgets/base",
            "_model_module_version": "1.2.0",
            "_model_name": "LayoutModel",
            "_view_count": null,
            "_view_module": "@jupyter-widgets/base",
            "_view_module_version": "1.2.0",
            "_view_name": "LayoutView",
            "align_content": null,
            "align_items": null,
            "align_self": null,
            "border": null,
            "bottom": null,
            "display": null,
            "flex": null,
            "flex_flow": null,
            "grid_area": null,
            "grid_auto_columns": null,
            "grid_auto_flow": null,
            "grid_auto_rows": null,
            "grid_column": null,
            "grid_gap": null,
            "grid_row": null,
            "grid_template_areas": null,
            "grid_template_columns": null,
            "grid_template_rows": null,
            "height": null,
            "justify_content": null,
            "justify_items": null,
            "left": null,
            "margin": null,
            "max_height": null,
            "max_width": null,
            "min_height": null,
            "min_width": null,
            "object_fit": null,
            "object_position": null,
            "order": null,
            "overflow": null,
            "overflow_x": null,
            "overflow_y": null,
            "padding": null,
            "right": null,
            "top": null,
            "visibility": null,
            "width": null
          }
        },
        "9d7e200b36b646509548e9d165d674bb": {
          "model_module": "@jupyter-widgets/controls",
          "model_name": "ProgressStyleModel",
          "model_module_version": "1.5.0",
          "state": {
            "_model_module": "@jupyter-widgets/controls",
            "_model_module_version": "1.5.0",
            "_model_name": "ProgressStyleModel",
            "_view_count": null,
            "_view_module": "@jupyter-widgets/base",
            "_view_module_version": "1.2.0",
            "_view_name": "StyleView",
            "bar_color": null,
            "description_width": ""
          }
        },
        "baa0c216ed384d989f66a1729d8d9871": {
          "model_module": "@jupyter-widgets/base",
          "model_name": "LayoutModel",
          "model_module_version": "1.2.0",
          "state": {
            "_model_module": "@jupyter-widgets/base",
            "_model_module_version": "1.2.0",
            "_model_name": "LayoutModel",
            "_view_count": null,
            "_view_module": "@jupyter-widgets/base",
            "_view_module_version": "1.2.0",
            "_view_name": "LayoutView",
            "align_content": null,
            "align_items": null,
            "align_self": null,
            "border": null,
            "bottom": null,
            "display": null,
            "flex": null,
            "flex_flow": null,
            "grid_area": null,
            "grid_auto_columns": null,
            "grid_auto_flow": null,
            "grid_auto_rows": null,
            "grid_column": null,
            "grid_gap": null,
            "grid_row": null,
            "grid_template_areas": null,
            "grid_template_columns": null,
            "grid_template_rows": null,
            "height": null,
            "justify_content": null,
            "justify_items": null,
            "left": null,
            "margin": null,
            "max_height": null,
            "max_width": null,
            "min_height": null,
            "min_width": null,
            "object_fit": null,
            "object_position": null,
            "order": null,
            "overflow": null,
            "overflow_x": null,
            "overflow_y": null,
            "padding": null,
            "right": null,
            "top": null,
            "visibility": null,
            "width": null
          }
        },
        "91bb8117f6c24b07b26792ca46888d2d": {
          "model_module": "@jupyter-widgets/controls",
          "model_name": "DescriptionStyleModel",
          "model_module_version": "1.5.0",
          "state": {
            "_model_module": "@jupyter-widgets/controls",
            "_model_module_version": "1.5.0",
            "_model_name": "DescriptionStyleModel",
            "_view_count": null,
            "_view_module": "@jupyter-widgets/base",
            "_view_module_version": "1.2.0",
            "_view_name": "StyleView",
            "description_width": ""
          }
        },
        "31c6051b5a6b4824ae1ec15c0ed06a7b": {
          "model_module": "@jupyter-widgets/controls",
          "model_name": "HBoxModel",
          "model_module_version": "1.5.0",
          "state": {
            "_dom_classes": [],
            "_model_module": "@jupyter-widgets/controls",
            "_model_module_version": "1.5.0",
            "_model_name": "HBoxModel",
            "_view_count": null,
            "_view_module": "@jupyter-widgets/controls",
            "_view_module_version": "1.5.0",
            "_view_name": "HBoxView",
            "box_style": "",
            "children": [
              "IPY_MODEL_b62c3a16d4c04760b8eee733efa5293b",
              "IPY_MODEL_0c0dbd52fab8486f971e2012cf213ec3",
              "IPY_MODEL_d1d35a1defae4e3b89550e843f8b63c4"
            ],
            "layout": "IPY_MODEL_d355a19dc22e4639a66d3300cf5faf68"
          }
        },
        "b62c3a16d4c04760b8eee733efa5293b": {
          "model_module": "@jupyter-widgets/controls",
          "model_name": "HTMLModel",
          "model_module_version": "1.5.0",
          "state": {
            "_dom_classes": [],
            "_model_module": "@jupyter-widgets/controls",
            "_model_module_version": "1.5.0",
            "_model_name": "HTMLModel",
            "_view_count": null,
            "_view_module": "@jupyter-widgets/controls",
            "_view_module_version": "1.5.0",
            "_view_name": "HTMLView",
            "description": "",
            "description_tooltip": null,
            "layout": "IPY_MODEL_9caaeefbf5714412b4ecf48f802d5d5f",
            "placeholder": "​",
            "style": "IPY_MODEL_ac19719851f64c1180655655399ba6a0",
            "value": "Processing: 100%"
          }
        },
        "0c0dbd52fab8486f971e2012cf213ec3": {
          "model_module": "@jupyter-widgets/controls",
          "model_name": "FloatProgressModel",
          "model_module_version": "1.5.0",
          "state": {
            "_dom_classes": [],
            "_model_module": "@jupyter-widgets/controls",
            "_model_module_version": "1.5.0",
            "_model_name": "FloatProgressModel",
            "_view_count": null,
            "_view_module": "@jupyter-widgets/controls",
            "_view_module_version": "1.5.0",
            "_view_name": "ProgressView",
            "bar_style": "",
            "description": "",
            "description_tooltip": null,
            "layout": "IPY_MODEL_bb94d966952c486eb0c68d7ef7b19699",
            "max": 4,
            "min": 0,
            "orientation": "horizontal",
            "style": "IPY_MODEL_e8c714962e08499cbcecb8bd2dcc59a2",
            "value": 4
          }
        },
        "d1d35a1defae4e3b89550e843f8b63c4": {
          "model_module": "@jupyter-widgets/controls",
          "model_name": "HTMLModel",
          "model_module_version": "1.5.0",
          "state": {
            "_dom_classes": [],
            "_model_module": "@jupyter-widgets/controls",
            "_model_module_version": "1.5.0",
            "_model_name": "HTMLModel",
            "_view_count": null,
            "_view_module": "@jupyter-widgets/controls",
            "_view_module_version": "1.5.0",
            "_view_name": "HTMLView",
            "description": "",
            "description_tooltip": null,
            "layout": "IPY_MODEL_cc5381e6b7e24e4598b3e0c43f0ad17f",
            "placeholder": "​",
            "style": "IPY_MODEL_357a3ece2b7f4649a52bf70f53078192",
            "value": " 4/4 [00:06&lt;00:00,  1.57s/it]"
          }
        },
        "d355a19dc22e4639a66d3300cf5faf68": {
          "model_module": "@jupyter-widgets/base",
          "model_name": "LayoutModel",
          "model_module_version": "1.2.0",
          "state": {
            "_model_module": "@jupyter-widgets/base",
            "_model_module_version": "1.2.0",
            "_model_name": "LayoutModel",
            "_view_count": null,
            "_view_module": "@jupyter-widgets/base",
            "_view_module_version": "1.2.0",
            "_view_name": "LayoutView",
            "align_content": null,
            "align_items": null,
            "align_self": null,
            "border": null,
            "bottom": null,
            "display": null,
            "flex": null,
            "flex_flow": null,
            "grid_area": null,
            "grid_auto_columns": null,
            "grid_auto_flow": null,
            "grid_auto_rows": null,
            "grid_column": null,
            "grid_gap": null,
            "grid_row": null,
            "grid_template_areas": null,
            "grid_template_columns": null,
            "grid_template_rows": null,
            "height": null,
            "justify_content": null,
            "justify_items": null,
            "left": null,
            "margin": null,
            "max_height": null,
            "max_width": null,
            "min_height": null,
            "min_width": null,
            "object_fit": null,
            "object_position": null,
            "order": null,
            "overflow": null,
            "overflow_x": null,
            "overflow_y": null,
            "padding": null,
            "right": null,
            "top": null,
            "visibility": "hidden",
            "width": null
          }
        },
        "9caaeefbf5714412b4ecf48f802d5d5f": {
          "model_module": "@jupyter-widgets/base",
          "model_name": "LayoutModel",
          "model_module_version": "1.2.0",
          "state": {
            "_model_module": "@jupyter-widgets/base",
            "_model_module_version": "1.2.0",
            "_model_name": "LayoutModel",
            "_view_count": null,
            "_view_module": "@jupyter-widgets/base",
            "_view_module_version": "1.2.0",
            "_view_name": "LayoutView",
            "align_content": null,
            "align_items": null,
            "align_self": null,
            "border": null,
            "bottom": null,
            "display": null,
            "flex": null,
            "flex_flow": null,
            "grid_area": null,
            "grid_auto_columns": null,
            "grid_auto_flow": null,
            "grid_auto_rows": null,
            "grid_column": null,
            "grid_gap": null,
            "grid_row": null,
            "grid_template_areas": null,
            "grid_template_columns": null,
            "grid_template_rows": null,
            "height": null,
            "justify_content": null,
            "justify_items": null,
            "left": null,
            "margin": null,
            "max_height": null,
            "max_width": null,
            "min_height": null,
            "min_width": null,
            "object_fit": null,
            "object_position": null,
            "order": null,
            "overflow": null,
            "overflow_x": null,
            "overflow_y": null,
            "padding": null,
            "right": null,
            "top": null,
            "visibility": null,
            "width": null
          }
        },
        "ac19719851f64c1180655655399ba6a0": {
          "model_module": "@jupyter-widgets/controls",
          "model_name": "DescriptionStyleModel",
          "model_module_version": "1.5.0",
          "state": {
            "_model_module": "@jupyter-widgets/controls",
            "_model_module_version": "1.5.0",
            "_model_name": "DescriptionStyleModel",
            "_view_count": null,
            "_view_module": "@jupyter-widgets/base",
            "_view_module_version": "1.2.0",
            "_view_name": "StyleView",
            "description_width": ""
          }
        },
        "bb94d966952c486eb0c68d7ef7b19699": {
          "model_module": "@jupyter-widgets/base",
          "model_name": "LayoutModel",
          "model_module_version": "1.2.0",
          "state": {
            "_model_module": "@jupyter-widgets/base",
            "_model_module_version": "1.2.0",
            "_model_name": "LayoutModel",
            "_view_count": null,
            "_view_module": "@jupyter-widgets/base",
            "_view_module_version": "1.2.0",
            "_view_name": "LayoutView",
            "align_content": null,
            "align_items": null,
            "align_self": null,
            "border": null,
            "bottom": null,
            "display": null,
            "flex": null,
            "flex_flow": null,
            "grid_area": null,
            "grid_auto_columns": null,
            "grid_auto_flow": null,
            "grid_auto_rows": null,
            "grid_column": null,
            "grid_gap": null,
            "grid_row": null,
            "grid_template_areas": null,
            "grid_template_columns": null,
            "grid_template_rows": null,
            "height": null,
            "justify_content": null,
            "justify_items": null,
            "left": null,
            "margin": null,
            "max_height": null,
            "max_width": null,
            "min_height": null,
            "min_width": null,
            "object_fit": null,
            "object_position": null,
            "order": null,
            "overflow": null,
            "overflow_x": null,
            "overflow_y": null,
            "padding": null,
            "right": null,
            "top": null,
            "visibility": null,
            "width": null
          }
        },
        "e8c714962e08499cbcecb8bd2dcc59a2": {
          "model_module": "@jupyter-widgets/controls",
          "model_name": "ProgressStyleModel",
          "model_module_version": "1.5.0",
          "state": {
            "_model_module": "@jupyter-widgets/controls",
            "_model_module_version": "1.5.0",
            "_model_name": "ProgressStyleModel",
            "_view_count": null,
            "_view_module": "@jupyter-widgets/base",
            "_view_module_version": "1.2.0",
            "_view_name": "StyleView",
            "bar_color": null,
            "description_width": ""
          }
        },
        "cc5381e6b7e24e4598b3e0c43f0ad17f": {
          "model_module": "@jupyter-widgets/base",
          "model_name": "LayoutModel",
          "model_module_version": "1.2.0",
          "state": {
            "_model_module": "@jupyter-widgets/base",
            "_model_module_version": "1.2.0",
            "_model_name": "LayoutModel",
            "_view_count": null,
            "_view_module": "@jupyter-widgets/base",
            "_view_module_version": "1.2.0",
            "_view_name": "LayoutView",
            "align_content": null,
            "align_items": null,
            "align_self": null,
            "border": null,
            "bottom": null,
            "display": null,
            "flex": null,
            "flex_flow": null,
            "grid_area": null,
            "grid_auto_columns": null,
            "grid_auto_flow": null,
            "grid_auto_rows": null,
            "grid_column": null,
            "grid_gap": null,
            "grid_row": null,
            "grid_template_areas": null,
            "grid_template_columns": null,
            "grid_template_rows": null,
            "height": null,
            "justify_content": null,
            "justify_items": null,
            "left": null,
            "margin": null,
            "max_height": null,
            "max_width": null,
            "min_height": null,
            "min_width": null,
            "object_fit": null,
            "object_position": null,
            "order": null,
            "overflow": null,
            "overflow_x": null,
            "overflow_y": null,
            "padding": null,
            "right": null,
            "top": null,
            "visibility": null,
            "width": null
          }
        },
        "357a3ece2b7f4649a52bf70f53078192": {
          "model_module": "@jupyter-widgets/controls",
          "model_name": "DescriptionStyleModel",
          "model_module_version": "1.5.0",
          "state": {
            "_model_module": "@jupyter-widgets/controls",
            "_model_module_version": "1.5.0",
            "_model_name": "DescriptionStyleModel",
            "_view_count": null,
            "_view_module": "@jupyter-widgets/base",
            "_view_module_version": "1.2.0",
            "_view_name": "StyleView",
            "description_width": ""
          }
        },
        "282ca50dbe0841c2a3736001be3897a5": {
          "model_module": "@jupyter-widgets/controls",
          "model_name": "HBoxModel",
          "model_module_version": "1.5.0",
          "state": {
            "_dom_classes": [],
            "_model_module": "@jupyter-widgets/controls",
            "_model_module_version": "1.5.0",
            "_model_name": "HBoxModel",
            "_view_count": null,
            "_view_module": "@jupyter-widgets/controls",
            "_view_module_version": "1.5.0",
            "_view_name": "HBoxView",
            "box_style": "",
            "children": [
              "IPY_MODEL_e03788ea4cd94be8a3e28ccda7a0dfeb",
              "IPY_MODEL_501d29794f2643fd9e8ad3a08db3a763",
              "IPY_MODEL_507d767684f74b36a71ae98a60dec38f"
            ],
            "layout": "IPY_MODEL_8b0de5e1304d45b8843abdfa07be4c19"
          }
        },
        "e03788ea4cd94be8a3e28ccda7a0dfeb": {
          "model_module": "@jupyter-widgets/controls",
          "model_name": "HTMLModel",
          "model_module_version": "1.5.0",
          "state": {
            "_dom_classes": [],
            "_model_module": "@jupyter-widgets/controls",
            "_model_module_version": "1.5.0",
            "_model_name": "HTMLModel",
            "_view_count": null,
            "_view_module": "@jupyter-widgets/controls",
            "_view_module_version": "1.5.0",
            "_view_name": "HTMLView",
            "description": "",
            "description_tooltip": null,
            "layout": "IPY_MODEL_7408c1f97b4345f8a0d4df751a746877",
            "placeholder": "​",
            "style": "IPY_MODEL_a74ca3554dfc41ffa2a6a273fbe8d38f",
            "value": "Processing: 100%"
          }
        },
        "501d29794f2643fd9e8ad3a08db3a763": {
          "model_module": "@jupyter-widgets/controls",
          "model_name": "FloatProgressModel",
          "model_module_version": "1.5.0",
          "state": {
            "_dom_classes": [],
            "_model_module": "@jupyter-widgets/controls",
            "_model_module_version": "1.5.0",
            "_model_name": "FloatProgressModel",
            "_view_count": null,
            "_view_module": "@jupyter-widgets/controls",
            "_view_module_version": "1.5.0",
            "_view_name": "ProgressView",
            "bar_style": "",
            "description": "",
            "description_tooltip": null,
            "layout": "IPY_MODEL_db8daac0acc64431b42ffb0a1ca0aa57",
            "max": 7,
            "min": 0,
            "orientation": "horizontal",
            "style": "IPY_MODEL_63a628c60a974d0eaf7f74c636884b76",
            "value": 7
          }
        },
        "507d767684f74b36a71ae98a60dec38f": {
          "model_module": "@jupyter-widgets/controls",
          "model_name": "HTMLModel",
          "model_module_version": "1.5.0",
          "state": {
            "_dom_classes": [],
            "_model_module": "@jupyter-widgets/controls",
            "_model_module_version": "1.5.0",
            "_model_name": "HTMLModel",
            "_view_count": null,
            "_view_module": "@jupyter-widgets/controls",
            "_view_module_version": "1.5.0",
            "_view_name": "HTMLView",
            "description": "",
            "description_tooltip": null,
            "layout": "IPY_MODEL_5a5d814ce6004282b0955c38fbc7a99d",
            "placeholder": "​",
            "style": "IPY_MODEL_dbbd53d7ea8b43a7bd765f1bbcdba767",
            "value": " 7/7 [04:10&lt;00:00, 27.03s/it]"
          }
        },
        "8b0de5e1304d45b8843abdfa07be4c19": {
          "model_module": "@jupyter-widgets/base",
          "model_name": "LayoutModel",
          "model_module_version": "1.2.0",
          "state": {
            "_model_module": "@jupyter-widgets/base",
            "_model_module_version": "1.2.0",
            "_model_name": "LayoutModel",
            "_view_count": null,
            "_view_module": "@jupyter-widgets/base",
            "_view_module_version": "1.2.0",
            "_view_name": "LayoutView",
            "align_content": null,
            "align_items": null,
            "align_self": null,
            "border": null,
            "bottom": null,
            "display": null,
            "flex": null,
            "flex_flow": null,
            "grid_area": null,
            "grid_auto_columns": null,
            "grid_auto_flow": null,
            "grid_auto_rows": null,
            "grid_column": null,
            "grid_gap": null,
            "grid_row": null,
            "grid_template_areas": null,
            "grid_template_columns": null,
            "grid_template_rows": null,
            "height": null,
            "justify_content": null,
            "justify_items": null,
            "left": null,
            "margin": null,
            "max_height": null,
            "max_width": null,
            "min_height": null,
            "min_width": null,
            "object_fit": null,
            "object_position": null,
            "order": null,
            "overflow": null,
            "overflow_x": null,
            "overflow_y": null,
            "padding": null,
            "right": null,
            "top": null,
            "visibility": "hidden",
            "width": null
          }
        },
        "7408c1f97b4345f8a0d4df751a746877": {
          "model_module": "@jupyter-widgets/base",
          "model_name": "LayoutModel",
          "model_module_version": "1.2.0",
          "state": {
            "_model_module": "@jupyter-widgets/base",
            "_model_module_version": "1.2.0",
            "_model_name": "LayoutModel",
            "_view_count": null,
            "_view_module": "@jupyter-widgets/base",
            "_view_module_version": "1.2.0",
            "_view_name": "LayoutView",
            "align_content": null,
            "align_items": null,
            "align_self": null,
            "border": null,
            "bottom": null,
            "display": null,
            "flex": null,
            "flex_flow": null,
            "grid_area": null,
            "grid_auto_columns": null,
            "grid_auto_flow": null,
            "grid_auto_rows": null,
            "grid_column": null,
            "grid_gap": null,
            "grid_row": null,
            "grid_template_areas": null,
            "grid_template_columns": null,
            "grid_template_rows": null,
            "height": null,
            "justify_content": null,
            "justify_items": null,
            "left": null,
            "margin": null,
            "max_height": null,
            "max_width": null,
            "min_height": null,
            "min_width": null,
            "object_fit": null,
            "object_position": null,
            "order": null,
            "overflow": null,
            "overflow_x": null,
            "overflow_y": null,
            "padding": null,
            "right": null,
            "top": null,
            "visibility": null,
            "width": null
          }
        },
        "a74ca3554dfc41ffa2a6a273fbe8d38f": {
          "model_module": "@jupyter-widgets/controls",
          "model_name": "DescriptionStyleModel",
          "model_module_version": "1.5.0",
          "state": {
            "_model_module": "@jupyter-widgets/controls",
            "_model_module_version": "1.5.0",
            "_model_name": "DescriptionStyleModel",
            "_view_count": null,
            "_view_module": "@jupyter-widgets/base",
            "_view_module_version": "1.2.0",
            "_view_name": "StyleView",
            "description_width": ""
          }
        },
        "db8daac0acc64431b42ffb0a1ca0aa57": {
          "model_module": "@jupyter-widgets/base",
          "model_name": "LayoutModel",
          "model_module_version": "1.2.0",
          "state": {
            "_model_module": "@jupyter-widgets/base",
            "_model_module_version": "1.2.0",
            "_model_name": "LayoutModel",
            "_view_count": null,
            "_view_module": "@jupyter-widgets/base",
            "_view_module_version": "1.2.0",
            "_view_name": "LayoutView",
            "align_content": null,
            "align_items": null,
            "align_self": null,
            "border": null,
            "bottom": null,
            "display": null,
            "flex": null,
            "flex_flow": null,
            "grid_area": null,
            "grid_auto_columns": null,
            "grid_auto_flow": null,
            "grid_auto_rows": null,
            "grid_column": null,
            "grid_gap": null,
            "grid_row": null,
            "grid_template_areas": null,
            "grid_template_columns": null,
            "grid_template_rows": null,
            "height": null,
            "justify_content": null,
            "justify_items": null,
            "left": null,
            "margin": null,
            "max_height": null,
            "max_width": null,
            "min_height": null,
            "min_width": null,
            "object_fit": null,
            "object_position": null,
            "order": null,
            "overflow": null,
            "overflow_x": null,
            "overflow_y": null,
            "padding": null,
            "right": null,
            "top": null,
            "visibility": null,
            "width": null
          }
        },
        "63a628c60a974d0eaf7f74c636884b76": {
          "model_module": "@jupyter-widgets/controls",
          "model_name": "ProgressStyleModel",
          "model_module_version": "1.5.0",
          "state": {
            "_model_module": "@jupyter-widgets/controls",
            "_model_module_version": "1.5.0",
            "_model_name": "ProgressStyleModel",
            "_view_count": null,
            "_view_module": "@jupyter-widgets/base",
            "_view_module_version": "1.2.0",
            "_view_name": "StyleView",
            "bar_color": null,
            "description_width": ""
          }
        },
        "5a5d814ce6004282b0955c38fbc7a99d": {
          "model_module": "@jupyter-widgets/base",
          "model_name": "LayoutModel",
          "model_module_version": "1.2.0",
          "state": {
            "_model_module": "@jupyter-widgets/base",
            "_model_module_version": "1.2.0",
            "_model_name": "LayoutModel",
            "_view_count": null,
            "_view_module": "@jupyter-widgets/base",
            "_view_module_version": "1.2.0",
            "_view_name": "LayoutView",
            "align_content": null,
            "align_items": null,
            "align_self": null,
            "border": null,
            "bottom": null,
            "display": null,
            "flex": null,
            "flex_flow": null,
            "grid_area": null,
            "grid_auto_columns": null,
            "grid_auto_flow": null,
            "grid_auto_rows": null,
            "grid_column": null,
            "grid_gap": null,
            "grid_row": null,
            "grid_template_areas": null,
            "grid_template_columns": null,
            "grid_template_rows": null,
            "height": null,
            "justify_content": null,
            "justify_items": null,
            "left": null,
            "margin": null,
            "max_height": null,
            "max_width": null,
            "min_height": null,
            "min_width": null,
            "object_fit": null,
            "object_position": null,
            "order": null,
            "overflow": null,
            "overflow_x": null,
            "overflow_y": null,
            "padding": null,
            "right": null,
            "top": null,
            "visibility": null,
            "width": null
          }
        },
        "dbbd53d7ea8b43a7bd765f1bbcdba767": {
          "model_module": "@jupyter-widgets/controls",
          "model_name": "DescriptionStyleModel",
          "model_module_version": "1.5.0",
          "state": {
            "_model_module": "@jupyter-widgets/controls",
            "_model_module_version": "1.5.0",
            "_model_name": "DescriptionStyleModel",
            "_view_count": null,
            "_view_module": "@jupyter-widgets/base",
            "_view_module_version": "1.2.0",
            "_view_name": "StyleView",
            "description_width": ""
          }
        }
      }
    }
  },
  "nbformat": 4,
  "nbformat_minor": 0
}